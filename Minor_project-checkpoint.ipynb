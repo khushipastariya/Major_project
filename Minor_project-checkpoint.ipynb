{
 "cells": [
  {
   "cell_type": "markdown",
   "id": "394cc895",
   "metadata": {},
   "source": [
    "# Importing Libraries\n"
   ]
  },
  {
   "cell_type": "code",
   "execution_count": 85,
   "id": "e2ffc324",
   "metadata": {},
   "outputs": [],
   "source": [
    "import pandas as pd;\n",
    "import numpy as np;"
   ]
  },
  {
   "cell_type": "code",
   "execution_count": 86,
   "id": "c6b92fbc",
   "metadata": {},
   "outputs": [],
   "source": [
    "ds_1=pd.read_csv('city_day.csv');"
   ]
  },
  {
   "cell_type": "code",
   "execution_count": 87,
   "id": "34665ec1",
   "metadata": {},
   "outputs": [
    {
     "name": "stdout",
     "output_type": "stream",
     "text": [
      "                City        Date  PM2.5   PM10     NO    NO2    NOx    NH3  \\\n",
      "0          Ahmedabad  2015-01-01    NaN    NaN   0.92  18.22  17.15    NaN   \n",
      "1          Ahmedabad  2015-01-02    NaN    NaN   0.97  15.69  16.46    NaN   \n",
      "2          Ahmedabad  2015-01-03    NaN    NaN  17.40  19.30  29.70    NaN   \n",
      "3          Ahmedabad  2015-01-04    NaN    NaN   1.70  18.48  17.97    NaN   \n",
      "4          Ahmedabad  2015-01-05    NaN    NaN  22.10  21.42  37.76    NaN   \n",
      "...              ...         ...    ...    ...    ...    ...    ...    ...   \n",
      "29526  Visakhapatnam  2020-06-27  15.02  50.94   7.68  25.06  19.54  12.47   \n",
      "29527  Visakhapatnam  2020-06-28  24.38  74.09   3.42  26.06  16.53  11.99   \n",
      "29528  Visakhapatnam  2020-06-29  22.91  65.73   3.45  29.53  18.33  10.71   \n",
      "29529  Visakhapatnam  2020-06-30  16.64  49.97   4.05  29.26  18.80  10.03   \n",
      "29530  Visakhapatnam  2020-07-01  15.00  66.00   0.40  26.85  14.05   5.20   \n",
      "\n",
      "          CO    SO2      O3  Benzene  Toluene  Xylene   AQI    AQI_Bucket  \n",
      "0       0.92  27.64  133.36     0.00     0.02    0.00   NaN           NaN  \n",
      "1       0.97  24.55   34.06     3.68     5.50    3.77   NaN           NaN  \n",
      "2      17.40  29.07   30.70     6.80    16.40    2.25   NaN           NaN  \n",
      "3       1.70  18.59   36.08     4.43    10.14    1.00   NaN           NaN  \n",
      "4      22.10  39.33   39.31     7.01    18.89    2.78   NaN           NaN  \n",
      "...      ...    ...     ...      ...      ...     ...   ...           ...  \n",
      "29526   0.47   8.55   23.30     2.24    12.07    0.73  41.0          Good  \n",
      "29527   0.52  12.72   30.14     0.74     2.21    0.38  70.0  Satisfactory  \n",
      "29528   0.48   8.42   30.96     0.01     0.01    0.00  68.0  Satisfactory  \n",
      "29529   0.52   9.84   28.30     0.00     0.00    0.00  54.0  Satisfactory  \n",
      "29530   0.59   2.10   17.05      NaN      NaN     NaN  50.0          Good  \n",
      "\n",
      "[29531 rows x 16 columns]\n"
     ]
    }
   ],
   "source": [
    "print(ds_1);\n",
    "\n"
   ]
  },
  {
   "cell_type": "code",
   "execution_count": 147,
   "id": "d5198920",
   "metadata": {},
   "outputs": [],
   "source": [
    "new_df = pd.concat([ds_1.iloc[:,0:2],ds_1.iloc[:,-2:]],axis = 1)\n",
    "\n",
    "new_df = new_df[new_df['City'] == 'Delhi']"
   ]
  },
  {
   "cell_type": "code",
   "execution_count": 148,
   "id": "12ba369c",
   "metadata": {},
   "outputs": [],
   "source": [
    "new_df['Date'] = pd.to_datetime(new_df['Date'])"
   ]
  },
  {
   "cell_type": "code",
   "execution_count": 149,
   "id": "963a1736",
   "metadata": {},
   "outputs": [],
   "source": [
    "new_df['Year'] = new_df['Date'].dt.year"
   ]
  },
  {
   "cell_type": "code",
   "execution_count": 150,
   "id": "b573c05b",
   "metadata": {},
   "outputs": [],
   "source": [
    "new_df = new_df.set_index(['Year'])"
   ]
  },
  {
   "cell_type": "code",
   "execution_count": 153,
   "id": "92ce2e08",
   "metadata": {},
   "outputs": [
    {
     "data": {
      "text/html": [
       "<div>\n",
       "<style scoped>\n",
       "    .dataframe tbody tr th:only-of-type {\n",
       "        vertical-align: middle;\n",
       "    }\n",
       "\n",
       "    .dataframe tbody tr th {\n",
       "        vertical-align: top;\n",
       "    }\n",
       "\n",
       "    .dataframe thead th {\n",
       "        text-align: right;\n",
       "    }\n",
       "</style>\n",
       "<table border=\"1\" class=\"dataframe\">\n",
       "  <thead>\n",
       "    <tr style=\"text-align: right;\">\n",
       "      <th></th>\n",
       "      <th>City</th>\n",
       "      <th>Date</th>\n",
       "      <th>AQI</th>\n",
       "      <th>AQI_Bucket</th>\n",
       "    </tr>\n",
       "    <tr>\n",
       "      <th>Year</th>\n",
       "      <th></th>\n",
       "      <th></th>\n",
       "      <th></th>\n",
       "      <th></th>\n",
       "    </tr>\n",
       "  </thead>\n",
       "  <tbody>\n",
       "    <tr>\n",
       "      <th>2017</th>\n",
       "      <td>Delhi</td>\n",
       "      <td>2017-01-01</td>\n",
       "      <td>332.0</td>\n",
       "      <td>Very Poor</td>\n",
       "    </tr>\n",
       "    <tr>\n",
       "      <th>2017</th>\n",
       "      <td>Delhi</td>\n",
       "      <td>2017-01-02</td>\n",
       "      <td>384.0</td>\n",
       "      <td>Very Poor</td>\n",
       "    </tr>\n",
       "    <tr>\n",
       "      <th>2017</th>\n",
       "      <td>Delhi</td>\n",
       "      <td>2017-01-03</td>\n",
       "      <td>373.0</td>\n",
       "      <td>Very Poor</td>\n",
       "    </tr>\n",
       "    <tr>\n",
       "      <th>2017</th>\n",
       "      <td>Delhi</td>\n",
       "      <td>2017-01-04</td>\n",
       "      <td>439.0</td>\n",
       "      <td>Severe</td>\n",
       "    </tr>\n",
       "    <tr>\n",
       "      <th>2017</th>\n",
       "      <td>Delhi</td>\n",
       "      <td>2017-01-05</td>\n",
       "      <td>318.0</td>\n",
       "      <td>Very Poor</td>\n",
       "    </tr>\n",
       "    <tr>\n",
       "      <th>...</th>\n",
       "      <td>...</td>\n",
       "      <td>...</td>\n",
       "      <td>...</td>\n",
       "      <td>...</td>\n",
       "    </tr>\n",
       "    <tr>\n",
       "      <th>2017</th>\n",
       "      <td>Delhi</td>\n",
       "      <td>2017-12-27</td>\n",
       "      <td>379.0</td>\n",
       "      <td>Very Poor</td>\n",
       "    </tr>\n",
       "    <tr>\n",
       "      <th>2017</th>\n",
       "      <td>Delhi</td>\n",
       "      <td>2017-12-28</td>\n",
       "      <td>398.0</td>\n",
       "      <td>Very Poor</td>\n",
       "    </tr>\n",
       "    <tr>\n",
       "      <th>2017</th>\n",
       "      <td>Delhi</td>\n",
       "      <td>2017-12-29</td>\n",
       "      <td>399.0</td>\n",
       "      <td>Very Poor</td>\n",
       "    </tr>\n",
       "    <tr>\n",
       "      <th>2017</th>\n",
       "      <td>Delhi</td>\n",
       "      <td>2017-12-30</td>\n",
       "      <td>421.0</td>\n",
       "      <td>Severe</td>\n",
       "    </tr>\n",
       "    <tr>\n",
       "      <th>2017</th>\n",
       "      <td>Delhi</td>\n",
       "      <td>2017-12-31</td>\n",
       "      <td>451.0</td>\n",
       "      <td>Severe</td>\n",
       "    </tr>\n",
       "  </tbody>\n",
       "</table>\n",
       "<p>365 rows × 4 columns</p>\n",
       "</div>"
      ],
      "text/plain": [
       "       City       Date    AQI AQI_Bucket\n",
       "Year                                    \n",
       "2017  Delhi 2017-01-01  332.0  Very Poor\n",
       "2017  Delhi 2017-01-02  384.0  Very Poor\n",
       "2017  Delhi 2017-01-03  373.0  Very Poor\n",
       "2017  Delhi 2017-01-04  439.0     Severe\n",
       "2017  Delhi 2017-01-05  318.0  Very Poor\n",
       "...     ...        ...    ...        ...\n",
       "2017  Delhi 2017-12-27  379.0  Very Poor\n",
       "2017  Delhi 2017-12-28  398.0  Very Poor\n",
       "2017  Delhi 2017-12-29  399.0  Very Poor\n",
       "2017  Delhi 2017-12-30  421.0     Severe\n",
       "2017  Delhi 2017-12-31  451.0     Severe\n",
       "\n",
       "[365 rows x 4 columns]"
      ]
     },
     "execution_count": 153,
     "metadata": {},
     "output_type": "execute_result"
    }
   ],
   "source": [
    "new_df.loc['2017']"
   ]
  },
  {
   "cell_type": "code",
   "execution_count": null,
   "id": "694c5292",
   "metadata": {},
   "outputs": [],
   "source": []
  },
  {
   "cell_type": "code",
   "execution_count": null,
   "id": "ac3371b7",
   "metadata": {},
   "outputs": [],
   "source": []
  },
  {
   "cell_type": "code",
   "execution_count": null,
   "id": "ee942d4d",
   "metadata": {},
   "outputs": [],
   "source": []
  },
  {
   "cell_type": "code",
   "execution_count": 4,
   "id": "5ad46a7d",
   "metadata": {},
   "outputs": [],
   "source": [
    "x=ds_1.iloc[:,-2].values;\n",
    "y=ds_1.iloc[:,-1].values;\n"
   ]
  },
  {
   "cell_type": "code",
   "execution_count": 5,
   "id": "64d5ccfc",
   "metadata": {},
   "outputs": [
    {
     "data": {
      "text/plain": [
       "array([nan, nan, nan, ..., 68., 54., 50.])"
      ]
     },
     "execution_count": 5,
     "metadata": {},
     "output_type": "execute_result"
    }
   ],
   "source": [
    "x"
   ]
  },
  {
   "cell_type": "code",
   "execution_count": 6,
   "id": "896dda84",
   "metadata": {
    "scrolled": true
   },
   "outputs": [
    {
     "data": {
      "text/plain": [
       "array([nan, nan, nan, ..., 'Satisfactory', 'Satisfactory', 'Good'],\n",
       "      dtype=object)"
      ]
     },
     "execution_count": 6,
     "metadata": {},
     "output_type": "execute_result"
    }
   ],
   "source": [
    "y"
   ]
  },
  {
   "cell_type": "code",
   "execution_count": 10,
   "id": "9ef32c71",
   "metadata": {},
   "outputs": [],
   "source": [
    "c=ds_1.iloc[:,0].values;"
   ]
  },
  {
   "cell_type": "code",
   "execution_count": 11,
   "id": "10add262",
   "metadata": {},
   "outputs": [
    {
     "data": {
      "text/plain": [
       "numpy.ndarray"
      ]
     },
     "execution_count": 11,
     "metadata": {},
     "output_type": "execute_result"
    }
   ],
   "source": [
    "type(c)"
   ]
  },
  {
   "cell_type": "code",
   "execution_count": 12,
   "id": "165682b2",
   "metadata": {},
   "outputs": [],
   "source": [
    "c = np.array(c);"
   ]
  },
  {
   "cell_type": "code",
   "execution_count": 13,
   "id": "4e388fb4",
   "metadata": {},
   "outputs": [],
   "source": [
    "delhi = np.where(c=='Delhi'); "
   ]
  },
  {
   "cell_type": "code",
   "execution_count": 58,
   "id": "22c9763b",
   "metadata": {},
   "outputs": [
    {
     "data": {
      "text/plain": [
       "(array([10229, 10230, 10231, ..., 12235, 12236, 12237], dtype=int64),)"
      ]
     },
     "execution_count": 58,
     "metadata": {},
     "output_type": "execute_result"
    }
   ],
   "source": [
    "delhi"
   ]
  },
  {
   "cell_type": "code",
   "execution_count": 16,
   "id": "d8b0573f",
   "metadata": {},
   "outputs": [],
   "source": [
    "X = x[delhi];"
   ]
  },
  {
   "cell_type": "code",
   "execution_count": 17,
   "id": "66c1e226",
   "metadata": {},
   "outputs": [
    {
     "data": {
      "text/plain": [
       "array([472., 454., 143., ..., 233., 114., 101.])"
      ]
     },
     "execution_count": 17,
     "metadata": {},
     "output_type": "execute_result"
    }
   ],
   "source": [
    "X"
   ]
  },
  {
   "cell_type": "code",
   "execution_count": 18,
   "id": "b87b0fb6",
   "metadata": {},
   "outputs": [],
   "source": [
    "lvl=y[delhi];"
   ]
  },
  {
   "cell_type": "code",
   "execution_count": 19,
   "id": "e4300fbd",
   "metadata": {},
   "outputs": [
    {
     "data": {
      "text/plain": [
       "array(['Severe', 'Severe', 'Moderate', ..., 'Poor', 'Moderate',\n",
       "       'Moderate'], dtype=object)"
      ]
     },
     "execution_count": 19,
     "metadata": {},
     "output_type": "execute_result"
    }
   ],
   "source": [
    "lvl"
   ]
  },
  {
   "cell_type": "code",
   "execution_count": 20,
   "id": "588e934b",
   "metadata": {},
   "outputs": [],
   "source": [
    "date=ds_1.iloc[:,1].values;"
   ]
  },
  {
   "cell_type": "code",
   "execution_count": 21,
   "id": "8f18f604",
   "metadata": {},
   "outputs": [
    {
     "data": {
      "text/plain": [
       "array(['2015-01-01', '2015-01-02', '2015-01-03', ..., '2020-06-29',\n",
       "       '2020-06-30', '2020-07-01'], dtype=object)"
      ]
     },
     "execution_count": 21,
     "metadata": {},
     "output_type": "execute_result"
    }
   ],
   "source": [
    "date"
   ]
  },
  {
   "cell_type": "code",
   "execution_count": 51,
   "id": "c87acf30",
   "metadata": {},
   "outputs": [],
   "source": [
    "date18 = pd.to_datetime(ds_1['Date'])"
   ]
  },
  {
   "cell_type": "code",
   "execution_count": 52,
   "id": "a2b8edc2",
   "metadata": {},
   "outputs": [
    {
     "data": {
      "text/plain": [
       "pandas.core.series.Series"
      ]
     },
     "execution_count": 52,
     "metadata": {},
     "output_type": "execute_result"
    }
   ],
   "source": [
    "type(date18)"
   ]
  },
  {
   "cell_type": "code",
   "execution_count": 60,
   "id": "3d7fb169",
   "metadata": {},
   "outputs": [
    {
     "ename": "AttributeError",
     "evalue": "Can only use .dt accessor with datetimelike values",
     "output_type": "error",
     "traceback": [
      "\u001b[1;31m---------------------------------------------------------------------------\u001b[0m",
      "\u001b[1;31mAttributeError\u001b[0m                            Traceback (most recent call last)",
      "\u001b[1;32m<ipython-input-60-104f8b7d83d1>\u001b[0m in \u001b[0;36m<module>\u001b[1;34m\u001b[0m\n\u001b[1;32m----> 1\u001b[1;33m \u001b[0mdate18\u001b[0m \u001b[1;33m=\u001b[0m \u001b[0mdate18\u001b[0m\u001b[1;33m.\u001b[0m\u001b[0mdt\u001b[0m\u001b[1;33m.\u001b[0m\u001b[0myear\u001b[0m\u001b[1;33m\u001b[0m\u001b[1;33m\u001b[0m\u001b[0m\n\u001b[0m",
      "\u001b[1;32m~\\anaconda3\\lib\\site-packages\\pandas\\core\\generic.py\u001b[0m in \u001b[0;36m__getattr__\u001b[1;34m(self, name)\u001b[0m\n\u001b[0;32m   5485\u001b[0m         ):\n\u001b[0;32m   5486\u001b[0m             \u001b[1;32mreturn\u001b[0m \u001b[0mself\u001b[0m\u001b[1;33m[\u001b[0m\u001b[0mname\u001b[0m\u001b[1;33m]\u001b[0m\u001b[1;33m\u001b[0m\u001b[1;33m\u001b[0m\u001b[0m\n\u001b[1;32m-> 5487\u001b[1;33m         \u001b[1;32mreturn\u001b[0m \u001b[0mobject\u001b[0m\u001b[1;33m.\u001b[0m\u001b[0m__getattribute__\u001b[0m\u001b[1;33m(\u001b[0m\u001b[0mself\u001b[0m\u001b[1;33m,\u001b[0m \u001b[0mname\u001b[0m\u001b[1;33m)\u001b[0m\u001b[1;33m\u001b[0m\u001b[1;33m\u001b[0m\u001b[0m\n\u001b[0m\u001b[0;32m   5488\u001b[0m \u001b[1;33m\u001b[0m\u001b[0m\n\u001b[0;32m   5489\u001b[0m     \u001b[1;32mdef\u001b[0m \u001b[0m__setattr__\u001b[0m\u001b[1;33m(\u001b[0m\u001b[0mself\u001b[0m\u001b[1;33m,\u001b[0m \u001b[0mname\u001b[0m\u001b[1;33m:\u001b[0m \u001b[0mstr\u001b[0m\u001b[1;33m,\u001b[0m \u001b[0mvalue\u001b[0m\u001b[1;33m)\u001b[0m \u001b[1;33m->\u001b[0m \u001b[1;32mNone\u001b[0m\u001b[1;33m:\u001b[0m\u001b[1;33m\u001b[0m\u001b[1;33m\u001b[0m\u001b[0m\n",
      "\u001b[1;32m~\\anaconda3\\lib\\site-packages\\pandas\\core\\accessor.py\u001b[0m in \u001b[0;36m__get__\u001b[1;34m(self, obj, cls)\u001b[0m\n\u001b[0;32m    179\u001b[0m             \u001b[1;31m# we're accessing the attribute of the class, i.e., Dataset.geo\u001b[0m\u001b[1;33m\u001b[0m\u001b[1;33m\u001b[0m\u001b[1;33m\u001b[0m\u001b[0m\n\u001b[0;32m    180\u001b[0m             \u001b[1;32mreturn\u001b[0m \u001b[0mself\u001b[0m\u001b[1;33m.\u001b[0m\u001b[0m_accessor\u001b[0m\u001b[1;33m\u001b[0m\u001b[1;33m\u001b[0m\u001b[0m\n\u001b[1;32m--> 181\u001b[1;33m         \u001b[0maccessor_obj\u001b[0m \u001b[1;33m=\u001b[0m \u001b[0mself\u001b[0m\u001b[1;33m.\u001b[0m\u001b[0m_accessor\u001b[0m\u001b[1;33m(\u001b[0m\u001b[0mobj\u001b[0m\u001b[1;33m)\u001b[0m\u001b[1;33m\u001b[0m\u001b[1;33m\u001b[0m\u001b[0m\n\u001b[0m\u001b[0;32m    182\u001b[0m         \u001b[1;31m# Replace the property with the accessor object. Inspired by:\u001b[0m\u001b[1;33m\u001b[0m\u001b[1;33m\u001b[0m\u001b[1;33m\u001b[0m\u001b[0m\n\u001b[0;32m    183\u001b[0m         \u001b[1;31m# https://www.pydanny.com/cached-property.html\u001b[0m\u001b[1;33m\u001b[0m\u001b[1;33m\u001b[0m\u001b[1;33m\u001b[0m\u001b[0m\n",
      "\u001b[1;32m~\\anaconda3\\lib\\site-packages\\pandas\\core\\indexes\\accessors.py\u001b[0m in \u001b[0;36m__new__\u001b[1;34m(cls, data)\u001b[0m\n\u001b[0;32m    504\u001b[0m             \u001b[1;32mreturn\u001b[0m \u001b[0mPeriodProperties\u001b[0m\u001b[1;33m(\u001b[0m\u001b[0mdata\u001b[0m\u001b[1;33m,\u001b[0m \u001b[0morig\u001b[0m\u001b[1;33m)\u001b[0m\u001b[1;33m\u001b[0m\u001b[1;33m\u001b[0m\u001b[0m\n\u001b[0;32m    505\u001b[0m \u001b[1;33m\u001b[0m\u001b[0m\n\u001b[1;32m--> 506\u001b[1;33m         \u001b[1;32mraise\u001b[0m \u001b[0mAttributeError\u001b[0m\u001b[1;33m(\u001b[0m\u001b[1;34m\"Can only use .dt accessor with datetimelike values\"\u001b[0m\u001b[1;33m)\u001b[0m\u001b[1;33m\u001b[0m\u001b[1;33m\u001b[0m\u001b[0m\n\u001b[0m",
      "\u001b[1;31mAttributeError\u001b[0m: Can only use .dt accessor with datetimelike values"
     ]
    }
   ],
   "source": [
    "date18 = date18.dt.year"
   ]
  },
  {
   "cell_type": "code",
   "execution_count": 63,
   "id": "712fbb68",
   "metadata": {},
   "outputs": [
    {
     "ename": "TypeError",
     "evalue": "tuple indices must be integers or slices, not tuple",
     "output_type": "error",
     "traceback": [
      "\u001b[1;31m---------------------------------------------------------------------------\u001b[0m",
      "\u001b[1;31mTypeError\u001b[0m                                 Traceback (most recent call last)",
      "\u001b[1;32m<ipython-input-63-5faef414d14d>\u001b[0m in \u001b[0;36m<module>\u001b[1;34m\u001b[0m\n\u001b[1;32m----> 1\u001b[1;33m \u001b[0mdate18\u001b[0m \u001b[1;33m=\u001b[0m \u001b[0mdate18\u001b[0m\u001b[1;33m[\u001b[0m\u001b[0mnp\u001b[0m\u001b[1;33m.\u001b[0m\u001b[0mwhere\u001b[0m\u001b[1;33m(\u001b[0m\u001b[0mc\u001b[0m \u001b[1;33m==\u001b[0m \u001b[1;34m'Delhi'\u001b[0m \u001b[1;33m)\u001b[0m\u001b[1;33m]\u001b[0m\u001b[1;33m\u001b[0m\u001b[1;33m\u001b[0m\u001b[0m\n\u001b[0m",
      "\u001b[1;31mTypeError\u001b[0m: tuple indices must be integers or slices, not tuple"
     ]
    }
   ],
   "source": [
    "date18 = date18[np.where(c == 'Delhi' )]"
   ]
  },
  {
   "cell_type": "code",
   "execution_count": 62,
   "id": "037aafc4",
   "metadata": {},
   "outputs": [
    {
     "name": "stdout",
     "output_type": "stream",
     "text": [
      "(array([10229, 10230, 10231, ..., 12235, 12236, 12237], dtype=int64),)\n"
     ]
    }
   ],
   "source": [
    "print(date18)\n"
   ]
  },
  {
   "cell_type": "code",
   "execution_count": null,
   "id": "48f07df9",
   "metadata": {},
   "outputs": [],
   "source": []
  }
 ],
 "metadata": {
  "kernelspec": {
   "display_name": "Python 3 (ipykernel)",
   "language": "python",
   "name": "python3"
  },
  "language_info": {
   "codemirror_mode": {
    "name": "ipython",
    "version": 3
   },
   "file_extension": ".py",
   "mimetype": "text/x-python",
   "name": "python",
   "nbconvert_exporter": "python",
   "pygments_lexer": "ipython3",
   "version": "3.9.7"
  }
 },
 "nbformat": 4,
 "nbformat_minor": 5
}
