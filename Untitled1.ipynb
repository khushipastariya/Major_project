{
 "cells": [
  {
   "cell_type": "code",
   "execution_count": 1,
   "id": "a2e71405",
   "metadata": {},
   "outputs": [],
   "source": [
    "import pandas as pd;\n",
    "import numpy as np;"
   ]
  },
  {
   "cell_type": "code",
   "execution_count": 2,
   "id": "c25c9c3f",
   "metadata": {},
   "outputs": [],
   "source": [
    "ds_1=pd.read_csv('city_day.csv');\n",
    "aqi=ds_1.iloc[:,-2].values;\n",
    "lvl=ds_1.iloc[:,-1].values;\n",
    "city=ds_1.iloc[:,0].values;"
   ]
  },
  {
   "cell_type": "code",
   "execution_count": 3,
   "id": "16ae9722",
   "metadata": {},
   "outputs": [
    {
     "data": {
      "text/plain": [
       "(29531,)"
      ]
     },
     "execution_count": 3,
     "metadata": {},
     "output_type": "execute_result"
    }
   ],
   "source": [
    "aqi.shape"
   ]
  },
  {
   "cell_type": "code",
   "execution_count": 4,
   "id": "1d1751ff",
   "metadata": {},
   "outputs": [
    {
     "data": {
      "text/plain": [
       "array([nan, nan, nan, ..., 68., 54., 50.])"
      ]
     },
     "execution_count": 4,
     "metadata": {},
     "output_type": "execute_result"
    }
   ],
   "source": [
    "aqi"
   ]
  },
  {
   "cell_type": "code",
   "execution_count": 5,
   "id": "b7229468",
   "metadata": {},
   "outputs": [
    {
     "data": {
      "text/plain": [
       "array(['Ahmedabad', 'Ahmedabad', 'Ahmedabad', ..., 'Visakhapatnam',\n",
       "       'Visakhapatnam', 'Visakhapatnam'], dtype=object)"
      ]
     },
     "execution_count": 5,
     "metadata": {},
     "output_type": "execute_result"
    }
   ],
   "source": [
    "city"
   ]
  },
  {
   "cell_type": "code",
   "execution_count": 6,
   "id": "db1e8bcd",
   "metadata": {},
   "outputs": [],
   "source": [
    "delhi=np.where(city=='Delhi');"
   ]
  },
  {
   "cell_type": "code",
   "execution_count": 7,
   "id": "32ec0709",
   "metadata": {},
   "outputs": [
    {
     "data": {
      "text/plain": [
       "(array([10229, 10230, 10231, ..., 12235, 12236, 12237], dtype=int64),)"
      ]
     },
     "execution_count": 7,
     "metadata": {},
     "output_type": "execute_result"
    }
   ],
   "source": [
    "delhi"
   ]
  },
  {
   "cell_type": "code",
   "execution_count": 9,
   "id": "7759ff6e",
   "metadata": {},
   "outputs": [],
   "source": [
    "delhi=np.array(delhi);"
   ]
  },
  {
   "cell_type": "code",
   "execution_count": 10,
   "id": "2d802521",
   "metadata": {},
   "outputs": [
    {
     "data": {
      "text/plain": [
       "array([[10229, 10230, 10231, ..., 12235, 12236, 12237]], dtype=int64)"
      ]
     },
     "execution_count": 10,
     "metadata": {},
     "output_type": "execute_result"
    }
   ],
   "source": [
    "delhi"
   ]
  },
  {
   "cell_type": "code",
   "execution_count": 11,
   "id": "72e92bfa",
   "metadata": {},
   "outputs": [],
   "source": [
    "aqi_delhi=aqi[delhi];\n",
    "lvl_delhi=lvl[delhi];\n",
    "city_delhi=city[delhi];"
   ]
  },
  {
   "cell_type": "code",
   "execution_count": 12,
   "id": "5cfa944a",
   "metadata": {},
   "outputs": [
    {
     "data": {
      "text/plain": [
       "array([[472., 454., 143., ..., 233., 114., 101.]])"
      ]
     },
     "execution_count": 12,
     "metadata": {},
     "output_type": "execute_result"
    }
   ],
   "source": [
    "aqi_delhi"
   ]
  },
  {
   "cell_type": "code",
   "execution_count": 13,
   "id": "d384e160",
   "metadata": {},
   "outputs": [
    {
     "data": {
      "text/plain": [
       "(1, 2009)"
      ]
     },
     "execution_count": 13,
     "metadata": {},
     "output_type": "execute_result"
    }
   ],
   "source": [
    "aqi_delhi.shape"
   ]
  },
  {
   "cell_type": "code",
   "execution_count": 14,
   "id": "88ae7e46",
   "metadata": {},
   "outputs": [],
   "source": [
    "years = pd.to_datetime(ds_1['Date']);\n",
    "years = years.dt.year;\n",
    "years=np.array(years);"
   ]
  },
  {
   "cell_type": "code",
   "execution_count": 15,
   "id": "d3be3031",
   "metadata": {},
   "outputs": [
    {
     "data": {
      "text/plain": [
       "(29531,)"
      ]
     },
     "execution_count": 15,
     "metadata": {},
     "output_type": "execute_result"
    }
   ],
   "source": [
    "years.shape"
   ]
  },
  {
   "cell_type": "code",
   "execution_count": 17,
   "id": "e7695125",
   "metadata": {},
   "outputs": [],
   "source": [
    "years_delhi=years[delhi]"
   ]
  },
  {
   "cell_type": "code",
   "execution_count": 18,
   "id": "ca4a3ff9",
   "metadata": {},
   "outputs": [
    {
     "data": {
      "text/plain": [
       "array([[2015, 2015, 2015, ..., 2020, 2020, 2020]], dtype=int64)"
      ]
     },
     "execution_count": 18,
     "metadata": {},
     "output_type": "execute_result"
    }
   ],
   "source": [
    "years_delhi"
   ]
  },
  {
   "cell_type": "code",
   "execution_count": 19,
   "id": "33dd17da",
   "metadata": {},
   "outputs": [
    {
     "data": {
      "text/plain": [
       "(1, 2009)"
      ]
     },
     "execution_count": 19,
     "metadata": {},
     "output_type": "execute_result"
    }
   ],
   "source": [
    "years_delhi.shape"
   ]
  },
  {
   "cell_type": "code",
   "execution_count": 22,
   "id": "6c144cbb",
   "metadata": {},
   "outputs": [
    {
     "data": {
      "text/plain": [
       "array([[2015, 2015, 2015, ..., 2020, 2020, 2020]], dtype=int64)"
      ]
     },
     "execution_count": 22,
     "metadata": {},
     "output_type": "execute_result"
    }
   ],
   "source": [
    "years_delhi"
   ]
  },
  {
   "cell_type": "code",
   "execution_count": 20,
   "id": "8000712f",
   "metadata": {},
   "outputs": [],
   "source": [
    "date17=np.where(years_delhi==2017);\n",
    "date18=np.where(years_delhi==2018);\n",
    "date19=np.where(years_delhi==2019);\n",
    "date20=np.where(years_delhi==2020);"
   ]
  },
  {
   "cell_type": "code",
   "execution_count": 24,
   "id": "fae96f12",
   "metadata": {},
   "outputs": [],
   "source": [
    "date17=np.array(date17)"
   ]
  },
  {
   "cell_type": "code",
   "execution_count": 30,
   "id": "5bf37068",
   "metadata": {},
   "outputs": [
    {
     "data": {
      "text/plain": [
       "array([ 731,  732,  733,  734,  735,  736,  737,  738,  739,  740,  741,\n",
       "        742,  743,  744,  745,  746,  747,  748,  749,  750,  751,  752,\n",
       "        753,  754,  755,  756,  757,  758,  759,  760,  761,  762,  763,\n",
       "        764,  765,  766,  767,  768,  769,  770,  771,  772,  773,  774,\n",
       "        775,  776,  777,  778,  779,  780,  781,  782,  783,  784,  785,\n",
       "        786,  787,  788,  789,  790,  791,  792,  793,  794,  795,  796,\n",
       "        797,  798,  799,  800,  801,  802,  803,  804,  805,  806,  807,\n",
       "        808,  809,  810,  811,  812,  813,  814,  815,  816,  817,  818,\n",
       "        819,  820,  821,  822,  823,  824,  825,  826,  827,  828,  829,\n",
       "        830,  831,  832,  833,  834,  835,  836,  837,  838,  839,  840,\n",
       "        841,  842,  843,  844,  845,  846,  847,  848,  849,  850,  851,\n",
       "        852,  853,  854,  855,  856,  857,  858,  859,  860,  861,  862,\n",
       "        863,  864,  865,  866,  867,  868,  869,  870,  871,  872,  873,\n",
       "        874,  875,  876,  877,  878,  879,  880,  881,  882,  883,  884,\n",
       "        885,  886,  887,  888,  889,  890,  891,  892,  893,  894,  895,\n",
       "        896,  897,  898,  899,  900,  901,  902,  903,  904,  905,  906,\n",
       "        907,  908,  909,  910,  911,  912,  913,  914,  915,  916,  917,\n",
       "        918,  919,  920,  921,  922,  923,  924,  925,  926,  927,  928,\n",
       "        929,  930,  931,  932,  933,  934,  935,  936,  937,  938,  939,\n",
       "        940,  941,  942,  943,  944,  945,  946,  947,  948,  949,  950,\n",
       "        951,  952,  953,  954,  955,  956,  957,  958,  959,  960,  961,\n",
       "        962,  963,  964,  965,  966,  967,  968,  969,  970,  971,  972,\n",
       "        973,  974,  975,  976,  977,  978,  979,  980,  981,  982,  983,\n",
       "        984,  985,  986,  987,  988,  989,  990,  991,  992,  993,  994,\n",
       "        995,  996,  997,  998,  999, 1000, 1001, 1002, 1003, 1004, 1005,\n",
       "       1006, 1007, 1008, 1009, 1010, 1011, 1012, 1013, 1014, 1015, 1016,\n",
       "       1017, 1018, 1019, 1020, 1021, 1022, 1023, 1024, 1025, 1026, 1027,\n",
       "       1028, 1029, 1030, 1031, 1032, 1033, 1034, 1035, 1036, 1037, 1038,\n",
       "       1039, 1040, 1041, 1042, 1043, 1044, 1045, 1046, 1047, 1048, 1049,\n",
       "       1050, 1051, 1052, 1053, 1054, 1055, 1056, 1057, 1058, 1059, 1060,\n",
       "       1061, 1062, 1063, 1064, 1065, 1066, 1067, 1068, 1069, 1070, 1071,\n",
       "       1072, 1073, 1074, 1075, 1076, 1077, 1078, 1079, 1080, 1081, 1082,\n",
       "       1083, 1084, 1085, 1086, 1087, 1088, 1089, 1090, 1091, 1092, 1093,\n",
       "       1094, 1095], dtype=int64)"
      ]
     },
     "execution_count": 30,
     "metadata": {},
     "output_type": "execute_result"
    }
   ],
   "source": [
    "date17[1]"
   ]
  },
  {
   "cell_type": "code",
   "execution_count": 31,
   "id": "b1d969d5",
   "metadata": {},
   "outputs": [
    {
     "ename": "IndexError",
     "evalue": "index 731 is out of bounds for axis 0 with size 1",
     "output_type": "error",
     "traceback": [
      "\u001b[1;31m---------------------------------------------------------------------------\u001b[0m",
      "\u001b[1;31mIndexError\u001b[0m                                Traceback (most recent call last)",
      "\u001b[1;32m<ipython-input-31-05b987910cd2>\u001b[0m in \u001b[0;36m<module>\u001b[1;34m\u001b[0m\n\u001b[1;32m----> 1\u001b[1;33m \u001b[0maqi_delhi_17\u001b[0m\u001b[1;33m=\u001b[0m\u001b[0maqi_delhi\u001b[0m\u001b[1;33m[\u001b[0m\u001b[0mdate17\u001b[0m\u001b[1;33m[\u001b[0m\u001b[1;36m1\u001b[0m\u001b[1;33m]\u001b[0m\u001b[1;33m]\u001b[0m\u001b[1;33m;\u001b[0m\u001b[1;33m\u001b[0m\u001b[1;33m\u001b[0m\u001b[0m\n\u001b[0m",
      "\u001b[1;31mIndexError\u001b[0m: index 731 is out of bounds for axis 0 with size 1"
     ]
    }
   ],
   "source": [
    "aqi_delhi_17=aqi_delhi[date17[1]];"
   ]
  },
  {
   "cell_type": "code",
   "execution_count": null,
   "id": "4bb9f56a",
   "metadata": {},
   "outputs": [],
   "source": [
    "aqi.shape"
   ]
  },
  {
   "cell_type": "code",
   "execution_count": null,
   "id": "70307b91",
   "metadata": {},
   "outputs": [],
   "source": [
    "date17.shape"
   ]
  },
  {
   "cell_type": "code",
   "execution_count": null,
   "id": "76f817e1",
   "metadata": {},
   "outputs": [],
   "source": [
    "date17=date17[delhi]"
   ]
  }
 ],
 "metadata": {
  "kernelspec": {
   "display_name": "Python 3",
   "language": "python",
   "name": "python3"
  },
  "language_info": {
   "codemirror_mode": {
    "name": "ipython",
    "version": 3
   },
   "file_extension": ".py",
   "mimetype": "text/x-python",
   "name": "python",
   "nbconvert_exporter": "python",
   "pygments_lexer": "ipython3",
   "version": "3.8.8"
  }
 },
 "nbformat": 4,
 "nbformat_minor": 5
}
