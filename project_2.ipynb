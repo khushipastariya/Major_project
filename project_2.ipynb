{
 "cells": [
  {
   "cell_type": "code",
   "execution_count": 1,
   "id": "45c1f063",
   "metadata": {},
   "outputs": [],
   "source": [
    "import pandas as pd;\n",
    "import numpy as np;"
   ]
  },
  {
   "cell_type": "code",
   "execution_count": 2,
   "id": "5241ae28",
   "metadata": {},
   "outputs": [],
   "source": [
    "ds_1=pd.read_csv('previous_3.csv');"
   ]
  },
  {
   "cell_type": "code",
   "execution_count": 5,
   "id": "190cca6e",
   "metadata": {},
   "outputs": [],
   "source": [
    "X=ds_1.iloc[:,[1,2,3]].values;\n",
    "Y=ds_1.iloc[:,-1].values;"
   ]
  },
  {
   "cell_type": "code",
   "execution_count": 6,
   "id": "b023babf",
   "metadata": {},
   "outputs": [
    {
     "data": {
      "text/plain": [
       "(1086, 3)"
      ]
     },
     "execution_count": 6,
     "metadata": {},
     "output_type": "execute_result"
    }
   ],
   "source": [
    "X.shape"
   ]
  },
  {
   "cell_type": "code",
   "execution_count": 7,
   "id": "068a544b",
   "metadata": {},
   "outputs": [
    {
     "data": {
      "text/plain": [
       "(1086,)"
      ]
     },
     "execution_count": 7,
     "metadata": {},
     "output_type": "execute_result"
    }
   ],
   "source": [
    "Y.shape"
   ]
  },
  {
   "cell_type": "code",
   "execution_count": 9,
   "id": "56211595",
   "metadata": {},
   "outputs": [
    {
     "data": {
      "text/plain": [
       "array([[496.],\n",
       "       [528.],\n",
       "       [538.],\n",
       "       ...,\n",
       "       [420.],\n",
       "       [484.],\n",
       "       [509.]])"
      ]
     },
     "execution_count": 9,
     "metadata": {},
     "output_type": "execute_result"
    }
   ],
   "source": [
    "Y.reshape(1086,1)"
   ]
  },
  {
   "cell_type": "code",
   "execution_count": 10,
   "id": "30e37695",
   "metadata": {},
   "outputs": [],
   "source": [
    "from sklearn.impute import SimpleImputer;\n",
    "si = SimpleImputer(missing_values=np.nan , strategy='mean');\n",
    "si.fit(X);\n",
    "X=si.transform(X);"
   ]
  },
  {
   "cell_type": "code",
   "execution_count": 13,
   "id": "2ab43087",
   "metadata": {},
   "outputs": [],
   "source": [
    "Y = si.fit_transform(Y.reshape(1086,1));"
   ]
  },
  {
   "cell_type": "code",
   "execution_count": 14,
   "id": "36cba5bd",
   "metadata": {},
   "outputs": [
    {
     "data": {
      "text/plain": [
       "(1086, 1)"
      ]
     },
     "execution_count": 14,
     "metadata": {},
     "output_type": "execute_result"
    }
   ],
   "source": [
    "Y.shape"
   ]
  },
  {
   "cell_type": "code",
   "execution_count": 21,
   "id": "0f983656",
   "metadata": {},
   "outputs": [],
   "source": [
    "from sklearn.model_selection import train_test_split;\n",
    "x_train,x_test,y_train,y_test=train_test_split(X,Y,test_size=0.2,random_state=1);"
   ]
  },
  {
   "cell_type": "code",
   "execution_count": 24,
   "id": "2c797a60",
   "metadata": {},
   "outputs": [
    {
     "data": {
      "text/plain": [
       "(868, 3)"
      ]
     },
     "execution_count": 24,
     "metadata": {},
     "output_type": "execute_result"
    }
   ],
   "source": [
    "x_train.shape"
   ]
  },
  {
   "cell_type": "code",
   "execution_count": null,
   "id": "840c310f",
   "metadata": {},
   "outputs": [],
   "source": []
  },
  {
   "cell_type": "code",
   "execution_count": 68,
   "id": "308a2d9c",
   "metadata": {},
   "outputs": [
    {
     "name": "stderr",
     "output_type": "stream",
     "text": [
      "C:\\Users\\Asus\\anaconda3\\lib\\site-packages\\sklearn\\utils\\validation.py:63: DataConversionWarning: A column-vector y was passed when a 1d array was expected. Please change the shape of y to (n_samples, ), for example using ravel().\n",
      "  return f(*args, **kwargs)\n"
     ]
    }
   ],
   "source": [
    "from sklearn.svm import SVR;\n",
    "regressor = SVR(kernel = 'poly');\n",
    "regressor.fit(x_train,y_train);"
   ]
  },
  {
   "cell_type": "code",
   "execution_count": 88,
   "id": "bd32e575",
   "metadata": {},
   "outputs": [
    {
     "data": {
      "text/plain": [
       "(868, 3)"
      ]
     },
     "execution_count": 88,
     "metadata": {},
     "output_type": "execute_result"
    }
   ],
   "source": [
    "x_train.shape"
   ]
  },
  {
   "cell_type": "code",
   "execution_count": null,
   "id": "c1d3826c",
   "metadata": {},
   "outputs": [],
   "source": []
  },
  {
   "cell_type": "code",
   "execution_count": null,
   "id": "52d523dd",
   "metadata": {},
   "outputs": [],
   "source": []
  },
  {
   "cell_type": "code",
   "execution_count": null,
   "id": "85747d9d",
   "metadata": {},
   "outputs": [],
   "source": []
  },
  {
   "cell_type": "code",
   "execution_count": null,
   "id": "b22ab2ef",
   "metadata": {},
   "outputs": [],
   "source": []
  },
  {
   "cell_type": "code",
   "execution_count": 69,
   "id": "28b4cda6",
   "metadata": {},
   "outputs": [],
   "source": [
    "y_pred = regressor.predict(x_test);"
   ]
  },
  {
   "cell_type": "code",
   "execution_count": 70,
   "id": "0586dfb9",
   "metadata": {},
   "outputs": [
    {
     "data": {
      "text/plain": [
       "(218,)"
      ]
     },
     "execution_count": 70,
     "metadata": {},
     "output_type": "execute_result"
    }
   ],
   "source": [
    "y_pred.shape"
   ]
  },
  {
   "cell_type": "code",
   "execution_count": 71,
   "id": "fef9a281",
   "metadata": {},
   "outputs": [],
   "source": [
    "diff = np.ravel(y_test) - np.ravel(y_pred);"
   ]
  },
  {
   "cell_type": "code",
   "execution_count": 72,
   "id": "74dd9fd4",
   "metadata": {},
   "outputs": [
    {
     "data": {
      "text/plain": [
       "array([ -36.23270873,  143.08902687,  -76.19616264,  -76.936638  ,\n",
       "         50.7549725 ,    0.29806673,   -3.59332129,  -60.23700235,\n",
       "          2.07063174,  -20.80301009,   93.17065016,  -20.54047597,\n",
       "         45.67496149,   16.5758868 ,   41.53851192,  -24.86673339,\n",
       "        178.37035815,   37.85594932, -118.72825252,    9.49435509,\n",
       "        -47.58784143,  -14.01274482,   28.95912201,   -6.36942088,\n",
       "         15.18427781,    7.17540169,  -30.62271025, -109.02163382,\n",
       "        -13.12475325,   29.73364044,  -74.03243599,   -0.73185454,\n",
       "         -4.27968394,  -26.50099252,  -68.60980992,   62.00497015,\n",
       "        -19.1296784 ,  -30.73081084,   16.42014122,   -2.04017758,\n",
       "        -28.29216124,   29.48945726,   -6.00717276,  -15.36364743,\n",
       "          2.24198327,    8.0097027 ,   27.34543183,   19.00832874,\n",
       "         68.03023591,  -80.25293019,   -2.6401012 ,   56.37516037,\n",
       "          4.43158387,  -30.31355031,  -45.23172512,  -19.8654548 ,\n",
       "          2.057439  ,  -24.23399167,   16.07984519, -138.00251183,\n",
       "        -21.70779229,   77.32226396,  144.14324669,   18.02775661,\n",
       "        -97.14165924,   -8.64347331,   42.7293047 , -112.33024684,\n",
       "        -77.16040819,   30.91448238,  -19.12629932,   33.29822124,\n",
       "        -14.58515593,   22.48645895,   11.12544148,  -10.57716022,\n",
       "        -44.54953385,   24.51108966,   10.67662333,  -26.57224006,\n",
       "         21.16952369,  -40.07315866,   36.17560839,    1.19536382,\n",
       "        -59.2748884 ,  -10.84081906,  -29.56561281,   46.92904841,\n",
       "        -15.65204235,  -31.27429424,    2.91849389,  -20.23619675,\n",
       "         10.6055824 ,   39.08808566,    0.70154708,   18.18406075,\n",
       "         38.97315463,  -14.85778   ,  -52.56758373,  -59.47989572,\n",
       "         53.35181888,   61.9052281 ,   26.73769193,  -71.10750967,\n",
       "        -31.32717975,   27.31032748,   44.47947636,   63.92119026,\n",
       "         36.33473608,  -18.97881098,  -29.89748252,   -7.82206718,\n",
       "         -3.42488675,   -9.34780415,   37.37460842,   -6.21896339,\n",
       "         -7.13072823,   -6.94565537, -110.83558303,   -6.92602598,\n",
       "       -115.83933899,  -10.07733472,   21.12022512,   57.21733699,\n",
       "         27.11208057,  -54.13178829,  -29.15753171,    8.85599598,\n",
       "        -30.72652427,  -10.73748898,  -33.65323325,    4.14173491,\n",
       "         22.87898813,   72.43085444,  -59.31511677,   32.91565912,\n",
       "         68.60610402,  -16.46438235,  -62.49485626,   15.32433292,\n",
       "         12.46229652,   15.5696383 ,   -1.32789496,   28.17790111,\n",
       "         49.25082387,    1.40143275,  -27.02855175,  -37.74598267,\n",
       "         35.67645953,  -41.63881748,   27.87712844,    1.47989957,\n",
       "         18.15801116,   -3.35428095,   98.18083292,   -8.83148755,\n",
       "          5.8125269 ,    4.16501677,   34.90882172,  -20.2168205 ,\n",
       "          2.58042026,  -14.70013971,  -44.95173924,   67.08474971,\n",
       "        224.50985466,  147.99023236,   10.96663691,  -28.20330359,\n",
       "        -17.61072322,  -25.62912944,  -58.07679422,  -21.33834922,\n",
       "        -21.44616445,   -6.32478189,   10.45234403,   59.69713252,\n",
       "        -64.08980876,   17.53582285,   66.49218575,   50.91550059,\n",
       "        156.16034719,   -1.24697446,   69.20348522,   49.35223766,\n",
       "         65.5904256 ,   -8.43457616,   63.328705  ,   -5.37995594,\n",
       "         11.50223825,   75.45370474,  -22.97242521,   34.51178796,\n",
       "          7.6677171 ,  -11.3438963 ,  -43.42315374,  -48.32595712,\n",
       "         18.7031751 ,   11.94507885,   14.86712549,   45.99568214,\n",
       "          2.3396664 ,  113.58410583,   17.79059962,  104.05931238,\n",
       "        -27.58389522,  -10.70239498,  -35.8324916 ,  -43.29569926,\n",
       "         17.67093389,  -14.88702575,  -56.0452629 ,  -22.20945804,\n",
       "          4.11066995,  -52.47274734,   54.05395895,    1.81593468,\n",
       "        -20.37430569,  -67.33142785])"
      ]
     },
     "execution_count": 72,
     "metadata": {},
     "output_type": "execute_result"
    }
   ],
   "source": [
    "diff"
   ]
  },
  {
   "cell_type": "code",
   "execution_count": 91,
   "id": "e7c1ebc5",
   "metadata": {},
   "outputs": [],
   "source": [
    "from xgboost import XGBRegressor;\n",
    "regressor=XGBRegressor();\n",
    "regressor.fit(x_train,y_train);"
   ]
  },
  {
   "cell_type": "code",
   "execution_count": 92,
   "id": "7a59881e",
   "metadata": {},
   "outputs": [],
   "source": [
    "y_pred=regressor.predict(x_test);"
   ]
  },
  {
   "cell_type": "code",
   "execution_count": 93,
   "id": "e30ad83f",
   "metadata": {},
   "outputs": [
    {
     "data": {
      "text/plain": [
       "array([222.69705 , 201.34654 , 178.1717  , 337.1837  , 169.24852 ,\n",
       "       298.27496 , 203.69366 , 267.1026  , 106.0645  , 324.18146 ,\n",
       "       241.73193 , 266.611   , 246.37932 , 240.9555  , 367.9717  ,\n",
       "       186.70361 , 290.2903  , 365.57285 , 307.85434 , 380.4232  ,\n",
       "       250.47664 , 325.465   , 219.25313 , 349.818   , 206.6511  ,\n",
       "       263.70505 , 308.23947 , 358.2307  , 317.33334 , 369.5731  ,\n",
       "       355.9867  , 147.9002  , 281.30307 , 325.28943 , 317.55096 ,\n",
       "       273.33017 , 205.72783 , 331.35095 ,  79.61912 , 327.0773  ,\n",
       "       269.42053 , 265.2402  , 367.62366 , 335.83585 , 113.26945 ,\n",
       "       138.60051 , 288.05762 , 281.63226 , 223.91684 , 258.1983  ,\n",
       "       155.69153 , 222.67126 , 474.9234  , 375.11813 , 435.13217 ,\n",
       "       422.4203  ,  82.54676 , 352.07062 , 277.0494  , 617.1265  ,\n",
       "        97.722946, 307.73538 , 456.22702 , 214.46251 , 253.56604 ,\n",
       "       110.972466, 166.56844 , 345.42453 , 233.29355 , 348.37082 ,\n",
       "       342.1566  , 272.4736  , 259.3539  , 154.25008 , 321.42145 ,\n",
       "       219.86836 , 330.13287 , 597.0894  , 255.44992 , 339.2789  ,\n",
       "       175.06778 , 128.47975 , 153.58717 , 222.67857 , 426.81522 ,\n",
       "       179.56088 ,  66.96719 , 615.2382  , 152.08717 , 138.78313 ,\n",
       "       220.56354 , 492.1161  , 505.22855 , 313.692   ,  91.041695,\n",
       "       308.9812  , 393.2215  , 168.56596 , 214.83905 , 313.04654 ,\n",
       "       101.83228 , 153.41165 , 258.92584 , 200.09103 , 270.60144 ,\n",
       "       217.9912  , 344.67325 , 410.61627 , 111.898056, 388.32687 ,\n",
       "       357.0651  , 106.987434, 178.7854  , 308.81113 , 447.87732 ,\n",
       "        93.33017 ,  91.09617 , 101.222786, 380.36832 ,  72.5643  ,\n",
       "       580.506   , 125.052605, 233.5727  , 340.2826  ,  97.38114 ,\n",
       "       168.93886 , 338.93658 , 344.56906 , 635.2337  , 104.01646 ,\n",
       "       287.18594 , 166.40268 , 274.49606 , 245.04886 , 197.31143 ,\n",
       "       204.29082 , 348.02396 , 183.61975 , 157.78229 , 322.6295  ,\n",
       "       260.30853 , 186.68854 , 228.63605 , 385.19717 , 239.29796 ,\n",
       "       370.6192  , 174.69333 , 192.51375 , 433.5217  ,  82.99362 ,\n",
       "       437.76355 ,  40.02186 , 262.59222 , 341.57587 , 457.49075 ,\n",
       "       187.30524 , 355.44543 , 187.73842 , 238.62878 , 213.13658 ,\n",
       "       101.222786, 105.30324 , 389.1525  , 403.91748 , 222.75127 ,\n",
       "       419.57202 ,  95.097374, 138.23346 , 406.95172 , 372.4492  ,\n",
       "       242.75317 , 273.8691  , 336.5252  , 397.92752 , 317.43503 ,\n",
       "       258.5601  , 596.7631  , 351.04    , 153.21161 , 333.96103 ,\n",
       "       398.38364 , 112.01457 , 390.91623 , 394.73785 , 157.30511 ,\n",
       "       386.36752 , 208.24036 , 423.31546 , 321.2563  , 170.18646 ,\n",
       "       372.6211  , 213.23923 , 253.95851 , 413.65704 , 370.85507 ,\n",
       "       324.73584 , 318.77673 , 359.7504  , 336.4106  , 436.76694 ,\n",
       "       378.8461  , 337.1031  , 338.77786 , 180.18637 , 303.93988 ,\n",
       "       312.686   , 279.70404 , 198.30899 , 534.98395 ,  50.52185 ,\n",
       "       468.57556 , 342.11658 , 283.38715 , 208.55121 , 330.73743 ,\n",
       "       426.21558 ,  94.33543 , 309.61713 ], dtype=float32)"
      ]
     },
     "execution_count": 93,
     "metadata": {},
     "output_type": "execute_result"
    }
   ],
   "source": [
    "y_pred"
   ]
  },
  {
   "cell_type": "code",
   "execution_count": 94,
   "id": "798851d1",
   "metadata": {},
   "outputs": [],
   "source": [
    "diff_2=y_pred-y_test"
   ]
  },
  {
   "cell_type": "code",
   "execution_count": 95,
   "id": "55c5fb01",
   "metadata": {},
   "outputs": [
    {
     "data": {
      "text/plain": [
       "array([[  68.697052  ,   47.34654236,   24.17170715, ...,  272.21557617,\n",
       "         -59.66457367,  155.61712646],\n",
       "       [-118.302948  , -139.65345764, -162.82829285, ...,   85.21557617,\n",
       "        -246.66457367,  -31.38287354],\n",
       "       [ 114.697052  ,   93.34654236,   70.17170715, ...,  318.21557617,\n",
       "         -13.66457367,  201.61712646],\n",
       "       ...,\n",
       "       [-181.302948  , -202.65345764, -225.82829285, ...,   22.21557617,\n",
       "        -309.66457367,  -94.38287354],\n",
       "       [ 132.697052  ,  111.34654236,   88.17170715, ...,  336.21557617,\n",
       "           4.33542633,  219.61712646],\n",
       "       [  -3.302948  ,  -24.65345764,  -47.82829285, ...,  200.21557617,\n",
       "        -131.66457367,   83.61712646]])"
      ]
     },
     "execution_count": 95,
     "metadata": {},
     "output_type": "execute_result"
    }
   ],
   "source": [
    "diff_2"
   ]
  },
  {
   "cell_type": "code",
   "execution_count": null,
   "id": "081832ee",
   "metadata": {},
   "outputs": [],
   "source": []
  },
  {
   "cell_type": "code",
   "execution_count": null,
   "id": "5157eda6",
   "metadata": {},
   "outputs": [],
   "source": []
  },
  {
   "cell_type": "code",
   "execution_count": null,
   "id": "19c4b8e1",
   "metadata": {},
   "outputs": [],
   "source": []
  },
  {
   "cell_type": "code",
   "execution_count": null,
   "id": "b2f3e944",
   "metadata": {},
   "outputs": [],
   "source": []
  },
  {
   "cell_type": "code",
   "execution_count": null,
   "id": "9fb0c1e4",
   "metadata": {},
   "outputs": [],
   "source": []
  },
  {
   "cell_type": "code",
   "execution_count": 46,
   "id": "3e4febab",
   "metadata": {},
   "outputs": [],
   "source": [
    "per = (np.ravel(diff)/np.ravel(y_test)) * 100;"
   ]
  },
  {
   "cell_type": "code",
   "execution_count": 48,
   "id": "c4abb014",
   "metadata": {},
   "outputs": [
    {
     "data": {
      "text/plain": [
       "(218,)"
      ]
     },
     "execution_count": 48,
     "metadata": {},
     "output_type": "execute_result"
    }
   ],
   "source": [
    "per.shape"
   ]
  },
  {
   "cell_type": "code",
   "execution_count": 55,
   "id": "167e9c62",
   "metadata": {},
   "outputs": [
    {
     "data": {
      "text/plain": [
       "31.201612295969934"
      ]
     },
     "execution_count": 55,
     "metadata": {},
     "output_type": "execute_result"
    }
   ],
   "source": [
    "ans"
   ]
  },
  {
   "cell_type": "code",
   "execution_count": null,
   "id": "2ab37aff",
   "metadata": {},
   "outputs": [],
   "source": []
  },
  {
   "cell_type": "code",
   "execution_count": null,
   "id": "43eac0f0",
   "metadata": {},
   "outputs": [],
   "source": []
  },
  {
   "cell_type": "code",
   "execution_count": null,
   "id": "73d37234",
   "metadata": {},
   "outputs": [],
   "source": []
  },
  {
   "cell_type": "code",
   "execution_count": null,
   "id": "d999fca3",
   "metadata": {},
   "outputs": [],
   "source": []
  },
  {
   "cell_type": "code",
   "execution_count": null,
   "id": "ef49999f",
   "metadata": {},
   "outputs": [],
   "source": []
  },
  {
   "cell_type": "code",
   "execution_count": null,
   "id": "b83919e2",
   "metadata": {},
   "outputs": [],
   "source": []
  },
  {
   "cell_type": "code",
   "execution_count": null,
   "id": "0ce72970",
   "metadata": {},
   "outputs": [],
   "source": []
  },
  {
   "cell_type": "code",
   "execution_count": null,
   "id": "1d458630",
   "metadata": {},
   "outputs": [],
   "source": []
  },
  {
   "cell_type": "code",
   "execution_count": null,
   "id": "f415533d",
   "metadata": {},
   "outputs": [],
   "source": []
  },
  {
   "cell_type": "code",
   "execution_count": null,
   "id": "3b4e2a4f",
   "metadata": {},
   "outputs": [],
   "source": []
  },
  {
   "cell_type": "code",
   "execution_count": null,
   "id": "b991e6c5",
   "metadata": {},
   "outputs": [],
   "source": []
  },
  {
   "cell_type": "code",
   "execution_count": null,
   "id": "b65de660",
   "metadata": {},
   "outputs": [],
   "source": []
  },
  {
   "cell_type": "code",
   "execution_count": null,
   "id": "79bc6a00",
   "metadata": {},
   "outputs": [],
   "source": []
  },
  {
   "cell_type": "code",
   "execution_count": null,
   "id": "4f6c32c3",
   "metadata": {},
   "outputs": [],
   "source": []
  },
  {
   "cell_type": "code",
   "execution_count": null,
   "id": "57a64310",
   "metadata": {},
   "outputs": [],
   "source": []
  },
  {
   "cell_type": "code",
   "execution_count": null,
   "id": "b9eb0780",
   "metadata": {},
   "outputs": [],
   "source": []
  }
 ],
 "metadata": {
  "kernelspec": {
   "display_name": "Python 3",
   "language": "python",
   "name": "python3"
  },
  "language_info": {
   "codemirror_mode": {
    "name": "ipython",
    "version": 3
   },
   "file_extension": ".py",
   "mimetype": "text/x-python",
   "name": "python",
   "nbconvert_exporter": "python",
   "pygments_lexer": "ipython3",
   "version": "3.8.8"
  }
 },
 "nbformat": 4,
 "nbformat_minor": 5
}
