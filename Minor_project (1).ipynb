{
 "cells": [
  {
   "cell_type": "markdown",
   "id": "47d55d7e",
   "metadata": {},
   "source": [
    "# Importing Libraries\n"
   ]
  },
  {
   "cell_type": "code",
   "execution_count": 3,
   "id": "e2ffc324",
   "metadata": {},
   "outputs": [],
   "source": [
    "import pandas as pd;\n",
    "import numpy as np;"
   ]
  },
  {
   "cell_type": "markdown",
   "id": "5e34ba4b",
   "metadata": {},
   "source": [
    "## Importing DataSet"
   ]
  },
  {
   "cell_type": "code",
   "execution_count": 4,
   "id": "c6b92fbc",
   "metadata": {},
   "outputs": [],
   "source": [
    "ds_1=pd.read_csv('city_day.csv');"
   ]
  },
  {
   "cell_type": "code",
   "execution_count": 5,
   "id": "34665ec1",
   "metadata": {},
   "outputs": [
    {
     "name": "stdout",
     "output_type": "stream",
     "text": [
      "                City        Date  PM2.5   PM10     NO    NO2    NOx    NH3  \\\n",
      "0          Ahmedabad  2015-01-01    NaN    NaN   0.92  18.22  17.15    NaN   \n",
      "1          Ahmedabad  2015-01-02    NaN    NaN   0.97  15.69  16.46    NaN   \n",
      "2          Ahmedabad  2015-01-03    NaN    NaN  17.40  19.30  29.70    NaN   \n",
      "3          Ahmedabad  2015-01-04    NaN    NaN   1.70  18.48  17.97    NaN   \n",
      "4          Ahmedabad  2015-01-05    NaN    NaN  22.10  21.42  37.76    NaN   \n",
      "...              ...         ...    ...    ...    ...    ...    ...    ...   \n",
      "29526  Visakhapatnam  2020-06-27  15.02  50.94   7.68  25.06  19.54  12.47   \n",
      "29527  Visakhapatnam  2020-06-28  24.38  74.09   3.42  26.06  16.53  11.99   \n",
      "29528  Visakhapatnam  2020-06-29  22.91  65.73   3.45  29.53  18.33  10.71   \n",
      "29529  Visakhapatnam  2020-06-30  16.64  49.97   4.05  29.26  18.80  10.03   \n",
      "29530  Visakhapatnam  2020-07-01  15.00  66.00   0.40  26.85  14.05   5.20   \n",
      "\n",
      "          CO    SO2      O3  Benzene  Toluene  Xylene   AQI    AQI_Bucket  \n",
      "0       0.92  27.64  133.36     0.00     0.02    0.00   NaN           NaN  \n",
      "1       0.97  24.55   34.06     3.68     5.50    3.77   NaN           NaN  \n",
      "2      17.40  29.07   30.70     6.80    16.40    2.25   NaN           NaN  \n",
      "3       1.70  18.59   36.08     4.43    10.14    1.00   NaN           NaN  \n",
      "4      22.10  39.33   39.31     7.01    18.89    2.78   NaN           NaN  \n",
      "...      ...    ...     ...      ...      ...     ...   ...           ...  \n",
      "29526   0.47   8.55   23.30     2.24    12.07    0.73  41.0          Good  \n",
      "29527   0.52  12.72   30.14     0.74     2.21    0.38  70.0  Satisfactory  \n",
      "29528   0.48   8.42   30.96     0.01     0.01    0.00  68.0  Satisfactory  \n",
      "29529   0.52   9.84   28.30     0.00     0.00    0.00  54.0  Satisfactory  \n",
      "29530   0.59   2.10   17.05      NaN      NaN     NaN  50.0          Good  \n",
      "\n",
      "[29531 rows x 16 columns]\n"
     ]
    }
   ],
   "source": [
    "print(ds_1);\n",
    "\n"
   ]
  },
  {
   "cell_type": "markdown",
   "id": "df096cc6",
   "metadata": {},
   "source": [
    "## Cleaning DataSet"
   ]
  },
  {
   "cell_type": "markdown",
   "id": "0987fc2a",
   "metadata": {},
   "source": [
    "The Dataset we are looking is for Delhi. We can change the city manually and see the data of it.\n"
   ]
  },
  {
   "cell_type": "code",
   "execution_count": 6,
   "id": "55e5f5c3",
   "metadata": {},
   "outputs": [],
   "source": [
    "new_df = pd.concat([ds_1.iloc[:,0:2],ds_1.iloc[:,-2:]],axis = 1)\n",
    "\n",
    "new_df = new_df[new_df['City'] == 'Delhi']"
   ]
  },
  {
   "cell_type": "code",
   "execution_count": 7,
   "id": "5845488a",
   "metadata": {},
   "outputs": [],
   "source": [
    "new_df['Date'] = pd.to_datetime(new_df['Date'])"
   ]
  },
  {
   "cell_type": "code",
   "execution_count": 8,
   "id": "b42f6a71",
   "metadata": {},
   "outputs": [],
   "source": [
    "new_df['Year'] = new_df['Date'].dt.year"
   ]
  },
  {
   "cell_type": "code",
   "execution_count": 9,
   "id": "54d4e708",
   "metadata": {},
   "outputs": [],
   "source": [
    "new_df = new_df.set_index(['Year'])"
   ]
  },
  {
   "cell_type": "code",
   "execution_count": 10,
   "id": "a40005bd",
   "metadata": {},
   "outputs": [
    {
     "data": {
      "text/html": [
       "<div>\n",
       "<style scoped>\n",
       "    .dataframe tbody tr th:only-of-type {\n",
       "        vertical-align: middle;\n",
       "    }\n",
       "\n",
       "    .dataframe tbody tr th {\n",
       "        vertical-align: top;\n",
       "    }\n",
       "\n",
       "    .dataframe thead th {\n",
       "        text-align: right;\n",
       "    }\n",
       "</style>\n",
       "<table border=\"1\" class=\"dataframe\">\n",
       "  <thead>\n",
       "    <tr style=\"text-align: right;\">\n",
       "      <th></th>\n",
       "      <th>City</th>\n",
       "      <th>Date</th>\n",
       "      <th>AQI</th>\n",
       "      <th>AQI_Bucket</th>\n",
       "    </tr>\n",
       "    <tr>\n",
       "      <th>Year</th>\n",
       "      <th></th>\n",
       "      <th></th>\n",
       "      <th></th>\n",
       "      <th></th>\n",
       "    </tr>\n",
       "  </thead>\n",
       "  <tbody>\n",
       "    <tr>\n",
       "      <th>2017</th>\n",
       "      <td>Delhi</td>\n",
       "      <td>2017-01-01</td>\n",
       "      <td>332.0</td>\n",
       "      <td>Very Poor</td>\n",
       "    </tr>\n",
       "    <tr>\n",
       "      <th>2017</th>\n",
       "      <td>Delhi</td>\n",
       "      <td>2017-01-02</td>\n",
       "      <td>384.0</td>\n",
       "      <td>Very Poor</td>\n",
       "    </tr>\n",
       "    <tr>\n",
       "      <th>2017</th>\n",
       "      <td>Delhi</td>\n",
       "      <td>2017-01-03</td>\n",
       "      <td>373.0</td>\n",
       "      <td>Very Poor</td>\n",
       "    </tr>\n",
       "    <tr>\n",
       "      <th>2017</th>\n",
       "      <td>Delhi</td>\n",
       "      <td>2017-01-04</td>\n",
       "      <td>439.0</td>\n",
       "      <td>Severe</td>\n",
       "    </tr>\n",
       "    <tr>\n",
       "      <th>2017</th>\n",
       "      <td>Delhi</td>\n",
       "      <td>2017-01-05</td>\n",
       "      <td>318.0</td>\n",
       "      <td>Very Poor</td>\n",
       "    </tr>\n",
       "    <tr>\n",
       "      <th>...</th>\n",
       "      <td>...</td>\n",
       "      <td>...</td>\n",
       "      <td>...</td>\n",
       "      <td>...</td>\n",
       "    </tr>\n",
       "    <tr>\n",
       "      <th>2017</th>\n",
       "      <td>Delhi</td>\n",
       "      <td>2017-12-27</td>\n",
       "      <td>379.0</td>\n",
       "      <td>Very Poor</td>\n",
       "    </tr>\n",
       "    <tr>\n",
       "      <th>2017</th>\n",
       "      <td>Delhi</td>\n",
       "      <td>2017-12-28</td>\n",
       "      <td>398.0</td>\n",
       "      <td>Very Poor</td>\n",
       "    </tr>\n",
       "    <tr>\n",
       "      <th>2017</th>\n",
       "      <td>Delhi</td>\n",
       "      <td>2017-12-29</td>\n",
       "      <td>399.0</td>\n",
       "      <td>Very Poor</td>\n",
       "    </tr>\n",
       "    <tr>\n",
       "      <th>2017</th>\n",
       "      <td>Delhi</td>\n",
       "      <td>2017-12-30</td>\n",
       "      <td>421.0</td>\n",
       "      <td>Severe</td>\n",
       "    </tr>\n",
       "    <tr>\n",
       "      <th>2017</th>\n",
       "      <td>Delhi</td>\n",
       "      <td>2017-12-31</td>\n",
       "      <td>451.0</td>\n",
       "      <td>Severe</td>\n",
       "    </tr>\n",
       "  </tbody>\n",
       "</table>\n",
       "<p>365 rows × 4 columns</p>\n",
       "</div>"
      ],
      "text/plain": [
       "       City       Date    AQI AQI_Bucket\n",
       "Year                                    \n",
       "2017  Delhi 2017-01-01  332.0  Very Poor\n",
       "2017  Delhi 2017-01-02  384.0  Very Poor\n",
       "2017  Delhi 2017-01-03  373.0  Very Poor\n",
       "2017  Delhi 2017-01-04  439.0     Severe\n",
       "2017  Delhi 2017-01-05  318.0  Very Poor\n",
       "...     ...        ...    ...        ...\n",
       "2017  Delhi 2017-12-27  379.0  Very Poor\n",
       "2017  Delhi 2017-12-28  398.0  Very Poor\n",
       "2017  Delhi 2017-12-29  399.0  Very Poor\n",
       "2017  Delhi 2017-12-30  421.0     Severe\n",
       "2017  Delhi 2017-12-31  451.0     Severe\n",
       "\n",
       "[365 rows x 4 columns]"
      ]
     },
     "execution_count": 10,
     "metadata": {},
     "output_type": "execute_result"
    }
   ],
   "source": [
    "new_df.loc['2017']"
   ]
  },
  {
   "cell_type": "code",
   "execution_count": 11,
   "id": "c34470a9",
   "metadata": {},
   "outputs": [],
   "source": [
    "ds_delhi_16 = new_df.loc['2016'];\n",
    "ds_delhi_17 = new_df.loc['2017'];\n",
    "ds_delhi_18 = new_df.loc['2018'];\n",
    "ds_delhi_19 = new_df.loc['2019'];\n",
    "ds_delhi_20 = new_df.loc['2020'];"
   ]
  },
  {
   "cell_type": "code",
   "execution_count": 12,
   "id": "3cf7b24d",
   "metadata": {},
   "outputs": [],
   "source": [
    "aqi_16 = ds_delhi_16.iloc[:,2].values;\n",
    "aqi_17 = ds_delhi_17.iloc[:,2].values;\n",
    "aqi_18 = ds_delhi_18.iloc[:,2].values;\n",
    "aqi_19 = ds_delhi_19.iloc[:,2].values;\n",
    "aqi_20 = ds_delhi_20.iloc[:,2].values;"
   ]
  },
  {
   "cell_type": "code",
   "execution_count": 13,
   "id": "d8c36469",
   "metadata": {},
   "outputs": [],
   "source": [
    "x_16 = np.zeros((362,4))"
   ]
  },
  {
   "cell_type": "code",
   "execution_count": 14,
   "id": "cef46760",
   "metadata": {},
   "outputs": [],
   "source": [
    "point = 0 \n",
    "count = 0\n",
    "for i in range(0,362):\n",
    "    for j in range(0,4):\n",
    "        x_16[i][j] = aqi_16[point]\n",
    "        point += 1\n",
    "    count += 1\n",
    "    point = count\n"
   ]
  },
  {
   "cell_type": "code",
   "execution_count": 15,
   "id": "1557ffc0",
   "metadata": {},
   "outputs": [],
   "source": [
    "x_16 = pd.DataFrame(x_16)"
   ]
  },
  {
   "cell_type": "code",
   "execution_count": 16,
   "id": "583ea6af",
   "metadata": {},
   "outputs": [
    {
     "data": {
      "text/html": [
       "<div>\n",
       "<style scoped>\n",
       "    .dataframe tbody tr th:only-of-type {\n",
       "        vertical-align: middle;\n",
       "    }\n",
       "\n",
       "    .dataframe tbody tr th {\n",
       "        vertical-align: top;\n",
       "    }\n",
       "\n",
       "    .dataframe thead th {\n",
       "        text-align: right;\n",
       "    }\n",
       "</style>\n",
       "<table border=\"1\" class=\"dataframe\">\n",
       "  <thead>\n",
       "    <tr style=\"text-align: right;\">\n",
       "      <th></th>\n",
       "      <th>0</th>\n",
       "      <th>1</th>\n",
       "      <th>2</th>\n",
       "      <th>3</th>\n",
       "    </tr>\n",
       "  </thead>\n",
       "  <tbody>\n",
       "    <tr>\n",
       "      <th>0</th>\n",
       "      <td>463.0</td>\n",
       "      <td>465.0</td>\n",
       "      <td>426.0</td>\n",
       "      <td>496.0</td>\n",
       "    </tr>\n",
       "    <tr>\n",
       "      <th>1</th>\n",
       "      <td>465.0</td>\n",
       "      <td>426.0</td>\n",
       "      <td>496.0</td>\n",
       "      <td>528.0</td>\n",
       "    </tr>\n",
       "    <tr>\n",
       "      <th>2</th>\n",
       "      <td>426.0</td>\n",
       "      <td>496.0</td>\n",
       "      <td>528.0</td>\n",
       "      <td>538.0</td>\n",
       "    </tr>\n",
       "    <tr>\n",
       "      <th>3</th>\n",
       "      <td>496.0</td>\n",
       "      <td>528.0</td>\n",
       "      <td>538.0</td>\n",
       "      <td>535.0</td>\n",
       "    </tr>\n",
       "    <tr>\n",
       "      <th>4</th>\n",
       "      <td>528.0</td>\n",
       "      <td>538.0</td>\n",
       "      <td>535.0</td>\n",
       "      <td>603.0</td>\n",
       "    </tr>\n",
       "    <tr>\n",
       "      <th>...</th>\n",
       "      <td>...</td>\n",
       "      <td>...</td>\n",
       "      <td>...</td>\n",
       "      <td>...</td>\n",
       "    </tr>\n",
       "    <tr>\n",
       "      <th>357</th>\n",
       "      <td>470.0</td>\n",
       "      <td>576.0</td>\n",
       "      <td>412.0</td>\n",
       "      <td>338.0</td>\n",
       "    </tr>\n",
       "    <tr>\n",
       "      <th>358</th>\n",
       "      <td>576.0</td>\n",
       "      <td>412.0</td>\n",
       "      <td>338.0</td>\n",
       "      <td>319.0</td>\n",
       "    </tr>\n",
       "    <tr>\n",
       "      <th>359</th>\n",
       "      <td>412.0</td>\n",
       "      <td>338.0</td>\n",
       "      <td>319.0</td>\n",
       "      <td>455.0</td>\n",
       "    </tr>\n",
       "    <tr>\n",
       "      <th>360</th>\n",
       "      <td>338.0</td>\n",
       "      <td>319.0</td>\n",
       "      <td>455.0</td>\n",
       "      <td>524.0</td>\n",
       "    </tr>\n",
       "    <tr>\n",
       "      <th>361</th>\n",
       "      <td>319.0</td>\n",
       "      <td>455.0</td>\n",
       "      <td>524.0</td>\n",
       "      <td>381.0</td>\n",
       "    </tr>\n",
       "  </tbody>\n",
       "</table>\n",
       "<p>362 rows × 4 columns</p>\n",
       "</div>"
      ],
      "text/plain": [
       "         0      1      2      3\n",
       "0    463.0  465.0  426.0  496.0\n",
       "1    465.0  426.0  496.0  528.0\n",
       "2    426.0  496.0  528.0  538.0\n",
       "3    496.0  528.0  538.0  535.0\n",
       "4    528.0  538.0  535.0  603.0\n",
       "..     ...    ...    ...    ...\n",
       "357  470.0  576.0  412.0  338.0\n",
       "358  576.0  412.0  338.0  319.0\n",
       "359  412.0  338.0  319.0  455.0\n",
       "360  338.0  319.0  455.0  524.0\n",
       "361  319.0  455.0  524.0  381.0\n",
       "\n",
       "[362 rows x 4 columns]"
      ]
     },
     "execution_count": 16,
     "metadata": {},
     "output_type": "execute_result"
    }
   ],
   "source": [
    "x_16\n"
   ]
  },
  {
   "cell_type": "code",
   "execution_count": 17,
   "id": "7f16df38",
   "metadata": {},
   "outputs": [
    {
     "data": {
      "text/plain": [
       "array([463., 465., 426., 496., 528., 538., 535., 603., 408., 368., 404.,\n",
       "       444., 356., 397., 371., 311., 321., 424., 435., 455., 398., 399.,\n",
       "       469., 488., 401., 446., 456., 451., 501., 505., 437., 305., 292.,\n",
       "       306., 300., 371., 408., 343., 301., 322., 368., 349., 334., 333.,\n",
       "       257., 265., 297., 289., 310., 366., 345., 228., 213., 208., 319.,\n",
       "       315., 293., 342., 338., 344., 370., 365., 348., 312., 214., 165.,\n",
       "       218., 230., 248., 276., 213., 127., 112., 111., 193., 123., 194.,\n",
       "       186., 242., 267., 207., 176., 189., 341., 325., 259., 178., 219.,\n",
       "       206., 221., 298., 316., 294., 314., 334., 261., 208., 289., 216.,\n",
       "       314., 262., 257., 235., 239., 239., 302., 296., 247., 265., 301.,\n",
       "       322., 291., 292., 258., 282., 271., 314., 377., 390., 392., 342.,\n",
       "       297., 275., 281., 309., 262., 194., 229., 246., 225., 221., 185.,\n",
       "       218., 310., 307., 325., 316., 302., 318., 300., 246., 255., 218.,\n",
       "       252., 190., 256., 311., 381., 409., 269., 187., 225., 283., 316.,\n",
       "       361., 330., 256., 237., 246., 202., 209., 262., 280., 279., 357.,\n",
       "       266., 330., 248., 172., 234., 201., 206., 159., 187., 228., 284.,\n",
       "       310., 158., 154., 187., 180., 190., 164., 148., 154., 160., 165.,\n",
       "       210., 158., 172., 151., 143., 156., 108., 163., 247., 123., 106.,\n",
       "       202., 120., 135., 245., 280., 269., 163.,  nan, 195., 163., 108.,\n",
       "       134., 155., 116., 136., 150., 121., 149., 178., 120., 140., 142.,\n",
       "       141., 125., 127., 119., 111., 132., 149., 166., 274., 295., 219.,\n",
       "       169., 174., 111.,  93., 107., 127.,  93., 142.,  93., 224., 169.,\n",
       "       110., 100., 109., 154., 216., 262., 260., 329., 291., 300., 335.,\n",
       "       240., 177., 178., 193., 150., 215., 233., 220., 266., 192., 264.,\n",
       "       284., 150., 134., 197., 175., 236., 185., 103., 289., 224., 312.,\n",
       "       234., 282., 351., 232., 280., 311., 408., 416., 387., 408., 405.,\n",
       "       371., 375., 400., 430., 425., 438., 428., 425., 496., 472., 470.,\n",
       "       454., 396., 413., 558., 570., 554., 522., 520., 550., 593., 625.,\n",
       "       480., 603., 676., 716., 542., 455., 471., 514., 491., 469., 404.,\n",
       "       379., 428., 504., 512., 494., 438., 474., 471., 432., 397., 375.,\n",
       "       330., 347., 274., 360., 441., 418., 474., 419., 379., 389., 402.,\n",
       "       472., 422., 443., 413., 351., 418., 413., 379., 359., 390., 437.,\n",
       "       411., 443., 377., 317., 349., 470., 576., 412., 338., 319., 455.,\n",
       "       524., 381., 338.])"
      ]
     },
     "execution_count": 17,
     "metadata": {},
     "output_type": "execute_result"
    }
   ],
   "source": [
    "aqi_16"
   ]
  },
  {
   "cell_type": "code",
   "execution_count": 18,
   "id": "ff080a3e",
   "metadata": {},
   "outputs": [],
   "source": [
    "x_17 = np.zeros((362,4))\n",
    "x_18 = np.zeros((362,4))\n",
    "x_19 = np.zeros((362,4))"
   ]
  },
  {
   "cell_type": "code",
   "execution_count": 19,
   "id": "3e77ec16",
   "metadata": {},
   "outputs": [],
   "source": [
    "point = 0 \n",
    "count = 0\n",
    "for i in range(0,362):\n",
    "    for j in range(0,4):\n",
    "        x_17[i][j] = aqi_17[point]\n",
    "        point += 1\n",
    "    count += 1\n",
    "    point = count"
   ]
  },
  {
   "cell_type": "code",
   "execution_count": 20,
   "id": "fee17ee2",
   "metadata": {},
   "outputs": [],
   "source": [
    "point = 0 \n",
    "count = 0\n",
    "for i in range(0,362):\n",
    "    for j in range(0,4):\n",
    "        x_18[i][j] = aqi_18[point]\n",
    "        point += 1\n",
    "    count += 1\n",
    "    point = count"
   ]
  },
  {
   "cell_type": "code",
   "execution_count": 21,
   "id": "bd0c44ff",
   "metadata": {},
   "outputs": [],
   "source": [
    "point = 0 \n",
    "count = 0\n",
    "for i in range(0,362):\n",
    "    for j in range(0,4):\n",
    "        x_19[i][j] = aqi_19[point]\n",
    "        point += 1\n",
    "    count += 1\n",
    "    point = count"
   ]
  },
  {
   "cell_type": "code",
   "execution_count": 22,
   "id": "8b8e5985",
   "metadata": {},
   "outputs": [
    {
     "data": {
      "text/plain": [
       "array([[332., 384., 373., 439.],\n",
       "       [384., 373., 439., 318.],\n",
       "       [373., 439., 318., 390.],\n",
       "       ...,\n",
       "       [372., 379., 398., 399.],\n",
       "       [379., 398., 399., 421.],\n",
       "       [398., 399., 421., 451.]])"
      ]
     },
     "execution_count": 22,
     "metadata": {},
     "output_type": "execute_result"
    }
   ],
   "source": [
    "x_17"
   ]
  },
  {
   "cell_type": "code",
   "execution_count": 23,
   "id": "2f3f709e",
   "metadata": {},
   "outputs": [
    {
     "data": {
      "text/plain": [
       "array([[462., 439., 405., 394.],\n",
       "       [439., 405., 394., 398.],\n",
       "       [405., 394., 398., 403.],\n",
       "       ...,\n",
       "       [405., 458., 413., 420.],\n",
       "       [458., 413., 420., 484.],\n",
       "       [413., 420., 484., 509.]])"
      ]
     },
     "execution_count": 23,
     "metadata": {},
     "output_type": "execute_result"
    }
   ],
   "source": [
    "x_18"
   ]
  },
  {
   "cell_type": "code",
   "execution_count": 24,
   "id": "92ead881",
   "metadata": {},
   "outputs": [
    {
     "data": {
      "text/plain": [
       "array([[475., 501., 537., 432.],\n",
       "       [501., 537., 432., 440.],\n",
       "       [537., 432., 440., 371.],\n",
       "       ...,\n",
       "       [340., 372., 425., 455.],\n",
       "       [372., 425., 455., 506.],\n",
       "       [425., 455., 506., 417.]])"
      ]
     },
     "execution_count": 24,
     "metadata": {},
     "output_type": "execute_result"
    }
   ],
   "source": [
    "x_19"
   ]
  },
  {
   "cell_type": "code",
   "execution_count": 25,
   "id": "b287714d",
   "metadata": {},
   "outputs": [],
   "source": [
    "x_16 = pd.DataFrame(x_16)\n",
    "x_17 = pd.DataFrame(x_17)\n",
    "x_18 = pd.DataFrame(x_18)\n",
    "x_19 = pd.DataFrame(x_19)"
   ]
  },
  {
   "cell_type": "code",
   "execution_count": 26,
   "id": "5cec8194",
   "metadata": {},
   "outputs": [
    {
     "data": {
      "text/html": [
       "<div>\n",
       "<style scoped>\n",
       "    .dataframe tbody tr th:only-of-type {\n",
       "        vertical-align: middle;\n",
       "    }\n",
       "\n",
       "    .dataframe tbody tr th {\n",
       "        vertical-align: top;\n",
       "    }\n",
       "\n",
       "    .dataframe thead th {\n",
       "        text-align: right;\n",
       "    }\n",
       "</style>\n",
       "<table border=\"1\" class=\"dataframe\">\n",
       "  <thead>\n",
       "    <tr style=\"text-align: right;\">\n",
       "      <th></th>\n",
       "      <th>0</th>\n",
       "      <th>1</th>\n",
       "      <th>2</th>\n",
       "      <th>3</th>\n",
       "    </tr>\n",
       "  </thead>\n",
       "  <tbody>\n",
       "    <tr>\n",
       "      <th>0</th>\n",
       "      <td>475.0</td>\n",
       "      <td>501.0</td>\n",
       "      <td>537.0</td>\n",
       "      <td>432.0</td>\n",
       "    </tr>\n",
       "    <tr>\n",
       "      <th>1</th>\n",
       "      <td>501.0</td>\n",
       "      <td>537.0</td>\n",
       "      <td>432.0</td>\n",
       "      <td>440.0</td>\n",
       "    </tr>\n",
       "    <tr>\n",
       "      <th>2</th>\n",
       "      <td>537.0</td>\n",
       "      <td>432.0</td>\n",
       "      <td>440.0</td>\n",
       "      <td>371.0</td>\n",
       "    </tr>\n",
       "    <tr>\n",
       "      <th>3</th>\n",
       "      <td>432.0</td>\n",
       "      <td>440.0</td>\n",
       "      <td>371.0</td>\n",
       "      <td>331.0</td>\n",
       "    </tr>\n",
       "    <tr>\n",
       "      <th>4</th>\n",
       "      <td>440.0</td>\n",
       "      <td>371.0</td>\n",
       "      <td>331.0</td>\n",
       "      <td>340.0</td>\n",
       "    </tr>\n",
       "    <tr>\n",
       "      <th>...</th>\n",
       "      <td>...</td>\n",
       "      <td>...</td>\n",
       "      <td>...</td>\n",
       "      <td>...</td>\n",
       "    </tr>\n",
       "    <tr>\n",
       "      <th>357</th>\n",
       "      <td>376.0</td>\n",
       "      <td>384.0</td>\n",
       "      <td>340.0</td>\n",
       "      <td>372.0</td>\n",
       "    </tr>\n",
       "    <tr>\n",
       "      <th>358</th>\n",
       "      <td>384.0</td>\n",
       "      <td>340.0</td>\n",
       "      <td>372.0</td>\n",
       "      <td>425.0</td>\n",
       "    </tr>\n",
       "    <tr>\n",
       "      <th>359</th>\n",
       "      <td>340.0</td>\n",
       "      <td>372.0</td>\n",
       "      <td>425.0</td>\n",
       "      <td>455.0</td>\n",
       "    </tr>\n",
       "    <tr>\n",
       "      <th>360</th>\n",
       "      <td>372.0</td>\n",
       "      <td>425.0</td>\n",
       "      <td>455.0</td>\n",
       "      <td>506.0</td>\n",
       "    </tr>\n",
       "    <tr>\n",
       "      <th>361</th>\n",
       "      <td>425.0</td>\n",
       "      <td>455.0</td>\n",
       "      <td>506.0</td>\n",
       "      <td>417.0</td>\n",
       "    </tr>\n",
       "  </tbody>\n",
       "</table>\n",
       "<p>362 rows × 4 columns</p>\n",
       "</div>"
      ],
      "text/plain": [
       "         0      1      2      3\n",
       "0    475.0  501.0  537.0  432.0\n",
       "1    501.0  537.0  432.0  440.0\n",
       "2    537.0  432.0  440.0  371.0\n",
       "3    432.0  440.0  371.0  331.0\n",
       "4    440.0  371.0  331.0  340.0\n",
       "..     ...    ...    ...    ...\n",
       "357  376.0  384.0  340.0  372.0\n",
       "358  384.0  340.0  372.0  425.0\n",
       "359  340.0  372.0  425.0  455.0\n",
       "360  372.0  425.0  455.0  506.0\n",
       "361  425.0  455.0  506.0  417.0\n",
       "\n",
       "[362 rows x 4 columns]"
      ]
     },
     "execution_count": 26,
     "metadata": {},
     "output_type": "execute_result"
    }
   ],
   "source": [
    "x_19"
   ]
  },
  {
   "cell_type": "markdown",
   "id": "9b08faa9",
   "metadata": {},
   "source": [
    "## Making Dataframe for Test and Train"
   ]
  },
  {
   "cell_type": "code",
   "execution_count": 46,
   "id": "3f74211b",
   "metadata": {
    "scrolled": true
   },
   "outputs": [
    {
     "data": {
      "text/html": [
       "<div>\n",
       "<style scoped>\n",
       "    .dataframe tbody tr th:only-of-type {\n",
       "        vertical-align: middle;\n",
       "    }\n",
       "\n",
       "    .dataframe tbody tr th {\n",
       "        vertical-align: top;\n",
       "    }\n",
       "\n",
       "    .dataframe thead th {\n",
       "        text-align: right;\n",
       "    }\n",
       "</style>\n",
       "<table border=\"1\" class=\"dataframe\">\n",
       "  <thead>\n",
       "    <tr style=\"text-align: right;\">\n",
       "      <th></th>\n",
       "      <th>Last 3</th>\n",
       "      <th>Last 2</th>\n",
       "      <th>Last 1</th>\n",
       "      <th>Present</th>\n",
       "    </tr>\n",
       "  </thead>\n",
       "  <tbody>\n",
       "    <tr>\n",
       "      <th>0</th>\n",
       "      <td>463.0</td>\n",
       "      <td>465.0</td>\n",
       "      <td>426.0</td>\n",
       "      <td>496.0</td>\n",
       "    </tr>\n",
       "    <tr>\n",
       "      <th>1</th>\n",
       "      <td>465.0</td>\n",
       "      <td>426.0</td>\n",
       "      <td>496.0</td>\n",
       "      <td>528.0</td>\n",
       "    </tr>\n",
       "    <tr>\n",
       "      <th>2</th>\n",
       "      <td>426.0</td>\n",
       "      <td>496.0</td>\n",
       "      <td>528.0</td>\n",
       "      <td>538.0</td>\n",
       "    </tr>\n",
       "    <tr>\n",
       "      <th>3</th>\n",
       "      <td>496.0</td>\n",
       "      <td>528.0</td>\n",
       "      <td>538.0</td>\n",
       "      <td>535.0</td>\n",
       "    </tr>\n",
       "    <tr>\n",
       "      <th>4</th>\n",
       "      <td>528.0</td>\n",
       "      <td>538.0</td>\n",
       "      <td>535.0</td>\n",
       "      <td>603.0</td>\n",
       "    </tr>\n",
       "    <tr>\n",
       "      <th>...</th>\n",
       "      <td>...</td>\n",
       "      <td>...</td>\n",
       "      <td>...</td>\n",
       "      <td>...</td>\n",
       "    </tr>\n",
       "    <tr>\n",
       "      <th>1443</th>\n",
       "      <td>376.0</td>\n",
       "      <td>384.0</td>\n",
       "      <td>340.0</td>\n",
       "      <td>372.0</td>\n",
       "    </tr>\n",
       "    <tr>\n",
       "      <th>1444</th>\n",
       "      <td>384.0</td>\n",
       "      <td>340.0</td>\n",
       "      <td>372.0</td>\n",
       "      <td>425.0</td>\n",
       "    </tr>\n",
       "    <tr>\n",
       "      <th>1445</th>\n",
       "      <td>340.0</td>\n",
       "      <td>372.0</td>\n",
       "      <td>425.0</td>\n",
       "      <td>455.0</td>\n",
       "    </tr>\n",
       "    <tr>\n",
       "      <th>1446</th>\n",
       "      <td>372.0</td>\n",
       "      <td>425.0</td>\n",
       "      <td>455.0</td>\n",
       "      <td>506.0</td>\n",
       "    </tr>\n",
       "    <tr>\n",
       "      <th>1447</th>\n",
       "      <td>425.0</td>\n",
       "      <td>455.0</td>\n",
       "      <td>506.0</td>\n",
       "      <td>417.0</td>\n",
       "    </tr>\n",
       "  </tbody>\n",
       "</table>\n",
       "<p>1448 rows × 4 columns</p>\n",
       "</div>"
      ],
      "text/plain": [
       "      Last 3  Last 2  Last 1  Present\n",
       "0      463.0   465.0   426.0    496.0\n",
       "1      465.0   426.0   496.0    528.0\n",
       "2      426.0   496.0   528.0    538.0\n",
       "3      496.0   528.0   538.0    535.0\n",
       "4      528.0   538.0   535.0    603.0\n",
       "...      ...     ...     ...      ...\n",
       "1443   376.0   384.0   340.0    372.0\n",
       "1444   384.0   340.0   372.0    425.0\n",
       "1445   340.0   372.0   425.0    455.0\n",
       "1446   372.0   425.0   455.0    506.0\n",
       "1447   425.0   455.0   506.0    417.0\n",
       "\n",
       "[1448 rows x 4 columns]"
      ]
     },
     "execution_count": 46,
     "metadata": {},
     "output_type": "execute_result"
    }
   ],
   "source": [
    "\n",
    "ds_2 = np.concatenate((x_16,x_17,x_18,x_19),axis = 0)\n",
    "\n",
    "ds_2 = pd.DataFrame(ds_2,columns =['Last 3','Last 2','Last 1','Present'])\n",
    "\n",
    "ds_2"
   ]
  },
  {
   "cell_type": "markdown",
   "id": "7bdb4117",
   "metadata": {},
   "source": [
    "## Here we show that our DataFrame contains some null values so we remove in it next step"
   ]
  },
  {
   "cell_type": "code",
   "execution_count": 47,
   "id": "f4a21b36",
   "metadata": {},
   "outputs": [],
   "source": [
    "ds_2_null = np.where(ds_2['Last 3'].isnull())[0]"
   ]
  },
  {
   "cell_type": "code",
   "execution_count": 48,
   "id": "2d3aebcd",
   "metadata": {},
   "outputs": [
    {
     "data": {
      "text/plain": [
       "array([205, 535, 586, 587, 595, 596, 599, 600, 601, 602], dtype=int64)"
      ]
     },
     "execution_count": 48,
     "metadata": {},
     "output_type": "execute_result"
    }
   ],
   "source": [
    "ds_2_null"
   ]
  },
  {
   "cell_type": "code",
   "execution_count": 50,
   "id": "14a6c2fe",
   "metadata": {},
   "outputs": [
    {
     "data": {
      "text/plain": [
       "Last 3       NaN\n",
       "Last 2     195.0\n",
       "Last 1     163.0\n",
       "Present    108.0\n",
       "Name: 205, dtype: float64"
      ]
     },
     "execution_count": 50,
     "metadata": {},
     "output_type": "execute_result"
    }
   ],
   "source": [
    "ds_2.iloc[ 205]"
   ]
  },
  {
   "cell_type": "markdown",
   "id": "18e8f69c",
   "metadata": {},
   "source": [
    "# Data Preprocessing\n"
   ]
  },
  {
   "cell_type": "markdown",
   "id": "bccd8630",
   "metadata": {},
   "source": [
    "Here we remove the null values and make dataset more clean.\n"
   ]
  },
  {
   "cell_type": "code",
   "execution_count": 157,
   "id": "cf7b6b4d",
   "metadata": {},
   "outputs": [],
   "source": [
    "X=ds_2.iloc[:,[0,1,2]].values;\n",
    "Y=ds_2.iloc[:,[-1]].values;"
   ]
  },
  {
   "cell_type": "markdown",
   "id": "85520b4f",
   "metadata": {},
   "source": [
    "Here we remove the null values of \"X\"\n"
   ]
  },
  {
   "cell_type": "code",
   "execution_count": 158,
   "id": "6f57695a",
   "metadata": {},
   "outputs": [],
   "source": [
    "from sklearn.impute import SimpleImputer;\n",
    "ds_imputer=SimpleImputer(missing_values=np.nan,strategy='mean');\n",
    "ds_imputer.fit(X);\n",
    "X=ds_imputer.transform(X);"
   ]
  },
  {
   "cell_type": "markdown",
   "id": "1087b275",
   "metadata": {},
   "source": [
    "Now we will remove the Null values of \"Y\""
   ]
  },
  {
   "cell_type": "code",
   "execution_count": 159,
   "id": "2fa35b5c",
   "metadata": {},
   "outputs": [],
   "source": [
    "from sklearn.impute import SimpleImputer;\n",
    "ds_imputer=SimpleImputer(missing_values=np.nan,strategy='mean');\n",
    "ds_imputer.fit(Y);\n",
    "Y=ds_imputer.transform(Y);"
   ]
  },
  {
   "cell_type": "markdown",
   "id": "563b78e0",
   "metadata": {},
   "source": [
    "## Here you can see that all the Null values has been removed."
   ]
  },
  {
   "cell_type": "markdown",
   "id": "0271b71f",
   "metadata": {},
   "source": [
    "The empty array shows that no null value is there in X[0] which was there in the above cells.\n"
   ]
  },
  {
   "cell_type": "code",
   "execution_count": 132,
   "id": "dabb8e91",
   "metadata": {},
   "outputs": [],
   "source": [
    "X = pd.DataFrame(X)"
   ]
  },
  {
   "cell_type": "code",
   "execution_count": 133,
   "id": "b5259c10",
   "metadata": {},
   "outputs": [],
   "source": [
    "X_null = np.where(X[0].isnull())[0]"
   ]
  },
  {
   "cell_type": "code",
   "execution_count": 134,
   "id": "16e75792",
   "metadata": {},
   "outputs": [
    {
     "data": {
      "text/plain": [
       "array([], dtype=int64)"
      ]
     },
     "execution_count": 134,
     "metadata": {},
     "output_type": "execute_result"
    }
   ],
   "source": [
    "X_null"
   ]
  },
  {
   "cell_type": "markdown",
   "id": "e8b50951",
   "metadata": {},
   "source": [
    "# Now we train our model as we have required Data."
   ]
  },
  {
   "cell_type": "code",
   "execution_count": 160,
   "id": "826b9175",
   "metadata": {},
   "outputs": [],
   "source": [
    "from sklearn.model_selection import train_test_split;\n",
    "x_train,x_test,y_train,y_test=train_test_split(X,Y,test_size=0.2,random_state=1);"
   ]
  },
  {
   "cell_type": "code",
   "execution_count": 166,
   "id": "051909c8",
   "metadata": {},
   "outputs": [
    {
     "data": {
      "text/plain": [
       "(1448, 3)"
      ]
     },
     "execution_count": 166,
     "metadata": {},
     "output_type": "execute_result"
    }
   ],
   "source": [
    "X.shape\n"
   ]
  },
  {
   "cell_type": "markdown",
   "id": "24c04abc",
   "metadata": {},
   "source": [
    "## Applying SVR in our Model\n",
    "\n"
   ]
  },
  {
   "cell_type": "code",
   "execution_count": 162,
   "id": "75e8b7f0",
   "metadata": {},
   "outputs": [],
   "source": [
    "from sklearn.svm import SVR\n",
    "regressor = SVR(kernel = 'poly')\n",
    "regressor.fit(x_train, np.ravel(y_train));"
   ]
  },
  {
   "cell_type": "code",
   "execution_count": 163,
   "id": "5792cd43",
   "metadata": {},
   "outputs": [],
   "source": [
    "y_pred = regressor.predict(x_test);"
   ]
  },
  {
   "cell_type": "code",
   "execution_count": 164,
   "id": "04c07e58",
   "metadata": {},
   "outputs": [
    {
     "data": {
      "text/plain": [
       "(290, 3)"
      ]
     },
     "execution_count": 164,
     "metadata": {},
     "output_type": "execute_result"
    }
   ],
   "source": [
    "x_test.shape"
   ]
  },
  {
   "cell_type": "code",
   "execution_count": 165,
   "id": "7b8d6631",
   "metadata": {},
   "outputs": [
    {
     "data": {
      "text/plain": [
       "(290,)"
      ]
     },
     "execution_count": 165,
     "metadata": {},
     "output_type": "execute_result"
    }
   ],
   "source": [
    "y_pred.shape"
   ]
  },
  {
   "cell_type": "code",
   "execution_count": 141,
   "id": "752b00c5",
   "metadata": {},
   "outputs": [
    {
     "data": {
      "text/plain": [
       "(290, 1)"
      ]
     },
     "execution_count": 141,
     "metadata": {},
     "output_type": "execute_result"
    }
   ],
   "source": [
    "y_test.shape"
   ]
  },
  {
   "cell_type": "code",
   "execution_count": 142,
   "id": "f1b9050b",
   "metadata": {},
   "outputs": [
    {
     "data": {
      "text/plain": [
       "(290,)"
      ]
     },
     "execution_count": 142,
     "metadata": {},
     "output_type": "execute_result"
    }
   ],
   "source": [
    "y_pred.shape"
   ]
  },
  {
   "cell_type": "code",
   "execution_count": 143,
   "id": "7f3b0ab9",
   "metadata": {},
   "outputs": [],
   "source": [
    "y_test=np.ravel(y_test);\n",
    "y_pred=np.ravel(y_pred);"
   ]
  },
  {
   "cell_type": "code",
   "execution_count": 144,
   "id": "1f07c3d9",
   "metadata": {},
   "outputs": [],
   "source": [
    "ac=y_test-y_pred"
   ]
  },
  {
   "cell_type": "code",
   "execution_count": 145,
   "id": "47da6a44",
   "metadata": {},
   "outputs": [
    {
     "data": {
      "text/plain": [
       "array([ 5.63056447e+00, -7.14815614e+01, -6.73967346e+01, -9.02153923e+01,\n",
       "        8.21947260e+01, -1.52855457e+01, -3.05953355e+01,  6.31672865e+01,\n",
       "       -2.04558581e+02,  7.52393810e+01,  8.39709650e+01, -5.29701468e+01,\n",
       "       -1.25050822e+01, -4.16701465e+01,  1.00586571e+02, -7.09553810e+01,\n",
       "       -1.78250707e+01,  5.63288933e+01,  1.18395571e+02, -5.42163360e+01,\n",
       "        1.83858622e+02, -1.26450304e+02,  5.53717125e+01, -1.33000264e+01,\n",
       "        6.29957688e+00,  1.00952297e+01, -7.58774741e+01,  7.35948044e+01,\n",
       "        9.20781884e+01,  2.12884557e+01,  3.64376175e+01,  5.49200636e+01,\n",
       "        1.07835670e+02, -1.54928372e+01, -9.68132746e+00,  4.01525683e+01,\n",
       "       -1.10009286e+01, -8.94569688e+01,  9.66186989e+00, -1.18489224e+01,\n",
       "        8.60542120e+01, -4.75641924e+01,  7.71463831e+01,  5.93187635e+01,\n",
       "       -2.84204086e+01, -5.29433767e+01, -5.42724860e+01, -4.58531836e+01,\n",
       "        4.54790021e+01,  1.55490537e+02,  1.72492709e+01, -3.66972628e+01,\n",
       "       -9.33002061e+01,  7.13443060e+01,  6.46666595e+01,  7.85856777e+01,\n",
       "       -5.69056619e+01, -8.71505895e+01, -6.01409748e+00,  4.68152405e+01,\n",
       "       -1.58747759e+02, -7.11183513e+01,  4.94438140e+00,  3.37501391e+01,\n",
       "        1.98995439e+01, -7.86802067e+01,  1.86478865e+01, -5.30645239e+01,\n",
       "       -1.10387578e+02,  8.21583529e+01, -7.94343532e+01,  2.53091798e+01,\n",
       "        6.42544487e+01, -6.31875821e-01, -7.63409384e+01, -9.29320746e+00,\n",
       "       -5.07852226e+01,  1.28882977e+02, -1.56694564e+01,  5.99039954e+01,\n",
       "       -1.03643179e+02,  5.84831137e+01, -3.48130597e+01,  2.73037591e+01,\n",
       "       -3.62127974e+01,  1.84690415e+01,  6.74106638e+01,  6.96510957e+01,\n",
       "       -7.56728906e+01, -1.34802987e+02, -9.62047350e+00, -4.15739144e+00,\n",
       "        7.58894510e+01,  6.07496218e+01,  3.56855106e+01, -3.84936367e+01,\n",
       "        7.07690025e+01,  2.86286842e+01,  3.88120495e+00,  5.62963303e+00,\n",
       "       -1.11588288e+02,  6.88120466e+01, -9.52297288e+00, -4.26775359e+01,\n",
       "       -1.25429623e+01,  1.29992481e+01, -6.09029562e+00, -8.07913621e+00,\n",
       "        6.75176187e+01,  5.69883676e+01,  7.13347905e+00,  2.78859570e+01,\n",
       "       -7.25837313e+01, -1.03780412e+02,  7.33343507e+01, -6.21023121e+01,\n",
       "        1.65311874e+00,  3.07720206e+01,  6.40225317e+01,  6.59245585e+01,\n",
       "       -2.78699986e+01,  5.56644153e+01, -1.22801452e+01, -1.27792211e+01,\n",
       "       -7.61561439e+00, -2.28663443e+01,  1.50068610e+01, -8.89494229e+01,\n",
       "        2.92457325e+01, -3.63288683e+01, -2.13156609e+01, -1.82555351e+01,\n",
       "        4.57809724e+01, -3.90934984e+01, -3.36270586e+01,  2.23896365e+02,\n",
       "       -5.35941447e+01, -2.03359886e+01,  1.60998710e+01,  3.95557082e+01,\n",
       "       -8.10691077e+01, -3.06619551e+01, -9.84317598e+01,  7.90868257e+01,\n",
       "        5.55843177e+01,  4.32408883e+00,  6.95637525e+01,  1.60427743e+01,\n",
       "        6.16594695e+01, -2.81666311e+01,  3.91055163e+01, -4.22418413e+01,\n",
       "        9.74593079e-01, -2.30119859e+02,  9.02448509e+00, -6.00245374e+00,\n",
       "        4.86969093e+01,  6.52586795e+01, -8.69019235e+01,  6.00316772e+01,\n",
       "        3.50880506e+00,  2.96444666e+01,  5.41739313e+01,  8.41451760e+01,\n",
       "        1.09936901e+02,  1.42122015e+01, -7.29440991e+01,  3.90119620e+01,\n",
       "        1.63822859e+01, -1.07639268e+02,  2.49480030e+01, -1.19480069e+02,\n",
       "        5.51141652e+01, -5.08502113e+01, -7.44636308e+01,  9.84387474e+01,\n",
       "        3.37151733e+01, -1.40183283e+02,  6.64015051e+01,  7.54791676e+01,\n",
       "        2.59938306e+01,  5.21947501e+01,  5.75370910e+01,  6.71077337e+01,\n",
       "        1.19862625e+02,  5.93822412e+01, -1.80835319e+01,  5.86815306e+01,\n",
       "       -6.22810504e+01,  5.46105548e+01,  6.50839079e+01, -6.45780213e+01,\n",
       "        3.86520294e+01,  1.40027089e+02,  2.45491584e+01,  7.41651764e+01,\n",
       "       -1.01089965e+02, -3.33569370e+01, -6.02070627e+01,  5.66510444e+01,\n",
       "        6.59397677e+01,  6.54806950e+00,  6.69905139e+01,  1.64318057e+01,\n",
       "        7.16570070e+01,  2.21271244e+01, -4.58714481e+01, -6.92218571e+01,\n",
       "       -3.04112617e+01, -3.57911667e+01, -6.36602851e+01,  1.00304177e+02,\n",
       "        7.15491232e+01,  3.83039081e+01, -8.32120845e+01,  4.93405821e+01,\n",
       "       -4.16134817e+01, -1.32532314e+01,  5.05684640e+01,  2.93938488e+01,\n",
       "        4.77945652e+01, -1.47349581e+01, -5.60159623e+01, -5.25348612e+01,\n",
       "       -1.88579071e+01,  1.61032536e+00, -7.58880487e+02, -5.06456504e+01,\n",
       "        2.15502584e+01,  1.41885741e+01, -1.82324269e+01,  3.59931505e+01,\n",
       "        6.18381896e+01,  4.43932132e+01,  1.11278701e+00, -5.72827827e+01,\n",
       "        1.05071848e+01,  1.26115999e+02,  1.87525104e+00,  3.02700301e+01,\n",
       "        2.48155278e+01,  4.44000404e+01,  2.90470760e+01, -5.12397602e+01,\n",
       "        1.77363699e+00, -1.35578011e+01, -1.71455988e+01,  4.09316996e+01,\n",
       "        1.21520862e+01,  1.78426359e+01,  3.89239447e+01,  5.13702676e+01,\n",
       "        7.24866463e+01, -7.35441356e+01,  2.68400762e+01,  4.45919888e+01,\n",
       "        6.27741359e+01,  6.90256522e+01, -8.93999093e+01,  7.78911697e+01,\n",
       "        2.56698189e+01, -1.19514419e+02, -5.14877902e+01,  7.07467694e+01,\n",
       "        6.04707572e+01, -2.72478297e+02,  1.98158722e+02, -8.00464194e+01,\n",
       "        9.53300400e+01, -4.02694047e+01, -1.27287280e+01, -1.15366553e+02,\n",
       "        3.22717224e+01, -4.01566411e+01,  1.63515344e+01, -2.08543729e+02,\n",
       "       -8.83204546e+01,  4.86612035e+01,  1.19363419e+02,  3.40194898e+01,\n",
       "       -7.72784813e+01,  5.24675201e+01, -3.77192380e+01,  1.09233008e+02,\n",
       "       -4.55547964e+01,  8.23471046e+01,  2.67686175e+01, -6.31015453e+02,\n",
       "        6.65089879e+01, -8.74860938e+00])"
      ]
     },
     "execution_count": 145,
     "metadata": {},
     "output_type": "execute_result"
    }
   ],
   "source": [
    "ac"
   ]
  },
  {
   "cell_type": "code",
   "execution_count": 146,
   "id": "bd2f8b2a",
   "metadata": {},
   "outputs": [],
   "source": [
    "sum=np.zeros(218);\n",
    "for i in range(0,218,1):\n",
    "    sum[i]=ac[i]/218;"
   ]
  },
  {
   "cell_type": "code",
   "execution_count": 147,
   "id": "27136326",
   "metadata": {},
   "outputs": [],
   "source": [
    "div=y_test+y_pred"
   ]
  },
  {
   "cell_type": "code",
   "execution_count": 148,
   "id": "dc868dcd",
   "metadata": {},
   "outputs": [],
   "source": [
    "per=ac/div;"
   ]
  },
  {
   "cell_type": "code",
   "execution_count": 149,
   "id": "c80b8625",
   "metadata": {},
   "outputs": [],
   "source": [
    "\n",
    "per*=100"
   ]
  },
  {
   "cell_type": "code",
   "execution_count": 150,
   "id": "4112a52f",
   "metadata": {},
   "outputs": [
    {
     "data": {
      "text/plain": [
       "array([  1.2786002 , -26.9252452 , -26.18398974, -39.18738508,\n",
       "        12.5717441 ,  -1.90287822,  -8.6282397 ,  10.44376158,\n",
       "       -37.0202523 ,  11.11757672,  18.91114283,  -5.90545259,\n",
       "        -2.01530698, -14.38537834,  13.49406483, -27.61389183,\n",
       "        -4.59616257,  12.58265106,  18.74520903, -19.48711452,\n",
       "        25.53090655, -10.31026722,  10.43512262,  -3.39893318,\n",
       "         1.16292634,   1.4891811 , -30.85987212,  12.29849021,\n",
       "        17.1173926 ,   3.38604499,   7.72699835,  11.36873206,\n",
       "        16.4342475 ,  -2.002971  ,  -2.41020102,   7.04619623,\n",
       "        -3.51466326, -37.99291618,   1.3375827 ,  -3.42604   ,\n",
       "        17.21270868, -17.01369262,  13.60957763,  10.85070414,\n",
       "        -8.76036398, -19.98290253, -20.08065519,  -5.42093882,\n",
       "         7.37671584,  29.5323347 ,   2.61848225, -12.53761736,\n",
       "       -17.62708668,  12.16118871,  14.30798624,  11.810037  ,\n",
       "       -11.09476188, -37.37952785,  -1.6521606 ,   9.76976825,\n",
       "       -13.24279924, -27.87661137,   0.90713337,   7.77205525,\n",
       "         4.2511268 , -31.89563027,   4.96810484,  -6.26451969,\n",
       "       -52.97224484,  17.63654096, -32.6307081 ,   5.87641497,\n",
       "        10.78555241,  -0.17521352, -29.0998953 ,  -2.2595091 ,\n",
       "       -16.77268862,  21.80329312,  -3.42374965,   6.82203256,\n",
       "       -47.18706935,   9.40973849,  -9.86728205,   5.47502805,\n",
       "       -10.83525157,   3.36087371,  15.72849767,   8.34795795,\n",
       "       -29.83089379, -11.1887992 ,  -1.27996427,  -0.9194567 ,\n",
       "         9.20864939,  12.07145079,   8.21651394, -10.38982397,\n",
       "        10.3579906 ,   6.37083036,   1.12786776,   1.33920787,\n",
       "        -9.14966874,   8.54608496,  -2.54950125, -14.48279244,\n",
       "        -4.01319622,   2.70254216,  -2.01605139,  -1.71139446,\n",
       "        17.11549664,  10.8134933 ,   1.52143067,   6.45337901,\n",
       "       -25.15170587, -47.22004605,  15.85039883, -23.51449012,\n",
       "         0.26562658,   8.28925144,  10.96318526,  14.62701574,\n",
       "        -4.97794108,  11.4456801 ,  -3.63017024,  -2.72606389,\n",
       "        -1.21729928,  -7.35568346,   4.13419962, -38.51467641,\n",
       "         5.2909103 , -11.85943344,  -6.4336412 ,  -5.6299841 ,\n",
       "         6.02207664, -12.48620574,  -7.9005923 ,  33.71407015,\n",
       "       -18.50663963,  -4.61828901,   3.02685977,   6.17629178,\n",
       "       -33.62899066,  -8.14044389, -22.4508735 ,  14.30366092,\n",
       "        12.7365537 ,   0.61450005,  13.11444171,   4.383784  ,\n",
       "         9.48110515,  -3.08112658,   8.18924016, -14.75739574,\n",
       "         0.12289557, -21.03241768,   2.57125774,  -1.81891185,\n",
       "        10.74268194,  14.22559437, -36.68265847,   9.04134657,\n",
       "         1.02449497,   3.18635893,  10.18640012,  17.03844368,\n",
       "        15.22538697,   2.2930754 , -26.15007786,   5.35152293,\n",
       "         2.20305213,  -8.62743512,   3.52845379, -59.89574287,\n",
       "        12.50077929, -17.85156172, -29.26297585,  17.0438628 ,\n",
       "         8.86576873, -13.79507861,  10.68237868,  17.29108028,\n",
       "         4.27525771,  11.3023293 ,  13.42872154,   8.44236842,\n",
       "        20.17422741,  13.53849452,  -5.72112434,   8.18068029,\n",
       "        -6.68050159,   6.6324089 ,  13.15049337, -23.01606555,\n",
       "         7.55885065,  21.9487515 ,   3.63448484,  10.50744082,\n",
       "       -24.23696882,  -4.30213949, -22.78783241,   7.94156127,\n",
       "        11.52671763,   1.5992279 ,  16.06450599,   4.42228531,\n",
       "        15.56600362,   4.3914101 , -16.15923278, -26.7037116 ,\n",
       "        -7.33842549,  -9.22949509, -23.78398614,  20.23502563,\n",
       "        14.41212546,   5.42781922, -34.78590335,   5.61543882,\n",
       "       -14.36862728,  -1.86336326,  12.47275053,   5.15133752,\n",
       "         7.28347597,  -4.17734556, -16.0958026 , -18.59411648,\n",
       "        -5.76945109,   0.43951166, -41.17903967, -18.57563117,\n",
       "         4.12484813,   3.56665828,  -5.39050235,   6.84271517,\n",
       "         8.90832493,   8.99363913,   0.25825482, -14.94530547,\n",
       "         2.90660957,  24.63761302,   0.54811908,   6.58430646,\n",
       "         3.11289653,  11.51453451,   4.84964258,  -8.84603644,\n",
       "         0.51525309,  -4.1390561 ,  -4.88276056,   7.76591945,\n",
       "         1.84724857,   4.62056082,   6.56306124,  11.20081495,\n",
       "        17.36151567,  -8.17571175,   3.1607799 ,  10.94529012,\n",
       "        10.68994738,  10.01860989, -38.63437526,  14.21089489,\n",
       "         5.06977854, -59.90264754, -18.96504816,   8.96376051,\n",
       "        14.27782336, -16.75265498,  22.88626409, -34.20108696,\n",
       "        13.30180491,  -7.50917437,  -2.00538079, -56.72838093,\n",
       "         9.0720149 , -14.13186787,   3.15881057, -14.29807864,\n",
       "        -8.55552694,  11.28143444,  22.07830966,   5.18605191,\n",
       "       -31.00086333,  11.36811003, -13.01923829,  11.83755039,\n",
       "       -15.6247803 ,  14.15743052,   3.58237329, -37.22771094,\n",
       "        12.14795976,  -2.41175546])"
      ]
     },
     "execution_count": 150,
     "metadata": {},
     "output_type": "execute_result"
    }
   ],
   "source": [
    "per"
   ]
  },
  {
   "cell_type": "code",
   "execution_count": 154,
   "id": "329c47bf",
   "metadata": {},
   "outputs": [],
   "source": [
    "ans=0;\n",
    "for i in range(0,290,1):\n",
    "    ans+=abs(per[i]);"
   ]
  },
  {
   "cell_type": "code",
   "execution_count": 155,
   "id": "7a7dddc0",
   "metadata": {},
   "outputs": [],
   "source": [
    "ans/=218\n"
   ]
  },
  {
   "cell_type": "code",
   "execution_count": 156,
   "id": "46629f0e",
   "metadata": {},
   "outputs": [
    {
     "data": {
      "text/plain": [
       "16.655500612322324"
      ]
     },
     "execution_count": 156,
     "metadata": {},
     "output_type": "execute_result"
    }
   ],
   "source": [
    "ans"
   ]
  },
  {
   "cell_type": "code",
   "execution_count": null,
   "id": "c0794667",
   "metadata": {},
   "outputs": [],
   "source": []
  },
  {
   "cell_type": "code",
   "execution_count": null,
   "id": "efe98ce7",
   "metadata": {},
   "outputs": [],
   "source": []
  },
  {
   "cell_type": "code",
   "execution_count": null,
   "id": "48fbf1eb",
   "metadata": {},
   "outputs": [],
   "source": []
  }
 ],
 "metadata": {
  "kernelspec": {
   "display_name": "Python 3 (ipykernel)",
   "language": "python",
   "name": "python3"
  },
  "language_info": {
   "codemirror_mode": {
    "name": "ipython",
    "version": 3
   },
   "file_extension": ".py",
   "mimetype": "text/x-python",
   "name": "python",
   "nbconvert_exporter": "python",
   "pygments_lexer": "ipython3",
   "version": "3.9.7"
  }
 },
 "nbformat": 4,
 "nbformat_minor": 5
}
