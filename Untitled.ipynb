{
 "cells": [
  {
   "cell_type": "code",
   "execution_count": 2,
   "id": "e2ffc324",
   "metadata": {},
   "outputs": [],
   "source": [
    "import pandas as pd;\n",
    "import numpy as np;"
   ]
  },
  {
   "cell_type": "code",
   "execution_count": 5,
   "id": "5c59865d",
   "metadata": {},
   "outputs": [],
   "source": [
    "ds_1=pd.read_csv('city_day.csv');\n",
    "x=ds_1.iloc[:,-2].values;\n",
    "y=ds_1.iloc[:,-1].values;"
   ]
  },
  {
   "cell_type": "code",
   "execution_count": null,
   "id": "a28c4a5a",
   "metadata": {},
   "outputs": [],
   "source": []
  },
  {
   "cell_type": "code",
   "execution_count": 6,
   "id": "06c11589",
   "metadata": {},
   "outputs": [
    {
     "name": "stdout",
     "output_type": "stream",
     "text": [
      "                City        Date  PM2.5   PM10     NO    NO2    NOx    NH3  \\\n",
      "0          Ahmedabad  2015-01-01    NaN    NaN   0.92  18.22  17.15    NaN   \n",
      "1          Ahmedabad  2015-01-02    NaN    NaN   0.97  15.69  16.46    NaN   \n",
      "2          Ahmedabad  2015-01-03    NaN    NaN  17.40  19.30  29.70    NaN   \n",
      "3          Ahmedabad  2015-01-04    NaN    NaN   1.70  18.48  17.97    NaN   \n",
      "4          Ahmedabad  2015-01-05    NaN    NaN  22.10  21.42  37.76    NaN   \n",
      "...              ...         ...    ...    ...    ...    ...    ...    ...   \n",
      "29526  Visakhapatnam  2020-06-27  15.02  50.94   7.68  25.06  19.54  12.47   \n",
      "29527  Visakhapatnam  2020-06-28  24.38  74.09   3.42  26.06  16.53  11.99   \n",
      "29528  Visakhapatnam  2020-06-29  22.91  65.73   3.45  29.53  18.33  10.71   \n",
      "29529  Visakhapatnam  2020-06-30  16.64  49.97   4.05  29.26  18.80  10.03   \n",
      "29530  Visakhapatnam  2020-07-01  15.00  66.00   0.40  26.85  14.05   5.20   \n",
      "\n",
      "          CO    SO2      O3  Benzene  Toluene  Xylene   AQI    AQI_Bucket  \n",
      "0       0.92  27.64  133.36     0.00     0.02    0.00   NaN           NaN  \n",
      "1       0.97  24.55   34.06     3.68     5.50    3.77   NaN           NaN  \n",
      "2      17.40  29.07   30.70     6.80    16.40    2.25   NaN           NaN  \n",
      "3       1.70  18.59   36.08     4.43    10.14    1.00   NaN           NaN  \n",
      "4      22.10  39.33   39.31     7.01    18.89    2.78   NaN           NaN  \n",
      "...      ...    ...     ...      ...      ...     ...   ...           ...  \n",
      "29526   0.47   8.55   23.30     2.24    12.07    0.73  41.0          Good  \n",
      "29527   0.52  12.72   30.14     0.74     2.21    0.38  70.0  Satisfactory  \n",
      "29528   0.48   8.42   30.96     0.01     0.01    0.00  68.0  Satisfactory  \n",
      "29529   0.52   9.84   28.30     0.00     0.00    0.00  54.0  Satisfactory  \n",
      "29530   0.59   2.10   17.05      NaN      NaN     NaN  50.0          Good  \n",
      "\n",
      "[29531 rows x 16 columns]\n"
     ]
    }
   ],
   "source": [
    "print(ds_1);"
   ]
  },
  {
   "cell_type": "code",
   "execution_count": 7,
   "id": "7340ae4e",
   "metadata": {},
   "outputs": [],
   "source": [
    "x=ds_1.iloc[:,-2].values;\n",
    "y=ds_1.iloc[:,-1].values;\n"
   ]
  },
  {
   "cell_type": "code",
   "execution_count": 8,
   "id": "ce4461be",
   "metadata": {},
   "outputs": [
    {
     "data": {
      "text/plain": [
       "array([nan, nan, nan, ..., 68., 54., 50.])"
      ]
     },
     "execution_count": 8,
     "metadata": {},
     "output_type": "execute_result"
    }
   ],
   "source": [
    "x"
   ]
  },
  {
   "cell_type": "code",
   "execution_count": 9,
   "id": "8791912f",
   "metadata": {
    "scrolled": true
   },
   "outputs": [
    {
     "data": {
      "text/plain": [
       "array([nan, nan, nan, ..., 'Satisfactory', 'Satisfactory', 'Good'],\n",
       "      dtype=object)"
      ]
     },
     "execution_count": 9,
     "metadata": {},
     "output_type": "execute_result"
    }
   ],
   "source": [
    "y"
   ]
  },
  {
   "cell_type": "code",
   "execution_count": 12,
   "id": "df66f7d4",
   "metadata": {},
   "outputs": [],
   "source": [
    "c=ds_1.iloc[:,0].values;"
   ]
  },
  {
   "cell_type": "code",
   "execution_count": 21,
   "id": "bd0842df",
   "metadata": {},
   "outputs": [
    {
     "data": {
      "text/plain": [
       "numpy.ndarray"
      ]
     },
     "execution_count": 21,
     "metadata": {},
     "output_type": "execute_result"
    }
   ],
   "source": [
    "type(c)"
   ]
  },
  {
   "cell_type": "code",
   "execution_count": 19,
   "id": "31948fbd",
   "metadata": {},
   "outputs": [],
   "source": [
    "c=np.array(c);"
   ]
  },
  {
   "cell_type": "code",
   "execution_count": 23,
   "id": "6c19cbae",
   "metadata": {},
   "outputs": [],
   "source": [
    "delhi=np.where(c=='Delhi');"
   ]
  },
  {
   "cell_type": "code",
   "execution_count": 24,
   "id": "e7fadb4a",
   "metadata": {},
   "outputs": [
    {
     "data": {
      "text/plain": [
       "(array([10229, 10230, 10231, ..., 12235, 12236, 12237], dtype=int64),)"
      ]
     },
     "execution_count": 24,
     "metadata": {},
     "output_type": "execute_result"
    }
   ],
   "source": [
    "delhi"
   ]
  },
  {
   "cell_type": "code",
   "execution_count": 25,
   "id": "9495c5c2",
   "metadata": {},
   "outputs": [],
   "source": [
    "X=x[delhi];"
   ]
  },
  {
   "cell_type": "code",
   "execution_count": 26,
   "id": "3892f9bd",
   "metadata": {},
   "outputs": [
    {
     "data": {
      "text/plain": [
       "array([472., 454., 143., ..., 233., 114., 101.])"
      ]
     },
     "execution_count": 26,
     "metadata": {},
     "output_type": "execute_result"
    }
   ],
   "source": [
    "X"
   ]
  },
  {
   "cell_type": "code",
   "execution_count": 29,
   "id": "ebb96863",
   "metadata": {},
   "outputs": [],
   "source": [
    "lvl=y[delhi];"
   ]
  },
  {
   "cell_type": "code",
   "execution_count": 30,
   "id": "4988154a",
   "metadata": {},
   "outputs": [
    {
     "data": {
      "text/plain": [
       "array(['Severe', 'Severe', 'Moderate', ..., 'Poor', 'Moderate',\n",
       "       'Moderate'], dtype=object)"
      ]
     },
     "execution_count": 30,
     "metadata": {},
     "output_type": "execute_result"
    }
   ],
   "source": [
    "lvl"
   ]
  },
  {
   "cell_type": "code",
   "execution_count": 108,
   "id": "6442b6f2",
   "metadata": {},
   "outputs": [],
   "source": [
    "date=ds_1.iloc[:,1].values;"
   ]
  },
  {
   "cell_type": "code",
   "execution_count": 109,
   "id": "590a031f",
   "metadata": {},
   "outputs": [
    {
     "data": {
      "text/plain": [
       "array(['2015-01-01', '2015-01-02', '2015-01-03', ..., '2020-06-29',\n",
       "       '2020-06-30', '2020-07-01'], dtype=object)"
      ]
     },
     "execution_count": 109,
     "metadata": {},
     "output_type": "execute_result"
    }
   ],
   "source": [
    "date"
   ]
  },
  {
   "cell_type": "code",
   "execution_count": 110,
   "id": "6da26e4f",
   "metadata": {},
   "outputs": [
    {
     "data": {
      "text/plain": [
       "numpy.ndarray"
      ]
     },
     "execution_count": 110,
     "metadata": {},
     "output_type": "execute_result"
    }
   ],
   "source": [
    "type(date)"
   ]
  },
  {
   "cell_type": "code",
   "execution_count": 112,
   "id": "4a329768",
   "metadata": {},
   "outputs": [
    {
     "ename": "AttributeError",
     "evalue": "'numpy.ndarray' object has no attribute 'dt'",
     "output_type": "error",
     "traceback": [
      "\u001b[1;31m---------------------------------------------------------------------------\u001b[0m",
      "\u001b[1;31mAttributeError\u001b[0m                            Traceback (most recent call last)",
      "\u001b[1;32m<ipython-input-112-9852a486bf6e>\u001b[0m in \u001b[0;36m<module>\u001b[1;34m\u001b[0m\n\u001b[0;32m      1\u001b[0m \u001b[0myears\u001b[0m \u001b[1;33m=\u001b[0m \u001b[0mpd\u001b[0m\u001b[1;33m.\u001b[0m\u001b[0mto_datetime\u001b[0m\u001b[1;33m(\u001b[0m\u001b[0mds_1\u001b[0m\u001b[1;33m[\u001b[0m\u001b[1;34m'Date'\u001b[0m\u001b[1;33m]\u001b[0m\u001b[1;33m)\u001b[0m\u001b[1;33m;\u001b[0m\u001b[1;33m\u001b[0m\u001b[1;33m\u001b[0m\u001b[0m\n\u001b[1;32m----> 2\u001b[1;33m \u001b[0myears\u001b[0m \u001b[1;33m=\u001b[0m \u001b[0mdate\u001b[0m\u001b[1;33m.\u001b[0m\u001b[0mdt\u001b[0m\u001b[1;33m.\u001b[0m\u001b[0myear\u001b[0m\u001b[1;33m\u001b[0m\u001b[1;33m\u001b[0m\u001b[0m\n\u001b[0m",
      "\u001b[1;31mAttributeError\u001b[0m: 'numpy.ndarray' object has no attribute 'dt'"
     ]
    }
   ],
   "source": [
    "years = pd.to_datetime(ds_1['Date']);\n",
    "years = date.dt.year"
   ]
  },
  {
   "cell_type": "code",
   "execution_count": 99,
   "id": "5ce06d3d",
   "metadata": {},
   "outputs": [],
   "source": [
    "date=np.array(year);"
   ]
  },
  {
   "cell_type": "code",
   "execution_count": null,
   "id": "1a81df3d",
   "metadata": {},
   "outputs": [],
   "source": [
    "date17=np.where(date==2017)"
   ]
  }
 ],
 "metadata": {
  "kernelspec": {
   "display_name": "Python 3",
   "language": "python",
   "name": "python3"
  },
  "language_info": {
   "codemirror_mode": {
    "name": "ipython",
    "version": 3
   },
   "file_extension": ".py",
   "mimetype": "text/x-python",
   "name": "python",
   "nbconvert_exporter": "python",
   "pygments_lexer": "ipython3",
   "version": "3.8.8"
  }
 },
 "nbformat": 4,
 "nbformat_minor": 5
}
