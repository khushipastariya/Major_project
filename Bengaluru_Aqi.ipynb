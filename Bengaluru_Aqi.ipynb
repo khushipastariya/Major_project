{
 "cells": [
  {
   "cell_type": "markdown",
   "id": "9a0e55b5",
   "metadata": {},
   "source": [
    "# Importing Libraries\n"
   ]
  },
  {
   "cell_type": "code",
   "execution_count": 1,
   "id": "e2ffc324",
   "metadata": {},
   "outputs": [
    {
     "data": {
      "text/html": [
       "        <script type=\"text/javascript\">\n",
       "        window.PlotlyConfig = {MathJaxConfig: 'local'};\n",
       "        if (window.MathJax) {MathJax.Hub.Config({SVG: {font: \"STIX-Web\"}});}\n",
       "        if (typeof require !== 'undefined') {\n",
       "        require.undef(\"plotly\");\n",
       "        requirejs.config({\n",
       "            paths: {\n",
       "                'plotly': ['https://cdn.plot.ly/plotly-2.8.3.min']\n",
       "            }\n",
       "        });\n",
       "        require(['plotly'], function(Plotly) {\n",
       "            window._Plotly = Plotly;\n",
       "        });\n",
       "        }\n",
       "        </script>\n",
       "        "
      ]
     },
     "metadata": {},
     "output_type": "display_data"
    },
    {
     "data": {
      "text/html": [
       "        <script type=\"text/javascript\">\n",
       "        window.PlotlyConfig = {MathJaxConfig: 'local'};\n",
       "        if (window.MathJax) {MathJax.Hub.Config({SVG: {font: \"STIX-Web\"}});}\n",
       "        if (typeof require !== 'undefined') {\n",
       "        require.undef(\"plotly\");\n",
       "        requirejs.config({\n",
       "            paths: {\n",
       "                'plotly': ['https://cdn.plot.ly/plotly-2.8.3.min']\n",
       "            }\n",
       "        });\n",
       "        require(['plotly'], function(Plotly) {\n",
       "            window._Plotly = Plotly;\n",
       "        });\n",
       "        }\n",
       "        </script>\n",
       "        "
      ]
     },
     "metadata": {},
     "output_type": "display_data"
    }
   ],
   "source": [
    "import pandas as pd \n",
    "import numpy as np\n",
    "import matplotlib.pyplot as plt\n",
    "import chart_studio.plotly as py\n",
    "import cufflinks as cf\n",
    "import seaborn as sns\n",
    "import plotly.express as px\n",
    "import plotly.graph_objects as go\n",
    "%matplotlib inline\n",
    "\n",
    "from plotly.offline import download_plotlyjs, init_notebook_mode,plot,iplot\n",
    "init_notebook_mode(connected=True)\n",
    "cf.go_offline()"
   ]
  },
  {
   "cell_type": "markdown",
   "id": "773c1019",
   "metadata": {},
   "source": [
    "## Dataset Cleaning"
   ]
  },
  {
   "cell_type": "code",
   "execution_count": 2,
   "id": "c6b92fbc",
   "metadata": {},
   "outputs": [],
   "source": [
    "ds_1=pd.read_csv('city_day.csv');"
   ]
  },
  {
   "cell_type": "code",
   "execution_count": 9,
   "id": "0c545559",
   "metadata": {},
   "outputs": [],
   "source": [
    "new_df = pd.concat([ds_1.iloc[:,0:2],ds_1.iloc[:,-2:]],axis = 1)\n",
    "\n",
    "new_df = new_df[new_df['City'] == 'Bengaluru']"
   ]
  },
  {
   "cell_type": "code",
   "execution_count": 10,
   "id": "aaca6696",
   "metadata": {},
   "outputs": [],
   "source": [
    "new_df['Date'] = pd.to_datetime(new_df['Date'])"
   ]
  },
  {
   "cell_type": "code",
   "execution_count": 11,
   "id": "076e0258",
   "metadata": {},
   "outputs": [],
   "source": [
    "new_df['Year'] = new_df['Date'].dt.year"
   ]
  },
  {
   "cell_type": "code",
   "execution_count": 12,
   "id": "4515ede1",
   "metadata": {},
   "outputs": [],
   "source": [
    "new_df = new_df.set_index(['Year'])"
   ]
  },
  {
   "cell_type": "markdown",
   "id": "15b9436b",
   "metadata": {},
   "source": [
    "## Making dataframes"
   ]
  },
  {
   "cell_type": "code",
   "execution_count": 13,
   "id": "f1a17707",
   "metadata": {},
   "outputs": [],
   "source": [
    "ds_delhi_15=new_df.loc['2015'];\n",
    "ds_delhi_16=new_df.loc['2016'];\n",
    "ds_delhi_17=new_df.loc['2017'];\n",
    "ds_delhi_18=new_df.loc['2018'];\n",
    "ds_delhi_19=new_df.loc['2019'];\n",
    "ds_delhi_20=new_df.loc['2020'];"
   ]
  },
  {
   "cell_type": "code",
   "execution_count": 14,
   "id": "504db864",
   "metadata": {},
   "outputs": [
    {
     "data": {
      "text/html": [
       "<div>\n",
       "<style scoped>\n",
       "    .dataframe tbody tr th:only-of-type {\n",
       "        vertical-align: middle;\n",
       "    }\n",
       "\n",
       "    .dataframe tbody tr th {\n",
       "        vertical-align: top;\n",
       "    }\n",
       "\n",
       "    .dataframe thead th {\n",
       "        text-align: right;\n",
       "    }\n",
       "</style>\n",
       "<table border=\"1\" class=\"dataframe\">\n",
       "  <thead>\n",
       "    <tr style=\"text-align: right;\">\n",
       "      <th></th>\n",
       "      <th>City</th>\n",
       "      <th>Date</th>\n",
       "      <th>AQI</th>\n",
       "      <th>AQI_Bucket</th>\n",
       "    </tr>\n",
       "    <tr>\n",
       "      <th>Year</th>\n",
       "      <th></th>\n",
       "      <th></th>\n",
       "      <th></th>\n",
       "      <th></th>\n",
       "    </tr>\n",
       "  </thead>\n",
       "  <tbody>\n",
       "    <tr>\n",
       "      <th>2015</th>\n",
       "      <td>Bengaluru</td>\n",
       "      <td>2015-01-01</td>\n",
       "      <td>NaN</td>\n",
       "      <td>NaN</td>\n",
       "    </tr>\n",
       "    <tr>\n",
       "      <th>2015</th>\n",
       "      <td>Bengaluru</td>\n",
       "      <td>2015-01-02</td>\n",
       "      <td>NaN</td>\n",
       "      <td>NaN</td>\n",
       "    </tr>\n",
       "    <tr>\n",
       "      <th>2015</th>\n",
       "      <td>Bengaluru</td>\n",
       "      <td>2015-01-03</td>\n",
       "      <td>NaN</td>\n",
       "      <td>NaN</td>\n",
       "    </tr>\n",
       "    <tr>\n",
       "      <th>2015</th>\n",
       "      <td>Bengaluru</td>\n",
       "      <td>2015-01-04</td>\n",
       "      <td>NaN</td>\n",
       "      <td>NaN</td>\n",
       "    </tr>\n",
       "    <tr>\n",
       "      <th>2015</th>\n",
       "      <td>Bengaluru</td>\n",
       "      <td>2015-01-05</td>\n",
       "      <td>NaN</td>\n",
       "      <td>NaN</td>\n",
       "    </tr>\n",
       "    <tr>\n",
       "      <th>...</th>\n",
       "      <td>...</td>\n",
       "      <td>...</td>\n",
       "      <td>...</td>\n",
       "      <td>...</td>\n",
       "    </tr>\n",
       "    <tr>\n",
       "      <th>2015</th>\n",
       "      <td>Bengaluru</td>\n",
       "      <td>2015-12-27</td>\n",
       "      <td>115.0</td>\n",
       "      <td>Moderate</td>\n",
       "    </tr>\n",
       "    <tr>\n",
       "      <th>2015</th>\n",
       "      <td>Bengaluru</td>\n",
       "      <td>2015-12-28</td>\n",
       "      <td>149.0</td>\n",
       "      <td>Moderate</td>\n",
       "    </tr>\n",
       "    <tr>\n",
       "      <th>2015</th>\n",
       "      <td>Bengaluru</td>\n",
       "      <td>2015-12-29</td>\n",
       "      <td>122.0</td>\n",
       "      <td>Moderate</td>\n",
       "    </tr>\n",
       "    <tr>\n",
       "      <th>2015</th>\n",
       "      <td>Bengaluru</td>\n",
       "      <td>2015-12-30</td>\n",
       "      <td>91.0</td>\n",
       "      <td>Satisfactory</td>\n",
       "    </tr>\n",
       "    <tr>\n",
       "      <th>2015</th>\n",
       "      <td>Bengaluru</td>\n",
       "      <td>2015-12-31</td>\n",
       "      <td>131.0</td>\n",
       "      <td>Moderate</td>\n",
       "    </tr>\n",
       "  </tbody>\n",
       "</table>\n",
       "<p>365 rows × 4 columns</p>\n",
       "</div>"
      ],
      "text/plain": [
       "           City       Date    AQI    AQI_Bucket\n",
       "Year                                           \n",
       "2015  Bengaluru 2015-01-01    NaN           NaN\n",
       "2015  Bengaluru 2015-01-02    NaN           NaN\n",
       "2015  Bengaluru 2015-01-03    NaN           NaN\n",
       "2015  Bengaluru 2015-01-04    NaN           NaN\n",
       "2015  Bengaluru 2015-01-05    NaN           NaN\n",
       "...         ...        ...    ...           ...\n",
       "2015  Bengaluru 2015-12-27  115.0      Moderate\n",
       "2015  Bengaluru 2015-12-28  149.0      Moderate\n",
       "2015  Bengaluru 2015-12-29  122.0      Moderate\n",
       "2015  Bengaluru 2015-12-30   91.0  Satisfactory\n",
       "2015  Bengaluru 2015-12-31  131.0      Moderate\n",
       "\n",
       "[365 rows x 4 columns]"
      ]
     },
     "execution_count": 14,
     "metadata": {},
     "output_type": "execute_result"
    }
   ],
   "source": [
    "ds_delhi_15"
   ]
  },
  {
   "cell_type": "markdown",
   "id": "07aab877",
   "metadata": {},
   "source": [
    "# AQI DATAFRAMES"
   ]
  },
  {
   "cell_type": "code",
   "execution_count": 15,
   "id": "292c2857",
   "metadata": {},
   "outputs": [],
   "source": [
    "aqi_15 = ds_delhi_15.iloc[:,2].values;\n",
    "aqi_16 = ds_delhi_16.iloc[:,2].values;\n",
    "aqi_17 = ds_delhi_17.iloc[:,2].values;\n",
    "aqi_18 = ds_delhi_18.iloc[:,2].values;\n",
    "aqi_19 = ds_delhi_19.iloc[:,2].values;\n",
    "aqi_20 = ds_delhi_20.iloc[:,2].values;"
   ]
  },
  {
   "cell_type": "markdown",
   "id": "dec0c136",
   "metadata": {},
   "source": [
    "# Visualization Of The Data"
   ]
  },
  {
   "cell_type": "code",
   "execution_count": 16,
   "id": "fb301626",
   "metadata": {},
   "outputs": [],
   "source": [
    "aqi_level_15 = new_df.loc['2015']\n",
    "aqi_level_16 = new_df.loc['2016']\n",
    "aqi_level_17 = pd.read_csv('delhi_2017.csv')\n",
    "aqi_level_18 = pd.read_csv('delhi_2018.csv')\n",
    "aqi_level_19 = pd.read_csv('delhi_2019.csv')\n",
    "aqi_level_20 = new_df.loc['2020']"
   ]
  },
  {
   "cell_type": "code",
   "execution_count": 17,
   "id": "9eebdf75",
   "metadata": {
    "scrolled": true
   },
   "outputs": [
    {
     "data": {
      "text/html": [
       "<div>\n",
       "<style scoped>\n",
       "    .dataframe tbody tr th:only-of-type {\n",
       "        vertical-align: middle;\n",
       "    }\n",
       "\n",
       "    .dataframe tbody tr th {\n",
       "        vertical-align: top;\n",
       "    }\n",
       "\n",
       "    .dataframe thead th {\n",
       "        text-align: right;\n",
       "    }\n",
       "</style>\n",
       "<table border=\"1\" class=\"dataframe\">\n",
       "  <thead>\n",
       "    <tr style=\"text-align: right;\">\n",
       "      <th></th>\n",
       "      <th>City</th>\n",
       "      <th>Date</th>\n",
       "      <th>AQI</th>\n",
       "      <th>AQI_Bucket</th>\n",
       "    </tr>\n",
       "    <tr>\n",
       "      <th>Year</th>\n",
       "      <th></th>\n",
       "      <th></th>\n",
       "      <th></th>\n",
       "      <th></th>\n",
       "    </tr>\n",
       "  </thead>\n",
       "  <tbody>\n",
       "    <tr>\n",
       "      <th>2020</th>\n",
       "      <td>Bengaluru</td>\n",
       "      <td>2020-01-01</td>\n",
       "      <td>82.0</td>\n",
       "      <td>Satisfactory</td>\n",
       "    </tr>\n",
       "    <tr>\n",
       "      <th>2020</th>\n",
       "      <td>Bengaluru</td>\n",
       "      <td>2020-01-02</td>\n",
       "      <td>81.0</td>\n",
       "      <td>Satisfactory</td>\n",
       "    </tr>\n",
       "    <tr>\n",
       "      <th>2020</th>\n",
       "      <td>Bengaluru</td>\n",
       "      <td>2020-01-03</td>\n",
       "      <td>85.0</td>\n",
       "      <td>Satisfactory</td>\n",
       "    </tr>\n",
       "    <tr>\n",
       "      <th>2020</th>\n",
       "      <td>Bengaluru</td>\n",
       "      <td>2020-01-04</td>\n",
       "      <td>95.0</td>\n",
       "      <td>Satisfactory</td>\n",
       "    </tr>\n",
       "    <tr>\n",
       "      <th>2020</th>\n",
       "      <td>Bengaluru</td>\n",
       "      <td>2020-01-05</td>\n",
       "      <td>118.0</td>\n",
       "      <td>Moderate</td>\n",
       "    </tr>\n",
       "    <tr>\n",
       "      <th>...</th>\n",
       "      <td>...</td>\n",
       "      <td>...</td>\n",
       "      <td>...</td>\n",
       "      <td>...</td>\n",
       "    </tr>\n",
       "    <tr>\n",
       "      <th>2020</th>\n",
       "      <td>Bengaluru</td>\n",
       "      <td>2020-06-27</td>\n",
       "      <td>51.0</td>\n",
       "      <td>Satisfactory</td>\n",
       "    </tr>\n",
       "    <tr>\n",
       "      <th>2020</th>\n",
       "      <td>Bengaluru</td>\n",
       "      <td>2020-06-28</td>\n",
       "      <td>61.0</td>\n",
       "      <td>Satisfactory</td>\n",
       "    </tr>\n",
       "    <tr>\n",
       "      <th>2020</th>\n",
       "      <td>Bengaluru</td>\n",
       "      <td>2020-06-29</td>\n",
       "      <td>65.0</td>\n",
       "      <td>Satisfactory</td>\n",
       "    </tr>\n",
       "    <tr>\n",
       "      <th>2020</th>\n",
       "      <td>Bengaluru</td>\n",
       "      <td>2020-06-30</td>\n",
       "      <td>63.0</td>\n",
       "      <td>Satisfactory</td>\n",
       "    </tr>\n",
       "    <tr>\n",
       "      <th>2020</th>\n",
       "      <td>Bengaluru</td>\n",
       "      <td>2020-07-01</td>\n",
       "      <td>43.0</td>\n",
       "      <td>Good</td>\n",
       "    </tr>\n",
       "  </tbody>\n",
       "</table>\n",
       "<p>183 rows × 4 columns</p>\n",
       "</div>"
      ],
      "text/plain": [
       "           City       Date    AQI    AQI_Bucket\n",
       "Year                                           \n",
       "2020  Bengaluru 2020-01-01   82.0  Satisfactory\n",
       "2020  Bengaluru 2020-01-02   81.0  Satisfactory\n",
       "2020  Bengaluru 2020-01-03   85.0  Satisfactory\n",
       "2020  Bengaluru 2020-01-04   95.0  Satisfactory\n",
       "2020  Bengaluru 2020-01-05  118.0      Moderate\n",
       "...         ...        ...    ...           ...\n",
       "2020  Bengaluru 2020-06-27   51.0  Satisfactory\n",
       "2020  Bengaluru 2020-06-28   61.0  Satisfactory\n",
       "2020  Bengaluru 2020-06-29   65.0  Satisfactory\n",
       "2020  Bengaluru 2020-06-30   63.0  Satisfactory\n",
       "2020  Bengaluru 2020-07-01   43.0          Good\n",
       "\n",
       "[183 rows x 4 columns]"
      ]
     },
     "execution_count": 17,
     "metadata": {},
     "output_type": "execute_result"
    }
   ],
   "source": [
    "aqi_level_20"
   ]
  },
  {
   "cell_type": "code",
   "execution_count": 18,
   "id": "2da13868",
   "metadata": {},
   "outputs": [
    {
     "data": {
      "application/vnd.plotly.v1+json": {
       "config": {
        "plotlyServerURL": "https://plot.ly"
       },
       "data": [
        {
         "mode": "lines+markers",
         "type": "scatter",
         "x": [
          "2017-01-01",
          "2017-01-02",
          "2017-01-03",
          "2017-01-04",
          "2017-01-05",
          "2017-01-06",
          "2017-01-07",
          "2017-01-08",
          "2017-01-09",
          "2017-01-10",
          "2017-01-11",
          "2017-01-12",
          "2017-01-13",
          "2017-01-14",
          "2017-01-15",
          "2017-01-16",
          "2017-01-17",
          "2017-01-18",
          "2017-01-19",
          "2017-01-20",
          "2017-01-21",
          "2017-01-22",
          "2017-01-23",
          "2017-01-24",
          "2017-01-25",
          "2017-01-26",
          "2017-01-27",
          "2017-01-28",
          "2017-01-29",
          "2017-01-30",
          "2017-01-31",
          "2017-02-01",
          "2017-02-02",
          "2017-02-03",
          "2017-02-04",
          "2017-02-05",
          "2017-02-06",
          "2017-02-07",
          "2017-02-08",
          "2017-02-09",
          "2017-02-10",
          "2017-02-11",
          "2017-02-12",
          "2017-02-13",
          "2017-02-14",
          "2017-02-15",
          "2017-02-16",
          "2017-02-17",
          "2017-02-18",
          "2017-02-19",
          "2017-02-20",
          "2017-02-21",
          "2017-02-22",
          "2017-02-23",
          "2017-02-24",
          "2017-02-25",
          "2017-02-26",
          "2017-02-27",
          "2017-02-28",
          "2017-03-01",
          "2017-03-02",
          "2017-03-03",
          "2017-03-04",
          "2017-03-05",
          "2017-03-06",
          "2017-03-07",
          "2017-03-08",
          "2017-03-09",
          "2017-03-10",
          "2017-03-11",
          "2017-03-12",
          "2017-03-13",
          "2017-03-14",
          "2017-03-15",
          "2017-03-16",
          "2017-03-17",
          "2017-03-18",
          "2017-03-19",
          "2017-03-20",
          "2017-03-21",
          "2017-03-22",
          "2017-03-23",
          "2017-03-24",
          "2017-03-25",
          "2017-03-26",
          "2017-03-27",
          "2017-03-28",
          "2017-03-29",
          "2017-03-30",
          "2017-03-31",
          "2017-04-01",
          "2017-04-02",
          "2017-04-03",
          "2017-04-04",
          "2017-04-05",
          "2017-04-06",
          "2017-04-07",
          "2017-04-08",
          "2017-04-09",
          "2017-04-10",
          "2017-04-11",
          "2017-04-12",
          "2017-04-13",
          "2017-04-14",
          "2017-04-15",
          "2017-04-16",
          "2017-04-17",
          "2017-04-18",
          "2017-04-19",
          "2017-04-20",
          "2017-04-21",
          "2017-04-22",
          "2017-04-23",
          "2017-04-24",
          "2017-04-25",
          "2017-04-26",
          "2017-04-27",
          "2017-04-28",
          "2017-04-29",
          "2017-04-30",
          "2017-05-01",
          "2017-05-02",
          "2017-05-03",
          "2017-05-04",
          "2017-05-05",
          "2017-05-06",
          "2017-05-07",
          "2017-05-08",
          "2017-05-09",
          "2017-05-10",
          "2017-05-11",
          "2017-05-12",
          "2017-05-13",
          "2017-05-14",
          "2017-05-15",
          "2017-05-16",
          "2017-05-17",
          "2017-05-18",
          "2017-05-19",
          "2017-05-20",
          "2017-05-21",
          "2017-05-22",
          "2017-05-23",
          "2017-05-24",
          "2017-05-25",
          "2017-05-26",
          "2017-05-27",
          "2017-05-28",
          "2017-05-29",
          "2017-05-30",
          "2017-05-31",
          "2017-06-01",
          "2017-06-02",
          "2017-06-03",
          "2017-06-04",
          "2017-06-05",
          "2017-06-06",
          "2017-06-07",
          "2017-06-08",
          "2017-06-09",
          "2017-06-10",
          "2017-06-11",
          "2017-06-12",
          "2017-06-13",
          "2017-06-14",
          "2017-06-15",
          "2017-06-16",
          "2017-06-17",
          "2017-06-18",
          "2017-06-19",
          "2017-06-20",
          "2017-06-21",
          "2017-06-22",
          "2017-06-23",
          "2017-06-24",
          "2017-06-25",
          "2017-06-26",
          "2017-06-27",
          "2017-06-28",
          "2017-06-29",
          "2017-06-30",
          "2017-07-01",
          "2017-07-02",
          "2017-07-03",
          "2017-07-04",
          "2017-07-05",
          "2017-07-06",
          "2017-07-07",
          "2017-07-08",
          "2017-07-09",
          "2017-07-10",
          "2017-07-11",
          "2017-07-12",
          "2017-07-13",
          "2017-07-14",
          "2017-07-15",
          "2017-07-16",
          "2017-07-17",
          "2017-07-18",
          "2017-07-19",
          "2017-07-20",
          "2017-07-21",
          "2017-07-22",
          "2017-07-23",
          "2017-07-24",
          "2017-07-25",
          "2017-07-26",
          "2017-07-27",
          "2017-07-28",
          "2017-07-29",
          "2017-07-30",
          "2017-07-31",
          "2017-08-01",
          "2017-08-02",
          "2017-08-03",
          "2017-08-04",
          "2017-08-05",
          "2017-08-06",
          "2017-08-07",
          "2017-08-08",
          "2017-08-09",
          "2017-08-10",
          "2017-08-11",
          "2017-08-12",
          "2017-08-13",
          "2017-08-14",
          "2017-08-15",
          "2017-08-16",
          "2017-08-17",
          "2017-08-18",
          "2017-08-19",
          "2017-08-20",
          "2017-08-21",
          "2017-08-22",
          "2017-08-23",
          "2017-08-24",
          "2017-08-25",
          "2017-08-26",
          "2017-08-27",
          "2017-08-28",
          "2017-08-29",
          "2017-08-30",
          "2017-08-31",
          "2017-09-01",
          "2017-09-02",
          "2017-09-03",
          "2017-09-04",
          "2017-09-05",
          "2017-09-06",
          "2017-09-07",
          "2017-09-08",
          "2017-09-09",
          "2017-09-10",
          "2017-09-11",
          "2017-09-12",
          "2017-09-13",
          "2017-09-14",
          "2017-09-15",
          "2017-09-16",
          "2017-09-17",
          "2017-09-18",
          "2017-09-19",
          "2017-09-20",
          "2017-09-21",
          "2017-09-22",
          "2017-09-23",
          "2017-09-24",
          "2017-09-25",
          "2017-09-26",
          "2017-09-27",
          "2017-09-28",
          "2017-09-29",
          "2017-09-30",
          "2017-10-01",
          "2017-10-02",
          "2017-10-03",
          "2017-10-04",
          "2017-10-05",
          "2017-10-06",
          "2017-10-07",
          "2017-10-08",
          "2017-10-09",
          "2017-10-10",
          "2017-10-11",
          "2017-10-12",
          "2017-10-13",
          "2017-10-14",
          "2017-10-15",
          "2017-10-16",
          "2017-10-17",
          "2017-10-18",
          "2017-10-19",
          "2017-10-20",
          "2017-10-21",
          "2017-10-22",
          "2017-10-23",
          "2017-10-24",
          "2017-10-25",
          "2017-10-26",
          "2017-10-27",
          "2017-10-28",
          "2017-10-29",
          "2017-10-30",
          "2017-10-31",
          "2017-11-01",
          "2017-11-02",
          "2017-11-03",
          "2017-11-04",
          "2017-11-05",
          "2017-11-06",
          "2017-11-07",
          "2017-11-08",
          "2017-11-09",
          "2017-11-10",
          "2017-11-11",
          "2017-11-12",
          "2017-11-13",
          "2017-11-14",
          "2017-11-15",
          "2017-11-16",
          "2017-11-17",
          "2017-11-18",
          "2017-11-19",
          "2017-11-20",
          "2017-11-21",
          "2017-11-22",
          "2017-11-23",
          "2017-11-24",
          "2017-11-25",
          "2017-11-26",
          "2017-11-27",
          "2017-11-28",
          "2017-11-29",
          "2017-11-30",
          "2017-12-01",
          "2017-12-02",
          "2017-12-03",
          "2017-12-04",
          "2017-12-05",
          "2017-12-06",
          "2017-12-07",
          "2017-12-08",
          "2017-12-09",
          "2017-12-10",
          "2017-12-11",
          "2017-12-12",
          "2017-12-13",
          "2017-12-14",
          "2017-12-15",
          "2017-12-16",
          "2017-12-17",
          "2017-12-18",
          "2017-12-19",
          "2017-12-20",
          "2017-12-21",
          "2017-12-22",
          "2017-12-23",
          "2017-12-24",
          "2017-12-25",
          "2017-12-26",
          "2017-12-27",
          "2017-12-28",
          "2017-12-29",
          "2017-12-30",
          "2017-12-31"
         ],
         "y": [
          332,
          384,
          373,
          439,
          318,
          390,
          332,
          283,
          300,
          305,
          337,
          417,
          426,
          439,
          382,
          397,
          330,
          358,
          376,
          334,
          387,
          446,
          379,
          375,
          450,
          340,
          203,
          236,
          252,
          302,
          358,
          317,
          387,
          438,
          407,
          312,
          367,
          263,
          287,
          346,
          314,
          314,
          314,
          298,
          319,
          382,
          352,
          309,
          301,
          274,
          313,
          310,
          258,
          238,
          449,
          516,
          520,
          363,
          362,
          397,
          280,
          206,
          190,
          210,
          201,
          243,
          267,
          245,
          165,
          102,
          159,
          174,
          270,
          397,
          371,
          328,
          254,
          342,
          367,
          400,
          390,
          417,
          359,
          309,
          292,
          278,
          320,
          350,
          234,
          233,
          341,
          259,
          204,
          220,
          255,
          211,
          428,
          497,
          289,
          285,
          368,
          304,
          377,
          418,
          355,
          416,
          403,
          415,
          412,
          394,
          357,
          291,
          244,
          287,
          254,
          242,
          223,
          243,
          237,
          275,
          183,
          370,
          419,
          317,
          455,
          435,
          468,
          442,
          400,
          223,
          220,
          474,
          479,
          373,
          354,
          349,
          264,
          188,
          294,
          334,
          505,
          349,
          421,
          238,
          204,
          289,
          236,
          148,
          94,
          130,
          123,
          192,
          324,
          357,
          393,
          302,
          239,
          210,
          77,
          89,
          143,
          80,
          92,
          112,
          117,
          101,
          106,
          88,
          94,
          150,
          97,
          109,
          124,
          null,
          111,
          148,
          108,
          73,
          58,
          58,
          46,
          84,
          54,
          49,
          149,
          212,
          85,
          77,
          65,
          108,
          78,
          59,
          47,
          39,
          40,
          56,
          65,
          71,
          97,
          118,
          116,
          53,
          30,
          37,
          35,
          37,
          32,
          41,
          42,
          47,
          30,
          29,
          44,
          40,
          49,
          50,
          88,
          99,
          110,
          68,
          73,
          95,
          58,
          45,
          null,
          null,
          59,
          53,
          66,
          70,
          70,
          63,
          42,
          null,
          null,
          58,
          104,
          null,
          null,
          null,
          null,
          73,
          94,
          91,
          88,
          88,
          89,
          88,
          88,
          88,
          106,
          96,
          118,
          119,
          106,
          115,
          142,
          169,
          110,
          106,
          99,
          109,
          137,
          144,
          92,
          83,
          84,
          104,
          131,
          165,
          176,
          172,
          137,
          131,
          132,
          115,
          151,
          180,
          183,
          193,
          224,
          268,
          253,
          208,
          211,
          246,
          319,
          317,
          310,
          313,
          310,
          336,
          497,
          404,
          338,
          327,
          366,
          357,
          328,
          345,
          379,
          362,
          340,
          366,
          344,
          305,
          310,
          345,
          370,
          377,
          532,
          675,
          677,
          597,
          471,
          613,
          561,
          444,
          378,
          357,
          330,
          309,
          297,
          329,
          341,
          348,
          340,
          348,
          347,
          368,
          382,
          360,
          359,
          388,
          377,
          356,
          384,
          415,
          404,
          330,
          215,
          220,
          312,
          389,
          406,
          280,
          263,
          276,
          292,
          228,
          195,
          223,
          291,
          378,
          467,
          370,
          253,
          309,
          398,
          372,
          379,
          398,
          399,
          421,
          451
         ]
        }
       ],
       "layout": {
        "template": {
         "data": {
          "bar": [
           {
            "error_x": {
             "color": "#2a3f5f"
            },
            "error_y": {
             "color": "#2a3f5f"
            },
            "marker": {
             "line": {
              "color": "#E5ECF6",
              "width": 0.5
             },
             "pattern": {
              "fillmode": "overlay",
              "size": 10,
              "solidity": 0.2
             }
            },
            "type": "bar"
           }
          ],
          "barpolar": [
           {
            "marker": {
             "line": {
              "color": "#E5ECF6",
              "width": 0.5
             },
             "pattern": {
              "fillmode": "overlay",
              "size": 10,
              "solidity": 0.2
             }
            },
            "type": "barpolar"
           }
          ],
          "carpet": [
           {
            "aaxis": {
             "endlinecolor": "#2a3f5f",
             "gridcolor": "white",
             "linecolor": "white",
             "minorgridcolor": "white",
             "startlinecolor": "#2a3f5f"
            },
            "baxis": {
             "endlinecolor": "#2a3f5f",
             "gridcolor": "white",
             "linecolor": "white",
             "minorgridcolor": "white",
             "startlinecolor": "#2a3f5f"
            },
            "type": "carpet"
           }
          ],
          "choropleth": [
           {
            "colorbar": {
             "outlinewidth": 0,
             "ticks": ""
            },
            "type": "choropleth"
           }
          ],
          "contour": [
           {
            "colorbar": {
             "outlinewidth": 0,
             "ticks": ""
            },
            "colorscale": [
             [
              0,
              "#0d0887"
             ],
             [
              0.1111111111111111,
              "#46039f"
             ],
             [
              0.2222222222222222,
              "#7201a8"
             ],
             [
              0.3333333333333333,
              "#9c179e"
             ],
             [
              0.4444444444444444,
              "#bd3786"
             ],
             [
              0.5555555555555556,
              "#d8576b"
             ],
             [
              0.6666666666666666,
              "#ed7953"
             ],
             [
              0.7777777777777778,
              "#fb9f3a"
             ],
             [
              0.8888888888888888,
              "#fdca26"
             ],
             [
              1,
              "#f0f921"
             ]
            ],
            "type": "contour"
           }
          ],
          "contourcarpet": [
           {
            "colorbar": {
             "outlinewidth": 0,
             "ticks": ""
            },
            "type": "contourcarpet"
           }
          ],
          "heatmap": [
           {
            "colorbar": {
             "outlinewidth": 0,
             "ticks": ""
            },
            "colorscale": [
             [
              0,
              "#0d0887"
             ],
             [
              0.1111111111111111,
              "#46039f"
             ],
             [
              0.2222222222222222,
              "#7201a8"
             ],
             [
              0.3333333333333333,
              "#9c179e"
             ],
             [
              0.4444444444444444,
              "#bd3786"
             ],
             [
              0.5555555555555556,
              "#d8576b"
             ],
             [
              0.6666666666666666,
              "#ed7953"
             ],
             [
              0.7777777777777778,
              "#fb9f3a"
             ],
             [
              0.8888888888888888,
              "#fdca26"
             ],
             [
              1,
              "#f0f921"
             ]
            ],
            "type": "heatmap"
           }
          ],
          "heatmapgl": [
           {
            "colorbar": {
             "outlinewidth": 0,
             "ticks": ""
            },
            "colorscale": [
             [
              0,
              "#0d0887"
             ],
             [
              0.1111111111111111,
              "#46039f"
             ],
             [
              0.2222222222222222,
              "#7201a8"
             ],
             [
              0.3333333333333333,
              "#9c179e"
             ],
             [
              0.4444444444444444,
              "#bd3786"
             ],
             [
              0.5555555555555556,
              "#d8576b"
             ],
             [
              0.6666666666666666,
              "#ed7953"
             ],
             [
              0.7777777777777778,
              "#fb9f3a"
             ],
             [
              0.8888888888888888,
              "#fdca26"
             ],
             [
              1,
              "#f0f921"
             ]
            ],
            "type": "heatmapgl"
           }
          ],
          "histogram": [
           {
            "marker": {
             "pattern": {
              "fillmode": "overlay",
              "size": 10,
              "solidity": 0.2
             }
            },
            "type": "histogram"
           }
          ],
          "histogram2d": [
           {
            "colorbar": {
             "outlinewidth": 0,
             "ticks": ""
            },
            "colorscale": [
             [
              0,
              "#0d0887"
             ],
             [
              0.1111111111111111,
              "#46039f"
             ],
             [
              0.2222222222222222,
              "#7201a8"
             ],
             [
              0.3333333333333333,
              "#9c179e"
             ],
             [
              0.4444444444444444,
              "#bd3786"
             ],
             [
              0.5555555555555556,
              "#d8576b"
             ],
             [
              0.6666666666666666,
              "#ed7953"
             ],
             [
              0.7777777777777778,
              "#fb9f3a"
             ],
             [
              0.8888888888888888,
              "#fdca26"
             ],
             [
              1,
              "#f0f921"
             ]
            ],
            "type": "histogram2d"
           }
          ],
          "histogram2dcontour": [
           {
            "colorbar": {
             "outlinewidth": 0,
             "ticks": ""
            },
            "colorscale": [
             [
              0,
              "#0d0887"
             ],
             [
              0.1111111111111111,
              "#46039f"
             ],
             [
              0.2222222222222222,
              "#7201a8"
             ],
             [
              0.3333333333333333,
              "#9c179e"
             ],
             [
              0.4444444444444444,
              "#bd3786"
             ],
             [
              0.5555555555555556,
              "#d8576b"
             ],
             [
              0.6666666666666666,
              "#ed7953"
             ],
             [
              0.7777777777777778,
              "#fb9f3a"
             ],
             [
              0.8888888888888888,
              "#fdca26"
             ],
             [
              1,
              "#f0f921"
             ]
            ],
            "type": "histogram2dcontour"
           }
          ],
          "mesh3d": [
           {
            "colorbar": {
             "outlinewidth": 0,
             "ticks": ""
            },
            "type": "mesh3d"
           }
          ],
          "parcoords": [
           {
            "line": {
             "colorbar": {
              "outlinewidth": 0,
              "ticks": ""
             }
            },
            "type": "parcoords"
           }
          ],
          "pie": [
           {
            "automargin": true,
            "type": "pie"
           }
          ],
          "scatter": [
           {
            "marker": {
             "colorbar": {
              "outlinewidth": 0,
              "ticks": ""
             }
            },
            "type": "scatter"
           }
          ],
          "scatter3d": [
           {
            "line": {
             "colorbar": {
              "outlinewidth": 0,
              "ticks": ""
             }
            },
            "marker": {
             "colorbar": {
              "outlinewidth": 0,
              "ticks": ""
             }
            },
            "type": "scatter3d"
           }
          ],
          "scattercarpet": [
           {
            "marker": {
             "colorbar": {
              "outlinewidth": 0,
              "ticks": ""
             }
            },
            "type": "scattercarpet"
           }
          ],
          "scattergeo": [
           {
            "marker": {
             "colorbar": {
              "outlinewidth": 0,
              "ticks": ""
             }
            },
            "type": "scattergeo"
           }
          ],
          "scattergl": [
           {
            "marker": {
             "colorbar": {
              "outlinewidth": 0,
              "ticks": ""
             }
            },
            "type": "scattergl"
           }
          ],
          "scattermapbox": [
           {
            "marker": {
             "colorbar": {
              "outlinewidth": 0,
              "ticks": ""
             }
            },
            "type": "scattermapbox"
           }
          ],
          "scatterpolar": [
           {
            "marker": {
             "colorbar": {
              "outlinewidth": 0,
              "ticks": ""
             }
            },
            "type": "scatterpolar"
           }
          ],
          "scatterpolargl": [
           {
            "marker": {
             "colorbar": {
              "outlinewidth": 0,
              "ticks": ""
             }
            },
            "type": "scatterpolargl"
           }
          ],
          "scatterternary": [
           {
            "marker": {
             "colorbar": {
              "outlinewidth": 0,
              "ticks": ""
             }
            },
            "type": "scatterternary"
           }
          ],
          "surface": [
           {
            "colorbar": {
             "outlinewidth": 0,
             "ticks": ""
            },
            "colorscale": [
             [
              0,
              "#0d0887"
             ],
             [
              0.1111111111111111,
              "#46039f"
             ],
             [
              0.2222222222222222,
              "#7201a8"
             ],
             [
              0.3333333333333333,
              "#9c179e"
             ],
             [
              0.4444444444444444,
              "#bd3786"
             ],
             [
              0.5555555555555556,
              "#d8576b"
             ],
             [
              0.6666666666666666,
              "#ed7953"
             ],
             [
              0.7777777777777778,
              "#fb9f3a"
             ],
             [
              0.8888888888888888,
              "#fdca26"
             ],
             [
              1,
              "#f0f921"
             ]
            ],
            "type": "surface"
           }
          ],
          "table": [
           {
            "cells": {
             "fill": {
              "color": "#EBF0F8"
             },
             "line": {
              "color": "white"
             }
            },
            "header": {
             "fill": {
              "color": "#C8D4E3"
             },
             "line": {
              "color": "white"
             }
            },
            "type": "table"
           }
          ]
         },
         "layout": {
          "annotationdefaults": {
           "arrowcolor": "#2a3f5f",
           "arrowhead": 0,
           "arrowwidth": 1
          },
          "autotypenumbers": "strict",
          "coloraxis": {
           "colorbar": {
            "outlinewidth": 0,
            "ticks": ""
           }
          },
          "colorscale": {
           "diverging": [
            [
             0,
             "#8e0152"
            ],
            [
             0.1,
             "#c51b7d"
            ],
            [
             0.2,
             "#de77ae"
            ],
            [
             0.3,
             "#f1b6da"
            ],
            [
             0.4,
             "#fde0ef"
            ],
            [
             0.5,
             "#f7f7f7"
            ],
            [
             0.6,
             "#e6f5d0"
            ],
            [
             0.7,
             "#b8e186"
            ],
            [
             0.8,
             "#7fbc41"
            ],
            [
             0.9,
             "#4d9221"
            ],
            [
             1,
             "#276419"
            ]
           ],
           "sequential": [
            [
             0,
             "#0d0887"
            ],
            [
             0.1111111111111111,
             "#46039f"
            ],
            [
             0.2222222222222222,
             "#7201a8"
            ],
            [
             0.3333333333333333,
             "#9c179e"
            ],
            [
             0.4444444444444444,
             "#bd3786"
            ],
            [
             0.5555555555555556,
             "#d8576b"
            ],
            [
             0.6666666666666666,
             "#ed7953"
            ],
            [
             0.7777777777777778,
             "#fb9f3a"
            ],
            [
             0.8888888888888888,
             "#fdca26"
            ],
            [
             1,
             "#f0f921"
            ]
           ],
           "sequentialminus": [
            [
             0,
             "#0d0887"
            ],
            [
             0.1111111111111111,
             "#46039f"
            ],
            [
             0.2222222222222222,
             "#7201a8"
            ],
            [
             0.3333333333333333,
             "#9c179e"
            ],
            [
             0.4444444444444444,
             "#bd3786"
            ],
            [
             0.5555555555555556,
             "#d8576b"
            ],
            [
             0.6666666666666666,
             "#ed7953"
            ],
            [
             0.7777777777777778,
             "#fb9f3a"
            ],
            [
             0.8888888888888888,
             "#fdca26"
            ],
            [
             1,
             "#f0f921"
            ]
           ]
          },
          "colorway": [
           "#636efa",
           "#EF553B",
           "#00cc96",
           "#ab63fa",
           "#FFA15A",
           "#19d3f3",
           "#FF6692",
           "#B6E880",
           "#FF97FF",
           "#FECB52"
          ],
          "font": {
           "color": "#2a3f5f"
          },
          "geo": {
           "bgcolor": "white",
           "lakecolor": "white",
           "landcolor": "#E5ECF6",
           "showlakes": true,
           "showland": true,
           "subunitcolor": "white"
          },
          "hoverlabel": {
           "align": "left"
          },
          "hovermode": "closest",
          "mapbox": {
           "style": "light"
          },
          "paper_bgcolor": "white",
          "plot_bgcolor": "#E5ECF6",
          "polar": {
           "angularaxis": {
            "gridcolor": "white",
            "linecolor": "white",
            "ticks": ""
           },
           "bgcolor": "#E5ECF6",
           "radialaxis": {
            "gridcolor": "white",
            "linecolor": "white",
            "ticks": ""
           }
          },
          "scene": {
           "xaxis": {
            "backgroundcolor": "#E5ECF6",
            "gridcolor": "white",
            "gridwidth": 2,
            "linecolor": "white",
            "showbackground": true,
            "ticks": "",
            "zerolinecolor": "white"
           },
           "yaxis": {
            "backgroundcolor": "#E5ECF6",
            "gridcolor": "white",
            "gridwidth": 2,
            "linecolor": "white",
            "showbackground": true,
            "ticks": "",
            "zerolinecolor": "white"
           },
           "zaxis": {
            "backgroundcolor": "#E5ECF6",
            "gridcolor": "white",
            "gridwidth": 2,
            "linecolor": "white",
            "showbackground": true,
            "ticks": "",
            "zerolinecolor": "white"
           }
          },
          "shapedefaults": {
           "line": {
            "color": "#2a3f5f"
           }
          },
          "ternary": {
           "aaxis": {
            "gridcolor": "white",
            "linecolor": "white",
            "ticks": ""
           },
           "baxis": {
            "gridcolor": "white",
            "linecolor": "white",
            "ticks": ""
           },
           "bgcolor": "#E5ECF6",
           "caxis": {
            "gridcolor": "white",
            "linecolor": "white",
            "ticks": ""
           }
          },
          "title": {
           "x": 0.05
          },
          "xaxis": {
           "automargin": true,
           "gridcolor": "white",
           "linecolor": "white",
           "ticks": "",
           "title": {
            "standoff": 15
           },
           "zerolinecolor": "white",
           "zerolinewidth": 2
          },
          "yaxis": {
           "automargin": true,
           "gridcolor": "white",
           "linecolor": "white",
           "ticks": "",
           "title": {
            "standoff": 15
           },
           "zerolinecolor": "white",
           "zerolinewidth": 2
          }
         }
        },
        "title": {
         "text": "AQI 2017"
        },
        "xaxis": {
         "tickangle": 90,
         "title": {
          "font": {
           "size": 20
          },
          "standoff": 25,
          "text": "Month"
         }
        },
        "yaxis": {
         "title": {
          "standoff": 25,
          "text": "AQI LEVELS"
         }
        }
       }
      },
      "text/html": [
       "<div>                            <div id=\"93afeca1-fe63-41ed-b786-a20109898498\" class=\"plotly-graph-div\" style=\"height:525px; width:100%;\"></div>            <script type=\"text/javascript\">                require([\"plotly\"], function(Plotly) {                    window.PLOTLYENV=window.PLOTLYENV || {};                                    if (document.getElementById(\"93afeca1-fe63-41ed-b786-a20109898498\")) {                    Plotly.newPlot(                        \"93afeca1-fe63-41ed-b786-a20109898498\",                        [{\"mode\":\"lines+markers\",\"x\":[\"2017-01-01\",\"2017-01-02\",\"2017-01-03\",\"2017-01-04\",\"2017-01-05\",\"2017-01-06\",\"2017-01-07\",\"2017-01-08\",\"2017-01-09\",\"2017-01-10\",\"2017-01-11\",\"2017-01-12\",\"2017-01-13\",\"2017-01-14\",\"2017-01-15\",\"2017-01-16\",\"2017-01-17\",\"2017-01-18\",\"2017-01-19\",\"2017-01-20\",\"2017-01-21\",\"2017-01-22\",\"2017-01-23\",\"2017-01-24\",\"2017-01-25\",\"2017-01-26\",\"2017-01-27\",\"2017-01-28\",\"2017-01-29\",\"2017-01-30\",\"2017-01-31\",\"2017-02-01\",\"2017-02-02\",\"2017-02-03\",\"2017-02-04\",\"2017-02-05\",\"2017-02-06\",\"2017-02-07\",\"2017-02-08\",\"2017-02-09\",\"2017-02-10\",\"2017-02-11\",\"2017-02-12\",\"2017-02-13\",\"2017-02-14\",\"2017-02-15\",\"2017-02-16\",\"2017-02-17\",\"2017-02-18\",\"2017-02-19\",\"2017-02-20\",\"2017-02-21\",\"2017-02-22\",\"2017-02-23\",\"2017-02-24\",\"2017-02-25\",\"2017-02-26\",\"2017-02-27\",\"2017-02-28\",\"2017-03-01\",\"2017-03-02\",\"2017-03-03\",\"2017-03-04\",\"2017-03-05\",\"2017-03-06\",\"2017-03-07\",\"2017-03-08\",\"2017-03-09\",\"2017-03-10\",\"2017-03-11\",\"2017-03-12\",\"2017-03-13\",\"2017-03-14\",\"2017-03-15\",\"2017-03-16\",\"2017-03-17\",\"2017-03-18\",\"2017-03-19\",\"2017-03-20\",\"2017-03-21\",\"2017-03-22\",\"2017-03-23\",\"2017-03-24\",\"2017-03-25\",\"2017-03-26\",\"2017-03-27\",\"2017-03-28\",\"2017-03-29\",\"2017-03-30\",\"2017-03-31\",\"2017-04-01\",\"2017-04-02\",\"2017-04-03\",\"2017-04-04\",\"2017-04-05\",\"2017-04-06\",\"2017-04-07\",\"2017-04-08\",\"2017-04-09\",\"2017-04-10\",\"2017-04-11\",\"2017-04-12\",\"2017-04-13\",\"2017-04-14\",\"2017-04-15\",\"2017-04-16\",\"2017-04-17\",\"2017-04-18\",\"2017-04-19\",\"2017-04-20\",\"2017-04-21\",\"2017-04-22\",\"2017-04-23\",\"2017-04-24\",\"2017-04-25\",\"2017-04-26\",\"2017-04-27\",\"2017-04-28\",\"2017-04-29\",\"2017-04-30\",\"2017-05-01\",\"2017-05-02\",\"2017-05-03\",\"2017-05-04\",\"2017-05-05\",\"2017-05-06\",\"2017-05-07\",\"2017-05-08\",\"2017-05-09\",\"2017-05-10\",\"2017-05-11\",\"2017-05-12\",\"2017-05-13\",\"2017-05-14\",\"2017-05-15\",\"2017-05-16\",\"2017-05-17\",\"2017-05-18\",\"2017-05-19\",\"2017-05-20\",\"2017-05-21\",\"2017-05-22\",\"2017-05-23\",\"2017-05-24\",\"2017-05-25\",\"2017-05-26\",\"2017-05-27\",\"2017-05-28\",\"2017-05-29\",\"2017-05-30\",\"2017-05-31\",\"2017-06-01\",\"2017-06-02\",\"2017-06-03\",\"2017-06-04\",\"2017-06-05\",\"2017-06-06\",\"2017-06-07\",\"2017-06-08\",\"2017-06-09\",\"2017-06-10\",\"2017-06-11\",\"2017-06-12\",\"2017-06-13\",\"2017-06-14\",\"2017-06-15\",\"2017-06-16\",\"2017-06-17\",\"2017-06-18\",\"2017-06-19\",\"2017-06-20\",\"2017-06-21\",\"2017-06-22\",\"2017-06-23\",\"2017-06-24\",\"2017-06-25\",\"2017-06-26\",\"2017-06-27\",\"2017-06-28\",\"2017-06-29\",\"2017-06-30\",\"2017-07-01\",\"2017-07-02\",\"2017-07-03\",\"2017-07-04\",\"2017-07-05\",\"2017-07-06\",\"2017-07-07\",\"2017-07-08\",\"2017-07-09\",\"2017-07-10\",\"2017-07-11\",\"2017-07-12\",\"2017-07-13\",\"2017-07-14\",\"2017-07-15\",\"2017-07-16\",\"2017-07-17\",\"2017-07-18\",\"2017-07-19\",\"2017-07-20\",\"2017-07-21\",\"2017-07-22\",\"2017-07-23\",\"2017-07-24\",\"2017-07-25\",\"2017-07-26\",\"2017-07-27\",\"2017-07-28\",\"2017-07-29\",\"2017-07-30\",\"2017-07-31\",\"2017-08-01\",\"2017-08-02\",\"2017-08-03\",\"2017-08-04\",\"2017-08-05\",\"2017-08-06\",\"2017-08-07\",\"2017-08-08\",\"2017-08-09\",\"2017-08-10\",\"2017-08-11\",\"2017-08-12\",\"2017-08-13\",\"2017-08-14\",\"2017-08-15\",\"2017-08-16\",\"2017-08-17\",\"2017-08-18\",\"2017-08-19\",\"2017-08-20\",\"2017-08-21\",\"2017-08-22\",\"2017-08-23\",\"2017-08-24\",\"2017-08-25\",\"2017-08-26\",\"2017-08-27\",\"2017-08-28\",\"2017-08-29\",\"2017-08-30\",\"2017-08-31\",\"2017-09-01\",\"2017-09-02\",\"2017-09-03\",\"2017-09-04\",\"2017-09-05\",\"2017-09-06\",\"2017-09-07\",\"2017-09-08\",\"2017-09-09\",\"2017-09-10\",\"2017-09-11\",\"2017-09-12\",\"2017-09-13\",\"2017-09-14\",\"2017-09-15\",\"2017-09-16\",\"2017-09-17\",\"2017-09-18\",\"2017-09-19\",\"2017-09-20\",\"2017-09-21\",\"2017-09-22\",\"2017-09-23\",\"2017-09-24\",\"2017-09-25\",\"2017-09-26\",\"2017-09-27\",\"2017-09-28\",\"2017-09-29\",\"2017-09-30\",\"2017-10-01\",\"2017-10-02\",\"2017-10-03\",\"2017-10-04\",\"2017-10-05\",\"2017-10-06\",\"2017-10-07\",\"2017-10-08\",\"2017-10-09\",\"2017-10-10\",\"2017-10-11\",\"2017-10-12\",\"2017-10-13\",\"2017-10-14\",\"2017-10-15\",\"2017-10-16\",\"2017-10-17\",\"2017-10-18\",\"2017-10-19\",\"2017-10-20\",\"2017-10-21\",\"2017-10-22\",\"2017-10-23\",\"2017-10-24\",\"2017-10-25\",\"2017-10-26\",\"2017-10-27\",\"2017-10-28\",\"2017-10-29\",\"2017-10-30\",\"2017-10-31\",\"2017-11-01\",\"2017-11-02\",\"2017-11-03\",\"2017-11-04\",\"2017-11-05\",\"2017-11-06\",\"2017-11-07\",\"2017-11-08\",\"2017-11-09\",\"2017-11-10\",\"2017-11-11\",\"2017-11-12\",\"2017-11-13\",\"2017-11-14\",\"2017-11-15\",\"2017-11-16\",\"2017-11-17\",\"2017-11-18\",\"2017-11-19\",\"2017-11-20\",\"2017-11-21\",\"2017-11-22\",\"2017-11-23\",\"2017-11-24\",\"2017-11-25\",\"2017-11-26\",\"2017-11-27\",\"2017-11-28\",\"2017-11-29\",\"2017-11-30\",\"2017-12-01\",\"2017-12-02\",\"2017-12-03\",\"2017-12-04\",\"2017-12-05\",\"2017-12-06\",\"2017-12-07\",\"2017-12-08\",\"2017-12-09\",\"2017-12-10\",\"2017-12-11\",\"2017-12-12\",\"2017-12-13\",\"2017-12-14\",\"2017-12-15\",\"2017-12-16\",\"2017-12-17\",\"2017-12-18\",\"2017-12-19\",\"2017-12-20\",\"2017-12-21\",\"2017-12-22\",\"2017-12-23\",\"2017-12-24\",\"2017-12-25\",\"2017-12-26\",\"2017-12-27\",\"2017-12-28\",\"2017-12-29\",\"2017-12-30\",\"2017-12-31\"],\"y\":[332.0,384.0,373.0,439.0,318.0,390.0,332.0,283.0,300.0,305.0,337.0,417.0,426.0,439.0,382.0,397.0,330.0,358.0,376.0,334.0,387.0,446.0,379.0,375.0,450.0,340.0,203.0,236.0,252.0,302.0,358.0,317.0,387.0,438.0,407.0,312.0,367.0,263.0,287.0,346.0,314.0,314.0,314.0,298.0,319.0,382.0,352.0,309.0,301.0,274.0,313.0,310.0,258.0,238.0,449.0,516.0,520.0,363.0,362.0,397.0,280.0,206.0,190.0,210.0,201.0,243.0,267.0,245.0,165.0,102.0,159.0,174.0,270.0,397.0,371.0,328.0,254.0,342.0,367.0,400.0,390.0,417.0,359.0,309.0,292.0,278.0,320.0,350.0,234.0,233.0,341.0,259.0,204.0,220.0,255.0,211.0,428.0,497.0,289.0,285.0,368.0,304.0,377.0,418.0,355.0,416.0,403.0,415.0,412.0,394.0,357.0,291.0,244.0,287.0,254.0,242.0,223.0,243.0,237.0,275.0,183.0,370.0,419.0,317.0,455.0,435.0,468.0,442.0,400.0,223.0,220.0,474.0,479.0,373.0,354.0,349.0,264.0,188.0,294.0,334.0,505.0,349.0,421.0,238.0,204.0,289.0,236.0,148.0,94.0,130.0,123.0,192.0,324.0,357.0,393.0,302.0,239.0,210.0,77.0,89.0,143.0,80.0,92.0,112.0,117.0,101.0,106.0,88.0,94.0,150.0,97.0,109.0,124.0,null,111.0,148.0,108.0,73.0,58.0,58.0,46.0,84.0,54.0,49.0,149.0,212.0,85.0,77.0,65.0,108.0,78.0,59.0,47.0,39.0,40.0,56.0,65.0,71.0,97.0,118.0,116.0,53.0,30.0,37.0,35.0,37.0,32.0,41.0,42.0,47.0,30.0,29.0,44.0,40.0,49.0,50.0,88.0,99.0,110.0,68.0,73.0,95.0,58.0,45.0,null,null,59.0,53.0,66.0,70.0,70.0,63.0,42.0,null,null,58.0,104.0,null,null,null,null,73.0,94.0,91.0,88.0,88.0,89.0,88.0,88.0,88.0,106.0,96.0,118.0,119.0,106.0,115.0,142.0,169.0,110.0,106.0,99.0,109.0,137.0,144.0,92.0,83.0,84.0,104.0,131.0,165.0,176.0,172.0,137.0,131.0,132.0,115.0,151.0,180.0,183.0,193.0,224.0,268.0,253.0,208.0,211.0,246.0,319.0,317.0,310.0,313.0,310.0,336.0,497.0,404.0,338.0,327.0,366.0,357.0,328.0,345.0,379.0,362.0,340.0,366.0,344.0,305.0,310.0,345.0,370.0,377.0,532.0,675.0,677.0,597.0,471.0,613.0,561.0,444.0,378.0,357.0,330.0,309.0,297.0,329.0,341.0,348.0,340.0,348.0,347.0,368.0,382.0,360.0,359.0,388.0,377.0,356.0,384.0,415.0,404.0,330.0,215.0,220.0,312.0,389.0,406.0,280.0,263.0,276.0,292.0,228.0,195.0,223.0,291.0,378.0,467.0,370.0,253.0,309.0,398.0,372.0,379.0,398.0,399.0,421.0,451.0],\"type\":\"scatter\"}],                        {\"template\":{\"data\":{\"bar\":[{\"error_x\":{\"color\":\"#2a3f5f\"},\"error_y\":{\"color\":\"#2a3f5f\"},\"marker\":{\"line\":{\"color\":\"#E5ECF6\",\"width\":0.5},\"pattern\":{\"fillmode\":\"overlay\",\"size\":10,\"solidity\":0.2}},\"type\":\"bar\"}],\"barpolar\":[{\"marker\":{\"line\":{\"color\":\"#E5ECF6\",\"width\":0.5},\"pattern\":{\"fillmode\":\"overlay\",\"size\":10,\"solidity\":0.2}},\"type\":\"barpolar\"}],\"carpet\":[{\"aaxis\":{\"endlinecolor\":\"#2a3f5f\",\"gridcolor\":\"white\",\"linecolor\":\"white\",\"minorgridcolor\":\"white\",\"startlinecolor\":\"#2a3f5f\"},\"baxis\":{\"endlinecolor\":\"#2a3f5f\",\"gridcolor\":\"white\",\"linecolor\":\"white\",\"minorgridcolor\":\"white\",\"startlinecolor\":\"#2a3f5f\"},\"type\":\"carpet\"}],\"choropleth\":[{\"colorbar\":{\"outlinewidth\":0,\"ticks\":\"\"},\"type\":\"choropleth\"}],\"contour\":[{\"colorbar\":{\"outlinewidth\":0,\"ticks\":\"\"},\"colorscale\":[[0.0,\"#0d0887\"],[0.1111111111111111,\"#46039f\"],[0.2222222222222222,\"#7201a8\"],[0.3333333333333333,\"#9c179e\"],[0.4444444444444444,\"#bd3786\"],[0.5555555555555556,\"#d8576b\"],[0.6666666666666666,\"#ed7953\"],[0.7777777777777778,\"#fb9f3a\"],[0.8888888888888888,\"#fdca26\"],[1.0,\"#f0f921\"]],\"type\":\"contour\"}],\"contourcarpet\":[{\"colorbar\":{\"outlinewidth\":0,\"ticks\":\"\"},\"type\":\"contourcarpet\"}],\"heatmap\":[{\"colorbar\":{\"outlinewidth\":0,\"ticks\":\"\"},\"colorscale\":[[0.0,\"#0d0887\"],[0.1111111111111111,\"#46039f\"],[0.2222222222222222,\"#7201a8\"],[0.3333333333333333,\"#9c179e\"],[0.4444444444444444,\"#bd3786\"],[0.5555555555555556,\"#d8576b\"],[0.6666666666666666,\"#ed7953\"],[0.7777777777777778,\"#fb9f3a\"],[0.8888888888888888,\"#fdca26\"],[1.0,\"#f0f921\"]],\"type\":\"heatmap\"}],\"heatmapgl\":[{\"colorbar\":{\"outlinewidth\":0,\"ticks\":\"\"},\"colorscale\":[[0.0,\"#0d0887\"],[0.1111111111111111,\"#46039f\"],[0.2222222222222222,\"#7201a8\"],[0.3333333333333333,\"#9c179e\"],[0.4444444444444444,\"#bd3786\"],[0.5555555555555556,\"#d8576b\"],[0.6666666666666666,\"#ed7953\"],[0.7777777777777778,\"#fb9f3a\"],[0.8888888888888888,\"#fdca26\"],[1.0,\"#f0f921\"]],\"type\":\"heatmapgl\"}],\"histogram\":[{\"marker\":{\"pattern\":{\"fillmode\":\"overlay\",\"size\":10,\"solidity\":0.2}},\"type\":\"histogram\"}],\"histogram2d\":[{\"colorbar\":{\"outlinewidth\":0,\"ticks\":\"\"},\"colorscale\":[[0.0,\"#0d0887\"],[0.1111111111111111,\"#46039f\"],[0.2222222222222222,\"#7201a8\"],[0.3333333333333333,\"#9c179e\"],[0.4444444444444444,\"#bd3786\"],[0.5555555555555556,\"#d8576b\"],[0.6666666666666666,\"#ed7953\"],[0.7777777777777778,\"#fb9f3a\"],[0.8888888888888888,\"#fdca26\"],[1.0,\"#f0f921\"]],\"type\":\"histogram2d\"}],\"histogram2dcontour\":[{\"colorbar\":{\"outlinewidth\":0,\"ticks\":\"\"},\"colorscale\":[[0.0,\"#0d0887\"],[0.1111111111111111,\"#46039f\"],[0.2222222222222222,\"#7201a8\"],[0.3333333333333333,\"#9c179e\"],[0.4444444444444444,\"#bd3786\"],[0.5555555555555556,\"#d8576b\"],[0.6666666666666666,\"#ed7953\"],[0.7777777777777778,\"#fb9f3a\"],[0.8888888888888888,\"#fdca26\"],[1.0,\"#f0f921\"]],\"type\":\"histogram2dcontour\"}],\"mesh3d\":[{\"colorbar\":{\"outlinewidth\":0,\"ticks\":\"\"},\"type\":\"mesh3d\"}],\"parcoords\":[{\"line\":{\"colorbar\":{\"outlinewidth\":0,\"ticks\":\"\"}},\"type\":\"parcoords\"}],\"pie\":[{\"automargin\":true,\"type\":\"pie\"}],\"scatter\":[{\"marker\":{\"colorbar\":{\"outlinewidth\":0,\"ticks\":\"\"}},\"type\":\"scatter\"}],\"scatter3d\":[{\"line\":{\"colorbar\":{\"outlinewidth\":0,\"ticks\":\"\"}},\"marker\":{\"colorbar\":{\"outlinewidth\":0,\"ticks\":\"\"}},\"type\":\"scatter3d\"}],\"scattercarpet\":[{\"marker\":{\"colorbar\":{\"outlinewidth\":0,\"ticks\":\"\"}},\"type\":\"scattercarpet\"}],\"scattergeo\":[{\"marker\":{\"colorbar\":{\"outlinewidth\":0,\"ticks\":\"\"}},\"type\":\"scattergeo\"}],\"scattergl\":[{\"marker\":{\"colorbar\":{\"outlinewidth\":0,\"ticks\":\"\"}},\"type\":\"scattergl\"}],\"scattermapbox\":[{\"marker\":{\"colorbar\":{\"outlinewidth\":0,\"ticks\":\"\"}},\"type\":\"scattermapbox\"}],\"scatterpolar\":[{\"marker\":{\"colorbar\":{\"outlinewidth\":0,\"ticks\":\"\"}},\"type\":\"scatterpolar\"}],\"scatterpolargl\":[{\"marker\":{\"colorbar\":{\"outlinewidth\":0,\"ticks\":\"\"}},\"type\":\"scatterpolargl\"}],\"scatterternary\":[{\"marker\":{\"colorbar\":{\"outlinewidth\":0,\"ticks\":\"\"}},\"type\":\"scatterternary\"}],\"surface\":[{\"colorbar\":{\"outlinewidth\":0,\"ticks\":\"\"},\"colorscale\":[[0.0,\"#0d0887\"],[0.1111111111111111,\"#46039f\"],[0.2222222222222222,\"#7201a8\"],[0.3333333333333333,\"#9c179e\"],[0.4444444444444444,\"#bd3786\"],[0.5555555555555556,\"#d8576b\"],[0.6666666666666666,\"#ed7953\"],[0.7777777777777778,\"#fb9f3a\"],[0.8888888888888888,\"#fdca26\"],[1.0,\"#f0f921\"]],\"type\":\"surface\"}],\"table\":[{\"cells\":{\"fill\":{\"color\":\"#EBF0F8\"},\"line\":{\"color\":\"white\"}},\"header\":{\"fill\":{\"color\":\"#C8D4E3\"},\"line\":{\"color\":\"white\"}},\"type\":\"table\"}]},\"layout\":{\"annotationdefaults\":{\"arrowcolor\":\"#2a3f5f\",\"arrowhead\":0,\"arrowwidth\":1},\"autotypenumbers\":\"strict\",\"coloraxis\":{\"colorbar\":{\"outlinewidth\":0,\"ticks\":\"\"}},\"colorscale\":{\"diverging\":[[0,\"#8e0152\"],[0.1,\"#c51b7d\"],[0.2,\"#de77ae\"],[0.3,\"#f1b6da\"],[0.4,\"#fde0ef\"],[0.5,\"#f7f7f7\"],[0.6,\"#e6f5d0\"],[0.7,\"#b8e186\"],[0.8,\"#7fbc41\"],[0.9,\"#4d9221\"],[1,\"#276419\"]],\"sequential\":[[0.0,\"#0d0887\"],[0.1111111111111111,\"#46039f\"],[0.2222222222222222,\"#7201a8\"],[0.3333333333333333,\"#9c179e\"],[0.4444444444444444,\"#bd3786\"],[0.5555555555555556,\"#d8576b\"],[0.6666666666666666,\"#ed7953\"],[0.7777777777777778,\"#fb9f3a\"],[0.8888888888888888,\"#fdca26\"],[1.0,\"#f0f921\"]],\"sequentialminus\":[[0.0,\"#0d0887\"],[0.1111111111111111,\"#46039f\"],[0.2222222222222222,\"#7201a8\"],[0.3333333333333333,\"#9c179e\"],[0.4444444444444444,\"#bd3786\"],[0.5555555555555556,\"#d8576b\"],[0.6666666666666666,\"#ed7953\"],[0.7777777777777778,\"#fb9f3a\"],[0.8888888888888888,\"#fdca26\"],[1.0,\"#f0f921\"]]},\"colorway\":[\"#636efa\",\"#EF553B\",\"#00cc96\",\"#ab63fa\",\"#FFA15A\",\"#19d3f3\",\"#FF6692\",\"#B6E880\",\"#FF97FF\",\"#FECB52\"],\"font\":{\"color\":\"#2a3f5f\"},\"geo\":{\"bgcolor\":\"white\",\"lakecolor\":\"white\",\"landcolor\":\"#E5ECF6\",\"showlakes\":true,\"showland\":true,\"subunitcolor\":\"white\"},\"hoverlabel\":{\"align\":\"left\"},\"hovermode\":\"closest\",\"mapbox\":{\"style\":\"light\"},\"paper_bgcolor\":\"white\",\"plot_bgcolor\":\"#E5ECF6\",\"polar\":{\"angularaxis\":{\"gridcolor\":\"white\",\"linecolor\":\"white\",\"ticks\":\"\"},\"bgcolor\":\"#E5ECF6\",\"radialaxis\":{\"gridcolor\":\"white\",\"linecolor\":\"white\",\"ticks\":\"\"}},\"scene\":{\"xaxis\":{\"backgroundcolor\":\"#E5ECF6\",\"gridcolor\":\"white\",\"gridwidth\":2,\"linecolor\":\"white\",\"showbackground\":true,\"ticks\":\"\",\"zerolinecolor\":\"white\"},\"yaxis\":{\"backgroundcolor\":\"#E5ECF6\",\"gridcolor\":\"white\",\"gridwidth\":2,\"linecolor\":\"white\",\"showbackground\":true,\"ticks\":\"\",\"zerolinecolor\":\"white\"},\"zaxis\":{\"backgroundcolor\":\"#E5ECF6\",\"gridcolor\":\"white\",\"gridwidth\":2,\"linecolor\":\"white\",\"showbackground\":true,\"ticks\":\"\",\"zerolinecolor\":\"white\"}},\"shapedefaults\":{\"line\":{\"color\":\"#2a3f5f\"}},\"ternary\":{\"aaxis\":{\"gridcolor\":\"white\",\"linecolor\":\"white\",\"ticks\":\"\"},\"baxis\":{\"gridcolor\":\"white\",\"linecolor\":\"white\",\"ticks\":\"\"},\"bgcolor\":\"#E5ECF6\",\"caxis\":{\"gridcolor\":\"white\",\"linecolor\":\"white\",\"ticks\":\"\"}},\"title\":{\"x\":0.05},\"xaxis\":{\"automargin\":true,\"gridcolor\":\"white\",\"linecolor\":\"white\",\"ticks\":\"\",\"title\":{\"standoff\":15},\"zerolinecolor\":\"white\",\"zerolinewidth\":2},\"yaxis\":{\"automargin\":true,\"gridcolor\":\"white\",\"linecolor\":\"white\",\"ticks\":\"\",\"title\":{\"standoff\":15},\"zerolinecolor\":\"white\",\"zerolinewidth\":2}}},\"xaxis\":{\"title\":{\"font\":{\"size\":20},\"text\":\"Month\",\"standoff\":25},\"tickangle\":90},\"yaxis\":{\"title\":{\"text\":\"AQI LEVELS\",\"standoff\":25}},\"title\":{\"text\":\"AQI 2017\"}},                        {\"responsive\": true}                    ).then(function(){\n",
       "                            \n",
       "var gd = document.getElementById('93afeca1-fe63-41ed-b786-a20109898498');\n",
       "var x = new MutationObserver(function (mutations, observer) {{\n",
       "        var display = window.getComputedStyle(gd).display;\n",
       "        if (!display || display === 'none') {{\n",
       "            console.log([gd, 'removed!']);\n",
       "            Plotly.purge(gd);\n",
       "            observer.disconnect();\n",
       "        }}\n",
       "}});\n",
       "\n",
       "// Listen for the removal of the full notebook cells\n",
       "var notebookContainer = gd.closest('#notebook-container');\n",
       "if (notebookContainer) {{\n",
       "    x.observe(notebookContainer, {childList: true});\n",
       "}}\n",
       "\n",
       "// Listen for the clearing of the current output cell\n",
       "var outputEl = gd.closest('.output');\n",
       "if (outputEl) {{\n",
       "    x.observe(outputEl, {childList: true});\n",
       "}}\n",
       "\n",
       "                        })                };                });            </script>        </div>"
      ]
     },
     "metadata": {},
     "output_type": "display_data"
    }
   ],
   "source": [
    "#2017\n",
    "fig = go.Figure(go.Scatter(\n",
    "    mode = \"lines+markers\",\n",
    "    y = aqi_level_17.iloc[:,-2],\n",
    "    x = aqi_level_17.iloc[:,-3]))\n",
    "fig.update_xaxes(\n",
    "        tickangle = 90,\n",
    "        title_text = \"Month\",\n",
    "        title_font = {\"size\": 20},\n",
    "        title_standoff = 25)\n",
    "\n",
    "fig.update_yaxes(\n",
    "        title_text = \"AQI LEVELS\",\n",
    "        title_standoff = 25)\n",
    "fig.update_layout(title_text=\"AQI 2017\")\n",
    "\n",
    "fig.show()"
   ]
  },
  {
   "cell_type": "code",
   "execution_count": 19,
   "id": "3426136d",
   "metadata": {},
   "outputs": [
    {
     "data": {
      "application/vnd.plotly.v1+json": {
       "config": {
        "plotlyServerURL": "https://plot.ly"
       },
       "data": [
        {
         "mode": "lines+markers",
         "type": "scatter",
         "x": [
          "2018-01-01",
          "2018-01-02",
          "2018-01-03",
          "2018-01-04",
          "2018-01-05",
          "2018-01-06",
          "2018-01-07",
          "2018-01-08",
          "2018-01-09",
          "2018-01-10",
          "2018-01-11",
          "2018-01-12",
          "2018-01-13",
          "2018-01-14",
          "2018-01-15",
          "2018-01-16",
          "2018-01-17",
          "2018-01-18",
          "2018-01-19",
          "2018-01-20",
          "2018-01-21",
          "2018-01-22",
          "2018-01-23",
          "2018-01-24",
          "2018-01-25",
          "2018-01-26",
          "2018-01-27",
          "2018-01-28",
          "2018-01-29",
          "2018-01-30",
          "2018-01-31",
          "2018-02-01",
          "2018-02-02",
          "2018-02-03",
          "2018-02-04",
          "2018-02-05",
          "2018-02-06",
          "2018-02-07",
          "2018-02-08",
          "2018-02-09",
          "2018-02-10",
          "2018-02-11",
          "2018-02-12",
          "2018-02-13",
          "2018-02-14",
          "2018-02-15",
          "2018-02-16",
          "2018-02-17",
          "2018-02-18",
          "2018-02-19",
          "2018-02-20",
          "2018-02-21",
          "2018-02-22",
          "2018-02-23",
          "2018-02-24",
          "2018-02-25",
          "2018-02-26",
          "2018-02-27",
          "2018-02-28",
          "2018-03-01",
          "2018-03-02",
          "2018-03-03",
          "2018-03-04",
          "2018-03-05",
          "2018-03-06",
          "2018-03-07",
          "2018-03-08",
          "2018-03-09",
          "2018-03-10",
          "2018-03-11",
          "2018-03-12",
          "2018-03-13",
          "2018-03-14",
          "2018-03-15",
          "2018-03-16",
          "2018-03-17",
          "2018-03-18",
          "2018-03-19",
          "2018-03-20",
          "2018-03-21",
          "2018-03-22",
          "2018-03-23",
          "2018-03-24",
          "2018-03-25",
          "2018-03-26",
          "2018-03-27",
          "2018-03-28",
          "2018-03-29",
          "2018-03-30",
          "2018-03-31",
          "2018-04-01",
          "2018-04-02",
          "2018-04-03",
          "2018-04-04",
          "2018-04-05",
          "2018-04-06",
          "2018-04-07",
          "2018-04-08",
          "2018-04-09",
          "2018-04-10",
          "2018-04-11",
          "2018-04-12",
          "2018-04-13",
          "2018-04-14",
          "2018-04-15",
          "2018-04-16",
          "2018-04-17",
          "2018-04-18",
          "2018-04-19",
          "2018-04-20",
          "2018-04-21",
          "2018-04-22",
          "2018-04-23",
          "2018-04-24",
          "2018-04-25",
          "2018-04-26",
          "2018-04-27",
          "2018-04-28",
          "2018-04-29",
          "2018-04-30",
          "2018-05-01",
          "2018-05-02",
          "2018-05-03",
          "2018-05-04",
          "2018-05-05",
          "2018-05-06",
          "2018-05-07",
          "2018-05-08",
          "2018-05-09",
          "2018-05-10",
          "2018-05-11",
          "2018-05-12",
          "2018-05-13",
          "2018-05-14",
          "2018-05-15",
          "2018-05-16",
          "2018-05-17",
          "2018-05-18",
          "2018-05-19",
          "2018-05-20",
          "2018-05-21",
          "2018-05-22",
          "2018-05-23",
          "2018-05-24",
          "2018-05-25",
          "2018-05-26",
          "2018-05-27",
          "2018-05-28",
          "2018-05-29",
          "2018-05-30",
          "2018-05-31",
          "2018-06-01",
          "2018-06-02",
          "2018-06-03",
          "2018-06-04",
          "2018-06-05",
          "2018-06-06",
          "2018-06-07",
          "2018-06-08",
          "2018-06-09",
          "2018-06-10",
          "2018-06-11",
          "2018-06-12",
          "2018-06-13",
          "2018-06-14",
          "2018-06-15",
          "2018-06-16",
          "2018-06-17",
          "2018-06-18",
          "2018-06-19",
          "2018-06-20",
          "2018-06-21",
          "2018-06-22",
          "2018-06-23",
          "2018-06-24",
          "2018-06-25",
          "2018-06-26",
          "2018-06-27",
          "2018-06-28",
          "2018-06-29",
          "2018-06-30",
          "2018-07-01",
          "2018-07-02",
          "2018-07-03",
          "2018-07-04",
          "2018-07-05",
          "2018-07-06",
          "2018-07-07",
          "2018-07-08",
          "2018-07-09",
          "2018-07-10",
          "2018-07-11",
          "2018-07-12",
          "2018-07-13",
          "2018-07-14",
          "2018-07-15",
          "2018-07-16",
          "2018-07-17",
          "2018-07-18",
          "2018-07-19",
          "2018-07-20",
          "2018-07-21",
          "2018-07-22",
          "2018-07-23",
          "2018-07-24",
          "2018-07-25",
          "2018-07-26",
          "2018-07-27",
          "2018-07-28",
          "2018-07-29",
          "2018-07-30",
          "2018-07-31",
          "2018-08-01",
          "2018-08-02",
          "2018-08-03",
          "2018-08-04",
          "2018-08-05",
          "2018-08-06",
          "2018-08-07",
          "2018-08-08",
          "2018-08-09",
          "2018-08-10",
          "2018-08-11",
          "2018-08-12",
          "2018-08-13",
          "2018-08-14",
          "2018-08-15",
          "2018-08-16",
          "2018-08-17",
          "2018-08-18",
          "2018-08-19",
          "2018-08-20",
          "2018-08-21",
          "2018-08-22",
          "2018-08-23",
          "2018-08-24",
          "2018-08-25",
          "2018-08-26",
          "2018-08-27",
          "2018-08-28",
          "2018-08-29",
          "2018-08-30",
          "2018-08-31",
          "2018-09-01",
          "2018-09-02",
          "2018-09-03",
          "2018-09-04",
          "2018-09-05",
          "2018-09-06",
          "2018-09-07",
          "2018-09-08",
          "2018-09-09",
          "2018-09-10",
          "2018-09-11",
          "2018-09-12",
          "2018-09-13",
          "2018-09-14",
          "2018-09-15",
          "2018-09-16",
          "2018-09-17",
          "2018-09-18",
          "2018-09-19",
          "2018-09-20",
          "2018-09-21",
          "2018-09-22",
          "2018-09-23",
          "2018-09-24",
          "2018-09-25",
          "2018-09-26",
          "2018-09-27",
          "2018-09-28",
          "2018-09-29",
          "2018-09-30",
          "2018-10-01",
          "2018-10-02",
          "2018-10-03",
          "2018-10-04",
          "2018-10-05",
          "2018-10-06",
          "2018-10-07",
          "2018-10-08",
          "2018-10-09",
          "2018-10-10",
          "2018-10-11",
          "2018-10-12",
          "2018-10-13",
          "2018-10-14",
          "2018-10-15",
          "2018-10-16",
          "2018-10-17",
          "2018-10-18",
          "2018-10-19",
          "2018-10-20",
          "2018-10-21",
          "2018-10-22",
          "2018-10-23",
          "2018-10-24",
          "2018-10-25",
          "2018-10-26",
          "2018-10-27",
          "2018-10-28",
          "2018-10-29",
          "2018-10-30",
          "2018-10-31",
          "2018-11-01",
          "2018-11-02",
          "2018-11-03",
          "2018-11-04",
          "2018-11-05",
          "2018-11-06",
          "2018-11-07",
          "2018-11-08",
          "2018-11-09",
          "2018-11-10",
          "2018-11-11",
          "2018-11-12",
          "2018-11-13",
          "2018-11-14",
          "2018-11-15",
          "2018-11-16",
          "2018-11-17",
          "2018-11-18",
          "2018-11-19",
          "2018-11-20",
          "2018-11-21",
          "2018-11-22",
          "2018-11-23",
          "2018-11-24",
          "2018-11-25",
          "2018-11-26",
          "2018-11-27",
          "2018-11-28",
          "2018-11-29",
          "2018-11-30",
          "2018-12-01",
          "2018-12-02",
          "2018-12-03",
          "2018-12-04",
          "2018-12-05",
          "2018-12-06",
          "2018-12-07",
          "2018-12-08",
          "2018-12-09",
          "2018-12-10",
          "2018-12-11",
          "2018-12-12",
          "2018-12-13",
          "2018-12-14",
          "2018-12-15",
          "2018-12-16",
          "2018-12-17",
          "2018-12-18",
          "2018-12-19",
          "2018-12-20",
          "2018-12-21",
          "2018-12-22",
          "2018-12-23",
          "2018-12-24",
          "2018-12-25",
          "2018-12-26",
          "2018-12-27",
          "2018-12-28",
          "2018-12-29",
          "2018-12-30",
          "2018-12-31"
         ],
         "y": [
          462,
          439,
          405,
          394,
          398,
          403,
          384,
          314,
          373,
          366,
          318,
          306,
          370,
          365,
          352,
          278,
          350,
          411,
          451,
          351,
          310,
          362,
          343,
          286,
          267,
          263,
          284,
          334,
          332,
          300,
          271,
          293,
          318,
          277,
          284,
          313,
          324,
          287,
          334,
          375,
          378,
          350,
          218,
          189,
          217,
          189,
          248,
          277,
          284,
          321,
          335,
          347,
          333,
          331,
          347,
          317,
          170,
          167,
          274,
          293,
          300,
          244,
          205,
          180,
          170,
          192,
          262,
          316,
          207,
          179,
          236,
          241,
          287,
          314,
          269,
          218,
          177,
          177,
          224,
          302,
          226,
          171,
          183,
          202,
          203,
          246,
          293,
          238,
          234,
          269,
          217,
          217,
          239,
          244,
          329,
          271,
          170,
          142,
          133,
          205,
          179,
          135,
          201,
          233,
          240,
          296,
          266,
          216,
          242,
          271,
          444,
          302,
          197,
          242,
          287,
          329,
          351,
          288,
          259,
          221,
          173,
          161,
          167,
          146,
          174,
          280,
          243,
          252,
          168,
          218,
          292,
          330,
          285,
          174,
          173,
          194,
          240,
          254,
          270,
          231,
          208,
          207,
          306,
          303,
          260,
          244,
          268,
          276,
          303,
          272,
          223,
          196,
          183,
          154,
          170,
          160,
          146,
          166,
          180,
          153,
          153,
          186,
          285,
          453,
          522,
          593,
          531,
          384,
          179,
          146,
          175,
          221,
          249,
          228,
          194,
          168,
          128,
          126,
          99,
          90,
          113,
          102,
          111,
          122,
          128,
          130,
          147,
          155,
          176,
          168,
          140,
          111,
          130,
          109,
          96,
          92,
          95,
          105,
          114,
          106,
          90,
          114,
          87,
          80,
          101,
          90,
          90,
          68,
          71,
          100,
          122,
          135,
          155,
          215,
          228,
          215,
          234,
          166,
          123,
          108,
          102,
          111,
          106,
          92,
          102,
          122,
          128,
          109,
          109,
          90,
          100,
          138,
          105,
          91,
          86,
          89,
          100,
          85,
          82,
          81,
          88,
          97,
          127,
          132,
          116,
          89,
          118,
          108,
          137,
          117,
          105,
          86,
          92,
          91,
          96,
          108,
          113,
          126,
          124,
          135,
          154,
          157,
          173,
          155,
          76,
          69,
          63,
          63,
          99,
          151,
          200,
          229,
          176,
          148,
          186,
          160,
          206,
          268,
          237,
          189,
          253,
          269,
          263,
          219,
          163,
          264,
          237,
          253,
          309,
          332,
          330,
          300,
          344,
          325,
          296,
          274,
          354,
          356,
          394,
          396,
          403,
          397,
          456,
          422,
          433,
          391,
          353,
          238,
          424,
          411,
          317,
          452,
          487,
          430,
          454,
          437,
          454,
          361,
          251,
          302,
          292,
          330,
          340,
          367,
          396,
          317,
          356,
          296,
          266,
          349,
          396,
          363,
          384,
          365,
          335,
          329,
          356,
          394,
          374,
          385,
          376,
          366,
          389,
          431,
          464,
          443,
          264,
          248,
          274,
          295,
          338,
          370,
          370,
          423,
          422,
          468,
          557,
          577,
          475,
          405,
          458,
          413,
          420,
          484,
          509
         ]
        }
       ],
       "layout": {
        "template": {
         "data": {
          "bar": [
           {
            "error_x": {
             "color": "#2a3f5f"
            },
            "error_y": {
             "color": "#2a3f5f"
            },
            "marker": {
             "line": {
              "color": "#E5ECF6",
              "width": 0.5
             },
             "pattern": {
              "fillmode": "overlay",
              "size": 10,
              "solidity": 0.2
             }
            },
            "type": "bar"
           }
          ],
          "barpolar": [
           {
            "marker": {
             "line": {
              "color": "#E5ECF6",
              "width": 0.5
             },
             "pattern": {
              "fillmode": "overlay",
              "size": 10,
              "solidity": 0.2
             }
            },
            "type": "barpolar"
           }
          ],
          "carpet": [
           {
            "aaxis": {
             "endlinecolor": "#2a3f5f",
             "gridcolor": "white",
             "linecolor": "white",
             "minorgridcolor": "white",
             "startlinecolor": "#2a3f5f"
            },
            "baxis": {
             "endlinecolor": "#2a3f5f",
             "gridcolor": "white",
             "linecolor": "white",
             "minorgridcolor": "white",
             "startlinecolor": "#2a3f5f"
            },
            "type": "carpet"
           }
          ],
          "choropleth": [
           {
            "colorbar": {
             "outlinewidth": 0,
             "ticks": ""
            },
            "type": "choropleth"
           }
          ],
          "contour": [
           {
            "colorbar": {
             "outlinewidth": 0,
             "ticks": ""
            },
            "colorscale": [
             [
              0,
              "#0d0887"
             ],
             [
              0.1111111111111111,
              "#46039f"
             ],
             [
              0.2222222222222222,
              "#7201a8"
             ],
             [
              0.3333333333333333,
              "#9c179e"
             ],
             [
              0.4444444444444444,
              "#bd3786"
             ],
             [
              0.5555555555555556,
              "#d8576b"
             ],
             [
              0.6666666666666666,
              "#ed7953"
             ],
             [
              0.7777777777777778,
              "#fb9f3a"
             ],
             [
              0.8888888888888888,
              "#fdca26"
             ],
             [
              1,
              "#f0f921"
             ]
            ],
            "type": "contour"
           }
          ],
          "contourcarpet": [
           {
            "colorbar": {
             "outlinewidth": 0,
             "ticks": ""
            },
            "type": "contourcarpet"
           }
          ],
          "heatmap": [
           {
            "colorbar": {
             "outlinewidth": 0,
             "ticks": ""
            },
            "colorscale": [
             [
              0,
              "#0d0887"
             ],
             [
              0.1111111111111111,
              "#46039f"
             ],
             [
              0.2222222222222222,
              "#7201a8"
             ],
             [
              0.3333333333333333,
              "#9c179e"
             ],
             [
              0.4444444444444444,
              "#bd3786"
             ],
             [
              0.5555555555555556,
              "#d8576b"
             ],
             [
              0.6666666666666666,
              "#ed7953"
             ],
             [
              0.7777777777777778,
              "#fb9f3a"
             ],
             [
              0.8888888888888888,
              "#fdca26"
             ],
             [
              1,
              "#f0f921"
             ]
            ],
            "type": "heatmap"
           }
          ],
          "heatmapgl": [
           {
            "colorbar": {
             "outlinewidth": 0,
             "ticks": ""
            },
            "colorscale": [
             [
              0,
              "#0d0887"
             ],
             [
              0.1111111111111111,
              "#46039f"
             ],
             [
              0.2222222222222222,
              "#7201a8"
             ],
             [
              0.3333333333333333,
              "#9c179e"
             ],
             [
              0.4444444444444444,
              "#bd3786"
             ],
             [
              0.5555555555555556,
              "#d8576b"
             ],
             [
              0.6666666666666666,
              "#ed7953"
             ],
             [
              0.7777777777777778,
              "#fb9f3a"
             ],
             [
              0.8888888888888888,
              "#fdca26"
             ],
             [
              1,
              "#f0f921"
             ]
            ],
            "type": "heatmapgl"
           }
          ],
          "histogram": [
           {
            "marker": {
             "pattern": {
              "fillmode": "overlay",
              "size": 10,
              "solidity": 0.2
             }
            },
            "type": "histogram"
           }
          ],
          "histogram2d": [
           {
            "colorbar": {
             "outlinewidth": 0,
             "ticks": ""
            },
            "colorscale": [
             [
              0,
              "#0d0887"
             ],
             [
              0.1111111111111111,
              "#46039f"
             ],
             [
              0.2222222222222222,
              "#7201a8"
             ],
             [
              0.3333333333333333,
              "#9c179e"
             ],
             [
              0.4444444444444444,
              "#bd3786"
             ],
             [
              0.5555555555555556,
              "#d8576b"
             ],
             [
              0.6666666666666666,
              "#ed7953"
             ],
             [
              0.7777777777777778,
              "#fb9f3a"
             ],
             [
              0.8888888888888888,
              "#fdca26"
             ],
             [
              1,
              "#f0f921"
             ]
            ],
            "type": "histogram2d"
           }
          ],
          "histogram2dcontour": [
           {
            "colorbar": {
             "outlinewidth": 0,
             "ticks": ""
            },
            "colorscale": [
             [
              0,
              "#0d0887"
             ],
             [
              0.1111111111111111,
              "#46039f"
             ],
             [
              0.2222222222222222,
              "#7201a8"
             ],
             [
              0.3333333333333333,
              "#9c179e"
             ],
             [
              0.4444444444444444,
              "#bd3786"
             ],
             [
              0.5555555555555556,
              "#d8576b"
             ],
             [
              0.6666666666666666,
              "#ed7953"
             ],
             [
              0.7777777777777778,
              "#fb9f3a"
             ],
             [
              0.8888888888888888,
              "#fdca26"
             ],
             [
              1,
              "#f0f921"
             ]
            ],
            "type": "histogram2dcontour"
           }
          ],
          "mesh3d": [
           {
            "colorbar": {
             "outlinewidth": 0,
             "ticks": ""
            },
            "type": "mesh3d"
           }
          ],
          "parcoords": [
           {
            "line": {
             "colorbar": {
              "outlinewidth": 0,
              "ticks": ""
             }
            },
            "type": "parcoords"
           }
          ],
          "pie": [
           {
            "automargin": true,
            "type": "pie"
           }
          ],
          "scatter": [
           {
            "marker": {
             "colorbar": {
              "outlinewidth": 0,
              "ticks": ""
             }
            },
            "type": "scatter"
           }
          ],
          "scatter3d": [
           {
            "line": {
             "colorbar": {
              "outlinewidth": 0,
              "ticks": ""
             }
            },
            "marker": {
             "colorbar": {
              "outlinewidth": 0,
              "ticks": ""
             }
            },
            "type": "scatter3d"
           }
          ],
          "scattercarpet": [
           {
            "marker": {
             "colorbar": {
              "outlinewidth": 0,
              "ticks": ""
             }
            },
            "type": "scattercarpet"
           }
          ],
          "scattergeo": [
           {
            "marker": {
             "colorbar": {
              "outlinewidth": 0,
              "ticks": ""
             }
            },
            "type": "scattergeo"
           }
          ],
          "scattergl": [
           {
            "marker": {
             "colorbar": {
              "outlinewidth": 0,
              "ticks": ""
             }
            },
            "type": "scattergl"
           }
          ],
          "scattermapbox": [
           {
            "marker": {
             "colorbar": {
              "outlinewidth": 0,
              "ticks": ""
             }
            },
            "type": "scattermapbox"
           }
          ],
          "scatterpolar": [
           {
            "marker": {
             "colorbar": {
              "outlinewidth": 0,
              "ticks": ""
             }
            },
            "type": "scatterpolar"
           }
          ],
          "scatterpolargl": [
           {
            "marker": {
             "colorbar": {
              "outlinewidth": 0,
              "ticks": ""
             }
            },
            "type": "scatterpolargl"
           }
          ],
          "scatterternary": [
           {
            "marker": {
             "colorbar": {
              "outlinewidth": 0,
              "ticks": ""
             }
            },
            "type": "scatterternary"
           }
          ],
          "surface": [
           {
            "colorbar": {
             "outlinewidth": 0,
             "ticks": ""
            },
            "colorscale": [
             [
              0,
              "#0d0887"
             ],
             [
              0.1111111111111111,
              "#46039f"
             ],
             [
              0.2222222222222222,
              "#7201a8"
             ],
             [
              0.3333333333333333,
              "#9c179e"
             ],
             [
              0.4444444444444444,
              "#bd3786"
             ],
             [
              0.5555555555555556,
              "#d8576b"
             ],
             [
              0.6666666666666666,
              "#ed7953"
             ],
             [
              0.7777777777777778,
              "#fb9f3a"
             ],
             [
              0.8888888888888888,
              "#fdca26"
             ],
             [
              1,
              "#f0f921"
             ]
            ],
            "type": "surface"
           }
          ],
          "table": [
           {
            "cells": {
             "fill": {
              "color": "#EBF0F8"
             },
             "line": {
              "color": "white"
             }
            },
            "header": {
             "fill": {
              "color": "#C8D4E3"
             },
             "line": {
              "color": "white"
             }
            },
            "type": "table"
           }
          ]
         },
         "layout": {
          "annotationdefaults": {
           "arrowcolor": "#2a3f5f",
           "arrowhead": 0,
           "arrowwidth": 1
          },
          "autotypenumbers": "strict",
          "coloraxis": {
           "colorbar": {
            "outlinewidth": 0,
            "ticks": ""
           }
          },
          "colorscale": {
           "diverging": [
            [
             0,
             "#8e0152"
            ],
            [
             0.1,
             "#c51b7d"
            ],
            [
             0.2,
             "#de77ae"
            ],
            [
             0.3,
             "#f1b6da"
            ],
            [
             0.4,
             "#fde0ef"
            ],
            [
             0.5,
             "#f7f7f7"
            ],
            [
             0.6,
             "#e6f5d0"
            ],
            [
             0.7,
             "#b8e186"
            ],
            [
             0.8,
             "#7fbc41"
            ],
            [
             0.9,
             "#4d9221"
            ],
            [
             1,
             "#276419"
            ]
           ],
           "sequential": [
            [
             0,
             "#0d0887"
            ],
            [
             0.1111111111111111,
             "#46039f"
            ],
            [
             0.2222222222222222,
             "#7201a8"
            ],
            [
             0.3333333333333333,
             "#9c179e"
            ],
            [
             0.4444444444444444,
             "#bd3786"
            ],
            [
             0.5555555555555556,
             "#d8576b"
            ],
            [
             0.6666666666666666,
             "#ed7953"
            ],
            [
             0.7777777777777778,
             "#fb9f3a"
            ],
            [
             0.8888888888888888,
             "#fdca26"
            ],
            [
             1,
             "#f0f921"
            ]
           ],
           "sequentialminus": [
            [
             0,
             "#0d0887"
            ],
            [
             0.1111111111111111,
             "#46039f"
            ],
            [
             0.2222222222222222,
             "#7201a8"
            ],
            [
             0.3333333333333333,
             "#9c179e"
            ],
            [
             0.4444444444444444,
             "#bd3786"
            ],
            [
             0.5555555555555556,
             "#d8576b"
            ],
            [
             0.6666666666666666,
             "#ed7953"
            ],
            [
             0.7777777777777778,
             "#fb9f3a"
            ],
            [
             0.8888888888888888,
             "#fdca26"
            ],
            [
             1,
             "#f0f921"
            ]
           ]
          },
          "colorway": [
           "#636efa",
           "#EF553B",
           "#00cc96",
           "#ab63fa",
           "#FFA15A",
           "#19d3f3",
           "#FF6692",
           "#B6E880",
           "#FF97FF",
           "#FECB52"
          ],
          "font": {
           "color": "#2a3f5f"
          },
          "geo": {
           "bgcolor": "white",
           "lakecolor": "white",
           "landcolor": "#E5ECF6",
           "showlakes": true,
           "showland": true,
           "subunitcolor": "white"
          },
          "hoverlabel": {
           "align": "left"
          },
          "hovermode": "closest",
          "mapbox": {
           "style": "light"
          },
          "paper_bgcolor": "white",
          "plot_bgcolor": "#E5ECF6",
          "polar": {
           "angularaxis": {
            "gridcolor": "white",
            "linecolor": "white",
            "ticks": ""
           },
           "bgcolor": "#E5ECF6",
           "radialaxis": {
            "gridcolor": "white",
            "linecolor": "white",
            "ticks": ""
           }
          },
          "scene": {
           "xaxis": {
            "backgroundcolor": "#E5ECF6",
            "gridcolor": "white",
            "gridwidth": 2,
            "linecolor": "white",
            "showbackground": true,
            "ticks": "",
            "zerolinecolor": "white"
           },
           "yaxis": {
            "backgroundcolor": "#E5ECF6",
            "gridcolor": "white",
            "gridwidth": 2,
            "linecolor": "white",
            "showbackground": true,
            "ticks": "",
            "zerolinecolor": "white"
           },
           "zaxis": {
            "backgroundcolor": "#E5ECF6",
            "gridcolor": "white",
            "gridwidth": 2,
            "linecolor": "white",
            "showbackground": true,
            "ticks": "",
            "zerolinecolor": "white"
           }
          },
          "shapedefaults": {
           "line": {
            "color": "#2a3f5f"
           }
          },
          "ternary": {
           "aaxis": {
            "gridcolor": "white",
            "linecolor": "white",
            "ticks": ""
           },
           "baxis": {
            "gridcolor": "white",
            "linecolor": "white",
            "ticks": ""
           },
           "bgcolor": "#E5ECF6",
           "caxis": {
            "gridcolor": "white",
            "linecolor": "white",
            "ticks": ""
           }
          },
          "title": {
           "x": 0.05
          },
          "xaxis": {
           "automargin": true,
           "gridcolor": "white",
           "linecolor": "white",
           "ticks": "",
           "title": {
            "standoff": 15
           },
           "zerolinecolor": "white",
           "zerolinewidth": 2
          },
          "yaxis": {
           "automargin": true,
           "gridcolor": "white",
           "linecolor": "white",
           "ticks": "",
           "title": {
            "standoff": 15
           },
           "zerolinecolor": "white",
           "zerolinewidth": 2
          }
         }
        },
        "title": {
         "text": "AQI 2018"
        },
        "xaxis": {
         "tickangle": 90,
         "title": {
          "font": {
           "size": 20
          },
          "standoff": 25,
          "text": "Month"
         }
        },
        "yaxis": {
         "title": {
          "standoff": 25,
          "text": "AQI LEVELS"
         }
        }
       }
      },
      "text/html": [
       "<div>                            <div id=\"ae2d04a2-1334-485a-ad95-466d61d292dd\" class=\"plotly-graph-div\" style=\"height:525px; width:100%;\"></div>            <script type=\"text/javascript\">                require([\"plotly\"], function(Plotly) {                    window.PLOTLYENV=window.PLOTLYENV || {};                                    if (document.getElementById(\"ae2d04a2-1334-485a-ad95-466d61d292dd\")) {                    Plotly.newPlot(                        \"ae2d04a2-1334-485a-ad95-466d61d292dd\",                        [{\"mode\":\"lines+markers\",\"x\":[\"2018-01-01\",\"2018-01-02\",\"2018-01-03\",\"2018-01-04\",\"2018-01-05\",\"2018-01-06\",\"2018-01-07\",\"2018-01-08\",\"2018-01-09\",\"2018-01-10\",\"2018-01-11\",\"2018-01-12\",\"2018-01-13\",\"2018-01-14\",\"2018-01-15\",\"2018-01-16\",\"2018-01-17\",\"2018-01-18\",\"2018-01-19\",\"2018-01-20\",\"2018-01-21\",\"2018-01-22\",\"2018-01-23\",\"2018-01-24\",\"2018-01-25\",\"2018-01-26\",\"2018-01-27\",\"2018-01-28\",\"2018-01-29\",\"2018-01-30\",\"2018-01-31\",\"2018-02-01\",\"2018-02-02\",\"2018-02-03\",\"2018-02-04\",\"2018-02-05\",\"2018-02-06\",\"2018-02-07\",\"2018-02-08\",\"2018-02-09\",\"2018-02-10\",\"2018-02-11\",\"2018-02-12\",\"2018-02-13\",\"2018-02-14\",\"2018-02-15\",\"2018-02-16\",\"2018-02-17\",\"2018-02-18\",\"2018-02-19\",\"2018-02-20\",\"2018-02-21\",\"2018-02-22\",\"2018-02-23\",\"2018-02-24\",\"2018-02-25\",\"2018-02-26\",\"2018-02-27\",\"2018-02-28\",\"2018-03-01\",\"2018-03-02\",\"2018-03-03\",\"2018-03-04\",\"2018-03-05\",\"2018-03-06\",\"2018-03-07\",\"2018-03-08\",\"2018-03-09\",\"2018-03-10\",\"2018-03-11\",\"2018-03-12\",\"2018-03-13\",\"2018-03-14\",\"2018-03-15\",\"2018-03-16\",\"2018-03-17\",\"2018-03-18\",\"2018-03-19\",\"2018-03-20\",\"2018-03-21\",\"2018-03-22\",\"2018-03-23\",\"2018-03-24\",\"2018-03-25\",\"2018-03-26\",\"2018-03-27\",\"2018-03-28\",\"2018-03-29\",\"2018-03-30\",\"2018-03-31\",\"2018-04-01\",\"2018-04-02\",\"2018-04-03\",\"2018-04-04\",\"2018-04-05\",\"2018-04-06\",\"2018-04-07\",\"2018-04-08\",\"2018-04-09\",\"2018-04-10\",\"2018-04-11\",\"2018-04-12\",\"2018-04-13\",\"2018-04-14\",\"2018-04-15\",\"2018-04-16\",\"2018-04-17\",\"2018-04-18\",\"2018-04-19\",\"2018-04-20\",\"2018-04-21\",\"2018-04-22\",\"2018-04-23\",\"2018-04-24\",\"2018-04-25\",\"2018-04-26\",\"2018-04-27\",\"2018-04-28\",\"2018-04-29\",\"2018-04-30\",\"2018-05-01\",\"2018-05-02\",\"2018-05-03\",\"2018-05-04\",\"2018-05-05\",\"2018-05-06\",\"2018-05-07\",\"2018-05-08\",\"2018-05-09\",\"2018-05-10\",\"2018-05-11\",\"2018-05-12\",\"2018-05-13\",\"2018-05-14\",\"2018-05-15\",\"2018-05-16\",\"2018-05-17\",\"2018-05-18\",\"2018-05-19\",\"2018-05-20\",\"2018-05-21\",\"2018-05-22\",\"2018-05-23\",\"2018-05-24\",\"2018-05-25\",\"2018-05-26\",\"2018-05-27\",\"2018-05-28\",\"2018-05-29\",\"2018-05-30\",\"2018-05-31\",\"2018-06-01\",\"2018-06-02\",\"2018-06-03\",\"2018-06-04\",\"2018-06-05\",\"2018-06-06\",\"2018-06-07\",\"2018-06-08\",\"2018-06-09\",\"2018-06-10\",\"2018-06-11\",\"2018-06-12\",\"2018-06-13\",\"2018-06-14\",\"2018-06-15\",\"2018-06-16\",\"2018-06-17\",\"2018-06-18\",\"2018-06-19\",\"2018-06-20\",\"2018-06-21\",\"2018-06-22\",\"2018-06-23\",\"2018-06-24\",\"2018-06-25\",\"2018-06-26\",\"2018-06-27\",\"2018-06-28\",\"2018-06-29\",\"2018-06-30\",\"2018-07-01\",\"2018-07-02\",\"2018-07-03\",\"2018-07-04\",\"2018-07-05\",\"2018-07-06\",\"2018-07-07\",\"2018-07-08\",\"2018-07-09\",\"2018-07-10\",\"2018-07-11\",\"2018-07-12\",\"2018-07-13\",\"2018-07-14\",\"2018-07-15\",\"2018-07-16\",\"2018-07-17\",\"2018-07-18\",\"2018-07-19\",\"2018-07-20\",\"2018-07-21\",\"2018-07-22\",\"2018-07-23\",\"2018-07-24\",\"2018-07-25\",\"2018-07-26\",\"2018-07-27\",\"2018-07-28\",\"2018-07-29\",\"2018-07-30\",\"2018-07-31\",\"2018-08-01\",\"2018-08-02\",\"2018-08-03\",\"2018-08-04\",\"2018-08-05\",\"2018-08-06\",\"2018-08-07\",\"2018-08-08\",\"2018-08-09\",\"2018-08-10\",\"2018-08-11\",\"2018-08-12\",\"2018-08-13\",\"2018-08-14\",\"2018-08-15\",\"2018-08-16\",\"2018-08-17\",\"2018-08-18\",\"2018-08-19\",\"2018-08-20\",\"2018-08-21\",\"2018-08-22\",\"2018-08-23\",\"2018-08-24\",\"2018-08-25\",\"2018-08-26\",\"2018-08-27\",\"2018-08-28\",\"2018-08-29\",\"2018-08-30\",\"2018-08-31\",\"2018-09-01\",\"2018-09-02\",\"2018-09-03\",\"2018-09-04\",\"2018-09-05\",\"2018-09-06\",\"2018-09-07\",\"2018-09-08\",\"2018-09-09\",\"2018-09-10\",\"2018-09-11\",\"2018-09-12\",\"2018-09-13\",\"2018-09-14\",\"2018-09-15\",\"2018-09-16\",\"2018-09-17\",\"2018-09-18\",\"2018-09-19\",\"2018-09-20\",\"2018-09-21\",\"2018-09-22\",\"2018-09-23\",\"2018-09-24\",\"2018-09-25\",\"2018-09-26\",\"2018-09-27\",\"2018-09-28\",\"2018-09-29\",\"2018-09-30\",\"2018-10-01\",\"2018-10-02\",\"2018-10-03\",\"2018-10-04\",\"2018-10-05\",\"2018-10-06\",\"2018-10-07\",\"2018-10-08\",\"2018-10-09\",\"2018-10-10\",\"2018-10-11\",\"2018-10-12\",\"2018-10-13\",\"2018-10-14\",\"2018-10-15\",\"2018-10-16\",\"2018-10-17\",\"2018-10-18\",\"2018-10-19\",\"2018-10-20\",\"2018-10-21\",\"2018-10-22\",\"2018-10-23\",\"2018-10-24\",\"2018-10-25\",\"2018-10-26\",\"2018-10-27\",\"2018-10-28\",\"2018-10-29\",\"2018-10-30\",\"2018-10-31\",\"2018-11-01\",\"2018-11-02\",\"2018-11-03\",\"2018-11-04\",\"2018-11-05\",\"2018-11-06\",\"2018-11-07\",\"2018-11-08\",\"2018-11-09\",\"2018-11-10\",\"2018-11-11\",\"2018-11-12\",\"2018-11-13\",\"2018-11-14\",\"2018-11-15\",\"2018-11-16\",\"2018-11-17\",\"2018-11-18\",\"2018-11-19\",\"2018-11-20\",\"2018-11-21\",\"2018-11-22\",\"2018-11-23\",\"2018-11-24\",\"2018-11-25\",\"2018-11-26\",\"2018-11-27\",\"2018-11-28\",\"2018-11-29\",\"2018-11-30\",\"2018-12-01\",\"2018-12-02\",\"2018-12-03\",\"2018-12-04\",\"2018-12-05\",\"2018-12-06\",\"2018-12-07\",\"2018-12-08\",\"2018-12-09\",\"2018-12-10\",\"2018-12-11\",\"2018-12-12\",\"2018-12-13\",\"2018-12-14\",\"2018-12-15\",\"2018-12-16\",\"2018-12-17\",\"2018-12-18\",\"2018-12-19\",\"2018-12-20\",\"2018-12-21\",\"2018-12-22\",\"2018-12-23\",\"2018-12-24\",\"2018-12-25\",\"2018-12-26\",\"2018-12-27\",\"2018-12-28\",\"2018-12-29\",\"2018-12-30\",\"2018-12-31\"],\"y\":[462.0,439.0,405.0,394.0,398.0,403.0,384.0,314.0,373.0,366.0,318.0,306.0,370.0,365.0,352.0,278.0,350.0,411.0,451.0,351.0,310.0,362.0,343.0,286.0,267.0,263.0,284.0,334.0,332.0,300.0,271.0,293.0,318.0,277.0,284.0,313.0,324.0,287.0,334.0,375.0,378.0,350.0,218.0,189.0,217.0,189.0,248.0,277.0,284.0,321.0,335.0,347.0,333.0,331.0,347.0,317.0,170.0,167.0,274.0,293.0,300.0,244.0,205.0,180.0,170.0,192.0,262.0,316.0,207.0,179.0,236.0,241.0,287.0,314.0,269.0,218.0,177.0,177.0,224.0,302.0,226.0,171.0,183.0,202.0,203.0,246.0,293.0,238.0,234.0,269.0,217.0,217.0,239.0,244.0,329.0,271.0,170.0,142.0,133.0,205.0,179.0,135.0,201.0,233.0,240.0,296.0,266.0,216.0,242.0,271.0,444.0,302.0,197.0,242.0,287.0,329.0,351.0,288.0,259.0,221.0,173.0,161.0,167.0,146.0,174.0,280.0,243.0,252.0,168.0,218.0,292.0,330.0,285.0,174.0,173.0,194.0,240.0,254.0,270.0,231.0,208.0,207.0,306.0,303.0,260.0,244.0,268.0,276.0,303.0,272.0,223.0,196.0,183.0,154.0,170.0,160.0,146.0,166.0,180.0,153.0,153.0,186.0,285.0,453.0,522.0,593.0,531.0,384.0,179.0,146.0,175.0,221.0,249.0,228.0,194.0,168.0,128.0,126.0,99.0,90.0,113.0,102.0,111.0,122.0,128.0,130.0,147.0,155.0,176.0,168.0,140.0,111.0,130.0,109.0,96.0,92.0,95.0,105.0,114.0,106.0,90.0,114.0,87.0,80.0,101.0,90.0,90.0,68.0,71.0,100.0,122.0,135.0,155.0,215.0,228.0,215.0,234.0,166.0,123.0,108.0,102.0,111.0,106.0,92.0,102.0,122.0,128.0,109.0,109.0,90.0,100.0,138.0,105.0,91.0,86.0,89.0,100.0,85.0,82.0,81.0,88.0,97.0,127.0,132.0,116.0,89.0,118.0,108.0,137.0,117.0,105.0,86.0,92.0,91.0,96.0,108.0,113.0,126.0,124.0,135.0,154.0,157.0,173.0,155.0,76.0,69.0,63.0,63.0,99.0,151.0,200.0,229.0,176.0,148.0,186.0,160.0,206.0,268.0,237.0,189.0,253.0,269.0,263.0,219.0,163.0,264.0,237.0,253.0,309.0,332.0,330.0,300.0,344.0,325.0,296.0,274.0,354.0,356.0,394.0,396.0,403.0,397.0,456.0,422.0,433.0,391.0,353.0,238.0,424.0,411.0,317.0,452.0,487.0,430.0,454.0,437.0,454.0,361.0,251.0,302.0,292.0,330.0,340.0,367.0,396.0,317.0,356.0,296.0,266.0,349.0,396.0,363.0,384.0,365.0,335.0,329.0,356.0,394.0,374.0,385.0,376.0,366.0,389.0,431.0,464.0,443.0,264.0,248.0,274.0,295.0,338.0,370.0,370.0,423.0,422.0,468.0,557.0,577.0,475.0,405.0,458.0,413.0,420.0,484.0,509.0],\"type\":\"scatter\"}],                        {\"template\":{\"data\":{\"bar\":[{\"error_x\":{\"color\":\"#2a3f5f\"},\"error_y\":{\"color\":\"#2a3f5f\"},\"marker\":{\"line\":{\"color\":\"#E5ECF6\",\"width\":0.5},\"pattern\":{\"fillmode\":\"overlay\",\"size\":10,\"solidity\":0.2}},\"type\":\"bar\"}],\"barpolar\":[{\"marker\":{\"line\":{\"color\":\"#E5ECF6\",\"width\":0.5},\"pattern\":{\"fillmode\":\"overlay\",\"size\":10,\"solidity\":0.2}},\"type\":\"barpolar\"}],\"carpet\":[{\"aaxis\":{\"endlinecolor\":\"#2a3f5f\",\"gridcolor\":\"white\",\"linecolor\":\"white\",\"minorgridcolor\":\"white\",\"startlinecolor\":\"#2a3f5f\"},\"baxis\":{\"endlinecolor\":\"#2a3f5f\",\"gridcolor\":\"white\",\"linecolor\":\"white\",\"minorgridcolor\":\"white\",\"startlinecolor\":\"#2a3f5f\"},\"type\":\"carpet\"}],\"choropleth\":[{\"colorbar\":{\"outlinewidth\":0,\"ticks\":\"\"},\"type\":\"choropleth\"}],\"contour\":[{\"colorbar\":{\"outlinewidth\":0,\"ticks\":\"\"},\"colorscale\":[[0.0,\"#0d0887\"],[0.1111111111111111,\"#46039f\"],[0.2222222222222222,\"#7201a8\"],[0.3333333333333333,\"#9c179e\"],[0.4444444444444444,\"#bd3786\"],[0.5555555555555556,\"#d8576b\"],[0.6666666666666666,\"#ed7953\"],[0.7777777777777778,\"#fb9f3a\"],[0.8888888888888888,\"#fdca26\"],[1.0,\"#f0f921\"]],\"type\":\"contour\"}],\"contourcarpet\":[{\"colorbar\":{\"outlinewidth\":0,\"ticks\":\"\"},\"type\":\"contourcarpet\"}],\"heatmap\":[{\"colorbar\":{\"outlinewidth\":0,\"ticks\":\"\"},\"colorscale\":[[0.0,\"#0d0887\"],[0.1111111111111111,\"#46039f\"],[0.2222222222222222,\"#7201a8\"],[0.3333333333333333,\"#9c179e\"],[0.4444444444444444,\"#bd3786\"],[0.5555555555555556,\"#d8576b\"],[0.6666666666666666,\"#ed7953\"],[0.7777777777777778,\"#fb9f3a\"],[0.8888888888888888,\"#fdca26\"],[1.0,\"#f0f921\"]],\"type\":\"heatmap\"}],\"heatmapgl\":[{\"colorbar\":{\"outlinewidth\":0,\"ticks\":\"\"},\"colorscale\":[[0.0,\"#0d0887\"],[0.1111111111111111,\"#46039f\"],[0.2222222222222222,\"#7201a8\"],[0.3333333333333333,\"#9c179e\"],[0.4444444444444444,\"#bd3786\"],[0.5555555555555556,\"#d8576b\"],[0.6666666666666666,\"#ed7953\"],[0.7777777777777778,\"#fb9f3a\"],[0.8888888888888888,\"#fdca26\"],[1.0,\"#f0f921\"]],\"type\":\"heatmapgl\"}],\"histogram\":[{\"marker\":{\"pattern\":{\"fillmode\":\"overlay\",\"size\":10,\"solidity\":0.2}},\"type\":\"histogram\"}],\"histogram2d\":[{\"colorbar\":{\"outlinewidth\":0,\"ticks\":\"\"},\"colorscale\":[[0.0,\"#0d0887\"],[0.1111111111111111,\"#46039f\"],[0.2222222222222222,\"#7201a8\"],[0.3333333333333333,\"#9c179e\"],[0.4444444444444444,\"#bd3786\"],[0.5555555555555556,\"#d8576b\"],[0.6666666666666666,\"#ed7953\"],[0.7777777777777778,\"#fb9f3a\"],[0.8888888888888888,\"#fdca26\"],[1.0,\"#f0f921\"]],\"type\":\"histogram2d\"}],\"histogram2dcontour\":[{\"colorbar\":{\"outlinewidth\":0,\"ticks\":\"\"},\"colorscale\":[[0.0,\"#0d0887\"],[0.1111111111111111,\"#46039f\"],[0.2222222222222222,\"#7201a8\"],[0.3333333333333333,\"#9c179e\"],[0.4444444444444444,\"#bd3786\"],[0.5555555555555556,\"#d8576b\"],[0.6666666666666666,\"#ed7953\"],[0.7777777777777778,\"#fb9f3a\"],[0.8888888888888888,\"#fdca26\"],[1.0,\"#f0f921\"]],\"type\":\"histogram2dcontour\"}],\"mesh3d\":[{\"colorbar\":{\"outlinewidth\":0,\"ticks\":\"\"},\"type\":\"mesh3d\"}],\"parcoords\":[{\"line\":{\"colorbar\":{\"outlinewidth\":0,\"ticks\":\"\"}},\"type\":\"parcoords\"}],\"pie\":[{\"automargin\":true,\"type\":\"pie\"}],\"scatter\":[{\"marker\":{\"colorbar\":{\"outlinewidth\":0,\"ticks\":\"\"}},\"type\":\"scatter\"}],\"scatter3d\":[{\"line\":{\"colorbar\":{\"outlinewidth\":0,\"ticks\":\"\"}},\"marker\":{\"colorbar\":{\"outlinewidth\":0,\"ticks\":\"\"}},\"type\":\"scatter3d\"}],\"scattercarpet\":[{\"marker\":{\"colorbar\":{\"outlinewidth\":0,\"ticks\":\"\"}},\"type\":\"scattercarpet\"}],\"scattergeo\":[{\"marker\":{\"colorbar\":{\"outlinewidth\":0,\"ticks\":\"\"}},\"type\":\"scattergeo\"}],\"scattergl\":[{\"marker\":{\"colorbar\":{\"outlinewidth\":0,\"ticks\":\"\"}},\"type\":\"scattergl\"}],\"scattermapbox\":[{\"marker\":{\"colorbar\":{\"outlinewidth\":0,\"ticks\":\"\"}},\"type\":\"scattermapbox\"}],\"scatterpolar\":[{\"marker\":{\"colorbar\":{\"outlinewidth\":0,\"ticks\":\"\"}},\"type\":\"scatterpolar\"}],\"scatterpolargl\":[{\"marker\":{\"colorbar\":{\"outlinewidth\":0,\"ticks\":\"\"}},\"type\":\"scatterpolargl\"}],\"scatterternary\":[{\"marker\":{\"colorbar\":{\"outlinewidth\":0,\"ticks\":\"\"}},\"type\":\"scatterternary\"}],\"surface\":[{\"colorbar\":{\"outlinewidth\":0,\"ticks\":\"\"},\"colorscale\":[[0.0,\"#0d0887\"],[0.1111111111111111,\"#46039f\"],[0.2222222222222222,\"#7201a8\"],[0.3333333333333333,\"#9c179e\"],[0.4444444444444444,\"#bd3786\"],[0.5555555555555556,\"#d8576b\"],[0.6666666666666666,\"#ed7953\"],[0.7777777777777778,\"#fb9f3a\"],[0.8888888888888888,\"#fdca26\"],[1.0,\"#f0f921\"]],\"type\":\"surface\"}],\"table\":[{\"cells\":{\"fill\":{\"color\":\"#EBF0F8\"},\"line\":{\"color\":\"white\"}},\"header\":{\"fill\":{\"color\":\"#C8D4E3\"},\"line\":{\"color\":\"white\"}},\"type\":\"table\"}]},\"layout\":{\"annotationdefaults\":{\"arrowcolor\":\"#2a3f5f\",\"arrowhead\":0,\"arrowwidth\":1},\"autotypenumbers\":\"strict\",\"coloraxis\":{\"colorbar\":{\"outlinewidth\":0,\"ticks\":\"\"}},\"colorscale\":{\"diverging\":[[0,\"#8e0152\"],[0.1,\"#c51b7d\"],[0.2,\"#de77ae\"],[0.3,\"#f1b6da\"],[0.4,\"#fde0ef\"],[0.5,\"#f7f7f7\"],[0.6,\"#e6f5d0\"],[0.7,\"#b8e186\"],[0.8,\"#7fbc41\"],[0.9,\"#4d9221\"],[1,\"#276419\"]],\"sequential\":[[0.0,\"#0d0887\"],[0.1111111111111111,\"#46039f\"],[0.2222222222222222,\"#7201a8\"],[0.3333333333333333,\"#9c179e\"],[0.4444444444444444,\"#bd3786\"],[0.5555555555555556,\"#d8576b\"],[0.6666666666666666,\"#ed7953\"],[0.7777777777777778,\"#fb9f3a\"],[0.8888888888888888,\"#fdca26\"],[1.0,\"#f0f921\"]],\"sequentialminus\":[[0.0,\"#0d0887\"],[0.1111111111111111,\"#46039f\"],[0.2222222222222222,\"#7201a8\"],[0.3333333333333333,\"#9c179e\"],[0.4444444444444444,\"#bd3786\"],[0.5555555555555556,\"#d8576b\"],[0.6666666666666666,\"#ed7953\"],[0.7777777777777778,\"#fb9f3a\"],[0.8888888888888888,\"#fdca26\"],[1.0,\"#f0f921\"]]},\"colorway\":[\"#636efa\",\"#EF553B\",\"#00cc96\",\"#ab63fa\",\"#FFA15A\",\"#19d3f3\",\"#FF6692\",\"#B6E880\",\"#FF97FF\",\"#FECB52\"],\"font\":{\"color\":\"#2a3f5f\"},\"geo\":{\"bgcolor\":\"white\",\"lakecolor\":\"white\",\"landcolor\":\"#E5ECF6\",\"showlakes\":true,\"showland\":true,\"subunitcolor\":\"white\"},\"hoverlabel\":{\"align\":\"left\"},\"hovermode\":\"closest\",\"mapbox\":{\"style\":\"light\"},\"paper_bgcolor\":\"white\",\"plot_bgcolor\":\"#E5ECF6\",\"polar\":{\"angularaxis\":{\"gridcolor\":\"white\",\"linecolor\":\"white\",\"ticks\":\"\"},\"bgcolor\":\"#E5ECF6\",\"radialaxis\":{\"gridcolor\":\"white\",\"linecolor\":\"white\",\"ticks\":\"\"}},\"scene\":{\"xaxis\":{\"backgroundcolor\":\"#E5ECF6\",\"gridcolor\":\"white\",\"gridwidth\":2,\"linecolor\":\"white\",\"showbackground\":true,\"ticks\":\"\",\"zerolinecolor\":\"white\"},\"yaxis\":{\"backgroundcolor\":\"#E5ECF6\",\"gridcolor\":\"white\",\"gridwidth\":2,\"linecolor\":\"white\",\"showbackground\":true,\"ticks\":\"\",\"zerolinecolor\":\"white\"},\"zaxis\":{\"backgroundcolor\":\"#E5ECF6\",\"gridcolor\":\"white\",\"gridwidth\":2,\"linecolor\":\"white\",\"showbackground\":true,\"ticks\":\"\",\"zerolinecolor\":\"white\"}},\"shapedefaults\":{\"line\":{\"color\":\"#2a3f5f\"}},\"ternary\":{\"aaxis\":{\"gridcolor\":\"white\",\"linecolor\":\"white\",\"ticks\":\"\"},\"baxis\":{\"gridcolor\":\"white\",\"linecolor\":\"white\",\"ticks\":\"\"},\"bgcolor\":\"#E5ECF6\",\"caxis\":{\"gridcolor\":\"white\",\"linecolor\":\"white\",\"ticks\":\"\"}},\"title\":{\"x\":0.05},\"xaxis\":{\"automargin\":true,\"gridcolor\":\"white\",\"linecolor\":\"white\",\"ticks\":\"\",\"title\":{\"standoff\":15},\"zerolinecolor\":\"white\",\"zerolinewidth\":2},\"yaxis\":{\"automargin\":true,\"gridcolor\":\"white\",\"linecolor\":\"white\",\"ticks\":\"\",\"title\":{\"standoff\":15},\"zerolinecolor\":\"white\",\"zerolinewidth\":2}}},\"xaxis\":{\"title\":{\"font\":{\"size\":20},\"text\":\"Month\",\"standoff\":25},\"tickangle\":90},\"yaxis\":{\"title\":{\"text\":\"AQI LEVELS\",\"standoff\":25}},\"title\":{\"text\":\"AQI 2018\"}},                        {\"responsive\": true}                    ).then(function(){\n",
       "                            \n",
       "var gd = document.getElementById('ae2d04a2-1334-485a-ad95-466d61d292dd');\n",
       "var x = new MutationObserver(function (mutations, observer) {{\n",
       "        var display = window.getComputedStyle(gd).display;\n",
       "        if (!display || display === 'none') {{\n",
       "            console.log([gd, 'removed!']);\n",
       "            Plotly.purge(gd);\n",
       "            observer.disconnect();\n",
       "        }}\n",
       "}});\n",
       "\n",
       "// Listen for the removal of the full notebook cells\n",
       "var notebookContainer = gd.closest('#notebook-container');\n",
       "if (notebookContainer) {{\n",
       "    x.observe(notebookContainer, {childList: true});\n",
       "}}\n",
       "\n",
       "// Listen for the clearing of the current output cell\n",
       "var outputEl = gd.closest('.output');\n",
       "if (outputEl) {{\n",
       "    x.observe(outputEl, {childList: true});\n",
       "}}\n",
       "\n",
       "                        })                };                });            </script>        </div>"
      ]
     },
     "metadata": {},
     "output_type": "display_data"
    }
   ],
   "source": [
    "#2018\n",
    "fig = go.Figure(go.Scatter(\n",
    "    mode = \"lines+markers\",\n",
    "    y = aqi_level_18.iloc[:,-2],\n",
    "    x = aqi_level_18.iloc[:,-3]))\n",
    "fig.update_xaxes(\n",
    "        tickangle = 90,\n",
    "        title_text = \"Month\",\n",
    "        title_font = {\"size\": 20},\n",
    "        title_standoff = 25)\n",
    "\n",
    "fig.update_yaxes(\n",
    "        title_text = \"AQI LEVELS\",\n",
    "        title_standoff = 25)\n",
    "fig.update_layout(title_text=\"AQI 2018\")\n",
    "\n",
    "fig.show()"
   ]
  },
  {
   "cell_type": "code",
   "execution_count": 20,
   "id": "bb975ca8",
   "metadata": {},
   "outputs": [
    {
     "data": {
      "application/vnd.plotly.v1+json": {
       "config": {
        "plotlyServerURL": "https://plot.ly"
       },
       "data": [
        {
         "mode": "lines+markers",
         "type": "scatter",
         "x": [
          "2019-01-01",
          "2019-01-02",
          "2019-01-03",
          "2019-01-04",
          "2019-01-05",
          "2019-01-06",
          "2019-01-07",
          "2019-01-08",
          "2019-01-09",
          "2019-01-10",
          "2019-01-11",
          "2019-01-12",
          "2019-01-13",
          "2019-01-14",
          "2019-01-15",
          "2019-01-16",
          "2019-01-17",
          "2019-01-18",
          "2019-01-19",
          "2019-01-20",
          "2019-01-21",
          "2019-01-22",
          "2019-01-23",
          "2019-01-24",
          "2019-01-25",
          "2019-01-26",
          "2019-01-27",
          "2019-01-28",
          "2019-01-29",
          "2019-01-30",
          "2019-01-31",
          "2019-02-01",
          "2019-02-02",
          "2019-02-03",
          "2019-02-04",
          "2019-02-05",
          "2019-02-06",
          "2019-02-07",
          "2019-02-08",
          "2019-02-09",
          "2019-02-10",
          "2019-02-11",
          "2019-02-12",
          "2019-02-13",
          "2019-02-14",
          "2019-02-15",
          "2019-02-16",
          "2019-02-17",
          "2019-02-18",
          "2019-02-19",
          "2019-02-20",
          "2019-02-21",
          "2019-02-22",
          "2019-02-23",
          "2019-02-24",
          "2019-02-25",
          "2019-02-26",
          "2019-02-27",
          "2019-02-28",
          "2019-03-01",
          "2019-03-02",
          "2019-03-03",
          "2019-03-04",
          "2019-03-05",
          "2019-03-06",
          "2019-03-07",
          "2019-03-08",
          "2019-03-09",
          "2019-03-10",
          "2019-03-11",
          "2019-03-12",
          "2019-03-13",
          "2019-03-14",
          "2019-03-15",
          "2019-03-16",
          "2019-03-17",
          "2019-03-18",
          "2019-03-19",
          "2019-03-20",
          "2019-03-21",
          "2019-03-22",
          "2019-03-23",
          "2019-03-24",
          "2019-03-25",
          "2019-03-26",
          "2019-03-27",
          "2019-03-28",
          "2019-03-29",
          "2019-03-30",
          "2019-03-31",
          "2019-04-01",
          "2019-04-02",
          "2019-04-03",
          "2019-04-04",
          "2019-04-05",
          "2019-04-06",
          "2019-04-07",
          "2019-04-08",
          "2019-04-09",
          "2019-04-10",
          "2019-04-11",
          "2019-04-12",
          "2019-04-13",
          "2019-04-14",
          "2019-04-15",
          "2019-04-16",
          "2019-04-17",
          "2019-04-18",
          "2019-04-19",
          "2019-04-20",
          "2019-04-21",
          "2019-04-22",
          "2019-04-23",
          "2019-04-24",
          "2019-04-25",
          "2019-04-26",
          "2019-04-27",
          "2019-04-28",
          "2019-04-29",
          "2019-04-30",
          "2019-05-01",
          "2019-05-02",
          "2019-05-03",
          "2019-05-04",
          "2019-05-05",
          "2019-05-06",
          "2019-05-07",
          "2019-05-08",
          "2019-05-09",
          "2019-05-10",
          "2019-05-11",
          "2019-05-12",
          "2019-05-13",
          "2019-05-14",
          "2019-05-15",
          "2019-05-16",
          "2019-05-17",
          "2019-05-18",
          "2019-05-19",
          "2019-05-20",
          "2019-05-21",
          "2019-05-22",
          "2019-05-23",
          "2019-05-24",
          "2019-05-25",
          "2019-05-26",
          "2019-05-27",
          "2019-05-28",
          "2019-05-29",
          "2019-05-30",
          "2019-05-31",
          "2019-06-01",
          "2019-06-02",
          "2019-06-03",
          "2019-06-04",
          "2019-06-05",
          "2019-06-06",
          "2019-06-07",
          "2019-06-08",
          "2019-06-09",
          "2019-06-10",
          "2019-06-11",
          "2019-06-12",
          "2019-06-13",
          "2019-06-14",
          "2019-06-15",
          "2019-06-16",
          "2019-06-17",
          "2019-06-18",
          "2019-06-19",
          "2019-06-20",
          "2019-06-21",
          "2019-06-22",
          "2019-06-23",
          "2019-06-24",
          "2019-06-25",
          "2019-06-26",
          "2019-06-27",
          "2019-06-28",
          "2019-06-29",
          "2019-06-30",
          "2019-07-01",
          "2019-07-02",
          "2019-07-03",
          "2019-07-04",
          "2019-07-05",
          "2019-07-06",
          "2019-07-07",
          "2019-07-08",
          "2019-07-09",
          "2019-07-10",
          "2019-07-11",
          "2019-07-12",
          "2019-07-13",
          "2019-07-14",
          "2019-07-15",
          "2019-07-16",
          "2019-07-17",
          "2019-07-18",
          "2019-07-19",
          "2019-07-20",
          "2019-07-21",
          "2019-07-22",
          "2019-07-23",
          "2019-07-24",
          "2019-07-25",
          "2019-07-26",
          "2019-07-27",
          "2019-07-28",
          "2019-07-29",
          "2019-07-30",
          "2019-07-31",
          "2019-08-01",
          "2019-08-02",
          "2019-08-03",
          "2019-08-04",
          "2019-08-05",
          "2019-08-06",
          "2019-08-07",
          "2019-08-08",
          "2019-08-09",
          "2019-08-10",
          "2019-08-11",
          "2019-08-12",
          "2019-08-13",
          "2019-08-14",
          "2019-08-15",
          "2019-08-16",
          "2019-08-17",
          "2019-08-18",
          "2019-08-19",
          "2019-08-20",
          "2019-08-21",
          "2019-08-22",
          "2019-08-23",
          "2019-08-24",
          "2019-08-25",
          "2019-08-26",
          "2019-08-27",
          "2019-08-28",
          "2019-08-29",
          "2019-08-30",
          "2019-08-31",
          "2019-09-01",
          "2019-09-02",
          "2019-09-03",
          "2019-09-04",
          "2019-09-05",
          "2019-09-06",
          "2019-09-07",
          "2019-09-08",
          "2019-09-09",
          "2019-09-10",
          "2019-09-11",
          "2019-09-12",
          "2019-09-13",
          "2019-09-14",
          "2019-09-15",
          "2019-09-16",
          "2019-09-17",
          "2019-09-18",
          "2019-09-19",
          "2019-09-20",
          "2019-09-21",
          "2019-09-22",
          "2019-09-23",
          "2019-09-24",
          "2019-09-25",
          "2019-09-26",
          "2019-09-27",
          "2019-09-28",
          "2019-09-29",
          "2019-09-30",
          "2019-10-01",
          "2019-10-02",
          "2019-10-03",
          "2019-10-04",
          "2019-10-05",
          "2019-10-06",
          "2019-10-07",
          "2019-10-08",
          "2019-10-09",
          "2019-10-10",
          "2019-10-11",
          "2019-10-12",
          "2019-10-13",
          "2019-10-14",
          "2019-10-15",
          "2019-10-16",
          "2019-10-17",
          "2019-10-18",
          "2019-10-19",
          "2019-10-20",
          "2019-10-21",
          "2019-10-22",
          "2019-10-23",
          "2019-10-24",
          "2019-10-25",
          "2019-10-26",
          "2019-10-27",
          "2019-10-28",
          "2019-10-29",
          "2019-10-30",
          "2019-10-31",
          "2019-11-01",
          "2019-11-02",
          "2019-11-03",
          "2019-11-04",
          "2019-11-05",
          "2019-11-06",
          "2019-11-07",
          "2019-11-08",
          "2019-11-09",
          "2019-11-10",
          "2019-11-11",
          "2019-11-12",
          "2019-11-13",
          "2019-11-14",
          "2019-11-15",
          "2019-11-16",
          "2019-11-17",
          "2019-11-18",
          "2019-11-19",
          "2019-11-20",
          "2019-11-21",
          "2019-11-22",
          "2019-11-23",
          "2019-11-24",
          "2019-11-25",
          "2019-11-26",
          "2019-11-27",
          "2019-11-28",
          "2019-11-29",
          "2019-11-30",
          "2019-12-01",
          "2019-12-02",
          "2019-12-03",
          "2019-12-04",
          "2019-12-05",
          "2019-12-06",
          "2019-12-07",
          "2019-12-08",
          "2019-12-09",
          "2019-12-10",
          "2019-12-11",
          "2019-12-12",
          "2019-12-13",
          "2019-12-14",
          "2019-12-15",
          "2019-12-16",
          "2019-12-17",
          "2019-12-18",
          "2019-12-19",
          "2019-12-20",
          "2019-12-21",
          "2019-12-22",
          "2019-12-23",
          "2019-12-24",
          "2019-12-25",
          "2019-12-26",
          "2019-12-27",
          "2019-12-28",
          "2019-12-29",
          "2019-12-30",
          "2019-12-31"
         ],
         "y": [
          475,
          501,
          537,
          432,
          440,
          371,
          331,
          340,
          321,
          317,
          401,
          482,
          464,
          320,
          248,
          383,
          515,
          437,
          411,
          480,
          413,
          174,
          186,
          328,
          188,
          231,
          275,
          301,
          297,
          342,
          397,
          329,
          338,
          323,
          301,
          398,
          380,
          233,
          136,
          169,
          277,
          332,
          357,
          372,
          350,
          275,
          288,
          247,
          278,
          232,
          305,
          158,
          191,
          116,
          169,
          221,
          144,
          112,
          198,
          222,
          227,
          172,
          217,
          173,
          189,
          228,
          220,
          194,
          157,
          190,
          149,
          168,
          281,
          183,
          143,
          198,
          221,
          239,
          234,
          272,
          141,
          131,
          126,
          136,
          162,
          177,
          245,
          273,
          252,
          198,
          153,
          194,
          208,
          260,
          284,
          269,
          315,
          284,
          240,
          263,
          196,
          202,
          175,
          150,
          163,
          206,
          102,
          104,
          151,
          199,
          225,
          246,
          257,
          232,
          251,
          223,
          248,
          269,
          256,
          257,
          285,
          275,
          202,
          182,
          231,
          267,
          310,
          389,
          390,
          333,
          266,
          352,
          376,
          217,
          194,
          192,
          257,
          176,
          168,
          216,
          206,
          167,
          228,
          151,
          125,
          135,
          163,
          175,
          191,
          226,
          266,
          300,
          222,
          232,
          212,
          190,
          209,
          192,
          184,
          237,
          230,
          315,
          280,
          189,
          167,
          217,
          205,
          126,
          119,
          173,
          175,
          178,
          185,
          153,
          118,
          131,
          161,
          169,
          207,
          223,
          234,
          195,
          202,
          162,
          111,
          113,
          99,
          101,
          129,
          131,
          150,
          300,
          294,
          312,
          243,
          180,
          117,
          92,
          98,
          142,
          137,
          123,
          124,
          156,
          165,
          98,
          94,
          85,
          83,
          82,
          90,
          90,
          98,
          95,
          104,
          101,
          108,
          99,
          104,
          99,
          89,
          75,
          83,
          80,
          85,
          93,
          93,
          73,
          67,
          66,
          99,
          103,
          107,
          125,
          130,
          149,
          107,
          77,
          114,
          119,
          103,
          110,
          123,
          123,
          105,
          131,
          165,
          118,
          96,
          95,
          99,
          107,
          139,
          166,
          158,
          103,
          85,
          83,
          111,
          143,
          117,
          80,
          96,
          112,
          86,
          89,
          103,
          100,
          87,
          78,
          78,
          68,
          75,
          98,
          105,
          140,
          113,
          108,
          127,
          133,
          123,
          165,
          208,
          243,
          235,
          282,
          285,
          291,
          320,
          300,
          265,
          170,
          242,
          254,
          243,
          248,
          335,
          331,
          315,
          354,
          417,
          419,
          452,
          460,
          591,
          473,
          659,
          532,
          385,
          265,
          296,
          346,
          321,
          339,
          376,
          475,
          532,
          537,
          595,
          438,
          273,
          245,
          251,
          315,
          375,
          377,
          334,
          264,
          269,
          284,
          166,
          106,
          89,
          175,
          257,
          299,
          302,
          313,
          389,
          423,
          382,
          404,
          371,
          377,
          430,
          471,
          322,
          179,
          205,
          202,
          178,
          273,
          354,
          452,
          441,
          351,
          321,
          376,
          384,
          340,
          372,
          425,
          455,
          506,
          417
         ]
        }
       ],
       "layout": {
        "template": {
         "data": {
          "bar": [
           {
            "error_x": {
             "color": "#2a3f5f"
            },
            "error_y": {
             "color": "#2a3f5f"
            },
            "marker": {
             "line": {
              "color": "#E5ECF6",
              "width": 0.5
             },
             "pattern": {
              "fillmode": "overlay",
              "size": 10,
              "solidity": 0.2
             }
            },
            "type": "bar"
           }
          ],
          "barpolar": [
           {
            "marker": {
             "line": {
              "color": "#E5ECF6",
              "width": 0.5
             },
             "pattern": {
              "fillmode": "overlay",
              "size": 10,
              "solidity": 0.2
             }
            },
            "type": "barpolar"
           }
          ],
          "carpet": [
           {
            "aaxis": {
             "endlinecolor": "#2a3f5f",
             "gridcolor": "white",
             "linecolor": "white",
             "minorgridcolor": "white",
             "startlinecolor": "#2a3f5f"
            },
            "baxis": {
             "endlinecolor": "#2a3f5f",
             "gridcolor": "white",
             "linecolor": "white",
             "minorgridcolor": "white",
             "startlinecolor": "#2a3f5f"
            },
            "type": "carpet"
           }
          ],
          "choropleth": [
           {
            "colorbar": {
             "outlinewidth": 0,
             "ticks": ""
            },
            "type": "choropleth"
           }
          ],
          "contour": [
           {
            "colorbar": {
             "outlinewidth": 0,
             "ticks": ""
            },
            "colorscale": [
             [
              0,
              "#0d0887"
             ],
             [
              0.1111111111111111,
              "#46039f"
             ],
             [
              0.2222222222222222,
              "#7201a8"
             ],
             [
              0.3333333333333333,
              "#9c179e"
             ],
             [
              0.4444444444444444,
              "#bd3786"
             ],
             [
              0.5555555555555556,
              "#d8576b"
             ],
             [
              0.6666666666666666,
              "#ed7953"
             ],
             [
              0.7777777777777778,
              "#fb9f3a"
             ],
             [
              0.8888888888888888,
              "#fdca26"
             ],
             [
              1,
              "#f0f921"
             ]
            ],
            "type": "contour"
           }
          ],
          "contourcarpet": [
           {
            "colorbar": {
             "outlinewidth": 0,
             "ticks": ""
            },
            "type": "contourcarpet"
           }
          ],
          "heatmap": [
           {
            "colorbar": {
             "outlinewidth": 0,
             "ticks": ""
            },
            "colorscale": [
             [
              0,
              "#0d0887"
             ],
             [
              0.1111111111111111,
              "#46039f"
             ],
             [
              0.2222222222222222,
              "#7201a8"
             ],
             [
              0.3333333333333333,
              "#9c179e"
             ],
             [
              0.4444444444444444,
              "#bd3786"
             ],
             [
              0.5555555555555556,
              "#d8576b"
             ],
             [
              0.6666666666666666,
              "#ed7953"
             ],
             [
              0.7777777777777778,
              "#fb9f3a"
             ],
             [
              0.8888888888888888,
              "#fdca26"
             ],
             [
              1,
              "#f0f921"
             ]
            ],
            "type": "heatmap"
           }
          ],
          "heatmapgl": [
           {
            "colorbar": {
             "outlinewidth": 0,
             "ticks": ""
            },
            "colorscale": [
             [
              0,
              "#0d0887"
             ],
             [
              0.1111111111111111,
              "#46039f"
             ],
             [
              0.2222222222222222,
              "#7201a8"
             ],
             [
              0.3333333333333333,
              "#9c179e"
             ],
             [
              0.4444444444444444,
              "#bd3786"
             ],
             [
              0.5555555555555556,
              "#d8576b"
             ],
             [
              0.6666666666666666,
              "#ed7953"
             ],
             [
              0.7777777777777778,
              "#fb9f3a"
             ],
             [
              0.8888888888888888,
              "#fdca26"
             ],
             [
              1,
              "#f0f921"
             ]
            ],
            "type": "heatmapgl"
           }
          ],
          "histogram": [
           {
            "marker": {
             "pattern": {
              "fillmode": "overlay",
              "size": 10,
              "solidity": 0.2
             }
            },
            "type": "histogram"
           }
          ],
          "histogram2d": [
           {
            "colorbar": {
             "outlinewidth": 0,
             "ticks": ""
            },
            "colorscale": [
             [
              0,
              "#0d0887"
             ],
             [
              0.1111111111111111,
              "#46039f"
             ],
             [
              0.2222222222222222,
              "#7201a8"
             ],
             [
              0.3333333333333333,
              "#9c179e"
             ],
             [
              0.4444444444444444,
              "#bd3786"
             ],
             [
              0.5555555555555556,
              "#d8576b"
             ],
             [
              0.6666666666666666,
              "#ed7953"
             ],
             [
              0.7777777777777778,
              "#fb9f3a"
             ],
             [
              0.8888888888888888,
              "#fdca26"
             ],
             [
              1,
              "#f0f921"
             ]
            ],
            "type": "histogram2d"
           }
          ],
          "histogram2dcontour": [
           {
            "colorbar": {
             "outlinewidth": 0,
             "ticks": ""
            },
            "colorscale": [
             [
              0,
              "#0d0887"
             ],
             [
              0.1111111111111111,
              "#46039f"
             ],
             [
              0.2222222222222222,
              "#7201a8"
             ],
             [
              0.3333333333333333,
              "#9c179e"
             ],
             [
              0.4444444444444444,
              "#bd3786"
             ],
             [
              0.5555555555555556,
              "#d8576b"
             ],
             [
              0.6666666666666666,
              "#ed7953"
             ],
             [
              0.7777777777777778,
              "#fb9f3a"
             ],
             [
              0.8888888888888888,
              "#fdca26"
             ],
             [
              1,
              "#f0f921"
             ]
            ],
            "type": "histogram2dcontour"
           }
          ],
          "mesh3d": [
           {
            "colorbar": {
             "outlinewidth": 0,
             "ticks": ""
            },
            "type": "mesh3d"
           }
          ],
          "parcoords": [
           {
            "line": {
             "colorbar": {
              "outlinewidth": 0,
              "ticks": ""
             }
            },
            "type": "parcoords"
           }
          ],
          "pie": [
           {
            "automargin": true,
            "type": "pie"
           }
          ],
          "scatter": [
           {
            "marker": {
             "colorbar": {
              "outlinewidth": 0,
              "ticks": ""
             }
            },
            "type": "scatter"
           }
          ],
          "scatter3d": [
           {
            "line": {
             "colorbar": {
              "outlinewidth": 0,
              "ticks": ""
             }
            },
            "marker": {
             "colorbar": {
              "outlinewidth": 0,
              "ticks": ""
             }
            },
            "type": "scatter3d"
           }
          ],
          "scattercarpet": [
           {
            "marker": {
             "colorbar": {
              "outlinewidth": 0,
              "ticks": ""
             }
            },
            "type": "scattercarpet"
           }
          ],
          "scattergeo": [
           {
            "marker": {
             "colorbar": {
              "outlinewidth": 0,
              "ticks": ""
             }
            },
            "type": "scattergeo"
           }
          ],
          "scattergl": [
           {
            "marker": {
             "colorbar": {
              "outlinewidth": 0,
              "ticks": ""
             }
            },
            "type": "scattergl"
           }
          ],
          "scattermapbox": [
           {
            "marker": {
             "colorbar": {
              "outlinewidth": 0,
              "ticks": ""
             }
            },
            "type": "scattermapbox"
           }
          ],
          "scatterpolar": [
           {
            "marker": {
             "colorbar": {
              "outlinewidth": 0,
              "ticks": ""
             }
            },
            "type": "scatterpolar"
           }
          ],
          "scatterpolargl": [
           {
            "marker": {
             "colorbar": {
              "outlinewidth": 0,
              "ticks": ""
             }
            },
            "type": "scatterpolargl"
           }
          ],
          "scatterternary": [
           {
            "marker": {
             "colorbar": {
              "outlinewidth": 0,
              "ticks": ""
             }
            },
            "type": "scatterternary"
           }
          ],
          "surface": [
           {
            "colorbar": {
             "outlinewidth": 0,
             "ticks": ""
            },
            "colorscale": [
             [
              0,
              "#0d0887"
             ],
             [
              0.1111111111111111,
              "#46039f"
             ],
             [
              0.2222222222222222,
              "#7201a8"
             ],
             [
              0.3333333333333333,
              "#9c179e"
             ],
             [
              0.4444444444444444,
              "#bd3786"
             ],
             [
              0.5555555555555556,
              "#d8576b"
             ],
             [
              0.6666666666666666,
              "#ed7953"
             ],
             [
              0.7777777777777778,
              "#fb9f3a"
             ],
             [
              0.8888888888888888,
              "#fdca26"
             ],
             [
              1,
              "#f0f921"
             ]
            ],
            "type": "surface"
           }
          ],
          "table": [
           {
            "cells": {
             "fill": {
              "color": "#EBF0F8"
             },
             "line": {
              "color": "white"
             }
            },
            "header": {
             "fill": {
              "color": "#C8D4E3"
             },
             "line": {
              "color": "white"
             }
            },
            "type": "table"
           }
          ]
         },
         "layout": {
          "annotationdefaults": {
           "arrowcolor": "#2a3f5f",
           "arrowhead": 0,
           "arrowwidth": 1
          },
          "autotypenumbers": "strict",
          "coloraxis": {
           "colorbar": {
            "outlinewidth": 0,
            "ticks": ""
           }
          },
          "colorscale": {
           "diverging": [
            [
             0,
             "#8e0152"
            ],
            [
             0.1,
             "#c51b7d"
            ],
            [
             0.2,
             "#de77ae"
            ],
            [
             0.3,
             "#f1b6da"
            ],
            [
             0.4,
             "#fde0ef"
            ],
            [
             0.5,
             "#f7f7f7"
            ],
            [
             0.6,
             "#e6f5d0"
            ],
            [
             0.7,
             "#b8e186"
            ],
            [
             0.8,
             "#7fbc41"
            ],
            [
             0.9,
             "#4d9221"
            ],
            [
             1,
             "#276419"
            ]
           ],
           "sequential": [
            [
             0,
             "#0d0887"
            ],
            [
             0.1111111111111111,
             "#46039f"
            ],
            [
             0.2222222222222222,
             "#7201a8"
            ],
            [
             0.3333333333333333,
             "#9c179e"
            ],
            [
             0.4444444444444444,
             "#bd3786"
            ],
            [
             0.5555555555555556,
             "#d8576b"
            ],
            [
             0.6666666666666666,
             "#ed7953"
            ],
            [
             0.7777777777777778,
             "#fb9f3a"
            ],
            [
             0.8888888888888888,
             "#fdca26"
            ],
            [
             1,
             "#f0f921"
            ]
           ],
           "sequentialminus": [
            [
             0,
             "#0d0887"
            ],
            [
             0.1111111111111111,
             "#46039f"
            ],
            [
             0.2222222222222222,
             "#7201a8"
            ],
            [
             0.3333333333333333,
             "#9c179e"
            ],
            [
             0.4444444444444444,
             "#bd3786"
            ],
            [
             0.5555555555555556,
             "#d8576b"
            ],
            [
             0.6666666666666666,
             "#ed7953"
            ],
            [
             0.7777777777777778,
             "#fb9f3a"
            ],
            [
             0.8888888888888888,
             "#fdca26"
            ],
            [
             1,
             "#f0f921"
            ]
           ]
          },
          "colorway": [
           "#636efa",
           "#EF553B",
           "#00cc96",
           "#ab63fa",
           "#FFA15A",
           "#19d3f3",
           "#FF6692",
           "#B6E880",
           "#FF97FF",
           "#FECB52"
          ],
          "font": {
           "color": "#2a3f5f"
          },
          "geo": {
           "bgcolor": "white",
           "lakecolor": "white",
           "landcolor": "#E5ECF6",
           "showlakes": true,
           "showland": true,
           "subunitcolor": "white"
          },
          "hoverlabel": {
           "align": "left"
          },
          "hovermode": "closest",
          "mapbox": {
           "style": "light"
          },
          "paper_bgcolor": "white",
          "plot_bgcolor": "#E5ECF6",
          "polar": {
           "angularaxis": {
            "gridcolor": "white",
            "linecolor": "white",
            "ticks": ""
           },
           "bgcolor": "#E5ECF6",
           "radialaxis": {
            "gridcolor": "white",
            "linecolor": "white",
            "ticks": ""
           }
          },
          "scene": {
           "xaxis": {
            "backgroundcolor": "#E5ECF6",
            "gridcolor": "white",
            "gridwidth": 2,
            "linecolor": "white",
            "showbackground": true,
            "ticks": "",
            "zerolinecolor": "white"
           },
           "yaxis": {
            "backgroundcolor": "#E5ECF6",
            "gridcolor": "white",
            "gridwidth": 2,
            "linecolor": "white",
            "showbackground": true,
            "ticks": "",
            "zerolinecolor": "white"
           },
           "zaxis": {
            "backgroundcolor": "#E5ECF6",
            "gridcolor": "white",
            "gridwidth": 2,
            "linecolor": "white",
            "showbackground": true,
            "ticks": "",
            "zerolinecolor": "white"
           }
          },
          "shapedefaults": {
           "line": {
            "color": "#2a3f5f"
           }
          },
          "ternary": {
           "aaxis": {
            "gridcolor": "white",
            "linecolor": "white",
            "ticks": ""
           },
           "baxis": {
            "gridcolor": "white",
            "linecolor": "white",
            "ticks": ""
           },
           "bgcolor": "#E5ECF6",
           "caxis": {
            "gridcolor": "white",
            "linecolor": "white",
            "ticks": ""
           }
          },
          "title": {
           "x": 0.05
          },
          "xaxis": {
           "automargin": true,
           "gridcolor": "white",
           "linecolor": "white",
           "ticks": "",
           "title": {
            "standoff": 15
           },
           "zerolinecolor": "white",
           "zerolinewidth": 2
          },
          "yaxis": {
           "automargin": true,
           "gridcolor": "white",
           "linecolor": "white",
           "ticks": "",
           "title": {
            "standoff": 15
           },
           "zerolinecolor": "white",
           "zerolinewidth": 2
          }
         }
        },
        "title": {
         "text": "AQI 2019"
        },
        "xaxis": {
         "tickangle": 90,
         "title": {
          "font": {
           "size": 20
          },
          "standoff": 25,
          "text": "Month"
         }
        },
        "yaxis": {
         "title": {
          "standoff": 25,
          "text": "AQI LEVELS"
         }
        }
       }
      },
      "text/html": [
       "<div>                            <div id=\"3ff57216-ee53-4ed6-bd91-c4c5923c914f\" class=\"plotly-graph-div\" style=\"height:525px; width:100%;\"></div>            <script type=\"text/javascript\">                require([\"plotly\"], function(Plotly) {                    window.PLOTLYENV=window.PLOTLYENV || {};                                    if (document.getElementById(\"3ff57216-ee53-4ed6-bd91-c4c5923c914f\")) {                    Plotly.newPlot(                        \"3ff57216-ee53-4ed6-bd91-c4c5923c914f\",                        [{\"mode\":\"lines+markers\",\"x\":[\"2019-01-01\",\"2019-01-02\",\"2019-01-03\",\"2019-01-04\",\"2019-01-05\",\"2019-01-06\",\"2019-01-07\",\"2019-01-08\",\"2019-01-09\",\"2019-01-10\",\"2019-01-11\",\"2019-01-12\",\"2019-01-13\",\"2019-01-14\",\"2019-01-15\",\"2019-01-16\",\"2019-01-17\",\"2019-01-18\",\"2019-01-19\",\"2019-01-20\",\"2019-01-21\",\"2019-01-22\",\"2019-01-23\",\"2019-01-24\",\"2019-01-25\",\"2019-01-26\",\"2019-01-27\",\"2019-01-28\",\"2019-01-29\",\"2019-01-30\",\"2019-01-31\",\"2019-02-01\",\"2019-02-02\",\"2019-02-03\",\"2019-02-04\",\"2019-02-05\",\"2019-02-06\",\"2019-02-07\",\"2019-02-08\",\"2019-02-09\",\"2019-02-10\",\"2019-02-11\",\"2019-02-12\",\"2019-02-13\",\"2019-02-14\",\"2019-02-15\",\"2019-02-16\",\"2019-02-17\",\"2019-02-18\",\"2019-02-19\",\"2019-02-20\",\"2019-02-21\",\"2019-02-22\",\"2019-02-23\",\"2019-02-24\",\"2019-02-25\",\"2019-02-26\",\"2019-02-27\",\"2019-02-28\",\"2019-03-01\",\"2019-03-02\",\"2019-03-03\",\"2019-03-04\",\"2019-03-05\",\"2019-03-06\",\"2019-03-07\",\"2019-03-08\",\"2019-03-09\",\"2019-03-10\",\"2019-03-11\",\"2019-03-12\",\"2019-03-13\",\"2019-03-14\",\"2019-03-15\",\"2019-03-16\",\"2019-03-17\",\"2019-03-18\",\"2019-03-19\",\"2019-03-20\",\"2019-03-21\",\"2019-03-22\",\"2019-03-23\",\"2019-03-24\",\"2019-03-25\",\"2019-03-26\",\"2019-03-27\",\"2019-03-28\",\"2019-03-29\",\"2019-03-30\",\"2019-03-31\",\"2019-04-01\",\"2019-04-02\",\"2019-04-03\",\"2019-04-04\",\"2019-04-05\",\"2019-04-06\",\"2019-04-07\",\"2019-04-08\",\"2019-04-09\",\"2019-04-10\",\"2019-04-11\",\"2019-04-12\",\"2019-04-13\",\"2019-04-14\",\"2019-04-15\",\"2019-04-16\",\"2019-04-17\",\"2019-04-18\",\"2019-04-19\",\"2019-04-20\",\"2019-04-21\",\"2019-04-22\",\"2019-04-23\",\"2019-04-24\",\"2019-04-25\",\"2019-04-26\",\"2019-04-27\",\"2019-04-28\",\"2019-04-29\",\"2019-04-30\",\"2019-05-01\",\"2019-05-02\",\"2019-05-03\",\"2019-05-04\",\"2019-05-05\",\"2019-05-06\",\"2019-05-07\",\"2019-05-08\",\"2019-05-09\",\"2019-05-10\",\"2019-05-11\",\"2019-05-12\",\"2019-05-13\",\"2019-05-14\",\"2019-05-15\",\"2019-05-16\",\"2019-05-17\",\"2019-05-18\",\"2019-05-19\",\"2019-05-20\",\"2019-05-21\",\"2019-05-22\",\"2019-05-23\",\"2019-05-24\",\"2019-05-25\",\"2019-05-26\",\"2019-05-27\",\"2019-05-28\",\"2019-05-29\",\"2019-05-30\",\"2019-05-31\",\"2019-06-01\",\"2019-06-02\",\"2019-06-03\",\"2019-06-04\",\"2019-06-05\",\"2019-06-06\",\"2019-06-07\",\"2019-06-08\",\"2019-06-09\",\"2019-06-10\",\"2019-06-11\",\"2019-06-12\",\"2019-06-13\",\"2019-06-14\",\"2019-06-15\",\"2019-06-16\",\"2019-06-17\",\"2019-06-18\",\"2019-06-19\",\"2019-06-20\",\"2019-06-21\",\"2019-06-22\",\"2019-06-23\",\"2019-06-24\",\"2019-06-25\",\"2019-06-26\",\"2019-06-27\",\"2019-06-28\",\"2019-06-29\",\"2019-06-30\",\"2019-07-01\",\"2019-07-02\",\"2019-07-03\",\"2019-07-04\",\"2019-07-05\",\"2019-07-06\",\"2019-07-07\",\"2019-07-08\",\"2019-07-09\",\"2019-07-10\",\"2019-07-11\",\"2019-07-12\",\"2019-07-13\",\"2019-07-14\",\"2019-07-15\",\"2019-07-16\",\"2019-07-17\",\"2019-07-18\",\"2019-07-19\",\"2019-07-20\",\"2019-07-21\",\"2019-07-22\",\"2019-07-23\",\"2019-07-24\",\"2019-07-25\",\"2019-07-26\",\"2019-07-27\",\"2019-07-28\",\"2019-07-29\",\"2019-07-30\",\"2019-07-31\",\"2019-08-01\",\"2019-08-02\",\"2019-08-03\",\"2019-08-04\",\"2019-08-05\",\"2019-08-06\",\"2019-08-07\",\"2019-08-08\",\"2019-08-09\",\"2019-08-10\",\"2019-08-11\",\"2019-08-12\",\"2019-08-13\",\"2019-08-14\",\"2019-08-15\",\"2019-08-16\",\"2019-08-17\",\"2019-08-18\",\"2019-08-19\",\"2019-08-20\",\"2019-08-21\",\"2019-08-22\",\"2019-08-23\",\"2019-08-24\",\"2019-08-25\",\"2019-08-26\",\"2019-08-27\",\"2019-08-28\",\"2019-08-29\",\"2019-08-30\",\"2019-08-31\",\"2019-09-01\",\"2019-09-02\",\"2019-09-03\",\"2019-09-04\",\"2019-09-05\",\"2019-09-06\",\"2019-09-07\",\"2019-09-08\",\"2019-09-09\",\"2019-09-10\",\"2019-09-11\",\"2019-09-12\",\"2019-09-13\",\"2019-09-14\",\"2019-09-15\",\"2019-09-16\",\"2019-09-17\",\"2019-09-18\",\"2019-09-19\",\"2019-09-20\",\"2019-09-21\",\"2019-09-22\",\"2019-09-23\",\"2019-09-24\",\"2019-09-25\",\"2019-09-26\",\"2019-09-27\",\"2019-09-28\",\"2019-09-29\",\"2019-09-30\",\"2019-10-01\",\"2019-10-02\",\"2019-10-03\",\"2019-10-04\",\"2019-10-05\",\"2019-10-06\",\"2019-10-07\",\"2019-10-08\",\"2019-10-09\",\"2019-10-10\",\"2019-10-11\",\"2019-10-12\",\"2019-10-13\",\"2019-10-14\",\"2019-10-15\",\"2019-10-16\",\"2019-10-17\",\"2019-10-18\",\"2019-10-19\",\"2019-10-20\",\"2019-10-21\",\"2019-10-22\",\"2019-10-23\",\"2019-10-24\",\"2019-10-25\",\"2019-10-26\",\"2019-10-27\",\"2019-10-28\",\"2019-10-29\",\"2019-10-30\",\"2019-10-31\",\"2019-11-01\",\"2019-11-02\",\"2019-11-03\",\"2019-11-04\",\"2019-11-05\",\"2019-11-06\",\"2019-11-07\",\"2019-11-08\",\"2019-11-09\",\"2019-11-10\",\"2019-11-11\",\"2019-11-12\",\"2019-11-13\",\"2019-11-14\",\"2019-11-15\",\"2019-11-16\",\"2019-11-17\",\"2019-11-18\",\"2019-11-19\",\"2019-11-20\",\"2019-11-21\",\"2019-11-22\",\"2019-11-23\",\"2019-11-24\",\"2019-11-25\",\"2019-11-26\",\"2019-11-27\",\"2019-11-28\",\"2019-11-29\",\"2019-11-30\",\"2019-12-01\",\"2019-12-02\",\"2019-12-03\",\"2019-12-04\",\"2019-12-05\",\"2019-12-06\",\"2019-12-07\",\"2019-12-08\",\"2019-12-09\",\"2019-12-10\",\"2019-12-11\",\"2019-12-12\",\"2019-12-13\",\"2019-12-14\",\"2019-12-15\",\"2019-12-16\",\"2019-12-17\",\"2019-12-18\",\"2019-12-19\",\"2019-12-20\",\"2019-12-21\",\"2019-12-22\",\"2019-12-23\",\"2019-12-24\",\"2019-12-25\",\"2019-12-26\",\"2019-12-27\",\"2019-12-28\",\"2019-12-29\",\"2019-12-30\",\"2019-12-31\"],\"y\":[475.0,501.0,537.0,432.0,440.0,371.0,331.0,340.0,321.0,317.0,401.0,482.0,464.0,320.0,248.0,383.0,515.0,437.0,411.0,480.0,413.0,174.0,186.0,328.0,188.0,231.0,275.0,301.0,297.0,342.0,397.0,329.0,338.0,323.0,301.0,398.0,380.0,233.0,136.0,169.0,277.0,332.0,357.0,372.0,350.0,275.0,288.0,247.0,278.0,232.0,305.0,158.0,191.0,116.0,169.0,221.0,144.0,112.0,198.0,222.0,227.0,172.0,217.0,173.0,189.0,228.0,220.0,194.0,157.0,190.0,149.0,168.0,281.0,183.0,143.0,198.0,221.0,239.0,234.0,272.0,141.0,131.0,126.0,136.0,162.0,177.0,245.0,273.0,252.0,198.0,153.0,194.0,208.0,260.0,284.0,269.0,315.0,284.0,240.0,263.0,196.0,202.0,175.0,150.0,163.0,206.0,102.0,104.0,151.0,199.0,225.0,246.0,257.0,232.0,251.0,223.0,248.0,269.0,256.0,257.0,285.0,275.0,202.0,182.0,231.0,267.0,310.0,389.0,390.0,333.0,266.0,352.0,376.0,217.0,194.0,192.0,257.0,176.0,168.0,216.0,206.0,167.0,228.0,151.0,125.0,135.0,163.0,175.0,191.0,226.0,266.0,300.0,222.0,232.0,212.0,190.0,209.0,192.0,184.0,237.0,230.0,315.0,280.0,189.0,167.0,217.0,205.0,126.0,119.0,173.0,175.0,178.0,185.0,153.0,118.0,131.0,161.0,169.0,207.0,223.0,234.0,195.0,202.0,162.0,111.0,113.0,99.0,101.0,129.0,131.0,150.0,300.0,294.0,312.0,243.0,180.0,117.0,92.0,98.0,142.0,137.0,123.0,124.0,156.0,165.0,98.0,94.0,85.0,83.0,82.0,90.0,90.0,98.0,95.0,104.0,101.0,108.0,99.0,104.0,99.0,89.0,75.0,83.0,80.0,85.0,93.0,93.0,73.0,67.0,66.0,99.0,103.0,107.0,125.0,130.0,149.0,107.0,77.0,114.0,119.0,103.0,110.0,123.0,123.0,105.0,131.0,165.0,118.0,96.0,95.0,99.0,107.0,139.0,166.0,158.0,103.0,85.0,83.0,111.0,143.0,117.0,80.0,96.0,112.0,86.0,89.0,103.0,100.0,87.0,78.0,78.0,68.0,75.0,98.0,105.0,140.0,113.0,108.0,127.0,133.0,123.0,165.0,208.0,243.0,235.0,282.0,285.0,291.0,320.0,300.0,265.0,170.0,242.0,254.0,243.0,248.0,335.0,331.0,315.0,354.0,417.0,419.0,452.0,460.0,591.0,473.0,659.0,532.0,385.0,265.0,296.0,346.0,321.0,339.0,376.0,475.0,532.0,537.0,595.0,438.0,273.0,245.0,251.0,315.0,375.0,377.0,334.0,264.0,269.0,284.0,166.0,106.0,89.0,175.0,257.0,299.0,302.0,313.0,389.0,423.0,382.0,404.0,371.0,377.0,430.0,471.0,322.0,179.0,205.0,202.0,178.0,273.0,354.0,452.0,441.0,351.0,321.0,376.0,384.0,340.0,372.0,425.0,455.0,506.0,417.0],\"type\":\"scatter\"}],                        {\"template\":{\"data\":{\"bar\":[{\"error_x\":{\"color\":\"#2a3f5f\"},\"error_y\":{\"color\":\"#2a3f5f\"},\"marker\":{\"line\":{\"color\":\"#E5ECF6\",\"width\":0.5},\"pattern\":{\"fillmode\":\"overlay\",\"size\":10,\"solidity\":0.2}},\"type\":\"bar\"}],\"barpolar\":[{\"marker\":{\"line\":{\"color\":\"#E5ECF6\",\"width\":0.5},\"pattern\":{\"fillmode\":\"overlay\",\"size\":10,\"solidity\":0.2}},\"type\":\"barpolar\"}],\"carpet\":[{\"aaxis\":{\"endlinecolor\":\"#2a3f5f\",\"gridcolor\":\"white\",\"linecolor\":\"white\",\"minorgridcolor\":\"white\",\"startlinecolor\":\"#2a3f5f\"},\"baxis\":{\"endlinecolor\":\"#2a3f5f\",\"gridcolor\":\"white\",\"linecolor\":\"white\",\"minorgridcolor\":\"white\",\"startlinecolor\":\"#2a3f5f\"},\"type\":\"carpet\"}],\"choropleth\":[{\"colorbar\":{\"outlinewidth\":0,\"ticks\":\"\"},\"type\":\"choropleth\"}],\"contour\":[{\"colorbar\":{\"outlinewidth\":0,\"ticks\":\"\"},\"colorscale\":[[0.0,\"#0d0887\"],[0.1111111111111111,\"#46039f\"],[0.2222222222222222,\"#7201a8\"],[0.3333333333333333,\"#9c179e\"],[0.4444444444444444,\"#bd3786\"],[0.5555555555555556,\"#d8576b\"],[0.6666666666666666,\"#ed7953\"],[0.7777777777777778,\"#fb9f3a\"],[0.8888888888888888,\"#fdca26\"],[1.0,\"#f0f921\"]],\"type\":\"contour\"}],\"contourcarpet\":[{\"colorbar\":{\"outlinewidth\":0,\"ticks\":\"\"},\"type\":\"contourcarpet\"}],\"heatmap\":[{\"colorbar\":{\"outlinewidth\":0,\"ticks\":\"\"},\"colorscale\":[[0.0,\"#0d0887\"],[0.1111111111111111,\"#46039f\"],[0.2222222222222222,\"#7201a8\"],[0.3333333333333333,\"#9c179e\"],[0.4444444444444444,\"#bd3786\"],[0.5555555555555556,\"#d8576b\"],[0.6666666666666666,\"#ed7953\"],[0.7777777777777778,\"#fb9f3a\"],[0.8888888888888888,\"#fdca26\"],[1.0,\"#f0f921\"]],\"type\":\"heatmap\"}],\"heatmapgl\":[{\"colorbar\":{\"outlinewidth\":0,\"ticks\":\"\"},\"colorscale\":[[0.0,\"#0d0887\"],[0.1111111111111111,\"#46039f\"],[0.2222222222222222,\"#7201a8\"],[0.3333333333333333,\"#9c179e\"],[0.4444444444444444,\"#bd3786\"],[0.5555555555555556,\"#d8576b\"],[0.6666666666666666,\"#ed7953\"],[0.7777777777777778,\"#fb9f3a\"],[0.8888888888888888,\"#fdca26\"],[1.0,\"#f0f921\"]],\"type\":\"heatmapgl\"}],\"histogram\":[{\"marker\":{\"pattern\":{\"fillmode\":\"overlay\",\"size\":10,\"solidity\":0.2}},\"type\":\"histogram\"}],\"histogram2d\":[{\"colorbar\":{\"outlinewidth\":0,\"ticks\":\"\"},\"colorscale\":[[0.0,\"#0d0887\"],[0.1111111111111111,\"#46039f\"],[0.2222222222222222,\"#7201a8\"],[0.3333333333333333,\"#9c179e\"],[0.4444444444444444,\"#bd3786\"],[0.5555555555555556,\"#d8576b\"],[0.6666666666666666,\"#ed7953\"],[0.7777777777777778,\"#fb9f3a\"],[0.8888888888888888,\"#fdca26\"],[1.0,\"#f0f921\"]],\"type\":\"histogram2d\"}],\"histogram2dcontour\":[{\"colorbar\":{\"outlinewidth\":0,\"ticks\":\"\"},\"colorscale\":[[0.0,\"#0d0887\"],[0.1111111111111111,\"#46039f\"],[0.2222222222222222,\"#7201a8\"],[0.3333333333333333,\"#9c179e\"],[0.4444444444444444,\"#bd3786\"],[0.5555555555555556,\"#d8576b\"],[0.6666666666666666,\"#ed7953\"],[0.7777777777777778,\"#fb9f3a\"],[0.8888888888888888,\"#fdca26\"],[1.0,\"#f0f921\"]],\"type\":\"histogram2dcontour\"}],\"mesh3d\":[{\"colorbar\":{\"outlinewidth\":0,\"ticks\":\"\"},\"type\":\"mesh3d\"}],\"parcoords\":[{\"line\":{\"colorbar\":{\"outlinewidth\":0,\"ticks\":\"\"}},\"type\":\"parcoords\"}],\"pie\":[{\"automargin\":true,\"type\":\"pie\"}],\"scatter\":[{\"marker\":{\"colorbar\":{\"outlinewidth\":0,\"ticks\":\"\"}},\"type\":\"scatter\"}],\"scatter3d\":[{\"line\":{\"colorbar\":{\"outlinewidth\":0,\"ticks\":\"\"}},\"marker\":{\"colorbar\":{\"outlinewidth\":0,\"ticks\":\"\"}},\"type\":\"scatter3d\"}],\"scattercarpet\":[{\"marker\":{\"colorbar\":{\"outlinewidth\":0,\"ticks\":\"\"}},\"type\":\"scattercarpet\"}],\"scattergeo\":[{\"marker\":{\"colorbar\":{\"outlinewidth\":0,\"ticks\":\"\"}},\"type\":\"scattergeo\"}],\"scattergl\":[{\"marker\":{\"colorbar\":{\"outlinewidth\":0,\"ticks\":\"\"}},\"type\":\"scattergl\"}],\"scattermapbox\":[{\"marker\":{\"colorbar\":{\"outlinewidth\":0,\"ticks\":\"\"}},\"type\":\"scattermapbox\"}],\"scatterpolar\":[{\"marker\":{\"colorbar\":{\"outlinewidth\":0,\"ticks\":\"\"}},\"type\":\"scatterpolar\"}],\"scatterpolargl\":[{\"marker\":{\"colorbar\":{\"outlinewidth\":0,\"ticks\":\"\"}},\"type\":\"scatterpolargl\"}],\"scatterternary\":[{\"marker\":{\"colorbar\":{\"outlinewidth\":0,\"ticks\":\"\"}},\"type\":\"scatterternary\"}],\"surface\":[{\"colorbar\":{\"outlinewidth\":0,\"ticks\":\"\"},\"colorscale\":[[0.0,\"#0d0887\"],[0.1111111111111111,\"#46039f\"],[0.2222222222222222,\"#7201a8\"],[0.3333333333333333,\"#9c179e\"],[0.4444444444444444,\"#bd3786\"],[0.5555555555555556,\"#d8576b\"],[0.6666666666666666,\"#ed7953\"],[0.7777777777777778,\"#fb9f3a\"],[0.8888888888888888,\"#fdca26\"],[1.0,\"#f0f921\"]],\"type\":\"surface\"}],\"table\":[{\"cells\":{\"fill\":{\"color\":\"#EBF0F8\"},\"line\":{\"color\":\"white\"}},\"header\":{\"fill\":{\"color\":\"#C8D4E3\"},\"line\":{\"color\":\"white\"}},\"type\":\"table\"}]},\"layout\":{\"annotationdefaults\":{\"arrowcolor\":\"#2a3f5f\",\"arrowhead\":0,\"arrowwidth\":1},\"autotypenumbers\":\"strict\",\"coloraxis\":{\"colorbar\":{\"outlinewidth\":0,\"ticks\":\"\"}},\"colorscale\":{\"diverging\":[[0,\"#8e0152\"],[0.1,\"#c51b7d\"],[0.2,\"#de77ae\"],[0.3,\"#f1b6da\"],[0.4,\"#fde0ef\"],[0.5,\"#f7f7f7\"],[0.6,\"#e6f5d0\"],[0.7,\"#b8e186\"],[0.8,\"#7fbc41\"],[0.9,\"#4d9221\"],[1,\"#276419\"]],\"sequential\":[[0.0,\"#0d0887\"],[0.1111111111111111,\"#46039f\"],[0.2222222222222222,\"#7201a8\"],[0.3333333333333333,\"#9c179e\"],[0.4444444444444444,\"#bd3786\"],[0.5555555555555556,\"#d8576b\"],[0.6666666666666666,\"#ed7953\"],[0.7777777777777778,\"#fb9f3a\"],[0.8888888888888888,\"#fdca26\"],[1.0,\"#f0f921\"]],\"sequentialminus\":[[0.0,\"#0d0887\"],[0.1111111111111111,\"#46039f\"],[0.2222222222222222,\"#7201a8\"],[0.3333333333333333,\"#9c179e\"],[0.4444444444444444,\"#bd3786\"],[0.5555555555555556,\"#d8576b\"],[0.6666666666666666,\"#ed7953\"],[0.7777777777777778,\"#fb9f3a\"],[0.8888888888888888,\"#fdca26\"],[1.0,\"#f0f921\"]]},\"colorway\":[\"#636efa\",\"#EF553B\",\"#00cc96\",\"#ab63fa\",\"#FFA15A\",\"#19d3f3\",\"#FF6692\",\"#B6E880\",\"#FF97FF\",\"#FECB52\"],\"font\":{\"color\":\"#2a3f5f\"},\"geo\":{\"bgcolor\":\"white\",\"lakecolor\":\"white\",\"landcolor\":\"#E5ECF6\",\"showlakes\":true,\"showland\":true,\"subunitcolor\":\"white\"},\"hoverlabel\":{\"align\":\"left\"},\"hovermode\":\"closest\",\"mapbox\":{\"style\":\"light\"},\"paper_bgcolor\":\"white\",\"plot_bgcolor\":\"#E5ECF6\",\"polar\":{\"angularaxis\":{\"gridcolor\":\"white\",\"linecolor\":\"white\",\"ticks\":\"\"},\"bgcolor\":\"#E5ECF6\",\"radialaxis\":{\"gridcolor\":\"white\",\"linecolor\":\"white\",\"ticks\":\"\"}},\"scene\":{\"xaxis\":{\"backgroundcolor\":\"#E5ECF6\",\"gridcolor\":\"white\",\"gridwidth\":2,\"linecolor\":\"white\",\"showbackground\":true,\"ticks\":\"\",\"zerolinecolor\":\"white\"},\"yaxis\":{\"backgroundcolor\":\"#E5ECF6\",\"gridcolor\":\"white\",\"gridwidth\":2,\"linecolor\":\"white\",\"showbackground\":true,\"ticks\":\"\",\"zerolinecolor\":\"white\"},\"zaxis\":{\"backgroundcolor\":\"#E5ECF6\",\"gridcolor\":\"white\",\"gridwidth\":2,\"linecolor\":\"white\",\"showbackground\":true,\"ticks\":\"\",\"zerolinecolor\":\"white\"}},\"shapedefaults\":{\"line\":{\"color\":\"#2a3f5f\"}},\"ternary\":{\"aaxis\":{\"gridcolor\":\"white\",\"linecolor\":\"white\",\"ticks\":\"\"},\"baxis\":{\"gridcolor\":\"white\",\"linecolor\":\"white\",\"ticks\":\"\"},\"bgcolor\":\"#E5ECF6\",\"caxis\":{\"gridcolor\":\"white\",\"linecolor\":\"white\",\"ticks\":\"\"}},\"title\":{\"x\":0.05},\"xaxis\":{\"automargin\":true,\"gridcolor\":\"white\",\"linecolor\":\"white\",\"ticks\":\"\",\"title\":{\"standoff\":15},\"zerolinecolor\":\"white\",\"zerolinewidth\":2},\"yaxis\":{\"automargin\":true,\"gridcolor\":\"white\",\"linecolor\":\"white\",\"ticks\":\"\",\"title\":{\"standoff\":15},\"zerolinecolor\":\"white\",\"zerolinewidth\":2}}},\"xaxis\":{\"title\":{\"font\":{\"size\":20},\"text\":\"Month\",\"standoff\":25},\"tickangle\":90},\"yaxis\":{\"title\":{\"text\":\"AQI LEVELS\",\"standoff\":25}},\"title\":{\"text\":\"AQI 2019\"}},                        {\"responsive\": true}                    ).then(function(){\n",
       "                            \n",
       "var gd = document.getElementById('3ff57216-ee53-4ed6-bd91-c4c5923c914f');\n",
       "var x = new MutationObserver(function (mutations, observer) {{\n",
       "        var display = window.getComputedStyle(gd).display;\n",
       "        if (!display || display === 'none') {{\n",
       "            console.log([gd, 'removed!']);\n",
       "            Plotly.purge(gd);\n",
       "            observer.disconnect();\n",
       "        }}\n",
       "}});\n",
       "\n",
       "// Listen for the removal of the full notebook cells\n",
       "var notebookContainer = gd.closest('#notebook-container');\n",
       "if (notebookContainer) {{\n",
       "    x.observe(notebookContainer, {childList: true});\n",
       "}}\n",
       "\n",
       "// Listen for the clearing of the current output cell\n",
       "var outputEl = gd.closest('.output');\n",
       "if (outputEl) {{\n",
       "    x.observe(outputEl, {childList: true});\n",
       "}}\n",
       "\n",
       "                        })                };                });            </script>        </div>"
      ]
     },
     "metadata": {},
     "output_type": "display_data"
    }
   ],
   "source": [
    "#2019\n",
    "fig = go.Figure(go.Scatter(\n",
    "    mode = \"lines+markers\",\n",
    "    y = aqi_level_19.iloc[:,-2],\n",
    "    x = aqi_level_19.iloc[:,-3]))\n",
    "fig.update_xaxes(\n",
    "        tickangle = 90,\n",
    "        title_text = \"Month\",\n",
    "        title_font = {\"size\": 20},\n",
    "        title_standoff = 25)\n",
    "\n",
    "fig.update_yaxes(\n",
    "        title_text = \"AQI LEVELS\",\n",
    "        title_standoff = 25)\n",
    "fig.update_layout(title_text=\"AQI 2019\")\n",
    "\n",
    "fig.show()"
   ]
  },
  {
   "cell_type": "code",
   "execution_count": 21,
   "id": "887e8fc5",
   "metadata": {
    "scrolled": false
   },
   "outputs": [
    {
     "data": {
      "application/vnd.plotly.v1+json": {
       "config": {
        "plotlyServerURL": "https://plot.ly"
       },
       "data": [
        {
         "mode": "lines+markers",
         "name": "2016",
         "type": "scatter",
         "x": [
          "2016-01-01T00:00:00",
          "2016-01-02T00:00:00",
          "2016-01-03T00:00:00",
          "2016-01-04T00:00:00",
          "2016-01-05T00:00:00",
          "2016-01-06T00:00:00",
          "2016-01-07T00:00:00",
          "2016-01-08T00:00:00",
          "2016-01-09T00:00:00",
          "2016-01-10T00:00:00",
          "2016-01-11T00:00:00",
          "2016-01-12T00:00:00",
          "2016-01-13T00:00:00",
          "2016-01-14T00:00:00",
          "2016-01-15T00:00:00",
          "2016-01-16T00:00:00",
          "2016-01-17T00:00:00",
          "2016-01-18T00:00:00",
          "2016-01-19T00:00:00",
          "2016-01-20T00:00:00",
          "2016-01-21T00:00:00",
          "2016-01-22T00:00:00",
          "2016-01-23T00:00:00",
          "2016-01-24T00:00:00",
          "2016-01-25T00:00:00",
          "2016-01-26T00:00:00",
          "2016-01-27T00:00:00",
          "2016-01-28T00:00:00",
          "2016-01-29T00:00:00",
          "2016-01-30T00:00:00",
          "2016-01-31T00:00:00",
          "2016-02-01T00:00:00",
          "2016-02-02T00:00:00",
          "2016-02-03T00:00:00",
          "2016-02-04T00:00:00",
          "2016-02-05T00:00:00",
          "2016-02-06T00:00:00",
          "2016-02-07T00:00:00",
          "2016-02-08T00:00:00",
          "2016-02-09T00:00:00",
          "2016-02-10T00:00:00",
          "2016-02-11T00:00:00",
          "2016-02-12T00:00:00",
          "2016-02-13T00:00:00",
          "2016-02-14T00:00:00",
          "2016-02-15T00:00:00",
          "2016-02-16T00:00:00",
          "2016-02-17T00:00:00",
          "2016-02-18T00:00:00",
          "2016-02-19T00:00:00",
          "2016-02-20T00:00:00",
          "2016-02-21T00:00:00",
          "2016-02-22T00:00:00",
          "2016-02-23T00:00:00",
          "2016-02-24T00:00:00",
          "2016-02-25T00:00:00",
          "2016-02-26T00:00:00",
          "2016-02-27T00:00:00",
          "2016-02-28T00:00:00",
          "2016-02-29T00:00:00",
          "2016-03-01T00:00:00",
          "2016-03-02T00:00:00",
          "2016-03-03T00:00:00",
          "2016-03-04T00:00:00",
          "2016-03-05T00:00:00",
          "2016-03-06T00:00:00",
          "2016-03-07T00:00:00",
          "2016-03-08T00:00:00",
          "2016-03-09T00:00:00",
          "2016-03-10T00:00:00",
          "2016-03-11T00:00:00",
          "2016-03-12T00:00:00",
          "2016-03-13T00:00:00",
          "2016-03-14T00:00:00",
          "2016-03-15T00:00:00",
          "2016-03-16T00:00:00",
          "2016-03-17T00:00:00",
          "2016-03-18T00:00:00",
          "2016-03-19T00:00:00",
          "2016-03-20T00:00:00",
          "2016-03-21T00:00:00",
          "2016-03-22T00:00:00",
          "2016-03-23T00:00:00",
          "2016-03-24T00:00:00",
          "2016-03-25T00:00:00",
          "2016-03-26T00:00:00",
          "2016-03-27T00:00:00",
          "2016-03-28T00:00:00",
          "2016-03-29T00:00:00",
          "2016-03-30T00:00:00",
          "2016-03-31T00:00:00",
          "2016-04-01T00:00:00",
          "2016-04-02T00:00:00",
          "2016-04-03T00:00:00",
          "2016-04-04T00:00:00",
          "2016-04-05T00:00:00",
          "2016-04-06T00:00:00",
          "2016-04-07T00:00:00",
          "2016-04-08T00:00:00",
          "2016-04-09T00:00:00",
          "2016-04-10T00:00:00",
          "2016-04-11T00:00:00",
          "2016-04-12T00:00:00",
          "2016-04-13T00:00:00",
          "2016-04-14T00:00:00",
          "2016-04-15T00:00:00",
          "2016-04-16T00:00:00",
          "2016-04-17T00:00:00",
          "2016-04-18T00:00:00",
          "2016-04-19T00:00:00",
          "2016-04-20T00:00:00",
          "2016-04-21T00:00:00",
          "2016-04-22T00:00:00",
          "2016-04-23T00:00:00",
          "2016-04-24T00:00:00",
          "2016-04-25T00:00:00",
          "2016-04-26T00:00:00",
          "2016-04-27T00:00:00",
          "2016-04-28T00:00:00",
          "2016-04-29T00:00:00",
          "2016-04-30T00:00:00",
          "2016-05-01T00:00:00",
          "2016-05-02T00:00:00",
          "2016-05-03T00:00:00",
          "2016-05-04T00:00:00",
          "2016-05-05T00:00:00",
          "2016-05-06T00:00:00",
          "2016-05-07T00:00:00",
          "2016-05-08T00:00:00",
          "2016-05-09T00:00:00",
          "2016-05-10T00:00:00",
          "2016-05-11T00:00:00",
          "2016-05-12T00:00:00",
          "2016-05-13T00:00:00",
          "2016-05-14T00:00:00",
          "2016-05-15T00:00:00",
          "2016-05-16T00:00:00",
          "2016-05-17T00:00:00",
          "2016-05-18T00:00:00",
          "2016-05-19T00:00:00",
          "2016-05-20T00:00:00",
          "2016-05-21T00:00:00",
          "2016-05-22T00:00:00",
          "2016-05-23T00:00:00",
          "2016-05-24T00:00:00",
          "2016-05-25T00:00:00",
          "2016-05-26T00:00:00",
          "2016-05-27T00:00:00",
          "2016-05-28T00:00:00",
          "2016-05-29T00:00:00",
          "2016-05-30T00:00:00",
          "2016-05-31T00:00:00",
          "2016-06-01T00:00:00",
          "2016-06-02T00:00:00",
          "2016-06-03T00:00:00",
          "2016-06-04T00:00:00",
          "2016-06-05T00:00:00",
          "2016-06-06T00:00:00",
          "2016-06-07T00:00:00",
          "2016-06-08T00:00:00",
          "2016-06-09T00:00:00",
          "2016-06-10T00:00:00",
          "2016-06-11T00:00:00",
          "2016-06-12T00:00:00",
          "2016-06-13T00:00:00",
          "2016-06-14T00:00:00",
          "2016-06-15T00:00:00",
          "2016-06-16T00:00:00",
          "2016-06-17T00:00:00",
          "2016-06-18T00:00:00",
          "2016-06-19T00:00:00",
          "2016-06-20T00:00:00",
          "2016-06-21T00:00:00",
          "2016-06-22T00:00:00",
          "2016-06-23T00:00:00",
          "2016-06-24T00:00:00",
          "2016-06-25T00:00:00",
          "2016-06-26T00:00:00",
          "2016-06-27T00:00:00",
          "2016-06-28T00:00:00",
          "2016-06-29T00:00:00",
          "2016-06-30T00:00:00",
          "2016-07-01T00:00:00",
          "2016-07-02T00:00:00",
          "2016-07-03T00:00:00",
          "2016-07-04T00:00:00",
          "2016-07-05T00:00:00",
          "2016-07-06T00:00:00",
          "2016-07-07T00:00:00",
          "2016-07-08T00:00:00",
          "2016-07-09T00:00:00",
          "2016-07-10T00:00:00",
          "2016-07-11T00:00:00",
          "2016-07-12T00:00:00",
          "2016-07-13T00:00:00",
          "2016-07-14T00:00:00",
          "2016-07-15T00:00:00",
          "2016-07-16T00:00:00",
          "2016-07-17T00:00:00",
          "2016-07-18T00:00:00",
          "2016-07-19T00:00:00",
          "2016-07-20T00:00:00",
          "2016-07-21T00:00:00",
          "2016-07-22T00:00:00",
          "2016-07-23T00:00:00",
          "2016-07-24T00:00:00",
          "2016-07-25T00:00:00",
          "2016-07-26T00:00:00",
          "2016-07-27T00:00:00",
          "2016-07-28T00:00:00",
          "2016-07-29T00:00:00",
          "2016-07-30T00:00:00",
          "2016-07-31T00:00:00",
          "2016-08-01T00:00:00",
          "2016-08-02T00:00:00",
          "2016-08-03T00:00:00",
          "2016-08-04T00:00:00",
          "2016-08-05T00:00:00",
          "2016-08-06T00:00:00",
          "2016-08-07T00:00:00",
          "2016-08-08T00:00:00",
          "2016-08-09T00:00:00",
          "2016-08-10T00:00:00",
          "2016-08-11T00:00:00",
          "2016-08-12T00:00:00",
          "2016-08-13T00:00:00",
          "2016-08-14T00:00:00",
          "2016-08-15T00:00:00",
          "2016-08-16T00:00:00",
          "2016-08-17T00:00:00",
          "2016-08-18T00:00:00",
          "2016-08-19T00:00:00",
          "2016-08-20T00:00:00",
          "2016-08-21T00:00:00",
          "2016-08-22T00:00:00",
          "2016-08-23T00:00:00",
          "2016-08-24T00:00:00",
          "2016-08-25T00:00:00",
          "2016-08-26T00:00:00",
          "2016-08-27T00:00:00",
          "2016-08-28T00:00:00",
          "2016-08-29T00:00:00",
          "2016-08-30T00:00:00",
          "2016-08-31T00:00:00",
          "2016-09-01T00:00:00",
          "2016-09-02T00:00:00",
          "2016-09-03T00:00:00",
          "2016-09-04T00:00:00",
          "2016-09-05T00:00:00",
          "2016-09-06T00:00:00",
          "2016-09-07T00:00:00",
          "2016-09-08T00:00:00",
          "2016-09-09T00:00:00",
          "2016-09-10T00:00:00",
          "2016-09-11T00:00:00",
          "2016-09-12T00:00:00",
          "2016-09-13T00:00:00",
          "2016-09-14T00:00:00",
          "2016-09-15T00:00:00",
          "2016-09-16T00:00:00",
          "2016-09-17T00:00:00",
          "2016-09-18T00:00:00",
          "2016-09-19T00:00:00",
          "2016-09-20T00:00:00",
          "2016-09-21T00:00:00",
          "2016-09-22T00:00:00",
          "2016-09-23T00:00:00",
          "2016-09-24T00:00:00",
          "2016-09-25T00:00:00",
          "2016-09-26T00:00:00",
          "2016-09-27T00:00:00",
          "2016-09-28T00:00:00",
          "2016-09-29T00:00:00",
          "2016-09-30T00:00:00",
          "2016-10-01T00:00:00",
          "2016-10-02T00:00:00",
          "2016-10-03T00:00:00",
          "2016-10-04T00:00:00",
          "2016-10-05T00:00:00",
          "2016-10-06T00:00:00",
          "2016-10-07T00:00:00",
          "2016-10-08T00:00:00",
          "2016-10-09T00:00:00",
          "2016-10-10T00:00:00",
          "2016-10-11T00:00:00",
          "2016-10-12T00:00:00",
          "2016-10-13T00:00:00",
          "2016-10-14T00:00:00",
          "2016-10-15T00:00:00",
          "2016-10-16T00:00:00",
          "2016-10-17T00:00:00",
          "2016-10-18T00:00:00",
          "2016-10-19T00:00:00",
          "2016-10-20T00:00:00",
          "2016-10-21T00:00:00",
          "2016-10-22T00:00:00",
          "2016-10-23T00:00:00",
          "2016-10-24T00:00:00",
          "2016-10-25T00:00:00",
          "2016-10-26T00:00:00",
          "2016-10-27T00:00:00",
          "2016-10-28T00:00:00",
          "2016-10-29T00:00:00",
          "2016-10-30T00:00:00",
          "2016-10-31T00:00:00",
          "2016-11-01T00:00:00",
          "2016-11-02T00:00:00",
          "2016-11-03T00:00:00",
          "2016-11-04T00:00:00",
          "2016-11-05T00:00:00",
          "2016-11-06T00:00:00",
          "2016-11-07T00:00:00",
          "2016-11-08T00:00:00",
          "2016-11-09T00:00:00",
          "2016-11-10T00:00:00",
          "2016-11-11T00:00:00",
          "2016-11-12T00:00:00",
          "2016-11-13T00:00:00",
          "2016-11-14T00:00:00",
          "2016-11-15T00:00:00",
          "2016-11-16T00:00:00",
          "2016-11-17T00:00:00",
          "2016-11-18T00:00:00",
          "2016-11-19T00:00:00",
          "2016-11-20T00:00:00",
          "2016-11-21T00:00:00",
          "2016-11-22T00:00:00",
          "2016-11-23T00:00:00",
          "2016-11-24T00:00:00",
          "2016-11-25T00:00:00",
          "2016-11-26T00:00:00",
          "2016-11-27T00:00:00",
          "2016-11-28T00:00:00",
          "2016-11-29T00:00:00",
          "2016-11-30T00:00:00",
          "2016-12-01T00:00:00",
          "2016-12-02T00:00:00",
          "2016-12-03T00:00:00",
          "2016-12-04T00:00:00",
          "2016-12-05T00:00:00",
          "2016-12-06T00:00:00",
          "2016-12-07T00:00:00",
          "2016-12-08T00:00:00",
          "2016-12-09T00:00:00",
          "2016-12-10T00:00:00",
          "2016-12-11T00:00:00",
          "2016-12-12T00:00:00",
          "2016-12-13T00:00:00",
          "2016-12-14T00:00:00",
          "2016-12-15T00:00:00",
          "2016-12-16T00:00:00",
          "2016-12-17T00:00:00",
          "2016-12-18T00:00:00",
          "2016-12-19T00:00:00",
          "2016-12-20T00:00:00",
          "2016-12-21T00:00:00",
          "2016-12-22T00:00:00",
          "2016-12-23T00:00:00",
          "2016-12-24T00:00:00",
          "2016-12-25T00:00:00",
          "2016-12-26T00:00:00",
          "2016-12-27T00:00:00",
          "2016-12-28T00:00:00",
          "2016-12-29T00:00:00",
          "2016-12-30T00:00:00",
          "2016-12-31T00:00:00"
         ],
         "xaxis": "x2",
         "y": [
          101,
          92,
          108,
          109,
          114,
          121,
          116,
          117,
          143,
          168,
          122,
          122,
          146,
          152,
          119,
          130,
          253,
          219,
          146,
          170,
          117,
          113,
          146,
          102,
          98,
          104,
          91,
          118,
          175,
          149,
          183,
          184,
          156,
          153,
          141,
          139,
          154,
          199,
          182,
          175,
          191,
          203,
          154,
          160,
          136,
          107,
          88,
          105,
          111,
          117,
          113,
          115,
          145,
          177,
          198,
          165,
          124,
          88,
          88,
          105,
          118,
          132,
          121,
          136,
          153,
          135,
          111,
          135,
          123,
          146,
          155,
          144,
          149,
          158,
          175,
          139,
          145,
          151,
          158,
          253,
          264,
          155,
          137,
          119,
          137,
          149,
          156,
          123,
          118,
          107,
          111,
          106,
          112,
          110,
          114,
          118,
          154,
          179,
          102,
          170,
          112,
          138,
          121,
          118,
          171,
          156,
          140,
          114,
          138,
          137,
          134,
          119,
          98,
          107,
          150,
          94,
          85,
          115,
          74,
          88,
          86,
          87,
          99,
          80,
          102,
          76,
          59,
          67,
          107,
          95,
          72,
          91,
          88,
          86,
          78,
          65,
          50,
          74,
          47,
          46,
          48,
          35,
          83,
          173,
          50,
          37,
          33,
          38,
          38,
          27,
          26,
          47,
          49,
          43,
          29,
          30,
          33,
          26,
          23,
          20,
          null,
          20,
          20,
          23,
          26,
          23,
          26,
          40,
          28,
          156,
          195,
          137,
          71,
          77,
          143,
          181,
          31,
          null,
          33,
          151,
          174,
          154,
          208,
          192,
          238,
          160,
          83,
          56,
          141,
          43,
          65,
          30,
          40,
          54,
          41,
          42,
          54,
          61,
          70,
          62,
          308,
          null,
          null,
          null,
          82,
          null,
          null,
          null,
          36,
          36,
          55,
          58,
          37,
          72,
          33,
          53,
          64,
          null,
          null,
          null,
          null,
          null,
          null,
          null,
          46,
          37,
          38,
          49,
          71,
          229,
          68,
          64,
          62,
          66,
          45,
          66,
          71,
          75,
          62,
          77,
          48,
          47,
          57,
          49,
          57,
          74,
          68,
          71,
          55,
          59,
          60,
          55,
          68,
          84,
          64,
          60,
          60,
          60,
          74,
          66,
          70,
          78,
          58,
          47,
          40,
          58,
          76,
          102,
          84,
          90,
          85,
          83,
          114,
          150,
          124,
          104,
          114,
          111,
          101,
          89,
          103,
          91,
          83,
          129,
          78,
          75,
          141,
          69,
          58,
          73,
          85,
          183,
          85,
          75,
          132,
          176,
          184,
          127,
          163,
          164,
          132,
          116,
          174,
          188,
          88,
          51,
          57,
          82,
          88,
          111,
          90,
          78,
          94,
          95,
          112,
          124,
          122,
          99,
          44,
          38,
          102,
          189,
          101,
          86,
          95,
          120,
          101,
          335,
          140,
          133,
          113,
          117,
          124,
          120,
          160,
          114,
          103,
          67,
          125,
          209,
          200,
          101,
          85,
          163,
          75,
          132,
          119,
          342,
          104,
          93,
          134,
          103,
          90,
          97,
          93,
          74,
          75,
          100,
          112,
          114,
          104,
          90,
          84,
          76,
          93,
          106
         ],
         "yaxis": "y2"
        },
        {
         "mode": "lines+markers",
         "name": "2017",
         "type": "scatter",
         "x": [
          "2017-01-01",
          "2017-01-02",
          "2017-01-03",
          "2017-01-04",
          "2017-01-05",
          "2017-01-06",
          "2017-01-07",
          "2017-01-08",
          "2017-01-09",
          "2017-01-10",
          "2017-01-11",
          "2017-01-12",
          "2017-01-13",
          "2017-01-14",
          "2017-01-15",
          "2017-01-16",
          "2017-01-17",
          "2017-01-18",
          "2017-01-19",
          "2017-01-20",
          "2017-01-21",
          "2017-01-22",
          "2017-01-23",
          "2017-01-24",
          "2017-01-25",
          "2017-01-26",
          "2017-01-27",
          "2017-01-28",
          "2017-01-29",
          "2017-01-30",
          "2017-01-31",
          "2017-02-01",
          "2017-02-02",
          "2017-02-03",
          "2017-02-04",
          "2017-02-05",
          "2017-02-06",
          "2017-02-07",
          "2017-02-08",
          "2017-02-09",
          "2017-02-10",
          "2017-02-11",
          "2017-02-12",
          "2017-02-13",
          "2017-02-14",
          "2017-02-15",
          "2017-02-16",
          "2017-02-17",
          "2017-02-18",
          "2017-02-19",
          "2017-02-20",
          "2017-02-21",
          "2017-02-22",
          "2017-02-23",
          "2017-02-24",
          "2017-02-25",
          "2017-02-26",
          "2017-02-27",
          "2017-02-28",
          "2017-03-01",
          "2017-03-02",
          "2017-03-03",
          "2017-03-04",
          "2017-03-05",
          "2017-03-06",
          "2017-03-07",
          "2017-03-08",
          "2017-03-09",
          "2017-03-10",
          "2017-03-11",
          "2017-03-12",
          "2017-03-13",
          "2017-03-14",
          "2017-03-15",
          "2017-03-16",
          "2017-03-17",
          "2017-03-18",
          "2017-03-19",
          "2017-03-20",
          "2017-03-21",
          "2017-03-22",
          "2017-03-23",
          "2017-03-24",
          "2017-03-25",
          "2017-03-26",
          "2017-03-27",
          "2017-03-28",
          "2017-03-29",
          "2017-03-30",
          "2017-03-31",
          "2017-04-01",
          "2017-04-02",
          "2017-04-03",
          "2017-04-04",
          "2017-04-05",
          "2017-04-06",
          "2017-04-07",
          "2017-04-08",
          "2017-04-09",
          "2017-04-10",
          "2017-04-11",
          "2017-04-12",
          "2017-04-13",
          "2017-04-14",
          "2017-04-15",
          "2017-04-16",
          "2017-04-17",
          "2017-04-18",
          "2017-04-19",
          "2017-04-20",
          "2017-04-21",
          "2017-04-22",
          "2017-04-23",
          "2017-04-24",
          "2017-04-25",
          "2017-04-26",
          "2017-04-27",
          "2017-04-28",
          "2017-04-29",
          "2017-04-30",
          "2017-05-01",
          "2017-05-02",
          "2017-05-03",
          "2017-05-04",
          "2017-05-05",
          "2017-05-06",
          "2017-05-07",
          "2017-05-08",
          "2017-05-09",
          "2017-05-10",
          "2017-05-11",
          "2017-05-12",
          "2017-05-13",
          "2017-05-14",
          "2017-05-15",
          "2017-05-16",
          "2017-05-17",
          "2017-05-18",
          "2017-05-19",
          "2017-05-20",
          "2017-05-21",
          "2017-05-22",
          "2017-05-23",
          "2017-05-24",
          "2017-05-25",
          "2017-05-26",
          "2017-05-27",
          "2017-05-28",
          "2017-05-29",
          "2017-05-30",
          "2017-05-31",
          "2017-06-01",
          "2017-06-02",
          "2017-06-03",
          "2017-06-04",
          "2017-06-05",
          "2017-06-06",
          "2017-06-07",
          "2017-06-08",
          "2017-06-09",
          "2017-06-10",
          "2017-06-11",
          "2017-06-12",
          "2017-06-13",
          "2017-06-14",
          "2017-06-15",
          "2017-06-16",
          "2017-06-17",
          "2017-06-18",
          "2017-06-19",
          "2017-06-20",
          "2017-06-21",
          "2017-06-22",
          "2017-06-23",
          "2017-06-24",
          "2017-06-25",
          "2017-06-26",
          "2017-06-27",
          "2017-06-28",
          "2017-06-29",
          "2017-06-30",
          "2017-07-01",
          "2017-07-02",
          "2017-07-03",
          "2017-07-04",
          "2017-07-05",
          "2017-07-06",
          "2017-07-07",
          "2017-07-08",
          "2017-07-09",
          "2017-07-10",
          "2017-07-11",
          "2017-07-12",
          "2017-07-13",
          "2017-07-14",
          "2017-07-15",
          "2017-07-16",
          "2017-07-17",
          "2017-07-18",
          "2017-07-19",
          "2017-07-20",
          "2017-07-21",
          "2017-07-22",
          "2017-07-23",
          "2017-07-24",
          "2017-07-25",
          "2017-07-26",
          "2017-07-27",
          "2017-07-28",
          "2017-07-29",
          "2017-07-30",
          "2017-07-31",
          "2017-08-01",
          "2017-08-02",
          "2017-08-03",
          "2017-08-04",
          "2017-08-05",
          "2017-08-06",
          "2017-08-07",
          "2017-08-08",
          "2017-08-09",
          "2017-08-10",
          "2017-08-11",
          "2017-08-12",
          "2017-08-13",
          "2017-08-14",
          "2017-08-15",
          "2017-08-16",
          "2017-08-17",
          "2017-08-18",
          "2017-08-19",
          "2017-08-20",
          "2017-08-21",
          "2017-08-22",
          "2017-08-23",
          "2017-08-24",
          "2017-08-25",
          "2017-08-26",
          "2017-08-27",
          "2017-08-28",
          "2017-08-29",
          "2017-08-30",
          "2017-08-31",
          "2017-09-01",
          "2017-09-02",
          "2017-09-03",
          "2017-09-04",
          "2017-09-05",
          "2017-09-06",
          "2017-09-07",
          "2017-09-08",
          "2017-09-09",
          "2017-09-10",
          "2017-09-11",
          "2017-09-12",
          "2017-09-13",
          "2017-09-14",
          "2017-09-15",
          "2017-09-16",
          "2017-09-17",
          "2017-09-18",
          "2017-09-19",
          "2017-09-20",
          "2017-09-21",
          "2017-09-22",
          "2017-09-23",
          "2017-09-24",
          "2017-09-25",
          "2017-09-26",
          "2017-09-27",
          "2017-09-28",
          "2017-09-29",
          "2017-09-30",
          "2017-10-01",
          "2017-10-02",
          "2017-10-03",
          "2017-10-04",
          "2017-10-05",
          "2017-10-06",
          "2017-10-07",
          "2017-10-08",
          "2017-10-09",
          "2017-10-10",
          "2017-10-11",
          "2017-10-12",
          "2017-10-13",
          "2017-10-14",
          "2017-10-15",
          "2017-10-16",
          "2017-10-17",
          "2017-10-18",
          "2017-10-19",
          "2017-10-20",
          "2017-10-21",
          "2017-10-22",
          "2017-10-23",
          "2017-10-24",
          "2017-10-25",
          "2017-10-26",
          "2017-10-27",
          "2017-10-28",
          "2017-10-29",
          "2017-10-30",
          "2017-10-31",
          "2017-11-01",
          "2017-11-02",
          "2017-11-03",
          "2017-11-04",
          "2017-11-05",
          "2017-11-06",
          "2017-11-07",
          "2017-11-08",
          "2017-11-09",
          "2017-11-10",
          "2017-11-11",
          "2017-11-12",
          "2017-11-13",
          "2017-11-14",
          "2017-11-15",
          "2017-11-16",
          "2017-11-17",
          "2017-11-18",
          "2017-11-19",
          "2017-11-20",
          "2017-11-21",
          "2017-11-22",
          "2017-11-23",
          "2017-11-24",
          "2017-11-25",
          "2017-11-26",
          "2017-11-27",
          "2017-11-28",
          "2017-11-29",
          "2017-11-30",
          "2017-12-01",
          "2017-12-02",
          "2017-12-03",
          "2017-12-04",
          "2017-12-05",
          "2017-12-06",
          "2017-12-07",
          "2017-12-08",
          "2017-12-09",
          "2017-12-10",
          "2017-12-11",
          "2017-12-12",
          "2017-12-13",
          "2017-12-14",
          "2017-12-15",
          "2017-12-16",
          "2017-12-17",
          "2017-12-18",
          "2017-12-19",
          "2017-12-20",
          "2017-12-21",
          "2017-12-22",
          "2017-12-23",
          "2017-12-24",
          "2017-12-25",
          "2017-12-26",
          "2017-12-27",
          "2017-12-28",
          "2017-12-29",
          "2017-12-30",
          "2017-12-31"
         ],
         "xaxis": "x3",
         "y": [
          332,
          384,
          373,
          439,
          318,
          390,
          332,
          283,
          300,
          305,
          337,
          417,
          426,
          439,
          382,
          397,
          330,
          358,
          376,
          334,
          387,
          446,
          379,
          375,
          450,
          340,
          203,
          236,
          252,
          302,
          358,
          317,
          387,
          438,
          407,
          312,
          367,
          263,
          287,
          346,
          314,
          314,
          314,
          298,
          319,
          382,
          352,
          309,
          301,
          274,
          313,
          310,
          258,
          238,
          449,
          516,
          520,
          363,
          362,
          397,
          280,
          206,
          190,
          210,
          201,
          243,
          267,
          245,
          165,
          102,
          159,
          174,
          270,
          397,
          371,
          328,
          254,
          342,
          367,
          400,
          390,
          417,
          359,
          309,
          292,
          278,
          320,
          350,
          234,
          233,
          341,
          259,
          204,
          220,
          255,
          211,
          428,
          497,
          289,
          285,
          368,
          304,
          377,
          418,
          355,
          416,
          403,
          415,
          412,
          394,
          357,
          291,
          244,
          287,
          254,
          242,
          223,
          243,
          237,
          275,
          183,
          370,
          419,
          317,
          455,
          435,
          468,
          442,
          400,
          223,
          220,
          474,
          479,
          373,
          354,
          349,
          264,
          188,
          294,
          334,
          505,
          349,
          421,
          238,
          204,
          289,
          236,
          148,
          94,
          130,
          123,
          192,
          324,
          357,
          393,
          302,
          239,
          210,
          77,
          89,
          143,
          80,
          92,
          112,
          117,
          101,
          106,
          88,
          94,
          150,
          97,
          109,
          124,
          null,
          111,
          148,
          108,
          73,
          58,
          58,
          46,
          84,
          54,
          49,
          149,
          212,
          85,
          77,
          65,
          108,
          78,
          59,
          47,
          39,
          40,
          56,
          65,
          71,
          97,
          118,
          116,
          53,
          30,
          37,
          35,
          37,
          32,
          41,
          42,
          47,
          30,
          29,
          44,
          40,
          49,
          50,
          88,
          99,
          110,
          68,
          73,
          95,
          58,
          45,
          null,
          null,
          59,
          53,
          66,
          70,
          70,
          63,
          42,
          null,
          null,
          58,
          104,
          null,
          null,
          null,
          null,
          73,
          94,
          91,
          88,
          88,
          89,
          88,
          88,
          88,
          106,
          96,
          118,
          119,
          106,
          115,
          142,
          169,
          110,
          106,
          99,
          109,
          137,
          144,
          92,
          83,
          84,
          104,
          131,
          165,
          176,
          172,
          137,
          131,
          132,
          115,
          151,
          180,
          183,
          193,
          224,
          268,
          253,
          208,
          211,
          246,
          319,
          317,
          310,
          313,
          310,
          336,
          497,
          404,
          338,
          327,
          366,
          357,
          328,
          345,
          379,
          362,
          340,
          366,
          344,
          305,
          310,
          345,
          370,
          377,
          532,
          675,
          677,
          597,
          471,
          613,
          561,
          444,
          378,
          357,
          330,
          309,
          297,
          329,
          341,
          348,
          340,
          348,
          347,
          368,
          382,
          360,
          359,
          388,
          377,
          356,
          384,
          415,
          404,
          330,
          215,
          220,
          312,
          389,
          406,
          280,
          263,
          276,
          292,
          228,
          195,
          223,
          291,
          378,
          467,
          370,
          253,
          309,
          398,
          372,
          379,
          398,
          399,
          421,
          451
         ],
         "yaxis": "y3"
        },
        {
         "mode": "lines+markers",
         "name": "2018",
         "type": "scatter",
         "x": [
          "2018-01-01",
          "2018-01-02",
          "2018-01-03",
          "2018-01-04",
          "2018-01-05",
          "2018-01-06",
          "2018-01-07",
          "2018-01-08",
          "2018-01-09",
          "2018-01-10",
          "2018-01-11",
          "2018-01-12",
          "2018-01-13",
          "2018-01-14",
          "2018-01-15",
          "2018-01-16",
          "2018-01-17",
          "2018-01-18",
          "2018-01-19",
          "2018-01-20",
          "2018-01-21",
          "2018-01-22",
          "2018-01-23",
          "2018-01-24",
          "2018-01-25",
          "2018-01-26",
          "2018-01-27",
          "2018-01-28",
          "2018-01-29",
          "2018-01-30",
          "2018-01-31",
          "2018-02-01",
          "2018-02-02",
          "2018-02-03",
          "2018-02-04",
          "2018-02-05",
          "2018-02-06",
          "2018-02-07",
          "2018-02-08",
          "2018-02-09",
          "2018-02-10",
          "2018-02-11",
          "2018-02-12",
          "2018-02-13",
          "2018-02-14",
          "2018-02-15",
          "2018-02-16",
          "2018-02-17",
          "2018-02-18",
          "2018-02-19",
          "2018-02-20",
          "2018-02-21",
          "2018-02-22",
          "2018-02-23",
          "2018-02-24",
          "2018-02-25",
          "2018-02-26",
          "2018-02-27",
          "2018-02-28",
          "2018-03-01",
          "2018-03-02",
          "2018-03-03",
          "2018-03-04",
          "2018-03-05",
          "2018-03-06",
          "2018-03-07",
          "2018-03-08",
          "2018-03-09",
          "2018-03-10",
          "2018-03-11",
          "2018-03-12",
          "2018-03-13",
          "2018-03-14",
          "2018-03-15",
          "2018-03-16",
          "2018-03-17",
          "2018-03-18",
          "2018-03-19",
          "2018-03-20",
          "2018-03-21",
          "2018-03-22",
          "2018-03-23",
          "2018-03-24",
          "2018-03-25",
          "2018-03-26",
          "2018-03-27",
          "2018-03-28",
          "2018-03-29",
          "2018-03-30",
          "2018-03-31",
          "2018-04-01",
          "2018-04-02",
          "2018-04-03",
          "2018-04-04",
          "2018-04-05",
          "2018-04-06",
          "2018-04-07",
          "2018-04-08",
          "2018-04-09",
          "2018-04-10",
          "2018-04-11",
          "2018-04-12",
          "2018-04-13",
          "2018-04-14",
          "2018-04-15",
          "2018-04-16",
          "2018-04-17",
          "2018-04-18",
          "2018-04-19",
          "2018-04-20",
          "2018-04-21",
          "2018-04-22",
          "2018-04-23",
          "2018-04-24",
          "2018-04-25",
          "2018-04-26",
          "2018-04-27",
          "2018-04-28",
          "2018-04-29",
          "2018-04-30",
          "2018-05-01",
          "2018-05-02",
          "2018-05-03",
          "2018-05-04",
          "2018-05-05",
          "2018-05-06",
          "2018-05-07",
          "2018-05-08",
          "2018-05-09",
          "2018-05-10",
          "2018-05-11",
          "2018-05-12",
          "2018-05-13",
          "2018-05-14",
          "2018-05-15",
          "2018-05-16",
          "2018-05-17",
          "2018-05-18",
          "2018-05-19",
          "2018-05-20",
          "2018-05-21",
          "2018-05-22",
          "2018-05-23",
          "2018-05-24",
          "2018-05-25",
          "2018-05-26",
          "2018-05-27",
          "2018-05-28",
          "2018-05-29",
          "2018-05-30",
          "2018-05-31",
          "2018-06-01",
          "2018-06-02",
          "2018-06-03",
          "2018-06-04",
          "2018-06-05",
          "2018-06-06",
          "2018-06-07",
          "2018-06-08",
          "2018-06-09",
          "2018-06-10",
          "2018-06-11",
          "2018-06-12",
          "2018-06-13",
          "2018-06-14",
          "2018-06-15",
          "2018-06-16",
          "2018-06-17",
          "2018-06-18",
          "2018-06-19",
          "2018-06-20",
          "2018-06-21",
          "2018-06-22",
          "2018-06-23",
          "2018-06-24",
          "2018-06-25",
          "2018-06-26",
          "2018-06-27",
          "2018-06-28",
          "2018-06-29",
          "2018-06-30",
          "2018-07-01",
          "2018-07-02",
          "2018-07-03",
          "2018-07-04",
          "2018-07-05",
          "2018-07-06",
          "2018-07-07",
          "2018-07-08",
          "2018-07-09",
          "2018-07-10",
          "2018-07-11",
          "2018-07-12",
          "2018-07-13",
          "2018-07-14",
          "2018-07-15",
          "2018-07-16",
          "2018-07-17",
          "2018-07-18",
          "2018-07-19",
          "2018-07-20",
          "2018-07-21",
          "2018-07-22",
          "2018-07-23",
          "2018-07-24",
          "2018-07-25",
          "2018-07-26",
          "2018-07-27",
          "2018-07-28",
          "2018-07-29",
          "2018-07-30",
          "2018-07-31",
          "2018-08-01",
          "2018-08-02",
          "2018-08-03",
          "2018-08-04",
          "2018-08-05",
          "2018-08-06",
          "2018-08-07",
          "2018-08-08",
          "2018-08-09",
          "2018-08-10",
          "2018-08-11",
          "2018-08-12",
          "2018-08-13",
          "2018-08-14",
          "2018-08-15",
          "2018-08-16",
          "2018-08-17",
          "2018-08-18",
          "2018-08-19",
          "2018-08-20",
          "2018-08-21",
          "2018-08-22",
          "2018-08-23",
          "2018-08-24",
          "2018-08-25",
          "2018-08-26",
          "2018-08-27",
          "2018-08-28",
          "2018-08-29",
          "2018-08-30",
          "2018-08-31",
          "2018-09-01",
          "2018-09-02",
          "2018-09-03",
          "2018-09-04",
          "2018-09-05",
          "2018-09-06",
          "2018-09-07",
          "2018-09-08",
          "2018-09-09",
          "2018-09-10",
          "2018-09-11",
          "2018-09-12",
          "2018-09-13",
          "2018-09-14",
          "2018-09-15",
          "2018-09-16",
          "2018-09-17",
          "2018-09-18",
          "2018-09-19",
          "2018-09-20",
          "2018-09-21",
          "2018-09-22",
          "2018-09-23",
          "2018-09-24",
          "2018-09-25",
          "2018-09-26",
          "2018-09-27",
          "2018-09-28",
          "2018-09-29",
          "2018-09-30",
          "2018-10-01",
          "2018-10-02",
          "2018-10-03",
          "2018-10-04",
          "2018-10-05",
          "2018-10-06",
          "2018-10-07",
          "2018-10-08",
          "2018-10-09",
          "2018-10-10",
          "2018-10-11",
          "2018-10-12",
          "2018-10-13",
          "2018-10-14",
          "2018-10-15",
          "2018-10-16",
          "2018-10-17",
          "2018-10-18",
          "2018-10-19",
          "2018-10-20",
          "2018-10-21",
          "2018-10-22",
          "2018-10-23",
          "2018-10-24",
          "2018-10-25",
          "2018-10-26",
          "2018-10-27",
          "2018-10-28",
          "2018-10-29",
          "2018-10-30",
          "2018-10-31",
          "2018-11-01",
          "2018-11-02",
          "2018-11-03",
          "2018-11-04",
          "2018-11-05",
          "2018-11-06",
          "2018-11-07",
          "2018-11-08",
          "2018-11-09",
          "2018-11-10",
          "2018-11-11",
          "2018-11-12",
          "2018-11-13",
          "2018-11-14",
          "2018-11-15",
          "2018-11-16",
          "2018-11-17",
          "2018-11-18",
          "2018-11-19",
          "2018-11-20",
          "2018-11-21",
          "2018-11-22",
          "2018-11-23",
          "2018-11-24",
          "2018-11-25",
          "2018-11-26",
          "2018-11-27",
          "2018-11-28",
          "2018-11-29",
          "2018-11-30",
          "2018-12-01",
          "2018-12-02",
          "2018-12-03",
          "2018-12-04",
          "2018-12-05",
          "2018-12-06",
          "2018-12-07",
          "2018-12-08",
          "2018-12-09",
          "2018-12-10",
          "2018-12-11",
          "2018-12-12",
          "2018-12-13",
          "2018-12-14",
          "2018-12-15",
          "2018-12-16",
          "2018-12-17",
          "2018-12-18",
          "2018-12-19",
          "2018-12-20",
          "2018-12-21",
          "2018-12-22",
          "2018-12-23",
          "2018-12-24",
          "2018-12-25",
          "2018-12-26",
          "2018-12-27",
          "2018-12-28",
          "2018-12-29",
          "2018-12-30",
          "2018-12-31"
         ],
         "xaxis": "x4",
         "y": [
          462,
          439,
          405,
          394,
          398,
          403,
          384,
          314,
          373,
          366,
          318,
          306,
          370,
          365,
          352,
          278,
          350,
          411,
          451,
          351,
          310,
          362,
          343,
          286,
          267,
          263,
          284,
          334,
          332,
          300,
          271,
          293,
          318,
          277,
          284,
          313,
          324,
          287,
          334,
          375,
          378,
          350,
          218,
          189,
          217,
          189,
          248,
          277,
          284,
          321,
          335,
          347,
          333,
          331,
          347,
          317,
          170,
          167,
          274,
          293,
          300,
          244,
          205,
          180,
          170,
          192,
          262,
          316,
          207,
          179,
          236,
          241,
          287,
          314,
          269,
          218,
          177,
          177,
          224,
          302,
          226,
          171,
          183,
          202,
          203,
          246,
          293,
          238,
          234,
          269,
          217,
          217,
          239,
          244,
          329,
          271,
          170,
          142,
          133,
          205,
          179,
          135,
          201,
          233,
          240,
          296,
          266,
          216,
          242,
          271,
          444,
          302,
          197,
          242,
          287,
          329,
          351,
          288,
          259,
          221,
          173,
          161,
          167,
          146,
          174,
          280,
          243,
          252,
          168,
          218,
          292,
          330,
          285,
          174,
          173,
          194,
          240,
          254,
          270,
          231,
          208,
          207,
          306,
          303,
          260,
          244,
          268,
          276,
          303,
          272,
          223,
          196,
          183,
          154,
          170,
          160,
          146,
          166,
          180,
          153,
          153,
          186,
          285,
          453,
          522,
          593,
          531,
          384,
          179,
          146,
          175,
          221,
          249,
          228,
          194,
          168,
          128,
          126,
          99,
          90,
          113,
          102,
          111,
          122,
          128,
          130,
          147,
          155,
          176,
          168,
          140,
          111,
          130,
          109,
          96,
          92,
          95,
          105,
          114,
          106,
          90,
          114,
          87,
          80,
          101,
          90,
          90,
          68,
          71,
          100,
          122,
          135,
          155,
          215,
          228,
          215,
          234,
          166,
          123,
          108,
          102,
          111,
          106,
          92,
          102,
          122,
          128,
          109,
          109,
          90,
          100,
          138,
          105,
          91,
          86,
          89,
          100,
          85,
          82,
          81,
          88,
          97,
          127,
          132,
          116,
          89,
          118,
          108,
          137,
          117,
          105,
          86,
          92,
          91,
          96,
          108,
          113,
          126,
          124,
          135,
          154,
          157,
          173,
          155,
          76,
          69,
          63,
          63,
          99,
          151,
          200,
          229,
          176,
          148,
          186,
          160,
          206,
          268,
          237,
          189,
          253,
          269,
          263,
          219,
          163,
          264,
          237,
          253,
          309,
          332,
          330,
          300,
          344,
          325,
          296,
          274,
          354,
          356,
          394,
          396,
          403,
          397,
          456,
          422,
          433,
          391,
          353,
          238,
          424,
          411,
          317,
          452,
          487,
          430,
          454,
          437,
          454,
          361,
          251,
          302,
          292,
          330,
          340,
          367,
          396,
          317,
          356,
          296,
          266,
          349,
          396,
          363,
          384,
          365,
          335,
          329,
          356,
          394,
          374,
          385,
          376,
          366,
          389,
          431,
          464,
          443,
          264,
          248,
          274,
          295,
          338,
          370,
          370,
          423,
          422,
          468,
          557,
          577,
          475,
          405,
          458,
          413,
          420,
          484,
          509
         ],
         "yaxis": "y4"
        },
        {
         "mode": "lines+markers",
         "name": "2019",
         "type": "scatter",
         "x": [
          "2019-01-01",
          "2019-01-02",
          "2019-01-03",
          "2019-01-04",
          "2019-01-05",
          "2019-01-06",
          "2019-01-07",
          "2019-01-08",
          "2019-01-09",
          "2019-01-10",
          "2019-01-11",
          "2019-01-12",
          "2019-01-13",
          "2019-01-14",
          "2019-01-15",
          "2019-01-16",
          "2019-01-17",
          "2019-01-18",
          "2019-01-19",
          "2019-01-20",
          "2019-01-21",
          "2019-01-22",
          "2019-01-23",
          "2019-01-24",
          "2019-01-25",
          "2019-01-26",
          "2019-01-27",
          "2019-01-28",
          "2019-01-29",
          "2019-01-30",
          "2019-01-31",
          "2019-02-01",
          "2019-02-02",
          "2019-02-03",
          "2019-02-04",
          "2019-02-05",
          "2019-02-06",
          "2019-02-07",
          "2019-02-08",
          "2019-02-09",
          "2019-02-10",
          "2019-02-11",
          "2019-02-12",
          "2019-02-13",
          "2019-02-14",
          "2019-02-15",
          "2019-02-16",
          "2019-02-17",
          "2019-02-18",
          "2019-02-19",
          "2019-02-20",
          "2019-02-21",
          "2019-02-22",
          "2019-02-23",
          "2019-02-24",
          "2019-02-25",
          "2019-02-26",
          "2019-02-27",
          "2019-02-28",
          "2019-03-01",
          "2019-03-02",
          "2019-03-03",
          "2019-03-04",
          "2019-03-05",
          "2019-03-06",
          "2019-03-07",
          "2019-03-08",
          "2019-03-09",
          "2019-03-10",
          "2019-03-11",
          "2019-03-12",
          "2019-03-13",
          "2019-03-14",
          "2019-03-15",
          "2019-03-16",
          "2019-03-17",
          "2019-03-18",
          "2019-03-19",
          "2019-03-20",
          "2019-03-21",
          "2019-03-22",
          "2019-03-23",
          "2019-03-24",
          "2019-03-25",
          "2019-03-26",
          "2019-03-27",
          "2019-03-28",
          "2019-03-29",
          "2019-03-30",
          "2019-03-31",
          "2019-04-01",
          "2019-04-02",
          "2019-04-03",
          "2019-04-04",
          "2019-04-05",
          "2019-04-06",
          "2019-04-07",
          "2019-04-08",
          "2019-04-09",
          "2019-04-10",
          "2019-04-11",
          "2019-04-12",
          "2019-04-13",
          "2019-04-14",
          "2019-04-15",
          "2019-04-16",
          "2019-04-17",
          "2019-04-18",
          "2019-04-19",
          "2019-04-20",
          "2019-04-21",
          "2019-04-22",
          "2019-04-23",
          "2019-04-24",
          "2019-04-25",
          "2019-04-26",
          "2019-04-27",
          "2019-04-28",
          "2019-04-29",
          "2019-04-30",
          "2019-05-01",
          "2019-05-02",
          "2019-05-03",
          "2019-05-04",
          "2019-05-05",
          "2019-05-06",
          "2019-05-07",
          "2019-05-08",
          "2019-05-09",
          "2019-05-10",
          "2019-05-11",
          "2019-05-12",
          "2019-05-13",
          "2019-05-14",
          "2019-05-15",
          "2019-05-16",
          "2019-05-17",
          "2019-05-18",
          "2019-05-19",
          "2019-05-20",
          "2019-05-21",
          "2019-05-22",
          "2019-05-23",
          "2019-05-24",
          "2019-05-25",
          "2019-05-26",
          "2019-05-27",
          "2019-05-28",
          "2019-05-29",
          "2019-05-30",
          "2019-05-31",
          "2019-06-01",
          "2019-06-02",
          "2019-06-03",
          "2019-06-04",
          "2019-06-05",
          "2019-06-06",
          "2019-06-07",
          "2019-06-08",
          "2019-06-09",
          "2019-06-10",
          "2019-06-11",
          "2019-06-12",
          "2019-06-13",
          "2019-06-14",
          "2019-06-15",
          "2019-06-16",
          "2019-06-17",
          "2019-06-18",
          "2019-06-19",
          "2019-06-20",
          "2019-06-21",
          "2019-06-22",
          "2019-06-23",
          "2019-06-24",
          "2019-06-25",
          "2019-06-26",
          "2019-06-27",
          "2019-06-28",
          "2019-06-29",
          "2019-06-30",
          "2019-07-01",
          "2019-07-02",
          "2019-07-03",
          "2019-07-04",
          "2019-07-05",
          "2019-07-06",
          "2019-07-07",
          "2019-07-08",
          "2019-07-09",
          "2019-07-10",
          "2019-07-11",
          "2019-07-12",
          "2019-07-13",
          "2019-07-14",
          "2019-07-15",
          "2019-07-16",
          "2019-07-17",
          "2019-07-18",
          "2019-07-19",
          "2019-07-20",
          "2019-07-21",
          "2019-07-22",
          "2019-07-23",
          "2019-07-24",
          "2019-07-25",
          "2019-07-26",
          "2019-07-27",
          "2019-07-28",
          "2019-07-29",
          "2019-07-30",
          "2019-07-31",
          "2019-08-01",
          "2019-08-02",
          "2019-08-03",
          "2019-08-04",
          "2019-08-05",
          "2019-08-06",
          "2019-08-07",
          "2019-08-08",
          "2019-08-09",
          "2019-08-10",
          "2019-08-11",
          "2019-08-12",
          "2019-08-13",
          "2019-08-14",
          "2019-08-15",
          "2019-08-16",
          "2019-08-17",
          "2019-08-18",
          "2019-08-19",
          "2019-08-20",
          "2019-08-21",
          "2019-08-22",
          "2019-08-23",
          "2019-08-24",
          "2019-08-25",
          "2019-08-26",
          "2019-08-27",
          "2019-08-28",
          "2019-08-29",
          "2019-08-30",
          "2019-08-31",
          "2019-09-01",
          "2019-09-02",
          "2019-09-03",
          "2019-09-04",
          "2019-09-05",
          "2019-09-06",
          "2019-09-07",
          "2019-09-08",
          "2019-09-09",
          "2019-09-10",
          "2019-09-11",
          "2019-09-12",
          "2019-09-13",
          "2019-09-14",
          "2019-09-15",
          "2019-09-16",
          "2019-09-17",
          "2019-09-18",
          "2019-09-19",
          "2019-09-20",
          "2019-09-21",
          "2019-09-22",
          "2019-09-23",
          "2019-09-24",
          "2019-09-25",
          "2019-09-26",
          "2019-09-27",
          "2019-09-28",
          "2019-09-29",
          "2019-09-30",
          "2019-10-01",
          "2019-10-02",
          "2019-10-03",
          "2019-10-04",
          "2019-10-05",
          "2019-10-06",
          "2019-10-07",
          "2019-10-08",
          "2019-10-09",
          "2019-10-10",
          "2019-10-11",
          "2019-10-12",
          "2019-10-13",
          "2019-10-14",
          "2019-10-15",
          "2019-10-16",
          "2019-10-17",
          "2019-10-18",
          "2019-10-19",
          "2019-10-20",
          "2019-10-21",
          "2019-10-22",
          "2019-10-23",
          "2019-10-24",
          "2019-10-25",
          "2019-10-26",
          "2019-10-27",
          "2019-10-28",
          "2019-10-29",
          "2019-10-30",
          "2019-10-31",
          "2019-11-01",
          "2019-11-02",
          "2019-11-03",
          "2019-11-04",
          "2019-11-05",
          "2019-11-06",
          "2019-11-07",
          "2019-11-08",
          "2019-11-09",
          "2019-11-10",
          "2019-11-11",
          "2019-11-12",
          "2019-11-13",
          "2019-11-14",
          "2019-11-15",
          "2019-11-16",
          "2019-11-17",
          "2019-11-18",
          "2019-11-19",
          "2019-11-20",
          "2019-11-21",
          "2019-11-22",
          "2019-11-23",
          "2019-11-24",
          "2019-11-25",
          "2019-11-26",
          "2019-11-27",
          "2019-11-28",
          "2019-11-29",
          "2019-11-30",
          "2019-12-01",
          "2019-12-02",
          "2019-12-03",
          "2019-12-04",
          "2019-12-05",
          "2019-12-06",
          "2019-12-07",
          "2019-12-08",
          "2019-12-09",
          "2019-12-10",
          "2019-12-11",
          "2019-12-12",
          "2019-12-13",
          "2019-12-14",
          "2019-12-15",
          "2019-12-16",
          "2019-12-17",
          "2019-12-18",
          "2019-12-19",
          "2019-12-20",
          "2019-12-21",
          "2019-12-22",
          "2019-12-23",
          "2019-12-24",
          "2019-12-25",
          "2019-12-26",
          "2019-12-27",
          "2019-12-28",
          "2019-12-29",
          "2019-12-30",
          "2019-12-31"
         ],
         "xaxis": "x5",
         "y": [
          475,
          501,
          537,
          432,
          440,
          371,
          331,
          340,
          321,
          317,
          401,
          482,
          464,
          320,
          248,
          383,
          515,
          437,
          411,
          480,
          413,
          174,
          186,
          328,
          188,
          231,
          275,
          301,
          297,
          342,
          397,
          329,
          338,
          323,
          301,
          398,
          380,
          233,
          136,
          169,
          277,
          332,
          357,
          372,
          350,
          275,
          288,
          247,
          278,
          232,
          305,
          158,
          191,
          116,
          169,
          221,
          144,
          112,
          198,
          222,
          227,
          172,
          217,
          173,
          189,
          228,
          220,
          194,
          157,
          190,
          149,
          168,
          281,
          183,
          143,
          198,
          221,
          239,
          234,
          272,
          141,
          131,
          126,
          136,
          162,
          177,
          245,
          273,
          252,
          198,
          153,
          194,
          208,
          260,
          284,
          269,
          315,
          284,
          240,
          263,
          196,
          202,
          175,
          150,
          163,
          206,
          102,
          104,
          151,
          199,
          225,
          246,
          257,
          232,
          251,
          223,
          248,
          269,
          256,
          257,
          285,
          275,
          202,
          182,
          231,
          267,
          310,
          389,
          390,
          333,
          266,
          352,
          376,
          217,
          194,
          192,
          257,
          176,
          168,
          216,
          206,
          167,
          228,
          151,
          125,
          135,
          163,
          175,
          191,
          226,
          266,
          300,
          222,
          232,
          212,
          190,
          209,
          192,
          184,
          237,
          230,
          315,
          280,
          189,
          167,
          217,
          205,
          126,
          119,
          173,
          175,
          178,
          185,
          153,
          118,
          131,
          161,
          169,
          207,
          223,
          234,
          195,
          202,
          162,
          111,
          113,
          99,
          101,
          129,
          131,
          150,
          300,
          294,
          312,
          243,
          180,
          117,
          92,
          98,
          142,
          137,
          123,
          124,
          156,
          165,
          98,
          94,
          85,
          83,
          82,
          90,
          90,
          98,
          95,
          104,
          101,
          108,
          99,
          104,
          99,
          89,
          75,
          83,
          80,
          85,
          93,
          93,
          73,
          67,
          66,
          99,
          103,
          107,
          125,
          130,
          149,
          107,
          77,
          114,
          119,
          103,
          110,
          123,
          123,
          105,
          131,
          165,
          118,
          96,
          95,
          99,
          107,
          139,
          166,
          158,
          103,
          85,
          83,
          111,
          143,
          117,
          80,
          96,
          112,
          86,
          89,
          103,
          100,
          87,
          78,
          78,
          68,
          75,
          98,
          105,
          140,
          113,
          108,
          127,
          133,
          123,
          165,
          208,
          243,
          235,
          282,
          285,
          291,
          320,
          300,
          265,
          170,
          242,
          254,
          243,
          248,
          335,
          331,
          315,
          354,
          417,
          419,
          452,
          460,
          591,
          473,
          659,
          532,
          385,
          265,
          296,
          346,
          321,
          339,
          376,
          475,
          532,
          537,
          595,
          438,
          273,
          245,
          251,
          315,
          375,
          377,
          334,
          264,
          269,
          284,
          166,
          106,
          89,
          175,
          257,
          299,
          302,
          313,
          389,
          423,
          382,
          404,
          371,
          377,
          430,
          471,
          322,
          179,
          205,
          202,
          178,
          273,
          354,
          452,
          441,
          351,
          321,
          376,
          384,
          340,
          372,
          425,
          455,
          506,
          417
         ],
         "yaxis": "y5"
        },
        {
         "mode": "lines+markers",
         "name": "2015",
         "type": "scatter",
         "x": [
          "2015-01-01T00:00:00",
          "2015-01-02T00:00:00",
          "2015-01-03T00:00:00",
          "2015-01-04T00:00:00",
          "2015-01-05T00:00:00",
          "2015-01-06T00:00:00",
          "2015-01-07T00:00:00",
          "2015-01-08T00:00:00",
          "2015-01-09T00:00:00",
          "2015-01-10T00:00:00",
          "2015-01-11T00:00:00",
          "2015-01-12T00:00:00",
          "2015-01-13T00:00:00",
          "2015-01-14T00:00:00",
          "2015-01-15T00:00:00",
          "2015-01-16T00:00:00",
          "2015-01-17T00:00:00",
          "2015-01-18T00:00:00",
          "2015-01-19T00:00:00",
          "2015-01-20T00:00:00",
          "2015-01-21T00:00:00",
          "2015-01-22T00:00:00",
          "2015-01-23T00:00:00",
          "2015-01-24T00:00:00",
          "2015-01-25T00:00:00",
          "2015-01-26T00:00:00",
          "2015-01-27T00:00:00",
          "2015-01-28T00:00:00",
          "2015-01-29T00:00:00",
          "2015-01-30T00:00:00",
          "2015-01-31T00:00:00",
          "2015-02-01T00:00:00",
          "2015-02-02T00:00:00",
          "2015-02-03T00:00:00",
          "2015-02-04T00:00:00",
          "2015-02-05T00:00:00",
          "2015-02-06T00:00:00",
          "2015-02-07T00:00:00",
          "2015-02-08T00:00:00",
          "2015-02-09T00:00:00",
          "2015-02-10T00:00:00",
          "2015-02-11T00:00:00",
          "2015-02-12T00:00:00",
          "2015-02-13T00:00:00",
          "2015-02-14T00:00:00",
          "2015-02-15T00:00:00",
          "2015-02-16T00:00:00",
          "2015-02-17T00:00:00",
          "2015-02-18T00:00:00",
          "2015-02-19T00:00:00",
          "2015-02-20T00:00:00",
          "2015-02-21T00:00:00",
          "2015-02-22T00:00:00",
          "2015-02-23T00:00:00",
          "2015-02-24T00:00:00",
          "2015-02-25T00:00:00",
          "2015-02-26T00:00:00",
          "2015-02-27T00:00:00",
          "2015-02-28T00:00:00",
          "2015-03-01T00:00:00",
          "2015-03-02T00:00:00",
          "2015-03-03T00:00:00",
          "2015-03-04T00:00:00",
          "2015-03-05T00:00:00",
          "2015-03-06T00:00:00",
          "2015-03-07T00:00:00",
          "2015-03-08T00:00:00",
          "2015-03-09T00:00:00",
          "2015-03-10T00:00:00",
          "2015-03-11T00:00:00",
          "2015-03-12T00:00:00",
          "2015-03-13T00:00:00",
          "2015-03-14T00:00:00",
          "2015-03-15T00:00:00",
          "2015-03-16T00:00:00",
          "2015-03-17T00:00:00",
          "2015-03-18T00:00:00",
          "2015-03-19T00:00:00",
          "2015-03-20T00:00:00",
          "2015-03-21T00:00:00",
          "2015-03-22T00:00:00",
          "2015-03-23T00:00:00",
          "2015-03-24T00:00:00",
          "2015-03-25T00:00:00",
          "2015-03-26T00:00:00",
          "2015-03-27T00:00:00",
          "2015-03-28T00:00:00",
          "2015-03-29T00:00:00",
          "2015-03-30T00:00:00",
          "2015-03-31T00:00:00",
          "2015-04-01T00:00:00",
          "2015-04-02T00:00:00",
          "2015-04-03T00:00:00",
          "2015-04-04T00:00:00",
          "2015-04-05T00:00:00",
          "2015-04-06T00:00:00",
          "2015-04-07T00:00:00",
          "2015-04-08T00:00:00",
          "2015-04-09T00:00:00",
          "2015-04-10T00:00:00",
          "2015-04-11T00:00:00",
          "2015-04-12T00:00:00",
          "2015-04-13T00:00:00",
          "2015-04-14T00:00:00",
          "2015-04-15T00:00:00",
          "2015-04-16T00:00:00",
          "2015-04-17T00:00:00",
          "2015-04-18T00:00:00",
          "2015-04-19T00:00:00",
          "2015-04-20T00:00:00",
          "2015-04-21T00:00:00",
          "2015-04-22T00:00:00",
          "2015-04-23T00:00:00",
          "2015-04-24T00:00:00",
          "2015-04-25T00:00:00",
          "2015-04-26T00:00:00",
          "2015-04-27T00:00:00",
          "2015-04-28T00:00:00",
          "2015-04-29T00:00:00",
          "2015-04-30T00:00:00",
          "2015-05-01T00:00:00",
          "2015-05-02T00:00:00",
          "2015-05-03T00:00:00",
          "2015-05-04T00:00:00",
          "2015-05-05T00:00:00",
          "2015-05-06T00:00:00",
          "2015-05-07T00:00:00",
          "2015-05-08T00:00:00",
          "2015-05-09T00:00:00",
          "2015-05-10T00:00:00",
          "2015-05-11T00:00:00",
          "2015-05-12T00:00:00",
          "2015-05-13T00:00:00",
          "2015-05-14T00:00:00",
          "2015-05-15T00:00:00",
          "2015-05-16T00:00:00",
          "2015-05-17T00:00:00",
          "2015-05-18T00:00:00",
          "2015-05-19T00:00:00",
          "2015-05-20T00:00:00",
          "2015-05-21T00:00:00",
          "2015-05-22T00:00:00",
          "2015-05-23T00:00:00",
          "2015-05-24T00:00:00",
          "2015-05-25T00:00:00",
          "2015-05-26T00:00:00",
          "2015-05-27T00:00:00",
          "2015-05-28T00:00:00",
          "2015-05-29T00:00:00",
          "2015-05-30T00:00:00",
          "2015-05-31T00:00:00",
          "2015-06-01T00:00:00",
          "2015-06-02T00:00:00",
          "2015-06-03T00:00:00",
          "2015-06-04T00:00:00",
          "2015-06-05T00:00:00",
          "2015-06-06T00:00:00",
          "2015-06-07T00:00:00",
          "2015-06-08T00:00:00",
          "2015-06-09T00:00:00",
          "2015-06-10T00:00:00",
          "2015-06-11T00:00:00",
          "2015-06-12T00:00:00",
          "2015-06-13T00:00:00",
          "2015-06-14T00:00:00",
          "2015-06-15T00:00:00",
          "2015-06-16T00:00:00",
          "2015-06-17T00:00:00",
          "2015-06-18T00:00:00",
          "2015-06-19T00:00:00",
          "2015-06-20T00:00:00",
          "2015-06-21T00:00:00",
          "2015-06-22T00:00:00",
          "2015-06-23T00:00:00",
          "2015-06-24T00:00:00",
          "2015-06-25T00:00:00",
          "2015-06-26T00:00:00",
          "2015-06-27T00:00:00",
          "2015-06-28T00:00:00",
          "2015-06-29T00:00:00",
          "2015-06-30T00:00:00",
          "2015-07-01T00:00:00",
          "2015-07-02T00:00:00",
          "2015-07-03T00:00:00",
          "2015-07-04T00:00:00",
          "2015-07-05T00:00:00",
          "2015-07-06T00:00:00",
          "2015-07-07T00:00:00",
          "2015-07-08T00:00:00",
          "2015-07-09T00:00:00",
          "2015-07-10T00:00:00",
          "2015-07-11T00:00:00",
          "2015-07-12T00:00:00",
          "2015-07-13T00:00:00",
          "2015-07-14T00:00:00",
          "2015-07-15T00:00:00",
          "2015-07-16T00:00:00",
          "2015-07-17T00:00:00",
          "2015-07-18T00:00:00",
          "2015-07-19T00:00:00",
          "2015-07-20T00:00:00",
          "2015-07-21T00:00:00",
          "2015-07-22T00:00:00",
          "2015-07-23T00:00:00",
          "2015-07-24T00:00:00",
          "2015-07-25T00:00:00",
          "2015-07-26T00:00:00",
          "2015-07-27T00:00:00",
          "2015-07-28T00:00:00",
          "2015-07-29T00:00:00",
          "2015-07-30T00:00:00",
          "2015-07-31T00:00:00",
          "2015-08-01T00:00:00",
          "2015-08-02T00:00:00",
          "2015-08-03T00:00:00",
          "2015-08-04T00:00:00",
          "2015-08-05T00:00:00",
          "2015-08-06T00:00:00",
          "2015-08-07T00:00:00",
          "2015-08-08T00:00:00",
          "2015-08-09T00:00:00",
          "2015-08-10T00:00:00",
          "2015-08-11T00:00:00",
          "2015-08-12T00:00:00",
          "2015-08-13T00:00:00",
          "2015-08-14T00:00:00",
          "2015-08-15T00:00:00",
          "2015-08-16T00:00:00",
          "2015-08-17T00:00:00",
          "2015-08-18T00:00:00",
          "2015-08-19T00:00:00",
          "2015-08-20T00:00:00",
          "2015-08-21T00:00:00",
          "2015-08-22T00:00:00",
          "2015-08-23T00:00:00",
          "2015-08-24T00:00:00",
          "2015-08-25T00:00:00",
          "2015-08-26T00:00:00",
          "2015-08-27T00:00:00",
          "2015-08-28T00:00:00",
          "2015-08-29T00:00:00",
          "2015-08-30T00:00:00",
          "2015-08-31T00:00:00",
          "2015-09-01T00:00:00",
          "2015-09-02T00:00:00",
          "2015-09-03T00:00:00",
          "2015-09-04T00:00:00",
          "2015-09-05T00:00:00",
          "2015-09-06T00:00:00",
          "2015-09-07T00:00:00",
          "2015-09-08T00:00:00",
          "2015-09-09T00:00:00",
          "2015-09-10T00:00:00",
          "2015-09-11T00:00:00",
          "2015-09-12T00:00:00",
          "2015-09-13T00:00:00",
          "2015-09-14T00:00:00",
          "2015-09-15T00:00:00",
          "2015-09-16T00:00:00",
          "2015-09-17T00:00:00",
          "2015-09-18T00:00:00",
          "2015-09-19T00:00:00",
          "2015-09-20T00:00:00",
          "2015-09-21T00:00:00",
          "2015-09-22T00:00:00",
          "2015-09-23T00:00:00",
          "2015-09-24T00:00:00",
          "2015-09-25T00:00:00",
          "2015-09-26T00:00:00",
          "2015-09-27T00:00:00",
          "2015-09-28T00:00:00",
          "2015-09-29T00:00:00",
          "2015-09-30T00:00:00",
          "2015-10-01T00:00:00",
          "2015-10-02T00:00:00",
          "2015-10-03T00:00:00",
          "2015-10-04T00:00:00",
          "2015-10-05T00:00:00",
          "2015-10-06T00:00:00",
          "2015-10-07T00:00:00",
          "2015-10-08T00:00:00",
          "2015-10-09T00:00:00",
          "2015-10-10T00:00:00",
          "2015-10-11T00:00:00",
          "2015-10-12T00:00:00",
          "2015-10-13T00:00:00",
          "2015-10-14T00:00:00",
          "2015-10-15T00:00:00",
          "2015-10-16T00:00:00",
          "2015-10-17T00:00:00",
          "2015-10-18T00:00:00",
          "2015-10-19T00:00:00",
          "2015-10-20T00:00:00",
          "2015-10-21T00:00:00",
          "2015-10-22T00:00:00",
          "2015-10-23T00:00:00",
          "2015-10-24T00:00:00",
          "2015-10-25T00:00:00",
          "2015-10-26T00:00:00",
          "2015-10-27T00:00:00",
          "2015-10-28T00:00:00",
          "2015-10-29T00:00:00",
          "2015-10-30T00:00:00",
          "2015-10-31T00:00:00",
          "2015-11-01T00:00:00",
          "2015-11-02T00:00:00",
          "2015-11-03T00:00:00",
          "2015-11-04T00:00:00",
          "2015-11-05T00:00:00",
          "2015-11-06T00:00:00",
          "2015-11-07T00:00:00",
          "2015-11-08T00:00:00",
          "2015-11-09T00:00:00",
          "2015-11-10T00:00:00",
          "2015-11-11T00:00:00",
          "2015-11-12T00:00:00",
          "2015-11-13T00:00:00",
          "2015-11-14T00:00:00",
          "2015-11-15T00:00:00",
          "2015-11-16T00:00:00",
          "2015-11-17T00:00:00",
          "2015-11-18T00:00:00",
          "2015-11-19T00:00:00",
          "2015-11-20T00:00:00",
          "2015-11-21T00:00:00",
          "2015-11-22T00:00:00",
          "2015-11-23T00:00:00",
          "2015-11-24T00:00:00",
          "2015-11-25T00:00:00",
          "2015-11-26T00:00:00",
          "2015-11-27T00:00:00",
          "2015-11-28T00:00:00",
          "2015-11-29T00:00:00",
          "2015-11-30T00:00:00",
          "2015-12-01T00:00:00",
          "2015-12-02T00:00:00",
          "2015-12-03T00:00:00",
          "2015-12-04T00:00:00",
          "2015-12-05T00:00:00",
          "2015-12-06T00:00:00",
          "2015-12-07T00:00:00",
          "2015-12-08T00:00:00",
          "2015-12-09T00:00:00",
          "2015-12-10T00:00:00",
          "2015-12-11T00:00:00",
          "2015-12-12T00:00:00",
          "2015-12-13T00:00:00",
          "2015-12-14T00:00:00",
          "2015-12-15T00:00:00",
          "2015-12-16T00:00:00",
          "2015-12-17T00:00:00",
          "2015-12-18T00:00:00",
          "2015-12-19T00:00:00",
          "2015-12-20T00:00:00",
          "2015-12-21T00:00:00",
          "2015-12-22T00:00:00",
          "2015-12-23T00:00:00",
          "2015-12-24T00:00:00",
          "2015-12-25T00:00:00",
          "2015-12-26T00:00:00",
          "2015-12-27T00:00:00",
          "2015-12-28T00:00:00",
          "2015-12-29T00:00:00",
          "2015-12-30T00:00:00",
          "2015-12-31T00:00:00"
         ],
         "xaxis": "x",
         "y": [
          null,
          null,
          null,
          null,
          null,
          null,
          null,
          null,
          null,
          null,
          null,
          null,
          null,
          null,
          null,
          null,
          null,
          null,
          null,
          null,
          null,
          null,
          null,
          null,
          null,
          null,
          null,
          null,
          null,
          null,
          null,
          null,
          null,
          null,
          null,
          null,
          null,
          null,
          null,
          null,
          null,
          null,
          null,
          null,
          null,
          null,
          null,
          null,
          null,
          null,
          null,
          null,
          null,
          null,
          null,
          null,
          null,
          null,
          null,
          null,
          null,
          null,
          null,
          null,
          null,
          null,
          null,
          null,
          null,
          null,
          null,
          null,
          null,
          null,
          null,
          null,
          null,
          null,
          null,
          91,
          120,
          154,
          119,
          232,
          132,
          123,
          152,
          143,
          80,
          90,
          151,
          123,
          178,
          101,
          160,
          71,
          76,
          153,
          80,
          129,
          107,
          122,
          85,
          62,
          177,
          152,
          210,
          170,
          135,
          118,
          127,
          47,
          44,
          67,
          44,
          82,
          156,
          96,
          72,
          117,
          67,
          217,
          64,
          162,
          75,
          141,
          70,
          142,
          140,
          71,
          66,
          56,
          45,
          61,
          70,
          59,
          125,
          106,
          84,
          57,
          56,
          140,
          156,
          156,
          111,
          158,
          93,
          97,
          94,
          147,
          100,
          101,
          84,
          84,
          74,
          130,
          74,
          74,
          162,
          55,
          72,
          66,
          81,
          94,
          128,
          86,
          136,
          67,
          45,
          70,
          93,
          166,
          183,
          107,
          140,
          107,
          70,
          165,
          160,
          209,
          166,
          187,
          162,
          185,
          141,
          225,
          309,
          136,
          139,
          161,
          160,
          127,
          71,
          246,
          250,
          176,
          176,
          55,
          156,
          195,
          197,
          223,
          182,
          245,
          268,
          51,
          49,
          157,
          128,
          66,
          105,
          49,
          97,
          257,
          139,
          95,
          106,
          89,
          44,
          97,
          187,
          83,
          129,
          128,
          217,
          277,
          176,
          206,
          238,
          229,
          236,
          92,
          100,
          97,
          59,
          96,
          123,
          77,
          57,
          63,
          174,
          121,
          92,
          81,
          43,
          52,
          72,
          73,
          208,
          179,
          93,
          60,
          65,
          60,
          167,
          141,
          175,
          41,
          81,
          52,
          31,
          144,
          64,
          51,
          82,
          85,
          89,
          139,
          157,
          155,
          94,
          100,
          117,
          136,
          96,
          101,
          128,
          92,
          98,
          102,
          69,
          54,
          101,
          110,
          54,
          77,
          144,
          90,
          98,
          173,
          140,
          76,
          164,
          88,
          97,
          110,
          89,
          81,
          74,
          157,
          95,
          70,
          110,
          191,
          49,
          54,
          58,
          65,
          70,
          67,
          60,
          56,
          59,
          51,
          49,
          146,
          61,
          130,
          99,
          91,
          116,
          126,
          103,
          74,
          66,
          61,
          75,
          85,
          141,
          90,
          126,
          147,
          87,
          56,
          88,
          67,
          74,
          105,
          103,
          54,
          65,
          102,
          94,
          86,
          89,
          99,
          92,
          85,
          83,
          92,
          95,
          103,
          105,
          97,
          102,
          104,
          96,
          114,
          110,
          109,
          115,
          149,
          122,
          91,
          131
         ],
         "yaxis": "y"
        },
        {
         "mode": "lines+markers",
         "name": "2020",
         "type": "scatter",
         "x": [
          "2020-01-01T00:00:00",
          "2020-01-02T00:00:00",
          "2020-01-03T00:00:00",
          "2020-01-04T00:00:00",
          "2020-01-05T00:00:00",
          "2020-01-06T00:00:00",
          "2020-01-07T00:00:00",
          "2020-01-08T00:00:00",
          "2020-01-09T00:00:00",
          "2020-01-10T00:00:00",
          "2020-01-11T00:00:00",
          "2020-01-12T00:00:00",
          "2020-01-13T00:00:00",
          "2020-01-14T00:00:00",
          "2020-01-15T00:00:00",
          "2020-01-16T00:00:00",
          "2020-01-17T00:00:00",
          "2020-01-18T00:00:00",
          "2020-01-19T00:00:00",
          "2020-01-20T00:00:00",
          "2020-01-21T00:00:00",
          "2020-01-22T00:00:00",
          "2020-01-23T00:00:00",
          "2020-01-24T00:00:00",
          "2020-01-25T00:00:00",
          "2020-01-26T00:00:00",
          "2020-01-27T00:00:00",
          "2020-01-28T00:00:00",
          "2020-01-29T00:00:00",
          "2020-01-30T00:00:00",
          "2020-01-31T00:00:00",
          "2020-02-01T00:00:00",
          "2020-02-02T00:00:00",
          "2020-02-03T00:00:00",
          "2020-02-04T00:00:00",
          "2020-02-05T00:00:00",
          "2020-02-06T00:00:00",
          "2020-02-07T00:00:00",
          "2020-02-08T00:00:00",
          "2020-02-09T00:00:00",
          "2020-02-10T00:00:00",
          "2020-02-11T00:00:00",
          "2020-02-12T00:00:00",
          "2020-02-13T00:00:00",
          "2020-02-14T00:00:00",
          "2020-02-15T00:00:00",
          "2020-02-16T00:00:00",
          "2020-02-17T00:00:00",
          "2020-02-18T00:00:00",
          "2020-02-19T00:00:00",
          "2020-02-20T00:00:00",
          "2020-02-21T00:00:00",
          "2020-02-22T00:00:00",
          "2020-02-23T00:00:00",
          "2020-02-24T00:00:00",
          "2020-02-25T00:00:00",
          "2020-02-26T00:00:00",
          "2020-02-27T00:00:00",
          "2020-02-28T00:00:00",
          "2020-02-29T00:00:00",
          "2020-03-01T00:00:00",
          "2020-03-02T00:00:00",
          "2020-03-03T00:00:00",
          "2020-03-04T00:00:00",
          "2020-03-05T00:00:00",
          "2020-03-06T00:00:00",
          "2020-03-07T00:00:00",
          "2020-03-08T00:00:00",
          "2020-03-09T00:00:00",
          "2020-03-10T00:00:00",
          "2020-03-11T00:00:00",
          "2020-03-12T00:00:00",
          "2020-03-13T00:00:00",
          "2020-03-14T00:00:00",
          "2020-03-15T00:00:00",
          "2020-03-16T00:00:00",
          "2020-03-17T00:00:00",
          "2020-03-18T00:00:00",
          "2020-03-19T00:00:00",
          "2020-03-20T00:00:00",
          "2020-03-21T00:00:00",
          "2020-03-22T00:00:00",
          "2020-03-23T00:00:00",
          "2020-03-24T00:00:00",
          "2020-03-25T00:00:00",
          "2020-03-26T00:00:00",
          "2020-03-27T00:00:00",
          "2020-03-28T00:00:00",
          "2020-03-29T00:00:00",
          "2020-03-30T00:00:00",
          "2020-03-31T00:00:00",
          "2020-04-01T00:00:00",
          "2020-04-02T00:00:00",
          "2020-04-03T00:00:00",
          "2020-04-04T00:00:00",
          "2020-04-05T00:00:00",
          "2020-04-06T00:00:00",
          "2020-04-07T00:00:00",
          "2020-04-08T00:00:00",
          "2020-04-09T00:00:00",
          "2020-04-10T00:00:00",
          "2020-04-11T00:00:00",
          "2020-04-12T00:00:00",
          "2020-04-13T00:00:00",
          "2020-04-14T00:00:00",
          "2020-04-15T00:00:00",
          "2020-04-16T00:00:00",
          "2020-04-17T00:00:00",
          "2020-04-18T00:00:00",
          "2020-04-19T00:00:00",
          "2020-04-20T00:00:00",
          "2020-04-21T00:00:00",
          "2020-04-22T00:00:00",
          "2020-04-23T00:00:00",
          "2020-04-24T00:00:00",
          "2020-04-25T00:00:00",
          "2020-04-26T00:00:00",
          "2020-04-27T00:00:00",
          "2020-04-28T00:00:00",
          "2020-04-29T00:00:00",
          "2020-04-30T00:00:00",
          "2020-05-01T00:00:00",
          "2020-05-02T00:00:00",
          "2020-05-03T00:00:00",
          "2020-05-04T00:00:00",
          "2020-05-05T00:00:00",
          "2020-05-06T00:00:00",
          "2020-05-07T00:00:00",
          "2020-05-08T00:00:00",
          "2020-05-09T00:00:00",
          "2020-05-10T00:00:00",
          "2020-05-11T00:00:00",
          "2020-05-12T00:00:00",
          "2020-05-13T00:00:00",
          "2020-05-14T00:00:00",
          "2020-05-15T00:00:00",
          "2020-05-16T00:00:00",
          "2020-05-17T00:00:00",
          "2020-05-18T00:00:00",
          "2020-05-19T00:00:00",
          "2020-05-20T00:00:00",
          "2020-05-21T00:00:00",
          "2020-05-22T00:00:00",
          "2020-05-23T00:00:00",
          "2020-05-24T00:00:00",
          "2020-05-25T00:00:00",
          "2020-05-26T00:00:00",
          "2020-05-27T00:00:00",
          "2020-05-28T00:00:00",
          "2020-05-29T00:00:00",
          "2020-05-30T00:00:00",
          "2020-05-31T00:00:00",
          "2020-06-01T00:00:00",
          "2020-06-02T00:00:00",
          "2020-06-03T00:00:00",
          "2020-06-04T00:00:00",
          "2020-06-05T00:00:00",
          "2020-06-06T00:00:00",
          "2020-06-07T00:00:00",
          "2020-06-08T00:00:00",
          "2020-06-09T00:00:00",
          "2020-06-10T00:00:00",
          "2020-06-11T00:00:00",
          "2020-06-12T00:00:00",
          "2020-06-13T00:00:00",
          "2020-06-14T00:00:00",
          "2020-06-15T00:00:00",
          "2020-06-16T00:00:00",
          "2020-06-17T00:00:00",
          "2020-06-18T00:00:00",
          "2020-06-19T00:00:00",
          "2020-06-20T00:00:00",
          "2020-06-21T00:00:00",
          "2020-06-22T00:00:00",
          "2020-06-23T00:00:00",
          "2020-06-24T00:00:00",
          "2020-06-25T00:00:00",
          "2020-06-26T00:00:00",
          "2020-06-27T00:00:00",
          "2020-06-28T00:00:00",
          "2020-06-29T00:00:00",
          "2020-06-30T00:00:00",
          "2020-07-01T00:00:00"
         ],
         "xaxis": "x6",
         "y": [
          82,
          81,
          85,
          95,
          118,
          81,
          75,
          93,
          101,
          94,
          78,
          79,
          106,
          121,
          111,
          114,
          106,
          86,
          66,
          81,
          90,
          87,
          82,
          108,
          100,
          97,
          98,
          102,
          115,
          112,
          111,
          102,
          94,
          79,
          82,
          86,
          96,
          96,
          105,
          101,
          103,
          87,
          80,
          84,
          111,
          128,
          120,
          99,
          103,
          101,
          94,
          90,
          78,
          81,
          82,
          107,
          104,
          112,
          98,
          95,
          101,
          103,
          137,
          131,
          117,
          100,
          93,
          91,
          99,
          93,
          95,
          97,
          90,
          86,
          88,
          79,
          77,
          78,
          91,
          100,
          103,
          99,
          85,
          106,
          70,
          61,
          67,
          70,
          66,
          72,
          68,
          64,
          70,
          82,
          74,
          77,
          65,
          62,
          67,
          65,
          76,
          70,
          64,
          72,
          72,
          74,
          66,
          74,
          94,
          67,
          53,
          65,
          71,
          63,
          69,
          66,
          61,
          59,
          71,
          62,
          61,
          74,
          72,
          71,
          79,
          91,
          85,
          82,
          73,
          76,
          78,
          77,
          82,
          66,
          66,
          73,
          74,
          70,
          68,
          72,
          79,
          70,
          68,
          72,
          66,
          70,
          66,
          75,
          74,
          66,
          72,
          61,
          49,
          40,
          42,
          43,
          55,
          55,
          55,
          55,
          58,
          70,
          59,
          49,
          50,
          49,
          47,
          55,
          57,
          65,
          65,
          56,
          52,
          49,
          56,
          63,
          63,
          58,
          51,
          61,
          65,
          63,
          43
         ],
         "yaxis": "y6"
        }
       ],
       "layout": {
        "annotations": [
         {
          "font": {
           "size": 16
          },
          "showarrow": false,
          "text": "2015",
          "x": 0.14444444444444446,
          "xanchor": "center",
          "xref": "paper",
          "y": 1,
          "yanchor": "bottom",
          "yref": "paper"
         },
         {
          "font": {
           "size": 16
          },
          "showarrow": false,
          "text": "2016",
          "x": 0.5,
          "xanchor": "center",
          "xref": "paper",
          "y": 1,
          "yanchor": "bottom",
          "yref": "paper"
         },
         {
          "font": {
           "size": 16
          },
          "showarrow": false,
          "text": "2017",
          "x": 0.8555555555555556,
          "xanchor": "center",
          "xref": "paper",
          "y": 1,
          "yanchor": "bottom",
          "yref": "paper"
         },
         {
          "font": {
           "size": 16
          },
          "showarrow": false,
          "text": "2018",
          "x": 0.14444444444444446,
          "xanchor": "center",
          "xref": "paper",
          "y": 0.375,
          "yanchor": "bottom",
          "yref": "paper"
         },
         {
          "font": {
           "size": 16
          },
          "showarrow": false,
          "text": "2019",
          "x": 0.5,
          "xanchor": "center",
          "xref": "paper",
          "y": 0.375,
          "yanchor": "bottom",
          "yref": "paper"
         }
        ],
        "height": 700,
        "template": {
         "data": {
          "bar": [
           {
            "error_x": {
             "color": "#2a3f5f"
            },
            "error_y": {
             "color": "#2a3f5f"
            },
            "marker": {
             "line": {
              "color": "#E5ECF6",
              "width": 0.5
             },
             "pattern": {
              "fillmode": "overlay",
              "size": 10,
              "solidity": 0.2
             }
            },
            "type": "bar"
           }
          ],
          "barpolar": [
           {
            "marker": {
             "line": {
              "color": "#E5ECF6",
              "width": 0.5
             },
             "pattern": {
              "fillmode": "overlay",
              "size": 10,
              "solidity": 0.2
             }
            },
            "type": "barpolar"
           }
          ],
          "carpet": [
           {
            "aaxis": {
             "endlinecolor": "#2a3f5f",
             "gridcolor": "white",
             "linecolor": "white",
             "minorgridcolor": "white",
             "startlinecolor": "#2a3f5f"
            },
            "baxis": {
             "endlinecolor": "#2a3f5f",
             "gridcolor": "white",
             "linecolor": "white",
             "minorgridcolor": "white",
             "startlinecolor": "#2a3f5f"
            },
            "type": "carpet"
           }
          ],
          "choropleth": [
           {
            "colorbar": {
             "outlinewidth": 0,
             "ticks": ""
            },
            "type": "choropleth"
           }
          ],
          "contour": [
           {
            "colorbar": {
             "outlinewidth": 0,
             "ticks": ""
            },
            "colorscale": [
             [
              0,
              "#0d0887"
             ],
             [
              0.1111111111111111,
              "#46039f"
             ],
             [
              0.2222222222222222,
              "#7201a8"
             ],
             [
              0.3333333333333333,
              "#9c179e"
             ],
             [
              0.4444444444444444,
              "#bd3786"
             ],
             [
              0.5555555555555556,
              "#d8576b"
             ],
             [
              0.6666666666666666,
              "#ed7953"
             ],
             [
              0.7777777777777778,
              "#fb9f3a"
             ],
             [
              0.8888888888888888,
              "#fdca26"
             ],
             [
              1,
              "#f0f921"
             ]
            ],
            "type": "contour"
           }
          ],
          "contourcarpet": [
           {
            "colorbar": {
             "outlinewidth": 0,
             "ticks": ""
            },
            "type": "contourcarpet"
           }
          ],
          "heatmap": [
           {
            "colorbar": {
             "outlinewidth": 0,
             "ticks": ""
            },
            "colorscale": [
             [
              0,
              "#0d0887"
             ],
             [
              0.1111111111111111,
              "#46039f"
             ],
             [
              0.2222222222222222,
              "#7201a8"
             ],
             [
              0.3333333333333333,
              "#9c179e"
             ],
             [
              0.4444444444444444,
              "#bd3786"
             ],
             [
              0.5555555555555556,
              "#d8576b"
             ],
             [
              0.6666666666666666,
              "#ed7953"
             ],
             [
              0.7777777777777778,
              "#fb9f3a"
             ],
             [
              0.8888888888888888,
              "#fdca26"
             ],
             [
              1,
              "#f0f921"
             ]
            ],
            "type": "heatmap"
           }
          ],
          "heatmapgl": [
           {
            "colorbar": {
             "outlinewidth": 0,
             "ticks": ""
            },
            "colorscale": [
             [
              0,
              "#0d0887"
             ],
             [
              0.1111111111111111,
              "#46039f"
             ],
             [
              0.2222222222222222,
              "#7201a8"
             ],
             [
              0.3333333333333333,
              "#9c179e"
             ],
             [
              0.4444444444444444,
              "#bd3786"
             ],
             [
              0.5555555555555556,
              "#d8576b"
             ],
             [
              0.6666666666666666,
              "#ed7953"
             ],
             [
              0.7777777777777778,
              "#fb9f3a"
             ],
             [
              0.8888888888888888,
              "#fdca26"
             ],
             [
              1,
              "#f0f921"
             ]
            ],
            "type": "heatmapgl"
           }
          ],
          "histogram": [
           {
            "marker": {
             "pattern": {
              "fillmode": "overlay",
              "size": 10,
              "solidity": 0.2
             }
            },
            "type": "histogram"
           }
          ],
          "histogram2d": [
           {
            "colorbar": {
             "outlinewidth": 0,
             "ticks": ""
            },
            "colorscale": [
             [
              0,
              "#0d0887"
             ],
             [
              0.1111111111111111,
              "#46039f"
             ],
             [
              0.2222222222222222,
              "#7201a8"
             ],
             [
              0.3333333333333333,
              "#9c179e"
             ],
             [
              0.4444444444444444,
              "#bd3786"
             ],
             [
              0.5555555555555556,
              "#d8576b"
             ],
             [
              0.6666666666666666,
              "#ed7953"
             ],
             [
              0.7777777777777778,
              "#fb9f3a"
             ],
             [
              0.8888888888888888,
              "#fdca26"
             ],
             [
              1,
              "#f0f921"
             ]
            ],
            "type": "histogram2d"
           }
          ],
          "histogram2dcontour": [
           {
            "colorbar": {
             "outlinewidth": 0,
             "ticks": ""
            },
            "colorscale": [
             [
              0,
              "#0d0887"
             ],
             [
              0.1111111111111111,
              "#46039f"
             ],
             [
              0.2222222222222222,
              "#7201a8"
             ],
             [
              0.3333333333333333,
              "#9c179e"
             ],
             [
              0.4444444444444444,
              "#bd3786"
             ],
             [
              0.5555555555555556,
              "#d8576b"
             ],
             [
              0.6666666666666666,
              "#ed7953"
             ],
             [
              0.7777777777777778,
              "#fb9f3a"
             ],
             [
              0.8888888888888888,
              "#fdca26"
             ],
             [
              1,
              "#f0f921"
             ]
            ],
            "type": "histogram2dcontour"
           }
          ],
          "mesh3d": [
           {
            "colorbar": {
             "outlinewidth": 0,
             "ticks": ""
            },
            "type": "mesh3d"
           }
          ],
          "parcoords": [
           {
            "line": {
             "colorbar": {
              "outlinewidth": 0,
              "ticks": ""
             }
            },
            "type": "parcoords"
           }
          ],
          "pie": [
           {
            "automargin": true,
            "type": "pie"
           }
          ],
          "scatter": [
           {
            "marker": {
             "colorbar": {
              "outlinewidth": 0,
              "ticks": ""
             }
            },
            "type": "scatter"
           }
          ],
          "scatter3d": [
           {
            "line": {
             "colorbar": {
              "outlinewidth": 0,
              "ticks": ""
             }
            },
            "marker": {
             "colorbar": {
              "outlinewidth": 0,
              "ticks": ""
             }
            },
            "type": "scatter3d"
           }
          ],
          "scattercarpet": [
           {
            "marker": {
             "colorbar": {
              "outlinewidth": 0,
              "ticks": ""
             }
            },
            "type": "scattercarpet"
           }
          ],
          "scattergeo": [
           {
            "marker": {
             "colorbar": {
              "outlinewidth": 0,
              "ticks": ""
             }
            },
            "type": "scattergeo"
           }
          ],
          "scattergl": [
           {
            "marker": {
             "colorbar": {
              "outlinewidth": 0,
              "ticks": ""
             }
            },
            "type": "scattergl"
           }
          ],
          "scattermapbox": [
           {
            "marker": {
             "colorbar": {
              "outlinewidth": 0,
              "ticks": ""
             }
            },
            "type": "scattermapbox"
           }
          ],
          "scatterpolar": [
           {
            "marker": {
             "colorbar": {
              "outlinewidth": 0,
              "ticks": ""
             }
            },
            "type": "scatterpolar"
           }
          ],
          "scatterpolargl": [
           {
            "marker": {
             "colorbar": {
              "outlinewidth": 0,
              "ticks": ""
             }
            },
            "type": "scatterpolargl"
           }
          ],
          "scatterternary": [
           {
            "marker": {
             "colorbar": {
              "outlinewidth": 0,
              "ticks": ""
             }
            },
            "type": "scatterternary"
           }
          ],
          "surface": [
           {
            "colorbar": {
             "outlinewidth": 0,
             "ticks": ""
            },
            "colorscale": [
             [
              0,
              "#0d0887"
             ],
             [
              0.1111111111111111,
              "#46039f"
             ],
             [
              0.2222222222222222,
              "#7201a8"
             ],
             [
              0.3333333333333333,
              "#9c179e"
             ],
             [
              0.4444444444444444,
              "#bd3786"
             ],
             [
              0.5555555555555556,
              "#d8576b"
             ],
             [
              0.6666666666666666,
              "#ed7953"
             ],
             [
              0.7777777777777778,
              "#fb9f3a"
             ],
             [
              0.8888888888888888,
              "#fdca26"
             ],
             [
              1,
              "#f0f921"
             ]
            ],
            "type": "surface"
           }
          ],
          "table": [
           {
            "cells": {
             "fill": {
              "color": "#EBF0F8"
             },
             "line": {
              "color": "white"
             }
            },
            "header": {
             "fill": {
              "color": "#C8D4E3"
             },
             "line": {
              "color": "white"
             }
            },
            "type": "table"
           }
          ]
         },
         "layout": {
          "annotationdefaults": {
           "arrowcolor": "#2a3f5f",
           "arrowhead": 0,
           "arrowwidth": 1
          },
          "autotypenumbers": "strict",
          "coloraxis": {
           "colorbar": {
            "outlinewidth": 0,
            "ticks": ""
           }
          },
          "colorscale": {
           "diverging": [
            [
             0,
             "#8e0152"
            ],
            [
             0.1,
             "#c51b7d"
            ],
            [
             0.2,
             "#de77ae"
            ],
            [
             0.3,
             "#f1b6da"
            ],
            [
             0.4,
             "#fde0ef"
            ],
            [
             0.5,
             "#f7f7f7"
            ],
            [
             0.6,
             "#e6f5d0"
            ],
            [
             0.7,
             "#b8e186"
            ],
            [
             0.8,
             "#7fbc41"
            ],
            [
             0.9,
             "#4d9221"
            ],
            [
             1,
             "#276419"
            ]
           ],
           "sequential": [
            [
             0,
             "#0d0887"
            ],
            [
             0.1111111111111111,
             "#46039f"
            ],
            [
             0.2222222222222222,
             "#7201a8"
            ],
            [
             0.3333333333333333,
             "#9c179e"
            ],
            [
             0.4444444444444444,
             "#bd3786"
            ],
            [
             0.5555555555555556,
             "#d8576b"
            ],
            [
             0.6666666666666666,
             "#ed7953"
            ],
            [
             0.7777777777777778,
             "#fb9f3a"
            ],
            [
             0.8888888888888888,
             "#fdca26"
            ],
            [
             1,
             "#f0f921"
            ]
           ],
           "sequentialminus": [
            [
             0,
             "#0d0887"
            ],
            [
             0.1111111111111111,
             "#46039f"
            ],
            [
             0.2222222222222222,
             "#7201a8"
            ],
            [
             0.3333333333333333,
             "#9c179e"
            ],
            [
             0.4444444444444444,
             "#bd3786"
            ],
            [
             0.5555555555555556,
             "#d8576b"
            ],
            [
             0.6666666666666666,
             "#ed7953"
            ],
            [
             0.7777777777777778,
             "#fb9f3a"
            ],
            [
             0.8888888888888888,
             "#fdca26"
            ],
            [
             1,
             "#f0f921"
            ]
           ]
          },
          "colorway": [
           "#636efa",
           "#EF553B",
           "#00cc96",
           "#ab63fa",
           "#FFA15A",
           "#19d3f3",
           "#FF6692",
           "#B6E880",
           "#FF97FF",
           "#FECB52"
          ],
          "font": {
           "color": "#2a3f5f"
          },
          "geo": {
           "bgcolor": "white",
           "lakecolor": "white",
           "landcolor": "#E5ECF6",
           "showlakes": true,
           "showland": true,
           "subunitcolor": "white"
          },
          "hoverlabel": {
           "align": "left"
          },
          "hovermode": "closest",
          "mapbox": {
           "style": "light"
          },
          "paper_bgcolor": "white",
          "plot_bgcolor": "#E5ECF6",
          "polar": {
           "angularaxis": {
            "gridcolor": "white",
            "linecolor": "white",
            "ticks": ""
           },
           "bgcolor": "#E5ECF6",
           "radialaxis": {
            "gridcolor": "white",
            "linecolor": "white",
            "ticks": ""
           }
          },
          "scene": {
           "xaxis": {
            "backgroundcolor": "#E5ECF6",
            "gridcolor": "white",
            "gridwidth": 2,
            "linecolor": "white",
            "showbackground": true,
            "ticks": "",
            "zerolinecolor": "white"
           },
           "yaxis": {
            "backgroundcolor": "#E5ECF6",
            "gridcolor": "white",
            "gridwidth": 2,
            "linecolor": "white",
            "showbackground": true,
            "ticks": "",
            "zerolinecolor": "white"
           },
           "zaxis": {
            "backgroundcolor": "#E5ECF6",
            "gridcolor": "white",
            "gridwidth": 2,
            "linecolor": "white",
            "showbackground": true,
            "ticks": "",
            "zerolinecolor": "white"
           }
          },
          "shapedefaults": {
           "line": {
            "color": "#2a3f5f"
           }
          },
          "ternary": {
           "aaxis": {
            "gridcolor": "white",
            "linecolor": "white",
            "ticks": ""
           },
           "baxis": {
            "gridcolor": "white",
            "linecolor": "white",
            "ticks": ""
           },
           "bgcolor": "#E5ECF6",
           "caxis": {
            "gridcolor": "white",
            "linecolor": "white",
            "ticks": ""
           }
          },
          "title": {
           "x": 0.05
          },
          "xaxis": {
           "automargin": true,
           "gridcolor": "white",
           "linecolor": "white",
           "ticks": "",
           "title": {
            "standoff": 15
           },
           "zerolinecolor": "white",
           "zerolinewidth": 2
          },
          "yaxis": {
           "automargin": true,
           "gridcolor": "white",
           "linecolor": "white",
           "ticks": "",
           "title": {
            "standoff": 15
           },
           "zerolinecolor": "white",
           "zerolinewidth": 2
          }
         }
        },
        "title": {
         "text": "AQI IN DIFFERENT YEARS"
        },
        "xaxis": {
         "anchor": "y",
         "domain": [
          0,
          0.2888888888888889
         ]
        },
        "xaxis2": {
         "anchor": "y2",
         "domain": [
          0.35555555555555557,
          0.6444444444444445
         ]
        },
        "xaxis3": {
         "anchor": "y3",
         "domain": [
          0.7111111111111111,
          1
         ]
        },
        "xaxis4": {
         "anchor": "y4",
         "domain": [
          0,
          0.2888888888888889
         ]
        },
        "xaxis5": {
         "anchor": "y5",
         "domain": [
          0.35555555555555557,
          0.6444444444444445
         ]
        },
        "xaxis6": {
         "anchor": "y6",
         "domain": [
          0.7111111111111111,
          1
         ]
        },
        "yaxis": {
         "anchor": "x",
         "domain": [
          0.625,
          1
         ]
        },
        "yaxis2": {
         "anchor": "x2",
         "domain": [
          0.625,
          1
         ]
        },
        "yaxis3": {
         "anchor": "x3",
         "domain": [
          0.625,
          1
         ]
        },
        "yaxis4": {
         "anchor": "x4",
         "domain": [
          0,
          0.375
         ]
        },
        "yaxis5": {
         "anchor": "x5",
         "domain": [
          0,
          0.375
         ]
        },
        "yaxis6": {
         "anchor": "x6",
         "domain": [
          0,
          0.375
         ]
        }
       }
      },
      "text/html": [
       "<div>                            <div id=\"bfba120c-66bb-46eb-b2a2-c82573ae87f9\" class=\"plotly-graph-div\" style=\"height:700px; width:100%;\"></div>            <script type=\"text/javascript\">                require([\"plotly\"], function(Plotly) {                    window.PLOTLYENV=window.PLOTLYENV || {};                                    if (document.getElementById(\"bfba120c-66bb-46eb-b2a2-c82573ae87f9\")) {                    Plotly.newPlot(                        \"bfba120c-66bb-46eb-b2a2-c82573ae87f9\",                        [{\"mode\":\"lines+markers\",\"name\":\"2016\",\"x\":[\"2016-01-01T00:00:00\",\"2016-01-02T00:00:00\",\"2016-01-03T00:00:00\",\"2016-01-04T00:00:00\",\"2016-01-05T00:00:00\",\"2016-01-06T00:00:00\",\"2016-01-07T00:00:00\",\"2016-01-08T00:00:00\",\"2016-01-09T00:00:00\",\"2016-01-10T00:00:00\",\"2016-01-11T00:00:00\",\"2016-01-12T00:00:00\",\"2016-01-13T00:00:00\",\"2016-01-14T00:00:00\",\"2016-01-15T00:00:00\",\"2016-01-16T00:00:00\",\"2016-01-17T00:00:00\",\"2016-01-18T00:00:00\",\"2016-01-19T00:00:00\",\"2016-01-20T00:00:00\",\"2016-01-21T00:00:00\",\"2016-01-22T00:00:00\",\"2016-01-23T00:00:00\",\"2016-01-24T00:00:00\",\"2016-01-25T00:00:00\",\"2016-01-26T00:00:00\",\"2016-01-27T00:00:00\",\"2016-01-28T00:00:00\",\"2016-01-29T00:00:00\",\"2016-01-30T00:00:00\",\"2016-01-31T00:00:00\",\"2016-02-01T00:00:00\",\"2016-02-02T00:00:00\",\"2016-02-03T00:00:00\",\"2016-02-04T00:00:00\",\"2016-02-05T00:00:00\",\"2016-02-06T00:00:00\",\"2016-02-07T00:00:00\",\"2016-02-08T00:00:00\",\"2016-02-09T00:00:00\",\"2016-02-10T00:00:00\",\"2016-02-11T00:00:00\",\"2016-02-12T00:00:00\",\"2016-02-13T00:00:00\",\"2016-02-14T00:00:00\",\"2016-02-15T00:00:00\",\"2016-02-16T00:00:00\",\"2016-02-17T00:00:00\",\"2016-02-18T00:00:00\",\"2016-02-19T00:00:00\",\"2016-02-20T00:00:00\",\"2016-02-21T00:00:00\",\"2016-02-22T00:00:00\",\"2016-02-23T00:00:00\",\"2016-02-24T00:00:00\",\"2016-02-25T00:00:00\",\"2016-02-26T00:00:00\",\"2016-02-27T00:00:00\",\"2016-02-28T00:00:00\",\"2016-02-29T00:00:00\",\"2016-03-01T00:00:00\",\"2016-03-02T00:00:00\",\"2016-03-03T00:00:00\",\"2016-03-04T00:00:00\",\"2016-03-05T00:00:00\",\"2016-03-06T00:00:00\",\"2016-03-07T00:00:00\",\"2016-03-08T00:00:00\",\"2016-03-09T00:00:00\",\"2016-03-10T00:00:00\",\"2016-03-11T00:00:00\",\"2016-03-12T00:00:00\",\"2016-03-13T00:00:00\",\"2016-03-14T00:00:00\",\"2016-03-15T00:00:00\",\"2016-03-16T00:00:00\",\"2016-03-17T00:00:00\",\"2016-03-18T00:00:00\",\"2016-03-19T00:00:00\",\"2016-03-20T00:00:00\",\"2016-03-21T00:00:00\",\"2016-03-22T00:00:00\",\"2016-03-23T00:00:00\",\"2016-03-24T00:00:00\",\"2016-03-25T00:00:00\",\"2016-03-26T00:00:00\",\"2016-03-27T00:00:00\",\"2016-03-28T00:00:00\",\"2016-03-29T00:00:00\",\"2016-03-30T00:00:00\",\"2016-03-31T00:00:00\",\"2016-04-01T00:00:00\",\"2016-04-02T00:00:00\",\"2016-04-03T00:00:00\",\"2016-04-04T00:00:00\",\"2016-04-05T00:00:00\",\"2016-04-06T00:00:00\",\"2016-04-07T00:00:00\",\"2016-04-08T00:00:00\",\"2016-04-09T00:00:00\",\"2016-04-10T00:00:00\",\"2016-04-11T00:00:00\",\"2016-04-12T00:00:00\",\"2016-04-13T00:00:00\",\"2016-04-14T00:00:00\",\"2016-04-15T00:00:00\",\"2016-04-16T00:00:00\",\"2016-04-17T00:00:00\",\"2016-04-18T00:00:00\",\"2016-04-19T00:00:00\",\"2016-04-20T00:00:00\",\"2016-04-21T00:00:00\",\"2016-04-22T00:00:00\",\"2016-04-23T00:00:00\",\"2016-04-24T00:00:00\",\"2016-04-25T00:00:00\",\"2016-04-26T00:00:00\",\"2016-04-27T00:00:00\",\"2016-04-28T00:00:00\",\"2016-04-29T00:00:00\",\"2016-04-30T00:00:00\",\"2016-05-01T00:00:00\",\"2016-05-02T00:00:00\",\"2016-05-03T00:00:00\",\"2016-05-04T00:00:00\",\"2016-05-05T00:00:00\",\"2016-05-06T00:00:00\",\"2016-05-07T00:00:00\",\"2016-05-08T00:00:00\",\"2016-05-09T00:00:00\",\"2016-05-10T00:00:00\",\"2016-05-11T00:00:00\",\"2016-05-12T00:00:00\",\"2016-05-13T00:00:00\",\"2016-05-14T00:00:00\",\"2016-05-15T00:00:00\",\"2016-05-16T00:00:00\",\"2016-05-17T00:00:00\",\"2016-05-18T00:00:00\",\"2016-05-19T00:00:00\",\"2016-05-20T00:00:00\",\"2016-05-21T00:00:00\",\"2016-05-22T00:00:00\",\"2016-05-23T00:00:00\",\"2016-05-24T00:00:00\",\"2016-05-25T00:00:00\",\"2016-05-26T00:00:00\",\"2016-05-27T00:00:00\",\"2016-05-28T00:00:00\",\"2016-05-29T00:00:00\",\"2016-05-30T00:00:00\",\"2016-05-31T00:00:00\",\"2016-06-01T00:00:00\",\"2016-06-02T00:00:00\",\"2016-06-03T00:00:00\",\"2016-06-04T00:00:00\",\"2016-06-05T00:00:00\",\"2016-06-06T00:00:00\",\"2016-06-07T00:00:00\",\"2016-06-08T00:00:00\",\"2016-06-09T00:00:00\",\"2016-06-10T00:00:00\",\"2016-06-11T00:00:00\",\"2016-06-12T00:00:00\",\"2016-06-13T00:00:00\",\"2016-06-14T00:00:00\",\"2016-06-15T00:00:00\",\"2016-06-16T00:00:00\",\"2016-06-17T00:00:00\",\"2016-06-18T00:00:00\",\"2016-06-19T00:00:00\",\"2016-06-20T00:00:00\",\"2016-06-21T00:00:00\",\"2016-06-22T00:00:00\",\"2016-06-23T00:00:00\",\"2016-06-24T00:00:00\",\"2016-06-25T00:00:00\",\"2016-06-26T00:00:00\",\"2016-06-27T00:00:00\",\"2016-06-28T00:00:00\",\"2016-06-29T00:00:00\",\"2016-06-30T00:00:00\",\"2016-07-01T00:00:00\",\"2016-07-02T00:00:00\",\"2016-07-03T00:00:00\",\"2016-07-04T00:00:00\",\"2016-07-05T00:00:00\",\"2016-07-06T00:00:00\",\"2016-07-07T00:00:00\",\"2016-07-08T00:00:00\",\"2016-07-09T00:00:00\",\"2016-07-10T00:00:00\",\"2016-07-11T00:00:00\",\"2016-07-12T00:00:00\",\"2016-07-13T00:00:00\",\"2016-07-14T00:00:00\",\"2016-07-15T00:00:00\",\"2016-07-16T00:00:00\",\"2016-07-17T00:00:00\",\"2016-07-18T00:00:00\",\"2016-07-19T00:00:00\",\"2016-07-20T00:00:00\",\"2016-07-21T00:00:00\",\"2016-07-22T00:00:00\",\"2016-07-23T00:00:00\",\"2016-07-24T00:00:00\",\"2016-07-25T00:00:00\",\"2016-07-26T00:00:00\",\"2016-07-27T00:00:00\",\"2016-07-28T00:00:00\",\"2016-07-29T00:00:00\",\"2016-07-30T00:00:00\",\"2016-07-31T00:00:00\",\"2016-08-01T00:00:00\",\"2016-08-02T00:00:00\",\"2016-08-03T00:00:00\",\"2016-08-04T00:00:00\",\"2016-08-05T00:00:00\",\"2016-08-06T00:00:00\",\"2016-08-07T00:00:00\",\"2016-08-08T00:00:00\",\"2016-08-09T00:00:00\",\"2016-08-10T00:00:00\",\"2016-08-11T00:00:00\",\"2016-08-12T00:00:00\",\"2016-08-13T00:00:00\",\"2016-08-14T00:00:00\",\"2016-08-15T00:00:00\",\"2016-08-16T00:00:00\",\"2016-08-17T00:00:00\",\"2016-08-18T00:00:00\",\"2016-08-19T00:00:00\",\"2016-08-20T00:00:00\",\"2016-08-21T00:00:00\",\"2016-08-22T00:00:00\",\"2016-08-23T00:00:00\",\"2016-08-24T00:00:00\",\"2016-08-25T00:00:00\",\"2016-08-26T00:00:00\",\"2016-08-27T00:00:00\",\"2016-08-28T00:00:00\",\"2016-08-29T00:00:00\",\"2016-08-30T00:00:00\",\"2016-08-31T00:00:00\",\"2016-09-01T00:00:00\",\"2016-09-02T00:00:00\",\"2016-09-03T00:00:00\",\"2016-09-04T00:00:00\",\"2016-09-05T00:00:00\",\"2016-09-06T00:00:00\",\"2016-09-07T00:00:00\",\"2016-09-08T00:00:00\",\"2016-09-09T00:00:00\",\"2016-09-10T00:00:00\",\"2016-09-11T00:00:00\",\"2016-09-12T00:00:00\",\"2016-09-13T00:00:00\",\"2016-09-14T00:00:00\",\"2016-09-15T00:00:00\",\"2016-09-16T00:00:00\",\"2016-09-17T00:00:00\",\"2016-09-18T00:00:00\",\"2016-09-19T00:00:00\",\"2016-09-20T00:00:00\",\"2016-09-21T00:00:00\",\"2016-09-22T00:00:00\",\"2016-09-23T00:00:00\",\"2016-09-24T00:00:00\",\"2016-09-25T00:00:00\",\"2016-09-26T00:00:00\",\"2016-09-27T00:00:00\",\"2016-09-28T00:00:00\",\"2016-09-29T00:00:00\",\"2016-09-30T00:00:00\",\"2016-10-01T00:00:00\",\"2016-10-02T00:00:00\",\"2016-10-03T00:00:00\",\"2016-10-04T00:00:00\",\"2016-10-05T00:00:00\",\"2016-10-06T00:00:00\",\"2016-10-07T00:00:00\",\"2016-10-08T00:00:00\",\"2016-10-09T00:00:00\",\"2016-10-10T00:00:00\",\"2016-10-11T00:00:00\",\"2016-10-12T00:00:00\",\"2016-10-13T00:00:00\",\"2016-10-14T00:00:00\",\"2016-10-15T00:00:00\",\"2016-10-16T00:00:00\",\"2016-10-17T00:00:00\",\"2016-10-18T00:00:00\",\"2016-10-19T00:00:00\",\"2016-10-20T00:00:00\",\"2016-10-21T00:00:00\",\"2016-10-22T00:00:00\",\"2016-10-23T00:00:00\",\"2016-10-24T00:00:00\",\"2016-10-25T00:00:00\",\"2016-10-26T00:00:00\",\"2016-10-27T00:00:00\",\"2016-10-28T00:00:00\",\"2016-10-29T00:00:00\",\"2016-10-30T00:00:00\",\"2016-10-31T00:00:00\",\"2016-11-01T00:00:00\",\"2016-11-02T00:00:00\",\"2016-11-03T00:00:00\",\"2016-11-04T00:00:00\",\"2016-11-05T00:00:00\",\"2016-11-06T00:00:00\",\"2016-11-07T00:00:00\",\"2016-11-08T00:00:00\",\"2016-11-09T00:00:00\",\"2016-11-10T00:00:00\",\"2016-11-11T00:00:00\",\"2016-11-12T00:00:00\",\"2016-11-13T00:00:00\",\"2016-11-14T00:00:00\",\"2016-11-15T00:00:00\",\"2016-11-16T00:00:00\",\"2016-11-17T00:00:00\",\"2016-11-18T00:00:00\",\"2016-11-19T00:00:00\",\"2016-11-20T00:00:00\",\"2016-11-21T00:00:00\",\"2016-11-22T00:00:00\",\"2016-11-23T00:00:00\",\"2016-11-24T00:00:00\",\"2016-11-25T00:00:00\",\"2016-11-26T00:00:00\",\"2016-11-27T00:00:00\",\"2016-11-28T00:00:00\",\"2016-11-29T00:00:00\",\"2016-11-30T00:00:00\",\"2016-12-01T00:00:00\",\"2016-12-02T00:00:00\",\"2016-12-03T00:00:00\",\"2016-12-04T00:00:00\",\"2016-12-05T00:00:00\",\"2016-12-06T00:00:00\",\"2016-12-07T00:00:00\",\"2016-12-08T00:00:00\",\"2016-12-09T00:00:00\",\"2016-12-10T00:00:00\",\"2016-12-11T00:00:00\",\"2016-12-12T00:00:00\",\"2016-12-13T00:00:00\",\"2016-12-14T00:00:00\",\"2016-12-15T00:00:00\",\"2016-12-16T00:00:00\",\"2016-12-17T00:00:00\",\"2016-12-18T00:00:00\",\"2016-12-19T00:00:00\",\"2016-12-20T00:00:00\",\"2016-12-21T00:00:00\",\"2016-12-22T00:00:00\",\"2016-12-23T00:00:00\",\"2016-12-24T00:00:00\",\"2016-12-25T00:00:00\",\"2016-12-26T00:00:00\",\"2016-12-27T00:00:00\",\"2016-12-28T00:00:00\",\"2016-12-29T00:00:00\",\"2016-12-30T00:00:00\",\"2016-12-31T00:00:00\"],\"y\":[101.0,92.0,108.0,109.0,114.0,121.0,116.0,117.0,143.0,168.0,122.0,122.0,146.0,152.0,119.0,130.0,253.0,219.0,146.0,170.0,117.0,113.0,146.0,102.0,98.0,104.0,91.0,118.0,175.0,149.0,183.0,184.0,156.0,153.0,141.0,139.0,154.0,199.0,182.0,175.0,191.0,203.0,154.0,160.0,136.0,107.0,88.0,105.0,111.0,117.0,113.0,115.0,145.0,177.0,198.0,165.0,124.0,88.0,88.0,105.0,118.0,132.0,121.0,136.0,153.0,135.0,111.0,135.0,123.0,146.0,155.0,144.0,149.0,158.0,175.0,139.0,145.0,151.0,158.0,253.0,264.0,155.0,137.0,119.0,137.0,149.0,156.0,123.0,118.0,107.0,111.0,106.0,112.0,110.0,114.0,118.0,154.0,179.0,102.0,170.0,112.0,138.0,121.0,118.0,171.0,156.0,140.0,114.0,138.0,137.0,134.0,119.0,98.0,107.0,150.0,94.0,85.0,115.0,74.0,88.0,86.0,87.0,99.0,80.0,102.0,76.0,59.0,67.0,107.0,95.0,72.0,91.0,88.0,86.0,78.0,65.0,50.0,74.0,47.0,46.0,48.0,35.0,83.0,173.0,50.0,37.0,33.0,38.0,38.0,27.0,26.0,47.0,49.0,43.0,29.0,30.0,33.0,26.0,23.0,20.0,null,20.0,20.0,23.0,26.0,23.0,26.0,40.0,28.0,156.0,195.0,137.0,71.0,77.0,143.0,181.0,31.0,null,33.0,151.0,174.0,154.0,208.0,192.0,238.0,160.0,83.0,56.0,141.0,43.0,65.0,30.0,40.0,54.0,41.0,42.0,54.0,61.0,70.0,62.0,308.0,null,null,null,82.0,null,null,null,36.0,36.0,55.0,58.0,37.0,72.0,33.0,53.0,64.0,null,null,null,null,null,null,null,46.0,37.0,38.0,49.0,71.0,229.0,68.0,64.0,62.0,66.0,45.0,66.0,71.0,75.0,62.0,77.0,48.0,47.0,57.0,49.0,57.0,74.0,68.0,71.0,55.0,59.0,60.0,55.0,68.0,84.0,64.0,60.0,60.0,60.0,74.0,66.0,70.0,78.0,58.0,47.0,40.0,58.0,76.0,102.0,84.0,90.0,85.0,83.0,114.0,150.0,124.0,104.0,114.0,111.0,101.0,89.0,103.0,91.0,83.0,129.0,78.0,75.0,141.0,69.0,58.0,73.0,85.0,183.0,85.0,75.0,132.0,176.0,184.0,127.0,163.0,164.0,132.0,116.0,174.0,188.0,88.0,51.0,57.0,82.0,88.0,111.0,90.0,78.0,94.0,95.0,112.0,124.0,122.0,99.0,44.0,38.0,102.0,189.0,101.0,86.0,95.0,120.0,101.0,335.0,140.0,133.0,113.0,117.0,124.0,120.0,160.0,114.0,103.0,67.0,125.0,209.0,200.0,101.0,85.0,163.0,75.0,132.0,119.0,342.0,104.0,93.0,134.0,103.0,90.0,97.0,93.0,74.0,75.0,100.0,112.0,114.0,104.0,90.0,84.0,76.0,93.0,106.0],\"type\":\"scatter\",\"xaxis\":\"x2\",\"yaxis\":\"y2\"},{\"mode\":\"lines+markers\",\"name\":\"2017\",\"x\":[\"2017-01-01\",\"2017-01-02\",\"2017-01-03\",\"2017-01-04\",\"2017-01-05\",\"2017-01-06\",\"2017-01-07\",\"2017-01-08\",\"2017-01-09\",\"2017-01-10\",\"2017-01-11\",\"2017-01-12\",\"2017-01-13\",\"2017-01-14\",\"2017-01-15\",\"2017-01-16\",\"2017-01-17\",\"2017-01-18\",\"2017-01-19\",\"2017-01-20\",\"2017-01-21\",\"2017-01-22\",\"2017-01-23\",\"2017-01-24\",\"2017-01-25\",\"2017-01-26\",\"2017-01-27\",\"2017-01-28\",\"2017-01-29\",\"2017-01-30\",\"2017-01-31\",\"2017-02-01\",\"2017-02-02\",\"2017-02-03\",\"2017-02-04\",\"2017-02-05\",\"2017-02-06\",\"2017-02-07\",\"2017-02-08\",\"2017-02-09\",\"2017-02-10\",\"2017-02-11\",\"2017-02-12\",\"2017-02-13\",\"2017-02-14\",\"2017-02-15\",\"2017-02-16\",\"2017-02-17\",\"2017-02-18\",\"2017-02-19\",\"2017-02-20\",\"2017-02-21\",\"2017-02-22\",\"2017-02-23\",\"2017-02-24\",\"2017-02-25\",\"2017-02-26\",\"2017-02-27\",\"2017-02-28\",\"2017-03-01\",\"2017-03-02\",\"2017-03-03\",\"2017-03-04\",\"2017-03-05\",\"2017-03-06\",\"2017-03-07\",\"2017-03-08\",\"2017-03-09\",\"2017-03-10\",\"2017-03-11\",\"2017-03-12\",\"2017-03-13\",\"2017-03-14\",\"2017-03-15\",\"2017-03-16\",\"2017-03-17\",\"2017-03-18\",\"2017-03-19\",\"2017-03-20\",\"2017-03-21\",\"2017-03-22\",\"2017-03-23\",\"2017-03-24\",\"2017-03-25\",\"2017-03-26\",\"2017-03-27\",\"2017-03-28\",\"2017-03-29\",\"2017-03-30\",\"2017-03-31\",\"2017-04-01\",\"2017-04-02\",\"2017-04-03\",\"2017-04-04\",\"2017-04-05\",\"2017-04-06\",\"2017-04-07\",\"2017-04-08\",\"2017-04-09\",\"2017-04-10\",\"2017-04-11\",\"2017-04-12\",\"2017-04-13\",\"2017-04-14\",\"2017-04-15\",\"2017-04-16\",\"2017-04-17\",\"2017-04-18\",\"2017-04-19\",\"2017-04-20\",\"2017-04-21\",\"2017-04-22\",\"2017-04-23\",\"2017-04-24\",\"2017-04-25\",\"2017-04-26\",\"2017-04-27\",\"2017-04-28\",\"2017-04-29\",\"2017-04-30\",\"2017-05-01\",\"2017-05-02\",\"2017-05-03\",\"2017-05-04\",\"2017-05-05\",\"2017-05-06\",\"2017-05-07\",\"2017-05-08\",\"2017-05-09\",\"2017-05-10\",\"2017-05-11\",\"2017-05-12\",\"2017-05-13\",\"2017-05-14\",\"2017-05-15\",\"2017-05-16\",\"2017-05-17\",\"2017-05-18\",\"2017-05-19\",\"2017-05-20\",\"2017-05-21\",\"2017-05-22\",\"2017-05-23\",\"2017-05-24\",\"2017-05-25\",\"2017-05-26\",\"2017-05-27\",\"2017-05-28\",\"2017-05-29\",\"2017-05-30\",\"2017-05-31\",\"2017-06-01\",\"2017-06-02\",\"2017-06-03\",\"2017-06-04\",\"2017-06-05\",\"2017-06-06\",\"2017-06-07\",\"2017-06-08\",\"2017-06-09\",\"2017-06-10\",\"2017-06-11\",\"2017-06-12\",\"2017-06-13\",\"2017-06-14\",\"2017-06-15\",\"2017-06-16\",\"2017-06-17\",\"2017-06-18\",\"2017-06-19\",\"2017-06-20\",\"2017-06-21\",\"2017-06-22\",\"2017-06-23\",\"2017-06-24\",\"2017-06-25\",\"2017-06-26\",\"2017-06-27\",\"2017-06-28\",\"2017-06-29\",\"2017-06-30\",\"2017-07-01\",\"2017-07-02\",\"2017-07-03\",\"2017-07-04\",\"2017-07-05\",\"2017-07-06\",\"2017-07-07\",\"2017-07-08\",\"2017-07-09\",\"2017-07-10\",\"2017-07-11\",\"2017-07-12\",\"2017-07-13\",\"2017-07-14\",\"2017-07-15\",\"2017-07-16\",\"2017-07-17\",\"2017-07-18\",\"2017-07-19\",\"2017-07-20\",\"2017-07-21\",\"2017-07-22\",\"2017-07-23\",\"2017-07-24\",\"2017-07-25\",\"2017-07-26\",\"2017-07-27\",\"2017-07-28\",\"2017-07-29\",\"2017-07-30\",\"2017-07-31\",\"2017-08-01\",\"2017-08-02\",\"2017-08-03\",\"2017-08-04\",\"2017-08-05\",\"2017-08-06\",\"2017-08-07\",\"2017-08-08\",\"2017-08-09\",\"2017-08-10\",\"2017-08-11\",\"2017-08-12\",\"2017-08-13\",\"2017-08-14\",\"2017-08-15\",\"2017-08-16\",\"2017-08-17\",\"2017-08-18\",\"2017-08-19\",\"2017-08-20\",\"2017-08-21\",\"2017-08-22\",\"2017-08-23\",\"2017-08-24\",\"2017-08-25\",\"2017-08-26\",\"2017-08-27\",\"2017-08-28\",\"2017-08-29\",\"2017-08-30\",\"2017-08-31\",\"2017-09-01\",\"2017-09-02\",\"2017-09-03\",\"2017-09-04\",\"2017-09-05\",\"2017-09-06\",\"2017-09-07\",\"2017-09-08\",\"2017-09-09\",\"2017-09-10\",\"2017-09-11\",\"2017-09-12\",\"2017-09-13\",\"2017-09-14\",\"2017-09-15\",\"2017-09-16\",\"2017-09-17\",\"2017-09-18\",\"2017-09-19\",\"2017-09-20\",\"2017-09-21\",\"2017-09-22\",\"2017-09-23\",\"2017-09-24\",\"2017-09-25\",\"2017-09-26\",\"2017-09-27\",\"2017-09-28\",\"2017-09-29\",\"2017-09-30\",\"2017-10-01\",\"2017-10-02\",\"2017-10-03\",\"2017-10-04\",\"2017-10-05\",\"2017-10-06\",\"2017-10-07\",\"2017-10-08\",\"2017-10-09\",\"2017-10-10\",\"2017-10-11\",\"2017-10-12\",\"2017-10-13\",\"2017-10-14\",\"2017-10-15\",\"2017-10-16\",\"2017-10-17\",\"2017-10-18\",\"2017-10-19\",\"2017-10-20\",\"2017-10-21\",\"2017-10-22\",\"2017-10-23\",\"2017-10-24\",\"2017-10-25\",\"2017-10-26\",\"2017-10-27\",\"2017-10-28\",\"2017-10-29\",\"2017-10-30\",\"2017-10-31\",\"2017-11-01\",\"2017-11-02\",\"2017-11-03\",\"2017-11-04\",\"2017-11-05\",\"2017-11-06\",\"2017-11-07\",\"2017-11-08\",\"2017-11-09\",\"2017-11-10\",\"2017-11-11\",\"2017-11-12\",\"2017-11-13\",\"2017-11-14\",\"2017-11-15\",\"2017-11-16\",\"2017-11-17\",\"2017-11-18\",\"2017-11-19\",\"2017-11-20\",\"2017-11-21\",\"2017-11-22\",\"2017-11-23\",\"2017-11-24\",\"2017-11-25\",\"2017-11-26\",\"2017-11-27\",\"2017-11-28\",\"2017-11-29\",\"2017-11-30\",\"2017-12-01\",\"2017-12-02\",\"2017-12-03\",\"2017-12-04\",\"2017-12-05\",\"2017-12-06\",\"2017-12-07\",\"2017-12-08\",\"2017-12-09\",\"2017-12-10\",\"2017-12-11\",\"2017-12-12\",\"2017-12-13\",\"2017-12-14\",\"2017-12-15\",\"2017-12-16\",\"2017-12-17\",\"2017-12-18\",\"2017-12-19\",\"2017-12-20\",\"2017-12-21\",\"2017-12-22\",\"2017-12-23\",\"2017-12-24\",\"2017-12-25\",\"2017-12-26\",\"2017-12-27\",\"2017-12-28\",\"2017-12-29\",\"2017-12-30\",\"2017-12-31\"],\"y\":[332.0,384.0,373.0,439.0,318.0,390.0,332.0,283.0,300.0,305.0,337.0,417.0,426.0,439.0,382.0,397.0,330.0,358.0,376.0,334.0,387.0,446.0,379.0,375.0,450.0,340.0,203.0,236.0,252.0,302.0,358.0,317.0,387.0,438.0,407.0,312.0,367.0,263.0,287.0,346.0,314.0,314.0,314.0,298.0,319.0,382.0,352.0,309.0,301.0,274.0,313.0,310.0,258.0,238.0,449.0,516.0,520.0,363.0,362.0,397.0,280.0,206.0,190.0,210.0,201.0,243.0,267.0,245.0,165.0,102.0,159.0,174.0,270.0,397.0,371.0,328.0,254.0,342.0,367.0,400.0,390.0,417.0,359.0,309.0,292.0,278.0,320.0,350.0,234.0,233.0,341.0,259.0,204.0,220.0,255.0,211.0,428.0,497.0,289.0,285.0,368.0,304.0,377.0,418.0,355.0,416.0,403.0,415.0,412.0,394.0,357.0,291.0,244.0,287.0,254.0,242.0,223.0,243.0,237.0,275.0,183.0,370.0,419.0,317.0,455.0,435.0,468.0,442.0,400.0,223.0,220.0,474.0,479.0,373.0,354.0,349.0,264.0,188.0,294.0,334.0,505.0,349.0,421.0,238.0,204.0,289.0,236.0,148.0,94.0,130.0,123.0,192.0,324.0,357.0,393.0,302.0,239.0,210.0,77.0,89.0,143.0,80.0,92.0,112.0,117.0,101.0,106.0,88.0,94.0,150.0,97.0,109.0,124.0,null,111.0,148.0,108.0,73.0,58.0,58.0,46.0,84.0,54.0,49.0,149.0,212.0,85.0,77.0,65.0,108.0,78.0,59.0,47.0,39.0,40.0,56.0,65.0,71.0,97.0,118.0,116.0,53.0,30.0,37.0,35.0,37.0,32.0,41.0,42.0,47.0,30.0,29.0,44.0,40.0,49.0,50.0,88.0,99.0,110.0,68.0,73.0,95.0,58.0,45.0,null,null,59.0,53.0,66.0,70.0,70.0,63.0,42.0,null,null,58.0,104.0,null,null,null,null,73.0,94.0,91.0,88.0,88.0,89.0,88.0,88.0,88.0,106.0,96.0,118.0,119.0,106.0,115.0,142.0,169.0,110.0,106.0,99.0,109.0,137.0,144.0,92.0,83.0,84.0,104.0,131.0,165.0,176.0,172.0,137.0,131.0,132.0,115.0,151.0,180.0,183.0,193.0,224.0,268.0,253.0,208.0,211.0,246.0,319.0,317.0,310.0,313.0,310.0,336.0,497.0,404.0,338.0,327.0,366.0,357.0,328.0,345.0,379.0,362.0,340.0,366.0,344.0,305.0,310.0,345.0,370.0,377.0,532.0,675.0,677.0,597.0,471.0,613.0,561.0,444.0,378.0,357.0,330.0,309.0,297.0,329.0,341.0,348.0,340.0,348.0,347.0,368.0,382.0,360.0,359.0,388.0,377.0,356.0,384.0,415.0,404.0,330.0,215.0,220.0,312.0,389.0,406.0,280.0,263.0,276.0,292.0,228.0,195.0,223.0,291.0,378.0,467.0,370.0,253.0,309.0,398.0,372.0,379.0,398.0,399.0,421.0,451.0],\"type\":\"scatter\",\"xaxis\":\"x3\",\"yaxis\":\"y3\"},{\"mode\":\"lines+markers\",\"name\":\"2018\",\"x\":[\"2018-01-01\",\"2018-01-02\",\"2018-01-03\",\"2018-01-04\",\"2018-01-05\",\"2018-01-06\",\"2018-01-07\",\"2018-01-08\",\"2018-01-09\",\"2018-01-10\",\"2018-01-11\",\"2018-01-12\",\"2018-01-13\",\"2018-01-14\",\"2018-01-15\",\"2018-01-16\",\"2018-01-17\",\"2018-01-18\",\"2018-01-19\",\"2018-01-20\",\"2018-01-21\",\"2018-01-22\",\"2018-01-23\",\"2018-01-24\",\"2018-01-25\",\"2018-01-26\",\"2018-01-27\",\"2018-01-28\",\"2018-01-29\",\"2018-01-30\",\"2018-01-31\",\"2018-02-01\",\"2018-02-02\",\"2018-02-03\",\"2018-02-04\",\"2018-02-05\",\"2018-02-06\",\"2018-02-07\",\"2018-02-08\",\"2018-02-09\",\"2018-02-10\",\"2018-02-11\",\"2018-02-12\",\"2018-02-13\",\"2018-02-14\",\"2018-02-15\",\"2018-02-16\",\"2018-02-17\",\"2018-02-18\",\"2018-02-19\",\"2018-02-20\",\"2018-02-21\",\"2018-02-22\",\"2018-02-23\",\"2018-02-24\",\"2018-02-25\",\"2018-02-26\",\"2018-02-27\",\"2018-02-28\",\"2018-03-01\",\"2018-03-02\",\"2018-03-03\",\"2018-03-04\",\"2018-03-05\",\"2018-03-06\",\"2018-03-07\",\"2018-03-08\",\"2018-03-09\",\"2018-03-10\",\"2018-03-11\",\"2018-03-12\",\"2018-03-13\",\"2018-03-14\",\"2018-03-15\",\"2018-03-16\",\"2018-03-17\",\"2018-03-18\",\"2018-03-19\",\"2018-03-20\",\"2018-03-21\",\"2018-03-22\",\"2018-03-23\",\"2018-03-24\",\"2018-03-25\",\"2018-03-26\",\"2018-03-27\",\"2018-03-28\",\"2018-03-29\",\"2018-03-30\",\"2018-03-31\",\"2018-04-01\",\"2018-04-02\",\"2018-04-03\",\"2018-04-04\",\"2018-04-05\",\"2018-04-06\",\"2018-04-07\",\"2018-04-08\",\"2018-04-09\",\"2018-04-10\",\"2018-04-11\",\"2018-04-12\",\"2018-04-13\",\"2018-04-14\",\"2018-04-15\",\"2018-04-16\",\"2018-04-17\",\"2018-04-18\",\"2018-04-19\",\"2018-04-20\",\"2018-04-21\",\"2018-04-22\",\"2018-04-23\",\"2018-04-24\",\"2018-04-25\",\"2018-04-26\",\"2018-04-27\",\"2018-04-28\",\"2018-04-29\",\"2018-04-30\",\"2018-05-01\",\"2018-05-02\",\"2018-05-03\",\"2018-05-04\",\"2018-05-05\",\"2018-05-06\",\"2018-05-07\",\"2018-05-08\",\"2018-05-09\",\"2018-05-10\",\"2018-05-11\",\"2018-05-12\",\"2018-05-13\",\"2018-05-14\",\"2018-05-15\",\"2018-05-16\",\"2018-05-17\",\"2018-05-18\",\"2018-05-19\",\"2018-05-20\",\"2018-05-21\",\"2018-05-22\",\"2018-05-23\",\"2018-05-24\",\"2018-05-25\",\"2018-05-26\",\"2018-05-27\",\"2018-05-28\",\"2018-05-29\",\"2018-05-30\",\"2018-05-31\",\"2018-06-01\",\"2018-06-02\",\"2018-06-03\",\"2018-06-04\",\"2018-06-05\",\"2018-06-06\",\"2018-06-07\",\"2018-06-08\",\"2018-06-09\",\"2018-06-10\",\"2018-06-11\",\"2018-06-12\",\"2018-06-13\",\"2018-06-14\",\"2018-06-15\",\"2018-06-16\",\"2018-06-17\",\"2018-06-18\",\"2018-06-19\",\"2018-06-20\",\"2018-06-21\",\"2018-06-22\",\"2018-06-23\",\"2018-06-24\",\"2018-06-25\",\"2018-06-26\",\"2018-06-27\",\"2018-06-28\",\"2018-06-29\",\"2018-06-30\",\"2018-07-01\",\"2018-07-02\",\"2018-07-03\",\"2018-07-04\",\"2018-07-05\",\"2018-07-06\",\"2018-07-07\",\"2018-07-08\",\"2018-07-09\",\"2018-07-10\",\"2018-07-11\",\"2018-07-12\",\"2018-07-13\",\"2018-07-14\",\"2018-07-15\",\"2018-07-16\",\"2018-07-17\",\"2018-07-18\",\"2018-07-19\",\"2018-07-20\",\"2018-07-21\",\"2018-07-22\",\"2018-07-23\",\"2018-07-24\",\"2018-07-25\",\"2018-07-26\",\"2018-07-27\",\"2018-07-28\",\"2018-07-29\",\"2018-07-30\",\"2018-07-31\",\"2018-08-01\",\"2018-08-02\",\"2018-08-03\",\"2018-08-04\",\"2018-08-05\",\"2018-08-06\",\"2018-08-07\",\"2018-08-08\",\"2018-08-09\",\"2018-08-10\",\"2018-08-11\",\"2018-08-12\",\"2018-08-13\",\"2018-08-14\",\"2018-08-15\",\"2018-08-16\",\"2018-08-17\",\"2018-08-18\",\"2018-08-19\",\"2018-08-20\",\"2018-08-21\",\"2018-08-22\",\"2018-08-23\",\"2018-08-24\",\"2018-08-25\",\"2018-08-26\",\"2018-08-27\",\"2018-08-28\",\"2018-08-29\",\"2018-08-30\",\"2018-08-31\",\"2018-09-01\",\"2018-09-02\",\"2018-09-03\",\"2018-09-04\",\"2018-09-05\",\"2018-09-06\",\"2018-09-07\",\"2018-09-08\",\"2018-09-09\",\"2018-09-10\",\"2018-09-11\",\"2018-09-12\",\"2018-09-13\",\"2018-09-14\",\"2018-09-15\",\"2018-09-16\",\"2018-09-17\",\"2018-09-18\",\"2018-09-19\",\"2018-09-20\",\"2018-09-21\",\"2018-09-22\",\"2018-09-23\",\"2018-09-24\",\"2018-09-25\",\"2018-09-26\",\"2018-09-27\",\"2018-09-28\",\"2018-09-29\",\"2018-09-30\",\"2018-10-01\",\"2018-10-02\",\"2018-10-03\",\"2018-10-04\",\"2018-10-05\",\"2018-10-06\",\"2018-10-07\",\"2018-10-08\",\"2018-10-09\",\"2018-10-10\",\"2018-10-11\",\"2018-10-12\",\"2018-10-13\",\"2018-10-14\",\"2018-10-15\",\"2018-10-16\",\"2018-10-17\",\"2018-10-18\",\"2018-10-19\",\"2018-10-20\",\"2018-10-21\",\"2018-10-22\",\"2018-10-23\",\"2018-10-24\",\"2018-10-25\",\"2018-10-26\",\"2018-10-27\",\"2018-10-28\",\"2018-10-29\",\"2018-10-30\",\"2018-10-31\",\"2018-11-01\",\"2018-11-02\",\"2018-11-03\",\"2018-11-04\",\"2018-11-05\",\"2018-11-06\",\"2018-11-07\",\"2018-11-08\",\"2018-11-09\",\"2018-11-10\",\"2018-11-11\",\"2018-11-12\",\"2018-11-13\",\"2018-11-14\",\"2018-11-15\",\"2018-11-16\",\"2018-11-17\",\"2018-11-18\",\"2018-11-19\",\"2018-11-20\",\"2018-11-21\",\"2018-11-22\",\"2018-11-23\",\"2018-11-24\",\"2018-11-25\",\"2018-11-26\",\"2018-11-27\",\"2018-11-28\",\"2018-11-29\",\"2018-11-30\",\"2018-12-01\",\"2018-12-02\",\"2018-12-03\",\"2018-12-04\",\"2018-12-05\",\"2018-12-06\",\"2018-12-07\",\"2018-12-08\",\"2018-12-09\",\"2018-12-10\",\"2018-12-11\",\"2018-12-12\",\"2018-12-13\",\"2018-12-14\",\"2018-12-15\",\"2018-12-16\",\"2018-12-17\",\"2018-12-18\",\"2018-12-19\",\"2018-12-20\",\"2018-12-21\",\"2018-12-22\",\"2018-12-23\",\"2018-12-24\",\"2018-12-25\",\"2018-12-26\",\"2018-12-27\",\"2018-12-28\",\"2018-12-29\",\"2018-12-30\",\"2018-12-31\"],\"y\":[462.0,439.0,405.0,394.0,398.0,403.0,384.0,314.0,373.0,366.0,318.0,306.0,370.0,365.0,352.0,278.0,350.0,411.0,451.0,351.0,310.0,362.0,343.0,286.0,267.0,263.0,284.0,334.0,332.0,300.0,271.0,293.0,318.0,277.0,284.0,313.0,324.0,287.0,334.0,375.0,378.0,350.0,218.0,189.0,217.0,189.0,248.0,277.0,284.0,321.0,335.0,347.0,333.0,331.0,347.0,317.0,170.0,167.0,274.0,293.0,300.0,244.0,205.0,180.0,170.0,192.0,262.0,316.0,207.0,179.0,236.0,241.0,287.0,314.0,269.0,218.0,177.0,177.0,224.0,302.0,226.0,171.0,183.0,202.0,203.0,246.0,293.0,238.0,234.0,269.0,217.0,217.0,239.0,244.0,329.0,271.0,170.0,142.0,133.0,205.0,179.0,135.0,201.0,233.0,240.0,296.0,266.0,216.0,242.0,271.0,444.0,302.0,197.0,242.0,287.0,329.0,351.0,288.0,259.0,221.0,173.0,161.0,167.0,146.0,174.0,280.0,243.0,252.0,168.0,218.0,292.0,330.0,285.0,174.0,173.0,194.0,240.0,254.0,270.0,231.0,208.0,207.0,306.0,303.0,260.0,244.0,268.0,276.0,303.0,272.0,223.0,196.0,183.0,154.0,170.0,160.0,146.0,166.0,180.0,153.0,153.0,186.0,285.0,453.0,522.0,593.0,531.0,384.0,179.0,146.0,175.0,221.0,249.0,228.0,194.0,168.0,128.0,126.0,99.0,90.0,113.0,102.0,111.0,122.0,128.0,130.0,147.0,155.0,176.0,168.0,140.0,111.0,130.0,109.0,96.0,92.0,95.0,105.0,114.0,106.0,90.0,114.0,87.0,80.0,101.0,90.0,90.0,68.0,71.0,100.0,122.0,135.0,155.0,215.0,228.0,215.0,234.0,166.0,123.0,108.0,102.0,111.0,106.0,92.0,102.0,122.0,128.0,109.0,109.0,90.0,100.0,138.0,105.0,91.0,86.0,89.0,100.0,85.0,82.0,81.0,88.0,97.0,127.0,132.0,116.0,89.0,118.0,108.0,137.0,117.0,105.0,86.0,92.0,91.0,96.0,108.0,113.0,126.0,124.0,135.0,154.0,157.0,173.0,155.0,76.0,69.0,63.0,63.0,99.0,151.0,200.0,229.0,176.0,148.0,186.0,160.0,206.0,268.0,237.0,189.0,253.0,269.0,263.0,219.0,163.0,264.0,237.0,253.0,309.0,332.0,330.0,300.0,344.0,325.0,296.0,274.0,354.0,356.0,394.0,396.0,403.0,397.0,456.0,422.0,433.0,391.0,353.0,238.0,424.0,411.0,317.0,452.0,487.0,430.0,454.0,437.0,454.0,361.0,251.0,302.0,292.0,330.0,340.0,367.0,396.0,317.0,356.0,296.0,266.0,349.0,396.0,363.0,384.0,365.0,335.0,329.0,356.0,394.0,374.0,385.0,376.0,366.0,389.0,431.0,464.0,443.0,264.0,248.0,274.0,295.0,338.0,370.0,370.0,423.0,422.0,468.0,557.0,577.0,475.0,405.0,458.0,413.0,420.0,484.0,509.0],\"type\":\"scatter\",\"xaxis\":\"x4\",\"yaxis\":\"y4\"},{\"mode\":\"lines+markers\",\"name\":\"2019\",\"x\":[\"2019-01-01\",\"2019-01-02\",\"2019-01-03\",\"2019-01-04\",\"2019-01-05\",\"2019-01-06\",\"2019-01-07\",\"2019-01-08\",\"2019-01-09\",\"2019-01-10\",\"2019-01-11\",\"2019-01-12\",\"2019-01-13\",\"2019-01-14\",\"2019-01-15\",\"2019-01-16\",\"2019-01-17\",\"2019-01-18\",\"2019-01-19\",\"2019-01-20\",\"2019-01-21\",\"2019-01-22\",\"2019-01-23\",\"2019-01-24\",\"2019-01-25\",\"2019-01-26\",\"2019-01-27\",\"2019-01-28\",\"2019-01-29\",\"2019-01-30\",\"2019-01-31\",\"2019-02-01\",\"2019-02-02\",\"2019-02-03\",\"2019-02-04\",\"2019-02-05\",\"2019-02-06\",\"2019-02-07\",\"2019-02-08\",\"2019-02-09\",\"2019-02-10\",\"2019-02-11\",\"2019-02-12\",\"2019-02-13\",\"2019-02-14\",\"2019-02-15\",\"2019-02-16\",\"2019-02-17\",\"2019-02-18\",\"2019-02-19\",\"2019-02-20\",\"2019-02-21\",\"2019-02-22\",\"2019-02-23\",\"2019-02-24\",\"2019-02-25\",\"2019-02-26\",\"2019-02-27\",\"2019-02-28\",\"2019-03-01\",\"2019-03-02\",\"2019-03-03\",\"2019-03-04\",\"2019-03-05\",\"2019-03-06\",\"2019-03-07\",\"2019-03-08\",\"2019-03-09\",\"2019-03-10\",\"2019-03-11\",\"2019-03-12\",\"2019-03-13\",\"2019-03-14\",\"2019-03-15\",\"2019-03-16\",\"2019-03-17\",\"2019-03-18\",\"2019-03-19\",\"2019-03-20\",\"2019-03-21\",\"2019-03-22\",\"2019-03-23\",\"2019-03-24\",\"2019-03-25\",\"2019-03-26\",\"2019-03-27\",\"2019-03-28\",\"2019-03-29\",\"2019-03-30\",\"2019-03-31\",\"2019-04-01\",\"2019-04-02\",\"2019-04-03\",\"2019-04-04\",\"2019-04-05\",\"2019-04-06\",\"2019-04-07\",\"2019-04-08\",\"2019-04-09\",\"2019-04-10\",\"2019-04-11\",\"2019-04-12\",\"2019-04-13\",\"2019-04-14\",\"2019-04-15\",\"2019-04-16\",\"2019-04-17\",\"2019-04-18\",\"2019-04-19\",\"2019-04-20\",\"2019-04-21\",\"2019-04-22\",\"2019-04-23\",\"2019-04-24\",\"2019-04-25\",\"2019-04-26\",\"2019-04-27\",\"2019-04-28\",\"2019-04-29\",\"2019-04-30\",\"2019-05-01\",\"2019-05-02\",\"2019-05-03\",\"2019-05-04\",\"2019-05-05\",\"2019-05-06\",\"2019-05-07\",\"2019-05-08\",\"2019-05-09\",\"2019-05-10\",\"2019-05-11\",\"2019-05-12\",\"2019-05-13\",\"2019-05-14\",\"2019-05-15\",\"2019-05-16\",\"2019-05-17\",\"2019-05-18\",\"2019-05-19\",\"2019-05-20\",\"2019-05-21\",\"2019-05-22\",\"2019-05-23\",\"2019-05-24\",\"2019-05-25\",\"2019-05-26\",\"2019-05-27\",\"2019-05-28\",\"2019-05-29\",\"2019-05-30\",\"2019-05-31\",\"2019-06-01\",\"2019-06-02\",\"2019-06-03\",\"2019-06-04\",\"2019-06-05\",\"2019-06-06\",\"2019-06-07\",\"2019-06-08\",\"2019-06-09\",\"2019-06-10\",\"2019-06-11\",\"2019-06-12\",\"2019-06-13\",\"2019-06-14\",\"2019-06-15\",\"2019-06-16\",\"2019-06-17\",\"2019-06-18\",\"2019-06-19\",\"2019-06-20\",\"2019-06-21\",\"2019-06-22\",\"2019-06-23\",\"2019-06-24\",\"2019-06-25\",\"2019-06-26\",\"2019-06-27\",\"2019-06-28\",\"2019-06-29\",\"2019-06-30\",\"2019-07-01\",\"2019-07-02\",\"2019-07-03\",\"2019-07-04\",\"2019-07-05\",\"2019-07-06\",\"2019-07-07\",\"2019-07-08\",\"2019-07-09\",\"2019-07-10\",\"2019-07-11\",\"2019-07-12\",\"2019-07-13\",\"2019-07-14\",\"2019-07-15\",\"2019-07-16\",\"2019-07-17\",\"2019-07-18\",\"2019-07-19\",\"2019-07-20\",\"2019-07-21\",\"2019-07-22\",\"2019-07-23\",\"2019-07-24\",\"2019-07-25\",\"2019-07-26\",\"2019-07-27\",\"2019-07-28\",\"2019-07-29\",\"2019-07-30\",\"2019-07-31\",\"2019-08-01\",\"2019-08-02\",\"2019-08-03\",\"2019-08-04\",\"2019-08-05\",\"2019-08-06\",\"2019-08-07\",\"2019-08-08\",\"2019-08-09\",\"2019-08-10\",\"2019-08-11\",\"2019-08-12\",\"2019-08-13\",\"2019-08-14\",\"2019-08-15\",\"2019-08-16\",\"2019-08-17\",\"2019-08-18\",\"2019-08-19\",\"2019-08-20\",\"2019-08-21\",\"2019-08-22\",\"2019-08-23\",\"2019-08-24\",\"2019-08-25\",\"2019-08-26\",\"2019-08-27\",\"2019-08-28\",\"2019-08-29\",\"2019-08-30\",\"2019-08-31\",\"2019-09-01\",\"2019-09-02\",\"2019-09-03\",\"2019-09-04\",\"2019-09-05\",\"2019-09-06\",\"2019-09-07\",\"2019-09-08\",\"2019-09-09\",\"2019-09-10\",\"2019-09-11\",\"2019-09-12\",\"2019-09-13\",\"2019-09-14\",\"2019-09-15\",\"2019-09-16\",\"2019-09-17\",\"2019-09-18\",\"2019-09-19\",\"2019-09-20\",\"2019-09-21\",\"2019-09-22\",\"2019-09-23\",\"2019-09-24\",\"2019-09-25\",\"2019-09-26\",\"2019-09-27\",\"2019-09-28\",\"2019-09-29\",\"2019-09-30\",\"2019-10-01\",\"2019-10-02\",\"2019-10-03\",\"2019-10-04\",\"2019-10-05\",\"2019-10-06\",\"2019-10-07\",\"2019-10-08\",\"2019-10-09\",\"2019-10-10\",\"2019-10-11\",\"2019-10-12\",\"2019-10-13\",\"2019-10-14\",\"2019-10-15\",\"2019-10-16\",\"2019-10-17\",\"2019-10-18\",\"2019-10-19\",\"2019-10-20\",\"2019-10-21\",\"2019-10-22\",\"2019-10-23\",\"2019-10-24\",\"2019-10-25\",\"2019-10-26\",\"2019-10-27\",\"2019-10-28\",\"2019-10-29\",\"2019-10-30\",\"2019-10-31\",\"2019-11-01\",\"2019-11-02\",\"2019-11-03\",\"2019-11-04\",\"2019-11-05\",\"2019-11-06\",\"2019-11-07\",\"2019-11-08\",\"2019-11-09\",\"2019-11-10\",\"2019-11-11\",\"2019-11-12\",\"2019-11-13\",\"2019-11-14\",\"2019-11-15\",\"2019-11-16\",\"2019-11-17\",\"2019-11-18\",\"2019-11-19\",\"2019-11-20\",\"2019-11-21\",\"2019-11-22\",\"2019-11-23\",\"2019-11-24\",\"2019-11-25\",\"2019-11-26\",\"2019-11-27\",\"2019-11-28\",\"2019-11-29\",\"2019-11-30\",\"2019-12-01\",\"2019-12-02\",\"2019-12-03\",\"2019-12-04\",\"2019-12-05\",\"2019-12-06\",\"2019-12-07\",\"2019-12-08\",\"2019-12-09\",\"2019-12-10\",\"2019-12-11\",\"2019-12-12\",\"2019-12-13\",\"2019-12-14\",\"2019-12-15\",\"2019-12-16\",\"2019-12-17\",\"2019-12-18\",\"2019-12-19\",\"2019-12-20\",\"2019-12-21\",\"2019-12-22\",\"2019-12-23\",\"2019-12-24\",\"2019-12-25\",\"2019-12-26\",\"2019-12-27\",\"2019-12-28\",\"2019-12-29\",\"2019-12-30\",\"2019-12-31\"],\"y\":[475.0,501.0,537.0,432.0,440.0,371.0,331.0,340.0,321.0,317.0,401.0,482.0,464.0,320.0,248.0,383.0,515.0,437.0,411.0,480.0,413.0,174.0,186.0,328.0,188.0,231.0,275.0,301.0,297.0,342.0,397.0,329.0,338.0,323.0,301.0,398.0,380.0,233.0,136.0,169.0,277.0,332.0,357.0,372.0,350.0,275.0,288.0,247.0,278.0,232.0,305.0,158.0,191.0,116.0,169.0,221.0,144.0,112.0,198.0,222.0,227.0,172.0,217.0,173.0,189.0,228.0,220.0,194.0,157.0,190.0,149.0,168.0,281.0,183.0,143.0,198.0,221.0,239.0,234.0,272.0,141.0,131.0,126.0,136.0,162.0,177.0,245.0,273.0,252.0,198.0,153.0,194.0,208.0,260.0,284.0,269.0,315.0,284.0,240.0,263.0,196.0,202.0,175.0,150.0,163.0,206.0,102.0,104.0,151.0,199.0,225.0,246.0,257.0,232.0,251.0,223.0,248.0,269.0,256.0,257.0,285.0,275.0,202.0,182.0,231.0,267.0,310.0,389.0,390.0,333.0,266.0,352.0,376.0,217.0,194.0,192.0,257.0,176.0,168.0,216.0,206.0,167.0,228.0,151.0,125.0,135.0,163.0,175.0,191.0,226.0,266.0,300.0,222.0,232.0,212.0,190.0,209.0,192.0,184.0,237.0,230.0,315.0,280.0,189.0,167.0,217.0,205.0,126.0,119.0,173.0,175.0,178.0,185.0,153.0,118.0,131.0,161.0,169.0,207.0,223.0,234.0,195.0,202.0,162.0,111.0,113.0,99.0,101.0,129.0,131.0,150.0,300.0,294.0,312.0,243.0,180.0,117.0,92.0,98.0,142.0,137.0,123.0,124.0,156.0,165.0,98.0,94.0,85.0,83.0,82.0,90.0,90.0,98.0,95.0,104.0,101.0,108.0,99.0,104.0,99.0,89.0,75.0,83.0,80.0,85.0,93.0,93.0,73.0,67.0,66.0,99.0,103.0,107.0,125.0,130.0,149.0,107.0,77.0,114.0,119.0,103.0,110.0,123.0,123.0,105.0,131.0,165.0,118.0,96.0,95.0,99.0,107.0,139.0,166.0,158.0,103.0,85.0,83.0,111.0,143.0,117.0,80.0,96.0,112.0,86.0,89.0,103.0,100.0,87.0,78.0,78.0,68.0,75.0,98.0,105.0,140.0,113.0,108.0,127.0,133.0,123.0,165.0,208.0,243.0,235.0,282.0,285.0,291.0,320.0,300.0,265.0,170.0,242.0,254.0,243.0,248.0,335.0,331.0,315.0,354.0,417.0,419.0,452.0,460.0,591.0,473.0,659.0,532.0,385.0,265.0,296.0,346.0,321.0,339.0,376.0,475.0,532.0,537.0,595.0,438.0,273.0,245.0,251.0,315.0,375.0,377.0,334.0,264.0,269.0,284.0,166.0,106.0,89.0,175.0,257.0,299.0,302.0,313.0,389.0,423.0,382.0,404.0,371.0,377.0,430.0,471.0,322.0,179.0,205.0,202.0,178.0,273.0,354.0,452.0,441.0,351.0,321.0,376.0,384.0,340.0,372.0,425.0,455.0,506.0,417.0],\"type\":\"scatter\",\"xaxis\":\"x5\",\"yaxis\":\"y5\"},{\"mode\":\"lines+markers\",\"name\":\"2015\",\"x\":[\"2015-01-01T00:00:00\",\"2015-01-02T00:00:00\",\"2015-01-03T00:00:00\",\"2015-01-04T00:00:00\",\"2015-01-05T00:00:00\",\"2015-01-06T00:00:00\",\"2015-01-07T00:00:00\",\"2015-01-08T00:00:00\",\"2015-01-09T00:00:00\",\"2015-01-10T00:00:00\",\"2015-01-11T00:00:00\",\"2015-01-12T00:00:00\",\"2015-01-13T00:00:00\",\"2015-01-14T00:00:00\",\"2015-01-15T00:00:00\",\"2015-01-16T00:00:00\",\"2015-01-17T00:00:00\",\"2015-01-18T00:00:00\",\"2015-01-19T00:00:00\",\"2015-01-20T00:00:00\",\"2015-01-21T00:00:00\",\"2015-01-22T00:00:00\",\"2015-01-23T00:00:00\",\"2015-01-24T00:00:00\",\"2015-01-25T00:00:00\",\"2015-01-26T00:00:00\",\"2015-01-27T00:00:00\",\"2015-01-28T00:00:00\",\"2015-01-29T00:00:00\",\"2015-01-30T00:00:00\",\"2015-01-31T00:00:00\",\"2015-02-01T00:00:00\",\"2015-02-02T00:00:00\",\"2015-02-03T00:00:00\",\"2015-02-04T00:00:00\",\"2015-02-05T00:00:00\",\"2015-02-06T00:00:00\",\"2015-02-07T00:00:00\",\"2015-02-08T00:00:00\",\"2015-02-09T00:00:00\",\"2015-02-10T00:00:00\",\"2015-02-11T00:00:00\",\"2015-02-12T00:00:00\",\"2015-02-13T00:00:00\",\"2015-02-14T00:00:00\",\"2015-02-15T00:00:00\",\"2015-02-16T00:00:00\",\"2015-02-17T00:00:00\",\"2015-02-18T00:00:00\",\"2015-02-19T00:00:00\",\"2015-02-20T00:00:00\",\"2015-02-21T00:00:00\",\"2015-02-22T00:00:00\",\"2015-02-23T00:00:00\",\"2015-02-24T00:00:00\",\"2015-02-25T00:00:00\",\"2015-02-26T00:00:00\",\"2015-02-27T00:00:00\",\"2015-02-28T00:00:00\",\"2015-03-01T00:00:00\",\"2015-03-02T00:00:00\",\"2015-03-03T00:00:00\",\"2015-03-04T00:00:00\",\"2015-03-05T00:00:00\",\"2015-03-06T00:00:00\",\"2015-03-07T00:00:00\",\"2015-03-08T00:00:00\",\"2015-03-09T00:00:00\",\"2015-03-10T00:00:00\",\"2015-03-11T00:00:00\",\"2015-03-12T00:00:00\",\"2015-03-13T00:00:00\",\"2015-03-14T00:00:00\",\"2015-03-15T00:00:00\",\"2015-03-16T00:00:00\",\"2015-03-17T00:00:00\",\"2015-03-18T00:00:00\",\"2015-03-19T00:00:00\",\"2015-03-20T00:00:00\",\"2015-03-21T00:00:00\",\"2015-03-22T00:00:00\",\"2015-03-23T00:00:00\",\"2015-03-24T00:00:00\",\"2015-03-25T00:00:00\",\"2015-03-26T00:00:00\",\"2015-03-27T00:00:00\",\"2015-03-28T00:00:00\",\"2015-03-29T00:00:00\",\"2015-03-30T00:00:00\",\"2015-03-31T00:00:00\",\"2015-04-01T00:00:00\",\"2015-04-02T00:00:00\",\"2015-04-03T00:00:00\",\"2015-04-04T00:00:00\",\"2015-04-05T00:00:00\",\"2015-04-06T00:00:00\",\"2015-04-07T00:00:00\",\"2015-04-08T00:00:00\",\"2015-04-09T00:00:00\",\"2015-04-10T00:00:00\",\"2015-04-11T00:00:00\",\"2015-04-12T00:00:00\",\"2015-04-13T00:00:00\",\"2015-04-14T00:00:00\",\"2015-04-15T00:00:00\",\"2015-04-16T00:00:00\",\"2015-04-17T00:00:00\",\"2015-04-18T00:00:00\",\"2015-04-19T00:00:00\",\"2015-04-20T00:00:00\",\"2015-04-21T00:00:00\",\"2015-04-22T00:00:00\",\"2015-04-23T00:00:00\",\"2015-04-24T00:00:00\",\"2015-04-25T00:00:00\",\"2015-04-26T00:00:00\",\"2015-04-27T00:00:00\",\"2015-04-28T00:00:00\",\"2015-04-29T00:00:00\",\"2015-04-30T00:00:00\",\"2015-05-01T00:00:00\",\"2015-05-02T00:00:00\",\"2015-05-03T00:00:00\",\"2015-05-04T00:00:00\",\"2015-05-05T00:00:00\",\"2015-05-06T00:00:00\",\"2015-05-07T00:00:00\",\"2015-05-08T00:00:00\",\"2015-05-09T00:00:00\",\"2015-05-10T00:00:00\",\"2015-05-11T00:00:00\",\"2015-05-12T00:00:00\",\"2015-05-13T00:00:00\",\"2015-05-14T00:00:00\",\"2015-05-15T00:00:00\",\"2015-05-16T00:00:00\",\"2015-05-17T00:00:00\",\"2015-05-18T00:00:00\",\"2015-05-19T00:00:00\",\"2015-05-20T00:00:00\",\"2015-05-21T00:00:00\",\"2015-05-22T00:00:00\",\"2015-05-23T00:00:00\",\"2015-05-24T00:00:00\",\"2015-05-25T00:00:00\",\"2015-05-26T00:00:00\",\"2015-05-27T00:00:00\",\"2015-05-28T00:00:00\",\"2015-05-29T00:00:00\",\"2015-05-30T00:00:00\",\"2015-05-31T00:00:00\",\"2015-06-01T00:00:00\",\"2015-06-02T00:00:00\",\"2015-06-03T00:00:00\",\"2015-06-04T00:00:00\",\"2015-06-05T00:00:00\",\"2015-06-06T00:00:00\",\"2015-06-07T00:00:00\",\"2015-06-08T00:00:00\",\"2015-06-09T00:00:00\",\"2015-06-10T00:00:00\",\"2015-06-11T00:00:00\",\"2015-06-12T00:00:00\",\"2015-06-13T00:00:00\",\"2015-06-14T00:00:00\",\"2015-06-15T00:00:00\",\"2015-06-16T00:00:00\",\"2015-06-17T00:00:00\",\"2015-06-18T00:00:00\",\"2015-06-19T00:00:00\",\"2015-06-20T00:00:00\",\"2015-06-21T00:00:00\",\"2015-06-22T00:00:00\",\"2015-06-23T00:00:00\",\"2015-06-24T00:00:00\",\"2015-06-25T00:00:00\",\"2015-06-26T00:00:00\",\"2015-06-27T00:00:00\",\"2015-06-28T00:00:00\",\"2015-06-29T00:00:00\",\"2015-06-30T00:00:00\",\"2015-07-01T00:00:00\",\"2015-07-02T00:00:00\",\"2015-07-03T00:00:00\",\"2015-07-04T00:00:00\",\"2015-07-05T00:00:00\",\"2015-07-06T00:00:00\",\"2015-07-07T00:00:00\",\"2015-07-08T00:00:00\",\"2015-07-09T00:00:00\",\"2015-07-10T00:00:00\",\"2015-07-11T00:00:00\",\"2015-07-12T00:00:00\",\"2015-07-13T00:00:00\",\"2015-07-14T00:00:00\",\"2015-07-15T00:00:00\",\"2015-07-16T00:00:00\",\"2015-07-17T00:00:00\",\"2015-07-18T00:00:00\",\"2015-07-19T00:00:00\",\"2015-07-20T00:00:00\",\"2015-07-21T00:00:00\",\"2015-07-22T00:00:00\",\"2015-07-23T00:00:00\",\"2015-07-24T00:00:00\",\"2015-07-25T00:00:00\",\"2015-07-26T00:00:00\",\"2015-07-27T00:00:00\",\"2015-07-28T00:00:00\",\"2015-07-29T00:00:00\",\"2015-07-30T00:00:00\",\"2015-07-31T00:00:00\",\"2015-08-01T00:00:00\",\"2015-08-02T00:00:00\",\"2015-08-03T00:00:00\",\"2015-08-04T00:00:00\",\"2015-08-05T00:00:00\",\"2015-08-06T00:00:00\",\"2015-08-07T00:00:00\",\"2015-08-08T00:00:00\",\"2015-08-09T00:00:00\",\"2015-08-10T00:00:00\",\"2015-08-11T00:00:00\",\"2015-08-12T00:00:00\",\"2015-08-13T00:00:00\",\"2015-08-14T00:00:00\",\"2015-08-15T00:00:00\",\"2015-08-16T00:00:00\",\"2015-08-17T00:00:00\",\"2015-08-18T00:00:00\",\"2015-08-19T00:00:00\",\"2015-08-20T00:00:00\",\"2015-08-21T00:00:00\",\"2015-08-22T00:00:00\",\"2015-08-23T00:00:00\",\"2015-08-24T00:00:00\",\"2015-08-25T00:00:00\",\"2015-08-26T00:00:00\",\"2015-08-27T00:00:00\",\"2015-08-28T00:00:00\",\"2015-08-29T00:00:00\",\"2015-08-30T00:00:00\",\"2015-08-31T00:00:00\",\"2015-09-01T00:00:00\",\"2015-09-02T00:00:00\",\"2015-09-03T00:00:00\",\"2015-09-04T00:00:00\",\"2015-09-05T00:00:00\",\"2015-09-06T00:00:00\",\"2015-09-07T00:00:00\",\"2015-09-08T00:00:00\",\"2015-09-09T00:00:00\",\"2015-09-10T00:00:00\",\"2015-09-11T00:00:00\",\"2015-09-12T00:00:00\",\"2015-09-13T00:00:00\",\"2015-09-14T00:00:00\",\"2015-09-15T00:00:00\",\"2015-09-16T00:00:00\",\"2015-09-17T00:00:00\",\"2015-09-18T00:00:00\",\"2015-09-19T00:00:00\",\"2015-09-20T00:00:00\",\"2015-09-21T00:00:00\",\"2015-09-22T00:00:00\",\"2015-09-23T00:00:00\",\"2015-09-24T00:00:00\",\"2015-09-25T00:00:00\",\"2015-09-26T00:00:00\",\"2015-09-27T00:00:00\",\"2015-09-28T00:00:00\",\"2015-09-29T00:00:00\",\"2015-09-30T00:00:00\",\"2015-10-01T00:00:00\",\"2015-10-02T00:00:00\",\"2015-10-03T00:00:00\",\"2015-10-04T00:00:00\",\"2015-10-05T00:00:00\",\"2015-10-06T00:00:00\",\"2015-10-07T00:00:00\",\"2015-10-08T00:00:00\",\"2015-10-09T00:00:00\",\"2015-10-10T00:00:00\",\"2015-10-11T00:00:00\",\"2015-10-12T00:00:00\",\"2015-10-13T00:00:00\",\"2015-10-14T00:00:00\",\"2015-10-15T00:00:00\",\"2015-10-16T00:00:00\",\"2015-10-17T00:00:00\",\"2015-10-18T00:00:00\",\"2015-10-19T00:00:00\",\"2015-10-20T00:00:00\",\"2015-10-21T00:00:00\",\"2015-10-22T00:00:00\",\"2015-10-23T00:00:00\",\"2015-10-24T00:00:00\",\"2015-10-25T00:00:00\",\"2015-10-26T00:00:00\",\"2015-10-27T00:00:00\",\"2015-10-28T00:00:00\",\"2015-10-29T00:00:00\",\"2015-10-30T00:00:00\",\"2015-10-31T00:00:00\",\"2015-11-01T00:00:00\",\"2015-11-02T00:00:00\",\"2015-11-03T00:00:00\",\"2015-11-04T00:00:00\",\"2015-11-05T00:00:00\",\"2015-11-06T00:00:00\",\"2015-11-07T00:00:00\",\"2015-11-08T00:00:00\",\"2015-11-09T00:00:00\",\"2015-11-10T00:00:00\",\"2015-11-11T00:00:00\",\"2015-11-12T00:00:00\",\"2015-11-13T00:00:00\",\"2015-11-14T00:00:00\",\"2015-11-15T00:00:00\",\"2015-11-16T00:00:00\",\"2015-11-17T00:00:00\",\"2015-11-18T00:00:00\",\"2015-11-19T00:00:00\",\"2015-11-20T00:00:00\",\"2015-11-21T00:00:00\",\"2015-11-22T00:00:00\",\"2015-11-23T00:00:00\",\"2015-11-24T00:00:00\",\"2015-11-25T00:00:00\",\"2015-11-26T00:00:00\",\"2015-11-27T00:00:00\",\"2015-11-28T00:00:00\",\"2015-11-29T00:00:00\",\"2015-11-30T00:00:00\",\"2015-12-01T00:00:00\",\"2015-12-02T00:00:00\",\"2015-12-03T00:00:00\",\"2015-12-04T00:00:00\",\"2015-12-05T00:00:00\",\"2015-12-06T00:00:00\",\"2015-12-07T00:00:00\",\"2015-12-08T00:00:00\",\"2015-12-09T00:00:00\",\"2015-12-10T00:00:00\",\"2015-12-11T00:00:00\",\"2015-12-12T00:00:00\",\"2015-12-13T00:00:00\",\"2015-12-14T00:00:00\",\"2015-12-15T00:00:00\",\"2015-12-16T00:00:00\",\"2015-12-17T00:00:00\",\"2015-12-18T00:00:00\",\"2015-12-19T00:00:00\",\"2015-12-20T00:00:00\",\"2015-12-21T00:00:00\",\"2015-12-22T00:00:00\",\"2015-12-23T00:00:00\",\"2015-12-24T00:00:00\",\"2015-12-25T00:00:00\",\"2015-12-26T00:00:00\",\"2015-12-27T00:00:00\",\"2015-12-28T00:00:00\",\"2015-12-29T00:00:00\",\"2015-12-30T00:00:00\",\"2015-12-31T00:00:00\"],\"y\":[null,null,null,null,null,null,null,null,null,null,null,null,null,null,null,null,null,null,null,null,null,null,null,null,null,null,null,null,null,null,null,null,null,null,null,null,null,null,null,null,null,null,null,null,null,null,null,null,null,null,null,null,null,null,null,null,null,null,null,null,null,null,null,null,null,null,null,null,null,null,null,null,null,null,null,null,null,null,null,91.0,120.0,154.0,119.0,232.0,132.0,123.0,152.0,143.0,80.0,90.0,151.0,123.0,178.0,101.0,160.0,71.0,76.0,153.0,80.0,129.0,107.0,122.0,85.0,62.0,177.0,152.0,210.0,170.0,135.0,118.0,127.0,47.0,44.0,67.0,44.0,82.0,156.0,96.0,72.0,117.0,67.0,217.0,64.0,162.0,75.0,141.0,70.0,142.0,140.0,71.0,66.0,56.0,45.0,61.0,70.0,59.0,125.0,106.0,84.0,57.0,56.0,140.0,156.0,156.0,111.0,158.0,93.0,97.0,94.0,147.0,100.0,101.0,84.0,84.0,74.0,130.0,74.0,74.0,162.0,55.0,72.0,66.0,81.0,94.0,128.0,86.0,136.0,67.0,45.0,70.0,93.0,166.0,183.0,107.0,140.0,107.0,70.0,165.0,160.0,209.0,166.0,187.0,162.0,185.0,141.0,225.0,309.0,136.0,139.0,161.0,160.0,127.0,71.0,246.0,250.0,176.0,176.0,55.0,156.0,195.0,197.0,223.0,182.0,245.0,268.0,51.0,49.0,157.0,128.0,66.0,105.0,49.0,97.0,257.0,139.0,95.0,106.0,89.0,44.0,97.0,187.0,83.0,129.0,128.0,217.0,277.0,176.0,206.0,238.0,229.0,236.0,92.0,100.0,97.0,59.0,96.0,123.0,77.0,57.0,63.0,174.0,121.0,92.0,81.0,43.0,52.0,72.0,73.0,208.0,179.0,93.0,60.0,65.0,60.0,167.0,141.0,175.0,41.0,81.0,52.0,31.0,144.0,64.0,51.0,82.0,85.0,89.0,139.0,157.0,155.0,94.0,100.0,117.0,136.0,96.0,101.0,128.0,92.0,98.0,102.0,69.0,54.0,101.0,110.0,54.0,77.0,144.0,90.0,98.0,173.0,140.0,76.0,164.0,88.0,97.0,110.0,89.0,81.0,74.0,157.0,95.0,70.0,110.0,191.0,49.0,54.0,58.0,65.0,70.0,67.0,60.0,56.0,59.0,51.0,49.0,146.0,61.0,130.0,99.0,91.0,116.0,126.0,103.0,74.0,66.0,61.0,75.0,85.0,141.0,90.0,126.0,147.0,87.0,56.0,88.0,67.0,74.0,105.0,103.0,54.0,65.0,102.0,94.0,86.0,89.0,99.0,92.0,85.0,83.0,92.0,95.0,103.0,105.0,97.0,102.0,104.0,96.0,114.0,110.0,109.0,115.0,149.0,122.0,91.0,131.0],\"type\":\"scatter\",\"xaxis\":\"x\",\"yaxis\":\"y\"},{\"mode\":\"lines+markers\",\"name\":\"2020\",\"x\":[\"2020-01-01T00:00:00\",\"2020-01-02T00:00:00\",\"2020-01-03T00:00:00\",\"2020-01-04T00:00:00\",\"2020-01-05T00:00:00\",\"2020-01-06T00:00:00\",\"2020-01-07T00:00:00\",\"2020-01-08T00:00:00\",\"2020-01-09T00:00:00\",\"2020-01-10T00:00:00\",\"2020-01-11T00:00:00\",\"2020-01-12T00:00:00\",\"2020-01-13T00:00:00\",\"2020-01-14T00:00:00\",\"2020-01-15T00:00:00\",\"2020-01-16T00:00:00\",\"2020-01-17T00:00:00\",\"2020-01-18T00:00:00\",\"2020-01-19T00:00:00\",\"2020-01-20T00:00:00\",\"2020-01-21T00:00:00\",\"2020-01-22T00:00:00\",\"2020-01-23T00:00:00\",\"2020-01-24T00:00:00\",\"2020-01-25T00:00:00\",\"2020-01-26T00:00:00\",\"2020-01-27T00:00:00\",\"2020-01-28T00:00:00\",\"2020-01-29T00:00:00\",\"2020-01-30T00:00:00\",\"2020-01-31T00:00:00\",\"2020-02-01T00:00:00\",\"2020-02-02T00:00:00\",\"2020-02-03T00:00:00\",\"2020-02-04T00:00:00\",\"2020-02-05T00:00:00\",\"2020-02-06T00:00:00\",\"2020-02-07T00:00:00\",\"2020-02-08T00:00:00\",\"2020-02-09T00:00:00\",\"2020-02-10T00:00:00\",\"2020-02-11T00:00:00\",\"2020-02-12T00:00:00\",\"2020-02-13T00:00:00\",\"2020-02-14T00:00:00\",\"2020-02-15T00:00:00\",\"2020-02-16T00:00:00\",\"2020-02-17T00:00:00\",\"2020-02-18T00:00:00\",\"2020-02-19T00:00:00\",\"2020-02-20T00:00:00\",\"2020-02-21T00:00:00\",\"2020-02-22T00:00:00\",\"2020-02-23T00:00:00\",\"2020-02-24T00:00:00\",\"2020-02-25T00:00:00\",\"2020-02-26T00:00:00\",\"2020-02-27T00:00:00\",\"2020-02-28T00:00:00\",\"2020-02-29T00:00:00\",\"2020-03-01T00:00:00\",\"2020-03-02T00:00:00\",\"2020-03-03T00:00:00\",\"2020-03-04T00:00:00\",\"2020-03-05T00:00:00\",\"2020-03-06T00:00:00\",\"2020-03-07T00:00:00\",\"2020-03-08T00:00:00\",\"2020-03-09T00:00:00\",\"2020-03-10T00:00:00\",\"2020-03-11T00:00:00\",\"2020-03-12T00:00:00\",\"2020-03-13T00:00:00\",\"2020-03-14T00:00:00\",\"2020-03-15T00:00:00\",\"2020-03-16T00:00:00\",\"2020-03-17T00:00:00\",\"2020-03-18T00:00:00\",\"2020-03-19T00:00:00\",\"2020-03-20T00:00:00\",\"2020-03-21T00:00:00\",\"2020-03-22T00:00:00\",\"2020-03-23T00:00:00\",\"2020-03-24T00:00:00\",\"2020-03-25T00:00:00\",\"2020-03-26T00:00:00\",\"2020-03-27T00:00:00\",\"2020-03-28T00:00:00\",\"2020-03-29T00:00:00\",\"2020-03-30T00:00:00\",\"2020-03-31T00:00:00\",\"2020-04-01T00:00:00\",\"2020-04-02T00:00:00\",\"2020-04-03T00:00:00\",\"2020-04-04T00:00:00\",\"2020-04-05T00:00:00\",\"2020-04-06T00:00:00\",\"2020-04-07T00:00:00\",\"2020-04-08T00:00:00\",\"2020-04-09T00:00:00\",\"2020-04-10T00:00:00\",\"2020-04-11T00:00:00\",\"2020-04-12T00:00:00\",\"2020-04-13T00:00:00\",\"2020-04-14T00:00:00\",\"2020-04-15T00:00:00\",\"2020-04-16T00:00:00\",\"2020-04-17T00:00:00\",\"2020-04-18T00:00:00\",\"2020-04-19T00:00:00\",\"2020-04-20T00:00:00\",\"2020-04-21T00:00:00\",\"2020-04-22T00:00:00\",\"2020-04-23T00:00:00\",\"2020-04-24T00:00:00\",\"2020-04-25T00:00:00\",\"2020-04-26T00:00:00\",\"2020-04-27T00:00:00\",\"2020-04-28T00:00:00\",\"2020-04-29T00:00:00\",\"2020-04-30T00:00:00\",\"2020-05-01T00:00:00\",\"2020-05-02T00:00:00\",\"2020-05-03T00:00:00\",\"2020-05-04T00:00:00\",\"2020-05-05T00:00:00\",\"2020-05-06T00:00:00\",\"2020-05-07T00:00:00\",\"2020-05-08T00:00:00\",\"2020-05-09T00:00:00\",\"2020-05-10T00:00:00\",\"2020-05-11T00:00:00\",\"2020-05-12T00:00:00\",\"2020-05-13T00:00:00\",\"2020-05-14T00:00:00\",\"2020-05-15T00:00:00\",\"2020-05-16T00:00:00\",\"2020-05-17T00:00:00\",\"2020-05-18T00:00:00\",\"2020-05-19T00:00:00\",\"2020-05-20T00:00:00\",\"2020-05-21T00:00:00\",\"2020-05-22T00:00:00\",\"2020-05-23T00:00:00\",\"2020-05-24T00:00:00\",\"2020-05-25T00:00:00\",\"2020-05-26T00:00:00\",\"2020-05-27T00:00:00\",\"2020-05-28T00:00:00\",\"2020-05-29T00:00:00\",\"2020-05-30T00:00:00\",\"2020-05-31T00:00:00\",\"2020-06-01T00:00:00\",\"2020-06-02T00:00:00\",\"2020-06-03T00:00:00\",\"2020-06-04T00:00:00\",\"2020-06-05T00:00:00\",\"2020-06-06T00:00:00\",\"2020-06-07T00:00:00\",\"2020-06-08T00:00:00\",\"2020-06-09T00:00:00\",\"2020-06-10T00:00:00\",\"2020-06-11T00:00:00\",\"2020-06-12T00:00:00\",\"2020-06-13T00:00:00\",\"2020-06-14T00:00:00\",\"2020-06-15T00:00:00\",\"2020-06-16T00:00:00\",\"2020-06-17T00:00:00\",\"2020-06-18T00:00:00\",\"2020-06-19T00:00:00\",\"2020-06-20T00:00:00\",\"2020-06-21T00:00:00\",\"2020-06-22T00:00:00\",\"2020-06-23T00:00:00\",\"2020-06-24T00:00:00\",\"2020-06-25T00:00:00\",\"2020-06-26T00:00:00\",\"2020-06-27T00:00:00\",\"2020-06-28T00:00:00\",\"2020-06-29T00:00:00\",\"2020-06-30T00:00:00\",\"2020-07-01T00:00:00\"],\"y\":[82.0,81.0,85.0,95.0,118.0,81.0,75.0,93.0,101.0,94.0,78.0,79.0,106.0,121.0,111.0,114.0,106.0,86.0,66.0,81.0,90.0,87.0,82.0,108.0,100.0,97.0,98.0,102.0,115.0,112.0,111.0,102.0,94.0,79.0,82.0,86.0,96.0,96.0,105.0,101.0,103.0,87.0,80.0,84.0,111.0,128.0,120.0,99.0,103.0,101.0,94.0,90.0,78.0,81.0,82.0,107.0,104.0,112.0,98.0,95.0,101.0,103.0,137.0,131.0,117.0,100.0,93.0,91.0,99.0,93.0,95.0,97.0,90.0,86.0,88.0,79.0,77.0,78.0,91.0,100.0,103.0,99.0,85.0,106.0,70.0,61.0,67.0,70.0,66.0,72.0,68.0,64.0,70.0,82.0,74.0,77.0,65.0,62.0,67.0,65.0,76.0,70.0,64.0,72.0,72.0,74.0,66.0,74.0,94.0,67.0,53.0,65.0,71.0,63.0,69.0,66.0,61.0,59.0,71.0,62.0,61.0,74.0,72.0,71.0,79.0,91.0,85.0,82.0,73.0,76.0,78.0,77.0,82.0,66.0,66.0,73.0,74.0,70.0,68.0,72.0,79.0,70.0,68.0,72.0,66.0,70.0,66.0,75.0,74.0,66.0,72.0,61.0,49.0,40.0,42.0,43.0,55.0,55.0,55.0,55.0,58.0,70.0,59.0,49.0,50.0,49.0,47.0,55.0,57.0,65.0,65.0,56.0,52.0,49.0,56.0,63.0,63.0,58.0,51.0,61.0,65.0,63.0,43.0],\"type\":\"scatter\",\"xaxis\":\"x6\",\"yaxis\":\"y6\"}],                        {\"template\":{\"data\":{\"bar\":[{\"error_x\":{\"color\":\"#2a3f5f\"},\"error_y\":{\"color\":\"#2a3f5f\"},\"marker\":{\"line\":{\"color\":\"#E5ECF6\",\"width\":0.5},\"pattern\":{\"fillmode\":\"overlay\",\"size\":10,\"solidity\":0.2}},\"type\":\"bar\"}],\"barpolar\":[{\"marker\":{\"line\":{\"color\":\"#E5ECF6\",\"width\":0.5},\"pattern\":{\"fillmode\":\"overlay\",\"size\":10,\"solidity\":0.2}},\"type\":\"barpolar\"}],\"carpet\":[{\"aaxis\":{\"endlinecolor\":\"#2a3f5f\",\"gridcolor\":\"white\",\"linecolor\":\"white\",\"minorgridcolor\":\"white\",\"startlinecolor\":\"#2a3f5f\"},\"baxis\":{\"endlinecolor\":\"#2a3f5f\",\"gridcolor\":\"white\",\"linecolor\":\"white\",\"minorgridcolor\":\"white\",\"startlinecolor\":\"#2a3f5f\"},\"type\":\"carpet\"}],\"choropleth\":[{\"colorbar\":{\"outlinewidth\":0,\"ticks\":\"\"},\"type\":\"choropleth\"}],\"contour\":[{\"colorbar\":{\"outlinewidth\":0,\"ticks\":\"\"},\"colorscale\":[[0.0,\"#0d0887\"],[0.1111111111111111,\"#46039f\"],[0.2222222222222222,\"#7201a8\"],[0.3333333333333333,\"#9c179e\"],[0.4444444444444444,\"#bd3786\"],[0.5555555555555556,\"#d8576b\"],[0.6666666666666666,\"#ed7953\"],[0.7777777777777778,\"#fb9f3a\"],[0.8888888888888888,\"#fdca26\"],[1.0,\"#f0f921\"]],\"type\":\"contour\"}],\"contourcarpet\":[{\"colorbar\":{\"outlinewidth\":0,\"ticks\":\"\"},\"type\":\"contourcarpet\"}],\"heatmap\":[{\"colorbar\":{\"outlinewidth\":0,\"ticks\":\"\"},\"colorscale\":[[0.0,\"#0d0887\"],[0.1111111111111111,\"#46039f\"],[0.2222222222222222,\"#7201a8\"],[0.3333333333333333,\"#9c179e\"],[0.4444444444444444,\"#bd3786\"],[0.5555555555555556,\"#d8576b\"],[0.6666666666666666,\"#ed7953\"],[0.7777777777777778,\"#fb9f3a\"],[0.8888888888888888,\"#fdca26\"],[1.0,\"#f0f921\"]],\"type\":\"heatmap\"}],\"heatmapgl\":[{\"colorbar\":{\"outlinewidth\":0,\"ticks\":\"\"},\"colorscale\":[[0.0,\"#0d0887\"],[0.1111111111111111,\"#46039f\"],[0.2222222222222222,\"#7201a8\"],[0.3333333333333333,\"#9c179e\"],[0.4444444444444444,\"#bd3786\"],[0.5555555555555556,\"#d8576b\"],[0.6666666666666666,\"#ed7953\"],[0.7777777777777778,\"#fb9f3a\"],[0.8888888888888888,\"#fdca26\"],[1.0,\"#f0f921\"]],\"type\":\"heatmapgl\"}],\"histogram\":[{\"marker\":{\"pattern\":{\"fillmode\":\"overlay\",\"size\":10,\"solidity\":0.2}},\"type\":\"histogram\"}],\"histogram2d\":[{\"colorbar\":{\"outlinewidth\":0,\"ticks\":\"\"},\"colorscale\":[[0.0,\"#0d0887\"],[0.1111111111111111,\"#46039f\"],[0.2222222222222222,\"#7201a8\"],[0.3333333333333333,\"#9c179e\"],[0.4444444444444444,\"#bd3786\"],[0.5555555555555556,\"#d8576b\"],[0.6666666666666666,\"#ed7953\"],[0.7777777777777778,\"#fb9f3a\"],[0.8888888888888888,\"#fdca26\"],[1.0,\"#f0f921\"]],\"type\":\"histogram2d\"}],\"histogram2dcontour\":[{\"colorbar\":{\"outlinewidth\":0,\"ticks\":\"\"},\"colorscale\":[[0.0,\"#0d0887\"],[0.1111111111111111,\"#46039f\"],[0.2222222222222222,\"#7201a8\"],[0.3333333333333333,\"#9c179e\"],[0.4444444444444444,\"#bd3786\"],[0.5555555555555556,\"#d8576b\"],[0.6666666666666666,\"#ed7953\"],[0.7777777777777778,\"#fb9f3a\"],[0.8888888888888888,\"#fdca26\"],[1.0,\"#f0f921\"]],\"type\":\"histogram2dcontour\"}],\"mesh3d\":[{\"colorbar\":{\"outlinewidth\":0,\"ticks\":\"\"},\"type\":\"mesh3d\"}],\"parcoords\":[{\"line\":{\"colorbar\":{\"outlinewidth\":0,\"ticks\":\"\"}},\"type\":\"parcoords\"}],\"pie\":[{\"automargin\":true,\"type\":\"pie\"}],\"scatter\":[{\"marker\":{\"colorbar\":{\"outlinewidth\":0,\"ticks\":\"\"}},\"type\":\"scatter\"}],\"scatter3d\":[{\"line\":{\"colorbar\":{\"outlinewidth\":0,\"ticks\":\"\"}},\"marker\":{\"colorbar\":{\"outlinewidth\":0,\"ticks\":\"\"}},\"type\":\"scatter3d\"}],\"scattercarpet\":[{\"marker\":{\"colorbar\":{\"outlinewidth\":0,\"ticks\":\"\"}},\"type\":\"scattercarpet\"}],\"scattergeo\":[{\"marker\":{\"colorbar\":{\"outlinewidth\":0,\"ticks\":\"\"}},\"type\":\"scattergeo\"}],\"scattergl\":[{\"marker\":{\"colorbar\":{\"outlinewidth\":0,\"ticks\":\"\"}},\"type\":\"scattergl\"}],\"scattermapbox\":[{\"marker\":{\"colorbar\":{\"outlinewidth\":0,\"ticks\":\"\"}},\"type\":\"scattermapbox\"}],\"scatterpolar\":[{\"marker\":{\"colorbar\":{\"outlinewidth\":0,\"ticks\":\"\"}},\"type\":\"scatterpolar\"}],\"scatterpolargl\":[{\"marker\":{\"colorbar\":{\"outlinewidth\":0,\"ticks\":\"\"}},\"type\":\"scatterpolargl\"}],\"scatterternary\":[{\"marker\":{\"colorbar\":{\"outlinewidth\":0,\"ticks\":\"\"}},\"type\":\"scatterternary\"}],\"surface\":[{\"colorbar\":{\"outlinewidth\":0,\"ticks\":\"\"},\"colorscale\":[[0.0,\"#0d0887\"],[0.1111111111111111,\"#46039f\"],[0.2222222222222222,\"#7201a8\"],[0.3333333333333333,\"#9c179e\"],[0.4444444444444444,\"#bd3786\"],[0.5555555555555556,\"#d8576b\"],[0.6666666666666666,\"#ed7953\"],[0.7777777777777778,\"#fb9f3a\"],[0.8888888888888888,\"#fdca26\"],[1.0,\"#f0f921\"]],\"type\":\"surface\"}],\"table\":[{\"cells\":{\"fill\":{\"color\":\"#EBF0F8\"},\"line\":{\"color\":\"white\"}},\"header\":{\"fill\":{\"color\":\"#C8D4E3\"},\"line\":{\"color\":\"white\"}},\"type\":\"table\"}]},\"layout\":{\"annotationdefaults\":{\"arrowcolor\":\"#2a3f5f\",\"arrowhead\":0,\"arrowwidth\":1},\"autotypenumbers\":\"strict\",\"coloraxis\":{\"colorbar\":{\"outlinewidth\":0,\"ticks\":\"\"}},\"colorscale\":{\"diverging\":[[0,\"#8e0152\"],[0.1,\"#c51b7d\"],[0.2,\"#de77ae\"],[0.3,\"#f1b6da\"],[0.4,\"#fde0ef\"],[0.5,\"#f7f7f7\"],[0.6,\"#e6f5d0\"],[0.7,\"#b8e186\"],[0.8,\"#7fbc41\"],[0.9,\"#4d9221\"],[1,\"#276419\"]],\"sequential\":[[0.0,\"#0d0887\"],[0.1111111111111111,\"#46039f\"],[0.2222222222222222,\"#7201a8\"],[0.3333333333333333,\"#9c179e\"],[0.4444444444444444,\"#bd3786\"],[0.5555555555555556,\"#d8576b\"],[0.6666666666666666,\"#ed7953\"],[0.7777777777777778,\"#fb9f3a\"],[0.8888888888888888,\"#fdca26\"],[1.0,\"#f0f921\"]],\"sequentialminus\":[[0.0,\"#0d0887\"],[0.1111111111111111,\"#46039f\"],[0.2222222222222222,\"#7201a8\"],[0.3333333333333333,\"#9c179e\"],[0.4444444444444444,\"#bd3786\"],[0.5555555555555556,\"#d8576b\"],[0.6666666666666666,\"#ed7953\"],[0.7777777777777778,\"#fb9f3a\"],[0.8888888888888888,\"#fdca26\"],[1.0,\"#f0f921\"]]},\"colorway\":[\"#636efa\",\"#EF553B\",\"#00cc96\",\"#ab63fa\",\"#FFA15A\",\"#19d3f3\",\"#FF6692\",\"#B6E880\",\"#FF97FF\",\"#FECB52\"],\"font\":{\"color\":\"#2a3f5f\"},\"geo\":{\"bgcolor\":\"white\",\"lakecolor\":\"white\",\"landcolor\":\"#E5ECF6\",\"showlakes\":true,\"showland\":true,\"subunitcolor\":\"white\"},\"hoverlabel\":{\"align\":\"left\"},\"hovermode\":\"closest\",\"mapbox\":{\"style\":\"light\"},\"paper_bgcolor\":\"white\",\"plot_bgcolor\":\"#E5ECF6\",\"polar\":{\"angularaxis\":{\"gridcolor\":\"white\",\"linecolor\":\"white\",\"ticks\":\"\"},\"bgcolor\":\"#E5ECF6\",\"radialaxis\":{\"gridcolor\":\"white\",\"linecolor\":\"white\",\"ticks\":\"\"}},\"scene\":{\"xaxis\":{\"backgroundcolor\":\"#E5ECF6\",\"gridcolor\":\"white\",\"gridwidth\":2,\"linecolor\":\"white\",\"showbackground\":true,\"ticks\":\"\",\"zerolinecolor\":\"white\"},\"yaxis\":{\"backgroundcolor\":\"#E5ECF6\",\"gridcolor\":\"white\",\"gridwidth\":2,\"linecolor\":\"white\",\"showbackground\":true,\"ticks\":\"\",\"zerolinecolor\":\"white\"},\"zaxis\":{\"backgroundcolor\":\"#E5ECF6\",\"gridcolor\":\"white\",\"gridwidth\":2,\"linecolor\":\"white\",\"showbackground\":true,\"ticks\":\"\",\"zerolinecolor\":\"white\"}},\"shapedefaults\":{\"line\":{\"color\":\"#2a3f5f\"}},\"ternary\":{\"aaxis\":{\"gridcolor\":\"white\",\"linecolor\":\"white\",\"ticks\":\"\"},\"baxis\":{\"gridcolor\":\"white\",\"linecolor\":\"white\",\"ticks\":\"\"},\"bgcolor\":\"#E5ECF6\",\"caxis\":{\"gridcolor\":\"white\",\"linecolor\":\"white\",\"ticks\":\"\"}},\"title\":{\"x\":0.05},\"xaxis\":{\"automargin\":true,\"gridcolor\":\"white\",\"linecolor\":\"white\",\"ticks\":\"\",\"title\":{\"standoff\":15},\"zerolinecolor\":\"white\",\"zerolinewidth\":2},\"yaxis\":{\"automargin\":true,\"gridcolor\":\"white\",\"linecolor\":\"white\",\"ticks\":\"\",\"title\":{\"standoff\":15},\"zerolinecolor\":\"white\",\"zerolinewidth\":2}}},\"xaxis\":{\"anchor\":\"y\",\"domain\":[0.0,0.2888888888888889]},\"yaxis\":{\"anchor\":\"x\",\"domain\":[0.625,1.0]},\"xaxis2\":{\"anchor\":\"y2\",\"domain\":[0.35555555555555557,0.6444444444444445]},\"yaxis2\":{\"anchor\":\"x2\",\"domain\":[0.625,1.0]},\"xaxis3\":{\"anchor\":\"y3\",\"domain\":[0.7111111111111111,1.0]},\"yaxis3\":{\"anchor\":\"x3\",\"domain\":[0.625,1.0]},\"xaxis4\":{\"anchor\":\"y4\",\"domain\":[0.0,0.2888888888888889]},\"yaxis4\":{\"anchor\":\"x4\",\"domain\":[0.0,0.375]},\"xaxis5\":{\"anchor\":\"y5\",\"domain\":[0.35555555555555557,0.6444444444444445]},\"yaxis5\":{\"anchor\":\"x5\",\"domain\":[0.0,0.375]},\"xaxis6\":{\"anchor\":\"y6\",\"domain\":[0.7111111111111111,1.0]},\"yaxis6\":{\"anchor\":\"x6\",\"domain\":[0.0,0.375]},\"annotations\":[{\"font\":{\"size\":16},\"showarrow\":false,\"text\":\"2015\",\"x\":0.14444444444444446,\"xanchor\":\"center\",\"xref\":\"paper\",\"y\":1.0,\"yanchor\":\"bottom\",\"yref\":\"paper\"},{\"font\":{\"size\":16},\"showarrow\":false,\"text\":\"2016\",\"x\":0.5,\"xanchor\":\"center\",\"xref\":\"paper\",\"y\":1.0,\"yanchor\":\"bottom\",\"yref\":\"paper\"},{\"font\":{\"size\":16},\"showarrow\":false,\"text\":\"2017\",\"x\":0.8555555555555556,\"xanchor\":\"center\",\"xref\":\"paper\",\"y\":1.0,\"yanchor\":\"bottom\",\"yref\":\"paper\"},{\"font\":{\"size\":16},\"showarrow\":false,\"text\":\"2018\",\"x\":0.14444444444444446,\"xanchor\":\"center\",\"xref\":\"paper\",\"y\":0.375,\"yanchor\":\"bottom\",\"yref\":\"paper\"},{\"font\":{\"size\":16},\"showarrow\":false,\"text\":\"2019\",\"x\":0.5,\"xanchor\":\"center\",\"xref\":\"paper\",\"y\":0.375,\"yanchor\":\"bottom\",\"yref\":\"paper\"}],\"title\":{\"text\":\"AQI IN DIFFERENT YEARS\"},\"height\":700},                        {\"responsive\": true}                    ).then(function(){\n",
       "                            \n",
       "var gd = document.getElementById('bfba120c-66bb-46eb-b2a2-c82573ae87f9');\n",
       "var x = new MutationObserver(function (mutations, observer) {{\n",
       "        var display = window.getComputedStyle(gd).display;\n",
       "        if (!display || display === 'none') {{\n",
       "            console.log([gd, 'removed!']);\n",
       "            Plotly.purge(gd);\n",
       "            observer.disconnect();\n",
       "        }}\n",
       "}});\n",
       "\n",
       "// Listen for the removal of the full notebook cells\n",
       "var notebookContainer = gd.closest('#notebook-container');\n",
       "if (notebookContainer) {{\n",
       "    x.observe(notebookContainer, {childList: true});\n",
       "}}\n",
       "\n",
       "// Listen for the clearing of the current output cell\n",
       "var outputEl = gd.closest('.output');\n",
       "if (outputEl) {{\n",
       "    x.observe(outputEl, {childList: true});\n",
       "}}\n",
       "\n",
       "                        })                };                });            </script>        </div>"
      ]
     },
     "metadata": {},
     "output_type": "display_data"
    }
   ],
   "source": [
    "from plotly.subplots import make_subplots\n",
    "fig = make_subplots(rows=2, cols=3,subplot_titles=(\"2015\",\"2016\", \"2017\", \"2018\",\"2019\"))\n",
    "fig.add_trace(\n",
    "    go.Scatter(\n",
    "    name =\"2016\",\n",
    "    mode = \"lines+markers\",\n",
    "    y = aqi_level_16.iloc[:,-2],\n",
    "    x = aqi_level_16.iloc[:,-3]),\n",
    "    row = 1 ,col =2)\n",
    "\n",
    "\n",
    "fig.add_trace(go.Scatter(\n",
    "    name =\"2017\",\n",
    "    mode = \"lines+markers\",\n",
    "    y = aqi_level_17.iloc[:,-2],\n",
    "    x = aqi_level_17.iloc[:,-3]),\n",
    "    row=1, col=3\n",
    ")\n",
    "\n",
    "    \n",
    "    \n",
    "\n",
    "\n",
    "fig.add_trace(go.Scatter(\n",
    "    name =\"2018\",\n",
    "    mode = \"lines+markers\",\n",
    "    y = aqi_level_18.iloc[:,-2],\n",
    "    x = aqi_level_18.iloc[:,-3]),\n",
    "    row=2, col=1\n",
    ")\n",
    "\n",
    "fig.add_trace(go.Scatter(\n",
    "    name =\"2019\",\n",
    "    mode = \"lines+markers\",\n",
    "    y = aqi_level_19.iloc[:,-2],\n",
    "    x = aqi_level_19.iloc[:,-3]),\n",
    "    row=2, col=2\n",
    ")\n",
    "\n",
    "fig.add_trace(go.Scatter(\n",
    "    name =\"2015\",\n",
    "    mode = \"lines+markers\",\n",
    "    y = aqi_level_15.iloc[:,-2],\n",
    "    x = aqi_level_15.iloc[:,-3]),\n",
    "    row=1, col=1\n",
    ")\n",
    "fig.add_trace(go.Scatter(name=\"2020\",\n",
    "                         mode = \"lines+markers\", \n",
    "                         y = aqi_level_20.iloc[:,-2],\n",
    "                         x = aqi_level_20.iloc[:,-3]),\n",
    "                         row = 2,col = 3)\n",
    "fig.update_layout(title_text=\"AQI IN DIFFERENT YEARS\", height=700)\n",
    "fig.show()\n"
   ]
  },
  {
   "cell_type": "code",
   "execution_count": 22,
   "id": "a2768218",
   "metadata": {},
   "outputs": [
    {
     "data": {
      "application/vnd.plotly.v1+json": {
       "config": {
        "plotlyServerURL": "https://plot.ly"
       },
       "data": [
        {
         "hovertemplate": "AQI=%{x}<br>Date=%{y}<br>AQI_Bucket=%{z}<extra></extra>",
         "legendgroup": "",
         "marker": {
          "color": "#636efa",
          "symbol": "circle"
         },
         "mode": "markers",
         "name": "",
         "scene": "scene",
         "showlegend": false,
         "type": "scatter3d",
         "x": [
          82,
          81,
          85,
          95,
          118,
          81,
          75,
          93,
          101,
          94,
          78,
          79,
          106,
          121,
          111,
          114,
          106,
          86,
          66,
          81,
          90,
          87,
          82,
          108,
          100,
          97,
          98,
          102,
          115,
          112,
          111,
          102,
          94,
          79,
          82,
          86,
          96,
          96,
          105,
          101,
          103,
          87,
          80,
          84,
          111,
          128,
          120,
          99,
          103,
          101,
          94,
          90,
          78,
          81,
          82,
          107,
          104,
          112,
          98,
          95,
          101,
          103,
          137,
          131,
          117,
          100,
          93,
          91,
          99,
          93,
          95,
          97,
          90,
          86,
          88,
          79,
          77,
          78,
          91,
          100,
          103,
          99,
          85,
          106,
          70,
          61,
          67,
          70,
          66,
          72,
          68,
          64,
          70,
          82,
          74,
          77,
          65,
          62,
          67,
          65,
          76,
          70,
          64,
          72,
          72,
          74,
          66,
          74,
          94,
          67,
          53,
          65,
          71,
          63,
          69,
          66,
          61,
          59,
          71,
          62,
          61,
          74,
          72,
          71,
          79,
          91,
          85,
          82,
          73,
          76,
          78,
          77,
          82,
          66,
          66,
          73,
          74,
          70,
          68,
          72,
          79,
          70,
          68,
          72,
          66,
          70,
          66,
          75,
          74,
          66,
          72,
          61,
          49,
          40,
          42,
          43,
          55,
          55,
          55,
          55,
          58,
          70,
          59,
          49,
          50,
          49,
          47,
          55,
          57,
          65,
          65,
          56,
          52,
          49,
          56,
          63,
          63,
          58,
          51,
          61,
          65,
          63,
          43
         ],
         "y": [
          "2020-01-01T00:00:00",
          "2020-01-02T00:00:00",
          "2020-01-03T00:00:00",
          "2020-01-04T00:00:00",
          "2020-01-05T00:00:00",
          "2020-01-06T00:00:00",
          "2020-01-07T00:00:00",
          "2020-01-08T00:00:00",
          "2020-01-09T00:00:00",
          "2020-01-10T00:00:00",
          "2020-01-11T00:00:00",
          "2020-01-12T00:00:00",
          "2020-01-13T00:00:00",
          "2020-01-14T00:00:00",
          "2020-01-15T00:00:00",
          "2020-01-16T00:00:00",
          "2020-01-17T00:00:00",
          "2020-01-18T00:00:00",
          "2020-01-19T00:00:00",
          "2020-01-20T00:00:00",
          "2020-01-21T00:00:00",
          "2020-01-22T00:00:00",
          "2020-01-23T00:00:00",
          "2020-01-24T00:00:00",
          "2020-01-25T00:00:00",
          "2020-01-26T00:00:00",
          "2020-01-27T00:00:00",
          "2020-01-28T00:00:00",
          "2020-01-29T00:00:00",
          "2020-01-30T00:00:00",
          "2020-01-31T00:00:00",
          "2020-02-01T00:00:00",
          "2020-02-02T00:00:00",
          "2020-02-03T00:00:00",
          "2020-02-04T00:00:00",
          "2020-02-05T00:00:00",
          "2020-02-06T00:00:00",
          "2020-02-07T00:00:00",
          "2020-02-08T00:00:00",
          "2020-02-09T00:00:00",
          "2020-02-10T00:00:00",
          "2020-02-11T00:00:00",
          "2020-02-12T00:00:00",
          "2020-02-13T00:00:00",
          "2020-02-14T00:00:00",
          "2020-02-15T00:00:00",
          "2020-02-16T00:00:00",
          "2020-02-17T00:00:00",
          "2020-02-18T00:00:00",
          "2020-02-19T00:00:00",
          "2020-02-20T00:00:00",
          "2020-02-21T00:00:00",
          "2020-02-22T00:00:00",
          "2020-02-23T00:00:00",
          "2020-02-24T00:00:00",
          "2020-02-25T00:00:00",
          "2020-02-26T00:00:00",
          "2020-02-27T00:00:00",
          "2020-02-28T00:00:00",
          "2020-02-29T00:00:00",
          "2020-03-01T00:00:00",
          "2020-03-02T00:00:00",
          "2020-03-03T00:00:00",
          "2020-03-04T00:00:00",
          "2020-03-05T00:00:00",
          "2020-03-06T00:00:00",
          "2020-03-07T00:00:00",
          "2020-03-08T00:00:00",
          "2020-03-09T00:00:00",
          "2020-03-10T00:00:00",
          "2020-03-11T00:00:00",
          "2020-03-12T00:00:00",
          "2020-03-13T00:00:00",
          "2020-03-14T00:00:00",
          "2020-03-15T00:00:00",
          "2020-03-16T00:00:00",
          "2020-03-17T00:00:00",
          "2020-03-18T00:00:00",
          "2020-03-19T00:00:00",
          "2020-03-20T00:00:00",
          "2020-03-21T00:00:00",
          "2020-03-22T00:00:00",
          "2020-03-23T00:00:00",
          "2020-03-24T00:00:00",
          "2020-03-25T00:00:00",
          "2020-03-26T00:00:00",
          "2020-03-27T00:00:00",
          "2020-03-28T00:00:00",
          "2020-03-29T00:00:00",
          "2020-03-30T00:00:00",
          "2020-03-31T00:00:00",
          "2020-04-01T00:00:00",
          "2020-04-02T00:00:00",
          "2020-04-03T00:00:00",
          "2020-04-04T00:00:00",
          "2020-04-05T00:00:00",
          "2020-04-06T00:00:00",
          "2020-04-07T00:00:00",
          "2020-04-08T00:00:00",
          "2020-04-09T00:00:00",
          "2020-04-10T00:00:00",
          "2020-04-11T00:00:00",
          "2020-04-12T00:00:00",
          "2020-04-13T00:00:00",
          "2020-04-14T00:00:00",
          "2020-04-15T00:00:00",
          "2020-04-16T00:00:00",
          "2020-04-17T00:00:00",
          "2020-04-18T00:00:00",
          "2020-04-19T00:00:00",
          "2020-04-20T00:00:00",
          "2020-04-21T00:00:00",
          "2020-04-22T00:00:00",
          "2020-04-23T00:00:00",
          "2020-04-24T00:00:00",
          "2020-04-25T00:00:00",
          "2020-04-26T00:00:00",
          "2020-04-27T00:00:00",
          "2020-04-28T00:00:00",
          "2020-04-29T00:00:00",
          "2020-04-30T00:00:00",
          "2020-05-01T00:00:00",
          "2020-05-02T00:00:00",
          "2020-05-03T00:00:00",
          "2020-05-04T00:00:00",
          "2020-05-05T00:00:00",
          "2020-05-06T00:00:00",
          "2020-05-07T00:00:00",
          "2020-05-08T00:00:00",
          "2020-05-09T00:00:00",
          "2020-05-10T00:00:00",
          "2020-05-11T00:00:00",
          "2020-05-12T00:00:00",
          "2020-05-13T00:00:00",
          "2020-05-14T00:00:00",
          "2020-05-15T00:00:00",
          "2020-05-16T00:00:00",
          "2020-05-17T00:00:00",
          "2020-05-18T00:00:00",
          "2020-05-19T00:00:00",
          "2020-05-20T00:00:00",
          "2020-05-21T00:00:00",
          "2020-05-22T00:00:00",
          "2020-05-23T00:00:00",
          "2020-05-24T00:00:00",
          "2020-05-25T00:00:00",
          "2020-05-26T00:00:00",
          "2020-05-27T00:00:00",
          "2020-05-28T00:00:00",
          "2020-05-29T00:00:00",
          "2020-05-30T00:00:00",
          "2020-05-31T00:00:00",
          "2020-06-01T00:00:00",
          "2020-06-02T00:00:00",
          "2020-06-03T00:00:00",
          "2020-06-04T00:00:00",
          "2020-06-05T00:00:00",
          "2020-06-06T00:00:00",
          "2020-06-07T00:00:00",
          "2020-06-08T00:00:00",
          "2020-06-09T00:00:00",
          "2020-06-10T00:00:00",
          "2020-06-11T00:00:00",
          "2020-06-12T00:00:00",
          "2020-06-13T00:00:00",
          "2020-06-14T00:00:00",
          "2020-06-15T00:00:00",
          "2020-06-16T00:00:00",
          "2020-06-17T00:00:00",
          "2020-06-18T00:00:00",
          "2020-06-19T00:00:00",
          "2020-06-20T00:00:00",
          "2020-06-21T00:00:00",
          "2020-06-22T00:00:00",
          "2020-06-23T00:00:00",
          "2020-06-24T00:00:00",
          "2020-06-25T00:00:00",
          "2020-06-26T00:00:00",
          "2020-06-27T00:00:00",
          "2020-06-28T00:00:00",
          "2020-06-29T00:00:00",
          "2020-06-30T00:00:00",
          "2020-07-01T00:00:00"
         ],
         "z": [
          "Satisfactory",
          "Satisfactory",
          "Satisfactory",
          "Satisfactory",
          "Moderate",
          "Satisfactory",
          "Satisfactory",
          "Satisfactory",
          "Moderate",
          "Satisfactory",
          "Satisfactory",
          "Satisfactory",
          "Moderate",
          "Moderate",
          "Moderate",
          "Moderate",
          "Moderate",
          "Satisfactory",
          "Satisfactory",
          "Satisfactory",
          "Satisfactory",
          "Satisfactory",
          "Satisfactory",
          "Moderate",
          "Satisfactory",
          "Satisfactory",
          "Satisfactory",
          "Moderate",
          "Moderate",
          "Moderate",
          "Moderate",
          "Moderate",
          "Satisfactory",
          "Satisfactory",
          "Satisfactory",
          "Satisfactory",
          "Satisfactory",
          "Satisfactory",
          "Moderate",
          "Moderate",
          "Moderate",
          "Satisfactory",
          "Satisfactory",
          "Satisfactory",
          "Moderate",
          "Moderate",
          "Moderate",
          "Satisfactory",
          "Moderate",
          "Moderate",
          "Satisfactory",
          "Satisfactory",
          "Satisfactory",
          "Satisfactory",
          "Satisfactory",
          "Moderate",
          "Moderate",
          "Moderate",
          "Satisfactory",
          "Satisfactory",
          "Moderate",
          "Moderate",
          "Moderate",
          "Moderate",
          "Moderate",
          "Satisfactory",
          "Satisfactory",
          "Satisfactory",
          "Satisfactory",
          "Satisfactory",
          "Satisfactory",
          "Satisfactory",
          "Satisfactory",
          "Satisfactory",
          "Satisfactory",
          "Satisfactory",
          "Satisfactory",
          "Satisfactory",
          "Satisfactory",
          "Satisfactory",
          "Moderate",
          "Satisfactory",
          "Satisfactory",
          "Moderate",
          "Satisfactory",
          "Satisfactory",
          "Satisfactory",
          "Satisfactory",
          "Satisfactory",
          "Satisfactory",
          "Satisfactory",
          "Satisfactory",
          "Satisfactory",
          "Satisfactory",
          "Satisfactory",
          "Satisfactory",
          "Satisfactory",
          "Satisfactory",
          "Satisfactory",
          "Satisfactory",
          "Satisfactory",
          "Satisfactory",
          "Satisfactory",
          "Satisfactory",
          "Satisfactory",
          "Satisfactory",
          "Satisfactory",
          "Satisfactory",
          "Satisfactory",
          "Satisfactory",
          "Satisfactory",
          "Satisfactory",
          "Satisfactory",
          "Satisfactory",
          "Satisfactory",
          "Satisfactory",
          "Satisfactory",
          "Satisfactory",
          "Satisfactory",
          "Satisfactory",
          "Satisfactory",
          "Satisfactory",
          "Satisfactory",
          "Satisfactory",
          "Satisfactory",
          "Satisfactory",
          "Satisfactory",
          "Satisfactory",
          "Satisfactory",
          "Satisfactory",
          "Satisfactory",
          "Satisfactory",
          "Satisfactory",
          "Satisfactory",
          "Satisfactory",
          "Satisfactory",
          "Satisfactory",
          "Satisfactory",
          "Satisfactory",
          "Satisfactory",
          "Satisfactory",
          "Satisfactory",
          "Satisfactory",
          "Satisfactory",
          "Satisfactory",
          "Satisfactory",
          "Satisfactory",
          "Satisfactory",
          "Satisfactory",
          "Satisfactory",
          "Satisfactory",
          "Satisfactory",
          "Good",
          "Good",
          "Good",
          "Good",
          "Satisfactory",
          "Satisfactory",
          "Satisfactory",
          "Satisfactory",
          "Satisfactory",
          "Satisfactory",
          "Satisfactory",
          "Good",
          "Good",
          "Good",
          "Good",
          "Satisfactory",
          "Satisfactory",
          "Satisfactory",
          "Satisfactory",
          "Satisfactory",
          "Satisfactory",
          "Good",
          "Satisfactory",
          "Satisfactory",
          "Satisfactory",
          "Satisfactory",
          "Satisfactory",
          "Satisfactory",
          "Satisfactory",
          "Satisfactory",
          "Good"
         ]
        }
       ],
       "layout": {
        "legend": {
         "tracegroupgap": 0
        },
        "margin": {
         "t": 60
        },
        "scene": {
         "domain": {
          "x": [
           0,
           1
          ],
          "y": [
           0,
           1
          ]
         },
         "xaxis": {
          "title": {
           "text": "AQI"
          }
         },
         "yaxis": {
          "title": {
           "text": "Date"
          }
         },
         "zaxis": {
          "title": {
           "text": "AQI_Bucket"
          }
         }
        },
        "template": {
         "data": {
          "bar": [
           {
            "error_x": {
             "color": "#2a3f5f"
            },
            "error_y": {
             "color": "#2a3f5f"
            },
            "marker": {
             "line": {
              "color": "#E5ECF6",
              "width": 0.5
             },
             "pattern": {
              "fillmode": "overlay",
              "size": 10,
              "solidity": 0.2
             }
            },
            "type": "bar"
           }
          ],
          "barpolar": [
           {
            "marker": {
             "line": {
              "color": "#E5ECF6",
              "width": 0.5
             },
             "pattern": {
              "fillmode": "overlay",
              "size": 10,
              "solidity": 0.2
             }
            },
            "type": "barpolar"
           }
          ],
          "carpet": [
           {
            "aaxis": {
             "endlinecolor": "#2a3f5f",
             "gridcolor": "white",
             "linecolor": "white",
             "minorgridcolor": "white",
             "startlinecolor": "#2a3f5f"
            },
            "baxis": {
             "endlinecolor": "#2a3f5f",
             "gridcolor": "white",
             "linecolor": "white",
             "minorgridcolor": "white",
             "startlinecolor": "#2a3f5f"
            },
            "type": "carpet"
           }
          ],
          "choropleth": [
           {
            "colorbar": {
             "outlinewidth": 0,
             "ticks": ""
            },
            "type": "choropleth"
           }
          ],
          "contour": [
           {
            "colorbar": {
             "outlinewidth": 0,
             "ticks": ""
            },
            "colorscale": [
             [
              0,
              "#0d0887"
             ],
             [
              0.1111111111111111,
              "#46039f"
             ],
             [
              0.2222222222222222,
              "#7201a8"
             ],
             [
              0.3333333333333333,
              "#9c179e"
             ],
             [
              0.4444444444444444,
              "#bd3786"
             ],
             [
              0.5555555555555556,
              "#d8576b"
             ],
             [
              0.6666666666666666,
              "#ed7953"
             ],
             [
              0.7777777777777778,
              "#fb9f3a"
             ],
             [
              0.8888888888888888,
              "#fdca26"
             ],
             [
              1,
              "#f0f921"
             ]
            ],
            "type": "contour"
           }
          ],
          "contourcarpet": [
           {
            "colorbar": {
             "outlinewidth": 0,
             "ticks": ""
            },
            "type": "contourcarpet"
           }
          ],
          "heatmap": [
           {
            "colorbar": {
             "outlinewidth": 0,
             "ticks": ""
            },
            "colorscale": [
             [
              0,
              "#0d0887"
             ],
             [
              0.1111111111111111,
              "#46039f"
             ],
             [
              0.2222222222222222,
              "#7201a8"
             ],
             [
              0.3333333333333333,
              "#9c179e"
             ],
             [
              0.4444444444444444,
              "#bd3786"
             ],
             [
              0.5555555555555556,
              "#d8576b"
             ],
             [
              0.6666666666666666,
              "#ed7953"
             ],
             [
              0.7777777777777778,
              "#fb9f3a"
             ],
             [
              0.8888888888888888,
              "#fdca26"
             ],
             [
              1,
              "#f0f921"
             ]
            ],
            "type": "heatmap"
           }
          ],
          "heatmapgl": [
           {
            "colorbar": {
             "outlinewidth": 0,
             "ticks": ""
            },
            "colorscale": [
             [
              0,
              "#0d0887"
             ],
             [
              0.1111111111111111,
              "#46039f"
             ],
             [
              0.2222222222222222,
              "#7201a8"
             ],
             [
              0.3333333333333333,
              "#9c179e"
             ],
             [
              0.4444444444444444,
              "#bd3786"
             ],
             [
              0.5555555555555556,
              "#d8576b"
             ],
             [
              0.6666666666666666,
              "#ed7953"
             ],
             [
              0.7777777777777778,
              "#fb9f3a"
             ],
             [
              0.8888888888888888,
              "#fdca26"
             ],
             [
              1,
              "#f0f921"
             ]
            ],
            "type": "heatmapgl"
           }
          ],
          "histogram": [
           {
            "marker": {
             "pattern": {
              "fillmode": "overlay",
              "size": 10,
              "solidity": 0.2
             }
            },
            "type": "histogram"
           }
          ],
          "histogram2d": [
           {
            "colorbar": {
             "outlinewidth": 0,
             "ticks": ""
            },
            "colorscale": [
             [
              0,
              "#0d0887"
             ],
             [
              0.1111111111111111,
              "#46039f"
             ],
             [
              0.2222222222222222,
              "#7201a8"
             ],
             [
              0.3333333333333333,
              "#9c179e"
             ],
             [
              0.4444444444444444,
              "#bd3786"
             ],
             [
              0.5555555555555556,
              "#d8576b"
             ],
             [
              0.6666666666666666,
              "#ed7953"
             ],
             [
              0.7777777777777778,
              "#fb9f3a"
             ],
             [
              0.8888888888888888,
              "#fdca26"
             ],
             [
              1,
              "#f0f921"
             ]
            ],
            "type": "histogram2d"
           }
          ],
          "histogram2dcontour": [
           {
            "colorbar": {
             "outlinewidth": 0,
             "ticks": ""
            },
            "colorscale": [
             [
              0,
              "#0d0887"
             ],
             [
              0.1111111111111111,
              "#46039f"
             ],
             [
              0.2222222222222222,
              "#7201a8"
             ],
             [
              0.3333333333333333,
              "#9c179e"
             ],
             [
              0.4444444444444444,
              "#bd3786"
             ],
             [
              0.5555555555555556,
              "#d8576b"
             ],
             [
              0.6666666666666666,
              "#ed7953"
             ],
             [
              0.7777777777777778,
              "#fb9f3a"
             ],
             [
              0.8888888888888888,
              "#fdca26"
             ],
             [
              1,
              "#f0f921"
             ]
            ],
            "type": "histogram2dcontour"
           }
          ],
          "mesh3d": [
           {
            "colorbar": {
             "outlinewidth": 0,
             "ticks": ""
            },
            "type": "mesh3d"
           }
          ],
          "parcoords": [
           {
            "line": {
             "colorbar": {
              "outlinewidth": 0,
              "ticks": ""
             }
            },
            "type": "parcoords"
           }
          ],
          "pie": [
           {
            "automargin": true,
            "type": "pie"
           }
          ],
          "scatter": [
           {
            "marker": {
             "colorbar": {
              "outlinewidth": 0,
              "ticks": ""
             }
            },
            "type": "scatter"
           }
          ],
          "scatter3d": [
           {
            "line": {
             "colorbar": {
              "outlinewidth": 0,
              "ticks": ""
             }
            },
            "marker": {
             "colorbar": {
              "outlinewidth": 0,
              "ticks": ""
             }
            },
            "type": "scatter3d"
           }
          ],
          "scattercarpet": [
           {
            "marker": {
             "colorbar": {
              "outlinewidth": 0,
              "ticks": ""
             }
            },
            "type": "scattercarpet"
           }
          ],
          "scattergeo": [
           {
            "marker": {
             "colorbar": {
              "outlinewidth": 0,
              "ticks": ""
             }
            },
            "type": "scattergeo"
           }
          ],
          "scattergl": [
           {
            "marker": {
             "colorbar": {
              "outlinewidth": 0,
              "ticks": ""
             }
            },
            "type": "scattergl"
           }
          ],
          "scattermapbox": [
           {
            "marker": {
             "colorbar": {
              "outlinewidth": 0,
              "ticks": ""
             }
            },
            "type": "scattermapbox"
           }
          ],
          "scatterpolar": [
           {
            "marker": {
             "colorbar": {
              "outlinewidth": 0,
              "ticks": ""
             }
            },
            "type": "scatterpolar"
           }
          ],
          "scatterpolargl": [
           {
            "marker": {
             "colorbar": {
              "outlinewidth": 0,
              "ticks": ""
             }
            },
            "type": "scatterpolargl"
           }
          ],
          "scatterternary": [
           {
            "marker": {
             "colorbar": {
              "outlinewidth": 0,
              "ticks": ""
             }
            },
            "type": "scatterternary"
           }
          ],
          "surface": [
           {
            "colorbar": {
             "outlinewidth": 0,
             "ticks": ""
            },
            "colorscale": [
             [
              0,
              "#0d0887"
             ],
             [
              0.1111111111111111,
              "#46039f"
             ],
             [
              0.2222222222222222,
              "#7201a8"
             ],
             [
              0.3333333333333333,
              "#9c179e"
             ],
             [
              0.4444444444444444,
              "#bd3786"
             ],
             [
              0.5555555555555556,
              "#d8576b"
             ],
             [
              0.6666666666666666,
              "#ed7953"
             ],
             [
              0.7777777777777778,
              "#fb9f3a"
             ],
             [
              0.8888888888888888,
              "#fdca26"
             ],
             [
              1,
              "#f0f921"
             ]
            ],
            "type": "surface"
           }
          ],
          "table": [
           {
            "cells": {
             "fill": {
              "color": "#EBF0F8"
             },
             "line": {
              "color": "white"
             }
            },
            "header": {
             "fill": {
              "color": "#C8D4E3"
             },
             "line": {
              "color": "white"
             }
            },
            "type": "table"
           }
          ]
         },
         "layout": {
          "annotationdefaults": {
           "arrowcolor": "#2a3f5f",
           "arrowhead": 0,
           "arrowwidth": 1
          },
          "autotypenumbers": "strict",
          "coloraxis": {
           "colorbar": {
            "outlinewidth": 0,
            "ticks": ""
           }
          },
          "colorscale": {
           "diverging": [
            [
             0,
             "#8e0152"
            ],
            [
             0.1,
             "#c51b7d"
            ],
            [
             0.2,
             "#de77ae"
            ],
            [
             0.3,
             "#f1b6da"
            ],
            [
             0.4,
             "#fde0ef"
            ],
            [
             0.5,
             "#f7f7f7"
            ],
            [
             0.6,
             "#e6f5d0"
            ],
            [
             0.7,
             "#b8e186"
            ],
            [
             0.8,
             "#7fbc41"
            ],
            [
             0.9,
             "#4d9221"
            ],
            [
             1,
             "#276419"
            ]
           ],
           "sequential": [
            [
             0,
             "#0d0887"
            ],
            [
             0.1111111111111111,
             "#46039f"
            ],
            [
             0.2222222222222222,
             "#7201a8"
            ],
            [
             0.3333333333333333,
             "#9c179e"
            ],
            [
             0.4444444444444444,
             "#bd3786"
            ],
            [
             0.5555555555555556,
             "#d8576b"
            ],
            [
             0.6666666666666666,
             "#ed7953"
            ],
            [
             0.7777777777777778,
             "#fb9f3a"
            ],
            [
             0.8888888888888888,
             "#fdca26"
            ],
            [
             1,
             "#f0f921"
            ]
           ],
           "sequentialminus": [
            [
             0,
             "#0d0887"
            ],
            [
             0.1111111111111111,
             "#46039f"
            ],
            [
             0.2222222222222222,
             "#7201a8"
            ],
            [
             0.3333333333333333,
             "#9c179e"
            ],
            [
             0.4444444444444444,
             "#bd3786"
            ],
            [
             0.5555555555555556,
             "#d8576b"
            ],
            [
             0.6666666666666666,
             "#ed7953"
            ],
            [
             0.7777777777777778,
             "#fb9f3a"
            ],
            [
             0.8888888888888888,
             "#fdca26"
            ],
            [
             1,
             "#f0f921"
            ]
           ]
          },
          "colorway": [
           "#636efa",
           "#EF553B",
           "#00cc96",
           "#ab63fa",
           "#FFA15A",
           "#19d3f3",
           "#FF6692",
           "#B6E880",
           "#FF97FF",
           "#FECB52"
          ],
          "font": {
           "color": "#2a3f5f"
          },
          "geo": {
           "bgcolor": "white",
           "lakecolor": "white",
           "landcolor": "#E5ECF6",
           "showlakes": true,
           "showland": true,
           "subunitcolor": "white"
          },
          "hoverlabel": {
           "align": "left"
          },
          "hovermode": "closest",
          "mapbox": {
           "style": "light"
          },
          "paper_bgcolor": "white",
          "plot_bgcolor": "#E5ECF6",
          "polar": {
           "angularaxis": {
            "gridcolor": "white",
            "linecolor": "white",
            "ticks": ""
           },
           "bgcolor": "#E5ECF6",
           "radialaxis": {
            "gridcolor": "white",
            "linecolor": "white",
            "ticks": ""
           }
          },
          "scene": {
           "xaxis": {
            "backgroundcolor": "#E5ECF6",
            "gridcolor": "white",
            "gridwidth": 2,
            "linecolor": "white",
            "showbackground": true,
            "ticks": "",
            "zerolinecolor": "white"
           },
           "yaxis": {
            "backgroundcolor": "#E5ECF6",
            "gridcolor": "white",
            "gridwidth": 2,
            "linecolor": "white",
            "showbackground": true,
            "ticks": "",
            "zerolinecolor": "white"
           },
           "zaxis": {
            "backgroundcolor": "#E5ECF6",
            "gridcolor": "white",
            "gridwidth": 2,
            "linecolor": "white",
            "showbackground": true,
            "ticks": "",
            "zerolinecolor": "white"
           }
          },
          "shapedefaults": {
           "line": {
            "color": "#2a3f5f"
           }
          },
          "ternary": {
           "aaxis": {
            "gridcolor": "white",
            "linecolor": "white",
            "ticks": ""
           },
           "baxis": {
            "gridcolor": "white",
            "linecolor": "white",
            "ticks": ""
           },
           "bgcolor": "#E5ECF6",
           "caxis": {
            "gridcolor": "white",
            "linecolor": "white",
            "ticks": ""
           }
          },
          "title": {
           "x": 0.05
          },
          "xaxis": {
           "automargin": true,
           "gridcolor": "white",
           "linecolor": "white",
           "ticks": "",
           "title": {
            "standoff": 15
           },
           "zerolinecolor": "white",
           "zerolinewidth": 2
          },
          "yaxis": {
           "automargin": true,
           "gridcolor": "white",
           "linecolor": "white",
           "ticks": "",
           "title": {
            "standoff": 15
           },
           "zerolinecolor": "white",
           "zerolinewidth": 2
          }
         }
        }
       }
      },
      "text/html": [
       "<div>                            <div id=\"49bd348c-eaaf-48e4-a6e1-19011c818987\" class=\"plotly-graph-div\" style=\"height:525px; width:100%;\"></div>            <script type=\"text/javascript\">                require([\"plotly\"], function(Plotly) {                    window.PLOTLYENV=window.PLOTLYENV || {};                                    if (document.getElementById(\"49bd348c-eaaf-48e4-a6e1-19011c818987\")) {                    Plotly.newPlot(                        \"49bd348c-eaaf-48e4-a6e1-19011c818987\",                        [{\"hovertemplate\":\"AQI=%{x}<br>Date=%{y}<br>AQI_Bucket=%{z}<extra></extra>\",\"legendgroup\":\"\",\"marker\":{\"color\":\"#636efa\",\"symbol\":\"circle\"},\"mode\":\"markers\",\"name\":\"\",\"scene\":\"scene\",\"showlegend\":false,\"x\":[82.0,81.0,85.0,95.0,118.0,81.0,75.0,93.0,101.0,94.0,78.0,79.0,106.0,121.0,111.0,114.0,106.0,86.0,66.0,81.0,90.0,87.0,82.0,108.0,100.0,97.0,98.0,102.0,115.0,112.0,111.0,102.0,94.0,79.0,82.0,86.0,96.0,96.0,105.0,101.0,103.0,87.0,80.0,84.0,111.0,128.0,120.0,99.0,103.0,101.0,94.0,90.0,78.0,81.0,82.0,107.0,104.0,112.0,98.0,95.0,101.0,103.0,137.0,131.0,117.0,100.0,93.0,91.0,99.0,93.0,95.0,97.0,90.0,86.0,88.0,79.0,77.0,78.0,91.0,100.0,103.0,99.0,85.0,106.0,70.0,61.0,67.0,70.0,66.0,72.0,68.0,64.0,70.0,82.0,74.0,77.0,65.0,62.0,67.0,65.0,76.0,70.0,64.0,72.0,72.0,74.0,66.0,74.0,94.0,67.0,53.0,65.0,71.0,63.0,69.0,66.0,61.0,59.0,71.0,62.0,61.0,74.0,72.0,71.0,79.0,91.0,85.0,82.0,73.0,76.0,78.0,77.0,82.0,66.0,66.0,73.0,74.0,70.0,68.0,72.0,79.0,70.0,68.0,72.0,66.0,70.0,66.0,75.0,74.0,66.0,72.0,61.0,49.0,40.0,42.0,43.0,55.0,55.0,55.0,55.0,58.0,70.0,59.0,49.0,50.0,49.0,47.0,55.0,57.0,65.0,65.0,56.0,52.0,49.0,56.0,63.0,63.0,58.0,51.0,61.0,65.0,63.0,43.0],\"y\":[\"2020-01-01T00:00:00\",\"2020-01-02T00:00:00\",\"2020-01-03T00:00:00\",\"2020-01-04T00:00:00\",\"2020-01-05T00:00:00\",\"2020-01-06T00:00:00\",\"2020-01-07T00:00:00\",\"2020-01-08T00:00:00\",\"2020-01-09T00:00:00\",\"2020-01-10T00:00:00\",\"2020-01-11T00:00:00\",\"2020-01-12T00:00:00\",\"2020-01-13T00:00:00\",\"2020-01-14T00:00:00\",\"2020-01-15T00:00:00\",\"2020-01-16T00:00:00\",\"2020-01-17T00:00:00\",\"2020-01-18T00:00:00\",\"2020-01-19T00:00:00\",\"2020-01-20T00:00:00\",\"2020-01-21T00:00:00\",\"2020-01-22T00:00:00\",\"2020-01-23T00:00:00\",\"2020-01-24T00:00:00\",\"2020-01-25T00:00:00\",\"2020-01-26T00:00:00\",\"2020-01-27T00:00:00\",\"2020-01-28T00:00:00\",\"2020-01-29T00:00:00\",\"2020-01-30T00:00:00\",\"2020-01-31T00:00:00\",\"2020-02-01T00:00:00\",\"2020-02-02T00:00:00\",\"2020-02-03T00:00:00\",\"2020-02-04T00:00:00\",\"2020-02-05T00:00:00\",\"2020-02-06T00:00:00\",\"2020-02-07T00:00:00\",\"2020-02-08T00:00:00\",\"2020-02-09T00:00:00\",\"2020-02-10T00:00:00\",\"2020-02-11T00:00:00\",\"2020-02-12T00:00:00\",\"2020-02-13T00:00:00\",\"2020-02-14T00:00:00\",\"2020-02-15T00:00:00\",\"2020-02-16T00:00:00\",\"2020-02-17T00:00:00\",\"2020-02-18T00:00:00\",\"2020-02-19T00:00:00\",\"2020-02-20T00:00:00\",\"2020-02-21T00:00:00\",\"2020-02-22T00:00:00\",\"2020-02-23T00:00:00\",\"2020-02-24T00:00:00\",\"2020-02-25T00:00:00\",\"2020-02-26T00:00:00\",\"2020-02-27T00:00:00\",\"2020-02-28T00:00:00\",\"2020-02-29T00:00:00\",\"2020-03-01T00:00:00\",\"2020-03-02T00:00:00\",\"2020-03-03T00:00:00\",\"2020-03-04T00:00:00\",\"2020-03-05T00:00:00\",\"2020-03-06T00:00:00\",\"2020-03-07T00:00:00\",\"2020-03-08T00:00:00\",\"2020-03-09T00:00:00\",\"2020-03-10T00:00:00\",\"2020-03-11T00:00:00\",\"2020-03-12T00:00:00\",\"2020-03-13T00:00:00\",\"2020-03-14T00:00:00\",\"2020-03-15T00:00:00\",\"2020-03-16T00:00:00\",\"2020-03-17T00:00:00\",\"2020-03-18T00:00:00\",\"2020-03-19T00:00:00\",\"2020-03-20T00:00:00\",\"2020-03-21T00:00:00\",\"2020-03-22T00:00:00\",\"2020-03-23T00:00:00\",\"2020-03-24T00:00:00\",\"2020-03-25T00:00:00\",\"2020-03-26T00:00:00\",\"2020-03-27T00:00:00\",\"2020-03-28T00:00:00\",\"2020-03-29T00:00:00\",\"2020-03-30T00:00:00\",\"2020-03-31T00:00:00\",\"2020-04-01T00:00:00\",\"2020-04-02T00:00:00\",\"2020-04-03T00:00:00\",\"2020-04-04T00:00:00\",\"2020-04-05T00:00:00\",\"2020-04-06T00:00:00\",\"2020-04-07T00:00:00\",\"2020-04-08T00:00:00\",\"2020-04-09T00:00:00\",\"2020-04-10T00:00:00\",\"2020-04-11T00:00:00\",\"2020-04-12T00:00:00\",\"2020-04-13T00:00:00\",\"2020-04-14T00:00:00\",\"2020-04-15T00:00:00\",\"2020-04-16T00:00:00\",\"2020-04-17T00:00:00\",\"2020-04-18T00:00:00\",\"2020-04-19T00:00:00\",\"2020-04-20T00:00:00\",\"2020-04-21T00:00:00\",\"2020-04-22T00:00:00\",\"2020-04-23T00:00:00\",\"2020-04-24T00:00:00\",\"2020-04-25T00:00:00\",\"2020-04-26T00:00:00\",\"2020-04-27T00:00:00\",\"2020-04-28T00:00:00\",\"2020-04-29T00:00:00\",\"2020-04-30T00:00:00\",\"2020-05-01T00:00:00\",\"2020-05-02T00:00:00\",\"2020-05-03T00:00:00\",\"2020-05-04T00:00:00\",\"2020-05-05T00:00:00\",\"2020-05-06T00:00:00\",\"2020-05-07T00:00:00\",\"2020-05-08T00:00:00\",\"2020-05-09T00:00:00\",\"2020-05-10T00:00:00\",\"2020-05-11T00:00:00\",\"2020-05-12T00:00:00\",\"2020-05-13T00:00:00\",\"2020-05-14T00:00:00\",\"2020-05-15T00:00:00\",\"2020-05-16T00:00:00\",\"2020-05-17T00:00:00\",\"2020-05-18T00:00:00\",\"2020-05-19T00:00:00\",\"2020-05-20T00:00:00\",\"2020-05-21T00:00:00\",\"2020-05-22T00:00:00\",\"2020-05-23T00:00:00\",\"2020-05-24T00:00:00\",\"2020-05-25T00:00:00\",\"2020-05-26T00:00:00\",\"2020-05-27T00:00:00\",\"2020-05-28T00:00:00\",\"2020-05-29T00:00:00\",\"2020-05-30T00:00:00\",\"2020-05-31T00:00:00\",\"2020-06-01T00:00:00\",\"2020-06-02T00:00:00\",\"2020-06-03T00:00:00\",\"2020-06-04T00:00:00\",\"2020-06-05T00:00:00\",\"2020-06-06T00:00:00\",\"2020-06-07T00:00:00\",\"2020-06-08T00:00:00\",\"2020-06-09T00:00:00\",\"2020-06-10T00:00:00\",\"2020-06-11T00:00:00\",\"2020-06-12T00:00:00\",\"2020-06-13T00:00:00\",\"2020-06-14T00:00:00\",\"2020-06-15T00:00:00\",\"2020-06-16T00:00:00\",\"2020-06-17T00:00:00\",\"2020-06-18T00:00:00\",\"2020-06-19T00:00:00\",\"2020-06-20T00:00:00\",\"2020-06-21T00:00:00\",\"2020-06-22T00:00:00\",\"2020-06-23T00:00:00\",\"2020-06-24T00:00:00\",\"2020-06-25T00:00:00\",\"2020-06-26T00:00:00\",\"2020-06-27T00:00:00\",\"2020-06-28T00:00:00\",\"2020-06-29T00:00:00\",\"2020-06-30T00:00:00\",\"2020-07-01T00:00:00\"],\"z\":[\"Satisfactory\",\"Satisfactory\",\"Satisfactory\",\"Satisfactory\",\"Moderate\",\"Satisfactory\",\"Satisfactory\",\"Satisfactory\",\"Moderate\",\"Satisfactory\",\"Satisfactory\",\"Satisfactory\",\"Moderate\",\"Moderate\",\"Moderate\",\"Moderate\",\"Moderate\",\"Satisfactory\",\"Satisfactory\",\"Satisfactory\",\"Satisfactory\",\"Satisfactory\",\"Satisfactory\",\"Moderate\",\"Satisfactory\",\"Satisfactory\",\"Satisfactory\",\"Moderate\",\"Moderate\",\"Moderate\",\"Moderate\",\"Moderate\",\"Satisfactory\",\"Satisfactory\",\"Satisfactory\",\"Satisfactory\",\"Satisfactory\",\"Satisfactory\",\"Moderate\",\"Moderate\",\"Moderate\",\"Satisfactory\",\"Satisfactory\",\"Satisfactory\",\"Moderate\",\"Moderate\",\"Moderate\",\"Satisfactory\",\"Moderate\",\"Moderate\",\"Satisfactory\",\"Satisfactory\",\"Satisfactory\",\"Satisfactory\",\"Satisfactory\",\"Moderate\",\"Moderate\",\"Moderate\",\"Satisfactory\",\"Satisfactory\",\"Moderate\",\"Moderate\",\"Moderate\",\"Moderate\",\"Moderate\",\"Satisfactory\",\"Satisfactory\",\"Satisfactory\",\"Satisfactory\",\"Satisfactory\",\"Satisfactory\",\"Satisfactory\",\"Satisfactory\",\"Satisfactory\",\"Satisfactory\",\"Satisfactory\",\"Satisfactory\",\"Satisfactory\",\"Satisfactory\",\"Satisfactory\",\"Moderate\",\"Satisfactory\",\"Satisfactory\",\"Moderate\",\"Satisfactory\",\"Satisfactory\",\"Satisfactory\",\"Satisfactory\",\"Satisfactory\",\"Satisfactory\",\"Satisfactory\",\"Satisfactory\",\"Satisfactory\",\"Satisfactory\",\"Satisfactory\",\"Satisfactory\",\"Satisfactory\",\"Satisfactory\",\"Satisfactory\",\"Satisfactory\",\"Satisfactory\",\"Satisfactory\",\"Satisfactory\",\"Satisfactory\",\"Satisfactory\",\"Satisfactory\",\"Satisfactory\",\"Satisfactory\",\"Satisfactory\",\"Satisfactory\",\"Satisfactory\",\"Satisfactory\",\"Satisfactory\",\"Satisfactory\",\"Satisfactory\",\"Satisfactory\",\"Satisfactory\",\"Satisfactory\",\"Satisfactory\",\"Satisfactory\",\"Satisfactory\",\"Satisfactory\",\"Satisfactory\",\"Satisfactory\",\"Satisfactory\",\"Satisfactory\",\"Satisfactory\",\"Satisfactory\",\"Satisfactory\",\"Satisfactory\",\"Satisfactory\",\"Satisfactory\",\"Satisfactory\",\"Satisfactory\",\"Satisfactory\",\"Satisfactory\",\"Satisfactory\",\"Satisfactory\",\"Satisfactory\",\"Satisfactory\",\"Satisfactory\",\"Satisfactory\",\"Satisfactory\",\"Satisfactory\",\"Satisfactory\",\"Satisfactory\",\"Satisfactory\",\"Satisfactory\",\"Satisfactory\",\"Satisfactory\",\"Satisfactory\",\"Satisfactory\",\"Good\",\"Good\",\"Good\",\"Good\",\"Satisfactory\",\"Satisfactory\",\"Satisfactory\",\"Satisfactory\",\"Satisfactory\",\"Satisfactory\",\"Satisfactory\",\"Good\",\"Good\",\"Good\",\"Good\",\"Satisfactory\",\"Satisfactory\",\"Satisfactory\",\"Satisfactory\",\"Satisfactory\",\"Satisfactory\",\"Good\",\"Satisfactory\",\"Satisfactory\",\"Satisfactory\",\"Satisfactory\",\"Satisfactory\",\"Satisfactory\",\"Satisfactory\",\"Satisfactory\",\"Good\"],\"type\":\"scatter3d\"}],                        {\"template\":{\"data\":{\"bar\":[{\"error_x\":{\"color\":\"#2a3f5f\"},\"error_y\":{\"color\":\"#2a3f5f\"},\"marker\":{\"line\":{\"color\":\"#E5ECF6\",\"width\":0.5},\"pattern\":{\"fillmode\":\"overlay\",\"size\":10,\"solidity\":0.2}},\"type\":\"bar\"}],\"barpolar\":[{\"marker\":{\"line\":{\"color\":\"#E5ECF6\",\"width\":0.5},\"pattern\":{\"fillmode\":\"overlay\",\"size\":10,\"solidity\":0.2}},\"type\":\"barpolar\"}],\"carpet\":[{\"aaxis\":{\"endlinecolor\":\"#2a3f5f\",\"gridcolor\":\"white\",\"linecolor\":\"white\",\"minorgridcolor\":\"white\",\"startlinecolor\":\"#2a3f5f\"},\"baxis\":{\"endlinecolor\":\"#2a3f5f\",\"gridcolor\":\"white\",\"linecolor\":\"white\",\"minorgridcolor\":\"white\",\"startlinecolor\":\"#2a3f5f\"},\"type\":\"carpet\"}],\"choropleth\":[{\"colorbar\":{\"outlinewidth\":0,\"ticks\":\"\"},\"type\":\"choropleth\"}],\"contour\":[{\"colorbar\":{\"outlinewidth\":0,\"ticks\":\"\"},\"colorscale\":[[0.0,\"#0d0887\"],[0.1111111111111111,\"#46039f\"],[0.2222222222222222,\"#7201a8\"],[0.3333333333333333,\"#9c179e\"],[0.4444444444444444,\"#bd3786\"],[0.5555555555555556,\"#d8576b\"],[0.6666666666666666,\"#ed7953\"],[0.7777777777777778,\"#fb9f3a\"],[0.8888888888888888,\"#fdca26\"],[1.0,\"#f0f921\"]],\"type\":\"contour\"}],\"contourcarpet\":[{\"colorbar\":{\"outlinewidth\":0,\"ticks\":\"\"},\"type\":\"contourcarpet\"}],\"heatmap\":[{\"colorbar\":{\"outlinewidth\":0,\"ticks\":\"\"},\"colorscale\":[[0.0,\"#0d0887\"],[0.1111111111111111,\"#46039f\"],[0.2222222222222222,\"#7201a8\"],[0.3333333333333333,\"#9c179e\"],[0.4444444444444444,\"#bd3786\"],[0.5555555555555556,\"#d8576b\"],[0.6666666666666666,\"#ed7953\"],[0.7777777777777778,\"#fb9f3a\"],[0.8888888888888888,\"#fdca26\"],[1.0,\"#f0f921\"]],\"type\":\"heatmap\"}],\"heatmapgl\":[{\"colorbar\":{\"outlinewidth\":0,\"ticks\":\"\"},\"colorscale\":[[0.0,\"#0d0887\"],[0.1111111111111111,\"#46039f\"],[0.2222222222222222,\"#7201a8\"],[0.3333333333333333,\"#9c179e\"],[0.4444444444444444,\"#bd3786\"],[0.5555555555555556,\"#d8576b\"],[0.6666666666666666,\"#ed7953\"],[0.7777777777777778,\"#fb9f3a\"],[0.8888888888888888,\"#fdca26\"],[1.0,\"#f0f921\"]],\"type\":\"heatmapgl\"}],\"histogram\":[{\"marker\":{\"pattern\":{\"fillmode\":\"overlay\",\"size\":10,\"solidity\":0.2}},\"type\":\"histogram\"}],\"histogram2d\":[{\"colorbar\":{\"outlinewidth\":0,\"ticks\":\"\"},\"colorscale\":[[0.0,\"#0d0887\"],[0.1111111111111111,\"#46039f\"],[0.2222222222222222,\"#7201a8\"],[0.3333333333333333,\"#9c179e\"],[0.4444444444444444,\"#bd3786\"],[0.5555555555555556,\"#d8576b\"],[0.6666666666666666,\"#ed7953\"],[0.7777777777777778,\"#fb9f3a\"],[0.8888888888888888,\"#fdca26\"],[1.0,\"#f0f921\"]],\"type\":\"histogram2d\"}],\"histogram2dcontour\":[{\"colorbar\":{\"outlinewidth\":0,\"ticks\":\"\"},\"colorscale\":[[0.0,\"#0d0887\"],[0.1111111111111111,\"#46039f\"],[0.2222222222222222,\"#7201a8\"],[0.3333333333333333,\"#9c179e\"],[0.4444444444444444,\"#bd3786\"],[0.5555555555555556,\"#d8576b\"],[0.6666666666666666,\"#ed7953\"],[0.7777777777777778,\"#fb9f3a\"],[0.8888888888888888,\"#fdca26\"],[1.0,\"#f0f921\"]],\"type\":\"histogram2dcontour\"}],\"mesh3d\":[{\"colorbar\":{\"outlinewidth\":0,\"ticks\":\"\"},\"type\":\"mesh3d\"}],\"parcoords\":[{\"line\":{\"colorbar\":{\"outlinewidth\":0,\"ticks\":\"\"}},\"type\":\"parcoords\"}],\"pie\":[{\"automargin\":true,\"type\":\"pie\"}],\"scatter\":[{\"marker\":{\"colorbar\":{\"outlinewidth\":0,\"ticks\":\"\"}},\"type\":\"scatter\"}],\"scatter3d\":[{\"line\":{\"colorbar\":{\"outlinewidth\":0,\"ticks\":\"\"}},\"marker\":{\"colorbar\":{\"outlinewidth\":0,\"ticks\":\"\"}},\"type\":\"scatter3d\"}],\"scattercarpet\":[{\"marker\":{\"colorbar\":{\"outlinewidth\":0,\"ticks\":\"\"}},\"type\":\"scattercarpet\"}],\"scattergeo\":[{\"marker\":{\"colorbar\":{\"outlinewidth\":0,\"ticks\":\"\"}},\"type\":\"scattergeo\"}],\"scattergl\":[{\"marker\":{\"colorbar\":{\"outlinewidth\":0,\"ticks\":\"\"}},\"type\":\"scattergl\"}],\"scattermapbox\":[{\"marker\":{\"colorbar\":{\"outlinewidth\":0,\"ticks\":\"\"}},\"type\":\"scattermapbox\"}],\"scatterpolar\":[{\"marker\":{\"colorbar\":{\"outlinewidth\":0,\"ticks\":\"\"}},\"type\":\"scatterpolar\"}],\"scatterpolargl\":[{\"marker\":{\"colorbar\":{\"outlinewidth\":0,\"ticks\":\"\"}},\"type\":\"scatterpolargl\"}],\"scatterternary\":[{\"marker\":{\"colorbar\":{\"outlinewidth\":0,\"ticks\":\"\"}},\"type\":\"scatterternary\"}],\"surface\":[{\"colorbar\":{\"outlinewidth\":0,\"ticks\":\"\"},\"colorscale\":[[0.0,\"#0d0887\"],[0.1111111111111111,\"#46039f\"],[0.2222222222222222,\"#7201a8\"],[0.3333333333333333,\"#9c179e\"],[0.4444444444444444,\"#bd3786\"],[0.5555555555555556,\"#d8576b\"],[0.6666666666666666,\"#ed7953\"],[0.7777777777777778,\"#fb9f3a\"],[0.8888888888888888,\"#fdca26\"],[1.0,\"#f0f921\"]],\"type\":\"surface\"}],\"table\":[{\"cells\":{\"fill\":{\"color\":\"#EBF0F8\"},\"line\":{\"color\":\"white\"}},\"header\":{\"fill\":{\"color\":\"#C8D4E3\"},\"line\":{\"color\":\"white\"}},\"type\":\"table\"}]},\"layout\":{\"annotationdefaults\":{\"arrowcolor\":\"#2a3f5f\",\"arrowhead\":0,\"arrowwidth\":1},\"autotypenumbers\":\"strict\",\"coloraxis\":{\"colorbar\":{\"outlinewidth\":0,\"ticks\":\"\"}},\"colorscale\":{\"diverging\":[[0,\"#8e0152\"],[0.1,\"#c51b7d\"],[0.2,\"#de77ae\"],[0.3,\"#f1b6da\"],[0.4,\"#fde0ef\"],[0.5,\"#f7f7f7\"],[0.6,\"#e6f5d0\"],[0.7,\"#b8e186\"],[0.8,\"#7fbc41\"],[0.9,\"#4d9221\"],[1,\"#276419\"]],\"sequential\":[[0.0,\"#0d0887\"],[0.1111111111111111,\"#46039f\"],[0.2222222222222222,\"#7201a8\"],[0.3333333333333333,\"#9c179e\"],[0.4444444444444444,\"#bd3786\"],[0.5555555555555556,\"#d8576b\"],[0.6666666666666666,\"#ed7953\"],[0.7777777777777778,\"#fb9f3a\"],[0.8888888888888888,\"#fdca26\"],[1.0,\"#f0f921\"]],\"sequentialminus\":[[0.0,\"#0d0887\"],[0.1111111111111111,\"#46039f\"],[0.2222222222222222,\"#7201a8\"],[0.3333333333333333,\"#9c179e\"],[0.4444444444444444,\"#bd3786\"],[0.5555555555555556,\"#d8576b\"],[0.6666666666666666,\"#ed7953\"],[0.7777777777777778,\"#fb9f3a\"],[0.8888888888888888,\"#fdca26\"],[1.0,\"#f0f921\"]]},\"colorway\":[\"#636efa\",\"#EF553B\",\"#00cc96\",\"#ab63fa\",\"#FFA15A\",\"#19d3f3\",\"#FF6692\",\"#B6E880\",\"#FF97FF\",\"#FECB52\"],\"font\":{\"color\":\"#2a3f5f\"},\"geo\":{\"bgcolor\":\"white\",\"lakecolor\":\"white\",\"landcolor\":\"#E5ECF6\",\"showlakes\":true,\"showland\":true,\"subunitcolor\":\"white\"},\"hoverlabel\":{\"align\":\"left\"},\"hovermode\":\"closest\",\"mapbox\":{\"style\":\"light\"},\"paper_bgcolor\":\"white\",\"plot_bgcolor\":\"#E5ECF6\",\"polar\":{\"angularaxis\":{\"gridcolor\":\"white\",\"linecolor\":\"white\",\"ticks\":\"\"},\"bgcolor\":\"#E5ECF6\",\"radialaxis\":{\"gridcolor\":\"white\",\"linecolor\":\"white\",\"ticks\":\"\"}},\"scene\":{\"xaxis\":{\"backgroundcolor\":\"#E5ECF6\",\"gridcolor\":\"white\",\"gridwidth\":2,\"linecolor\":\"white\",\"showbackground\":true,\"ticks\":\"\",\"zerolinecolor\":\"white\"},\"yaxis\":{\"backgroundcolor\":\"#E5ECF6\",\"gridcolor\":\"white\",\"gridwidth\":2,\"linecolor\":\"white\",\"showbackground\":true,\"ticks\":\"\",\"zerolinecolor\":\"white\"},\"zaxis\":{\"backgroundcolor\":\"#E5ECF6\",\"gridcolor\":\"white\",\"gridwidth\":2,\"linecolor\":\"white\",\"showbackground\":true,\"ticks\":\"\",\"zerolinecolor\":\"white\"}},\"shapedefaults\":{\"line\":{\"color\":\"#2a3f5f\"}},\"ternary\":{\"aaxis\":{\"gridcolor\":\"white\",\"linecolor\":\"white\",\"ticks\":\"\"},\"baxis\":{\"gridcolor\":\"white\",\"linecolor\":\"white\",\"ticks\":\"\"},\"bgcolor\":\"#E5ECF6\",\"caxis\":{\"gridcolor\":\"white\",\"linecolor\":\"white\",\"ticks\":\"\"}},\"title\":{\"x\":0.05},\"xaxis\":{\"automargin\":true,\"gridcolor\":\"white\",\"linecolor\":\"white\",\"ticks\":\"\",\"title\":{\"standoff\":15},\"zerolinecolor\":\"white\",\"zerolinewidth\":2},\"yaxis\":{\"automargin\":true,\"gridcolor\":\"white\",\"linecolor\":\"white\",\"ticks\":\"\",\"title\":{\"standoff\":15},\"zerolinecolor\":\"white\",\"zerolinewidth\":2}}},\"scene\":{\"domain\":{\"x\":[0.0,1.0],\"y\":[0.0,1.0]},\"xaxis\":{\"title\":{\"text\":\"AQI\"}},\"yaxis\":{\"title\":{\"text\":\"Date\"}},\"zaxis\":{\"title\":{\"text\":\"AQI_Bucket\"}}},\"legend\":{\"tracegroupgap\":0},\"margin\":{\"t\":60}},                        {\"responsive\": true}                    ).then(function(){\n",
       "                            \n",
       "var gd = document.getElementById('49bd348c-eaaf-48e4-a6e1-19011c818987');\n",
       "var x = new MutationObserver(function (mutations, observer) {{\n",
       "        var display = window.getComputedStyle(gd).display;\n",
       "        if (!display || display === 'none') {{\n",
       "            console.log([gd, 'removed!']);\n",
       "            Plotly.purge(gd);\n",
       "            observer.disconnect();\n",
       "        }}\n",
       "}});\n",
       "\n",
       "// Listen for the removal of the full notebook cells\n",
       "var notebookContainer = gd.closest('#notebook-container');\n",
       "if (notebookContainer) {{\n",
       "    x.observe(notebookContainer, {childList: true});\n",
       "}}\n",
       "\n",
       "// Listen for the clearing of the current output cell\n",
       "var outputEl = gd.closest('.output');\n",
       "if (outputEl) {{\n",
       "    x.observe(outputEl, {childList: true});\n",
       "}}\n",
       "\n",
       "                        })                };                });            </script>        </div>"
      ]
     },
     "metadata": {},
     "output_type": "display_data"
    }
   ],
   "source": [
    "fig = px.scatter_3d(aqi_level_20, x= \"AQI\", y=\"Date\", z=\"AQI_Bucket\")\n",
    "fig.show()"
   ]
  },
  {
   "cell_type": "code",
   "execution_count": 23,
   "id": "2cf1e98a",
   "metadata": {},
   "outputs": [
    {
     "data": {
      "text/plain": [
       "(365,)"
      ]
     },
     "execution_count": 23,
     "metadata": {},
     "output_type": "execute_result"
    }
   ],
   "source": [
    "aqi_15.shape"
   ]
  },
  {
   "cell_type": "markdown",
   "id": "d721d61b",
   "metadata": {},
   "source": [
    "# Making arrays for last 5 days and present data"
   ]
  },
  {
   "cell_type": "code",
   "execution_count": 24,
   "id": "71e28b4c",
   "metadata": {},
   "outputs": [],
   "source": [
    "x_15=np.zeros((359,6));\n",
    "point=0;\n",
    "count=0;\n",
    "for i in range(0,359,1):\n",
    "    for j in range(0,6,1):\n",
    "        x_15[i][j]= aqi_15[point];\n",
    "        point += 1;\n",
    "    count += 1;\n",
    "    point = count;\n",
    "    if (count == 359):\n",
    "        break;"
   ]
  },
  {
   "cell_type": "code",
   "execution_count": 25,
   "id": "396dd4dd",
   "metadata": {},
   "outputs": [],
   "source": [
    "x_17=np.zeros((359,6));\n",
    "point=0;\n",
    "count=0;\n",
    "for i in range(0,359,1):\n",
    "    for j in range(0,6,1):\n",
    "        x_17[i][j]= aqi_17[point];\n",
    "        point += 1;\n",
    "    count += 1;\n",
    "    point = count;\n",
    "    if (count == 359):\n",
    "        break;"
   ]
  },
  {
   "cell_type": "code",
   "execution_count": 26,
   "id": "a09c736f",
   "metadata": {},
   "outputs": [],
   "source": [
    "x_16=np.zeros((359,6));\n",
    "point=0;\n",
    "count=0;\n",
    "for i in range(0,359,1):\n",
    "    for j in range(0,6,1):\n",
    "        x_16[i][j]= aqi_16[point];\n",
    "        point += 1;\n",
    "    count += 1;\n",
    "    point = count;\n",
    "    if (count == 359):\n",
    "        break;"
   ]
  },
  {
   "cell_type": "code",
   "execution_count": 27,
   "id": "5d2a6ded",
   "metadata": {},
   "outputs": [],
   "source": [
    "x_18=np.zeros((359,6));\n",
    "point=0;\n",
    "count=0;\n",
    "for i in range(0,359,1):\n",
    "    for j in range(0,6,1):\n",
    "        x_18[i][j]= aqi_18[point];\n",
    "        point += 1;\n",
    "    count += 1;\n",
    "    point = count;\n",
    "    if (count == 359):\n",
    "        break;"
   ]
  },
  {
   "cell_type": "code",
   "execution_count": 28,
   "id": "accfbf89",
   "metadata": {},
   "outputs": [
    {
     "data": {
      "text/plain": [
       "array([[ 73.,  86.,  84.,  86.,  95., 102.],\n",
       "       [ 86.,  84.,  86.,  95., 102., 104.],\n",
       "       [ 84.,  86.,  95., 102., 104.,  93.],\n",
       "       ...,\n",
       "       [ 87.,  79., 103., 118., 117., 123.],\n",
       "       [ 79., 103., 118., 117., 123., 124.],\n",
       "       [103., 118., 117., 123., 124., 127.]])"
      ]
     },
     "execution_count": 28,
     "metadata": {},
     "output_type": "execute_result"
    }
   ],
   "source": [
    "x_18"
   ]
  },
  {
   "cell_type": "code",
   "execution_count": 29,
   "id": "e5ac0440",
   "metadata": {},
   "outputs": [],
   "source": [
    "x_19=np.zeros((359,6));\n",
    "point=0;\n",
    "count=0;\n",
    "for i in range(0,359,1):\n",
    "    for j in range(0,6,1):\n",
    "        x_19[i][j]= aqi_19[point];\n",
    "        point += 1;\n",
    "    count += 1;\n",
    "    point = count;\n",
    "    if (count == 362):\n",
    "        break;"
   ]
  },
  {
   "cell_type": "code",
   "execution_count": 30,
   "id": "e88d09b2",
   "metadata": {},
   "outputs": [
    {
     "data": {
      "text/plain": [
       "(359, 6)"
      ]
     },
     "execution_count": 30,
     "metadata": {},
     "output_type": "execute_result"
    }
   ],
   "source": [
    "x_16.shape"
   ]
  },
  {
   "cell_type": "code",
   "execution_count": 31,
   "id": "cc0c09df",
   "metadata": {},
   "outputs": [
    {
     "data": {
      "text/plain": [
       "(359, 6)"
      ]
     },
     "execution_count": 31,
     "metadata": {},
     "output_type": "execute_result"
    }
   ],
   "source": [
    "x_17.shape"
   ]
  },
  {
   "cell_type": "markdown",
   "id": "840a3717",
   "metadata": {},
   "source": [
    "# Making a single dataframe of above arrays\n"
   ]
  },
  {
   "cell_type": "markdown",
   "id": "376b044f",
   "metadata": {},
   "source": [
    "Gathering All the data in one dataframe."
   ]
  },
  {
   "cell_type": "code",
   "execution_count": 32,
   "id": "6161fb73",
   "metadata": {
    "scrolled": true
   },
   "outputs": [],
   "source": [
    "ds_5=np.concatenate((x_15,x_16,x_17,x_18,x_19),axis=0);"
   ]
  },
  {
   "cell_type": "code",
   "execution_count": 33,
   "id": "1f3bc534",
   "metadata": {},
   "outputs": [
    {
     "data": {
      "text/plain": [
       "(1795, 6)"
      ]
     },
     "execution_count": 33,
     "metadata": {},
     "output_type": "execute_result"
    }
   ],
   "source": [
    "ds_5.shape"
   ]
  },
  {
   "cell_type": "code",
   "execution_count": 34,
   "id": "23447c9d",
   "metadata": {},
   "outputs": [],
   "source": [
    "ds_5= pd.DataFrame(ds_5, columns = ['last 5th','last 4th','last 3rd','last 2nd','last 1st','present'])"
   ]
  },
  {
   "cell_type": "code",
   "execution_count": 35,
   "id": "6830e1d9",
   "metadata": {},
   "outputs": [
    {
     "data": {
      "text/html": [
       "<div>\n",
       "<style scoped>\n",
       "    .dataframe tbody tr th:only-of-type {\n",
       "        vertical-align: middle;\n",
       "    }\n",
       "\n",
       "    .dataframe tbody tr th {\n",
       "        vertical-align: top;\n",
       "    }\n",
       "\n",
       "    .dataframe thead th {\n",
       "        text-align: right;\n",
       "    }\n",
       "</style>\n",
       "<table border=\"1\" class=\"dataframe\">\n",
       "  <thead>\n",
       "    <tr style=\"text-align: right;\">\n",
       "      <th></th>\n",
       "      <th>last 5th</th>\n",
       "      <th>last 4th</th>\n",
       "      <th>last 3rd</th>\n",
       "      <th>last 2nd</th>\n",
       "      <th>last 1st</th>\n",
       "      <th>present</th>\n",
       "    </tr>\n",
       "  </thead>\n",
       "  <tbody>\n",
       "    <tr>\n",
       "      <th>0</th>\n",
       "      <td>NaN</td>\n",
       "      <td>NaN</td>\n",
       "      <td>NaN</td>\n",
       "      <td>NaN</td>\n",
       "      <td>NaN</td>\n",
       "      <td>NaN</td>\n",
       "    </tr>\n",
       "    <tr>\n",
       "      <th>1</th>\n",
       "      <td>NaN</td>\n",
       "      <td>NaN</td>\n",
       "      <td>NaN</td>\n",
       "      <td>NaN</td>\n",
       "      <td>NaN</td>\n",
       "      <td>NaN</td>\n",
       "    </tr>\n",
       "    <tr>\n",
       "      <th>2</th>\n",
       "      <td>NaN</td>\n",
       "      <td>NaN</td>\n",
       "      <td>NaN</td>\n",
       "      <td>NaN</td>\n",
       "      <td>NaN</td>\n",
       "      <td>NaN</td>\n",
       "    </tr>\n",
       "    <tr>\n",
       "      <th>3</th>\n",
       "      <td>NaN</td>\n",
       "      <td>NaN</td>\n",
       "      <td>NaN</td>\n",
       "      <td>NaN</td>\n",
       "      <td>NaN</td>\n",
       "      <td>NaN</td>\n",
       "    </tr>\n",
       "    <tr>\n",
       "      <th>4</th>\n",
       "      <td>NaN</td>\n",
       "      <td>NaN</td>\n",
       "      <td>NaN</td>\n",
       "      <td>NaN</td>\n",
       "      <td>NaN</td>\n",
       "      <td>NaN</td>\n",
       "    </tr>\n",
       "    <tr>\n",
       "      <th>...</th>\n",
       "      <td>...</td>\n",
       "      <td>...</td>\n",
       "      <td>...</td>\n",
       "      <td>...</td>\n",
       "      <td>...</td>\n",
       "      <td>...</td>\n",
       "    </tr>\n",
       "    <tr>\n",
       "      <th>1790</th>\n",
       "      <td>95.0</td>\n",
       "      <td>88.0</td>\n",
       "      <td>92.0</td>\n",
       "      <td>89.0</td>\n",
       "      <td>76.0</td>\n",
       "      <td>95.0</td>\n",
       "    </tr>\n",
       "    <tr>\n",
       "      <th>1791</th>\n",
       "      <td>88.0</td>\n",
       "      <td>92.0</td>\n",
       "      <td>89.0</td>\n",
       "      <td>76.0</td>\n",
       "      <td>95.0</td>\n",
       "      <td>98.0</td>\n",
       "    </tr>\n",
       "    <tr>\n",
       "      <th>1792</th>\n",
       "      <td>92.0</td>\n",
       "      <td>89.0</td>\n",
       "      <td>76.0</td>\n",
       "      <td>95.0</td>\n",
       "      <td>98.0</td>\n",
       "      <td>82.0</td>\n",
       "    </tr>\n",
       "    <tr>\n",
       "      <th>1793</th>\n",
       "      <td>89.0</td>\n",
       "      <td>76.0</td>\n",
       "      <td>95.0</td>\n",
       "      <td>98.0</td>\n",
       "      <td>82.0</td>\n",
       "      <td>80.0</td>\n",
       "    </tr>\n",
       "    <tr>\n",
       "      <th>1794</th>\n",
       "      <td>76.0</td>\n",
       "      <td>95.0</td>\n",
       "      <td>98.0</td>\n",
       "      <td>82.0</td>\n",
       "      <td>80.0</td>\n",
       "      <td>93.0</td>\n",
       "    </tr>\n",
       "  </tbody>\n",
       "</table>\n",
       "<p>1795 rows × 6 columns</p>\n",
       "</div>"
      ],
      "text/plain": [
       "      last 5th  last 4th  last 3rd  last 2nd  last 1st  present\n",
       "0          NaN       NaN       NaN       NaN       NaN      NaN\n",
       "1          NaN       NaN       NaN       NaN       NaN      NaN\n",
       "2          NaN       NaN       NaN       NaN       NaN      NaN\n",
       "3          NaN       NaN       NaN       NaN       NaN      NaN\n",
       "4          NaN       NaN       NaN       NaN       NaN      NaN\n",
       "...        ...       ...       ...       ...       ...      ...\n",
       "1790      95.0      88.0      92.0      89.0      76.0     95.0\n",
       "1791      88.0      92.0      89.0      76.0      95.0     98.0\n",
       "1792      92.0      89.0      76.0      95.0      98.0     82.0\n",
       "1793      89.0      76.0      95.0      98.0      82.0     80.0\n",
       "1794      76.0      95.0      98.0      82.0      80.0     93.0\n",
       "\n",
       "[1795 rows x 6 columns]"
      ]
     },
     "execution_count": 35,
     "metadata": {},
     "output_type": "execute_result"
    }
   ],
   "source": [
    "ds_5"
   ]
  },
  {
   "cell_type": "markdown",
   "id": "6f7d7274",
   "metadata": {},
   "source": [
    "# Model Training\n"
   ]
  },
  {
   "cell_type": "markdown",
   "id": "589bdf01",
   "metadata": {},
   "source": [
    "### Step 1: Now we start the process of model training by making independent and dependent   variables\n",
    "\n"
   ]
  },
  {
   "cell_type": "code",
   "execution_count": 36,
   "id": "d691e047",
   "metadata": {},
   "outputs": [],
   "source": [
    "svr_X=ds_5.iloc[:,[0,1,2,3,4]].values;\n",
    "svr_Y=ds_5.iloc[:,[-1]].values;"
   ]
  },
  {
   "cell_type": "code",
   "execution_count": 37,
   "id": "44d7d2b3",
   "metadata": {},
   "outputs": [
    {
     "data": {
      "text/plain": [
       "array([[nan, nan, nan, nan, nan],\n",
       "       [nan, nan, nan, nan, nan],\n",
       "       [nan, nan, nan, nan, nan],\n",
       "       ...,\n",
       "       [92., 89., 76., 95., 98.],\n",
       "       [89., 76., 95., 98., 82.],\n",
       "       [76., 95., 98., 82., 80.]])"
      ]
     },
     "execution_count": 37,
     "metadata": {},
     "output_type": "execute_result"
    }
   ],
   "source": [
    "svr_X"
   ]
  },
  {
   "cell_type": "markdown",
   "id": "0f41dd2b",
   "metadata": {},
   "source": [
    "### Step 2 :Removing the null values "
   ]
  },
  {
   "cell_type": "code",
   "execution_count": 38,
   "id": "693d5ed5",
   "metadata": {},
   "outputs": [],
   "source": [
    "from sklearn.impute import SimpleImputer;\n",
    "ds_imputer=SimpleImputer(missing_values=np.nan,strategy='mean');\n",
    "ds_imputer.fit(svr_X);\n",
    "svr_X=ds_imputer.transform(svr_X);"
   ]
  },
  {
   "cell_type": "code",
   "execution_count": 39,
   "id": "574efdd2",
   "metadata": {},
   "outputs": [],
   "source": [
    "# from sklearn.impute import SimpleImputer;\n",
    "# ds_imputer=SimpleImputer(missing_values=np.nan,strategy='mean');\n",
    "ds_imputer.fit(svr_Y);\n",
    "svr_Y=ds_imputer.transform(svr_Y);"
   ]
  },
  {
   "cell_type": "code",
   "execution_count": 40,
   "id": "d28eb95d",
   "metadata": {},
   "outputs": [
    {
     "data": {
      "text/plain": [
       "array([[95.68573113, 95.75898645, 95.80212014, 95.84755739, 95.85176471],\n",
       "       [95.68573113, 95.75898645, 95.80212014, 95.84755739, 95.85176471],\n",
       "       [95.68573113, 95.75898645, 95.80212014, 95.84755739, 95.85176471],\n",
       "       ...,\n",
       "       [92.        , 89.        , 76.        , 95.        , 98.        ],\n",
       "       [89.        , 76.        , 95.        , 98.        , 82.        ],\n",
       "       [76.        , 95.        , 98.        , 82.        , 80.        ]])"
      ]
     },
     "execution_count": 40,
     "metadata": {},
     "output_type": "execute_result"
    }
   ],
   "source": [
    "svr_X"
   ]
  },
  {
   "cell_type": "code",
   "execution_count": 41,
   "id": "f6406b72",
   "metadata": {},
   "outputs": [
    {
     "data": {
      "text/plain": [
       "array([[95.83421517],\n",
       "       [95.83421517],\n",
       "       [95.83421517],\n",
       "       ...,\n",
       "       [82.        ],\n",
       "       [80.        ],\n",
       "       [93.        ]])"
      ]
     },
     "execution_count": 41,
     "metadata": {},
     "output_type": "execute_result"
    }
   ],
   "source": [
    "svr_Y"
   ]
  },
  {
   "cell_type": "markdown",
   "id": "7b320e22",
   "metadata": {},
   "source": [
    "### Step 3: Test - Train - Split"
   ]
  },
  {
   "cell_type": "code",
   "execution_count": 42,
   "id": "cb557ff4",
   "metadata": {},
   "outputs": [],
   "source": [
    "from sklearn.model_selection import train_test_split;\n",
    "svr_x_train,svr_x_test,svr_y_train,svr_y_test=train_test_split(svr_X,svr_Y,test_size=0.2,random_state=1);"
   ]
  },
  {
   "cell_type": "markdown",
   "id": "615240c4",
   "metadata": {},
   "source": [
    "### Step 4 : Using Regression Model : Support Vector Regression"
   ]
  },
  {
   "cell_type": "code",
   "execution_count": 43,
   "id": "7f3ae31c",
   "metadata": {},
   "outputs": [
    {
     "name": "stderr",
     "output_type": "stream",
     "text": [
      "C:\\ProgramData\\Anaconda3\\lib\\site-packages\\sklearn\\utils\\validation.py:63: DataConversionWarning:\n",
      "\n",
      "A column-vector y was passed when a 1d array was expected. Please change the shape of y to (n_samples, ), for example using ravel().\n",
      "\n"
     ]
    }
   ],
   "source": [
    "from sklearn.svm import SVR\n",
    "regressor = SVR(kernel = 'linear')\n",
    "regressor.fit(svr_x_train, svr_y_train);"
   ]
  },
  {
   "cell_type": "code",
   "execution_count": 44,
   "id": "4629b959",
   "metadata": {},
   "outputs": [],
   "source": [
    "svr_y_pred=regressor.predict(svr_x_test); #prediction of testing data"
   ]
  },
  {
   "cell_type": "code",
   "execution_count": 45,
   "id": "2cc41aed",
   "metadata": {},
   "outputs": [
    {
     "data": {
      "text/plain": [
       "(359,)"
      ]
     },
     "execution_count": 45,
     "metadata": {},
     "output_type": "execute_result"
    }
   ],
   "source": [
    "svr_y_pred.shape\n"
   ]
  },
  {
   "cell_type": "code",
   "execution_count": 46,
   "id": "1c0e7bf1",
   "metadata": {},
   "outputs": [
    {
     "data": {
      "text/plain": [
       "(359, 1)"
      ]
     },
     "execution_count": 46,
     "metadata": {},
     "output_type": "execute_result"
    }
   ],
   "source": [
    "svr_y_test.shape"
   ]
  },
  {
   "cell_type": "code",
   "execution_count": 47,
   "id": "de52e6e8",
   "metadata": {},
   "outputs": [],
   "source": [
    "df_y =pd.DataFrame(np.concatenate((svr_y_pred.reshape(359,1),svr_y_test),axis =1),columns = [\"Predicted\",\"Actual\"])"
   ]
  },
  {
   "cell_type": "markdown",
   "id": "53f2ea5b",
   "metadata": {},
   "source": [
    "## Comparision Of Predicted AQI and Actual AQI"
   ]
  },
  {
   "cell_type": "code",
   "execution_count": 48,
   "id": "1d328e0d",
   "metadata": {},
   "outputs": [
    {
     "data": {
      "application/vnd.plotly.v1+json": {
       "config": {
        "plotlyServerURL": "https://plot.ly"
       },
       "data": [
        {
         "marker": {
          "color": "rgb(34,163,192)"
         },
         "name": "Actual",
         "type": "scatter",
         "y": [
          82,
          74,
          124,
          80,
          67,
          92,
          53,
          75,
          63,
          162,
          124,
          89,
          65,
          80,
          82,
          134,
          71,
          83,
          156,
          74,
          136,
          64,
          90,
          95.8342151675485,
          230,
          76,
          74,
          67,
          113,
          79,
          155,
          73,
          60,
          164,
          84,
          84,
          95.8342151675485,
          69,
          141,
          144,
          73,
          156,
          189,
          60,
          88,
          100,
          170,
          37,
          81,
          80,
          122,
          58,
          127,
          66,
          238,
          74,
          95.8342151675485,
          94,
          66,
          69,
          102,
          104,
          70,
          120,
          51,
          103,
          112,
          69,
          62,
          184,
          89,
          62,
          116,
          59,
          67,
          117,
          94,
          57,
          104,
          136,
          84,
          43,
          155,
          66,
          44,
          135,
          111,
          61,
          115,
          61,
          95.8342151675485,
          96,
          87,
          80,
          110,
          146,
          71,
          95.8342151675485,
          113,
          60,
          88,
          60,
          130,
          95.8342151675485,
          64,
          120,
          269,
          122,
          69,
          209,
          50,
          101,
          92,
          170,
          90,
          160,
          309,
          67,
          110,
          129,
          86,
          60,
          101,
          192,
          195,
          120,
          70,
          86,
          86,
          23,
          95.8342151675485,
          80,
          58,
          117,
          131,
          64,
          51,
          67,
          176,
          56,
          110,
          65,
          48,
          62,
          60,
          75,
          67,
          123,
          120,
          139,
          104,
          59,
          66,
          78,
          151,
          92,
          146,
          69,
          77,
          70,
          143,
          146,
          65,
          94,
          124,
          175,
          112,
          76,
          64,
          83,
          68,
          73,
          106,
          73,
          98,
          102,
          78,
          92,
          93,
          84,
          67,
          142,
          94,
          76,
          140,
          150,
          75,
          104,
          117,
          157,
          74,
          55,
          95.8342151675485,
          68,
          44,
          49,
          108,
          113,
          75,
          110,
          78,
          119,
          44,
          68,
          95.8342151675485,
          72,
          108,
          146,
          106,
          183,
          67,
          113,
          60,
          198,
          59,
          84,
          95.8342151675485,
          181,
          123,
          158,
          59,
          184,
          110,
          95,
          66,
          95.8342151675485,
          65,
          120,
          98,
          141,
          73,
          65,
          93,
          167,
          56,
          70,
          118,
          102,
          103,
          57,
          92,
          60,
          102,
          61,
          72,
          77,
          105,
          108,
          60,
          107,
          86,
          42,
          82,
          132,
          74,
          69,
          143,
          175,
          89,
          95.8342151675485,
          51,
          158,
          122,
          71,
          103,
          88,
          87,
          122,
          99,
          81,
          48,
          96,
          174,
          167,
          71,
          64,
          95.8342151675485,
          90,
          83,
          53,
          63,
          67,
          47,
          49,
          95.8342151675485,
          96,
          78,
          65,
          67,
          68,
          106,
          58,
          72,
          81,
          95.8342151675485,
          137,
          76,
          77,
          86,
          95.8342151675485,
          102,
          109,
          80,
          123,
          57,
          210,
          64,
          264,
          112,
          86,
          81,
          92,
          107,
          84,
          87,
          94,
          59,
          76,
          124,
          65,
          68,
          97,
          54,
          81,
          73,
          98,
          70,
          58,
          138,
          95.8342151675485,
          61,
          95.8342151675485,
          148,
          31,
          112,
          145,
          119,
          54,
          77,
          101,
          88,
          103,
          75,
          155,
          92,
          104,
          117,
          87,
          120,
          140,
          95.8342151675485,
          66,
          127,
          64,
          101,
          49,
          95,
          72,
          77
         ]
        },
        {
         "name": "Predicted",
         "type": "scatter",
         "xaxis": "x",
         "y": [
          93.16704310262918,
          85.52145607442122,
          119.84624776797187,
          110.51190154785633,
          71.41287333452834,
          67.57339804817508,
          75.80334797558368,
          69.73706269926384,
          68.31787882320401,
          173.30876624419813,
          103.3629115180525,
          94.27298804365324,
          69.84763596051249,
          84.07401835451361,
          96.78247482191415,
          130.34468829723534,
          74.25968126683489,
          92.43771683840947,
          160.64102170906023,
          59.077225272456936,
          116.13824321229237,
          68.80325874811439,
          77.62188405750982,
          94.38004425123705,
          187.97428645977976,
          69.4370284868715,
          73.1425791176303,
          93.31256966701818,
          101.56755158909124,
          114.51862835066328,
          130.8722234527964,
          81.6070021846686,
          67.2271211599296,
          152.3385061526647,
          97.35022827013796,
          92.0919095377763,
          94.38004425123705,
          99.4327174909127,
          78.20803804499207,
          79.35518685563926,
          69.52839759882824,
          75.82971614343165,
          96.1191034501831,
          70.95724269012914,
          85.36549439099377,
          121.45280543381574,
          173.15549298249294,
          62.58316890941985,
          97.41826897655898,
          80.26318192415107,
          114.41221892401569,
          72.24983603441848,
          164.23013920079444,
          71.13233886739232,
          189.80515794943545,
          77.38696031305932,
          86.37190923599752,
          88.6552054941281,
          64.4321532421896,
          72.3958783385902,
          61.68716985044063,
          92.10593410841881,
          67.04344325804465,
          111.88831626866937,
          57.2210724813636,
          89.3140611875429,
          108.01804689165198,
          71.73510680430678,
          66.15077396282919,
          158.00662357945163,
          98.77178229550242,
          65.48668324924125,
          143.13463293966248,
          61.771852531077975,
          69.41288081342697,
          89.69716332221338,
          90.19251484989996,
          79.49635390007512,
          103.8743352523457,
          84.21507955323665,
          87.50291625406004,
          49.19433106603589,
          214.82722229139523,
          75.78468074514291,
          69.87023642863693,
          113.70244773026258,
          112.35349679710686,
          71.40374263117025,
          81.37762538516887,
          64.2873548351568,
          96.7514717992604,
          100.76603039279922,
          121.74394869648728,
          89.33563128784641,
          115.11082078608212,
          109.36664979042013,
          73.26802588765037,
          94.38004425123705,
          110.0645831727748,
          61.401781715838816,
          95.44259256155107,
          71.05076144632818,
          123.45745726198999,
          83.06714726783736,
          77.67687606002488,
          98.77394940408755,
          205.5377162956725,
          106.54424338237783,
          69.02401205474649,
          121.30243749795824,
          76.98780781772854,
          102.12665982412051,
          84.48605144991649,
          106.76047596590121,
          121.90371405877573,
          117.98165358304738,
          197.6280729778087,
          64.24669278843845,
          82.78744050076108,
          141.29781762926774,
          100.33108071713701,
          62.16037982072209,
          123.95358203843404,
          168.41910873029025,
          160.07712259636952,
          91.28545054089096,
          68.8810574914101,
          92.63825462404981,
          68.36243145764507,
          35.536880096202886,
          94.38004425123705,
          91.24909924170112,
          66.50961759676335,
          110.782156991671,
          120.94477389750006,
          67.77210494641673,
          64.68344507580383,
          64.87066406975697,
          198.14526943715515,
          78.27914424755778,
          98.9262145607359,
          69.87820006255112,
          61.72126770028314,
          87.80302568807434,
          85.74336619373986,
          96.07537115864449,
          70.37018666233104,
          110.15615608042623,
          111.4771812913828,
          141.3352229982125,
          99.16400253314401,
          62.56879741002974,
          63.25411535182554,
          112.55683964266842,
          96.16894799972994,
          84.81971960964489,
          116.07417499822674,
          60.9013193685683,
          82.73899461812158,
          67.47315793639478,
          140.29667110832867,
          121.98634128448663,
          69.32705569070146,
          127.08524162757436,
          126.69427751679956,
          146.07207387195427,
          119.27875119201832,
          96.00838240781792,
          57.43774677471135,
          79.74411592714074,
          69.40336543813515,
          82.61393984242801,
          80.2400025771936,
          119.91224665309761,
          86.26766518446726,
          73.31569694046681,
          114.51869464552198,
          94.65201365506852,
          97.9284211886557,
          92.60018997833009,
          78.80695477692694,
          120.33096158229506,
          104.04961991308716,
          84.40212463337281,
          142.33817133629105,
          128.01517708892112,
          80.22975676234688,
          78.05597145330154,
          109.48401527937727,
          95.54995731335708,
          79.3522268557868,
          70.10160668256918,
          94.38004425123705,
          63.783032178661024,
          63.80612129376875,
          57.61163215108588,
          102.72538406084692,
          133.72948486435104,
          74.94074613363824,
          117.65730441610555,
          77.65387997443082,
          124.44848353101457,
          74.74054733912686,
          62.811343807975,
          94.38004425123705,
          67.62064493808481,
          99.05990260893356,
          183.16955905394622,
          117.11739489108783,
          131.92205740192782,
          67.77576107502733,
          120.48342328869381,
          89.18515291565615,
          150.88785329378203,
          60.242375786067505,
          87.55992234445927,
          94.38004425123705,
          134.08789366736943,
          94.32238520319567,
          143.00359463960973,
          60.696116892213986,
          152.7031530087557,
          81.77897810266637,
          87.77469592896574,
          78.61026318062846,
          94.38004425123705,
          79.06462756237357,
          97.7387419785669,
          88.16252680348458,
          83.52804860743396,
          72.2291066015319,
          69.54801215003005,
          91.61576170065433,
          135.205569817234,
          79.57118312311701,
          97.01662737262137,
          120.7580594149918,
          82.26025159870966,
          90.16899983864329,
          66.4521224396745,
          96.05246084832521,
          64.47960628003835,
          92.20715890651678,
          57.59380672778986,
          95.07574344195069,
          85.9375035501003,
          113.27933954392262,
          81.20980166884016,
          68.27473098354,
          100.52245238275697,
          75.76734569013985,
          52.440769041023096,
          94.8889707777276,
          152.32736810132388,
          78.42610688770998,
          70.98743328284087,
          110.59975008457019,
          110.08862999998433,
          94.56558418841502,
          92.52036140470642,
          101.75421239266922,
          106.96015148850034,
          94.64288893506506,
          75.81187886737513,
          141.36759636555558,
          121.39190866837504,
          79.96814536530343,
          113.0699846273206,
          96.53627586283307,
          74.1036979120259,
          58.19806438429129,
          87.8095334142568,
          137.0970266627051,
          103.35882407099467,
          81.40542346358467,
          61.4778581694705,
          94.38004425123705,
          96.6299735238286,
          67.24521750097534,
          68.81049284777015,
          71.95220777373521,
          108.12418774499434,
          61.246820317974716,
          97.15326721120852,
          94.38004425123705,
          124.793341359517,
          65.52923322659677,
          68.35202448583783,
          70.46873581649612,
          69.34197495024324,
          101.96279472160728,
          74.81916927866456,
          69.05865123235759,
          81.63567498464596,
          54.46123198363109,
          132.2295462142652,
          66.69052564955251,
          82.46506110917886,
          130.40168295767268,
          94.38004425123705,
          106.1763282439502,
          121.10347225544734,
          88.17965382793096,
          124.06974178274737,
          68.42412758828192,
          129.36801381516904,
          79.09833982579636,
          206.30618529101827,
          99.99181493140401,
          87.62199740836564,
          108.66810266707085,
          81.35860514323628,
          96.89707306545512,
          67.50752963711471,
          67.03772972055646,
          114.10634711003564,
          68.02101236731738,
          70.29820039453676,
          111.11659898016711,
          64.82254121433704,
          75.74146910200994,
          98.62861062462667,
          73.50962828329699,
          101.27107012180255,
          80.81240996613684,
          89.12265755454479,
          79.66745704937836,
          65.52981806082295,
          116.59217720398789,
          94.38004425123705,
          63.67588477508304,
          94.38004425123705,
          118.90047078089316,
          68.19188719317077,
          105.61517381944628,
          110.17475357530981,
          141.51317146052367,
          59.15824785551428,
          63.87746796578774,
          108.8823977221769,
          87.8488259229494,
          111.13509406977442,
          150.23773702995146,
          135.04798049449215,
          90.10320471742358,
          89.25105207973735,
          108.01677576023263,
          102.67035275029826,
          108.5678625310689,
          105.58978980366425,
          221.53338406178278,
          69.62613164533155,
          113.7644535428995,
          71.763999948817,
          96.52213312026339,
          58.0800056851154,
          98.6807155218126,
          77.98971120377297,
          72.51736198994382
         ],
         "yaxis": "y2"
        }
       ],
       "layout": {
        "height": 600,
        "template": {
         "data": {
          "bar": [
           {
            "error_x": {
             "color": "#2a3f5f"
            },
            "error_y": {
             "color": "#2a3f5f"
            },
            "marker": {
             "line": {
              "color": "#E5ECF6",
              "width": 0.5
             },
             "pattern": {
              "fillmode": "overlay",
              "size": 10,
              "solidity": 0.2
             }
            },
            "type": "bar"
           }
          ],
          "barpolar": [
           {
            "marker": {
             "line": {
              "color": "#E5ECF6",
              "width": 0.5
             },
             "pattern": {
              "fillmode": "overlay",
              "size": 10,
              "solidity": 0.2
             }
            },
            "type": "barpolar"
           }
          ],
          "carpet": [
           {
            "aaxis": {
             "endlinecolor": "#2a3f5f",
             "gridcolor": "white",
             "linecolor": "white",
             "minorgridcolor": "white",
             "startlinecolor": "#2a3f5f"
            },
            "baxis": {
             "endlinecolor": "#2a3f5f",
             "gridcolor": "white",
             "linecolor": "white",
             "minorgridcolor": "white",
             "startlinecolor": "#2a3f5f"
            },
            "type": "carpet"
           }
          ],
          "choropleth": [
           {
            "colorbar": {
             "outlinewidth": 0,
             "ticks": ""
            },
            "type": "choropleth"
           }
          ],
          "contour": [
           {
            "colorbar": {
             "outlinewidth": 0,
             "ticks": ""
            },
            "colorscale": [
             [
              0,
              "#0d0887"
             ],
             [
              0.1111111111111111,
              "#46039f"
             ],
             [
              0.2222222222222222,
              "#7201a8"
             ],
             [
              0.3333333333333333,
              "#9c179e"
             ],
             [
              0.4444444444444444,
              "#bd3786"
             ],
             [
              0.5555555555555556,
              "#d8576b"
             ],
             [
              0.6666666666666666,
              "#ed7953"
             ],
             [
              0.7777777777777778,
              "#fb9f3a"
             ],
             [
              0.8888888888888888,
              "#fdca26"
             ],
             [
              1,
              "#f0f921"
             ]
            ],
            "type": "contour"
           }
          ],
          "contourcarpet": [
           {
            "colorbar": {
             "outlinewidth": 0,
             "ticks": ""
            },
            "type": "contourcarpet"
           }
          ],
          "heatmap": [
           {
            "colorbar": {
             "outlinewidth": 0,
             "ticks": ""
            },
            "colorscale": [
             [
              0,
              "#0d0887"
             ],
             [
              0.1111111111111111,
              "#46039f"
             ],
             [
              0.2222222222222222,
              "#7201a8"
             ],
             [
              0.3333333333333333,
              "#9c179e"
             ],
             [
              0.4444444444444444,
              "#bd3786"
             ],
             [
              0.5555555555555556,
              "#d8576b"
             ],
             [
              0.6666666666666666,
              "#ed7953"
             ],
             [
              0.7777777777777778,
              "#fb9f3a"
             ],
             [
              0.8888888888888888,
              "#fdca26"
             ],
             [
              1,
              "#f0f921"
             ]
            ],
            "type": "heatmap"
           }
          ],
          "heatmapgl": [
           {
            "colorbar": {
             "outlinewidth": 0,
             "ticks": ""
            },
            "colorscale": [
             [
              0,
              "#0d0887"
             ],
             [
              0.1111111111111111,
              "#46039f"
             ],
             [
              0.2222222222222222,
              "#7201a8"
             ],
             [
              0.3333333333333333,
              "#9c179e"
             ],
             [
              0.4444444444444444,
              "#bd3786"
             ],
             [
              0.5555555555555556,
              "#d8576b"
             ],
             [
              0.6666666666666666,
              "#ed7953"
             ],
             [
              0.7777777777777778,
              "#fb9f3a"
             ],
             [
              0.8888888888888888,
              "#fdca26"
             ],
             [
              1,
              "#f0f921"
             ]
            ],
            "type": "heatmapgl"
           }
          ],
          "histogram": [
           {
            "marker": {
             "pattern": {
              "fillmode": "overlay",
              "size": 10,
              "solidity": 0.2
             }
            },
            "type": "histogram"
           }
          ],
          "histogram2d": [
           {
            "colorbar": {
             "outlinewidth": 0,
             "ticks": ""
            },
            "colorscale": [
             [
              0,
              "#0d0887"
             ],
             [
              0.1111111111111111,
              "#46039f"
             ],
             [
              0.2222222222222222,
              "#7201a8"
             ],
             [
              0.3333333333333333,
              "#9c179e"
             ],
             [
              0.4444444444444444,
              "#bd3786"
             ],
             [
              0.5555555555555556,
              "#d8576b"
             ],
             [
              0.6666666666666666,
              "#ed7953"
             ],
             [
              0.7777777777777778,
              "#fb9f3a"
             ],
             [
              0.8888888888888888,
              "#fdca26"
             ],
             [
              1,
              "#f0f921"
             ]
            ],
            "type": "histogram2d"
           }
          ],
          "histogram2dcontour": [
           {
            "colorbar": {
             "outlinewidth": 0,
             "ticks": ""
            },
            "colorscale": [
             [
              0,
              "#0d0887"
             ],
             [
              0.1111111111111111,
              "#46039f"
             ],
             [
              0.2222222222222222,
              "#7201a8"
             ],
             [
              0.3333333333333333,
              "#9c179e"
             ],
             [
              0.4444444444444444,
              "#bd3786"
             ],
             [
              0.5555555555555556,
              "#d8576b"
             ],
             [
              0.6666666666666666,
              "#ed7953"
             ],
             [
              0.7777777777777778,
              "#fb9f3a"
             ],
             [
              0.8888888888888888,
              "#fdca26"
             ],
             [
              1,
              "#f0f921"
             ]
            ],
            "type": "histogram2dcontour"
           }
          ],
          "mesh3d": [
           {
            "colorbar": {
             "outlinewidth": 0,
             "ticks": ""
            },
            "type": "mesh3d"
           }
          ],
          "parcoords": [
           {
            "line": {
             "colorbar": {
              "outlinewidth": 0,
              "ticks": ""
             }
            },
            "type": "parcoords"
           }
          ],
          "pie": [
           {
            "automargin": true,
            "type": "pie"
           }
          ],
          "scatter": [
           {
            "marker": {
             "colorbar": {
              "outlinewidth": 0,
              "ticks": ""
             }
            },
            "type": "scatter"
           }
          ],
          "scatter3d": [
           {
            "line": {
             "colorbar": {
              "outlinewidth": 0,
              "ticks": ""
             }
            },
            "marker": {
             "colorbar": {
              "outlinewidth": 0,
              "ticks": ""
             }
            },
            "type": "scatter3d"
           }
          ],
          "scattercarpet": [
           {
            "marker": {
             "colorbar": {
              "outlinewidth": 0,
              "ticks": ""
             }
            },
            "type": "scattercarpet"
           }
          ],
          "scattergeo": [
           {
            "marker": {
             "colorbar": {
              "outlinewidth": 0,
              "ticks": ""
             }
            },
            "type": "scattergeo"
           }
          ],
          "scattergl": [
           {
            "marker": {
             "colorbar": {
              "outlinewidth": 0,
              "ticks": ""
             }
            },
            "type": "scattergl"
           }
          ],
          "scattermapbox": [
           {
            "marker": {
             "colorbar": {
              "outlinewidth": 0,
              "ticks": ""
             }
            },
            "type": "scattermapbox"
           }
          ],
          "scatterpolar": [
           {
            "marker": {
             "colorbar": {
              "outlinewidth": 0,
              "ticks": ""
             }
            },
            "type": "scatterpolar"
           }
          ],
          "scatterpolargl": [
           {
            "marker": {
             "colorbar": {
              "outlinewidth": 0,
              "ticks": ""
             }
            },
            "type": "scatterpolargl"
           }
          ],
          "scatterternary": [
           {
            "marker": {
             "colorbar": {
              "outlinewidth": 0,
              "ticks": ""
             }
            },
            "type": "scatterternary"
           }
          ],
          "surface": [
           {
            "colorbar": {
             "outlinewidth": 0,
             "ticks": ""
            },
            "colorscale": [
             [
              0,
              "#0d0887"
             ],
             [
              0.1111111111111111,
              "#46039f"
             ],
             [
              0.2222222222222222,
              "#7201a8"
             ],
             [
              0.3333333333333333,
              "#9c179e"
             ],
             [
              0.4444444444444444,
              "#bd3786"
             ],
             [
              0.5555555555555556,
              "#d8576b"
             ],
             [
              0.6666666666666666,
              "#ed7953"
             ],
             [
              0.7777777777777778,
              "#fb9f3a"
             ],
             [
              0.8888888888888888,
              "#fdca26"
             ],
             [
              1,
              "#f0f921"
             ]
            ],
            "type": "surface"
           }
          ],
          "table": [
           {
            "cells": {
             "fill": {
              "color": "#EBF0F8"
             },
             "line": {
              "color": "white"
             }
            },
            "header": {
             "fill": {
              "color": "#C8D4E3"
             },
             "line": {
              "color": "white"
             }
            },
            "type": "table"
           }
          ]
         },
         "layout": {
          "annotationdefaults": {
           "arrowcolor": "#2a3f5f",
           "arrowhead": 0,
           "arrowwidth": 1
          },
          "autotypenumbers": "strict",
          "coloraxis": {
           "colorbar": {
            "outlinewidth": 0,
            "ticks": ""
           }
          },
          "colorscale": {
           "diverging": [
            [
             0,
             "#8e0152"
            ],
            [
             0.1,
             "#c51b7d"
            ],
            [
             0.2,
             "#de77ae"
            ],
            [
             0.3,
             "#f1b6da"
            ],
            [
             0.4,
             "#fde0ef"
            ],
            [
             0.5,
             "#f7f7f7"
            ],
            [
             0.6,
             "#e6f5d0"
            ],
            [
             0.7,
             "#b8e186"
            ],
            [
             0.8,
             "#7fbc41"
            ],
            [
             0.9,
             "#4d9221"
            ],
            [
             1,
             "#276419"
            ]
           ],
           "sequential": [
            [
             0,
             "#0d0887"
            ],
            [
             0.1111111111111111,
             "#46039f"
            ],
            [
             0.2222222222222222,
             "#7201a8"
            ],
            [
             0.3333333333333333,
             "#9c179e"
            ],
            [
             0.4444444444444444,
             "#bd3786"
            ],
            [
             0.5555555555555556,
             "#d8576b"
            ],
            [
             0.6666666666666666,
             "#ed7953"
            ],
            [
             0.7777777777777778,
             "#fb9f3a"
            ],
            [
             0.8888888888888888,
             "#fdca26"
            ],
            [
             1,
             "#f0f921"
            ]
           ],
           "sequentialminus": [
            [
             0,
             "#0d0887"
            ],
            [
             0.1111111111111111,
             "#46039f"
            ],
            [
             0.2222222222222222,
             "#7201a8"
            ],
            [
             0.3333333333333333,
             "#9c179e"
            ],
            [
             0.4444444444444444,
             "#bd3786"
            ],
            [
             0.5555555555555556,
             "#d8576b"
            ],
            [
             0.6666666666666666,
             "#ed7953"
            ],
            [
             0.7777777777777778,
             "#fb9f3a"
            ],
            [
             0.8888888888888888,
             "#fdca26"
            ],
            [
             1,
             "#f0f921"
            ]
           ]
          },
          "colorway": [
           "#636efa",
           "#EF553B",
           "#00cc96",
           "#ab63fa",
           "#FFA15A",
           "#19d3f3",
           "#FF6692",
           "#B6E880",
           "#FF97FF",
           "#FECB52"
          ],
          "font": {
           "color": "#2a3f5f"
          },
          "geo": {
           "bgcolor": "white",
           "lakecolor": "white",
           "landcolor": "#E5ECF6",
           "showlakes": true,
           "showland": true,
           "subunitcolor": "white"
          },
          "hoverlabel": {
           "align": "left"
          },
          "hovermode": "closest",
          "mapbox": {
           "style": "light"
          },
          "paper_bgcolor": "white",
          "plot_bgcolor": "#E5ECF6",
          "polar": {
           "angularaxis": {
            "gridcolor": "white",
            "linecolor": "white",
            "ticks": ""
           },
           "bgcolor": "#E5ECF6",
           "radialaxis": {
            "gridcolor": "white",
            "linecolor": "white",
            "ticks": ""
           }
          },
          "scene": {
           "xaxis": {
            "backgroundcolor": "#E5ECF6",
            "gridcolor": "white",
            "gridwidth": 2,
            "linecolor": "white",
            "showbackground": true,
            "ticks": "",
            "zerolinecolor": "white"
           },
           "yaxis": {
            "backgroundcolor": "#E5ECF6",
            "gridcolor": "white",
            "gridwidth": 2,
            "linecolor": "white",
            "showbackground": true,
            "ticks": "",
            "zerolinecolor": "white"
           },
           "zaxis": {
            "backgroundcolor": "#E5ECF6",
            "gridcolor": "white",
            "gridwidth": 2,
            "linecolor": "white",
            "showbackground": true,
            "ticks": "",
            "zerolinecolor": "white"
           }
          },
          "shapedefaults": {
           "line": {
            "color": "#2a3f5f"
           }
          },
          "ternary": {
           "aaxis": {
            "gridcolor": "white",
            "linecolor": "white",
            "ticks": ""
           },
           "baxis": {
            "gridcolor": "white",
            "linecolor": "white",
            "ticks": ""
           },
           "bgcolor": "#E5ECF6",
           "caxis": {
            "gridcolor": "white",
            "linecolor": "white",
            "ticks": ""
           }
          },
          "title": {
           "x": 0.05
          },
          "xaxis": {
           "automargin": true,
           "gridcolor": "white",
           "linecolor": "white",
           "ticks": "",
           "title": {
            "standoff": 15
           },
           "zerolinecolor": "white",
           "zerolinewidth": 2
          },
          "yaxis": {
           "automargin": true,
           "gridcolor": "white",
           "linecolor": "white",
           "ticks": "",
           "title": {
            "standoff": 15
           },
           "zerolinecolor": "white",
           "zerolinewidth": 2
          }
         }
        },
        "title": {
         "text": "SVR Comparision On Testing Data "
        },
        "width": 800,
        "xaxis": {
         "anchor": "y",
         "domain": [
          0,
          0.94
         ],
         "tickangle": -90
        },
        "yaxis": {
         "anchor": "x",
         "domain": [
          0,
          1
         ]
        },
        "yaxis2": {
         "anchor": "x",
         "overlaying": "y",
         "side": "right"
        }
       }
      },
      "text/html": [
       "<div>                            <div id=\"9c2868ed-e8b6-4758-9bfc-23217e1df2d2\" class=\"plotly-graph-div\" style=\"height:600px; width:800px;\"></div>            <script type=\"text/javascript\">                require([\"plotly\"], function(Plotly) {                    window.PLOTLYENV=window.PLOTLYENV || {};                                    if (document.getElementById(\"9c2868ed-e8b6-4758-9bfc-23217e1df2d2\")) {                    Plotly.newPlot(                        \"9c2868ed-e8b6-4758-9bfc-23217e1df2d2\",                        [{\"marker\":{\"color\":\"rgb(34,163,192)\"},\"name\":\"Actual\",\"y\":[82.0,74.0,124.0,80.0,67.0,92.0,53.0,75.0,63.0,162.0,124.0,89.0,65.0,80.0,82.0,134.0,71.0,83.0,156.0,74.0,136.0,64.0,90.0,95.8342151675485,230.0,76.0,74.0,67.0,113.0,79.0,155.0,73.0,60.0,164.0,84.0,84.0,95.8342151675485,69.0,141.0,144.0,73.0,156.0,189.0,60.0,88.0,100.0,170.0,37.0,81.0,80.0,122.0,58.0,127.0,66.0,238.0,74.0,95.8342151675485,94.0,66.0,69.0,102.0,104.0,70.0,120.0,51.0,103.0,112.0,69.0,62.0,184.0,89.0,62.0,116.0,59.0,67.0,117.0,94.0,57.0,104.0,136.0,84.0,43.0,155.0,66.0,44.0,135.0,111.0,61.0,115.0,61.0,95.8342151675485,96.0,87.0,80.0,110.0,146.0,71.0,95.8342151675485,113.0,60.0,88.0,60.0,130.0,95.8342151675485,64.0,120.0,269.0,122.0,69.0,209.0,50.0,101.0,92.0,170.0,90.0,160.0,309.0,67.0,110.0,129.0,86.0,60.0,101.0,192.0,195.0,120.0,70.0,86.0,86.0,23.0,95.8342151675485,80.0,58.0,117.0,131.0,64.0,51.0,67.0,176.0,56.0,110.0,65.0,48.0,62.0,60.0,75.0,67.0,123.0,120.0,139.0,104.0,59.0,66.0,78.0,151.0,92.0,146.0,69.0,77.0,70.0,143.0,146.0,65.0,94.0,124.0,175.0,112.0,76.0,64.0,83.0,68.0,73.0,106.0,73.0,98.0,102.0,78.0,92.0,93.0,84.0,67.0,142.0,94.0,76.0,140.0,150.0,75.0,104.0,117.0,157.0,74.0,55.0,95.8342151675485,68.0,44.0,49.0,108.0,113.0,75.0,110.0,78.0,119.0,44.0,68.0,95.8342151675485,72.0,108.0,146.0,106.0,183.0,67.0,113.0,60.0,198.0,59.0,84.0,95.8342151675485,181.0,123.0,158.0,59.0,184.0,110.0,95.0,66.0,95.8342151675485,65.0,120.0,98.0,141.0,73.0,65.0,93.0,167.0,56.0,70.0,118.0,102.0,103.0,57.0,92.0,60.0,102.0,61.0,72.0,77.0,105.0,108.0,60.0,107.0,86.0,42.0,82.0,132.0,74.0,69.0,143.0,175.0,89.0,95.8342151675485,51.0,158.0,122.0,71.0,103.0,88.0,87.0,122.0,99.0,81.0,48.0,96.0,174.0,167.0,71.0,64.0,95.8342151675485,90.0,83.0,53.0,63.0,67.0,47.0,49.0,95.8342151675485,96.0,78.0,65.0,67.0,68.0,106.0,58.0,72.0,81.0,95.8342151675485,137.0,76.0,77.0,86.0,95.8342151675485,102.0,109.0,80.0,123.0,57.0,210.0,64.0,264.0,112.0,86.0,81.0,92.0,107.0,84.0,87.0,94.0,59.0,76.0,124.0,65.0,68.0,97.0,54.0,81.0,73.0,98.0,70.0,58.0,138.0,95.8342151675485,61.0,95.8342151675485,148.0,31.0,112.0,145.0,119.0,54.0,77.0,101.0,88.0,103.0,75.0,155.0,92.0,104.0,117.0,87.0,120.0,140.0,95.8342151675485,66.0,127.0,64.0,101.0,49.0,95.0,72.0,77.0],\"type\":\"scatter\"},{\"name\":\"Predicted\",\"y\":[93.16704310262918,85.52145607442122,119.84624776797187,110.51190154785633,71.41287333452834,67.57339804817508,75.80334797558368,69.73706269926384,68.31787882320401,173.30876624419813,103.3629115180525,94.27298804365324,69.84763596051249,84.07401835451361,96.78247482191415,130.34468829723534,74.25968126683489,92.43771683840947,160.64102170906023,59.077225272456936,116.13824321229237,68.80325874811439,77.62188405750982,94.38004425123705,187.97428645977976,69.4370284868715,73.1425791176303,93.31256966701818,101.56755158909124,114.51862835066328,130.8722234527964,81.6070021846686,67.2271211599296,152.3385061526647,97.35022827013796,92.0919095377763,94.38004425123705,99.4327174909127,78.20803804499207,79.35518685563926,69.52839759882824,75.82971614343165,96.1191034501831,70.95724269012914,85.36549439099377,121.45280543381574,173.15549298249294,62.58316890941985,97.41826897655898,80.26318192415107,114.41221892401569,72.24983603441848,164.23013920079444,71.13233886739232,189.80515794943545,77.38696031305932,86.37190923599752,88.6552054941281,64.4321532421896,72.3958783385902,61.68716985044063,92.10593410841881,67.04344325804465,111.88831626866937,57.2210724813636,89.3140611875429,108.01804689165198,71.73510680430678,66.15077396282919,158.00662357945163,98.77178229550242,65.48668324924125,143.13463293966248,61.771852531077975,69.41288081342697,89.69716332221338,90.19251484989996,79.49635390007512,103.8743352523457,84.21507955323665,87.50291625406004,49.19433106603589,214.82722229139523,75.78468074514291,69.87023642863693,113.70244773026258,112.35349679710686,71.40374263117025,81.37762538516887,64.2873548351568,96.7514717992604,100.76603039279922,121.74394869648728,89.33563128784641,115.11082078608212,109.36664979042013,73.26802588765037,94.38004425123705,110.0645831727748,61.401781715838816,95.44259256155107,71.05076144632818,123.45745726198999,83.06714726783736,77.67687606002488,98.77394940408755,205.5377162956725,106.54424338237783,69.02401205474649,121.30243749795824,76.98780781772854,102.12665982412051,84.48605144991649,106.76047596590121,121.90371405877573,117.98165358304738,197.6280729778087,64.24669278843845,82.78744050076108,141.29781762926774,100.33108071713701,62.16037982072209,123.95358203843404,168.41910873029025,160.07712259636952,91.28545054089096,68.8810574914101,92.63825462404981,68.36243145764507,35.536880096202886,94.38004425123705,91.24909924170112,66.50961759676335,110.782156991671,120.94477389750006,67.77210494641673,64.68344507580383,64.87066406975697,198.14526943715515,78.27914424755778,98.9262145607359,69.87820006255112,61.72126770028314,87.80302568807434,85.74336619373986,96.07537115864449,70.37018666233104,110.15615608042623,111.4771812913828,141.3352229982125,99.16400253314401,62.56879741002974,63.25411535182554,112.55683964266842,96.16894799972994,84.81971960964489,116.07417499822674,60.9013193685683,82.73899461812158,67.47315793639478,140.29667110832867,121.98634128448663,69.32705569070146,127.08524162757436,126.69427751679956,146.07207387195427,119.27875119201832,96.00838240781792,57.43774677471135,79.74411592714074,69.40336543813515,82.61393984242801,80.2400025771936,119.91224665309761,86.26766518446726,73.31569694046681,114.51869464552198,94.65201365506852,97.9284211886557,92.60018997833009,78.80695477692694,120.33096158229506,104.04961991308716,84.40212463337281,142.33817133629105,128.01517708892112,80.22975676234688,78.05597145330154,109.48401527937727,95.54995731335708,79.3522268557868,70.10160668256918,94.38004425123705,63.783032178661024,63.80612129376875,57.61163215108588,102.72538406084692,133.72948486435104,74.94074613363824,117.65730441610555,77.65387997443082,124.44848353101457,74.74054733912686,62.811343807975,94.38004425123705,67.62064493808481,99.05990260893356,183.16955905394622,117.11739489108783,131.92205740192782,67.77576107502733,120.48342328869381,89.18515291565615,150.88785329378203,60.242375786067505,87.55992234445927,94.38004425123705,134.08789366736943,94.32238520319567,143.00359463960973,60.696116892213986,152.7031530087557,81.77897810266637,87.77469592896574,78.61026318062846,94.38004425123705,79.06462756237357,97.7387419785669,88.16252680348458,83.52804860743396,72.2291066015319,69.54801215003005,91.61576170065433,135.205569817234,79.57118312311701,97.01662737262137,120.7580594149918,82.26025159870966,90.16899983864329,66.4521224396745,96.05246084832521,64.47960628003835,92.20715890651678,57.59380672778986,95.07574344195069,85.9375035501003,113.27933954392262,81.20980166884016,68.27473098354,100.52245238275697,75.76734569013985,52.440769041023096,94.8889707777276,152.32736810132388,78.42610688770998,70.98743328284087,110.59975008457019,110.08862999998433,94.56558418841502,92.52036140470642,101.75421239266922,106.96015148850034,94.64288893506506,75.81187886737513,141.36759636555558,121.39190866837504,79.96814536530343,113.0699846273206,96.53627586283307,74.1036979120259,58.19806438429129,87.8095334142568,137.0970266627051,103.35882407099467,81.40542346358467,61.4778581694705,94.38004425123705,96.6299735238286,67.24521750097534,68.81049284777015,71.95220777373521,108.12418774499434,61.246820317974716,97.15326721120852,94.38004425123705,124.793341359517,65.52923322659677,68.35202448583783,70.46873581649612,69.34197495024324,101.96279472160728,74.81916927866456,69.05865123235759,81.63567498464596,54.46123198363109,132.2295462142652,66.69052564955251,82.46506110917886,130.40168295767268,94.38004425123705,106.1763282439502,121.10347225544734,88.17965382793096,124.06974178274737,68.42412758828192,129.36801381516904,79.09833982579636,206.30618529101827,99.99181493140401,87.62199740836564,108.66810266707085,81.35860514323628,96.89707306545512,67.50752963711471,67.03772972055646,114.10634711003564,68.02101236731738,70.29820039453676,111.11659898016711,64.82254121433704,75.74146910200994,98.62861062462667,73.50962828329699,101.27107012180255,80.81240996613684,89.12265755454479,79.66745704937836,65.52981806082295,116.59217720398789,94.38004425123705,63.67588477508304,94.38004425123705,118.90047078089316,68.19188719317077,105.61517381944628,110.17475357530981,141.51317146052367,59.15824785551428,63.87746796578774,108.8823977221769,87.8488259229494,111.13509406977442,150.23773702995146,135.04798049449215,90.10320471742358,89.25105207973735,108.01677576023263,102.67035275029826,108.5678625310689,105.58978980366425,221.53338406178278,69.62613164533155,113.7644535428995,71.763999948817,96.52213312026339,58.0800056851154,98.6807155218126,77.98971120377297,72.51736198994382],\"yaxis\":\"y2\",\"type\":\"scatter\",\"xaxis\":\"x\"}],                        {\"template\":{\"data\":{\"bar\":[{\"error_x\":{\"color\":\"#2a3f5f\"},\"error_y\":{\"color\":\"#2a3f5f\"},\"marker\":{\"line\":{\"color\":\"#E5ECF6\",\"width\":0.5},\"pattern\":{\"fillmode\":\"overlay\",\"size\":10,\"solidity\":0.2}},\"type\":\"bar\"}],\"barpolar\":[{\"marker\":{\"line\":{\"color\":\"#E5ECF6\",\"width\":0.5},\"pattern\":{\"fillmode\":\"overlay\",\"size\":10,\"solidity\":0.2}},\"type\":\"barpolar\"}],\"carpet\":[{\"aaxis\":{\"endlinecolor\":\"#2a3f5f\",\"gridcolor\":\"white\",\"linecolor\":\"white\",\"minorgridcolor\":\"white\",\"startlinecolor\":\"#2a3f5f\"},\"baxis\":{\"endlinecolor\":\"#2a3f5f\",\"gridcolor\":\"white\",\"linecolor\":\"white\",\"minorgridcolor\":\"white\",\"startlinecolor\":\"#2a3f5f\"},\"type\":\"carpet\"}],\"choropleth\":[{\"colorbar\":{\"outlinewidth\":0,\"ticks\":\"\"},\"type\":\"choropleth\"}],\"contour\":[{\"colorbar\":{\"outlinewidth\":0,\"ticks\":\"\"},\"colorscale\":[[0.0,\"#0d0887\"],[0.1111111111111111,\"#46039f\"],[0.2222222222222222,\"#7201a8\"],[0.3333333333333333,\"#9c179e\"],[0.4444444444444444,\"#bd3786\"],[0.5555555555555556,\"#d8576b\"],[0.6666666666666666,\"#ed7953\"],[0.7777777777777778,\"#fb9f3a\"],[0.8888888888888888,\"#fdca26\"],[1.0,\"#f0f921\"]],\"type\":\"contour\"}],\"contourcarpet\":[{\"colorbar\":{\"outlinewidth\":0,\"ticks\":\"\"},\"type\":\"contourcarpet\"}],\"heatmap\":[{\"colorbar\":{\"outlinewidth\":0,\"ticks\":\"\"},\"colorscale\":[[0.0,\"#0d0887\"],[0.1111111111111111,\"#46039f\"],[0.2222222222222222,\"#7201a8\"],[0.3333333333333333,\"#9c179e\"],[0.4444444444444444,\"#bd3786\"],[0.5555555555555556,\"#d8576b\"],[0.6666666666666666,\"#ed7953\"],[0.7777777777777778,\"#fb9f3a\"],[0.8888888888888888,\"#fdca26\"],[1.0,\"#f0f921\"]],\"type\":\"heatmap\"}],\"heatmapgl\":[{\"colorbar\":{\"outlinewidth\":0,\"ticks\":\"\"},\"colorscale\":[[0.0,\"#0d0887\"],[0.1111111111111111,\"#46039f\"],[0.2222222222222222,\"#7201a8\"],[0.3333333333333333,\"#9c179e\"],[0.4444444444444444,\"#bd3786\"],[0.5555555555555556,\"#d8576b\"],[0.6666666666666666,\"#ed7953\"],[0.7777777777777778,\"#fb9f3a\"],[0.8888888888888888,\"#fdca26\"],[1.0,\"#f0f921\"]],\"type\":\"heatmapgl\"}],\"histogram\":[{\"marker\":{\"pattern\":{\"fillmode\":\"overlay\",\"size\":10,\"solidity\":0.2}},\"type\":\"histogram\"}],\"histogram2d\":[{\"colorbar\":{\"outlinewidth\":0,\"ticks\":\"\"},\"colorscale\":[[0.0,\"#0d0887\"],[0.1111111111111111,\"#46039f\"],[0.2222222222222222,\"#7201a8\"],[0.3333333333333333,\"#9c179e\"],[0.4444444444444444,\"#bd3786\"],[0.5555555555555556,\"#d8576b\"],[0.6666666666666666,\"#ed7953\"],[0.7777777777777778,\"#fb9f3a\"],[0.8888888888888888,\"#fdca26\"],[1.0,\"#f0f921\"]],\"type\":\"histogram2d\"}],\"histogram2dcontour\":[{\"colorbar\":{\"outlinewidth\":0,\"ticks\":\"\"},\"colorscale\":[[0.0,\"#0d0887\"],[0.1111111111111111,\"#46039f\"],[0.2222222222222222,\"#7201a8\"],[0.3333333333333333,\"#9c179e\"],[0.4444444444444444,\"#bd3786\"],[0.5555555555555556,\"#d8576b\"],[0.6666666666666666,\"#ed7953\"],[0.7777777777777778,\"#fb9f3a\"],[0.8888888888888888,\"#fdca26\"],[1.0,\"#f0f921\"]],\"type\":\"histogram2dcontour\"}],\"mesh3d\":[{\"colorbar\":{\"outlinewidth\":0,\"ticks\":\"\"},\"type\":\"mesh3d\"}],\"parcoords\":[{\"line\":{\"colorbar\":{\"outlinewidth\":0,\"ticks\":\"\"}},\"type\":\"parcoords\"}],\"pie\":[{\"automargin\":true,\"type\":\"pie\"}],\"scatter\":[{\"marker\":{\"colorbar\":{\"outlinewidth\":0,\"ticks\":\"\"}},\"type\":\"scatter\"}],\"scatter3d\":[{\"line\":{\"colorbar\":{\"outlinewidth\":0,\"ticks\":\"\"}},\"marker\":{\"colorbar\":{\"outlinewidth\":0,\"ticks\":\"\"}},\"type\":\"scatter3d\"}],\"scattercarpet\":[{\"marker\":{\"colorbar\":{\"outlinewidth\":0,\"ticks\":\"\"}},\"type\":\"scattercarpet\"}],\"scattergeo\":[{\"marker\":{\"colorbar\":{\"outlinewidth\":0,\"ticks\":\"\"}},\"type\":\"scattergeo\"}],\"scattergl\":[{\"marker\":{\"colorbar\":{\"outlinewidth\":0,\"ticks\":\"\"}},\"type\":\"scattergl\"}],\"scattermapbox\":[{\"marker\":{\"colorbar\":{\"outlinewidth\":0,\"ticks\":\"\"}},\"type\":\"scattermapbox\"}],\"scatterpolar\":[{\"marker\":{\"colorbar\":{\"outlinewidth\":0,\"ticks\":\"\"}},\"type\":\"scatterpolar\"}],\"scatterpolargl\":[{\"marker\":{\"colorbar\":{\"outlinewidth\":0,\"ticks\":\"\"}},\"type\":\"scatterpolargl\"}],\"scatterternary\":[{\"marker\":{\"colorbar\":{\"outlinewidth\":0,\"ticks\":\"\"}},\"type\":\"scatterternary\"}],\"surface\":[{\"colorbar\":{\"outlinewidth\":0,\"ticks\":\"\"},\"colorscale\":[[0.0,\"#0d0887\"],[0.1111111111111111,\"#46039f\"],[0.2222222222222222,\"#7201a8\"],[0.3333333333333333,\"#9c179e\"],[0.4444444444444444,\"#bd3786\"],[0.5555555555555556,\"#d8576b\"],[0.6666666666666666,\"#ed7953\"],[0.7777777777777778,\"#fb9f3a\"],[0.8888888888888888,\"#fdca26\"],[1.0,\"#f0f921\"]],\"type\":\"surface\"}],\"table\":[{\"cells\":{\"fill\":{\"color\":\"#EBF0F8\"},\"line\":{\"color\":\"white\"}},\"header\":{\"fill\":{\"color\":\"#C8D4E3\"},\"line\":{\"color\":\"white\"}},\"type\":\"table\"}]},\"layout\":{\"annotationdefaults\":{\"arrowcolor\":\"#2a3f5f\",\"arrowhead\":0,\"arrowwidth\":1},\"autotypenumbers\":\"strict\",\"coloraxis\":{\"colorbar\":{\"outlinewidth\":0,\"ticks\":\"\"}},\"colorscale\":{\"diverging\":[[0,\"#8e0152\"],[0.1,\"#c51b7d\"],[0.2,\"#de77ae\"],[0.3,\"#f1b6da\"],[0.4,\"#fde0ef\"],[0.5,\"#f7f7f7\"],[0.6,\"#e6f5d0\"],[0.7,\"#b8e186\"],[0.8,\"#7fbc41\"],[0.9,\"#4d9221\"],[1,\"#276419\"]],\"sequential\":[[0.0,\"#0d0887\"],[0.1111111111111111,\"#46039f\"],[0.2222222222222222,\"#7201a8\"],[0.3333333333333333,\"#9c179e\"],[0.4444444444444444,\"#bd3786\"],[0.5555555555555556,\"#d8576b\"],[0.6666666666666666,\"#ed7953\"],[0.7777777777777778,\"#fb9f3a\"],[0.8888888888888888,\"#fdca26\"],[1.0,\"#f0f921\"]],\"sequentialminus\":[[0.0,\"#0d0887\"],[0.1111111111111111,\"#46039f\"],[0.2222222222222222,\"#7201a8\"],[0.3333333333333333,\"#9c179e\"],[0.4444444444444444,\"#bd3786\"],[0.5555555555555556,\"#d8576b\"],[0.6666666666666666,\"#ed7953\"],[0.7777777777777778,\"#fb9f3a\"],[0.8888888888888888,\"#fdca26\"],[1.0,\"#f0f921\"]]},\"colorway\":[\"#636efa\",\"#EF553B\",\"#00cc96\",\"#ab63fa\",\"#FFA15A\",\"#19d3f3\",\"#FF6692\",\"#B6E880\",\"#FF97FF\",\"#FECB52\"],\"font\":{\"color\":\"#2a3f5f\"},\"geo\":{\"bgcolor\":\"white\",\"lakecolor\":\"white\",\"landcolor\":\"#E5ECF6\",\"showlakes\":true,\"showland\":true,\"subunitcolor\":\"white\"},\"hoverlabel\":{\"align\":\"left\"},\"hovermode\":\"closest\",\"mapbox\":{\"style\":\"light\"},\"paper_bgcolor\":\"white\",\"plot_bgcolor\":\"#E5ECF6\",\"polar\":{\"angularaxis\":{\"gridcolor\":\"white\",\"linecolor\":\"white\",\"ticks\":\"\"},\"bgcolor\":\"#E5ECF6\",\"radialaxis\":{\"gridcolor\":\"white\",\"linecolor\":\"white\",\"ticks\":\"\"}},\"scene\":{\"xaxis\":{\"backgroundcolor\":\"#E5ECF6\",\"gridcolor\":\"white\",\"gridwidth\":2,\"linecolor\":\"white\",\"showbackground\":true,\"ticks\":\"\",\"zerolinecolor\":\"white\"},\"yaxis\":{\"backgroundcolor\":\"#E5ECF6\",\"gridcolor\":\"white\",\"gridwidth\":2,\"linecolor\":\"white\",\"showbackground\":true,\"ticks\":\"\",\"zerolinecolor\":\"white\"},\"zaxis\":{\"backgroundcolor\":\"#E5ECF6\",\"gridcolor\":\"white\",\"gridwidth\":2,\"linecolor\":\"white\",\"showbackground\":true,\"ticks\":\"\",\"zerolinecolor\":\"white\"}},\"shapedefaults\":{\"line\":{\"color\":\"#2a3f5f\"}},\"ternary\":{\"aaxis\":{\"gridcolor\":\"white\",\"linecolor\":\"white\",\"ticks\":\"\"},\"baxis\":{\"gridcolor\":\"white\",\"linecolor\":\"white\",\"ticks\":\"\"},\"bgcolor\":\"#E5ECF6\",\"caxis\":{\"gridcolor\":\"white\",\"linecolor\":\"white\",\"ticks\":\"\"}},\"title\":{\"x\":0.05},\"xaxis\":{\"automargin\":true,\"gridcolor\":\"white\",\"linecolor\":\"white\",\"ticks\":\"\",\"title\":{\"standoff\":15},\"zerolinecolor\":\"white\",\"zerolinewidth\":2},\"yaxis\":{\"automargin\":true,\"gridcolor\":\"white\",\"linecolor\":\"white\",\"ticks\":\"\",\"title\":{\"standoff\":15},\"zerolinecolor\":\"white\",\"zerolinewidth\":2}}},\"xaxis\":{\"anchor\":\"y\",\"domain\":[0.0,0.94],\"tickangle\":-90},\"yaxis\":{\"anchor\":\"x\",\"domain\":[0.0,1.0]},\"yaxis2\":{\"anchor\":\"x\",\"overlaying\":\"y\",\"side\":\"right\"},\"height\":600,\"width\":800,\"title\":{\"text\":\"SVR Comparision On Testing Data \"}},                        {\"responsive\": true}                    ).then(function(){\n",
       "                            \n",
       "var gd = document.getElementById('9c2868ed-e8b6-4758-9bfc-23217e1df2d2');\n",
       "var x = new MutationObserver(function (mutations, observer) {{\n",
       "        var display = window.getComputedStyle(gd).display;\n",
       "        if (!display || display === 'none') {{\n",
       "            console.log([gd, 'removed!']);\n",
       "            Plotly.purge(gd);\n",
       "            observer.disconnect();\n",
       "        }}\n",
       "}});\n",
       "\n",
       "// Listen for the removal of the full notebook cells\n",
       "var notebookContainer = gd.closest('#notebook-container');\n",
       "if (notebookContainer) {{\n",
       "    x.observe(notebookContainer, {childList: true});\n",
       "}}\n",
       "\n",
       "// Listen for the clearing of the current output cell\n",
       "var outputEl = gd.closest('.output');\n",
       "if (outputEl) {{\n",
       "    x.observe(outputEl, {childList: true});\n",
       "}}\n",
       "\n",
       "                        })                };                });            </script>        </div>"
      ]
     },
     "metadata": {},
     "output_type": "display_data"
    }
   ],
   "source": [
    "import plotly.graph_objects as go\n",
    "from plotly.subplots import make_subplots\n",
    "\n",
    "trace1 = go.Scatter(\n",
    "   \n",
    "    y=df_y.iloc[:,-1],\n",
    "    name=\"Actual\",\n",
    "    marker=dict(\n",
    "        color='rgb(34,163,192)'\n",
    "               )\n",
    ")\n",
    "trace2 = go.Scatter(\n",
    "    y=df_y.iloc[:,0],\n",
    "    \n",
    "    name='Predicted',\n",
    "    yaxis='y2'\n",
    "\n",
    ")\n",
    "fig = make_subplots(specs=[[{\"secondary_y\": True}]])\n",
    "fig.add_trace(trace1)\n",
    "fig.add_trace(trace2,secondary_y=True)\n",
    "fig['layout'].update(height = 600, width = 800, title = \"SVR Comparision On Testing Data \",xaxis=dict(\n",
    "      tickangle=-90\n",
    "    ))\n",
    "fig.show()"
   ]
  },
  {
   "cell_type": "markdown",
   "id": "26b148b7",
   "metadata": {},
   "source": [
    "### Step 5 : Checking accuracy using built-in functions"
   ]
  },
  {
   "cell_type": "code",
   "execution_count": 49,
   "id": "d87c66c4",
   "metadata": {},
   "outputs": [
    {
     "data": {
      "text/plain": [
       "0.6219083699035985"
      ]
     },
     "execution_count": 49,
     "metadata": {},
     "output_type": "execute_result"
    }
   ],
   "source": [
    "from sklearn.metrics import r2_score\n",
    "r2_score(svr_y_test,svr_y_pred)"
   ]
  },
  {
   "cell_type": "code",
   "execution_count": 50,
   "id": "5176af2e",
   "metadata": {
    "scrolled": true
   },
   "outputs": [
    {
     "data": {
      "text/plain": [
       "0.6239572555430886"
      ]
     },
     "execution_count": 50,
     "metadata": {},
     "output_type": "execute_result"
    }
   ],
   "source": [
    "from sklearn.metrics import explained_variance_score\n",
    "explained_variance_score(svr_y_test, svr_y_pred)"
   ]
  },
  {
   "cell_type": "code",
   "execution_count": 51,
   "id": "8863f7e0",
   "metadata": {},
   "outputs": [
    {
     "data": {
      "text/plain": [
       "0.1677867441306326"
      ]
     },
     "execution_count": 51,
     "metadata": {},
     "output_type": "execute_result"
    }
   ],
   "source": [
    "from sklearn.metrics import mean_absolute_percentage_error\n",
    "mean_absolute_percentage_error(svr_y_test,svr_y_pred)"
   ]
  },
  {
   "cell_type": "markdown",
   "id": "eb568a31",
   "metadata": {},
   "source": [
    "## Using Different Model For Comparision"
   ]
  },
  {
   "cell_type": "markdown",
   "id": "9aa8da0f",
   "metadata": {},
   "source": [
    "### 1.) XGBOOST Model"
   ]
  },
  {
   "cell_type": "code",
   "execution_count": 52,
   "id": "d1c8ed92",
   "metadata": {},
   "outputs": [
    {
     "name": "stderr",
     "output_type": "stream",
     "text": [
      "<ipython-input-52-b3af51a578ec>:2: FutureWarning:\n",
      "\n",
      "Using a non-tuple sequence for multidimensional indexing is deprecated; use `arr[tuple(seq)]` instead of `arr[seq]`. In the future this will be interpreted as an array index, `arr[np.array(seq)]`, which will result either in an error or a different result.\n",
      "\n"
     ]
    }
   ],
   "source": [
    "xg_X = np.concatenate((aqi_15.reshape(365,1),\n",
    "                     aqi_16[[range(0,365)]].reshape(365,1),\n",
    "                     aqi_17.reshape(365,1),\n",
    "                     aqi_18.reshape(365,1),\n",
    "                     aqi_19.reshape(365,1)),axis=1)\n",
    "xg_Y = aqi_19.reshape(365,1);"
   ]
  },
  {
   "cell_type": "code",
   "execution_count": 53,
   "id": "8f1a94d7",
   "metadata": {},
   "outputs": [
    {
     "data": {
      "text/plain": [
       "(365, 5)"
      ]
     },
     "execution_count": 53,
     "metadata": {},
     "output_type": "execute_result"
    }
   ],
   "source": [
    "xg_X.shape"
   ]
  },
  {
   "cell_type": "code",
   "execution_count": 54,
   "id": "3de45b99",
   "metadata": {},
   "outputs": [
    {
     "data": {
      "text/plain": [
       "array([ 51.,  nan, 164.,  59.,  64.])"
      ]
     },
     "execution_count": 54,
     "metadata": {},
     "output_type": "execute_result"
    }
   ],
   "source": [
    "xg_X[205,:]"
   ]
  },
  {
   "cell_type": "code",
   "execution_count": 55,
   "id": "9a7e3b06",
   "metadata": {},
   "outputs": [],
   "source": [
    "from sklearn.impute import SimpleImputer;\n",
    "ds_imputer=SimpleImputer(missing_values=np.nan,strategy='mean');\n",
    "ds_imputer.fit(xg_X);\n",
    "xg_X=ds_imputer.transform(xg_X);\n",
    "ds_imputer.fit(xg_Y);\n",
    "xg_Y=ds_imputer.transform(xg_Y);"
   ]
  },
  {
   "cell_type": "code",
   "execution_count": 56,
   "id": "15c82370",
   "metadata": {},
   "outputs": [],
   "source": [
    "xg_x_train,xg_x_test,xg_y_train,xg_y_test=train_test_split(xg_X,xg_Y,test_size=0.2,random_state=1);"
   ]
  },
  {
   "cell_type": "code",
   "execution_count": 57,
   "id": "27d004e7",
   "metadata": {},
   "outputs": [],
   "source": [
    "from xgboost import XGBRegressor;\n",
    "xg_regressor=XGBRegressor();\n",
    "xg_regressor.fit(svr_x_train, svr_y_train);#training ke liye 5 days ka data upr svr wale se"
   ]
  },
  {
   "cell_type": "code",
   "execution_count": 58,
   "id": "99f80a56",
   "metadata": {},
   "outputs": [],
   "source": [
    "xg_pred=xg_regressor.predict(xg_X )#ismai jo data dalna hai vo 5 saal wala dalna hai\n",
    "#orr ye 2020 ki values hai"
   ]
  },
  {
   "cell_type": "code",
   "execution_count": 59,
   "id": "92a9b095",
   "metadata": {},
   "outputs": [
    {
     "data": {
      "text/plain": [
       "array([[ 98.,  73., 144.,  99., 151.],\n",
       "       [120., 148., 133., 143.,  86.],\n",
       "       [134., 112.,  80.,  84.,  96.],\n",
       "       ...,\n",
       "       [122., 103.,  96., 102., 104.],\n",
       "       [ 96., 123.,  77.,  57.,  63.],\n",
       "       [133., 143.,  86.,  75.,  86.]])"
      ]
     },
     "execution_count": 59,
     "metadata": {},
     "output_type": "execute_result"
    }
   ],
   "source": [
    "svr_x_train"
   ]
  },
  {
   "cell_type": "code",
   "execution_count": 60,
   "id": "2de2ec0a",
   "metadata": {},
   "outputs": [
    {
     "name": "stdout",
     "output_type": "stream",
     "text": [
      "(73, 5)\n"
     ]
    }
   ],
   "source": [
    "print(xg_x_test.shape)"
   ]
  },
  {
   "cell_type": "markdown",
   "id": "d1358b0a",
   "metadata": {},
   "source": [
    "### Error in XgBoost Model"
   ]
  },
  {
   "cell_type": "code",
   "execution_count": 61,
   "id": "62b4e262",
   "metadata": {},
   "outputs": [],
   "source": [
    "xg_real_pred = xg_regressor.predict(svr_x_test)"
   ]
  },
  {
   "cell_type": "code",
   "execution_count": 62,
   "id": "b397a398",
   "metadata": {},
   "outputs": [
    {
     "data": {
      "text/plain": [
       "0.18969144135725846"
      ]
     },
     "execution_count": 62,
     "metadata": {},
     "output_type": "execute_result"
    }
   ],
   "source": [
    "from sklearn.metrics import mean_absolute_percentage_error\n",
    "mean_absolute_percentage_error(xg_real_pred,svr_y_test)"
   ]
  },
  {
   "cell_type": "code",
   "execution_count": 63,
   "id": "910ba7b4",
   "metadata": {},
   "outputs": [
    {
     "data": {
      "text/plain": [
       "(365,)"
      ]
     },
     "execution_count": 63,
     "metadata": {},
     "output_type": "execute_result"
    }
   ],
   "source": [
    "xg_pred.shape"
   ]
  },
  {
   "cell_type": "code",
   "execution_count": 64,
   "id": "fa5dae82",
   "metadata": {},
   "outputs": [
    {
     "data": {
      "text/plain": [
       "0.2003030554413281"
      ]
     },
     "execution_count": 64,
     "metadata": {},
     "output_type": "execute_result"
    }
   ],
   "source": [
    "from sklearn.metrics import r2_score\n",
    "r2_score(xg_real_pred, svr_y_test)"
   ]
  },
  {
   "cell_type": "markdown",
   "id": "20cea68a",
   "metadata": {},
   "source": [
    "### Visualization in XgBoost "
   ]
  },
  {
   "cell_type": "code",
   "execution_count": 65,
   "id": "179ef6d2",
   "metadata": {},
   "outputs": [],
   "source": [
    "df_xg =pd.DataFrame(np.concatenate((xg_pred[range(0,183)].reshape(183,1),\n",
    "                                    aqi_20.reshape(183,1)),\n",
    "                                   axis = 1 ),\n",
    "                                columns = [\"Predicted\",\"Actual\"])"
   ]
  },
  {
   "cell_type": "code",
   "execution_count": 66,
   "id": "4f40a413",
   "metadata": {},
   "outputs": [
    {
     "data": {
      "text/html": [
       "<div>\n",
       "<style scoped>\n",
       "    .dataframe tbody tr th:only-of-type {\n",
       "        vertical-align: middle;\n",
       "    }\n",
       "\n",
       "    .dataframe tbody tr th {\n",
       "        vertical-align: top;\n",
       "    }\n",
       "\n",
       "    .dataframe thead th {\n",
       "        text-align: right;\n",
       "    }\n",
       "</style>\n",
       "<table border=\"1\" class=\"dataframe\">\n",
       "  <thead>\n",
       "    <tr style=\"text-align: right;\">\n",
       "      <th></th>\n",
       "      <th>Predicted</th>\n",
       "      <th>Actual</th>\n",
       "    </tr>\n",
       "  </thead>\n",
       "  <tbody>\n",
       "    <tr>\n",
       "      <th>0</th>\n",
       "      <td>135.783829</td>\n",
       "      <td>82.0</td>\n",
       "    </tr>\n",
       "    <tr>\n",
       "      <th>1</th>\n",
       "      <td>108.151176</td>\n",
       "      <td>81.0</td>\n",
       "    </tr>\n",
       "    <tr>\n",
       "      <th>2</th>\n",
       "      <td>142.083420</td>\n",
       "      <td>85.0</td>\n",
       "    </tr>\n",
       "    <tr>\n",
       "      <th>3</th>\n",
       "      <td>105.585907</td>\n",
       "      <td>95.0</td>\n",
       "    </tr>\n",
       "    <tr>\n",
       "      <th>4</th>\n",
       "      <td>112.381721</td>\n",
       "      <td>118.0</td>\n",
       "    </tr>\n",
       "    <tr>\n",
       "      <th>...</th>\n",
       "      <td>...</td>\n",
       "      <td>...</td>\n",
       "    </tr>\n",
       "    <tr>\n",
       "      <th>178</th>\n",
       "      <td>179.742249</td>\n",
       "      <td>51.0</td>\n",
       "    </tr>\n",
       "    <tr>\n",
       "      <th>179</th>\n",
       "      <td>116.553108</td>\n",
       "      <td>61.0</td>\n",
       "    </tr>\n",
       "    <tr>\n",
       "      <th>180</th>\n",
       "      <td>76.511345</td>\n",
       "      <td>65.0</td>\n",
       "    </tr>\n",
       "    <tr>\n",
       "      <th>181</th>\n",
       "      <td>80.324768</td>\n",
       "      <td>63.0</td>\n",
       "    </tr>\n",
       "    <tr>\n",
       "      <th>182</th>\n",
       "      <td>116.750229</td>\n",
       "      <td>43.0</td>\n",
       "    </tr>\n",
       "  </tbody>\n",
       "</table>\n",
       "<p>183 rows × 2 columns</p>\n",
       "</div>"
      ],
      "text/plain": [
       "      Predicted  Actual\n",
       "0    135.783829    82.0\n",
       "1    108.151176    81.0\n",
       "2    142.083420    85.0\n",
       "3    105.585907    95.0\n",
       "4    112.381721   118.0\n",
       "..          ...     ...\n",
       "178  179.742249    51.0\n",
       "179  116.553108    61.0\n",
       "180   76.511345    65.0\n",
       "181   80.324768    63.0\n",
       "182  116.750229    43.0\n",
       "\n",
       "[183 rows x 2 columns]"
      ]
     },
     "execution_count": 66,
     "metadata": {},
     "output_type": "execute_result"
    }
   ],
   "source": [
    "df_xg"
   ]
  },
  {
   "cell_type": "code",
   "execution_count": 67,
   "id": "b4ac9cf1",
   "metadata": {},
   "outputs": [
    {
     "data": {
      "application/vnd.plotly.v1+json": {
       "config": {
        "plotlyServerURL": "https://plot.ly"
       },
       "data": [
        {
         "marker": {
          "color": "rgb(34,163,192)"
         },
         "name": "Actual",
         "type": "scatter",
         "y": [
          82,
          81,
          85,
          95,
          118,
          81,
          75,
          93,
          101,
          94,
          78,
          79,
          106,
          121,
          111,
          114,
          106,
          86,
          66,
          81,
          90,
          87,
          82,
          108,
          100,
          97,
          98,
          102,
          115,
          112,
          111,
          102,
          94,
          79,
          82,
          86,
          96,
          96,
          105,
          101,
          103,
          87,
          80,
          84,
          111,
          128,
          120,
          99,
          103,
          101,
          94,
          90,
          78,
          81,
          82,
          107,
          104,
          112,
          98,
          95,
          101,
          103,
          137,
          131,
          117,
          100,
          93,
          91,
          99,
          93,
          95,
          97,
          90,
          86,
          88,
          79,
          77,
          78,
          91,
          100,
          103,
          99,
          85,
          106,
          70,
          61,
          67,
          70,
          66,
          72,
          68,
          64,
          70,
          82,
          74,
          77,
          65,
          62,
          67,
          65,
          76,
          70,
          64,
          72,
          72,
          74,
          66,
          74,
          94,
          67,
          53,
          65,
          71,
          63,
          69,
          66,
          61,
          59,
          71,
          62,
          61,
          74,
          72,
          71,
          79,
          91,
          85,
          82,
          73,
          76,
          78,
          77,
          82,
          66,
          66,
          73,
          74,
          70,
          68,
          72,
          79,
          70,
          68,
          72,
          66,
          70,
          66,
          75,
          74,
          66,
          72,
          61,
          49,
          40,
          42,
          43,
          55,
          55,
          55,
          55,
          58,
          70,
          59,
          49,
          50,
          49,
          47,
          55,
          57,
          65,
          65,
          56,
          52,
          49,
          56,
          63,
          63,
          58,
          51,
          61,
          65,
          63,
          43
         ]
        },
        {
         "name": "Predicted",
         "type": "scatter",
         "xaxis": "x",
         "y": [
          135.78382873535156,
          108.15117645263672,
          142.0834197998047,
          105.58590698242188,
          112.38172149658203,
          108.68437957763672,
          111.6542739868164,
          109.04816436767578,
          103.19721984863281,
          94.15948486328125,
          110.8414077758789,
          130.60659790039062,
          92.0340576171875,
          141.6007537841797,
          90.94851684570312,
          97.48554992675781,
          114.98896789550781,
          103.33158111572266,
          99.72079467773438,
          74.19606018066406,
          138.68472290039062,
          126.09912109375,
          100.79826354980469,
          115.56730651855469,
          96.48748779296875,
          112.92642974853516,
          90.49604034423828,
          93.94963073730469,
          100.17639923095703,
          99.34835815429688,
          136.4987335205078,
          110.30744171142578,
          117.34557342529297,
          117.91844177246094,
          86.62847900390625,
          110.31656646728516,
          108.72123718261719,
          116.54438018798828,
          108.84547424316406,
          109.38555908203125,
          137.8939971923828,
          105.39759063720703,
          103.86726379394531,
          126.10829162597656,
          101.22296142578125,
          118.05496215820312,
          140.82467651367188,
          105.53070831298828,
          119.80690002441406,
          112.48506164550781,
          98.36690521240234,
          86.59474182128906,
          102.35304260253906,
          105.3557357788086,
          158.09461975097656,
          89.85153198242188,
          94.21721649169922,
          115.32063293457031,
          93.90398406982422,
          98.642578125,
          101.63143920898438,
          107.09037017822266,
          92.75701904296875,
          94.36038208007812,
          126.795166015625,
          96.254150390625,
          124.76785278320312,
          83.35529327392578,
          96.30046081542969,
          91.41742706298828,
          95.789794921875,
          86.49652099609375,
          71.47457885742188,
          101.22147369384766,
          124.28565979003906,
          98.15541076660156,
          149.211669921875,
          130.07608032226562,
          111.63992309570312,
          147.68638610839844,
          163.45849609375,
          173.00489807128906,
          115.6793212890625,
          92.0168685913086,
          123.158935546875,
          128.1304473876953,
          170.557861328125,
          121.24948120117188,
          118.94261932373047,
          118.31354522705078,
          122.51236724853516,
          127.03265380859375,
          142.41261291503906,
          115.30281066894531,
          102.8725357055664,
          104.62124633789062,
          114.18266296386719,
          193.9282684326172,
          111.3108139038086,
          102.55545806884766,
          103.58470153808594,
          122.42754364013672,
          162.8284454345703,
          99.57357788085938,
          125.11695861816406,
          130.5542755126953,
          63.504547119140625,
          88.70854949951172,
          104.90740966796875,
          105.80599212646484,
          84.49884033203125,
          63.07021713256836,
          80.204833984375,
          94.81116485595703,
          96.41561889648438,
          87.85813903808594,
          144.25942993164062,
          123.41261291503906,
          127.61075592041016,
          96.6381607055664,
          103.55516815185547,
          92.01481628417969,
          120.96672821044922,
          135.1536865234375,
          122.1429214477539,
          154.7043914794922,
          110.6780014038086,
          110.68684387207031,
          104.81338500976562,
          102.16946411132812,
          86.44398498535156,
          90.18316650390625,
          82.79779052734375,
          92.94888305664062,
          104.23030853271484,
          108.37847137451172,
          98.80230712890625,
          102.23145294189453,
          109.6131362915039,
          86.24929809570312,
          81.61624145507812,
          130.64523315429688,
          137.0311279296875,
          109.09297180175781,
          104.65740203857422,
          93.31563568115234,
          107.20503234863281,
          92.00603485107422,
          96.25736236572266,
          109.7210464477539,
          99.6963119506836,
          141.85597229003906,
          135.3806915283203,
          133.57081604003906,
          138.22470092773438,
          121.68086242675781,
          134.651123046875,
          100.29531860351562,
          142.46270751953125,
          78.3439712524414,
          81.15157318115234,
          52.133522033691406,
          59.040035247802734,
          56.74289321899414,
          101.287353515625,
          130.5345916748047,
          91.01355743408203,
          95.71206665039062,
          171.56703186035156,
          112.46647644042969,
          123.50038146972656,
          65.1995849609375,
          119.8998031616211,
          67.90692138671875,
          74.04541015625,
          109.38127899169922,
          132.03953552246094,
          104.43647003173828,
          179.74224853515625,
          116.55310821533203,
          76.51134490966797,
          80.32476806640625,
          116.75022888183594
         ],
         "yaxis": "y2"
        }
       ],
       "layout": {
        "height": 600,
        "template": {
         "data": {
          "bar": [
           {
            "error_x": {
             "color": "#2a3f5f"
            },
            "error_y": {
             "color": "#2a3f5f"
            },
            "marker": {
             "line": {
              "color": "#E5ECF6",
              "width": 0.5
             },
             "pattern": {
              "fillmode": "overlay",
              "size": 10,
              "solidity": 0.2
             }
            },
            "type": "bar"
           }
          ],
          "barpolar": [
           {
            "marker": {
             "line": {
              "color": "#E5ECF6",
              "width": 0.5
             },
             "pattern": {
              "fillmode": "overlay",
              "size": 10,
              "solidity": 0.2
             }
            },
            "type": "barpolar"
           }
          ],
          "carpet": [
           {
            "aaxis": {
             "endlinecolor": "#2a3f5f",
             "gridcolor": "white",
             "linecolor": "white",
             "minorgridcolor": "white",
             "startlinecolor": "#2a3f5f"
            },
            "baxis": {
             "endlinecolor": "#2a3f5f",
             "gridcolor": "white",
             "linecolor": "white",
             "minorgridcolor": "white",
             "startlinecolor": "#2a3f5f"
            },
            "type": "carpet"
           }
          ],
          "choropleth": [
           {
            "colorbar": {
             "outlinewidth": 0,
             "ticks": ""
            },
            "type": "choropleth"
           }
          ],
          "contour": [
           {
            "colorbar": {
             "outlinewidth": 0,
             "ticks": ""
            },
            "colorscale": [
             [
              0,
              "#0d0887"
             ],
             [
              0.1111111111111111,
              "#46039f"
             ],
             [
              0.2222222222222222,
              "#7201a8"
             ],
             [
              0.3333333333333333,
              "#9c179e"
             ],
             [
              0.4444444444444444,
              "#bd3786"
             ],
             [
              0.5555555555555556,
              "#d8576b"
             ],
             [
              0.6666666666666666,
              "#ed7953"
             ],
             [
              0.7777777777777778,
              "#fb9f3a"
             ],
             [
              0.8888888888888888,
              "#fdca26"
             ],
             [
              1,
              "#f0f921"
             ]
            ],
            "type": "contour"
           }
          ],
          "contourcarpet": [
           {
            "colorbar": {
             "outlinewidth": 0,
             "ticks": ""
            },
            "type": "contourcarpet"
           }
          ],
          "heatmap": [
           {
            "colorbar": {
             "outlinewidth": 0,
             "ticks": ""
            },
            "colorscale": [
             [
              0,
              "#0d0887"
             ],
             [
              0.1111111111111111,
              "#46039f"
             ],
             [
              0.2222222222222222,
              "#7201a8"
             ],
             [
              0.3333333333333333,
              "#9c179e"
             ],
             [
              0.4444444444444444,
              "#bd3786"
             ],
             [
              0.5555555555555556,
              "#d8576b"
             ],
             [
              0.6666666666666666,
              "#ed7953"
             ],
             [
              0.7777777777777778,
              "#fb9f3a"
             ],
             [
              0.8888888888888888,
              "#fdca26"
             ],
             [
              1,
              "#f0f921"
             ]
            ],
            "type": "heatmap"
           }
          ],
          "heatmapgl": [
           {
            "colorbar": {
             "outlinewidth": 0,
             "ticks": ""
            },
            "colorscale": [
             [
              0,
              "#0d0887"
             ],
             [
              0.1111111111111111,
              "#46039f"
             ],
             [
              0.2222222222222222,
              "#7201a8"
             ],
             [
              0.3333333333333333,
              "#9c179e"
             ],
             [
              0.4444444444444444,
              "#bd3786"
             ],
             [
              0.5555555555555556,
              "#d8576b"
             ],
             [
              0.6666666666666666,
              "#ed7953"
             ],
             [
              0.7777777777777778,
              "#fb9f3a"
             ],
             [
              0.8888888888888888,
              "#fdca26"
             ],
             [
              1,
              "#f0f921"
             ]
            ],
            "type": "heatmapgl"
           }
          ],
          "histogram": [
           {
            "marker": {
             "pattern": {
              "fillmode": "overlay",
              "size": 10,
              "solidity": 0.2
             }
            },
            "type": "histogram"
           }
          ],
          "histogram2d": [
           {
            "colorbar": {
             "outlinewidth": 0,
             "ticks": ""
            },
            "colorscale": [
             [
              0,
              "#0d0887"
             ],
             [
              0.1111111111111111,
              "#46039f"
             ],
             [
              0.2222222222222222,
              "#7201a8"
             ],
             [
              0.3333333333333333,
              "#9c179e"
             ],
             [
              0.4444444444444444,
              "#bd3786"
             ],
             [
              0.5555555555555556,
              "#d8576b"
             ],
             [
              0.6666666666666666,
              "#ed7953"
             ],
             [
              0.7777777777777778,
              "#fb9f3a"
             ],
             [
              0.8888888888888888,
              "#fdca26"
             ],
             [
              1,
              "#f0f921"
             ]
            ],
            "type": "histogram2d"
           }
          ],
          "histogram2dcontour": [
           {
            "colorbar": {
             "outlinewidth": 0,
             "ticks": ""
            },
            "colorscale": [
             [
              0,
              "#0d0887"
             ],
             [
              0.1111111111111111,
              "#46039f"
             ],
             [
              0.2222222222222222,
              "#7201a8"
             ],
             [
              0.3333333333333333,
              "#9c179e"
             ],
             [
              0.4444444444444444,
              "#bd3786"
             ],
             [
              0.5555555555555556,
              "#d8576b"
             ],
             [
              0.6666666666666666,
              "#ed7953"
             ],
             [
              0.7777777777777778,
              "#fb9f3a"
             ],
             [
              0.8888888888888888,
              "#fdca26"
             ],
             [
              1,
              "#f0f921"
             ]
            ],
            "type": "histogram2dcontour"
           }
          ],
          "mesh3d": [
           {
            "colorbar": {
             "outlinewidth": 0,
             "ticks": ""
            },
            "type": "mesh3d"
           }
          ],
          "parcoords": [
           {
            "line": {
             "colorbar": {
              "outlinewidth": 0,
              "ticks": ""
             }
            },
            "type": "parcoords"
           }
          ],
          "pie": [
           {
            "automargin": true,
            "type": "pie"
           }
          ],
          "scatter": [
           {
            "marker": {
             "colorbar": {
              "outlinewidth": 0,
              "ticks": ""
             }
            },
            "type": "scatter"
           }
          ],
          "scatter3d": [
           {
            "line": {
             "colorbar": {
              "outlinewidth": 0,
              "ticks": ""
             }
            },
            "marker": {
             "colorbar": {
              "outlinewidth": 0,
              "ticks": ""
             }
            },
            "type": "scatter3d"
           }
          ],
          "scattercarpet": [
           {
            "marker": {
             "colorbar": {
              "outlinewidth": 0,
              "ticks": ""
             }
            },
            "type": "scattercarpet"
           }
          ],
          "scattergeo": [
           {
            "marker": {
             "colorbar": {
              "outlinewidth": 0,
              "ticks": ""
             }
            },
            "type": "scattergeo"
           }
          ],
          "scattergl": [
           {
            "marker": {
             "colorbar": {
              "outlinewidth": 0,
              "ticks": ""
             }
            },
            "type": "scattergl"
           }
          ],
          "scattermapbox": [
           {
            "marker": {
             "colorbar": {
              "outlinewidth": 0,
              "ticks": ""
             }
            },
            "type": "scattermapbox"
           }
          ],
          "scatterpolar": [
           {
            "marker": {
             "colorbar": {
              "outlinewidth": 0,
              "ticks": ""
             }
            },
            "type": "scatterpolar"
           }
          ],
          "scatterpolargl": [
           {
            "marker": {
             "colorbar": {
              "outlinewidth": 0,
              "ticks": ""
             }
            },
            "type": "scatterpolargl"
           }
          ],
          "scatterternary": [
           {
            "marker": {
             "colorbar": {
              "outlinewidth": 0,
              "ticks": ""
             }
            },
            "type": "scatterternary"
           }
          ],
          "surface": [
           {
            "colorbar": {
             "outlinewidth": 0,
             "ticks": ""
            },
            "colorscale": [
             [
              0,
              "#0d0887"
             ],
             [
              0.1111111111111111,
              "#46039f"
             ],
             [
              0.2222222222222222,
              "#7201a8"
             ],
             [
              0.3333333333333333,
              "#9c179e"
             ],
             [
              0.4444444444444444,
              "#bd3786"
             ],
             [
              0.5555555555555556,
              "#d8576b"
             ],
             [
              0.6666666666666666,
              "#ed7953"
             ],
             [
              0.7777777777777778,
              "#fb9f3a"
             ],
             [
              0.8888888888888888,
              "#fdca26"
             ],
             [
              1,
              "#f0f921"
             ]
            ],
            "type": "surface"
           }
          ],
          "table": [
           {
            "cells": {
             "fill": {
              "color": "#EBF0F8"
             },
             "line": {
              "color": "white"
             }
            },
            "header": {
             "fill": {
              "color": "#C8D4E3"
             },
             "line": {
              "color": "white"
             }
            },
            "type": "table"
           }
          ]
         },
         "layout": {
          "annotationdefaults": {
           "arrowcolor": "#2a3f5f",
           "arrowhead": 0,
           "arrowwidth": 1
          },
          "autotypenumbers": "strict",
          "coloraxis": {
           "colorbar": {
            "outlinewidth": 0,
            "ticks": ""
           }
          },
          "colorscale": {
           "diverging": [
            [
             0,
             "#8e0152"
            ],
            [
             0.1,
             "#c51b7d"
            ],
            [
             0.2,
             "#de77ae"
            ],
            [
             0.3,
             "#f1b6da"
            ],
            [
             0.4,
             "#fde0ef"
            ],
            [
             0.5,
             "#f7f7f7"
            ],
            [
             0.6,
             "#e6f5d0"
            ],
            [
             0.7,
             "#b8e186"
            ],
            [
             0.8,
             "#7fbc41"
            ],
            [
             0.9,
             "#4d9221"
            ],
            [
             1,
             "#276419"
            ]
           ],
           "sequential": [
            [
             0,
             "#0d0887"
            ],
            [
             0.1111111111111111,
             "#46039f"
            ],
            [
             0.2222222222222222,
             "#7201a8"
            ],
            [
             0.3333333333333333,
             "#9c179e"
            ],
            [
             0.4444444444444444,
             "#bd3786"
            ],
            [
             0.5555555555555556,
             "#d8576b"
            ],
            [
             0.6666666666666666,
             "#ed7953"
            ],
            [
             0.7777777777777778,
             "#fb9f3a"
            ],
            [
             0.8888888888888888,
             "#fdca26"
            ],
            [
             1,
             "#f0f921"
            ]
           ],
           "sequentialminus": [
            [
             0,
             "#0d0887"
            ],
            [
             0.1111111111111111,
             "#46039f"
            ],
            [
             0.2222222222222222,
             "#7201a8"
            ],
            [
             0.3333333333333333,
             "#9c179e"
            ],
            [
             0.4444444444444444,
             "#bd3786"
            ],
            [
             0.5555555555555556,
             "#d8576b"
            ],
            [
             0.6666666666666666,
             "#ed7953"
            ],
            [
             0.7777777777777778,
             "#fb9f3a"
            ],
            [
             0.8888888888888888,
             "#fdca26"
            ],
            [
             1,
             "#f0f921"
            ]
           ]
          },
          "colorway": [
           "#636efa",
           "#EF553B",
           "#00cc96",
           "#ab63fa",
           "#FFA15A",
           "#19d3f3",
           "#FF6692",
           "#B6E880",
           "#FF97FF",
           "#FECB52"
          ],
          "font": {
           "color": "#2a3f5f"
          },
          "geo": {
           "bgcolor": "white",
           "lakecolor": "white",
           "landcolor": "#E5ECF6",
           "showlakes": true,
           "showland": true,
           "subunitcolor": "white"
          },
          "hoverlabel": {
           "align": "left"
          },
          "hovermode": "closest",
          "mapbox": {
           "style": "light"
          },
          "paper_bgcolor": "white",
          "plot_bgcolor": "#E5ECF6",
          "polar": {
           "angularaxis": {
            "gridcolor": "white",
            "linecolor": "white",
            "ticks": ""
           },
           "bgcolor": "#E5ECF6",
           "radialaxis": {
            "gridcolor": "white",
            "linecolor": "white",
            "ticks": ""
           }
          },
          "scene": {
           "xaxis": {
            "backgroundcolor": "#E5ECF6",
            "gridcolor": "white",
            "gridwidth": 2,
            "linecolor": "white",
            "showbackground": true,
            "ticks": "",
            "zerolinecolor": "white"
           },
           "yaxis": {
            "backgroundcolor": "#E5ECF6",
            "gridcolor": "white",
            "gridwidth": 2,
            "linecolor": "white",
            "showbackground": true,
            "ticks": "",
            "zerolinecolor": "white"
           },
           "zaxis": {
            "backgroundcolor": "#E5ECF6",
            "gridcolor": "white",
            "gridwidth": 2,
            "linecolor": "white",
            "showbackground": true,
            "ticks": "",
            "zerolinecolor": "white"
           }
          },
          "shapedefaults": {
           "line": {
            "color": "#2a3f5f"
           }
          },
          "ternary": {
           "aaxis": {
            "gridcolor": "white",
            "linecolor": "white",
            "ticks": ""
           },
           "baxis": {
            "gridcolor": "white",
            "linecolor": "white",
            "ticks": ""
           },
           "bgcolor": "#E5ECF6",
           "caxis": {
            "gridcolor": "white",
            "linecolor": "white",
            "ticks": ""
           }
          },
          "title": {
           "x": 0.05
          },
          "xaxis": {
           "automargin": true,
           "gridcolor": "white",
           "linecolor": "white",
           "ticks": "",
           "title": {
            "standoff": 15
           },
           "zerolinecolor": "white",
           "zerolinewidth": 2
          },
          "yaxis": {
           "automargin": true,
           "gridcolor": "white",
           "linecolor": "white",
           "ticks": "",
           "title": {
            "standoff": 15
           },
           "zerolinecolor": "white",
           "zerolinewidth": 2
          }
         }
        },
        "title": {
         "text": "2020 Prediction Using XgBoost"
        },
        "width": 800,
        "xaxis": {
         "anchor": "y",
         "domain": [
          0,
          0.94
         ],
         "tickangle": -90
        },
        "yaxis": {
         "anchor": "x",
         "domain": [
          0,
          1
         ]
        },
        "yaxis2": {
         "anchor": "x",
         "overlaying": "y",
         "side": "right"
        }
       }
      },
      "text/html": [
       "<div>                            <div id=\"7ce4889c-0d94-4bd6-aaba-27e54c8b3086\" class=\"plotly-graph-div\" style=\"height:600px; width:800px;\"></div>            <script type=\"text/javascript\">                require([\"plotly\"], function(Plotly) {                    window.PLOTLYENV=window.PLOTLYENV || {};                                    if (document.getElementById(\"7ce4889c-0d94-4bd6-aaba-27e54c8b3086\")) {                    Plotly.newPlot(                        \"7ce4889c-0d94-4bd6-aaba-27e54c8b3086\",                        [{\"marker\":{\"color\":\"rgb(34,163,192)\"},\"name\":\"Actual\",\"y\":[82.0,81.0,85.0,95.0,118.0,81.0,75.0,93.0,101.0,94.0,78.0,79.0,106.0,121.0,111.0,114.0,106.0,86.0,66.0,81.0,90.0,87.0,82.0,108.0,100.0,97.0,98.0,102.0,115.0,112.0,111.0,102.0,94.0,79.0,82.0,86.0,96.0,96.0,105.0,101.0,103.0,87.0,80.0,84.0,111.0,128.0,120.0,99.0,103.0,101.0,94.0,90.0,78.0,81.0,82.0,107.0,104.0,112.0,98.0,95.0,101.0,103.0,137.0,131.0,117.0,100.0,93.0,91.0,99.0,93.0,95.0,97.0,90.0,86.0,88.0,79.0,77.0,78.0,91.0,100.0,103.0,99.0,85.0,106.0,70.0,61.0,67.0,70.0,66.0,72.0,68.0,64.0,70.0,82.0,74.0,77.0,65.0,62.0,67.0,65.0,76.0,70.0,64.0,72.0,72.0,74.0,66.0,74.0,94.0,67.0,53.0,65.0,71.0,63.0,69.0,66.0,61.0,59.0,71.0,62.0,61.0,74.0,72.0,71.0,79.0,91.0,85.0,82.0,73.0,76.0,78.0,77.0,82.0,66.0,66.0,73.0,74.0,70.0,68.0,72.0,79.0,70.0,68.0,72.0,66.0,70.0,66.0,75.0,74.0,66.0,72.0,61.0,49.0,40.0,42.0,43.0,55.0,55.0,55.0,55.0,58.0,70.0,59.0,49.0,50.0,49.0,47.0,55.0,57.0,65.0,65.0,56.0,52.0,49.0,56.0,63.0,63.0,58.0,51.0,61.0,65.0,63.0,43.0],\"type\":\"scatter\"},{\"name\":\"Predicted\",\"y\":[135.78382873535156,108.15117645263672,142.0834197998047,105.58590698242188,112.38172149658203,108.68437957763672,111.6542739868164,109.04816436767578,103.19721984863281,94.15948486328125,110.8414077758789,130.60659790039062,92.0340576171875,141.6007537841797,90.94851684570312,97.48554992675781,114.98896789550781,103.33158111572266,99.72079467773438,74.19606018066406,138.68472290039062,126.09912109375,100.79826354980469,115.56730651855469,96.48748779296875,112.92642974853516,90.49604034423828,93.94963073730469,100.17639923095703,99.34835815429688,136.4987335205078,110.30744171142578,117.34557342529297,117.91844177246094,86.62847900390625,110.31656646728516,108.72123718261719,116.54438018798828,108.84547424316406,109.38555908203125,137.8939971923828,105.39759063720703,103.86726379394531,126.10829162597656,101.22296142578125,118.05496215820312,140.82467651367188,105.53070831298828,119.80690002441406,112.48506164550781,98.36690521240234,86.59474182128906,102.35304260253906,105.3557357788086,158.09461975097656,89.85153198242188,94.21721649169922,115.32063293457031,93.90398406982422,98.642578125,101.63143920898438,107.09037017822266,92.75701904296875,94.36038208007812,126.795166015625,96.254150390625,124.76785278320312,83.35529327392578,96.30046081542969,91.41742706298828,95.789794921875,86.49652099609375,71.47457885742188,101.22147369384766,124.28565979003906,98.15541076660156,149.211669921875,130.07608032226562,111.63992309570312,147.68638610839844,163.45849609375,173.00489807128906,115.6793212890625,92.0168685913086,123.158935546875,128.1304473876953,170.557861328125,121.24948120117188,118.94261932373047,118.31354522705078,122.51236724853516,127.03265380859375,142.41261291503906,115.30281066894531,102.8725357055664,104.62124633789062,114.18266296386719,193.9282684326172,111.3108139038086,102.55545806884766,103.58470153808594,122.42754364013672,162.8284454345703,99.57357788085938,125.11695861816406,130.5542755126953,63.504547119140625,88.70854949951172,104.90740966796875,105.80599212646484,84.49884033203125,63.07021713256836,80.204833984375,94.81116485595703,96.41561889648438,87.85813903808594,144.25942993164062,123.41261291503906,127.61075592041016,96.6381607055664,103.55516815185547,92.01481628417969,120.96672821044922,135.1536865234375,122.1429214477539,154.7043914794922,110.6780014038086,110.68684387207031,104.81338500976562,102.16946411132812,86.44398498535156,90.18316650390625,82.79779052734375,92.94888305664062,104.23030853271484,108.37847137451172,98.80230712890625,102.23145294189453,109.6131362915039,86.24929809570312,81.61624145507812,130.64523315429688,137.0311279296875,109.09297180175781,104.65740203857422,93.31563568115234,107.20503234863281,92.00603485107422,96.25736236572266,109.7210464477539,99.6963119506836,141.85597229003906,135.3806915283203,133.57081604003906,138.22470092773438,121.68086242675781,134.651123046875,100.29531860351562,142.46270751953125,78.3439712524414,81.15157318115234,52.133522033691406,59.040035247802734,56.74289321899414,101.287353515625,130.5345916748047,91.01355743408203,95.71206665039062,171.56703186035156,112.46647644042969,123.50038146972656,65.1995849609375,119.8998031616211,67.90692138671875,74.04541015625,109.38127899169922,132.03953552246094,104.43647003173828,179.74224853515625,116.55310821533203,76.51134490966797,80.32476806640625,116.75022888183594],\"yaxis\":\"y2\",\"type\":\"scatter\",\"xaxis\":\"x\"}],                        {\"template\":{\"data\":{\"bar\":[{\"error_x\":{\"color\":\"#2a3f5f\"},\"error_y\":{\"color\":\"#2a3f5f\"},\"marker\":{\"line\":{\"color\":\"#E5ECF6\",\"width\":0.5},\"pattern\":{\"fillmode\":\"overlay\",\"size\":10,\"solidity\":0.2}},\"type\":\"bar\"}],\"barpolar\":[{\"marker\":{\"line\":{\"color\":\"#E5ECF6\",\"width\":0.5},\"pattern\":{\"fillmode\":\"overlay\",\"size\":10,\"solidity\":0.2}},\"type\":\"barpolar\"}],\"carpet\":[{\"aaxis\":{\"endlinecolor\":\"#2a3f5f\",\"gridcolor\":\"white\",\"linecolor\":\"white\",\"minorgridcolor\":\"white\",\"startlinecolor\":\"#2a3f5f\"},\"baxis\":{\"endlinecolor\":\"#2a3f5f\",\"gridcolor\":\"white\",\"linecolor\":\"white\",\"minorgridcolor\":\"white\",\"startlinecolor\":\"#2a3f5f\"},\"type\":\"carpet\"}],\"choropleth\":[{\"colorbar\":{\"outlinewidth\":0,\"ticks\":\"\"},\"type\":\"choropleth\"}],\"contour\":[{\"colorbar\":{\"outlinewidth\":0,\"ticks\":\"\"},\"colorscale\":[[0.0,\"#0d0887\"],[0.1111111111111111,\"#46039f\"],[0.2222222222222222,\"#7201a8\"],[0.3333333333333333,\"#9c179e\"],[0.4444444444444444,\"#bd3786\"],[0.5555555555555556,\"#d8576b\"],[0.6666666666666666,\"#ed7953\"],[0.7777777777777778,\"#fb9f3a\"],[0.8888888888888888,\"#fdca26\"],[1.0,\"#f0f921\"]],\"type\":\"contour\"}],\"contourcarpet\":[{\"colorbar\":{\"outlinewidth\":0,\"ticks\":\"\"},\"type\":\"contourcarpet\"}],\"heatmap\":[{\"colorbar\":{\"outlinewidth\":0,\"ticks\":\"\"},\"colorscale\":[[0.0,\"#0d0887\"],[0.1111111111111111,\"#46039f\"],[0.2222222222222222,\"#7201a8\"],[0.3333333333333333,\"#9c179e\"],[0.4444444444444444,\"#bd3786\"],[0.5555555555555556,\"#d8576b\"],[0.6666666666666666,\"#ed7953\"],[0.7777777777777778,\"#fb9f3a\"],[0.8888888888888888,\"#fdca26\"],[1.0,\"#f0f921\"]],\"type\":\"heatmap\"}],\"heatmapgl\":[{\"colorbar\":{\"outlinewidth\":0,\"ticks\":\"\"},\"colorscale\":[[0.0,\"#0d0887\"],[0.1111111111111111,\"#46039f\"],[0.2222222222222222,\"#7201a8\"],[0.3333333333333333,\"#9c179e\"],[0.4444444444444444,\"#bd3786\"],[0.5555555555555556,\"#d8576b\"],[0.6666666666666666,\"#ed7953\"],[0.7777777777777778,\"#fb9f3a\"],[0.8888888888888888,\"#fdca26\"],[1.0,\"#f0f921\"]],\"type\":\"heatmapgl\"}],\"histogram\":[{\"marker\":{\"pattern\":{\"fillmode\":\"overlay\",\"size\":10,\"solidity\":0.2}},\"type\":\"histogram\"}],\"histogram2d\":[{\"colorbar\":{\"outlinewidth\":0,\"ticks\":\"\"},\"colorscale\":[[0.0,\"#0d0887\"],[0.1111111111111111,\"#46039f\"],[0.2222222222222222,\"#7201a8\"],[0.3333333333333333,\"#9c179e\"],[0.4444444444444444,\"#bd3786\"],[0.5555555555555556,\"#d8576b\"],[0.6666666666666666,\"#ed7953\"],[0.7777777777777778,\"#fb9f3a\"],[0.8888888888888888,\"#fdca26\"],[1.0,\"#f0f921\"]],\"type\":\"histogram2d\"}],\"histogram2dcontour\":[{\"colorbar\":{\"outlinewidth\":0,\"ticks\":\"\"},\"colorscale\":[[0.0,\"#0d0887\"],[0.1111111111111111,\"#46039f\"],[0.2222222222222222,\"#7201a8\"],[0.3333333333333333,\"#9c179e\"],[0.4444444444444444,\"#bd3786\"],[0.5555555555555556,\"#d8576b\"],[0.6666666666666666,\"#ed7953\"],[0.7777777777777778,\"#fb9f3a\"],[0.8888888888888888,\"#fdca26\"],[1.0,\"#f0f921\"]],\"type\":\"histogram2dcontour\"}],\"mesh3d\":[{\"colorbar\":{\"outlinewidth\":0,\"ticks\":\"\"},\"type\":\"mesh3d\"}],\"parcoords\":[{\"line\":{\"colorbar\":{\"outlinewidth\":0,\"ticks\":\"\"}},\"type\":\"parcoords\"}],\"pie\":[{\"automargin\":true,\"type\":\"pie\"}],\"scatter\":[{\"marker\":{\"colorbar\":{\"outlinewidth\":0,\"ticks\":\"\"}},\"type\":\"scatter\"}],\"scatter3d\":[{\"line\":{\"colorbar\":{\"outlinewidth\":0,\"ticks\":\"\"}},\"marker\":{\"colorbar\":{\"outlinewidth\":0,\"ticks\":\"\"}},\"type\":\"scatter3d\"}],\"scattercarpet\":[{\"marker\":{\"colorbar\":{\"outlinewidth\":0,\"ticks\":\"\"}},\"type\":\"scattercarpet\"}],\"scattergeo\":[{\"marker\":{\"colorbar\":{\"outlinewidth\":0,\"ticks\":\"\"}},\"type\":\"scattergeo\"}],\"scattergl\":[{\"marker\":{\"colorbar\":{\"outlinewidth\":0,\"ticks\":\"\"}},\"type\":\"scattergl\"}],\"scattermapbox\":[{\"marker\":{\"colorbar\":{\"outlinewidth\":0,\"ticks\":\"\"}},\"type\":\"scattermapbox\"}],\"scatterpolar\":[{\"marker\":{\"colorbar\":{\"outlinewidth\":0,\"ticks\":\"\"}},\"type\":\"scatterpolar\"}],\"scatterpolargl\":[{\"marker\":{\"colorbar\":{\"outlinewidth\":0,\"ticks\":\"\"}},\"type\":\"scatterpolargl\"}],\"scatterternary\":[{\"marker\":{\"colorbar\":{\"outlinewidth\":0,\"ticks\":\"\"}},\"type\":\"scatterternary\"}],\"surface\":[{\"colorbar\":{\"outlinewidth\":0,\"ticks\":\"\"},\"colorscale\":[[0.0,\"#0d0887\"],[0.1111111111111111,\"#46039f\"],[0.2222222222222222,\"#7201a8\"],[0.3333333333333333,\"#9c179e\"],[0.4444444444444444,\"#bd3786\"],[0.5555555555555556,\"#d8576b\"],[0.6666666666666666,\"#ed7953\"],[0.7777777777777778,\"#fb9f3a\"],[0.8888888888888888,\"#fdca26\"],[1.0,\"#f0f921\"]],\"type\":\"surface\"}],\"table\":[{\"cells\":{\"fill\":{\"color\":\"#EBF0F8\"},\"line\":{\"color\":\"white\"}},\"header\":{\"fill\":{\"color\":\"#C8D4E3\"},\"line\":{\"color\":\"white\"}},\"type\":\"table\"}]},\"layout\":{\"annotationdefaults\":{\"arrowcolor\":\"#2a3f5f\",\"arrowhead\":0,\"arrowwidth\":1},\"autotypenumbers\":\"strict\",\"coloraxis\":{\"colorbar\":{\"outlinewidth\":0,\"ticks\":\"\"}},\"colorscale\":{\"diverging\":[[0,\"#8e0152\"],[0.1,\"#c51b7d\"],[0.2,\"#de77ae\"],[0.3,\"#f1b6da\"],[0.4,\"#fde0ef\"],[0.5,\"#f7f7f7\"],[0.6,\"#e6f5d0\"],[0.7,\"#b8e186\"],[0.8,\"#7fbc41\"],[0.9,\"#4d9221\"],[1,\"#276419\"]],\"sequential\":[[0.0,\"#0d0887\"],[0.1111111111111111,\"#46039f\"],[0.2222222222222222,\"#7201a8\"],[0.3333333333333333,\"#9c179e\"],[0.4444444444444444,\"#bd3786\"],[0.5555555555555556,\"#d8576b\"],[0.6666666666666666,\"#ed7953\"],[0.7777777777777778,\"#fb9f3a\"],[0.8888888888888888,\"#fdca26\"],[1.0,\"#f0f921\"]],\"sequentialminus\":[[0.0,\"#0d0887\"],[0.1111111111111111,\"#46039f\"],[0.2222222222222222,\"#7201a8\"],[0.3333333333333333,\"#9c179e\"],[0.4444444444444444,\"#bd3786\"],[0.5555555555555556,\"#d8576b\"],[0.6666666666666666,\"#ed7953\"],[0.7777777777777778,\"#fb9f3a\"],[0.8888888888888888,\"#fdca26\"],[1.0,\"#f0f921\"]]},\"colorway\":[\"#636efa\",\"#EF553B\",\"#00cc96\",\"#ab63fa\",\"#FFA15A\",\"#19d3f3\",\"#FF6692\",\"#B6E880\",\"#FF97FF\",\"#FECB52\"],\"font\":{\"color\":\"#2a3f5f\"},\"geo\":{\"bgcolor\":\"white\",\"lakecolor\":\"white\",\"landcolor\":\"#E5ECF6\",\"showlakes\":true,\"showland\":true,\"subunitcolor\":\"white\"},\"hoverlabel\":{\"align\":\"left\"},\"hovermode\":\"closest\",\"mapbox\":{\"style\":\"light\"},\"paper_bgcolor\":\"white\",\"plot_bgcolor\":\"#E5ECF6\",\"polar\":{\"angularaxis\":{\"gridcolor\":\"white\",\"linecolor\":\"white\",\"ticks\":\"\"},\"bgcolor\":\"#E5ECF6\",\"radialaxis\":{\"gridcolor\":\"white\",\"linecolor\":\"white\",\"ticks\":\"\"}},\"scene\":{\"xaxis\":{\"backgroundcolor\":\"#E5ECF6\",\"gridcolor\":\"white\",\"gridwidth\":2,\"linecolor\":\"white\",\"showbackground\":true,\"ticks\":\"\",\"zerolinecolor\":\"white\"},\"yaxis\":{\"backgroundcolor\":\"#E5ECF6\",\"gridcolor\":\"white\",\"gridwidth\":2,\"linecolor\":\"white\",\"showbackground\":true,\"ticks\":\"\",\"zerolinecolor\":\"white\"},\"zaxis\":{\"backgroundcolor\":\"#E5ECF6\",\"gridcolor\":\"white\",\"gridwidth\":2,\"linecolor\":\"white\",\"showbackground\":true,\"ticks\":\"\",\"zerolinecolor\":\"white\"}},\"shapedefaults\":{\"line\":{\"color\":\"#2a3f5f\"}},\"ternary\":{\"aaxis\":{\"gridcolor\":\"white\",\"linecolor\":\"white\",\"ticks\":\"\"},\"baxis\":{\"gridcolor\":\"white\",\"linecolor\":\"white\",\"ticks\":\"\"},\"bgcolor\":\"#E5ECF6\",\"caxis\":{\"gridcolor\":\"white\",\"linecolor\":\"white\",\"ticks\":\"\"}},\"title\":{\"x\":0.05},\"xaxis\":{\"automargin\":true,\"gridcolor\":\"white\",\"linecolor\":\"white\",\"ticks\":\"\",\"title\":{\"standoff\":15},\"zerolinecolor\":\"white\",\"zerolinewidth\":2},\"yaxis\":{\"automargin\":true,\"gridcolor\":\"white\",\"linecolor\":\"white\",\"ticks\":\"\",\"title\":{\"standoff\":15},\"zerolinecolor\":\"white\",\"zerolinewidth\":2}}},\"xaxis\":{\"anchor\":\"y\",\"domain\":[0.0,0.94],\"tickangle\":-90},\"yaxis\":{\"anchor\":\"x\",\"domain\":[0.0,1.0]},\"yaxis2\":{\"anchor\":\"x\",\"overlaying\":\"y\",\"side\":\"right\"},\"height\":600,\"width\":800,\"title\":{\"text\":\"2020 Prediction Using XgBoost\"}},                        {\"responsive\": true}                    ).then(function(){\n",
       "                            \n",
       "var gd = document.getElementById('7ce4889c-0d94-4bd6-aaba-27e54c8b3086');\n",
       "var x = new MutationObserver(function (mutations, observer) {{\n",
       "        var display = window.getComputedStyle(gd).display;\n",
       "        if (!display || display === 'none') {{\n",
       "            console.log([gd, 'removed!']);\n",
       "            Plotly.purge(gd);\n",
       "            observer.disconnect();\n",
       "        }}\n",
       "}});\n",
       "\n",
       "// Listen for the removal of the full notebook cells\n",
       "var notebookContainer = gd.closest('#notebook-container');\n",
       "if (notebookContainer) {{\n",
       "    x.observe(notebookContainer, {childList: true});\n",
       "}}\n",
       "\n",
       "// Listen for the clearing of the current output cell\n",
       "var outputEl = gd.closest('.output');\n",
       "if (outputEl) {{\n",
       "    x.observe(outputEl, {childList: true});\n",
       "}}\n",
       "\n",
       "                        })                };                });            </script>        </div>"
      ]
     },
     "metadata": {},
     "output_type": "display_data"
    }
   ],
   "source": [
    "import plotly.graph_objects as go\n",
    "from plotly.subplots import make_subplots\n",
    "\n",
    "trace1 = go.Scatter(\n",
    "   \n",
    "    y=df_xg.iloc[:,-1],\n",
    "    name=\"Actual\",\n",
    "    marker=dict(\n",
    "        color='rgb(34,163,192)'\n",
    "               )\n",
    ")\n",
    "trace2 = go.Scatter(\n",
    "    y=df_xg.iloc[:,0],\n",
    "    \n",
    "    name='Predicted',\n",
    "    yaxis='y2'\n",
    "\n",
    ")\n",
    "fig = make_subplots(specs=[[{\"secondary_y\": True}]])\n",
    "fig.add_trace(trace1)\n",
    "fig.add_trace(trace2,secondary_y=True)\n",
    "fig['layout'].update(height = 600, width = 800, title = \"2020 Prediction Using XgBoost\",xaxis=dict(\n",
    "      tickangle=-90\n",
    "    ))\n",
    "fig.show()"
   ]
  },
  {
   "cell_type": "code",
   "execution_count": 68,
   "id": "ea68c335",
   "metadata": {},
   "outputs": [],
   "source": [
    "a=np.mean(df_xg.iloc[85:,0])  #predicted"
   ]
  },
  {
   "cell_type": "code",
   "execution_count": 69,
   "id": "fa121d41",
   "metadata": {},
   "outputs": [],
   "source": [
    "b=np.mean(df_xg.iloc[85:,-1]) #actual"
   ]
  },
  {
   "cell_type": "code",
   "execution_count": 70,
   "id": "b2f1ba17",
   "metadata": {},
   "outputs": [],
   "source": [
    "t=(a-b)/a"
   ]
  },
  {
   "cell_type": "code",
   "execution_count": 71,
   "id": "9954df48",
   "metadata": {},
   "outputs": [
    {
     "data": {
      "text/plain": [
       "0.4007906717817143"
      ]
     },
     "execution_count": 71,
     "metadata": {},
     "output_type": "execute_result"
    }
   ],
   "source": [
    "t"
   ]
  },
  {
   "cell_type": "markdown",
   "id": "74e5351e",
   "metadata": {},
   "source": [
    "### 2.) Decision Tree Model"
   ]
  },
  {
   "cell_type": "code",
   "execution_count": 72,
   "id": "6b65198f",
   "metadata": {},
   "outputs": [
    {
     "ename": "NameError",
     "evalue": "name 'x_train' is not defined",
     "output_type": "error",
     "traceback": [
      "\u001b[1;31m---------------------------------------------------------------------------\u001b[0m",
      "\u001b[1;31mNameError\u001b[0m                                 Traceback (most recent call last)",
      "\u001b[1;32m<ipython-input-72-97a28e188814>\u001b[0m in \u001b[0;36m<module>\u001b[1;34m\u001b[0m\n\u001b[0;32m      1\u001b[0m \u001b[1;32mfrom\u001b[0m \u001b[0msklearn\u001b[0m\u001b[1;33m.\u001b[0m\u001b[0mtree\u001b[0m \u001b[1;32mimport\u001b[0m \u001b[0mDecisionTreeRegressor\u001b[0m\u001b[1;33m;\u001b[0m\u001b[1;33m\u001b[0m\u001b[1;33m\u001b[0m\u001b[0m\n\u001b[0;32m      2\u001b[0m \u001b[0mdtr_regressor\u001b[0m\u001b[1;33m=\u001b[0m\u001b[0mDecisionTreeRegressor\u001b[0m\u001b[1;33m(\u001b[0m\u001b[0mrandom_state\u001b[0m\u001b[1;33m=\u001b[0m\u001b[1;36m0\u001b[0m\u001b[1;33m)\u001b[0m\u001b[1;33m;\u001b[0m\u001b[1;33m\u001b[0m\u001b[1;33m\u001b[0m\u001b[0m\n\u001b[1;32m----> 3\u001b[1;33m \u001b[0mdtr_regressor\u001b[0m\u001b[1;33m.\u001b[0m\u001b[0mfit\u001b[0m\u001b[1;33m(\u001b[0m\u001b[0mx_train\u001b[0m\u001b[1;33m,\u001b[0m\u001b[0my_train\u001b[0m\u001b[1;33m)\u001b[0m\u001b[1;33m;\u001b[0m\u001b[1;33m\u001b[0m\u001b[1;33m\u001b[0m\u001b[0m\n\u001b[0m",
      "\u001b[1;31mNameError\u001b[0m: name 'x_train' is not defined"
     ]
    }
   ],
   "source": [
    "from sklearn.tree import DecisionTreeRegressor;\n",
    "dtr_regressor=DecisionTreeRegressor(random_state=0);\n",
    "dtr_regressor.fit(x_train,y_train);"
   ]
  },
  {
   "cell_type": "markdown",
   "id": "33a87679",
   "metadata": {},
   "source": [
    "### Error In Decision Tree Model"
   ]
  },
  {
   "cell_type": "code",
   "execution_count": 73,
   "id": "de87df8a",
   "metadata": {},
   "outputs": [
    {
     "ename": "NameError",
     "evalue": "name 'x_test' is not defined",
     "output_type": "error",
     "traceback": [
      "\u001b[1;31m---------------------------------------------------------------------------\u001b[0m",
      "\u001b[1;31mNameError\u001b[0m                                 Traceback (most recent call last)",
      "\u001b[1;32m<ipython-input-73-0ba87949613f>\u001b[0m in \u001b[0;36m<module>\u001b[1;34m\u001b[0m\n\u001b[1;32m----> 1\u001b[1;33m \u001b[0mdtr_pred\u001b[0m\u001b[1;33m=\u001b[0m\u001b[0mdtr_regressor\u001b[0m\u001b[1;33m.\u001b[0m\u001b[0mpredict\u001b[0m\u001b[1;33m(\u001b[0m\u001b[0mx_test\u001b[0m\u001b[1;33m)\u001b[0m\u001b[1;33m\u001b[0m\u001b[1;33m\u001b[0m\u001b[0m\n\u001b[0m\u001b[0;32m      2\u001b[0m \u001b[1;32mfrom\u001b[0m \u001b[0msklearn\u001b[0m\u001b[1;33m.\u001b[0m\u001b[0mmetrics\u001b[0m \u001b[1;32mimport\u001b[0m \u001b[0mmean_absolute_percentage_error\u001b[0m\u001b[1;33m\u001b[0m\u001b[1;33m\u001b[0m\u001b[0m\n\u001b[0;32m      3\u001b[0m \u001b[0mmean_absolute_percentage_error\u001b[0m\u001b[1;33m(\u001b[0m\u001b[0my_test\u001b[0m\u001b[1;33m,\u001b[0m\u001b[0mdtr_pred\u001b[0m\u001b[1;33m)\u001b[0m\u001b[1;33m\u001b[0m\u001b[1;33m\u001b[0m\u001b[0m\n",
      "\u001b[1;31mNameError\u001b[0m: name 'x_test' is not defined"
     ]
    }
   ],
   "source": [
    "dtr_pred=dtr_regressor.predict(x_test)\n",
    "from sklearn.metrics import mean_absolute_percentage_error\n",
    "mean_absolute_percentage_error(y_test,dtr_pred)"
   ]
  },
  {
   "cell_type": "markdown",
   "id": "1f8e3369",
   "metadata": {},
   "source": [
    "### 3.) Random Forest Classification"
   ]
  },
  {
   "cell_type": "code",
   "execution_count": 74,
   "id": "e8cfa752",
   "metadata": {},
   "outputs": [
    {
     "ename": "NameError",
     "evalue": "name 'x_train' is not defined",
     "output_type": "error",
     "traceback": [
      "\u001b[1;31m---------------------------------------------------------------------------\u001b[0m",
      "\u001b[1;31mNameError\u001b[0m                                 Traceback (most recent call last)",
      "\u001b[1;32m<ipython-input-74-e9ecde74243b>\u001b[0m in \u001b[0;36m<module>\u001b[1;34m\u001b[0m\n\u001b[0;32m      1\u001b[0m \u001b[1;32mfrom\u001b[0m \u001b[0msklearn\u001b[0m\u001b[1;33m.\u001b[0m\u001b[0mensemble\u001b[0m \u001b[1;32mimport\u001b[0m \u001b[0mRandomForestRegressor\u001b[0m\u001b[1;33m;\u001b[0m\u001b[1;33m\u001b[0m\u001b[1;33m\u001b[0m\u001b[0m\n\u001b[0;32m      2\u001b[0m \u001b[0mrfr_regressor\u001b[0m\u001b[1;33m=\u001b[0m\u001b[0mRandomForestRegressor\u001b[0m\u001b[1;33m(\u001b[0m\u001b[0mn_estimators\u001b[0m\u001b[1;33m=\u001b[0m\u001b[1;36m10\u001b[0m\u001b[1;33m,\u001b[0m\u001b[0mrandom_state\u001b[0m\u001b[1;33m=\u001b[0m\u001b[1;36m0\u001b[0m\u001b[1;33m)\u001b[0m\u001b[1;33m;\u001b[0m\u001b[1;33m\u001b[0m\u001b[1;33m\u001b[0m\u001b[0m\n\u001b[1;32m----> 3\u001b[1;33m \u001b[0mrfr_regressor\u001b[0m\u001b[1;33m.\u001b[0m\u001b[0mfit\u001b[0m\u001b[1;33m(\u001b[0m\u001b[0mx_train\u001b[0m\u001b[1;33m,\u001b[0m\u001b[0my_train\u001b[0m\u001b[1;33m)\u001b[0m\u001b[1;33m;\u001b[0m\u001b[1;33m\u001b[0m\u001b[1;33m\u001b[0m\u001b[0m\n\u001b[0m",
      "\u001b[1;31mNameError\u001b[0m: name 'x_train' is not defined"
     ]
    }
   ],
   "source": [
    "from sklearn.ensemble import RandomForestRegressor;\n",
    "rfr_regressor=RandomForestRegressor(n_estimators=10,random_state=0);\n",
    "rfr_regressor.fit(x_train,y_train);"
   ]
  },
  {
   "cell_type": "code",
   "execution_count": 75,
   "id": "c9e4551c",
   "metadata": {},
   "outputs": [
    {
     "ename": "NameError",
     "evalue": "name 'x_test' is not defined",
     "output_type": "error",
     "traceback": [
      "\u001b[1;31m---------------------------------------------------------------------------\u001b[0m",
      "\u001b[1;31mNameError\u001b[0m                                 Traceback (most recent call last)",
      "\u001b[1;32m<ipython-input-75-46785ef7fed8>\u001b[0m in \u001b[0;36m<module>\u001b[1;34m\u001b[0m\n\u001b[1;32m----> 1\u001b[1;33m \u001b[0mrfr_pred\u001b[0m\u001b[1;33m=\u001b[0m\u001b[0mrfr_regressor\u001b[0m\u001b[1;33m.\u001b[0m\u001b[0mpredict\u001b[0m\u001b[1;33m(\u001b[0m\u001b[0mx_test\u001b[0m\u001b[1;33m)\u001b[0m\u001b[1;33m\u001b[0m\u001b[1;33m\u001b[0m\u001b[0m\n\u001b[0m\u001b[0;32m      2\u001b[0m \u001b[1;32mfrom\u001b[0m \u001b[0msklearn\u001b[0m\u001b[1;33m.\u001b[0m\u001b[0mmetrics\u001b[0m \u001b[1;32mimport\u001b[0m \u001b[0mmean_absolute_percentage_error\u001b[0m\u001b[1;33m\u001b[0m\u001b[1;33m\u001b[0m\u001b[0m\n\u001b[0;32m      3\u001b[0m \u001b[0mmean_absolute_percentage_error\u001b[0m\u001b[1;33m(\u001b[0m\u001b[0my_test\u001b[0m\u001b[1;33m,\u001b[0m\u001b[0mrfr_pred\u001b[0m\u001b[1;33m)\u001b[0m\u001b[1;33m\u001b[0m\u001b[1;33m\u001b[0m\u001b[0m\n",
      "\u001b[1;31mNameError\u001b[0m: name 'x_test' is not defined"
     ]
    }
   ],
   "source": [
    "rfr_pred=rfr_regressor.predict(x_test)\n",
    "from sklearn.metrics import mean_absolute_percentage_error\n",
    "mean_absolute_percentage_error(y_test,rfr_pred)"
   ]
  },
  {
   "cell_type": "code",
   "execution_count": 76,
   "id": "57df5a98",
   "metadata": {},
   "outputs": [
    {
     "data": {
      "text/plain": [
       "(366,)"
      ]
     },
     "execution_count": 76,
     "metadata": {},
     "output_type": "execute_result"
    }
   ],
   "source": [
    "aqi_16.shape"
   ]
  },
  {
   "cell_type": "code",
   "execution_count": null,
   "id": "9a8caaae",
   "metadata": {},
   "outputs": [],
   "source": [
    "aqis=np.concatenate((aqi_15.reshape(365,1),aqi_16[[range(0,365)]].reshape(365,1),aqi_17.reshape(365,1),aqi_18.reshape(365,1),aqi_19.reshape(365,1)),axis=1)\n",
    "aqis"
   ]
  },
  {
   "cell_type": "code",
   "execution_count": null,
   "id": "4e98ad58",
   "metadata": {},
   "outputs": [],
   "source": [
    "xg_test=np.zeros((365,6));\n",
    "for i in range(0,365,1):\n",
    "    for j in range(0,5,1):\n",
    "        xg_test[i][j]=aqis[i][j];"
   ]
  },
  {
   "cell_type": "code",
   "execution_count": null,
   "id": "87b658dd",
   "metadata": {},
   "outputs": [],
   "source": [
    "xg_pred_2020=xg_regressor.predict(aqis)"
   ]
  },
  {
   "cell_type": "code",
   "execution_count": null,
   "id": "3b96fe93",
   "metadata": {},
   "outputs": [],
   "source": [
    "xg_pred"
   ]
  },
  {
   "cell_type": "code",
   "execution_count": null,
   "id": "5812bf33",
   "metadata": {},
   "outputs": [],
   "source": [
    "aqis_2021=np.concatenate((aqi_16[[range(0,365)]].reshape(365,1),aqi_17.reshape(365,1),aqi_18.reshape(365,1),aqi_19.reshape(365,1),xg_pred_2020.reshape(365,1)),axis=1)"
   ]
  },
  {
   "cell_type": "code",
   "execution_count": null,
   "id": "44c3ba39",
   "metadata": {},
   "outputs": [],
   "source": [
    "xg_regressor.fit(x_train, np.ravel(y_train));"
   ]
  },
  {
   "cell_type": "code",
   "execution_count": null,
   "id": "4eb9e507",
   "metadata": {},
   "outputs": [],
   "source": [
    "fig1=plt.figure()\n",
    "plt.plot(xg_pred_2020[range(0,183)])\n",
    "plt.plot(aqi_20)\n",
    "plt.legend(['prediction 2020','true 2020'])"
   ]
  },
  {
   "cell_type": "code",
   "execution_count": null,
   "id": "4a54d369",
   "metadata": {},
   "outputs": [],
   "source": [
    "from sklearn.impute import SimpleImputer;\n",
    "ds_imputer=SimpleImputer(missing_values=np.nan,strategy='mean');\n",
    "ds_imputer.fit(aqis);\n",
    "aqis=ds_imputer.transform(aqis);"
   ]
  },
  {
   "cell_type": "code",
   "execution_count": null,
   "id": "803d5fa8",
   "metadata": {},
   "outputs": [],
   "source": [
    "plt.plot(xg_regressor.predict(aqis_2021))\n",
    "# plt.plot(dtr_regressor.predict(aqis))\n",
    "plt.plot(regressor.predict(aqis[:,[1,2,3,4]]))\n",
    "plt.legend(['prediction xg','prediction dtr','prediction svr'])"
   ]
  },
  {
   "cell_type": "code",
   "execution_count": null,
   "id": "6cc7a900",
   "metadata": {},
   "outputs": [],
   "source": []
  }
 ],
 "metadata": {
  "kernelspec": {
   "display_name": "Python 3",
   "language": "python",
   "name": "python3"
  },
  "language_info": {
   "codemirror_mode": {
    "name": "ipython",
    "version": 3
   },
   "file_extension": ".py",
   "mimetype": "text/x-python",
   "name": "python",
   "nbconvert_exporter": "python",
   "pygments_lexer": "ipython3",
   "version": "3.8.8"
  }
 },
 "nbformat": 4,
 "nbformat_minor": 5
}
