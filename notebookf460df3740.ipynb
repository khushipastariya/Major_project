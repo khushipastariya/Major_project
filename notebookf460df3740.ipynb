{
 "cells": [
  {
   "cell_type": "markdown",
   "metadata": {
    "id": "p7JmaPsfpIex"
   },
   "source": [
    "# **An analysis and forecasting  of the air pollution levels in India**\n",
    "\n",
    "In this project we will take a look at 24 Indian cities air pollution levels over the years as well as forecast the air pollution levels for the next 1 year at the current rate of pollution for the entire country. We will also try to explain the trends, seasonality etc. from the data given.\n",
    "We will be using AQI - Air quality Index, as our measure for the air pollution levels.\n",
    "\n",
    "The data has been made publicly available by the Central Pollution Control Board: https://cpcb.nic.in/ which is the official portal of Government of India. They also have a real-time monitoring app: https://app.cpcbccr.com/AQI_India/ .\n",
    "\n",
    "\n",
    "\n",
    "There will be two main parts to the project:\n",
    "\n",
    "1. To compare the various states on the level of pollution for the year 2019.\n",
    "\n",
    "2. To find trends, seasonality etc for the pollution levels of India as a whole as well as Delhi and forecast it to the future."
   ]
  },
  {
   "cell_type": "markdown",
   "metadata": {
    "id": "qIfWSfuVpIdn"
   },
   "source": [
    "## A brief introduction to the calculation of AQI\n",
    "\n",
    "<img style=\"float: center;\" src=\"https://encrypted-tbn0.gstatic.com/images?q=tbn%3AANd9GcR8MwkjROMGpNIVRTeKgO_vIj2QU-J9MAIW8v6wf6yg6mWvPPWH&usqp=CAU.jpg\">\n",
    "\n",
    "1. The AQI calculation uses 7 measures: PM2.5(Particulate Matter 2.5-micrometer), PM10, SO2, NOx, NH3, CO and O3(ozone).\n",
    "\n",
    "2. For PM2.5, PM10, SO2, NOx and NH3 the average value in last 24-hrs is used with the condition of having at least 16 values.\n",
    "\n",
    "3. For CO and O3 the maximum value in last 8-hrs is used.\n",
    "\n",
    "4. Each measure is converted into a Sub-Index based on pre-defined groups.\n",
    "\n",
    "5. Sometimes measures are not available due to lack of measuring or lack of required data points.\n",
    "\n",
    "6. Final AQI is the maximum Sub-Index with the condition that at least one of PM2 and PM10 should be available and at least three out of the seven should be available.\n",
    "\n",
    "### How is AQI calculated?\n",
    "1. The Sub-indices for individual pollutants at a monitoring location are calculated using its\n",
    "24-hourly average concentration value (8-hourly in case of CO and O3) and health\n",
    "breakpoint concentration range. The worst sub-index is the AQI for that location.\n",
    "2. All the eight pollutants may not be monitored at all the locations. Overall AQI is\n",
    "calculated only if data are available for minimum three pollutants out of which one should\n",
    "necessarily be either PM2.5 or PM10. Else, data are considered insufficient for calculating\n",
    "AQI. Similarly, a minimum of 16 hours’ data is considered necessary for calculating subindex.\n",
    "3. The sub-indices for monitored pollutants are calculated and disseminated, even if data are\n",
    "inadequate for determining AQI. The Individual pollutant-wise sub-index will provide air\n",
    "quality status for that pollutant.\n",
    "4. The web-based system is designed to provide AQI on real time basis. It is an automated\n",
    "system that captures data from continuous monitoring stations without human\n",
    "intervention, and displays AQI based on running average values (e.g. AQI at 6am on a\n",
    "day will incorporate data from 6am on previous day to the current day).\n",
    "5. For manual monitoring stations, an AQI calculator is developed wherein data can be fed\n",
    "manually to get AQI value. \n",
    "\n",
    "Let us take a look at the ranges of AQI.\n",
    "\n",
    "<img src=\"https://i.imgur.com/XmnE0rT.png\" alt=\"\">\n",
    "\n",
    "Now we can proceed with our analysis.\n",
    "\n",
    "## Downloading the dataset and importing libraries to conduct analysis:\n"
   ]
  },
  {
   "cell_type": "code",
   "execution_count": 1,
   "metadata": {
    "id": "K5Nn_Be46iNb"
   },
   "outputs": [],
   "source": [
    "# Importing necessary libraries to conduct our analysis\n",
    "\n",
    "\n",
    "import os\n",
    "import pandas as pd\n",
    "import numpy as np\n",
    "import matplotlib.pyplot as plt\n",
    "import seaborn as sns\n",
    "from datetime import datetime\n",
    "# Ignore harmless warnings\n",
    "import warnings\n",
    "warnings.filterwarnings(\"ignore\")\n",
    "from IPython.display import HTML,display\n",
    "\n",
    "warnings.filterwarnings(\"ignore\")\n",
    "\n"
   ]
  },
  {
   "cell_type": "code",
   "execution_count": 2,
   "metadata": {
    "id": "MG8hBBUr6WAY"
   },
   "outputs": [],
   "source": [
    "#Reading the dataset into object 'df' using pandas:\n",
    "import datetime\n",
    "df= pd.read_csv('city_day.csv',parse_dates=True)\n",
    "\n",
    "for i in range(29531):\n",
    "    df['Date'][i] = datetime.datetime.strptime(df['Date'][i], \"%Y-%m-%d\").strftime(\"%Y-%m-%d\")\n",
    "\n",
    "df['Date'] = pd.to_datetime(df['Date'])"
   ]
  },
  {
   "cell_type": "code",
   "execution_count": 3,
   "metadata": {},
   "outputs": [],
   "source": [
    "# df.drop(df[df['City'] =='Portland'].index, inplace = True)"
   ]
  },
  {
   "cell_type": "markdown",
   "metadata": {
    "id": "lj4vUaqXv4r-"
   },
   "source": [
    "## Exploratory data analysis(EDA),Data Wrangling and Pre-processing:\n",
    "First, let us take a look at the first five rows of our dataset."
   ]
  },
  {
   "cell_type": "code",
   "execution_count": 4,
   "metadata": {},
   "outputs": [
    {
     "data": {
      "text/plain": [
       "(29531, 16)"
      ]
     },
     "execution_count": 4,
     "metadata": {},
     "output_type": "execute_result"
    }
   ],
   "source": [
    "df.shape"
   ]
  },
  {
   "cell_type": "code",
   "execution_count": 5,
   "metadata": {
    "id": "-a7N0Kwb9p75",
    "outputId": "92ad59e5-d9ca-4254-cdfc-f5f74230158a"
   },
   "outputs": [
    {
     "data": {
      "text/html": [
       "<div>\n",
       "<style scoped>\n",
       "    .dataframe tbody tr th:only-of-type {\n",
       "        vertical-align: middle;\n",
       "    }\n",
       "\n",
       "    .dataframe tbody tr th {\n",
       "        vertical-align: top;\n",
       "    }\n",
       "\n",
       "    .dataframe thead th {\n",
       "        text-align: right;\n",
       "    }\n",
       "</style>\n",
       "<table border=\"1\" class=\"dataframe\">\n",
       "  <thead>\n",
       "    <tr style=\"text-align: right;\">\n",
       "      <th></th>\n",
       "      <th>City</th>\n",
       "      <th>Date</th>\n",
       "      <th>PM2.5</th>\n",
       "      <th>PM10</th>\n",
       "      <th>NO</th>\n",
       "      <th>NO2</th>\n",
       "      <th>NOx</th>\n",
       "      <th>NH3</th>\n",
       "      <th>CO</th>\n",
       "      <th>SO2</th>\n",
       "      <th>O3</th>\n",
       "      <th>Benzene</th>\n",
       "      <th>Toluene</th>\n",
       "      <th>Xylene</th>\n",
       "      <th>AQI</th>\n",
       "      <th>AQI_Bucket</th>\n",
       "    </tr>\n",
       "  </thead>\n",
       "  <tbody>\n",
       "    <tr>\n",
       "      <th>0</th>\n",
       "      <td>Ahmedabad</td>\n",
       "      <td>2015-01-01</td>\n",
       "      <td>NaN</td>\n",
       "      <td>NaN</td>\n",
       "      <td>0.92</td>\n",
       "      <td>18.22</td>\n",
       "      <td>17.15</td>\n",
       "      <td>NaN</td>\n",
       "      <td>0.92</td>\n",
       "      <td>27.64</td>\n",
       "      <td>133.36</td>\n",
       "      <td>0.00</td>\n",
       "      <td>0.02</td>\n",
       "      <td>0.00</td>\n",
       "      <td>NaN</td>\n",
       "      <td>NaN</td>\n",
       "    </tr>\n",
       "    <tr>\n",
       "      <th>1</th>\n",
       "      <td>Ahmedabad</td>\n",
       "      <td>2015-01-02</td>\n",
       "      <td>NaN</td>\n",
       "      <td>NaN</td>\n",
       "      <td>0.97</td>\n",
       "      <td>15.69</td>\n",
       "      <td>16.46</td>\n",
       "      <td>NaN</td>\n",
       "      <td>0.97</td>\n",
       "      <td>24.55</td>\n",
       "      <td>34.06</td>\n",
       "      <td>3.68</td>\n",
       "      <td>5.50</td>\n",
       "      <td>3.77</td>\n",
       "      <td>NaN</td>\n",
       "      <td>NaN</td>\n",
       "    </tr>\n",
       "    <tr>\n",
       "      <th>2</th>\n",
       "      <td>Ahmedabad</td>\n",
       "      <td>2015-01-03</td>\n",
       "      <td>NaN</td>\n",
       "      <td>NaN</td>\n",
       "      <td>17.40</td>\n",
       "      <td>19.30</td>\n",
       "      <td>29.70</td>\n",
       "      <td>NaN</td>\n",
       "      <td>17.40</td>\n",
       "      <td>29.07</td>\n",
       "      <td>30.70</td>\n",
       "      <td>6.80</td>\n",
       "      <td>16.40</td>\n",
       "      <td>2.25</td>\n",
       "      <td>NaN</td>\n",
       "      <td>NaN</td>\n",
       "    </tr>\n",
       "    <tr>\n",
       "      <th>3</th>\n",
       "      <td>Ahmedabad</td>\n",
       "      <td>2015-01-04</td>\n",
       "      <td>NaN</td>\n",
       "      <td>NaN</td>\n",
       "      <td>1.70</td>\n",
       "      <td>18.48</td>\n",
       "      <td>17.97</td>\n",
       "      <td>NaN</td>\n",
       "      <td>1.70</td>\n",
       "      <td>18.59</td>\n",
       "      <td>36.08</td>\n",
       "      <td>4.43</td>\n",
       "      <td>10.14</td>\n",
       "      <td>1.00</td>\n",
       "      <td>NaN</td>\n",
       "      <td>NaN</td>\n",
       "    </tr>\n",
       "    <tr>\n",
       "      <th>4</th>\n",
       "      <td>Ahmedabad</td>\n",
       "      <td>2015-01-05</td>\n",
       "      <td>NaN</td>\n",
       "      <td>NaN</td>\n",
       "      <td>22.10</td>\n",
       "      <td>21.42</td>\n",
       "      <td>37.76</td>\n",
       "      <td>NaN</td>\n",
       "      <td>22.10</td>\n",
       "      <td>39.33</td>\n",
       "      <td>39.31</td>\n",
       "      <td>7.01</td>\n",
       "      <td>18.89</td>\n",
       "      <td>2.78</td>\n",
       "      <td>NaN</td>\n",
       "      <td>NaN</td>\n",
       "    </tr>\n",
       "  </tbody>\n",
       "</table>\n",
       "</div>"
      ],
      "text/plain": [
       "        City       Date  PM2.5  PM10     NO    NO2    NOx  NH3     CO    SO2  \\\n",
       "0  Ahmedabad 2015-01-01    NaN   NaN   0.92  18.22  17.15  NaN   0.92  27.64   \n",
       "1  Ahmedabad 2015-01-02    NaN   NaN   0.97  15.69  16.46  NaN   0.97  24.55   \n",
       "2  Ahmedabad 2015-01-03    NaN   NaN  17.40  19.30  29.70  NaN  17.40  29.07   \n",
       "3  Ahmedabad 2015-01-04    NaN   NaN   1.70  18.48  17.97  NaN   1.70  18.59   \n",
       "4  Ahmedabad 2015-01-05    NaN   NaN  22.10  21.42  37.76  NaN  22.10  39.33   \n",
       "\n",
       "       O3  Benzene  Toluene  Xylene  AQI AQI_Bucket  \n",
       "0  133.36     0.00     0.02    0.00  NaN        NaN  \n",
       "1   34.06     3.68     5.50    3.77  NaN        NaN  \n",
       "2   30.70     6.80    16.40    2.25  NaN        NaN  \n",
       "3   36.08     4.43    10.14    1.00  NaN        NaN  \n",
       "4   39.31     7.01    18.89    2.78  NaN        NaN  "
      ]
     },
     "execution_count": 5,
     "metadata": {},
     "output_type": "execute_result"
    }
   ],
   "source": [
    "df.head(5)"
   ]
  },
  {
   "cell_type": "markdown",
   "metadata": {
    "id": "DyJ9g-etU8l4"
   },
   "source": [
    "Right off we can notice there are many missing values which can lead to incorrect predictions and inference.\n",
    "\n",
    "Taking a deeper look we notice that only the Delhi dataset is complete for the AQI column with the rest of the cities with incomplete data. This is unfortunately unrectifiable as official records of pollutant levels are only available as given above leaving a large amount of data missing.\n",
    "\n",
    "Next let us take a look at a summary of all the data:"
   ]
  },
  {
   "cell_type": "code",
   "execution_count": 6,
   "metadata": {
    "id": "20GbaS3h66iM",
    "outputId": "1289a8c4-4213-4d33-8b99-d64e304abe01"
   },
   "outputs": [
    {
     "data": {
      "text/html": [
       "<div>\n",
       "<style scoped>\n",
       "    .dataframe tbody tr th:only-of-type {\n",
       "        vertical-align: middle;\n",
       "    }\n",
       "\n",
       "    .dataframe tbody tr th {\n",
       "        vertical-align: top;\n",
       "    }\n",
       "\n",
       "    .dataframe thead th {\n",
       "        text-align: right;\n",
       "    }\n",
       "</style>\n",
       "<table border=\"1\" class=\"dataframe\">\n",
       "  <thead>\n",
       "    <tr style=\"text-align: right;\">\n",
       "      <th></th>\n",
       "      <th>PM2.5</th>\n",
       "      <th>PM10</th>\n",
       "      <th>NO</th>\n",
       "      <th>NO2</th>\n",
       "      <th>NOx</th>\n",
       "      <th>NH3</th>\n",
       "      <th>CO</th>\n",
       "      <th>SO2</th>\n",
       "      <th>O3</th>\n",
       "      <th>Benzene</th>\n",
       "      <th>Toluene</th>\n",
       "      <th>Xylene</th>\n",
       "      <th>AQI</th>\n",
       "    </tr>\n",
       "  </thead>\n",
       "  <tbody>\n",
       "    <tr>\n",
       "      <th>count</th>\n",
       "      <td>24933.000000</td>\n",
       "      <td>18391.000000</td>\n",
       "      <td>25949.000000</td>\n",
       "      <td>25946.000000</td>\n",
       "      <td>25346.000000</td>\n",
       "      <td>19203.000000</td>\n",
       "      <td>27472.000000</td>\n",
       "      <td>25677.000000</td>\n",
       "      <td>25509.000000</td>\n",
       "      <td>23908.000000</td>\n",
       "      <td>21490.000000</td>\n",
       "      <td>11422.000000</td>\n",
       "      <td>24850.000000</td>\n",
       "    </tr>\n",
       "    <tr>\n",
       "      <th>mean</th>\n",
       "      <td>67.450578</td>\n",
       "      <td>118.127103</td>\n",
       "      <td>17.574730</td>\n",
       "      <td>28.560659</td>\n",
       "      <td>32.309123</td>\n",
       "      <td>23.483476</td>\n",
       "      <td>2.248598</td>\n",
       "      <td>14.531977</td>\n",
       "      <td>34.491430</td>\n",
       "      <td>3.280840</td>\n",
       "      <td>8.700972</td>\n",
       "      <td>3.070128</td>\n",
       "      <td>166.463581</td>\n",
       "    </tr>\n",
       "    <tr>\n",
       "      <th>std</th>\n",
       "      <td>64.661449</td>\n",
       "      <td>90.605110</td>\n",
       "      <td>22.785846</td>\n",
       "      <td>24.474746</td>\n",
       "      <td>31.646011</td>\n",
       "      <td>25.684275</td>\n",
       "      <td>6.962884</td>\n",
       "      <td>18.133775</td>\n",
       "      <td>21.694928</td>\n",
       "      <td>15.811136</td>\n",
       "      <td>19.969164</td>\n",
       "      <td>6.323247</td>\n",
       "      <td>140.696585</td>\n",
       "    </tr>\n",
       "    <tr>\n",
       "      <th>min</th>\n",
       "      <td>0.040000</td>\n",
       "      <td>0.010000</td>\n",
       "      <td>0.020000</td>\n",
       "      <td>0.010000</td>\n",
       "      <td>0.000000</td>\n",
       "      <td>0.010000</td>\n",
       "      <td>0.000000</td>\n",
       "      <td>0.010000</td>\n",
       "      <td>0.010000</td>\n",
       "      <td>0.000000</td>\n",
       "      <td>0.000000</td>\n",
       "      <td>0.000000</td>\n",
       "      <td>13.000000</td>\n",
       "    </tr>\n",
       "    <tr>\n",
       "      <th>25%</th>\n",
       "      <td>28.820000</td>\n",
       "      <td>56.255000</td>\n",
       "      <td>5.630000</td>\n",
       "      <td>11.750000</td>\n",
       "      <td>12.820000</td>\n",
       "      <td>8.580000</td>\n",
       "      <td>0.510000</td>\n",
       "      <td>5.670000</td>\n",
       "      <td>18.860000</td>\n",
       "      <td>0.120000</td>\n",
       "      <td>0.600000</td>\n",
       "      <td>0.140000</td>\n",
       "      <td>81.000000</td>\n",
       "    </tr>\n",
       "    <tr>\n",
       "      <th>50%</th>\n",
       "      <td>48.570000</td>\n",
       "      <td>95.680000</td>\n",
       "      <td>9.890000</td>\n",
       "      <td>21.690000</td>\n",
       "      <td>23.520000</td>\n",
       "      <td>15.850000</td>\n",
       "      <td>0.890000</td>\n",
       "      <td>9.160000</td>\n",
       "      <td>30.840000</td>\n",
       "      <td>1.070000</td>\n",
       "      <td>2.970000</td>\n",
       "      <td>0.980000</td>\n",
       "      <td>118.000000</td>\n",
       "    </tr>\n",
       "    <tr>\n",
       "      <th>75%</th>\n",
       "      <td>80.590000</td>\n",
       "      <td>149.745000</td>\n",
       "      <td>19.950000</td>\n",
       "      <td>37.620000</td>\n",
       "      <td>40.127500</td>\n",
       "      <td>30.020000</td>\n",
       "      <td>1.450000</td>\n",
       "      <td>15.220000</td>\n",
       "      <td>45.570000</td>\n",
       "      <td>3.080000</td>\n",
       "      <td>9.150000</td>\n",
       "      <td>3.350000</td>\n",
       "      <td>208.000000</td>\n",
       "    </tr>\n",
       "    <tr>\n",
       "      <th>max</th>\n",
       "      <td>949.990000</td>\n",
       "      <td>1000.000000</td>\n",
       "      <td>390.680000</td>\n",
       "      <td>362.210000</td>\n",
       "      <td>467.630000</td>\n",
       "      <td>352.890000</td>\n",
       "      <td>175.810000</td>\n",
       "      <td>193.860000</td>\n",
       "      <td>257.730000</td>\n",
       "      <td>455.030000</td>\n",
       "      <td>454.850000</td>\n",
       "      <td>170.370000</td>\n",
       "      <td>2049.000000</td>\n",
       "    </tr>\n",
       "  </tbody>\n",
       "</table>\n",
       "</div>"
      ],
      "text/plain": [
       "              PM2.5          PM10            NO           NO2           NOx  \\\n",
       "count  24933.000000  18391.000000  25949.000000  25946.000000  25346.000000   \n",
       "mean      67.450578    118.127103     17.574730     28.560659     32.309123   \n",
       "std       64.661449     90.605110     22.785846     24.474746     31.646011   \n",
       "min        0.040000      0.010000      0.020000      0.010000      0.000000   \n",
       "25%       28.820000     56.255000      5.630000     11.750000     12.820000   \n",
       "50%       48.570000     95.680000      9.890000     21.690000     23.520000   \n",
       "75%       80.590000    149.745000     19.950000     37.620000     40.127500   \n",
       "max      949.990000   1000.000000    390.680000    362.210000    467.630000   \n",
       "\n",
       "                NH3            CO           SO2            O3       Benzene  \\\n",
       "count  19203.000000  27472.000000  25677.000000  25509.000000  23908.000000   \n",
       "mean      23.483476      2.248598     14.531977     34.491430      3.280840   \n",
       "std       25.684275      6.962884     18.133775     21.694928     15.811136   \n",
       "min        0.010000      0.000000      0.010000      0.010000      0.000000   \n",
       "25%        8.580000      0.510000      5.670000     18.860000      0.120000   \n",
       "50%       15.850000      0.890000      9.160000     30.840000      1.070000   \n",
       "75%       30.020000      1.450000     15.220000     45.570000      3.080000   \n",
       "max      352.890000    175.810000    193.860000    257.730000    455.030000   \n",
       "\n",
       "            Toluene        Xylene           AQI  \n",
       "count  21490.000000  11422.000000  24850.000000  \n",
       "mean       8.700972      3.070128    166.463581  \n",
       "std       19.969164      6.323247    140.696585  \n",
       "min        0.000000      0.000000     13.000000  \n",
       "25%        0.600000      0.140000     81.000000  \n",
       "50%        2.970000      0.980000    118.000000  \n",
       "75%        9.150000      3.350000    208.000000  \n",
       "max      454.850000    170.370000   2049.000000  "
      ]
     },
     "execution_count": 6,
     "metadata": {},
     "output_type": "execute_result"
    }
   ],
   "source": [
    "df.describe()"
   ]
  },
  {
   "cell_type": "markdown",
   "metadata": {
    "id": "R2O8wMZh-HgR"
   },
   "source": [
    "Above is a summary statistics of all the columns. The AQI as explained above is based on these columns and for our notebook we will only deal with AQI values across the states.\n",
    "\n",
    "\n",
    "\n",
    "\n",
    "#### Removing unused columns:\n",
    "Here we will keep the columns 'City', 'Date', 'AQI' and 'AQI_Bucket'.\n",
    "\n"
   ]
  },
  {
   "cell_type": "code",
   "execution_count": 7,
   "metadata": {
    "cellView": "both",
    "id": "k6bT42657VFu"
   },
   "outputs": [],
   "source": [
    "df=df[['City','Date','AQI']]"
   ]
  },
  {
   "cell_type": "markdown",
   "metadata": {
    "id": "23vOTXBSWkrs"
   },
   "source": [
    "#### Modifying dataset for our needs:\n",
    "Here,we will tranform the data with the columns as the cities AQI so as to compare AQI between states. The table after transforming is given below."
   ]
  },
  {
   "cell_type": "code",
   "execution_count": 8,
   "metadata": {
    "id": "iAfWTeTRFWrg"
   },
   "outputs": [],
   "source": [
    "cities=pd.unique(df['City'])\n",
    "column1= cities+'AQI'\n",
    "# column2=cities+'_O3'\n",
    "# columns=[*column1,*column2]"
   ]
  },
  {
   "cell_type": "code",
   "execution_count": 9,
   "metadata": {},
   "outputs": [
    {
     "data": {
      "text/plain": [
       "26"
      ]
     },
     "execution_count": 9,
     "metadata": {},
     "output_type": "execute_result"
    }
   ],
   "source": [
    "len(column1)"
   ]
  },
  {
   "cell_type": "code",
   "execution_count": 10,
   "metadata": {
    "id": "k7-ijVa671PE"
   },
   "outputs": [
    {
     "name": "stdout",
     "output_type": "stream",
     "text": [
      "(2009, 26)\n"
     ]
    }
   ],
   "source": [
    "final_df=pd.DataFrame(index=np.arange('2015-01-01','2020-07-02',dtype='datetime64[D]'),columns=column1)\n",
    "\n",
    "print(final_df.shape)"
   ]
  },
  {
   "cell_type": "code",
   "execution_count": 11,
   "metadata": {},
   "outputs": [
    {
     "name": "stdout",
     "output_type": "stream",
     "text": [
      "{'Ahmedabad': 2009, 'Aizawl': 113, 'Amaravati': 951, 'Amritsar': 1221, 'Bengaluru': 2009, 'Bhopal': 289, 'Brajrajnagar': 938, 'Chandigarh': 304, 'Chennai': 2009, 'Coimbatore': 386, 'Delhi': 2009, 'Ernakulam': 162, 'Gurugram': 1679, 'Guwahati': 502, 'Hyderabad': 2006, 'Jaipur': 1114, 'Jorapokhar': 1169, 'Kochi': 162, 'Kolkata': 814, 'Lucknow': 2009, 'Mumbai': 2009, 'Patna': 1858, 'Shillong': 310, 'Talcher': 925, 'Thiruvananthapuram': 1112, 'Visakhapatnam': 1462}\n"
     ]
    }
   ],
   "source": [
    "arr=dict()\n",
    "for i in range(len(cities)):\n",
    "    arr[cities[i]] = 0\n",
    "    \n",
    "\n",
    "for i in range(len(cities)):\n",
    "    for j in range(29531):\n",
    "        if(cities[i]==df['City'][j]):\n",
    "            arr[cities[i]]+=1\n",
    "            \n",
    "            \n",
    "print(arr)"
   ]
  },
  {
   "cell_type": "code",
   "execution_count": 12,
   "metadata": {},
   "outputs": [],
   "source": [
    "for city,i in zip(cities,final_df.columns):\n",
    "    n=len(np.array(df[df['City']==city]['AQI']))\n",
    "#     print(n)\n",
    "    final_df[i][-n:]=np.array(df[df['City']==city]['AQI'])"
   ]
  },
  {
   "cell_type": "markdown",
   "metadata": {
    "id": "9QoLsb8jkQqy"
   },
   "source": [
    "Notice that the data is daily data. We will convert it into monthly data for our ease by averaging a months data."
   ]
  },
  {
   "cell_type": "code",
   "execution_count": 13,
   "metadata": {
    "id": "07V5y4PMtI7e"
   },
   "outputs": [],
   "source": [
    "final_df=final_df.astype('float64')\n",
    "final_df=final_df.resample(rule='MS').mean()"
   ]
  },
  {
   "cell_type": "code",
   "execution_count": 14,
   "metadata": {
    "id": "jxkmi2ewBJHz",
    "outputId": "b5f44220-9dc5-4e6c-d512-1c23bf6d0791"
   },
   "outputs": [
    {
     "data": {
      "text/html": [
       "<div>\n",
       "<style scoped>\n",
       "    .dataframe tbody tr th:only-of-type {\n",
       "        vertical-align: middle;\n",
       "    }\n",
       "\n",
       "    .dataframe tbody tr th {\n",
       "        vertical-align: top;\n",
       "    }\n",
       "\n",
       "    .dataframe thead th {\n",
       "        text-align: right;\n",
       "    }\n",
       "</style>\n",
       "<table border=\"1\" class=\"dataframe\">\n",
       "  <thead>\n",
       "    <tr style=\"text-align: right;\">\n",
       "      <th></th>\n",
       "      <th>AhmedabadAQI</th>\n",
       "      <th>AizawlAQI</th>\n",
       "      <th>AmaravatiAQI</th>\n",
       "      <th>AmritsarAQI</th>\n",
       "      <th>BengaluruAQI</th>\n",
       "      <th>BhopalAQI</th>\n",
       "      <th>BrajrajnagarAQI</th>\n",
       "      <th>ChandigarhAQI</th>\n",
       "      <th>ChennaiAQI</th>\n",
       "      <th>CoimbatoreAQI</th>\n",
       "      <th>...</th>\n",
       "      <th>JorapokharAQI</th>\n",
       "      <th>KochiAQI</th>\n",
       "      <th>KolkataAQI</th>\n",
       "      <th>LucknowAQI</th>\n",
       "      <th>MumbaiAQI</th>\n",
       "      <th>PatnaAQI</th>\n",
       "      <th>ShillongAQI</th>\n",
       "      <th>TalcherAQI</th>\n",
       "      <th>ThiruvananthapuramAQI</th>\n",
       "      <th>VisakhapatnamAQI</th>\n",
       "    </tr>\n",
       "  </thead>\n",
       "  <tbody>\n",
       "    <tr>\n",
       "      <th>2020-03-01</th>\n",
       "      <td>277.466667</td>\n",
       "      <td>65.350000</td>\n",
       "      <td>52.548387</td>\n",
       "      <td>83.733333</td>\n",
       "      <td>90.741935</td>\n",
       "      <td>109.714286</td>\n",
       "      <td>124.100000</td>\n",
       "      <td>55.419355</td>\n",
       "      <td>70.290323</td>\n",
       "      <td>78.272727</td>\n",
       "      <td>...</td>\n",
       "      <td>163.166667</td>\n",
       "      <td>129.166667</td>\n",
       "      <td>122.838710</td>\n",
       "      <td>134.000000</td>\n",
       "      <td>104.645161</td>\n",
       "      <td>158.419355</td>\n",
       "      <td>67.870968</td>\n",
       "      <td>117.250000</td>\n",
       "      <td>74.741935</td>\n",
       "      <td>85.100000</td>\n",
       "    </tr>\n",
       "    <tr>\n",
       "      <th>2020-04-01</th>\n",
       "      <td>120.733333</td>\n",
       "      <td>39.233333</td>\n",
       "      <td>44.400000</td>\n",
       "      <td>58.708333</td>\n",
       "      <td>68.533333</td>\n",
       "      <td>113.782609</td>\n",
       "      <td>137.923077</td>\n",
       "      <td>44.586207</td>\n",
       "      <td>63.500000</td>\n",
       "      <td>84.823529</td>\n",
       "      <td>...</td>\n",
       "      <td>121.400000</td>\n",
       "      <td>77.033333</td>\n",
       "      <td>70.366667</td>\n",
       "      <td>106.733333</td>\n",
       "      <td>74.333333</td>\n",
       "      <td>131.166667</td>\n",
       "      <td>75.750000</td>\n",
       "      <td>132.137931</td>\n",
       "      <td>57.066667</td>\n",
       "      <td>54.321429</td>\n",
       "    </tr>\n",
       "    <tr>\n",
       "      <th>2020-05-01</th>\n",
       "      <td>128.677419</td>\n",
       "      <td>24.193548</td>\n",
       "      <td>59.096774</td>\n",
       "      <td>77.677419</td>\n",
       "      <td>73.161290</td>\n",
       "      <td>104.451613</td>\n",
       "      <td>129.133333</td>\n",
       "      <td>74.129032</td>\n",
       "      <td>78.677419</td>\n",
       "      <td>57.931034</td>\n",
       "      <td>...</td>\n",
       "      <td>135.580645</td>\n",
       "      <td>84.724138</td>\n",
       "      <td>53.161290</td>\n",
       "      <td>119.096774</td>\n",
       "      <td>63.935484</td>\n",
       "      <td>138.516129</td>\n",
       "      <td>32.451613</td>\n",
       "      <td>101.333333</td>\n",
       "      <td>55.967742</td>\n",
       "      <td>64.903226</td>\n",
       "    </tr>\n",
       "    <tr>\n",
       "      <th>2020-06-01</th>\n",
       "      <td>97.357143</td>\n",
       "      <td>20.862069</td>\n",
       "      <td>47.866667</td>\n",
       "      <td>101.533333</td>\n",
       "      <td>55.166667</td>\n",
       "      <td>71.666667</td>\n",
       "      <td>117.333333</td>\n",
       "      <td>66.500000</td>\n",
       "      <td>103.066667</td>\n",
       "      <td>38.366667</td>\n",
       "      <td>...</td>\n",
       "      <td>136.533333</td>\n",
       "      <td>93.866667</td>\n",
       "      <td>46.466667</td>\n",
       "      <td>96.500000</td>\n",
       "      <td>53.300000</td>\n",
       "      <td>82.366667</td>\n",
       "      <td>32.678571</td>\n",
       "      <td>81.055556</td>\n",
       "      <td>45.400000</td>\n",
       "      <td>82.200000</td>\n",
       "    </tr>\n",
       "    <tr>\n",
       "      <th>2020-07-01</th>\n",
       "      <td>119.000000</td>\n",
       "      <td>20.000000</td>\n",
       "      <td>54.000000</td>\n",
       "      <td>78.000000</td>\n",
       "      <td>43.000000</td>\n",
       "      <td>69.000000</td>\n",
       "      <td>NaN</td>\n",
       "      <td>66.000000</td>\n",
       "      <td>92.000000</td>\n",
       "      <td>NaN</td>\n",
       "      <td>...</td>\n",
       "      <td>86.000000</td>\n",
       "      <td>102.000000</td>\n",
       "      <td>45.000000</td>\n",
       "      <td>76.000000</td>\n",
       "      <td>53.000000</td>\n",
       "      <td>98.000000</td>\n",
       "      <td>24.000000</td>\n",
       "      <td>101.000000</td>\n",
       "      <td>41.000000</td>\n",
       "      <td>50.000000</td>\n",
       "    </tr>\n",
       "  </tbody>\n",
       "</table>\n",
       "<p>5 rows × 26 columns</p>\n",
       "</div>"
      ],
      "text/plain": [
       "            AhmedabadAQI  AizawlAQI  AmaravatiAQI  AmritsarAQI  BengaluruAQI  \\\n",
       "2020-03-01    277.466667  65.350000     52.548387    83.733333     90.741935   \n",
       "2020-04-01    120.733333  39.233333     44.400000    58.708333     68.533333   \n",
       "2020-05-01    128.677419  24.193548     59.096774    77.677419     73.161290   \n",
       "2020-06-01     97.357143  20.862069     47.866667   101.533333     55.166667   \n",
       "2020-07-01    119.000000  20.000000     54.000000    78.000000     43.000000   \n",
       "\n",
       "             BhopalAQI  BrajrajnagarAQI  ChandigarhAQI  ChennaiAQI  \\\n",
       "2020-03-01  109.714286       124.100000      55.419355   70.290323   \n",
       "2020-04-01  113.782609       137.923077      44.586207   63.500000   \n",
       "2020-05-01  104.451613       129.133333      74.129032   78.677419   \n",
       "2020-06-01   71.666667       117.333333      66.500000  103.066667   \n",
       "2020-07-01   69.000000              NaN      66.000000   92.000000   \n",
       "\n",
       "            CoimbatoreAQI  ...  JorapokharAQI    KochiAQI  KolkataAQI  \\\n",
       "2020-03-01      78.272727  ...     163.166667  129.166667  122.838710   \n",
       "2020-04-01      84.823529  ...     121.400000   77.033333   70.366667   \n",
       "2020-05-01      57.931034  ...     135.580645   84.724138   53.161290   \n",
       "2020-06-01      38.366667  ...     136.533333   93.866667   46.466667   \n",
       "2020-07-01            NaN  ...      86.000000  102.000000   45.000000   \n",
       "\n",
       "            LucknowAQI   MumbaiAQI    PatnaAQI  ShillongAQI  TalcherAQI  \\\n",
       "2020-03-01  134.000000  104.645161  158.419355    67.870968  117.250000   \n",
       "2020-04-01  106.733333   74.333333  131.166667    75.750000  132.137931   \n",
       "2020-05-01  119.096774   63.935484  138.516129    32.451613  101.333333   \n",
       "2020-06-01   96.500000   53.300000   82.366667    32.678571   81.055556   \n",
       "2020-07-01   76.000000   53.000000   98.000000    24.000000  101.000000   \n",
       "\n",
       "            ThiruvananthapuramAQI  VisakhapatnamAQI  \n",
       "2020-03-01              74.741935         85.100000  \n",
       "2020-04-01              57.066667         54.321429  \n",
       "2020-05-01              55.967742         64.903226  \n",
       "2020-06-01              45.400000         82.200000  \n",
       "2020-07-01              41.000000         50.000000  \n",
       "\n",
       "[5 rows x 26 columns]"
      ]
     },
     "execution_count": 14,
     "metadata": {},
     "output_type": "execute_result"
    }
   ],
   "source": [
    "final_df.tail()"
   ]
  },
  {
   "cell_type": "markdown",
   "metadata": {
    "id": "SXWhO6-1SNu5"
   },
   "source": [
    "Next, we will add a column 'India_AQI' which gives us the average of all the cities data across a row. Note that this is not necessarily an accurate measure of AQI for India as a whole as only a small subset of all the cities are being used. Nevertheless,we can consider this as a reasonably representative measure of the AQI."
   ]
  },
  {
   "cell_type": "code",
   "execution_count": 15,
   "metadata": {
    "id": "4UXpyHXaSR-8"
   },
   "outputs": [],
   "source": [
    "final_df['US_AQI']=final_df.mean(axis=1)"
   ]
  },
  {
   "cell_type": "markdown",
   "metadata": {
    "id": "VuZQdl-KbjsG"
   },
   "source": [
    "Let us take a quick look at the graph of India's AQI over the years."
   ]
  },
  {
   "cell_type": "code",
   "execution_count": 16,
   "metadata": {
    "id": "bA8mRJIuS1Qd",
    "outputId": "57889e1d-2d79-433b-b47c-1256ebb8f931"
   },
   "outputs": [
    {
     "data": {
      "image/png": "[encoded data removed]",
      "text/plain": [
       "<Figure size 864x576 with 1 Axes>"
      ]
     },
     "metadata": {
      "needs_background": "light"
     },
     "output_type": "display_data"
    }
   ],
   "source": [
    "ax=final_df[['US_AQI']].plot(figsize=(12,8),grid=True,lw=2,color='Red')\n",
    "ax.autoscale(enable=True, axis='both', tight=True)"
   ]
  },
  {
   "cell_type": "markdown",
   "metadata": {
    "id": "10a7GlfCcSoW"
   },
   "source": [
    "Straight away we can see patterns and trends over the years. There are two highly noticeable patterns. One is the general trend downwards. Over the past 5 years we can see the AQI reducing marginally. Note that this can be  a litte misleading, especially due to the 2015 data, as the dataset in the first few observations  only comprises of Delhi and Ahmedabad during which have relatively highly pollution compared to the rest of the cities which makes the initial portion of the graph highly exaggerated. Nevertheless we can see a general decline in pollution over the years. \n",
    "\n",
    "The next pattern thats easily observable is the seasonal component which plays a big role in the pollution of the country. We will discuss further  in the 2nd part of our project.\n",
    "One other important point to note is the affect of COVID-19 on India's pollution level. The pollution levels are drastically lower during the year 2020 for the same reason.\n",
    "\n",
    "We can move on to comparing the AQI of the cities to find the most polluted city and the least.\n",
    "Note that we will be leaving the unavailable data as is and further modify if required."
   ]
  },
  {
   "cell_type": "markdown",
   "metadata": {
    "id": "8IurUJjPgiqp"
   },
   "source": [
    "## Air pollution by city for the year 2019\n",
    "Our aim of the section is to find level of pollution in the cities and compare them, we use the year 2019 as it is by far the most complete in terms of data and it is the most recent full year and hence rather apt to compare.\n",
    "\n",
    "We will start with forming a table with the data from 2019."
   ]
  },
  {
   "cell_type": "code",
   "execution_count": 17,
   "metadata": {
    "id": "XSHOoNUsgibU",
    "outputId": "e665eb1f-975c-43db-b06a-c18ebfbb8331"
   },
   "outputs": [
    {
     "data": {
      "text/html": [
       "<div>\n",
       "<style scoped>\n",
       "    .dataframe tbody tr th:only-of-type {\n",
       "        vertical-align: middle;\n",
       "    }\n",
       "\n",
       "    .dataframe tbody tr th {\n",
       "        vertical-align: top;\n",
       "    }\n",
       "\n",
       "    .dataframe thead th {\n",
       "        text-align: right;\n",
       "    }\n",
       "</style>\n",
       "<table border=\"1\" class=\"dataframe\">\n",
       "  <thead>\n",
       "    <tr style=\"text-align: right;\">\n",
       "      <th></th>\n",
       "      <th>AhmedabadAQI</th>\n",
       "      <th>AizawlAQI</th>\n",
       "      <th>AmaravatiAQI</th>\n",
       "      <th>AmritsarAQI</th>\n",
       "      <th>BengaluruAQI</th>\n",
       "      <th>BhopalAQI</th>\n",
       "      <th>BrajrajnagarAQI</th>\n",
       "      <th>ChandigarhAQI</th>\n",
       "      <th>ChennaiAQI</th>\n",
       "      <th>CoimbatoreAQI</th>\n",
       "      <th>...</th>\n",
       "      <th>KochiAQI</th>\n",
       "      <th>KolkataAQI</th>\n",
       "      <th>LucknowAQI</th>\n",
       "      <th>MumbaiAQI</th>\n",
       "      <th>PatnaAQI</th>\n",
       "      <th>ShillongAQI</th>\n",
       "      <th>TalcherAQI</th>\n",
       "      <th>ThiruvananthapuramAQI</th>\n",
       "      <th>VisakhapatnamAQI</th>\n",
       "      <th>US_AQI</th>\n",
       "    </tr>\n",
       "  </thead>\n",
       "  <tbody>\n",
       "    <tr>\n",
       "      <th>2019-01-01</th>\n",
       "      <td>755.516129</td>\n",
       "      <td>NaN</td>\n",
       "      <td>218.612903</td>\n",
       "      <td>94.633333</td>\n",
       "      <td>116.806452</td>\n",
       "      <td>NaN</td>\n",
       "      <td>259.967742</td>\n",
       "      <td>NaN</td>\n",
       "      <td>131.000000</td>\n",
       "      <td>NaN</td>\n",
       "      <td>...</td>\n",
       "      <td>NaN</td>\n",
       "      <td>360.838710</td>\n",
       "      <td>315.516129</td>\n",
       "      <td>165.516129</td>\n",
       "      <td>405.290323</td>\n",
       "      <td>NaN</td>\n",
       "      <td>289.400000</td>\n",
       "      <td>128.161290</td>\n",
       "      <td>263.129032</td>\n",
       "      <td>264.985723</td>\n",
       "    </tr>\n",
       "    <tr>\n",
       "      <th>2019-02-01</th>\n",
       "      <td>560.535714</td>\n",
       "      <td>NaN</td>\n",
       "      <td>114.464286</td>\n",
       "      <td>94.892857</td>\n",
       "      <td>106.250000</td>\n",
       "      <td>NaN</td>\n",
       "      <td>208.259259</td>\n",
       "      <td>NaN</td>\n",
       "      <td>118.071429</td>\n",
       "      <td>NaN</td>\n",
       "      <td>...</td>\n",
       "      <td>NaN</td>\n",
       "      <td>266.071429</td>\n",
       "      <td>243.071429</td>\n",
       "      <td>149.821429</td>\n",
       "      <td>296.107143</td>\n",
       "      <td>NaN</td>\n",
       "      <td>322.555556</td>\n",
       "      <td>88.428571</td>\n",
       "      <td>152.307692</td>\n",
       "      <td>197.428013</td>\n",
       "    </tr>\n",
       "    <tr>\n",
       "      <th>2019-03-01</th>\n",
       "      <td>601.741935</td>\n",
       "      <td>NaN</td>\n",
       "      <td>79.967742</td>\n",
       "      <td>99.733333</td>\n",
       "      <td>122.129032</td>\n",
       "      <td>NaN</td>\n",
       "      <td>186.870968</td>\n",
       "      <td>NaN</td>\n",
       "      <td>101.419355</td>\n",
       "      <td>NaN</td>\n",
       "      <td>...</td>\n",
       "      <td>NaN</td>\n",
       "      <td>157.774194</td>\n",
       "      <td>217.645161</td>\n",
       "      <td>123.483871</td>\n",
       "      <td>214.032258</td>\n",
       "      <td>NaN</td>\n",
       "      <td>189.888889</td>\n",
       "      <td>88.838710</td>\n",
       "      <td>93.033333</td>\n",
       "      <td>168.896689</td>\n",
       "    </tr>\n",
       "    <tr>\n",
       "      <th>2019-04-01</th>\n",
       "      <td>633.518519</td>\n",
       "      <td>NaN</td>\n",
       "      <td>78.133333</td>\n",
       "      <td>112.000000</td>\n",
       "      <td>124.300000</td>\n",
       "      <td>NaN</td>\n",
       "      <td>190.562500</td>\n",
       "      <td>NaN</td>\n",
       "      <td>87.533333</td>\n",
       "      <td>NaN</td>\n",
       "      <td>...</td>\n",
       "      <td>NaN</td>\n",
       "      <td>86.800000</td>\n",
       "      <td>217.700000</td>\n",
       "      <td>98.066667</td>\n",
       "      <td>151.100000</td>\n",
       "      <td>NaN</td>\n",
       "      <td>142.160000</td>\n",
       "      <td>69.933333</td>\n",
       "      <td>92.827586</td>\n",
       "      <td>157.218977</td>\n",
       "    </tr>\n",
       "    <tr>\n",
       "      <th>2019-05-01</th>\n",
       "      <td>412.769231</td>\n",
       "      <td>NaN</td>\n",
       "      <td>106.777778</td>\n",
       "      <td>113.258065</td>\n",
       "      <td>105.387097</td>\n",
       "      <td>NaN</td>\n",
       "      <td>130.464286</td>\n",
       "      <td>NaN</td>\n",
       "      <td>103.612903</td>\n",
       "      <td>NaN</td>\n",
       "      <td>...</td>\n",
       "      <td>NaN</td>\n",
       "      <td>88.548387</td>\n",
       "      <td>184.096774</td>\n",
       "      <td>87.870968</td>\n",
       "      <td>170.806452</td>\n",
       "      <td>NaN</td>\n",
       "      <td>130.413793</td>\n",
       "      <td>75.419355</td>\n",
       "      <td>123.933333</td>\n",
       "      <td>146.614816</td>\n",
       "    </tr>\n",
       "  </tbody>\n",
       "</table>\n",
       "<p>5 rows × 27 columns</p>\n",
       "</div>"
      ],
      "text/plain": [
       "            AhmedabadAQI  AizawlAQI  AmaravatiAQI  AmritsarAQI  BengaluruAQI  \\\n",
       "2019-01-01    755.516129        NaN    218.612903    94.633333    116.806452   \n",
       "2019-02-01    560.535714        NaN    114.464286    94.892857    106.250000   \n",
       "2019-03-01    601.741935        NaN     79.967742    99.733333    122.129032   \n",
       "2019-04-01    633.518519        NaN     78.133333   112.000000    124.300000   \n",
       "2019-05-01    412.769231        NaN    106.777778   113.258065    105.387097   \n",
       "\n",
       "            BhopalAQI  BrajrajnagarAQI  ChandigarhAQI  ChennaiAQI  \\\n",
       "2019-01-01        NaN       259.967742            NaN  131.000000   \n",
       "2019-02-01        NaN       208.259259            NaN  118.071429   \n",
       "2019-03-01        NaN       186.870968            NaN  101.419355   \n",
       "2019-04-01        NaN       190.562500            NaN   87.533333   \n",
       "2019-05-01        NaN       130.464286            NaN  103.612903   \n",
       "\n",
       "            CoimbatoreAQI  ...  KochiAQI  KolkataAQI  LucknowAQI   MumbaiAQI  \\\n",
       "2019-01-01            NaN  ...       NaN  360.838710  315.516129  165.516129   \n",
       "2019-02-01            NaN  ...       NaN  266.071429  243.071429  149.821429   \n",
       "2019-03-01            NaN  ...       NaN  157.774194  217.645161  123.483871   \n",
       "2019-04-01            NaN  ...       NaN   86.800000  217.700000   98.066667   \n",
       "2019-05-01            NaN  ...       NaN   88.548387  184.096774   87.870968   \n",
       "\n",
       "              PatnaAQI  ShillongAQI  TalcherAQI  ThiruvananthapuramAQI  \\\n",
       "2019-01-01  405.290323          NaN  289.400000             128.161290   \n",
       "2019-02-01  296.107143          NaN  322.555556              88.428571   \n",
       "2019-03-01  214.032258          NaN  189.888889              88.838710   \n",
       "2019-04-01  151.100000          NaN  142.160000              69.933333   \n",
       "2019-05-01  170.806452          NaN  130.413793              75.419355   \n",
       "\n",
       "            VisakhapatnamAQI      US_AQI  \n",
       "2019-01-01        263.129032  264.985723  \n",
       "2019-02-01        152.307692  197.428013  \n",
       "2019-03-01         93.033333  168.896689  \n",
       "2019-04-01         92.827586  157.218977  \n",
       "2019-05-01        123.933333  146.614816  \n",
       "\n",
       "[5 rows x 27 columns]"
      ]
     },
     "execution_count": 17,
     "metadata": {},
     "output_type": "execute_result"
    }
   ],
   "source": [
    "df_2019=final_df['2019-01-01':'2020-01-01']\n",
    "df_2019.head()"
   ]
  },
  {
   "cell_type": "markdown",
   "metadata": {
    "id": "uEfwdWGZjZbH"
   },
   "source": [
    "We can see that there seems to be still quite a few missing values. Let us take a look at the missing data."
   ]
  },
  {
   "cell_type": "code",
   "execution_count": 18,
   "metadata": {
    "id": "ceyWCtKkBKDh",
    "outputId": "83a7cc71-a201-429a-a2dc-0482e2632c47"
   },
   "outputs": [
    {
     "data": {
      "text/plain": [
       "AhmedabadAQI              0\n",
       "AizawlAQI                13\n",
       "AmaravatiAQI              1\n",
       "AmritsarAQI               0\n",
       "BengaluruAQI              0\n",
       "BhopalAQI                 8\n",
       "BrajrajnagarAQI           0\n",
       "ChandigarhAQI             8\n",
       "ChennaiAQI                0\n",
       "CoimbatoreAQI             5\n",
       "DelhiAQI                  0\n",
       "ErnakulamAQI             12\n",
       "GurugramAQI               0\n",
       "GuwahatiAQI               1\n",
       "HyderabadAQI              0\n",
       "JaipurAQI                 0\n",
       "JorapokharAQI             1\n",
       "KochiAQI                 12\n",
       "KolkataAQI                0\n",
       "LucknowAQI                0\n",
       "MumbaiAQI                 0\n",
       "PatnaAQI                  0\n",
       "ShillongAQI               8\n",
       "TalcherAQI                0\n",
       "ThiruvananthapuramAQI     0\n",
       "VisakhapatnamAQI          0\n",
       "US_AQI                    0\n",
       "dtype: int64"
      ]
     },
     "execution_count": 18,
     "metadata": {},
     "output_type": "execute_result"
    }
   ],
   "source": [
    "df_2019.isna().sum()"
   ]
  },
  {
   "cell_type": "markdown",
   "metadata": {
    "id": "4PatP3AcjjBt"
   },
   "source": [
    "We can see that there are 3 cities whose data is missing in its entirety. We will remove these columns as they serve no purpose. There are few other columns with a few missing months of data. For our analysis we will keep them even though it might add to the inacuracy of our results."
   ]
  },
  {
   "cell_type": "code",
   "execution_count": 19,
   "metadata": {
    "id": "i1YWEKmMjlou"
   },
   "outputs": [],
   "source": [
    "df_2019=df_2019.drop(['AizawlAQI','AmaravatiAQI','BhopalAQI','ChandigarhAQI','CoimbatoreAQI','ErnakulamAQI','GuwahatiAQI','JorapokharAQI','KochiAQI','ShillongAQI'],axis=1)"
   ]
  },
  {
   "cell_type": "markdown",
   "metadata": {
    "id": "y0BFlBd2kTa8"
   },
   "source": [
    "We will take the average of all the months for each city to find the AQI for the year 2019."
   ]
  },
  {
   "cell_type": "code",
   "execution_count": 20,
   "metadata": {
    "id": "O7bkbxf5jvc4"
   },
   "outputs": [
    {
     "data": {
      "text/plain": [
       "AhmedabadAQI       498.673857\n",
       "AmritsarAQI        108.971576\n",
       "BengaluruAQI        91.991935\n",
       "BrajrajnagarAQI    148.056790\n",
       "ChennaiAQI         101.903261\n",
       "dtype: float64"
      ]
     },
     "execution_count": 20,
     "metadata": {},
     "output_type": "execute_result"
    }
   ],
   "source": [
    "AQI_2019=df_2019.mean(axis=0)\n",
    "AQI_2019.head()"
   ]
  },
  {
   "cell_type": "markdown",
   "metadata": {
    "id": "zoM6e0m-KjqC"
   },
   "source": [
    "Before looking at the means of the AQI values of the cities, we will take a look at the boxplots of the AQI values of the various cities."
   ]
  },
  {
   "cell_type": "code",
   "execution_count": null,
   "metadata": {},
   "outputs": [],
   "source": []
  },
  {
   "cell_type": "code",
   "execution_count": 21,
   "metadata": {},
   "outputs": [
    {
     "data": {
      "image/png": "[encoded data removed]",
      "text/plain": [
       "<Figure size 1440x576 with 1 Axes>"
      ]
     },
     "metadata": {
      "needs_background": "light"
     },
     "output_type": "display_data"
    }
   ],
   "source": [
    "plt.figure(figsize=(20,8))\n",
    "plt.xticks(rotation=90)\n",
    "bplot = sns.boxplot( data=df_2019,  width=0.75,palette=\"GnBu_d\")\n",
    "plt.ylabel('AQI');\n",
    "bplot.grid(True)"
   ]
  },
  {
   "cell_type": "markdown",
   "metadata": {
    "id": "6_nqpgyIKqHp"
   },
   "source": [
    "We can see that Ahmedebad has easily the highest values of AQI in the country, followed by Delhi lagging far behind. Let us take a look at the means of the values of AQI for further comparison."
   ]
  },
  {
   "cell_type": "code",
   "execution_count": 22,
   "metadata": {
    "id": "8L1pkcgzK_Gs",
    "outputId": "c677ff5a-78e9-41b1-f10b-090ce05a3c10"
   },
   "outputs": [
    {
     "data": {
      "image/png": "[encoded data removed]",
      "text/plain": [
       "<Figure size 1440x576 with 1 Axes>"
      ]
     },
     "metadata": {
      "needs_background": "light"
     },
     "output_type": "display_data"
    }
   ],
   "source": [
    "plt.figure(figsize=(20,8))\n",
    "plt.xticks(rotation=90)\n",
    "plt.ylabel('AQI')\n",
    "bplot=sns.barplot(AQI_2019.index, AQI_2019.values,palette=\"GnBu_d\")\n"
   ]
  },
  {
   "cell_type": "code",
   "execution_count": 23,
   "metadata": {},
   "outputs": [
    {
     "data": {
      "text/html": [
       "<div>\n",
       "<style scoped>\n",
       "    .dataframe tbody tr th:only-of-type {\n",
       "        vertical-align: middle;\n",
       "    }\n",
       "\n",
       "    .dataframe tbody tr th {\n",
       "        vertical-align: top;\n",
       "    }\n",
       "\n",
       "    .dataframe thead th {\n",
       "        text-align: right;\n",
       "    }\n",
       "</style>\n",
       "<table border=\"1\" class=\"dataframe\">\n",
       "  <thead>\n",
       "    <tr style=\"text-align: right;\">\n",
       "      <th></th>\n",
       "      <th>AhmedabadAQI</th>\n",
       "      <th>AizawlAQI</th>\n",
       "      <th>AmaravatiAQI</th>\n",
       "      <th>AmritsarAQI</th>\n",
       "      <th>BengaluruAQI</th>\n",
       "      <th>BhopalAQI</th>\n",
       "      <th>BrajrajnagarAQI</th>\n",
       "      <th>ChandigarhAQI</th>\n",
       "      <th>ChennaiAQI</th>\n",
       "      <th>CoimbatoreAQI</th>\n",
       "      <th>...</th>\n",
       "      <th>KochiAQI</th>\n",
       "      <th>KolkataAQI</th>\n",
       "      <th>LucknowAQI</th>\n",
       "      <th>MumbaiAQI</th>\n",
       "      <th>PatnaAQI</th>\n",
       "      <th>ShillongAQI</th>\n",
       "      <th>TalcherAQI</th>\n",
       "      <th>ThiruvananthapuramAQI</th>\n",
       "      <th>VisakhapatnamAQI</th>\n",
       "      <th>US_AQI</th>\n",
       "    </tr>\n",
       "  </thead>\n",
       "  <tbody>\n",
       "    <tr>\n",
       "      <th>2015-01-01</th>\n",
       "      <td>350.333333</td>\n",
       "      <td>NaN</td>\n",
       "      <td>NaN</td>\n",
       "      <td>NaN</td>\n",
       "      <td>NaN</td>\n",
       "      <td>NaN</td>\n",
       "      <td>NaN</td>\n",
       "      <td>NaN</td>\n",
       "      <td>NaN</td>\n",
       "      <td>NaN</td>\n",
       "      <td>...</td>\n",
       "      <td>NaN</td>\n",
       "      <td>NaN</td>\n",
       "      <td>NaN</td>\n",
       "      <td>NaN</td>\n",
       "      <td>NaN</td>\n",
       "      <td>NaN</td>\n",
       "      <td>NaN</td>\n",
       "      <td>NaN</td>\n",
       "      <td>NaN</td>\n",
       "      <td>346.311828</td>\n",
       "    </tr>\n",
       "    <tr>\n",
       "      <th>2015-02-01</th>\n",
       "      <td>520.640000</td>\n",
       "      <td>NaN</td>\n",
       "      <td>NaN</td>\n",
       "      <td>NaN</td>\n",
       "      <td>NaN</td>\n",
       "      <td>NaN</td>\n",
       "      <td>NaN</td>\n",
       "      <td>NaN</td>\n",
       "      <td>NaN</td>\n",
       "      <td>NaN</td>\n",
       "      <td>...</td>\n",
       "      <td>NaN</td>\n",
       "      <td>NaN</td>\n",
       "      <td>NaN</td>\n",
       "      <td>NaN</td>\n",
       "      <td>NaN</td>\n",
       "      <td>NaN</td>\n",
       "      <td>NaN</td>\n",
       "      <td>NaN</td>\n",
       "      <td>NaN</td>\n",
       "      <td>424.284286</td>\n",
       "    </tr>\n",
       "    <tr>\n",
       "      <th>2015-03-01</th>\n",
       "      <td>418.571429</td>\n",
       "      <td>NaN</td>\n",
       "      <td>NaN</td>\n",
       "      <td>NaN</td>\n",
       "      <td>130.545455</td>\n",
       "      <td>NaN</td>\n",
       "      <td>NaN</td>\n",
       "      <td>NaN</td>\n",
       "      <td>363.800000</td>\n",
       "      <td>NaN</td>\n",
       "      <td>...</td>\n",
       "      <td>NaN</td>\n",
       "      <td>NaN</td>\n",
       "      <td>264.272727</td>\n",
       "      <td>NaN</td>\n",
       "      <td>NaN</td>\n",
       "      <td>NaN</td>\n",
       "      <td>NaN</td>\n",
       "      <td>NaN</td>\n",
       "      <td>NaN</td>\n",
       "      <td>258.875688</td>\n",
       "    </tr>\n",
       "    <tr>\n",
       "      <th>2015-04-01</th>\n",
       "      <td>308.640000</td>\n",
       "      <td>NaN</td>\n",
       "      <td>NaN</td>\n",
       "      <td>NaN</td>\n",
       "      <td>113.733333</td>\n",
       "      <td>NaN</td>\n",
       "      <td>NaN</td>\n",
       "      <td>NaN</td>\n",
       "      <td>175.862069</td>\n",
       "      <td>NaN</td>\n",
       "      <td>...</td>\n",
       "      <td>NaN</td>\n",
       "      <td>NaN</td>\n",
       "      <td>118.586207</td>\n",
       "      <td>NaN</td>\n",
       "      <td>NaN</td>\n",
       "      <td>NaN</td>\n",
       "      <td>NaN</td>\n",
       "      <td>NaN</td>\n",
       "      <td>NaN</td>\n",
       "      <td>193.815995</td>\n",
       "    </tr>\n",
       "    <tr>\n",
       "      <th>2015-05-01</th>\n",
       "      <td>263.466667</td>\n",
       "      <td>NaN</td>\n",
       "      <td>NaN</td>\n",
       "      <td>NaN</td>\n",
       "      <td>102.774194</td>\n",
       "      <td>NaN</td>\n",
       "      <td>NaN</td>\n",
       "      <td>NaN</td>\n",
       "      <td>176.129032</td>\n",
       "      <td>NaN</td>\n",
       "      <td>...</td>\n",
       "      <td>NaN</td>\n",
       "      <td>NaN</td>\n",
       "      <td>137.000000</td>\n",
       "      <td>NaN</td>\n",
       "      <td>NaN</td>\n",
       "      <td>NaN</td>\n",
       "      <td>NaN</td>\n",
       "      <td>NaN</td>\n",
       "      <td>NaN</td>\n",
       "      <td>193.556272</td>\n",
       "    </tr>\n",
       "  </tbody>\n",
       "</table>\n",
       "<p>5 rows × 27 columns</p>\n",
       "</div>"
      ],
      "text/plain": [
       "            AhmedabadAQI  AizawlAQI  AmaravatiAQI  AmritsarAQI  BengaluruAQI  \\\n",
       "2015-01-01    350.333333        NaN           NaN          NaN           NaN   \n",
       "2015-02-01    520.640000        NaN           NaN          NaN           NaN   \n",
       "2015-03-01    418.571429        NaN           NaN          NaN    130.545455   \n",
       "2015-04-01    308.640000        NaN           NaN          NaN    113.733333   \n",
       "2015-05-01    263.466667        NaN           NaN          NaN    102.774194   \n",
       "\n",
       "            BhopalAQI  BrajrajnagarAQI  ChandigarhAQI  ChennaiAQI  \\\n",
       "2015-01-01        NaN              NaN            NaN         NaN   \n",
       "2015-02-01        NaN              NaN            NaN         NaN   \n",
       "2015-03-01        NaN              NaN            NaN  363.800000   \n",
       "2015-04-01        NaN              NaN            NaN  175.862069   \n",
       "2015-05-01        NaN              NaN            NaN  176.129032   \n",
       "\n",
       "            CoimbatoreAQI  ...  KochiAQI  KolkataAQI  LucknowAQI  MumbaiAQI  \\\n",
       "2015-01-01            NaN  ...       NaN         NaN         NaN        NaN   \n",
       "2015-02-01            NaN  ...       NaN         NaN         NaN        NaN   \n",
       "2015-03-01            NaN  ...       NaN         NaN  264.272727        NaN   \n",
       "2015-04-01            NaN  ...       NaN         NaN  118.586207        NaN   \n",
       "2015-05-01            NaN  ...       NaN         NaN  137.000000        NaN   \n",
       "\n",
       "            PatnaAQI  ShillongAQI  TalcherAQI  ThiruvananthapuramAQI  \\\n",
       "2015-01-01       NaN          NaN         NaN                    NaN   \n",
       "2015-02-01       NaN          NaN         NaN                    NaN   \n",
       "2015-03-01       NaN          NaN         NaN                    NaN   \n",
       "2015-04-01       NaN          NaN         NaN                    NaN   \n",
       "2015-05-01       NaN          NaN         NaN                    NaN   \n",
       "\n",
       "            VisakhapatnamAQI      US_AQI  \n",
       "2015-01-01               NaN  346.311828  \n",
       "2015-02-01               NaN  424.284286  \n",
       "2015-03-01               NaN  258.875688  \n",
       "2015-04-01               NaN  193.815995  \n",
       "2015-05-01               NaN  193.556272  \n",
       "\n",
       "[5 rows x 27 columns]"
      ]
     },
     "execution_count": 23,
     "metadata": {},
     "output_type": "execute_result"
    }
   ],
   "source": [
    "final_df.head()"
   ]
  },
  {
   "cell_type": "markdown",
   "metadata": {
    "id": "6LBKfD-QQw8u"
   },
   "source": [
    "We can see that Ahmedabad and Delhi are the most polluted whereas Shillong is the least followed by trivandrum. With this we end the comparison and move to the next section of forecasting the values of future AQI for the whole of India.\n",
    "\n",
    "## Analysing and forecasting of AQI values:\n",
    "We will first take a look at the seasonal decompose of the AQI values of india."
   ]
  },
  {
   "cell_type": "code",
   "execution_count": 24,
   "metadata": {
    "id": "2kFq-3bbLduh",
    "outputId": "fc173abd-0ddf-412a-897d-04259bb33fd9"
   },
   "outputs": [
    {
     "name": "stdout",
     "output_type": "stream",
     "text": [
      "2015-01-01    346.311828\n",
      "2015-02-01    424.284286\n",
      "2015-03-01    258.875688\n",
      "2015-04-01    193.815995\n",
      "2015-05-01    193.556272\n",
      "                 ...    \n",
      "2020-03-01    110.777963\n",
      "2020-04-01     86.532043\n",
      "2020-05-01     88.262751\n",
      "2020-06-01     77.532108\n",
      "2020-07-01     72.500000\n",
      "Freq: MS, Name: US_AQI, Length: 67, dtype: float64\n"
     ]
    },
    {
     "ename": "AttributeError",
     "evalue": "'DecomposeResult' object has no attribute 'show'",
     "output_type": "error",
     "traceback": [
      "\u001b[1;31m---------------------------------------------------------------------------\u001b[0m",
      "\u001b[1;31mAttributeError\u001b[0m                            Traceback (most recent call last)",
      "\u001b[1;32m<ipython-input-24-d642705918bb>\u001b[0m in \u001b[0;36m<module>\u001b[1;34m\u001b[0m\n\u001b[0;32m      5\u001b[0m \u001b[0mresult\u001b[0m\u001b[1;33m=\u001b[0m\u001b[0mseasonal_decompose\u001b[0m\u001b[1;33m(\u001b[0m\u001b[0mIndia_AQI\u001b[0m\u001b[1;33m,\u001b[0m\u001b[0mmodel\u001b[0m\u001b[1;33m=\u001b[0m\u001b[1;34m'multiplicative'\u001b[0m\u001b[1;33m)\u001b[0m\u001b[1;33m\u001b[0m\u001b[1;33m\u001b[0m\u001b[0m\n\u001b[0;32m      6\u001b[0m \u001b[0mresult\u001b[0m\u001b[1;33m.\u001b[0m\u001b[0mplot\u001b[0m\u001b[1;33m(\u001b[0m\u001b[1;33m)\u001b[0m\u001b[1;33m;\u001b[0m\u001b[1;33m\u001b[0m\u001b[1;33m\u001b[0m\u001b[0m\n\u001b[1;32m----> 7\u001b[1;33m \u001b[0mresult\u001b[0m\u001b[1;33m.\u001b[0m\u001b[0mshow\u001b[0m\u001b[1;33m(\u001b[0m\u001b[1;33m)\u001b[0m\u001b[1;33m\u001b[0m\u001b[1;33m\u001b[0m\u001b[0m\n\u001b[0m",
      "\u001b[1;31mAttributeError\u001b[0m: 'DecomposeResult' object has no attribute 'show'"
     ]
    },
    {
     "data": {
      "image/png": "[encoded data removed]",
      "text/plain": [
       "<Figure size 432x288 with 4 Axes>"
      ]
     },
     "metadata": {
      "needs_background": "light"
     },
     "output_type": "display_data"
    }
   ],
   "source": [
    "\n",
    "from statsmodels.tsa.seasonal import seasonal_decompose\n",
    "India_AQI=final_df['US_AQI']\n",
    "\n",
    "print(India_AQI)\n",
    "result=seasonal_decompose(India_AQI,model='multiplicative')\n",
    "result.plot();\n",
    "result.show()"
   ]
  },
  {
   "cell_type": "code",
   "execution_count": null,
   "metadata": {},
   "outputs": [],
   "source": [
    "type(India_AQI)"
   ]
  },
  {
   "cell_type": "markdown",
   "metadata": {
    "id": "e56qziDcxsgz"
   },
   "source": [
    "As we have discussed earlier ,there is a very clear seasonality, and  a less clearer trend. The trend is possibly  due to increasing restrictions on pollution by the govt and the last surge downward is clearly due to the recent Covid-19. \n",
    "\n",
    "How about the seasonality, what causes the increase during certian months and a decline in others? Let us take a closer look during which months the pollution peaks."
   ]
  },
  {
   "cell_type": "code",
   "execution_count": null,
   "metadata": {
    "id": "5nHsm7k7N-wa",
    "outputId": "be7a632a-90a4-49cb-a5e2-24e190fac475"
   },
   "outputs": [],
   "source": [
    "from matplotlib import dates\n",
    "ax=result.seasonal.plot(xlim=['2019-01-01','2020-01-01'],figsize=(20,8),lw=2)\n",
    "ax.yaxis.grid(True)\n",
    "ax.xaxis.grid(True)"
   ]
  },
  {
   "cell_type": "markdown",
   "metadata": {
    "id": "BvnK8FFj9K8p"
   },
   "source": [
    "We can see that there are two peaks largely, one during October and the during January. And the lowest amount of pollution is around july-September after which there is a sharp increase. \n",
    "Similarly, there is a decrease from January to July. This spike in the winters is due to a combination of factors. One point of note is that North Indian states have a higher increase of pollution.\n",
    "\n",
    "The spike is due to factors including Winter aversion(explained after),valley affect(explained after), seasonal factors such as dust storms,  crop fires, burning of solid fuels for heating, and firecracker-related pollution during Diwali, stubble burning etc.\n",
    "\n",
    "\n",
    "### Winter Aversion:\n",
    "In summer, air in the planetary boundary layer (the lowest part of the atmosphere) is warmer and lighter, and rises upwards more easily. This carries pollutants away from the ground and mixes them with cleaner air in the upper layers of the atmosphere in a process called ‘vertical mixing’.  \n",
    "\n",
    "During winters the planetary boundary layer is thinner as the cooler air near the earth’s surface is dense. The cooler air is trapped under the warm air above that forms a kind of atmospheric ‘lid’. This phenomenon is called winter inversion. Since the vertical mixing of air happens only within this layer, the pollutants released lack enough space to disperse in the atmosphere.\n",
    "During summers, pollution levels decrease as the warmer air rises up freely, making the boundary layer thicker, and providing enough space for pollutants to disperse. The same thing happens during winter afternoons, when increased heat brings down pollution slightly.\n",
    "\n",
    "The effects of inversion are stronger at night, which is why air quality levels drop overnight. This is also why experts ask people to refrain from early morning walks, as they could be exposed to much higher pollution levels at that time.\n",
    "In cities closer to the coast, like Mumbai, the sea breeze and moisture help disperse pollution. However, the Indo-Gangetic plain, which includes Punjab, Delhi, UP, Bihar and West Bengal, is like a valley surrounded by the Himalayas and other mountain ranges. Polluted air settles in this land-locked valley and is unable to escape due to low wind speeds.\n",
    "In major cities of this region, such as Delhi and Kanpur, high industrial and vehicular emissions coupled with biomass burning in surrounding areas cause more pollution that gets trapped due to this valley effect and inversion.\n",
    "\n",
    " Now that we have an explantion for the seasonal component as well as trend component let us try to predict future values of AQI based purely on previous values.\n",
    "\n"
   ]
  },
  {
   "cell_type": "markdown",
   "metadata": {
    "id": "8DRWvFF9XdyK"
   },
   "source": [
    "# Forecasting: \n",
    "We will be using three methods for forecasting values of AQI for India, namely, RNN using LSTM\n",
    "It is obviously overkill to be using these three methods however being new to time series I would personally like to explore all three options. Normally for such a small dataset RNN would not be recommended."
   ]
  },
  {
   "cell_type": "markdown",
   "metadata": {
    "id": "oxOCTWfWYE92"
   },
   "source": [
    "## SARIMA(Seasonal Autoregressive Integrated Moving Average)\n",
    "Autoregressive Integrated Moving Average, or ARIMA, is one of the most widely used forecasting methods for univariate time series data forecasting.Although the method can handle data with a trend, it does not support time series with a seasonal component.An extension to ARIMA that supports the direct modeling of the seasonal component of the series is called SARIMA."
   ]
  },
  {
   "cell_type": "code",
   "execution_count": null,
   "metadata": {
    "id": "6MriRRMaOEK9",
    "outputId": "4dea1242-5c1b-4b94-ad91-7e922ff45ef2"
   },
   "outputs": [],
   "source": [
    "# # Load specific forecasting tools\n",
    "from statsmodels.tsa.statespace.sarimax import SARIMAX\n",
    "!pip install pmdarima;\n",
    "from pmdarima import auto_arima;                              # for determining ARIMA orders"
   ]
  },
  {
   "cell_type": "markdown",
   "metadata": {
    "id": "6JkMQsIQZ3a6"
   },
   "source": [
    "First, we run auto arima to find out the parameters of the model for us. We can manually do it,however, it is much easier for us let the notebook do the work for us."
   ]
  },
  {
   "cell_type": "code",
   "execution_count": null,
   "metadata": {
    "id": "aM0pMKOLZfhS",
    "outputId": "b97a3c43-024d-4d03-ef5e-1e4f16dfe80d"
   },
   "outputs": [],
   "source": [
    "auto_arima(y=India_AQI,start_p=0,start_P=0,start_q=0,start_Q=0,seasonal=False, m=12).summary()"
   ]
  },
  {
   "cell_type": "markdown",
   "metadata": {
    "id": "-z7Jjk91ar3F"
   },
   "source": [
    "We have found the optimal parameters for the SARIMAX model is (1,1,1)x(1,0,1,12).Note that the model is called SARIMAX, however, we do not have an external variable hence it reduces to SARIMA. The model selection criterion is AIC which is default.\n",
    "\n",
    "Our next step is to forecast using this model into the future. However, since we do not have information regarding future values, we will split the data into a training data and testing data and try to predict 1 year into the future. We will use the years 2015-2018(till june) as our train dataset and July-June the next year as our test dataset. The reason we exclude 2020 is due to the fact that 2020 is an outlier due to covid an we will not get an accurate figure for the prediction. We will also take a  look at the predicted values of 2020 for reference. Further, we will predict into the year 2021."
   ]
  },
  {
   "cell_type": "code",
   "execution_count": null,
   "metadata": {
    "id": "nUyUe0yZaUF-",
    "outputId": "03c5d84b-4085-47ed-d921-1002cd29a126"
   },
   "outputs": [],
   "source": [
    "len(India_AQI)"
   ]
  },
  {
   "cell_type": "code",
   "execution_count": null,
   "metadata": {
    "id": "uxdzC4GCcrQt"
   },
   "outputs": [],
   "source": [
    "#dividing into train and test:\n",
    "train=India_AQI[:41]\n",
    "test=India_AQI[42:54]"
   ]
  },
  {
   "cell_type": "code",
   "execution_count": null,
   "metadata": {
    "id": "P3_UZaR2dBcq",
    "outputId": "783d9b7a-c8cb-4f16-a465-66b90fba0b79"
   },
   "outputs": [],
   "source": [
    "# # Forming the model:\n",
    "model=SARIMAX(train,order=(1,1,1),seasonal_order=(1,0,1,12),)\n",
    "results=model.fit()\n",
    "results.summary()\n"
   ]
  },
  {
   "cell_type": "markdown",
   "metadata": {
    "id": "Fj81j6pzdjav"
   },
   "source": [
    "We have fitted out model with the training data and the required parameters. Next we need to forecast the next 12 months AQI values."
   ]
  },
  {
   "cell_type": "code",
   "execution_count": null,
   "metadata": {
    "id": "wZH2zXDedhX-"
   },
   "outputs": [],
   "source": [
    "#Obtaining predicted values:\n",
    "predictions = results.predict(start=42, end=53, typ='levels').rename('Predictions')"
   ]
  },
  {
   "cell_type": "code",
   "execution_count": null,
   "metadata": {
    "id": "IOpzaoxFeV31",
    "outputId": "edc241ce-7257-4a45-d564-36370ef528f1"
   },
   "outputs": [],
   "source": [
    "#Plotting predicted values against the true values:\n",
    "predictions.plot(legend=True)\n",
    "test.plot(legend=True);"
   ]
  },
  {
   "cell_type": "markdown",
   "metadata": {
    "id": "8uyid8Xfoo8_"
   },
   "source": [
    "We can see that the predicted values are fairly close to our actual values using SARIMA and hence is quite fascinating how looking at previous values gives us so much insight into future air pollution.However, there is a discrepency at the peak of the graph where our model has not been able to predict with a high accuracy. To obtain the value of error we will be using root mean square error(RMSE) for comparison between the models."
   ]
  },
  {
   "cell_type": "code",
   "execution_count": null,
   "metadata": {
    "id": "YBSXhsLzeeAv",
    "outputId": "56b3fea8-159e-4356-d4f8-e1cafa688fd3"
   },
   "outputs": [],
   "source": [
    "from sklearn.metrics import mean_squared_error\n",
    "RMSE=np.sqrt(mean_squared_error(predictions,test))\n"
   ]
  },
  {
   "cell_type": "markdown",
   "metadata": {
    "id": "0pjnU7klp8xL"
   },
   "source": [
    "We have got an RMSE value of approximately 21, which is quite alright, we can approximately judge the scale of error by comparing with the mean values of AQI which is 177, so the error is approximately 1/9 of the actual values. \n",
    "\n",
    "Next we will try predicting the AQI values for the year 2019-2020(July-May)"
   ]
  },
  {
   "cell_type": "code",
   "execution_count": null,
   "metadata": {
    "id": "22DRBZA4fkJM",
    "outputId": "ba0d35a5-0197-4451-8ae8-075b9a5b46bc"
   },
   "outputs": [],
   "source": [
    "#dividing into train and test:\n",
    "train=India_AQI[:53]\n",
    "test=India_AQI[54:]\n",
    "# # Forming the model:\n",
    "model=SARIMAX(train,order=(1,1,1),seasonal_order=(1,0,1,12),)\n",
    "results=model.fit()\n",
    "results.summary()\n",
    "# #Obtaining predicted values:\n",
    "predictions = results.predict(start=54, end=66, typ='levels').rename('Predictions')\n",
    "# #Plotting predicted values against the true values:\n",
    "predictions.plot(legend=True)\n",
    "test.plot(legend=True);"
   ]
  },
  {
   "cell_type": "markdown",
   "metadata": {
    "id": "JK7kBTnvrtW2"
   },
   "source": [
    "As expected, the predicted values are much higher than the actual value as we can see from the graphs. Let us take a look at the error value."
   ]
  },
  {
   "cell_type": "code",
   "execution_count": null,
   "metadata": {
    "id": "oH13wmiorZSs",
    "outputId": "3ab3aec0-1847-4f7a-cff1-5872188c7b2e"
   },
   "outputs": [],
   "source": [
    "#Finding RMSE:\n",
    "# from sklearn.metrics import mean_squared_error\n",
    "RMSE=np.sqrt(mean_squared_error(predictions,test))\n"
   ]
  },
  {
   "cell_type": "markdown",
   "metadata": {
    "id": "btrmSkCn7J9S"
   },
   "source": [
    "The error value is much higher than earlier for obvious reason and hence we can see that predicting for the year 2020 is not going to yeild accurate results due to the Covid-19.\n",
    "\n",
    "Next we will take a look into forecasting into the unknown, i.e. 2020-2021.\n",
    "This poses a problem, as if we predict including 2020 data, we are bound to get an innacurate prediction for next year simply due to the fact that 2020 is an outlier.However, if we remove 2020 from our dataset and predict from 2019 till 2021 we are left with wrong predictions for sure and considering that covid-19 could have further lasting effects we will predict poorly. \n",
    "We will choose to include 2020 as well for this predicition. We could compare the values next year.\n",
    "\n",
    "### Predicting into the future:"
   ]
  },
  {
   "cell_type": "code",
   "execution_count": null,
   "metadata": {
    "id": "FC_SzZlErnOr",
    "outputId": "9a0fb283-c8b7-41b4-eb7b-be2a396855cb"
   },
   "outputs": [],
   "source": [
    "# Forming the model:\n",
    "model=SARIMAX(India_AQI,order=(1,1,1),seasonal_order=(1,0,1,12))\n",
    "results=model.fit()\n",
    "results.summary()\n",
    "# #Obtaining predicted values:\n",
    "predictions = results.predict(start=64, end=77, typ='levels').rename('Predictions')\n",
    "# #Plotting predicted values against the true values:\n",
    "predictions.plot(legend=True)\n",
    "India_AQI.plot(legend=True,figsize=(12,8),grid=True);"
   ]
  },
  {
   "cell_type": "markdown",
   "metadata": {
    "id": "Kd9Y_Kl391Dz"
   },
   "source": [
    "We can see the predictions plotted in continuation with 2020 and one thing we note is the highly optimistic prediction. That is purely due to the fact that 2020 is such an outlier, chances are, the pollution levels will follow the trend pre 2020 which would mean a bump in the AQI levels unless the country decides to keep the restrictions etc as is which is highly unlikely. We can always get a more accurate prediction skipping 2020."
   ]
  },
  {
   "cell_type": "markdown",
   "metadata": {
    "id": "_yOlI97xNM8m"
   },
   "source": [
    "Next we will take a look at root mean square error:"
   ]
  },
  {
   "cell_type": "markdown",
   "metadata": {
    "id": "ED0iV5ZdU4LV"
   },
   "source": [
    "##  Recurring Neural Networks(RNN):\n",
    "For this last forecast we will be using RNN which is a type of Neural Network that is used for time based/frequency based/ memory based data like text data, speech, time series etc. We will be using a particular cell type LSTM(Long short term memory).LSTM networks are particularly meant to keep particular information for a longer term as compared to regular RNN's. As all Neural Networks, RNN's works best with a huge amount of data. RNN is a black box method, which means there is little transparency in the model and how it trains. \n",
    "Another major disadvantage is the high complexity of hyperparameters.Hence RNN's should preferably used as last resort."
   ]
  },
  {
   "cell_type": "code",
   "execution_count": null,
   "metadata": {},
   "outputs": [],
   "source": [
    "India_AQI = India_AQI.to_frame()"
   ]
  },
  {
   "cell_type": "code",
   "execution_count": null,
   "metadata": {},
   "outputs": [],
   "source": [
    "India_AQI.head()"
   ]
  },
  {
   "cell_type": "code",
   "execution_count": null,
   "metadata": {
    "id": "ET1aiz3VU6e6"
   },
   "outputs": [],
   "source": [
    "#India_AQI=India_AQI.set_index('US_AQI')"
   ]
  },
  {
   "cell_type": "code",
   "execution_count": null,
   "metadata": {},
   "outputs": [],
   "source": [
    "India_AQI.shape"
   ]
  },
  {
   "cell_type": "markdown",
   "metadata": {
    "id": "RPyzdD9vZfiN"
   },
   "source": [
    "#### Splitting into test/train:"
   ]
  },
  {
   "cell_type": "code",
   "execution_count": null,
   "metadata": {},
   "outputs": [],
   "source": [
    "India_AQI.reset_index()\n",
    "# India_AQI.columns = ['Date','US_PM2.5']\n",
    "# print(type(India_AQI))"
   ]
  },
  {
   "cell_type": "code",
   "execution_count": null,
   "metadata": {
    "id": "n5x8ksaTZYDV"
   },
   "outputs": [],
   "source": [
    "train=India_AQI[:-7]\n",
    "test=India_AQI[-7:]"
   ]
  },
  {
   "cell_type": "code",
   "execution_count": null,
   "metadata": {},
   "outputs": [],
   "source": [
    "print(train)\n",
    "print(test)\n",
    "\n",
    "# train.reshape(-1,1)\n",
    "# test.reshape(-1,1)"
   ]
  },
  {
   "cell_type": "markdown",
   "metadata": {
    "id": "Lf2ytr9WxUxx"
   },
   "source": [
    "#### Scaling the data: \n",
    "For this model we will be scaling the data to 0-1."
   ]
  },
  {
   "cell_type": "code",
   "execution_count": null,
   "metadata": {
    "id": "3u1aULavU6NZ",
    "outputId": "708fd479-602a-4e5b-9a47-a615ad218b96"
   },
   "outputs": [],
   "source": [
    "\n",
    "from sklearn.preprocessing import MinMaxScaler\n",
    "scaler = MinMaxScaler()\n",
    "scaler.fit(train)"
   ]
  },
  {
   "cell_type": "code",
   "execution_count": null,
   "metadata": {
    "id": "4SszZ9rJg7ba"
   },
   "outputs": [],
   "source": [
    "scaled_train = scaler.transform(train)\n",
    "scaled_test = scaler.transform(test)"
   ]
  },
  {
   "cell_type": "markdown",
   "metadata": {
    "id": "uwkBwsjPyYh7"
   },
   "source": [
    "We need to put the data in a particular format for Keras, the library used to implement RNN.n_input tells us how many values before the output value we need to consider to make a prediction. I have chosen 2 years. One year is also a reasonable value. However, since I want to predict into the future, I want the year before COVID-19  to be in my calculation too(Note that I can do this for my SARIMA as well).n_features is simply the number of values I want to predict.\n",
    "\n",
    "### Formatting the data:"
   ]
  },
  {
   "cell_type": "code",
   "execution_count": null,
   "metadata": {
    "id": "SbDzkrwkg7Q_"
   },
   "outputs": [],
   "source": [
    "\n",
    "from keras.preprocessing.sequence import TimeseriesGenerator\n",
    "n_input = 10\n",
    "n_features = 1\n",
    "generator = TimeseriesGenerator(scaled_train, scaled_train, length=n_input, batch_size=1)"
   ]
  },
  {
   "cell_type": "code",
   "execution_count": null,
   "metadata": {
    "id": "7gvCMuSXg7Il"
   },
   "outputs": [],
   "source": [
    "#To give an idea of what generator file holds:\n",
    "X,y = generator[0]"
   ]
  },
  {
   "cell_type": "code",
   "execution_count": null,
   "metadata": {
    "id": "N5MMn27iideB",
    "outputId": "de67a73c-d7c9-424a-ca8f-d4888ed91114"
   },
   "outputs": [],
   "source": [
    "# We can see that the x array gives the list of values that we are going to predict y of:\n",
    "print(f'Given the Array: \\n{X.flatten()}')\n",
    "print(f'Predict this y: \\n {y}')"
   ]
  },
  {
   "cell_type": "markdown",
   "metadata": {
    "id": "IbwVDDgrzWKA"
   },
   "source": [
    "### Creating the model:"
   ]
  },
  {
   "cell_type": "code",
   "execution_count": null,
   "metadata": {
    "id": "PcPOvcX-jLaw"
   },
   "outputs": [],
   "source": [
    "from keras.models import Sequential\n",
    "from keras.layers import Dense\n",
    "from keras.layers import LSTM"
   ]
  },
  {
   "cell_type": "code",
   "execution_count": null,
   "metadata": {
    "id": "rKf_KpGIjRhR",
    "outputId": "f953635f-cce2-4c3e-bab6-c7b236cad081"
   },
   "outputs": [],
   "source": [
    "# defining the model(note that  I am using a very basic model here, a 2 layer model only):\n",
    "model = Sequential()\n",
    "model.add(LSTM(50, activation='relu', input_shape=(n_input, n_features)))\n",
    "model.add(Dense(1))\n",
    "model.compile(optimizer='adam', loss='mse')\n",
    "\n",
    "model.summary()"
   ]
  },
  {
   "cell_type": "markdown",
   "metadata": {
    "id": "-7_bC0jRzdkE"
   },
   "source": [
    "### Fitting the model:\n",
    "We can define the number of epochs we want."
   ]
  },
  {
   "cell_type": "code",
   "execution_count": null,
   "metadata": {
    "id": "MK32h4ULl8cP",
    "outputId": "aa4b2af4-08f4-4b56-c8b7-117aab44e5d8"
   },
   "outputs": [],
   "source": [
    "# Fitting the model with the generator object:\n",
    "model.fit_generator(generator,epochs=450)"
   ]
  },
  {
   "cell_type": "markdown",
   "metadata": {
    "id": "jdTT2sY9zz6M"
   },
   "source": [
    "The plot below shows how the values of the loss reduces as each epoch gets over."
   ]
  },
  {
   "cell_type": "code",
   "execution_count": null,
   "metadata": {
    "id": "D2uN1VEYl8NB",
    "outputId": "2f2e66ad-64a8-4fe1-f2b7-12d945103857"
   },
   "outputs": [],
   "source": [
    "loss_per_epoch = model.history.history['loss']\n",
    "plt.plot(range(len(loss_per_epoch)),loss_per_epoch)"
   ]
  },
  {
   "cell_type": "markdown",
   "metadata": {
    "id": "ghI0XLY3z7Fe"
   },
   "source": [
    "### Forming our predictions and putting them in the array test_predictions:"
   ]
  },
  {
   "cell_type": "code",
   "execution_count": null,
   "metadata": {
    "id": "bjziAOLvmp-H"
   },
   "outputs": [],
   "source": [
    "test_predictions = []\n",
    "\n",
    "first_eval_batch = scaled_train[-n_input:]\n",
    "current_batch = first_eval_batch.reshape((1, n_input, n_features))\n",
    "\n",
    "for i in range(len(test)):\n",
    "    \n",
    "    \n",
    "    current_pred = model.predict(current_batch)[0]\n",
    "    \n",
    "    \n",
    "    test_predictions.append(current_pred) \n",
    "    \n",
    "    \n",
    "    current_batch = np.append(current_batch[:,1:,:],[[current_pred]],axis=1)"
   ]
  },
  {
   "cell_type": "code",
   "execution_count": null,
   "metadata": {
    "id": "LNcwZK_SmrMw"
   },
   "outputs": [],
   "source": [
    "true_predictions = scaler.inverse_transform(test_predictions)"
   ]
  },
  {
   "cell_type": "code",
   "execution_count": null,
   "metadata": {
    "id": "htZINr5Dmwlv"
   },
   "outputs": [],
   "source": [
    "test['Predictions'] = true_predictions"
   ]
  },
  {
   "cell_type": "markdown",
   "metadata": {
    "id": "xVqZygZX0SMs"
   },
   "source": [
    "### Plotting our predictions with the true values:"
   ]
  },
  {
   "cell_type": "code",
   "execution_count": null,
   "metadata": {},
   "outputs": [],
   "source": [
    "true_predictions"
   ]
  },
  {
   "cell_type": "code",
   "execution_count": null,
   "metadata": {
    "id": "oR55tYdzm0of",
    "outputId": "3cbe26f3-95a3-44da-e9d6-e94509b43872"
   },
   "outputs": [],
   "source": [
    "test.plot(figsize=(12,8))\n",
    "plt.plot(true_predictions)\n"
   ]
  },
  {
   "cell_type": "markdown",
   "metadata": {
    "id": "e65eQ9fx0WSO"
   },
   "source": [
    "The graph looks quite on point! Let us find the RMSE value for this model:"
   ]
  },
  {
   "cell_type": "code",
   "execution_count": null,
   "metadata": {
    "id": "jtcmr9XRnhzg",
    "outputId": "9eddfebf-7202-464e-e11a-35c414fe69e5"
   },
   "outputs": [],
   "source": [
    "RMSE=np.sqrt(mean_squared_error(test['India_AQI'],test['Predictions']))\n",
    "print('RMSE = ',RMSE)\n",
    "print('India_AQI=',India_AQI['India_AQI'].mean())"
   ]
  },
  {
   "cell_type": "markdown",
   "metadata": {
    "id": "HDc9NOKd0cdg"
   },
   "source": [
    "The RMSE value is lower than what we had predicted with the above two models even with our limited dataset."
   ]
  },
  {
   "cell_type": "markdown",
   "metadata": {
    "id": "0HUCTOHP0nom"
   },
   "source": [
    "### Forecasting into the future with RNN:\n",
    "We will use the same model but with the entire dataset now and predict one year into the future."
   ]
  },
  {
   "cell_type": "code",
   "execution_count": null,
   "metadata": {
    "id": "Cdws9MGi1tJJ"
   },
   "outputs": [],
   "source": [
    "scaler.fit(India_AQI)\n",
    "scaled_India_AQI=scaler.transform(India_AQI)"
   ]
  },
  {
   "cell_type": "code",
   "execution_count": null,
   "metadata": {
    "id": "8xfIqGtY1s_R"
   },
   "outputs": [],
   "source": [
    "generator = TimeseriesGenerator(scaled_India_AQI, scaled_India_AQI, length=n_input, batch_size=1)"
   ]
  },
  {
   "cell_type": "code",
   "execution_count": null,
   "metadata": {
    "id": "6DIvi_lt0uFl",
    "outputId": "17121b68-29fb-4956-ef18-dd0ef80fa696"
   },
   "outputs": [],
   "source": [
    "model.fit_generator(generator,epochs=450)"
   ]
  },
  {
   "cell_type": "code",
   "execution_count": null,
   "metadata": {
    "id": "4BsG8Em20tqp"
   },
   "outputs": [],
   "source": [
    "test_predictions = []\n",
    "\n",
    "first_eval_batch = scaled_India_AQI[-n_input:]\n",
    "current_batch = first_eval_batch.reshape((1, n_input, n_features))\n",
    "\n",
    "for i in range(len(test)):\n",
    "    \n",
    "    \n",
    "    current_pred = model.predict(current_batch)[0]\n",
    "    \n",
    "    \n",
    "    test_predictions.append(current_pred) \n",
    "    \n",
    "    \n",
    "    current_batch = np.append(current_batch[:,1:,:],[[current_pred]],axis=1)"
   ]
  },
  {
   "cell_type": "code",
   "execution_count": null,
   "metadata": {
    "id": "DrGpaJ3B0tlb"
   },
   "outputs": [],
   "source": [
    "true_predictions = scaler.inverse_transform(test_predictions)"
   ]
  },
  {
   "cell_type": "code",
   "execution_count": null,
   "metadata": {
    "id": "2SPMO9hZ3hS6"
   },
   "outputs": [],
   "source": [
    "true_predictions=true_predictions.flatten()"
   ]
  },
  {
   "cell_type": "code",
   "execution_count": null,
   "metadata": {
    "id": "A67ycaXo1_A_"
   },
   "outputs": [],
   "source": [
    "true_preds=pd.DataFrame(true_predictions,columns=['Forecast'])\n",
    "true_preds=true_preds.set_index(pd.date_range('2020-06-01',periods=7,freq='MS'))"
   ]
  },
  {
   "cell_type": "markdown",
   "metadata": {
    "id": "ofXEk6PyBAzJ"
   },
   "source": [
    "Given below are the forecasted values:"
   ]
  },
  {
   "cell_type": "code",
   "execution_count": null,
   "metadata": {
    "id": "gLQZtc7o61yk",
    "outputId": "9cf2b027-77d0-43f6-ecdd-2379937681c5"
   },
   "outputs": [],
   "source": [
    "true_preds"
   ]
  },
  {
   "cell_type": "markdown",
   "metadata": {
    "id": "CsYMyt-mBEvO"
   },
   "source": [
    "Next, we will take a look at the plot of the actual values followed by the predicted values:"
   ]
  },
  {
   "cell_type": "code",
   "execution_count": null,
   "metadata": {
    "id": "ghwG_KkX6SpS",
    "outputId": "2cfda75b-8ddf-4d86-9507-14460bd31183"
   },
   "outputs": [],
   "source": [
    "plt.figure(figsize=(20,8))\n",
    "plt.grid(True)\n",
    "plt.plot( true_preds['Forecast'])\n",
    "plt.plot( India_AQI['US_AQI'])"
   ]
  },
  {
   "cell_type": "markdown",
   "metadata": {
    "id": "S_DQHOpEBX6-"
   },
   "source": [
    "Again, like that with SARIMA, we can see that the prediction is highly optimistic due to COVID-19 which can possibly be better by removing the year 2020 and predicting two years in using data pre 2020. \n",
    "\n",
    "With this we have come to the end of the forecasting section and the notebook overall."
   ]
  },
  {
   "cell_type": "code",
   "execution_count": 25,
   "metadata": {
    "id": "2ueBJcQkWiGz"
   },
   "outputs": [
    {
     "ename": "NameError",
     "evalue": "name 'city_day' is not defined",
     "output_type": "error",
     "traceback": [
      "\u001b[1;31m---------------------------------------------------------------------------\u001b[0m",
      "\u001b[1;31mNameError\u001b[0m                                 Traceback (most recent call last)",
      "\u001b[1;32m<ipython-input-25-396edcf7560c>\u001b[0m in \u001b[0;36m<module>\u001b[1;34m\u001b[0m\n\u001b[0;32m      1\u001b[0m \u001b[0mcities\u001b[0m \u001b[1;33m=\u001b[0m \u001b[1;33m[\u001b[0m\u001b[1;34m'Ahmedabad'\u001b[0m\u001b[1;33m,\u001b[0m\u001b[1;34m'Delhi'\u001b[0m\u001b[1;33m,\u001b[0m\u001b[1;34m'Bengaluru'\u001b[0m\u001b[1;33m,\u001b[0m\u001b[1;34m'Mumbai'\u001b[0m\u001b[1;33m,\u001b[0m\u001b[1;34m'Hyderabad'\u001b[0m\u001b[1;33m,\u001b[0m\u001b[1;34m'Chennai'\u001b[0m\u001b[1;33m]\u001b[0m\u001b[1;33m\u001b[0m\u001b[1;33m\u001b[0m\u001b[0m\n\u001b[0;32m      2\u001b[0m \u001b[1;33m\u001b[0m\u001b[0m\n\u001b[1;32m----> 3\u001b[1;33m \u001b[0mfiltered_city_day\u001b[0m \u001b[1;33m=\u001b[0m \u001b[0mcity_day\u001b[0m\u001b[1;33m[\u001b[0m\u001b[0mcity_day\u001b[0m\u001b[1;33m[\u001b[0m\u001b[1;34m'Date'\u001b[0m\u001b[1;33m]\u001b[0m \u001b[1;33m>=\u001b[0m \u001b[1;34m'2019-01-01'\u001b[0m\u001b[1;33m]\u001b[0m\u001b[1;33m\u001b[0m\u001b[1;33m\u001b[0m\u001b[0m\n\u001b[0m\u001b[0;32m      4\u001b[0m \u001b[0mAQI\u001b[0m \u001b[1;33m=\u001b[0m \u001b[0mfiltered_city_day\u001b[0m\u001b[1;33m[\u001b[0m\u001b[0mfiltered_city_day\u001b[0m\u001b[1;33m.\u001b[0m\u001b[0mCity\u001b[0m\u001b[1;33m.\u001b[0m\u001b[0misin\u001b[0m\u001b[1;33m(\u001b[0m\u001b[0mcities\u001b[0m\u001b[1;33m)\u001b[0m\u001b[1;33m]\u001b[0m\u001b[1;33m[\u001b[0m\u001b[1;33m[\u001b[0m\u001b[1;34m'Date'\u001b[0m\u001b[1;33m,\u001b[0m\u001b[1;34m'City'\u001b[0m\u001b[1;33m,\u001b[0m\u001b[1;34m'AQI'\u001b[0m\u001b[1;33m,\u001b[0m\u001b[1;34m'AQI_Bucket'\u001b[0m\u001b[1;33m]\u001b[0m\u001b[1;33m]\u001b[0m\u001b[1;33m\u001b[0m\u001b[1;33m\u001b[0m\u001b[0m\n\u001b[0;32m      5\u001b[0m \u001b[0mAQI\u001b[0m\u001b[1;33m.\u001b[0m\u001b[0mhead\u001b[0m\u001b[1;33m(\u001b[0m\u001b[1;33m)\u001b[0m\u001b[1;33m\u001b[0m\u001b[1;33m\u001b[0m\u001b[0m\n",
      "\u001b[1;31mNameError\u001b[0m: name 'city_day' is not defined"
     ]
    }
   ],
   "source": [
    "cities = ['Ahmedabad','Delhi','Bengaluru','Mumbai','Hyderabad','Chennai']\n",
    "\n",
    "filtered_city_day = city_day[city_day['Date'] >= '2019-01-01']\n",
    "AQI = filtered_city_day[filtered_city_day.City.isin(cities)][['Date','City','AQI','AQI_Bucket']]\n",
    "AQI.head()"
   ]
  },
  {
   "cell_type": "code",
   "execution_count": null,
   "metadata": {},
   "outputs": [],
   "source": []
  },
  {
   "cell_type": "code",
   "execution_count": null,
   "metadata": {},
   "outputs": [],
   "source": []
  }
 ],
 "metadata": {
  "kernelspec": {
   "display_name": "Python 3",
   "language": "python",
   "name": "python3"
  },
  "language_info": {
   "codemirror_mode": {
    "name": "ipython",
    "version": 3
   },
   "file_extension": ".py",
   "mimetype": "text/x-python",
   "name": "python",
   "nbconvert_exporter": "python",
   "pygments_lexer": "ipython3",
   "version": "3.8.8"
  }
 },
 "nbformat": 4,
 "nbformat_minor": 4
}
