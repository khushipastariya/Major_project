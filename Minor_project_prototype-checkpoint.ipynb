{
 "cells": [
  {
   "cell_type": "markdown",
   "id": "9a0e55b5",
   "metadata": {},
   "source": [
    "# Importing Libraries\n"
   ]
  },
  {
   "cell_type": "code",
   "execution_count": 1,
   "id": "e2ffc324",
   "metadata": {},
   "outputs": [],
   "source": [
    "import pandas as pd;\n",
    "import numpy as np;"
   ]
  },
  {
   "cell_type": "code",
   "execution_count": 2,
   "id": "c6b92fbc",
   "metadata": {},
   "outputs": [],
   "source": [
    "ds_1=pd.read_csv('city_day.csv');"
   ]
  },
  {
   "cell_type": "code",
   "execution_count": 3,
   "id": "0c545559",
   "metadata": {},
   "outputs": [],
   "source": [
    "new_df = pd.concat([ds_1.iloc[:,0:2],ds_1.iloc[:,-2:]],axis = 1)\n",
    "\n",
    "new_df = new_df[new_df['City'] == 'Delhi']"
   ]
  },
  {
   "cell_type": "code",
   "execution_count": 4,
   "id": "aaca6696",
   "metadata": {},
   "outputs": [],
   "source": [
    "new_df['Date'] = pd.to_datetime(new_df['Date'])"
   ]
  },
  {
   "cell_type": "code",
   "execution_count": 5,
   "id": "076e0258",
   "metadata": {},
   "outputs": [],
   "source": [
    "new_df['Year'] = new_df['Date'].dt.year"
   ]
  },
  {
   "cell_type": "code",
   "execution_count": 6,
   "id": "4515ede1",
   "metadata": {},
   "outputs": [],
   "source": [
    "new_df = new_df.set_index(['Year'])"
   ]
  },
  {
   "cell_type": "code",
   "execution_count": null,
   "id": "cb57d719",
   "metadata": {},
   "outputs": [],
   "source": []
  },
  {
   "cell_type": "code",
   "execution_count": 9,
   "id": "f1a17707",
   "metadata": {},
   "outputs": [],
   "source": [
    "ds_delhi_16_19=new_df.loc['2016'];\n",
    "ds_delhi_16_19=new_df.loc['2017'];"
   ]
  },
  {
   "cell_type": "code",
   "execution_count": 11,
   "id": "09d2dc5f",
   "metadata": {},
   "outputs": [
    {
     "data": {
      "text/html": [
       "<div>\n",
       "<style scoped>\n",
       "    .dataframe tbody tr th:only-of-type {\n",
       "        vertical-align: middle;\n",
       "    }\n",
       "\n",
       "    .dataframe tbody tr th {\n",
       "        vertical-align: top;\n",
       "    }\n",
       "\n",
       "    .dataframe thead th {\n",
       "        text-align: right;\n",
       "    }\n",
       "</style>\n",
       "<table border=\"1\" class=\"dataframe\">\n",
       "  <thead>\n",
       "    <tr style=\"text-align: right;\">\n",
       "      <th></th>\n",
       "      <th>City</th>\n",
       "      <th>Date</th>\n",
       "      <th>AQI</th>\n",
       "      <th>AQI_Bucket</th>\n",
       "    </tr>\n",
       "    <tr>\n",
       "      <th>Year</th>\n",
       "      <th></th>\n",
       "      <th></th>\n",
       "      <th></th>\n",
       "      <th></th>\n",
       "    </tr>\n",
       "  </thead>\n",
       "  <tbody>\n",
       "    <tr>\n",
       "      <th>2017</th>\n",
       "      <td>Delhi</td>\n",
       "      <td>2017-01-01</td>\n",
       "      <td>332.0</td>\n",
       "      <td>Very Poor</td>\n",
       "    </tr>\n",
       "    <tr>\n",
       "      <th>2017</th>\n",
       "      <td>Delhi</td>\n",
       "      <td>2017-01-02</td>\n",
       "      <td>384.0</td>\n",
       "      <td>Very Poor</td>\n",
       "    </tr>\n",
       "    <tr>\n",
       "      <th>2017</th>\n",
       "      <td>Delhi</td>\n",
       "      <td>2017-01-03</td>\n",
       "      <td>373.0</td>\n",
       "      <td>Very Poor</td>\n",
       "    </tr>\n",
       "    <tr>\n",
       "      <th>2017</th>\n",
       "      <td>Delhi</td>\n",
       "      <td>2017-01-04</td>\n",
       "      <td>439.0</td>\n",
       "      <td>Severe</td>\n",
       "    </tr>\n",
       "    <tr>\n",
       "      <th>2017</th>\n",
       "      <td>Delhi</td>\n",
       "      <td>2017-01-05</td>\n",
       "      <td>318.0</td>\n",
       "      <td>Very Poor</td>\n",
       "    </tr>\n",
       "  </tbody>\n",
       "</table>\n",
       "</div>"
      ],
      "text/plain": [
       "       City       Date    AQI AQI_Bucket\n",
       "Year                                    \n",
       "2017  Delhi 2017-01-01  332.0  Very Poor\n",
       "2017  Delhi 2017-01-02  384.0  Very Poor\n",
       "2017  Delhi 2017-01-03  373.0  Very Poor\n",
       "2017  Delhi 2017-01-04  439.0     Severe\n",
       "2017  Delhi 2017-01-05  318.0  Very Poor"
      ]
     },
     "execution_count": 11,
     "metadata": {},
     "output_type": "execute_result"
    }
   ],
   "source": [
    "ds_delhi_16_19.head()"
   ]
  },
  {
   "cell_type": "code",
   "execution_count": 9,
   "id": "fcd0bcc0",
   "metadata": {},
   "outputs": [],
   "source": [
    "aqi_16 = ds_delhi_16.iloc[:,2].values;\n",
    "aqi_17 = ds_delhi_17.iloc[:,2].values;\n",
    "aqi_18 = ds_delhi_18.iloc[:,2].values;\n",
    "aqi_19 = ds_delhi_19.iloc[:,2].values;\n",
    "aqi_20 = ds_delhi_20.iloc[:,2].values;"
   ]
  },
  {
   "cell_type": "code",
   "execution_count": 10,
   "id": "e0aaf455",
   "metadata": {},
   "outputs": [],
   "source": [
    "x_17=np.zeros((362,4));\n",
    "point=0;\n",
    "count=0;\n",
    "for i in range(0,362,1):\n",
    "    for j in range(0,4,1):\n",
    "        x_17[i][j]= aqi_17[point];\n",
    "        point += 1;\n",
    "    count += 1;\n",
    "    point = count;\n",
    "    if (count == 362):\n",
    "        break;"
   ]
  },
  {
   "cell_type": "code",
   "execution_count": 11,
   "id": "e1a0a5f1",
   "metadata": {},
   "outputs": [],
   "source": [
    "x_16=np.zeros((362,4));\n",
    "point=0;\n",
    "count=0;\n",
    "for i in range(0,362,1):\n",
    "    for j in range(0,4,1):\n",
    "        x_16[i][j]= aqi_16[point];\n",
    "        point += 1;\n",
    "    count += 1;\n",
    "    point = count;\n",
    "    if (count == 362):\n",
    "        break;"
   ]
  },
  {
   "cell_type": "code",
   "execution_count": 12,
   "id": "a47eff49",
   "metadata": {},
   "outputs": [],
   "source": [
    "x_18=np.zeros((362,4));\n",
    "point=0;\n",
    "count=0;\n",
    "for i in range(0,362,1):\n",
    "    for j in range(0,4,1):\n",
    "        x_18[i][j]= aqi_18[point];\n",
    "        point += 1;\n",
    "    count += 1;\n",
    "    point = count;\n",
    "    if (count == 362):\n",
    "        break;"
   ]
  },
  {
   "cell_type": "code",
   "execution_count": 13,
   "id": "10ff6bdd",
   "metadata": {},
   "outputs": [
    {
     "data": {
      "text/plain": [
       "array([[462., 439., 405., 394.],\n",
       "       [439., 405., 394., 398.],\n",
       "       [405., 394., 398., 403.],\n",
       "       ...,\n",
       "       [405., 458., 413., 420.],\n",
       "       [458., 413., 420., 484.],\n",
       "       [413., 420., 484., 509.]])"
      ]
     },
     "execution_count": 13,
     "metadata": {},
     "output_type": "execute_result"
    }
   ],
   "source": [
    "x_18"
   ]
  },
  {
   "cell_type": "code",
   "execution_count": 14,
   "id": "b9866f0a",
   "metadata": {},
   "outputs": [],
   "source": [
    "x_19=np.zeros((362,4));\n",
    "point=0;\n",
    "count=0;\n",
    "for i in range(0,362,1):\n",
    "    for j in range(0,4,1):\n",
    "        x_19[i][j]= aqi_19[point];\n",
    "        point += 1;\n",
    "    count += 1;\n",
    "    point = count;\n",
    "    if (count == 362):\n",
    "        break;"
   ]
  },
  {
   "cell_type": "code",
   "execution_count": 15,
   "id": "deb73cb8",
   "metadata": {},
   "outputs": [
    {
     "data": {
      "text/plain": [
       "(362, 4)"
      ]
     },
     "execution_count": 15,
     "metadata": {},
     "output_type": "execute_result"
    }
   ],
   "source": [
    "x_16.shape"
   ]
  },
  {
   "cell_type": "code",
   "execution_count": 16,
   "id": "288d47ae",
   "metadata": {},
   "outputs": [
    {
     "data": {
      "text/plain": [
       "(362, 4)"
      ]
     },
     "execution_count": 16,
     "metadata": {},
     "output_type": "execute_result"
    }
   ],
   "source": [
    "x_17.shape"
   ]
  },
  {
   "cell_type": "code",
   "execution_count": null,
   "id": "0342882f",
   "metadata": {},
   "outputs": [],
   "source": []
  },
  {
   "cell_type": "code",
   "execution_count": 17,
   "id": "63fcce22",
   "metadata": {
    "scrolled": true
   },
   "outputs": [],
   "source": [
    "ds_3=np.concatenate((x_16,x_17,x_18),axis=0);"
   ]
  },
  {
   "cell_type": "code",
   "execution_count": 18,
   "id": "46a9de81",
   "metadata": {},
   "outputs": [
    {
     "data": {
      "text/plain": [
       "(1086, 4)"
      ]
     },
     "execution_count": 18,
     "metadata": {},
     "output_type": "execute_result"
    }
   ],
   "source": [
    "ds_3.shape"
   ]
  },
  {
   "cell_type": "code",
   "execution_count": 19,
   "id": "f3c50a4b",
   "metadata": {},
   "outputs": [],
   "source": [
    "ds_3= pd.DataFrame(ds_3, columns = ['last 3rd','last 2nd','last 1st','present'])"
   ]
  },
  {
   "cell_type": "code",
   "execution_count": 20,
   "id": "4167d1e9",
   "metadata": {},
   "outputs": [],
   "source": [
    "X=ds_3.iloc[:,[0,1,2]].values;\n",
    "Y=ds_3.iloc[:,[-1]].values;"
   ]
  },
  {
   "cell_type": "code",
   "execution_count": 21,
   "id": "b072c1d8",
   "metadata": {},
   "outputs": [
    {
     "data": {
      "text/plain": [
       "array([[463., 465., 426.],\n",
       "       [465., 426., 496.],\n",
       "       [426., 496., 528.],\n",
       "       ...,\n",
       "       [405., 458., 413.],\n",
       "       [458., 413., 420.],\n",
       "       [413., 420., 484.]])"
      ]
     },
     "execution_count": 21,
     "metadata": {},
     "output_type": "execute_result"
    }
   ],
   "source": [
    "X"
   ]
  },
  {
   "cell_type": "code",
   "execution_count": 22,
   "id": "c53ccf49",
   "metadata": {},
   "outputs": [],
   "source": [
    "from sklearn.impute import SimpleImputer;\n",
    "ds_imputer=SimpleImputer(missing_values=np.nan,strategy='mean');\n",
    "ds_imputer.fit(X);\n",
    "X=ds_imputer.transform(X);"
   ]
  },
  {
   "cell_type": "code",
   "execution_count": 23,
   "id": "74aa1f5f",
   "metadata": {},
   "outputs": [],
   "source": [
    "from sklearn.impute import SimpleImputer;\n",
    "ds_imputer=SimpleImputer(missing_values=np.nan,strategy='mean');\n",
    "ds_imputer.fit(Y);\n",
    "Y=ds_imputer.transform(Y);"
   ]
  },
  {
   "cell_type": "code",
   "execution_count": 24,
   "id": "3934541b",
   "metadata": {},
   "outputs": [
    {
     "data": {
      "text/plain": [
       "array([[463., 465., 426.],\n",
       "       [465., 426., 496.],\n",
       "       [426., 496., 528.],\n",
       "       ...,\n",
       "       [405., 458., 413.],\n",
       "       [458., 413., 420.],\n",
       "       [413., 420., 484.]])"
      ]
     },
     "execution_count": 24,
     "metadata": {},
     "output_type": "execute_result"
    }
   ],
   "source": [
    "X"
   ]
  },
  {
   "cell_type": "code",
   "execution_count": 25,
   "id": "2454344a",
   "metadata": {},
   "outputs": [
    {
     "data": {
      "text/plain": [
       "array([[496.],\n",
       "       [528.],\n",
       "       [538.],\n",
       "       ...,\n",
       "       [420.],\n",
       "       [484.],\n",
       "       [509.]])"
      ]
     },
     "execution_count": 25,
     "metadata": {},
     "output_type": "execute_result"
    }
   ],
   "source": [
    "Y"
   ]
  },
  {
   "cell_type": "code",
   "execution_count": 26,
   "id": "81de7304",
   "metadata": {},
   "outputs": [],
   "source": [
    "from sklearn.model_selection import train_test_split;\n",
    "x_train,x_test,y_train,y_test=train_test_split(X,Y,test_size=0.2,random_state=1);"
   ]
  },
  {
   "cell_type": "code",
   "execution_count": 27,
   "id": "780d4de7",
   "metadata": {},
   "outputs": [],
   "source": [
    "from sklearn.svm import SVR\n",
    "regressor = SVR(kernel = 'poly')\n",
    "regressor.fit(x_train, np.ravel(y_train));"
   ]
  },
  {
   "cell_type": "code",
   "execution_count": 28,
   "id": "ea6a179d",
   "metadata": {},
   "outputs": [],
   "source": [
    "y_pred=regressor.predict(x_test);"
   ]
  },
  {
   "cell_type": "code",
   "execution_count": 29,
   "id": "17cfc77d",
   "metadata": {},
   "outputs": [
    {
     "data": {
      "text/plain": [
       "(218,)"
      ]
     },
     "execution_count": 29,
     "metadata": {},
     "output_type": "execute_result"
    }
   ],
   "source": [
    "y_pred.shape"
   ]
  },
  {
   "cell_type": "code",
   "execution_count": 30,
   "id": "7734dd74",
   "metadata": {},
   "outputs": [],
   "source": [
    "from sklearn.metrics import accuracy_score,confusion_matrix;"
   ]
  },
  {
   "cell_type": "code",
   "execution_count": 31,
   "id": "34a65851",
   "metadata": {},
   "outputs": [],
   "source": [
    "ac=y_test-y_pred"
   ]
  },
  {
   "cell_type": "code",
   "execution_count": 32,
   "id": "3c77407a",
   "metadata": {},
   "outputs": [
    {
     "data": {
      "text/plain": [
       "array([[ -36.36090357,  -37.57030011,  -31.47264273, ..., -233.95916259,\n",
       "         -16.29379354,  -82.7695177 ],\n",
       "       [ 150.63909643,  149.42969989,  155.52735727, ...,  -46.95916259,\n",
       "         170.70620646,  104.2304823 ],\n",
       "       [ -82.36090357,  -83.57030011,  -77.47264273, ..., -279.95916259,\n",
       "         -62.29379354, -128.7695177 ],\n",
       "       ...,\n",
       "       [ 213.63909643,  212.42969989,  218.52735727, ...,   16.04083741,\n",
       "         233.70620646,  167.2304823 ],\n",
       "       [-100.36090357, -101.57030011,  -95.47264273, ..., -297.95916259,\n",
       "         -80.29379354, -146.7695177 ],\n",
       "       [  35.63909643,   34.42969989,   40.52735727, ..., -161.95916259,\n",
       "          55.70620646,  -10.7695177 ]])"
      ]
     },
     "execution_count": 32,
     "metadata": {},
     "output_type": "execute_result"
    }
   ],
   "source": [
    "ac"
   ]
  },
  {
   "cell_type": "code",
   "execution_count": 33,
   "id": "9ba42c03",
   "metadata": {},
   "outputs": [],
   "source": [
    "y_test=np.ravel(y_test);\n",
    "y_pred=np.ravel(y_pred);"
   ]
  },
  {
   "cell_type": "code",
   "execution_count": 34,
   "id": "88a46120",
   "metadata": {},
   "outputs": [
    {
     "ename": "ValueError",
     "evalue": "setting an array element with a sequence.",
     "output_type": "error",
     "traceback": [
      "\u001b[1;31m---------------------------------------------------------------------------\u001b[0m",
      "\u001b[1;31mTypeError\u001b[0m                                 Traceback (most recent call last)",
      "\u001b[1;31mTypeError\u001b[0m: only size-1 arrays can be converted to Python scalars",
      "\nThe above exception was the direct cause of the following exception:\n",
      "\u001b[1;31mValueError\u001b[0m                                Traceback (most recent call last)",
      "\u001b[1;32m<ipython-input-34-e2274ee0b6eb>\u001b[0m in \u001b[0;36m<module>\u001b[1;34m\u001b[0m\n\u001b[0;32m      1\u001b[0m \u001b[0msum\u001b[0m\u001b[1;33m=\u001b[0m\u001b[0mnp\u001b[0m\u001b[1;33m.\u001b[0m\u001b[0mzeros\u001b[0m\u001b[1;33m(\u001b[0m\u001b[1;36m218\u001b[0m\u001b[1;33m)\u001b[0m\u001b[1;33m;\u001b[0m\u001b[1;33m\u001b[0m\u001b[1;33m\u001b[0m\u001b[0m\n\u001b[0;32m      2\u001b[0m \u001b[1;32mfor\u001b[0m \u001b[0mi\u001b[0m \u001b[1;32min\u001b[0m \u001b[0mrange\u001b[0m\u001b[1;33m(\u001b[0m\u001b[1;36m0\u001b[0m\u001b[1;33m,\u001b[0m\u001b[1;36m218\u001b[0m\u001b[1;33m,\u001b[0m\u001b[1;36m1\u001b[0m\u001b[1;33m)\u001b[0m\u001b[1;33m:\u001b[0m\u001b[1;33m\u001b[0m\u001b[1;33m\u001b[0m\u001b[0m\n\u001b[1;32m----> 3\u001b[1;33m     \u001b[0msum\u001b[0m\u001b[1;33m[\u001b[0m\u001b[0mi\u001b[0m\u001b[1;33m]\u001b[0m\u001b[1;33m=\u001b[0m\u001b[0mac\u001b[0m\u001b[1;33m[\u001b[0m\u001b[0mi\u001b[0m\u001b[1;33m]\u001b[0m\u001b[1;33m/\u001b[0m\u001b[1;36m218\u001b[0m\u001b[1;33m;\u001b[0m\u001b[1;33m\u001b[0m\u001b[1;33m\u001b[0m\u001b[0m\n\u001b[0m",
      "\u001b[1;31mValueError\u001b[0m: setting an array element with a sequence."
     ]
    }
   ],
   "source": [
    "sum=np.zeros(218);\n",
    "for i in range(0,218,1):\n",
    "    sum[i]=ac[i]/218;"
   ]
  },
  {
   "cell_type": "code",
   "execution_count": 35,
   "id": "6e40162a",
   "metadata": {},
   "outputs": [
    {
     "ename": "NameError",
     "evalue": "name 'per' is not defined",
     "output_type": "error",
     "traceback": [
      "\u001b[1;31m---------------------------------------------------------------------------\u001b[0m",
      "\u001b[1;31mNameError\u001b[0m                                 Traceback (most recent call last)",
      "\u001b[1;32m<ipython-input-35-8317ab211224>\u001b[0m in \u001b[0;36m<module>\u001b[1;34m\u001b[0m\n\u001b[1;32m----> 1\u001b[1;33m \u001b[0mper\u001b[0m\u001b[1;33m\u001b[0m\u001b[1;33m\u001b[0m\u001b[0m\n\u001b[0m",
      "\u001b[1;31mNameError\u001b[0m: name 'per' is not defined"
     ]
    }
   ],
   "source": [
    "per"
   ]
  },
  {
   "cell_type": "code",
   "execution_count": 36,
   "id": "3a4077da",
   "metadata": {},
   "outputs": [],
   "source": [
    "div=y_test+y_pred"
   ]
  },
  {
   "cell_type": "code",
   "execution_count": 37,
   "id": "57e47707",
   "metadata": {},
   "outputs": [],
   "source": [
    "per=ac/div;"
   ]
  },
  {
   "cell_type": "code",
   "execution_count": 38,
   "id": "339ac7a6",
   "metadata": {},
   "outputs": [],
   "source": [
    "per*=100"
   ]
  },
  {
   "cell_type": "code",
   "execution_count": 39,
   "id": "a325e18b",
   "metadata": {},
   "outputs": [],
   "source": [
    "ans=0;\n",
    "for i in range(0,218,1):\n",
    "    ans+=abs(per[i]);"
   ]
  },
  {
   "cell_type": "code",
   "execution_count": 40,
   "id": "7642d95d",
   "metadata": {},
   "outputs": [],
   "source": [
    "ans/=218\n",
    "ans*=100"
   ]
  },
  {
   "cell_type": "code",
   "execution_count": 41,
   "id": "fe574a94",
   "metadata": {},
   "outputs": [
    {
     "data": {
      "text/plain": [
       "array([3546.73495312, 2283.7416537 , 4234.23941942, 1884.60199286,\n",
       "       2699.74460667, 1995.20135992, 3547.96683586, 2789.52387805,\n",
       "       4804.11134888, 1874.43203773, 2345.21179008, 2284.98110576,\n",
       "       2252.56249115, 2574.99490082, 1560.04916359, 3210.22206078,\n",
       "       1641.23933743, 1586.86609284, 2909.65784029, 1749.55788998,\n",
       "       2651.4732148 , 2646.14054964, 2955.02062242, 1690.57236579,\n",
       "       2792.7357105 , 2321.7477171 , 1760.81204036, 2076.66475626,\n",
       "       1670.54210641, 1596.34508036, 1922.10164457, 4806.13895583,\n",
       "       2478.01606267, 1905.63412293, 1869.62232949, 2288.68827342,\n",
       "       3378.55135499, 2301.55025319, 4949.78428762, 1824.59232226,\n",
       "       2081.35422773, 2087.28298368, 1754.99621056, 1777.60959317,\n",
       "       4462.0887694 , 4237.26591835, 1866.4884126 , 2177.30309917,\n",
       "       2311.42993068, 2821.93397026, 3806.61671905, 2199.09479325,\n",
       "       1833.57389903, 2418.39851579, 2935.54354285, 2565.66345753,\n",
       "       4959.16437709, 2225.34263783, 2525.00665418, 5520.14211175,\n",
       "       5174.89719076, 1773.75754098, 2712.29111743, 2725.06928234,\n",
       "       2809.29571063, 4655.71263841, 2844.0796534 , 2140.20956358,\n",
       "       2612.80466741, 1612.24990693, 1756.61934229, 1690.00111402,\n",
       "       2637.3259485 , 4186.68040254, 1858.7552069 , 3610.88547051,\n",
       "       1808.66526517, 3141.22629588, 2332.89895591, 1780.31028609,\n",
       "       3643.6943702 , 4707.86616882, 2975.25889792, 2698.53094561,\n",
       "       1761.47178149, 3304.28798546, 6769.22500279, 4051.08553779,\n",
       "       4505.78137939, 5005.02384526, 2503.4814689 , 2244.40127694,\n",
       "       3342.64985853, 1606.294566  , 5525.27773036, 1796.89585141,\n",
       "       1791.00945858, 3984.53652555, 3000.20439291, 2238.14554285,\n",
       "       3927.28891332, 3373.50435964, 1986.97505558, 4169.77512685,\n",
       "       2768.87397463, 2646.91345848, 1793.15255843, 1663.25327783,\n",
       "       4031.08874937, 1800.00309381, 1742.657351  , 4488.8898619 ,\n",
       "       3120.10684093, 1937.21787281, 1745.25445815, 5599.53352892,\n",
       "       5148.45344895, 5125.53565139, 2054.45535475, 5120.48226694,\n",
       "       3596.94206327, 4182.60425434, 2184.89683301, 1607.2006916 ,\n",
       "       4264.2247838 , 4421.89574186, 2886.13725561, 1659.93246334,\n",
       "       4693.43304382, 6448.46807516, 2188.79357142, 3872.83261219,\n",
       "       2482.81302668, 2136.32009183, 2953.4707518 , 3323.88733342,\n",
       "       1652.63965715, 3823.15870367, 4778.35447392, 2156.7261778 ,\n",
       "       2707.74815718, 3631.54851809, 2442.06995872, 1630.4940044 ,\n",
       "       2520.9475041 , 1730.83056614, 3814.27937121, 3694.17503431,\n",
       "       2445.47119151, 5965.83513192, 3207.27618501, 6334.07467004,\n",
       "       2229.94389306, 1703.36555894, 2190.95743278, 2853.63500126,\n",
       "       1853.14207413, 3857.74398413, 3005.17369954, 3508.33427664,\n",
       "       4912.46278061, 4923.45447615, 2402.8227953 , 1791.60044252,\n",
       "       1914.94163322, 2467.00901865, 4746.23160401, 4428.52760934,\n",
       "       1971.35069036, 1737.00705255, 2932.66192161, 1950.05226008,\n",
       "       1874.41079688, 1787.38396276, 1864.65328083, 2332.19272216,\n",
       "       4561.77906936, 1670.43957963, 3429.64939231, 1731.25637524,\n",
       "       1436.26874182, 5166.48496871, 1638.40415354, 1645.47543102,\n",
       "       3246.33580532, 1694.08485986, 2825.10897098, 1684.90305936,\n",
       "       1736.42562319, 2577.65497556, 1765.9315909 , 2757.52624273,\n",
       "       2597.81074063, 1655.24166247, 2454.36191642, 2049.64908574,\n",
       "       1717.59859024, 1608.04778362, 1650.75368636, 1806.55154133,\n",
       "       1826.12244018, 1427.48417654, 1654.66975216, 2774.37021086,\n",
       "       1868.42254029, 1703.41071174, 2994.53797403, 3143.47002279,\n",
       "       3255.73827574, 5892.09384818, 3844.76448216, 1814.8363454 ,\n",
       "       2514.98050846, 3085.2955568 , 1746.48465674, 1819.64620598,\n",
       "       5044.73670263, 2321.08745878])"
      ]
     },
     "execution_count": 41,
     "metadata": {},
     "output_type": "execute_result"
    }
   ],
   "source": [
    "ans"
   ]
  },
  {
   "cell_type": "code",
   "execution_count": 42,
   "id": "e76486c1",
   "metadata": {},
   "outputs": [
    {
     "data": {
      "text/plain": [
       "array([492., 485., 426., 366., 354., 335., 285., 281., 231., 255., 309.,\n",
       "       352., 381., 314., 241., 286., 287., 262., 290., 282., 359., 378.,\n",
       "       273., 155., 251., 349., 365., 302., 218., 195., 203., 244., 254.,\n",
       "       297., 336., 344., 277., 307., 315., 310., 328., 347., 343., 279.,\n",
       "       186., 174., 254., 323., 292., 300., 253., 170., 104., 221., 169.,\n",
       "       244., 303., 270., 214., 144., 105., 192., 226., 200., 112.,  82.,\n",
       "        77., 156., 138., 186., 128., 125., 170., 131., 124., 148., 164.,\n",
       "       162., 191., 209., 205., 198., 127., 124.,  92.,  93.,  76.,  51.,\n",
       "        64.,  74.,  81.,  80.,  78.,  84.,  90., 103., 134., 100.,  91.,\n",
       "        89., 111., 126., 102., 119., 134., 152., 172., 123., 102.,  95.,\n",
       "       115., 102., 122., 129., 143., 121., 119.,  98., 105., 123., 128.,\n",
       "       140., 127., 110.,  92., 117., 139., 140., 138., 142., 127., 113.,\n",
       "       122., 132., 154., 125., 175., 202., 222., 238., 196., 149., 199.,\n",
       "       202., 174., 157., 153., 156., 174., 129.,  84.,  80., 100., 123.,\n",
       "       123., 144., 126., 102., 104., 112., 138., 154., 142., 152., 132.,\n",
       "       147., 130., 126., 110., 107., 132., 158., 105., 104.,  85.,  71.,\n",
       "        86., 104., 112., 196., 233., 114., 101.])"
      ]
     },
     "execution_count": 42,
     "metadata": {},
     "output_type": "execute_result"
    }
   ],
   "source": [
    "aqi_20"
   ]
  },
  {
   "cell_type": "code",
   "execution_count": 43,
   "id": "023f3dab",
   "metadata": {},
   "outputs": [
    {
     "data": {
      "text/plain": [
       "(183,)"
      ]
     },
     "execution_count": 43,
     "metadata": {},
     "output_type": "execute_result"
    }
   ],
   "source": [
    "aqi_20.shape"
   ]
  },
  {
   "cell_type": "code",
   "execution_count": 44,
   "id": "6bef530a",
   "metadata": {},
   "outputs": [],
   "source": [
    "ds_4=np.zeros((183,4));"
   ]
  },
  {
   "cell_type": "code",
   "execution_count": 45,
   "id": "5ffc87b7",
   "metadata": {},
   "outputs": [],
   "source": [
    "ds_4[0][0]=420;\n",
    "ds_4[0][1]=484;\n",
    "ds_4[0][2]=509;\n",
    "ds_4[0][3]=regressor.predict([[420,484,509]]);"
   ]
  },
  {
   "cell_type": "code",
   "execution_count": 46,
   "id": "603d0e4d",
   "metadata": {},
   "outputs": [],
   "source": [
    "np.set_printoptions(suppress=True)"
   ]
  },
  {
   "cell_type": "code",
   "execution_count": 47,
   "id": "182e2a11",
   "metadata": {},
   "outputs": [
    {
     "name": "stdout",
     "output_type": "stream",
     "text": [
      " -  [718.10386319]\n",
      " -  [1214.6894177]\n",
      " -  [4333.39988033]\n",
      " -  [140952.30234478]\n",
      " -  [3.90384219e+09]\n",
      " -  [8.13469889e+22]\n",
      " -  [7.36008651e+62]\n",
      " -  [5.4513897e+182]\n",
      " -  [nan]\n"
     ]
    },
    {
     "ename": "ValueError",
     "evalue": "Input contains NaN, infinity or a value too large for dtype('float64').",
     "output_type": "error",
     "traceback": [
      "\u001b[1;31m---------------------------------------------------------------------------\u001b[0m",
      "\u001b[1;31mValueError\u001b[0m                                Traceback (most recent call last)",
      "\u001b[1;32m<ipython-input-47-1bc27308f052>\u001b[0m in \u001b[0;36m<module>\u001b[1;34m\u001b[0m\n\u001b[0;32m      2\u001b[0m     \u001b[1;32mfor\u001b[0m \u001b[0mj\u001b[0m \u001b[1;32min\u001b[0m \u001b[0mrange\u001b[0m\u001b[1;33m(\u001b[0m\u001b[1;36m0\u001b[0m\u001b[1;33m,\u001b[0m\u001b[1;36m4\u001b[0m\u001b[1;33m,\u001b[0m\u001b[1;36m1\u001b[0m\u001b[1;33m)\u001b[0m\u001b[1;33m:\u001b[0m\u001b[1;33m\u001b[0m\u001b[1;33m\u001b[0m\u001b[0m\n\u001b[0;32m      3\u001b[0m         \u001b[1;32mif\u001b[0m\u001b[1;33m(\u001b[0m\u001b[0mj\u001b[0m \u001b[1;33m==\u001b[0m \u001b[1;36m3\u001b[0m\u001b[1;33m)\u001b[0m\u001b[1;33m:\u001b[0m\u001b[1;33m\u001b[0m\u001b[1;33m\u001b[0m\u001b[0m\n\u001b[1;32m----> 4\u001b[1;33m             \u001b[0mprint\u001b[0m\u001b[1;33m(\u001b[0m\u001b[1;34m\" - \"\u001b[0m\u001b[1;33m,\u001b[0m\u001b[0mregressor\u001b[0m\u001b[1;33m.\u001b[0m\u001b[0mpredict\u001b[0m\u001b[1;33m(\u001b[0m\u001b[1;33m[\u001b[0m\u001b[1;33m[\u001b[0m\u001b[0mds_4\u001b[0m\u001b[1;33m[\u001b[0m\u001b[0mi\u001b[0m\u001b[1;33m]\u001b[0m\u001b[1;33m[\u001b[0m\u001b[1;36m0\u001b[0m\u001b[1;33m]\u001b[0m\u001b[1;33m,\u001b[0m \u001b[0mds_4\u001b[0m\u001b[1;33m[\u001b[0m\u001b[0mi\u001b[0m\u001b[1;33m]\u001b[0m\u001b[1;33m[\u001b[0m\u001b[1;36m1\u001b[0m\u001b[1;33m]\u001b[0m\u001b[1;33m,\u001b[0m \u001b[0mds_4\u001b[0m\u001b[1;33m[\u001b[0m\u001b[0mi\u001b[0m\u001b[1;33m]\u001b[0m\u001b[1;33m[\u001b[0m\u001b[1;36m2\u001b[0m\u001b[1;33m]\u001b[0m\u001b[1;33m]\u001b[0m\u001b[1;33m]\u001b[0m\u001b[1;33m)\u001b[0m\u001b[1;33m)\u001b[0m\u001b[1;33m;\u001b[0m\u001b[1;33m\u001b[0m\u001b[1;33m\u001b[0m\u001b[0m\n\u001b[0m\u001b[0;32m      5\u001b[0m             \u001b[0mds_4\u001b[0m\u001b[1;33m[\u001b[0m\u001b[0mi\u001b[0m\u001b[1;33m]\u001b[0m\u001b[1;33m[\u001b[0m\u001b[0mj\u001b[0m\u001b[1;33m]\u001b[0m\u001b[1;33m=\u001b[0m\u001b[0mregressor\u001b[0m\u001b[1;33m.\u001b[0m\u001b[0mpredict\u001b[0m\u001b[1;33m(\u001b[0m\u001b[1;33m[\u001b[0m\u001b[1;33m[\u001b[0m\u001b[0mds_4\u001b[0m\u001b[1;33m[\u001b[0m\u001b[0mi\u001b[0m\u001b[1;33m]\u001b[0m\u001b[1;33m[\u001b[0m\u001b[1;36m0\u001b[0m\u001b[1;33m]\u001b[0m\u001b[1;33m,\u001b[0m \u001b[0mds_4\u001b[0m\u001b[1;33m[\u001b[0m\u001b[0mi\u001b[0m\u001b[1;33m]\u001b[0m\u001b[1;33m[\u001b[0m\u001b[1;36m1\u001b[0m\u001b[1;33m]\u001b[0m\u001b[1;33m,\u001b[0m \u001b[0mds_4\u001b[0m\u001b[1;33m[\u001b[0m\u001b[0mi\u001b[0m\u001b[1;33m]\u001b[0m\u001b[1;33m[\u001b[0m\u001b[1;36m2\u001b[0m\u001b[1;33m]\u001b[0m\u001b[1;33m]\u001b[0m\u001b[1;33m]\u001b[0m\u001b[1;33m)\u001b[0m\u001b[1;33m;\u001b[0m\u001b[1;33m\u001b[0m\u001b[1;33m\u001b[0m\u001b[0m\n\u001b[0;32m      6\u001b[0m         \u001b[1;32mif\u001b[0m\u001b[1;33m(\u001b[0m\u001b[0mj\u001b[0m \u001b[1;33m<\u001b[0m \u001b[1;36m3\u001b[0m\u001b[1;33m)\u001b[0m\u001b[1;33m:\u001b[0m\u001b[1;33m\u001b[0m\u001b[1;33m\u001b[0m\u001b[0m\n",
      "\u001b[1;32mC:\\ProgramData\\Anaconda3\\lib\\site-packages\\sklearn\\svm\\_base.py\u001b[0m in \u001b[0;36mpredict\u001b[1;34m(self, X)\u001b[0m\n\u001b[0;32m    340\u001b[0m         \u001b[0my_pred\u001b[0m \u001b[1;33m:\u001b[0m \u001b[0mndarray\u001b[0m \u001b[0mof\u001b[0m \u001b[0mshape\u001b[0m \u001b[1;33m(\u001b[0m\u001b[0mn_samples\u001b[0m\u001b[1;33m,\u001b[0m\u001b[1;33m)\u001b[0m\u001b[1;33m\u001b[0m\u001b[1;33m\u001b[0m\u001b[0m\n\u001b[0;32m    341\u001b[0m         \"\"\"\n\u001b[1;32m--> 342\u001b[1;33m         \u001b[0mX\u001b[0m \u001b[1;33m=\u001b[0m \u001b[0mself\u001b[0m\u001b[1;33m.\u001b[0m\u001b[0m_validate_for_predict\u001b[0m\u001b[1;33m(\u001b[0m\u001b[0mX\u001b[0m\u001b[1;33m)\u001b[0m\u001b[1;33m\u001b[0m\u001b[1;33m\u001b[0m\u001b[0m\n\u001b[0m\u001b[0;32m    343\u001b[0m         \u001b[0mpredict\u001b[0m \u001b[1;33m=\u001b[0m \u001b[0mself\u001b[0m\u001b[1;33m.\u001b[0m\u001b[0m_sparse_predict\u001b[0m \u001b[1;32mif\u001b[0m \u001b[0mself\u001b[0m\u001b[1;33m.\u001b[0m\u001b[0m_sparse\u001b[0m \u001b[1;32melse\u001b[0m \u001b[0mself\u001b[0m\u001b[1;33m.\u001b[0m\u001b[0m_dense_predict\u001b[0m\u001b[1;33m\u001b[0m\u001b[1;33m\u001b[0m\u001b[0m\n\u001b[0;32m    344\u001b[0m         \u001b[1;32mreturn\u001b[0m \u001b[0mpredict\u001b[0m\u001b[1;33m(\u001b[0m\u001b[0mX\u001b[0m\u001b[1;33m)\u001b[0m\u001b[1;33m\u001b[0m\u001b[1;33m\u001b[0m\u001b[0m\n",
      "\u001b[1;32mC:\\ProgramData\\Anaconda3\\lib\\site-packages\\sklearn\\svm\\_base.py\u001b[0m in \u001b[0;36m_validate_for_predict\u001b[1;34m(self, X)\u001b[0m\n\u001b[0;32m    472\u001b[0m \u001b[1;33m\u001b[0m\u001b[0m\n\u001b[0;32m    473\u001b[0m         \u001b[1;32mif\u001b[0m \u001b[1;32mnot\u001b[0m \u001b[0mcallable\u001b[0m\u001b[1;33m(\u001b[0m\u001b[0mself\u001b[0m\u001b[1;33m.\u001b[0m\u001b[0mkernel\u001b[0m\u001b[1;33m)\u001b[0m\u001b[1;33m:\u001b[0m\u001b[1;33m\u001b[0m\u001b[1;33m\u001b[0m\u001b[0m\n\u001b[1;32m--> 474\u001b[1;33m             X = check_array(X, accept_sparse='csr', dtype=np.float64,\n\u001b[0m\u001b[0;32m    475\u001b[0m                             order=\"C\", accept_large_sparse=False)\n\u001b[0;32m    476\u001b[0m \u001b[1;33m\u001b[0m\u001b[0m\n",
      "\u001b[1;32mC:\\ProgramData\\Anaconda3\\lib\\site-packages\\sklearn\\utils\\validation.py\u001b[0m in \u001b[0;36minner_f\u001b[1;34m(*args, **kwargs)\u001b[0m\n\u001b[0;32m     61\u001b[0m             \u001b[0mextra_args\u001b[0m \u001b[1;33m=\u001b[0m \u001b[0mlen\u001b[0m\u001b[1;33m(\u001b[0m\u001b[0margs\u001b[0m\u001b[1;33m)\u001b[0m \u001b[1;33m-\u001b[0m \u001b[0mlen\u001b[0m\u001b[1;33m(\u001b[0m\u001b[0mall_args\u001b[0m\u001b[1;33m)\u001b[0m\u001b[1;33m\u001b[0m\u001b[1;33m\u001b[0m\u001b[0m\n\u001b[0;32m     62\u001b[0m             \u001b[1;32mif\u001b[0m \u001b[0mextra_args\u001b[0m \u001b[1;33m<=\u001b[0m \u001b[1;36m0\u001b[0m\u001b[1;33m:\u001b[0m\u001b[1;33m\u001b[0m\u001b[1;33m\u001b[0m\u001b[0m\n\u001b[1;32m---> 63\u001b[1;33m                 \u001b[1;32mreturn\u001b[0m \u001b[0mf\u001b[0m\u001b[1;33m(\u001b[0m\u001b[1;33m*\u001b[0m\u001b[0margs\u001b[0m\u001b[1;33m,\u001b[0m \u001b[1;33m**\u001b[0m\u001b[0mkwargs\u001b[0m\u001b[1;33m)\u001b[0m\u001b[1;33m\u001b[0m\u001b[1;33m\u001b[0m\u001b[0m\n\u001b[0m\u001b[0;32m     64\u001b[0m \u001b[1;33m\u001b[0m\u001b[0m\n\u001b[0;32m     65\u001b[0m             \u001b[1;31m# extra_args > 0\u001b[0m\u001b[1;33m\u001b[0m\u001b[1;33m\u001b[0m\u001b[1;33m\u001b[0m\u001b[0m\n",
      "\u001b[1;32mC:\\ProgramData\\Anaconda3\\lib\\site-packages\\sklearn\\utils\\validation.py\u001b[0m in \u001b[0;36mcheck_array\u001b[1;34m(array, accept_sparse, accept_large_sparse, dtype, order, copy, force_all_finite, ensure_2d, allow_nd, ensure_min_samples, ensure_min_features, estimator)\u001b[0m\n\u001b[0;32m    661\u001b[0m \u001b[1;33m\u001b[0m\u001b[0m\n\u001b[0;32m    662\u001b[0m         \u001b[1;32mif\u001b[0m \u001b[0mforce_all_finite\u001b[0m\u001b[1;33m:\u001b[0m\u001b[1;33m\u001b[0m\u001b[1;33m\u001b[0m\u001b[0m\n\u001b[1;32m--> 663\u001b[1;33m             _assert_all_finite(array,\n\u001b[0m\u001b[0;32m    664\u001b[0m                                allow_nan=force_all_finite == 'allow-nan')\n\u001b[0;32m    665\u001b[0m \u001b[1;33m\u001b[0m\u001b[0m\n",
      "\u001b[1;32mC:\\ProgramData\\Anaconda3\\lib\\site-packages\\sklearn\\utils\\validation.py\u001b[0m in \u001b[0;36m_assert_all_finite\u001b[1;34m(X, allow_nan, msg_dtype)\u001b[0m\n\u001b[0;32m    101\u001b[0m                 not allow_nan and not np.isfinite(X).all()):\n\u001b[0;32m    102\u001b[0m             \u001b[0mtype_err\u001b[0m \u001b[1;33m=\u001b[0m \u001b[1;34m'infinity'\u001b[0m \u001b[1;32mif\u001b[0m \u001b[0mallow_nan\u001b[0m \u001b[1;32melse\u001b[0m \u001b[1;34m'NaN, infinity'\u001b[0m\u001b[1;33m\u001b[0m\u001b[1;33m\u001b[0m\u001b[0m\n\u001b[1;32m--> 103\u001b[1;33m             raise ValueError(\n\u001b[0m\u001b[0;32m    104\u001b[0m                     \u001b[0mmsg_err\u001b[0m\u001b[1;33m.\u001b[0m\u001b[0mformat\u001b[0m\u001b[1;33m\u001b[0m\u001b[1;33m\u001b[0m\u001b[0m\n\u001b[0;32m    105\u001b[0m                     (type_err,\n",
      "\u001b[1;31mValueError\u001b[0m: Input contains NaN, infinity or a value too large for dtype('float64')."
     ]
    }
   ],
   "source": [
    "for i in range(1,183,1):\n",
    "    for j in range(0,4,1):\n",
    "        if(j == 3):\n",
    "            print(\" - \",regressor.predict([[ds_4[i][0], ds_4[i][1], ds_4[i][2]]]));\n",
    "            ds_4[i][j]=regressor.predict([[ds_4[i][0], ds_4[i][1], ds_4[i][2]]]);\n",
    "        if(j < 3):\n",
    "            ds_4[i][j]=ds_4[i-1][j+1];"
   ]
  },
  {
   "cell_type": "code",
   "execution_count": 48,
   "id": "97c81bda",
   "metadata": {
    "scrolled": true
   },
   "outputs": [
    {
     "name": "stdout",
     "output_type": "stream",
     "text": [
      "[[4.20000000e+002 4.84000000e+002 5.09000000e+002 5.60676619e+002]\n",
      " [4.84000000e+002 5.09000000e+002 5.60676619e+002 7.18103863e+002]\n",
      " [5.09000000e+002 5.60676619e+002 7.18103863e+002 1.21468942e+003]\n",
      " [5.60676619e+002 7.18103863e+002 1.21468942e+003 4.33339988e+003]\n",
      " [7.18103863e+002 1.21468942e+003 4.33339988e+003 1.40952302e+005]\n",
      " [1.21468942e+003 4.33339988e+003 1.40952302e+005 3.90384219e+009]\n",
      " [4.33339988e+003 1.40952302e+005 3.90384219e+009 8.13469889e+022]\n",
      " [1.40952302e+005 3.90384219e+009 8.13469889e+022 7.36008651e+062]\n",
      " [3.90384219e+009 8.13469889e+022 7.36008651e+062 5.45138970e+182]\n",
      " [8.13469889e+022 7.36008651e+062 5.45138970e+182             nan]\n",
      " [7.36008651e+062 5.45138970e+182             nan 0.00000000e+000]\n",
      " [0.00000000e+000 0.00000000e+000 0.00000000e+000 0.00000000e+000]\n",
      " [0.00000000e+000 0.00000000e+000 0.00000000e+000 0.00000000e+000]\n",
      " [0.00000000e+000 0.00000000e+000 0.00000000e+000 0.00000000e+000]\n",
      " [0.00000000e+000 0.00000000e+000 0.00000000e+000 0.00000000e+000]\n",
      " [0.00000000e+000 0.00000000e+000 0.00000000e+000 0.00000000e+000]\n",
      " [0.00000000e+000 0.00000000e+000 0.00000000e+000 0.00000000e+000]\n",
      " [0.00000000e+000 0.00000000e+000 0.00000000e+000 0.00000000e+000]\n",
      " [0.00000000e+000 0.00000000e+000 0.00000000e+000 0.00000000e+000]\n",
      " [0.00000000e+000 0.00000000e+000 0.00000000e+000 0.00000000e+000]\n",
      " [0.00000000e+000 0.00000000e+000 0.00000000e+000 0.00000000e+000]\n",
      " [0.00000000e+000 0.00000000e+000 0.00000000e+000 0.00000000e+000]\n",
      " [0.00000000e+000 0.00000000e+000 0.00000000e+000 0.00000000e+000]\n",
      " [0.00000000e+000 0.00000000e+000 0.00000000e+000 0.00000000e+000]\n",
      " [0.00000000e+000 0.00000000e+000 0.00000000e+000 0.00000000e+000]\n",
      " [0.00000000e+000 0.00000000e+000 0.00000000e+000 0.00000000e+000]\n",
      " [0.00000000e+000 0.00000000e+000 0.00000000e+000 0.00000000e+000]\n",
      " [0.00000000e+000 0.00000000e+000 0.00000000e+000 0.00000000e+000]\n",
      " [0.00000000e+000 0.00000000e+000 0.00000000e+000 0.00000000e+000]\n",
      " [0.00000000e+000 0.00000000e+000 0.00000000e+000 0.00000000e+000]\n",
      " [0.00000000e+000 0.00000000e+000 0.00000000e+000 0.00000000e+000]\n",
      " [0.00000000e+000 0.00000000e+000 0.00000000e+000 0.00000000e+000]\n",
      " [0.00000000e+000 0.00000000e+000 0.00000000e+000 0.00000000e+000]\n",
      " [0.00000000e+000 0.00000000e+000 0.00000000e+000 0.00000000e+000]\n",
      " [0.00000000e+000 0.00000000e+000 0.00000000e+000 0.00000000e+000]\n",
      " [0.00000000e+000 0.00000000e+000 0.00000000e+000 0.00000000e+000]\n",
      " [0.00000000e+000 0.00000000e+000 0.00000000e+000 0.00000000e+000]\n",
      " [0.00000000e+000 0.00000000e+000 0.00000000e+000 0.00000000e+000]\n",
      " [0.00000000e+000 0.00000000e+000 0.00000000e+000 0.00000000e+000]\n",
      " [0.00000000e+000 0.00000000e+000 0.00000000e+000 0.00000000e+000]\n",
      " [0.00000000e+000 0.00000000e+000 0.00000000e+000 0.00000000e+000]\n",
      " [0.00000000e+000 0.00000000e+000 0.00000000e+000 0.00000000e+000]\n",
      " [0.00000000e+000 0.00000000e+000 0.00000000e+000 0.00000000e+000]\n",
      " [0.00000000e+000 0.00000000e+000 0.00000000e+000 0.00000000e+000]\n",
      " [0.00000000e+000 0.00000000e+000 0.00000000e+000 0.00000000e+000]\n",
      " [0.00000000e+000 0.00000000e+000 0.00000000e+000 0.00000000e+000]\n",
      " [0.00000000e+000 0.00000000e+000 0.00000000e+000 0.00000000e+000]\n",
      " [0.00000000e+000 0.00000000e+000 0.00000000e+000 0.00000000e+000]\n",
      " [0.00000000e+000 0.00000000e+000 0.00000000e+000 0.00000000e+000]\n",
      " [0.00000000e+000 0.00000000e+000 0.00000000e+000 0.00000000e+000]\n",
      " [0.00000000e+000 0.00000000e+000 0.00000000e+000 0.00000000e+000]\n",
      " [0.00000000e+000 0.00000000e+000 0.00000000e+000 0.00000000e+000]\n",
      " [0.00000000e+000 0.00000000e+000 0.00000000e+000 0.00000000e+000]\n",
      " [0.00000000e+000 0.00000000e+000 0.00000000e+000 0.00000000e+000]\n",
      " [0.00000000e+000 0.00000000e+000 0.00000000e+000 0.00000000e+000]\n",
      " [0.00000000e+000 0.00000000e+000 0.00000000e+000 0.00000000e+000]\n",
      " [0.00000000e+000 0.00000000e+000 0.00000000e+000 0.00000000e+000]\n",
      " [0.00000000e+000 0.00000000e+000 0.00000000e+000 0.00000000e+000]\n",
      " [0.00000000e+000 0.00000000e+000 0.00000000e+000 0.00000000e+000]\n",
      " [0.00000000e+000 0.00000000e+000 0.00000000e+000 0.00000000e+000]\n",
      " [0.00000000e+000 0.00000000e+000 0.00000000e+000 0.00000000e+000]\n",
      " [0.00000000e+000 0.00000000e+000 0.00000000e+000 0.00000000e+000]\n",
      " [0.00000000e+000 0.00000000e+000 0.00000000e+000 0.00000000e+000]\n",
      " [0.00000000e+000 0.00000000e+000 0.00000000e+000 0.00000000e+000]\n",
      " [0.00000000e+000 0.00000000e+000 0.00000000e+000 0.00000000e+000]\n",
      " [0.00000000e+000 0.00000000e+000 0.00000000e+000 0.00000000e+000]\n",
      " [0.00000000e+000 0.00000000e+000 0.00000000e+000 0.00000000e+000]\n",
      " [0.00000000e+000 0.00000000e+000 0.00000000e+000 0.00000000e+000]\n",
      " [0.00000000e+000 0.00000000e+000 0.00000000e+000 0.00000000e+000]\n",
      " [0.00000000e+000 0.00000000e+000 0.00000000e+000 0.00000000e+000]\n",
      " [0.00000000e+000 0.00000000e+000 0.00000000e+000 0.00000000e+000]\n",
      " [0.00000000e+000 0.00000000e+000 0.00000000e+000 0.00000000e+000]\n",
      " [0.00000000e+000 0.00000000e+000 0.00000000e+000 0.00000000e+000]\n",
      " [0.00000000e+000 0.00000000e+000 0.00000000e+000 0.00000000e+000]\n",
      " [0.00000000e+000 0.00000000e+000 0.00000000e+000 0.00000000e+000]\n",
      " [0.00000000e+000 0.00000000e+000 0.00000000e+000 0.00000000e+000]\n",
      " [0.00000000e+000 0.00000000e+000 0.00000000e+000 0.00000000e+000]\n",
      " [0.00000000e+000 0.00000000e+000 0.00000000e+000 0.00000000e+000]\n",
      " [0.00000000e+000 0.00000000e+000 0.00000000e+000 0.00000000e+000]\n",
      " [0.00000000e+000 0.00000000e+000 0.00000000e+000 0.00000000e+000]\n",
      " [0.00000000e+000 0.00000000e+000 0.00000000e+000 0.00000000e+000]\n",
      " [0.00000000e+000 0.00000000e+000 0.00000000e+000 0.00000000e+000]\n",
      " [0.00000000e+000 0.00000000e+000 0.00000000e+000 0.00000000e+000]\n",
      " [0.00000000e+000 0.00000000e+000 0.00000000e+000 0.00000000e+000]\n",
      " [0.00000000e+000 0.00000000e+000 0.00000000e+000 0.00000000e+000]\n",
      " [0.00000000e+000 0.00000000e+000 0.00000000e+000 0.00000000e+000]\n",
      " [0.00000000e+000 0.00000000e+000 0.00000000e+000 0.00000000e+000]\n",
      " [0.00000000e+000 0.00000000e+000 0.00000000e+000 0.00000000e+000]\n",
      " [0.00000000e+000 0.00000000e+000 0.00000000e+000 0.00000000e+000]\n",
      " [0.00000000e+000 0.00000000e+000 0.00000000e+000 0.00000000e+000]\n",
      " [0.00000000e+000 0.00000000e+000 0.00000000e+000 0.00000000e+000]\n",
      " [0.00000000e+000 0.00000000e+000 0.00000000e+000 0.00000000e+000]\n",
      " [0.00000000e+000 0.00000000e+000 0.00000000e+000 0.00000000e+000]\n",
      " [0.00000000e+000 0.00000000e+000 0.00000000e+000 0.00000000e+000]\n",
      " [0.00000000e+000 0.00000000e+000 0.00000000e+000 0.00000000e+000]\n",
      " [0.00000000e+000 0.00000000e+000 0.00000000e+000 0.00000000e+000]\n",
      " [0.00000000e+000 0.00000000e+000 0.00000000e+000 0.00000000e+000]\n",
      " [0.00000000e+000 0.00000000e+000 0.00000000e+000 0.00000000e+000]\n",
      " [0.00000000e+000 0.00000000e+000 0.00000000e+000 0.00000000e+000]\n",
      " [0.00000000e+000 0.00000000e+000 0.00000000e+000 0.00000000e+000]\n",
      " [0.00000000e+000 0.00000000e+000 0.00000000e+000 0.00000000e+000]\n",
      " [0.00000000e+000 0.00000000e+000 0.00000000e+000 0.00000000e+000]\n",
      " [0.00000000e+000 0.00000000e+000 0.00000000e+000 0.00000000e+000]\n",
      " [0.00000000e+000 0.00000000e+000 0.00000000e+000 0.00000000e+000]\n",
      " [0.00000000e+000 0.00000000e+000 0.00000000e+000 0.00000000e+000]\n",
      " [0.00000000e+000 0.00000000e+000 0.00000000e+000 0.00000000e+000]\n",
      " [0.00000000e+000 0.00000000e+000 0.00000000e+000 0.00000000e+000]\n",
      " [0.00000000e+000 0.00000000e+000 0.00000000e+000 0.00000000e+000]\n",
      " [0.00000000e+000 0.00000000e+000 0.00000000e+000 0.00000000e+000]\n",
      " [0.00000000e+000 0.00000000e+000 0.00000000e+000 0.00000000e+000]\n",
      " [0.00000000e+000 0.00000000e+000 0.00000000e+000 0.00000000e+000]\n",
      " [0.00000000e+000 0.00000000e+000 0.00000000e+000 0.00000000e+000]\n",
      " [0.00000000e+000 0.00000000e+000 0.00000000e+000 0.00000000e+000]\n",
      " [0.00000000e+000 0.00000000e+000 0.00000000e+000 0.00000000e+000]\n",
      " [0.00000000e+000 0.00000000e+000 0.00000000e+000 0.00000000e+000]\n",
      " [0.00000000e+000 0.00000000e+000 0.00000000e+000 0.00000000e+000]\n",
      " [0.00000000e+000 0.00000000e+000 0.00000000e+000 0.00000000e+000]\n",
      " [0.00000000e+000 0.00000000e+000 0.00000000e+000 0.00000000e+000]\n",
      " [0.00000000e+000 0.00000000e+000 0.00000000e+000 0.00000000e+000]\n",
      " [0.00000000e+000 0.00000000e+000 0.00000000e+000 0.00000000e+000]\n",
      " [0.00000000e+000 0.00000000e+000 0.00000000e+000 0.00000000e+000]\n",
      " [0.00000000e+000 0.00000000e+000 0.00000000e+000 0.00000000e+000]\n",
      " [0.00000000e+000 0.00000000e+000 0.00000000e+000 0.00000000e+000]\n",
      " [0.00000000e+000 0.00000000e+000 0.00000000e+000 0.00000000e+000]\n",
      " [0.00000000e+000 0.00000000e+000 0.00000000e+000 0.00000000e+000]\n",
      " [0.00000000e+000 0.00000000e+000 0.00000000e+000 0.00000000e+000]\n",
      " [0.00000000e+000 0.00000000e+000 0.00000000e+000 0.00000000e+000]\n",
      " [0.00000000e+000 0.00000000e+000 0.00000000e+000 0.00000000e+000]\n",
      " [0.00000000e+000 0.00000000e+000 0.00000000e+000 0.00000000e+000]\n",
      " [0.00000000e+000 0.00000000e+000 0.00000000e+000 0.00000000e+000]\n",
      " [0.00000000e+000 0.00000000e+000 0.00000000e+000 0.00000000e+000]\n",
      " [0.00000000e+000 0.00000000e+000 0.00000000e+000 0.00000000e+000]\n",
      " [0.00000000e+000 0.00000000e+000 0.00000000e+000 0.00000000e+000]\n",
      " [0.00000000e+000 0.00000000e+000 0.00000000e+000 0.00000000e+000]\n",
      " [0.00000000e+000 0.00000000e+000 0.00000000e+000 0.00000000e+000]\n",
      " [0.00000000e+000 0.00000000e+000 0.00000000e+000 0.00000000e+000]\n",
      " [0.00000000e+000 0.00000000e+000 0.00000000e+000 0.00000000e+000]\n",
      " [0.00000000e+000 0.00000000e+000 0.00000000e+000 0.00000000e+000]\n",
      " [0.00000000e+000 0.00000000e+000 0.00000000e+000 0.00000000e+000]\n",
      " [0.00000000e+000 0.00000000e+000 0.00000000e+000 0.00000000e+000]\n",
      " [0.00000000e+000 0.00000000e+000 0.00000000e+000 0.00000000e+000]\n",
      " [0.00000000e+000 0.00000000e+000 0.00000000e+000 0.00000000e+000]\n",
      " [0.00000000e+000 0.00000000e+000 0.00000000e+000 0.00000000e+000]\n",
      " [0.00000000e+000 0.00000000e+000 0.00000000e+000 0.00000000e+000]\n",
      " [0.00000000e+000 0.00000000e+000 0.00000000e+000 0.00000000e+000]\n",
      " [0.00000000e+000 0.00000000e+000 0.00000000e+000 0.00000000e+000]\n",
      " [0.00000000e+000 0.00000000e+000 0.00000000e+000 0.00000000e+000]\n",
      " [0.00000000e+000 0.00000000e+000 0.00000000e+000 0.00000000e+000]\n",
      " [0.00000000e+000 0.00000000e+000 0.00000000e+000 0.00000000e+000]\n",
      " [0.00000000e+000 0.00000000e+000 0.00000000e+000 0.00000000e+000]\n",
      " [0.00000000e+000 0.00000000e+000 0.00000000e+000 0.00000000e+000]\n",
      " [0.00000000e+000 0.00000000e+000 0.00000000e+000 0.00000000e+000]\n",
      " [0.00000000e+000 0.00000000e+000 0.00000000e+000 0.00000000e+000]\n",
      " [0.00000000e+000 0.00000000e+000 0.00000000e+000 0.00000000e+000]\n",
      " [0.00000000e+000 0.00000000e+000 0.00000000e+000 0.00000000e+000]\n",
      " [0.00000000e+000 0.00000000e+000 0.00000000e+000 0.00000000e+000]\n",
      " [0.00000000e+000 0.00000000e+000 0.00000000e+000 0.00000000e+000]\n",
      " [0.00000000e+000 0.00000000e+000 0.00000000e+000 0.00000000e+000]\n",
      " [0.00000000e+000 0.00000000e+000 0.00000000e+000 0.00000000e+000]\n",
      " [0.00000000e+000 0.00000000e+000 0.00000000e+000 0.00000000e+000]\n",
      " [0.00000000e+000 0.00000000e+000 0.00000000e+000 0.00000000e+000]\n",
      " [0.00000000e+000 0.00000000e+000 0.00000000e+000 0.00000000e+000]\n",
      " [0.00000000e+000 0.00000000e+000 0.00000000e+000 0.00000000e+000]\n",
      " [0.00000000e+000 0.00000000e+000 0.00000000e+000 0.00000000e+000]\n",
      " [0.00000000e+000 0.00000000e+000 0.00000000e+000 0.00000000e+000]\n",
      " [0.00000000e+000 0.00000000e+000 0.00000000e+000 0.00000000e+000]\n",
      " [0.00000000e+000 0.00000000e+000 0.00000000e+000 0.00000000e+000]\n",
      " [0.00000000e+000 0.00000000e+000 0.00000000e+000 0.00000000e+000]\n",
      " [0.00000000e+000 0.00000000e+000 0.00000000e+000 0.00000000e+000]\n",
      " [0.00000000e+000 0.00000000e+000 0.00000000e+000 0.00000000e+000]\n",
      " [0.00000000e+000 0.00000000e+000 0.00000000e+000 0.00000000e+000]\n",
      " [0.00000000e+000 0.00000000e+000 0.00000000e+000 0.00000000e+000]\n",
      " [0.00000000e+000 0.00000000e+000 0.00000000e+000 0.00000000e+000]\n",
      " [0.00000000e+000 0.00000000e+000 0.00000000e+000 0.00000000e+000]\n",
      " [0.00000000e+000 0.00000000e+000 0.00000000e+000 0.00000000e+000]\n",
      " [0.00000000e+000 0.00000000e+000 0.00000000e+000 0.00000000e+000]\n",
      " [0.00000000e+000 0.00000000e+000 0.00000000e+000 0.00000000e+000]\n",
      " [0.00000000e+000 0.00000000e+000 0.00000000e+000 0.00000000e+000]\n",
      " [0.00000000e+000 0.00000000e+000 0.00000000e+000 0.00000000e+000]\n",
      " [0.00000000e+000 0.00000000e+000 0.00000000e+000 0.00000000e+000]\n",
      " [0.00000000e+000 0.00000000e+000 0.00000000e+000 0.00000000e+000]\n",
      " [0.00000000e+000 0.00000000e+000 0.00000000e+000 0.00000000e+000]\n",
      " [0.00000000e+000 0.00000000e+000 0.00000000e+000 0.00000000e+000]]\n"
     ]
    }
   ],
   "source": [
    "print(ds_4)"
   ]
  },
  {
   "cell_type": "code",
   "execution_count": 49,
   "id": "8e1fe9e4",
   "metadata": {},
   "outputs": [
    {
     "data": {
      "text/plain": [
       "array([716.41389209])"
      ]
     },
     "execution_count": 49,
     "metadata": {},
     "output_type": "execute_result"
    }
   ],
   "source": [
    "regressor.predict([[484, 509, 560]])"
   ]
  },
  {
   "cell_type": "code",
   "execution_count": null,
   "id": "67666263",
   "metadata": {},
   "outputs": [],
   "source": []
  },
  {
   "cell_type": "code",
   "execution_count": null,
   "id": "80b3aef9",
   "metadata": {},
   "outputs": [],
   "source": []
  },
  {
   "cell_type": "code",
   "execution_count": null,
   "id": "b5437f97",
   "metadata": {},
   "outputs": [],
   "source": []
  },
  {
   "cell_type": "code",
   "execution_count": null,
   "id": "3338000d",
   "metadata": {},
   "outputs": [],
   "source": []
  },
  {
   "cell_type": "code",
   "execution_count": null,
   "id": "7cfa9e84",
   "metadata": {},
   "outputs": [],
   "source": []
  },
  {
   "cell_type": "code",
   "execution_count": null,
   "id": "3179a891",
   "metadata": {},
   "outputs": [],
   "source": []
  },
  {
   "cell_type": "code",
   "execution_count": null,
   "id": "2537fd48",
   "metadata": {},
   "outputs": [],
   "source": []
  },
  {
   "cell_type": "code",
   "execution_count": null,
   "id": "6b65198f",
   "metadata": {},
   "outputs": [],
   "source": []
  }
 ],
 "metadata": {
  "kernelspec": {
   "display_name": "Python 3 (ipykernel)",
   "language": "python",
   "name": "python3"
  },
  "language_info": {
   "codemirror_mode": {
    "name": "ipython",
    "version": 3
   },
   "file_extension": ".py",
   "mimetype": "text/x-python",
   "name": "python",
   "nbconvert_exporter": "python",
   "pygments_lexer": "ipython3",
   "version": "3.9.7"
  }
 },
 "nbformat": 4,
 "nbformat_minor": 5
}
