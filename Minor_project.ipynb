{
 "cells": [
  {
   "cell_type": "markdown",
   "id": "9a0e55b5",
   "metadata": {},
   "source": [
    "# Importing Libraries\n"
   ]
  },
  {
   "cell_type": "code",
   "execution_count": 1,
   "id": "e2ffc324",
   "metadata": {},
   "outputs": [],
   "source": [
    "import pandas as pd;\n",
    "import numpy as np;"
   ]
  },
  {
   "cell_type": "code",
   "execution_count": 2,
   "id": "c6b92fbc",
   "metadata": {},
   "outputs": [],
   "source": [
    "ds_1=pd.read_csv('city_day.csv');"
   ]
  },
  {
   "cell_type": "code",
   "execution_count": 3,
   "id": "0c545559",
   "metadata": {},
   "outputs": [],
   "source": [
    "new_df = pd.concat([ds_1.iloc[:,0:2],ds_1.iloc[:,-2:]],axis = 1)\n",
    "\n",
    "new_df = new_df[new_df['City'] == 'Delhi']"
   ]
  },
  {
   "cell_type": "code",
   "execution_count": 4,
   "id": "aaca6696",
   "metadata": {},
   "outputs": [],
   "source": [
    "new_df['Date'] = pd.to_datetime(new_df['Date'])"
   ]
  },
  {
   "cell_type": "code",
   "execution_count": 5,
   "id": "076e0258",
   "metadata": {},
   "outputs": [],
   "source": [
    "new_df['Year'] = new_df['Date'].dt.year"
   ]
  },
  {
   "cell_type": "code",
   "execution_count": 6,
   "id": "4515ede1",
   "metadata": {},
   "outputs": [],
   "source": [
    "new_df = new_df.set_index(['Year'])"
   ]
  },
  {
   "cell_type": "code",
   "execution_count": null,
   "id": "52ab6244",
   "metadata": {},
   "outputs": [],
   "source": []
  },
  {
   "cell_type": "code",
   "execution_count": 7,
   "id": "f1a17707",
   "metadata": {},
   "outputs": [],
   "source": [
    "ds_delhi_16=new_df.loc['2016'];\n",
    "ds_delhi_17=new_df.loc['2017'];\n",
    "ds_delhi_18=new_df.loc['2018'];\n",
    "ds_delhi_19=new_df.loc['2019'];\n",
    "ds_delhi_20=new_df.loc['2020'];"
   ]
  },
  {
   "cell_type": "code",
   "execution_count": 8,
   "id": "504db864",
   "metadata": {},
   "outputs": [
    {
     "data": {
      "text/html": [
       "<div>\n",
       "<style scoped>\n",
       "    .dataframe tbody tr th:only-of-type {\n",
       "        vertical-align: middle;\n",
       "    }\n",
       "\n",
       "    .dataframe tbody tr th {\n",
       "        vertical-align: top;\n",
       "    }\n",
       "\n",
       "    .dataframe thead th {\n",
       "        text-align: right;\n",
       "    }\n",
       "</style>\n",
       "<table border=\"1\" class=\"dataframe\">\n",
       "  <thead>\n",
       "    <tr style=\"text-align: right;\">\n",
       "      <th></th>\n",
       "      <th>City</th>\n",
       "      <th>Date</th>\n",
       "      <th>AQI</th>\n",
       "      <th>AQI_Bucket</th>\n",
       "    </tr>\n",
       "    <tr>\n",
       "      <th>Year</th>\n",
       "      <th></th>\n",
       "      <th></th>\n",
       "      <th></th>\n",
       "      <th></th>\n",
       "    </tr>\n",
       "  </thead>\n",
       "  <tbody>\n",
       "    <tr>\n",
       "      <th>2016</th>\n",
       "      <td>Delhi</td>\n",
       "      <td>2016-01-01</td>\n",
       "      <td>463.0</td>\n",
       "      <td>Severe</td>\n",
       "    </tr>\n",
       "    <tr>\n",
       "      <th>2016</th>\n",
       "      <td>Delhi</td>\n",
       "      <td>2016-01-02</td>\n",
       "      <td>465.0</td>\n",
       "      <td>Severe</td>\n",
       "    </tr>\n",
       "    <tr>\n",
       "      <th>2016</th>\n",
       "      <td>Delhi</td>\n",
       "      <td>2016-01-03</td>\n",
       "      <td>426.0</td>\n",
       "      <td>Severe</td>\n",
       "    </tr>\n",
       "    <tr>\n",
       "      <th>2016</th>\n",
       "      <td>Delhi</td>\n",
       "      <td>2016-01-04</td>\n",
       "      <td>496.0</td>\n",
       "      <td>Severe</td>\n",
       "    </tr>\n",
       "    <tr>\n",
       "      <th>2016</th>\n",
       "      <td>Delhi</td>\n",
       "      <td>2016-01-05</td>\n",
       "      <td>528.0</td>\n",
       "      <td>Severe</td>\n",
       "    </tr>\n",
       "    <tr>\n",
       "      <th>...</th>\n",
       "      <td>...</td>\n",
       "      <td>...</td>\n",
       "      <td>...</td>\n",
       "      <td>...</td>\n",
       "    </tr>\n",
       "    <tr>\n",
       "      <th>2016</th>\n",
       "      <td>Delhi</td>\n",
       "      <td>2016-12-27</td>\n",
       "      <td>319.0</td>\n",
       "      <td>Very Poor</td>\n",
       "    </tr>\n",
       "    <tr>\n",
       "      <th>2016</th>\n",
       "      <td>Delhi</td>\n",
       "      <td>2016-12-28</td>\n",
       "      <td>455.0</td>\n",
       "      <td>Severe</td>\n",
       "    </tr>\n",
       "    <tr>\n",
       "      <th>2016</th>\n",
       "      <td>Delhi</td>\n",
       "      <td>2016-12-29</td>\n",
       "      <td>524.0</td>\n",
       "      <td>Severe</td>\n",
       "    </tr>\n",
       "    <tr>\n",
       "      <th>2016</th>\n",
       "      <td>Delhi</td>\n",
       "      <td>2016-12-30</td>\n",
       "      <td>381.0</td>\n",
       "      <td>Very Poor</td>\n",
       "    </tr>\n",
       "    <tr>\n",
       "      <th>2016</th>\n",
       "      <td>Delhi</td>\n",
       "      <td>2016-12-31</td>\n",
       "      <td>338.0</td>\n",
       "      <td>Very Poor</td>\n",
       "    </tr>\n",
       "  </tbody>\n",
       "</table>\n",
       "<p>366 rows × 4 columns</p>\n",
       "</div>"
      ],
      "text/plain": [
       "       City       Date    AQI AQI_Bucket\n",
       "Year                                    \n",
       "2016  Delhi 2016-01-01  463.0     Severe\n",
       "2016  Delhi 2016-01-02  465.0     Severe\n",
       "2016  Delhi 2016-01-03  426.0     Severe\n",
       "2016  Delhi 2016-01-04  496.0     Severe\n",
       "2016  Delhi 2016-01-05  528.0     Severe\n",
       "...     ...        ...    ...        ...\n",
       "2016  Delhi 2016-12-27  319.0  Very Poor\n",
       "2016  Delhi 2016-12-28  455.0     Severe\n",
       "2016  Delhi 2016-12-29  524.0     Severe\n",
       "2016  Delhi 2016-12-30  381.0  Very Poor\n",
       "2016  Delhi 2016-12-31  338.0  Very Poor\n",
       "\n",
       "[366 rows x 4 columns]"
      ]
     },
     "execution_count": 8,
     "metadata": {},
     "output_type": "execute_result"
    }
   ],
   "source": [
    "ds_delhi_16"
   ]
  },
  {
   "cell_type": "code",
   "execution_count": 9,
   "id": "292c2857",
   "metadata": {},
   "outputs": [],
   "source": [
    "aqi_16 = ds_delhi_16.iloc[:,2].values;\n",
    "aqi_17 = ds_delhi_17.iloc[:,2].values;\n",
    "aqi_18 = ds_delhi_18.iloc[:,2].values;\n",
    "aqi_19 = ds_delhi_19.iloc[:,2].values;\n",
    "aqi_20 = ds_delhi_20.iloc[:,2].values;"
   ]
  },
  {
   "cell_type": "code",
   "execution_count": 10,
   "id": "396dd4dd",
   "metadata": {},
   "outputs": [],
   "source": [
    "x_17=np.zeros((362,4));\n",
    "point=0;\n",
    "count=0;\n",
    "for i in range(0,362,1):\n",
    "    for j in range(0,4,1):\n",
    "        x_17[i][j]= aqi_17[point];\n",
    "        point += 1;\n",
    "    count += 1;\n",
    "    point = count;\n",
    "    if (count == 362):\n",
    "        break;"
   ]
  },
  {
   "cell_type": "code",
   "execution_count": 11,
   "id": "a09c736f",
   "metadata": {},
   "outputs": [],
   "source": [
    "x_16=np.zeros((362,4));\n",
    "point=0;\n",
    "count=0;\n",
    "for i in range(0,362,1):\n",
    "    for j in range(0,4,1):\n",
    "        x_16[i][j]= aqi_16[point];\n",
    "        point += 1;\n",
    "    count += 1;\n",
    "    point = count;\n",
    "    if (count == 362):\n",
    "        break;"
   ]
  },
  {
   "cell_type": "code",
   "execution_count": 12,
   "id": "5d2a6ded",
   "metadata": {},
   "outputs": [],
   "source": [
    "x_18=np.zeros((362,4));\n",
    "point=0;\n",
    "count=0;\n",
    "for i in range(0,362,1):\n",
    "    for j in range(0,4,1):\n",
    "        x_18[i][j]= aqi_18[point];\n",
    "        point += 1;\n",
    "    count += 1;\n",
    "    point = count;\n",
    "    if (count == 362):\n",
    "        break;"
   ]
  },
  {
   "cell_type": "code",
   "execution_count": 13,
   "id": "accfbf89",
   "metadata": {},
   "outputs": [
    {
     "data": {
      "text/plain": [
       "array([[462., 439., 405., 394.],\n",
       "       [439., 405., 394., 398.],\n",
       "       [405., 394., 398., 403.],\n",
       "       ...,\n",
       "       [405., 458., 413., 420.],\n",
       "       [458., 413., 420., 484.],\n",
       "       [413., 420., 484., 509.]])"
      ]
     },
     "execution_count": 13,
     "metadata": {},
     "output_type": "execute_result"
    }
   ],
   "source": [
    "x_18"
   ]
  },
  {
   "cell_type": "code",
   "execution_count": 14,
   "id": "e5ac0440",
   "metadata": {},
   "outputs": [],
   "source": [
    "x_19=np.zeros((362,4));\n",
    "point=0;\n",
    "count=0;\n",
    "for i in range(0,362,1):\n",
    "    for j in range(0,4,1):\n",
    "        x_19[i][j]= aqi_19[point];\n",
    "        point += 1;\n",
    "    count += 1;\n",
    "    point = count;\n",
    "    if (count == 362):\n",
    "        break;"
   ]
  },
  {
   "cell_type": "code",
   "execution_count": null,
   "id": "e88d09b2",
   "metadata": {},
   "outputs": [],
   "source": [
    "x_16.shape"
   ]
  },
  {
   "cell_type": "code",
   "execution_count": null,
   "id": "cc0c09df",
   "metadata": {},
   "outputs": [],
   "source": [
    "x_17.shape"
   ]
  },
  {
   "cell_type": "code",
   "execution_count": null,
   "id": "d8f84058",
   "metadata": {},
   "outputs": [],
   "source": []
  },
  {
   "cell_type": "code",
   "execution_count": 15,
   "id": "6161fb73",
   "metadata": {
    "scrolled": true
   },
   "outputs": [],
   "source": [
    "ds_3=np.concatenate((x_16,x_17,x_18),axis=0);"
   ]
  },
  {
   "cell_type": "code",
   "execution_count": 16,
   "id": "1f3bc534",
   "metadata": {},
   "outputs": [
    {
     "data": {
      "text/plain": [
       "(1086, 4)"
      ]
     },
     "execution_count": 16,
     "metadata": {},
     "output_type": "execute_result"
    }
   ],
   "source": [
    "ds_3.shape"
   ]
  },
  {
   "cell_type": "code",
   "execution_count": 17,
   "id": "23447c9d",
   "metadata": {},
   "outputs": [],
   "source": [
    "ds_3= pd.DataFrame(ds_3, columns = ['last 3rd','last 2nd','last 1st','present'])"
   ]
  },
  {
   "cell_type": "code",
   "execution_count": 36,
   "id": "193aaa0d",
   "metadata": {},
   "outputs": [],
   "source": [
    "ds_3.to_csv('previous_3.csv');"
   ]
  },
  {
   "cell_type": "code",
   "execution_count": 18,
   "id": "d691e047",
   "metadata": {},
   "outputs": [],
   "source": [
    "X=ds_3.iloc[:,[0,1,2]].values;\n",
    "Y=ds_3.iloc[:,[-1]].values;"
   ]
  },
  {
   "cell_type": "code",
   "execution_count": 19,
   "id": "44d7d2b3",
   "metadata": {},
   "outputs": [
    {
     "data": {
      "text/plain": [
       "array([[463., 465., 426.],\n",
       "       [465., 426., 496.],\n",
       "       [426., 496., 528.],\n",
       "       ...,\n",
       "       [405., 458., 413.],\n",
       "       [458., 413., 420.],\n",
       "       [413., 420., 484.]])"
      ]
     },
     "execution_count": 19,
     "metadata": {},
     "output_type": "execute_result"
    }
   ],
   "source": [
    "X"
   ]
  },
  {
   "cell_type": "code",
   "execution_count": 20,
   "id": "693d5ed5",
   "metadata": {},
   "outputs": [],
   "source": [
    "from sklearn.impute import SimpleImputer;\n",
    "ds_imputer=SimpleImputer(missing_values=np.nan,strategy='mean');\n",
    "ds_imputer.fit(X);\n",
    "X=ds_imputer.transform(X);"
   ]
  },
  {
   "cell_type": "code",
   "execution_count": 21,
   "id": "574efdd2",
   "metadata": {},
   "outputs": [],
   "source": [
    "from sklearn.impute import SimpleImputer;\n",
    "ds_imputer=SimpleImputer(missing_values=np.nan,strategy='mean');\n",
    "ds_imputer.fit(Y);\n",
    "Y=ds_imputer.transform(Y);"
   ]
  },
  {
   "cell_type": "code",
   "execution_count": 35,
   "id": "d28eb95d",
   "metadata": {},
   "outputs": [
    {
     "data": {
      "text/plain": [
       "array([[463., 465., 426.],\n",
       "       [465., 426., 496.],\n",
       "       [426., 496., 528.],\n",
       "       ...,\n",
       "       [405., 458., 413.],\n",
       "       [458., 413., 420.],\n",
       "       [413., 420., 484.]])"
      ]
     },
     "execution_count": 35,
     "metadata": {},
     "output_type": "execute_result"
    }
   ],
   "source": [
    "X"
   ]
  },
  {
   "cell_type": "code",
   "execution_count": 22,
   "id": "f6406b72",
   "metadata": {},
   "outputs": [
    {
     "data": {
      "text/plain": [
       "array([[496.],\n",
       "       [528.],\n",
       "       [538.],\n",
       "       ...,\n",
       "       [420.],\n",
       "       [484.],\n",
       "       [509.]])"
      ]
     },
     "execution_count": 22,
     "metadata": {},
     "output_type": "execute_result"
    }
   ],
   "source": [
    "Y"
   ]
  },
  {
   "cell_type": "code",
   "execution_count": 23,
   "id": "cb557ff4",
   "metadata": {},
   "outputs": [],
   "source": [
    "from sklearn.model_selection import train_test_split;\n",
    "x_train,x_test,y_train,y_test=train_test_split(X,Y,test_size=0.2,random_state=1);"
   ]
  },
  {
   "cell_type": "code",
   "execution_count": 26,
   "id": "7f3ae31c",
   "metadata": {},
   "outputs": [],
   "source": [
    "from sklearn.svm import SVR\n",
    "regressor = SVR(kernel = 'poly')\n",
    "regressor.fit(x_train, np.ravel(y_train));"
   ]
  },
  {
   "cell_type": "code",
   "execution_count": 27,
   "id": "4629b959",
   "metadata": {},
   "outputs": [],
   "source": [
    "y_pred=regressor.predict(x_test);"
   ]
  },
  {
   "cell_type": "code",
   "execution_count": 28,
   "id": "de52e6e8",
   "metadata": {},
   "outputs": [
    {
     "data": {
      "text/plain": [
       "(218,)"
      ]
     },
     "execution_count": 28,
     "metadata": {},
     "output_type": "execute_result"
    }
   ],
   "source": [
    "y_pred.shape"
   ]
  },
  {
   "cell_type": "code",
   "execution_count": 29,
   "id": "afdfda79",
   "metadata": {},
   "outputs": [],
   "source": [
    "from sklearn.metrics import accuracy_score,confusion_matrix;"
   ]
  },
  {
   "cell_type": "code",
   "execution_count": 30,
   "id": "8a6d73ca",
   "metadata": {},
   "outputs": [],
   "source": [
    "ac=y_test-y_pred"
   ]
  },
  {
   "cell_type": "code",
   "execution_count": 34,
   "id": "e75247e2",
   "metadata": {},
   "outputs": [
    {
     "data": {
      "text/plain": [
       "array([[ -36.36090357,  -37.57030011,  -31.47264273, ..., -233.95916259,\n",
       "         -16.29379354,  -82.7695177 ],\n",
       "       [ 150.63909643,  149.42969989,  155.52735727, ...,  -46.95916259,\n",
       "         170.70620646,  104.2304823 ],\n",
       "       [ -82.36090357,  -83.57030011,  -77.47264273, ..., -279.95916259,\n",
       "         -62.29379354, -128.7695177 ],\n",
       "       ...,\n",
       "       [ 213.63909643,  212.42969989,  218.52735727, ...,   16.04083741,\n",
       "         233.70620646,  167.2304823 ],\n",
       "       [-100.36090357, -101.57030011,  -95.47264273, ..., -297.95916259,\n",
       "         -80.29379354, -146.7695177 ],\n",
       "       [  35.63909643,   34.42969989,   40.52735727, ..., -161.95916259,\n",
       "          55.70620646,  -10.7695177 ]])"
      ]
     },
     "execution_count": 34,
     "metadata": {},
     "output_type": "execute_result"
    }
   ],
   "source": [
    "ac"
   ]
  },
  {
   "cell_type": "code",
   "execution_count": 31,
   "id": "855d4717",
   "metadata": {},
   "outputs": [],
   "source": [
    "y_test=np.ravel(y_test);\n",
    "y_pred=np.ravel(y_pred);"
   ]
  },
  {
   "cell_type": "code",
   "execution_count": 33,
   "id": "dbe7963c",
   "metadata": {},
   "outputs": [
    {
     "ename": "ValueError",
     "evalue": "setting an array element with a sequence.",
     "output_type": "error",
     "traceback": [
      "\u001b[1;31m---------------------------------------------------------------------------\u001b[0m",
      "\u001b[1;31mTypeError\u001b[0m                                 Traceback (most recent call last)",
      "\u001b[1;31mTypeError\u001b[0m: only size-1 arrays can be converted to Python scalars",
      "\nThe above exception was the direct cause of the following exception:\n",
      "\u001b[1;31mValueError\u001b[0m                                Traceback (most recent call last)",
      "\u001b[1;32m<ipython-input-33-e2274ee0b6eb>\u001b[0m in \u001b[0;36m<module>\u001b[1;34m\u001b[0m\n\u001b[0;32m      1\u001b[0m \u001b[0msum\u001b[0m\u001b[1;33m=\u001b[0m\u001b[0mnp\u001b[0m\u001b[1;33m.\u001b[0m\u001b[0mzeros\u001b[0m\u001b[1;33m(\u001b[0m\u001b[1;36m218\u001b[0m\u001b[1;33m)\u001b[0m\u001b[1;33m;\u001b[0m\u001b[1;33m\u001b[0m\u001b[1;33m\u001b[0m\u001b[0m\n\u001b[0;32m      2\u001b[0m \u001b[1;32mfor\u001b[0m \u001b[0mi\u001b[0m \u001b[1;32min\u001b[0m \u001b[0mrange\u001b[0m\u001b[1;33m(\u001b[0m\u001b[1;36m0\u001b[0m\u001b[1;33m,\u001b[0m\u001b[1;36m218\u001b[0m\u001b[1;33m,\u001b[0m\u001b[1;36m1\u001b[0m\u001b[1;33m)\u001b[0m\u001b[1;33m:\u001b[0m\u001b[1;33m\u001b[0m\u001b[1;33m\u001b[0m\u001b[0m\n\u001b[1;32m----> 3\u001b[1;33m     \u001b[0msum\u001b[0m\u001b[1;33m[\u001b[0m\u001b[0mi\u001b[0m\u001b[1;33m]\u001b[0m\u001b[1;33m=\u001b[0m\u001b[0mac\u001b[0m\u001b[1;33m[\u001b[0m\u001b[0mi\u001b[0m\u001b[1;33m]\u001b[0m\u001b[1;33m/\u001b[0m\u001b[1;36m218\u001b[0m\u001b[1;33m;\u001b[0m\u001b[1;33m\u001b[0m\u001b[1;33m\u001b[0m\u001b[0m\n\u001b[0m",
      "\u001b[1;31mValueError\u001b[0m: setting an array element with a sequence."
     ]
    }
   ],
   "source": [
    "sum=np.zeros(218);\n",
    "for i in range(0,218,1):\n",
    "    sum[i]=ac[i]/218;"
   ]
  },
  {
   "cell_type": "code",
   "execution_count": null,
   "id": "f29aebad",
   "metadata": {},
   "outputs": [],
   "source": [
    "per"
   ]
  },
  {
   "cell_type": "code",
   "execution_count": null,
   "id": "501ddfe2",
   "metadata": {},
   "outputs": [],
   "source": [
    "div=y_test+y_pred"
   ]
  },
  {
   "cell_type": "code",
   "execution_count": null,
   "id": "e09e87eb",
   "metadata": {},
   "outputs": [],
   "source": [
    "per=ac/div;"
   ]
  },
  {
   "cell_type": "code",
   "execution_count": null,
   "id": "8ddafdfe",
   "metadata": {},
   "outputs": [],
   "source": [
    "per*=100"
   ]
  },
  {
   "cell_type": "code",
   "execution_count": null,
   "id": "bb74e35a",
   "metadata": {},
   "outputs": [],
   "source": [
    "ans=0;\n",
    "for i in range(0,218,1):\n",
    "    ans+=abs(per[i]);"
   ]
  },
  {
   "cell_type": "code",
   "execution_count": null,
   "id": "22473af2",
   "metadata": {},
   "outputs": [],
   "source": [
    "ans/=218"
   ]
  },
  {
   "cell_type": "code",
   "execution_count": null,
   "id": "d23d4101",
   "metadata": {},
   "outputs": [],
   "source": [
    "ans"
   ]
  },
  {
   "cell_type": "code",
   "execution_count": null,
   "id": "34d1fd49",
   "metadata": {},
   "outputs": [],
   "source": [
    "aqi_20"
   ]
  },
  {
   "cell_type": "code",
   "execution_count": null,
   "id": "58402d86",
   "metadata": {},
   "outputs": [],
   "source": [
    "aqi_20.shape"
   ]
  },
  {
   "cell_type": "code",
   "execution_count": null,
   "id": "dc73a86f",
   "metadata": {},
   "outputs": [],
   "source": [
    "ds_4=np.zeros((183,4));"
   ]
  },
  {
   "cell_type": "code",
   "execution_count": null,
   "id": "18026b39",
   "metadata": {},
   "outputs": [],
   "source": [
    "ds_4[0][0]=420;\n",
    "ds_4[0][1]=484;\n",
    "ds_4[0][2]=509;\n",
    "ds_4[0][3]=regressor.predict([[420,484,509]]);"
   ]
  },
  {
   "cell_type": "code",
   "execution_count": null,
   "id": "d2bb290c",
   "metadata": {},
   "outputs": [],
   "source": [
    "np.set_printoptions(suppress=True)"
   ]
  },
  {
   "cell_type": "code",
   "execution_count": null,
   "id": "69e91f5c",
   "metadata": {},
   "outputs": [],
   "source": [
    "for i in range(1,183,1):\n",
    "    for j in range(0,4,1):\n",
    "        if(j == 3):\n",
    "            print(\" - \",regressor.predict([[ds_4[i][0], ds_4[i][1], ds_4[i][2]]]));\n",
    "            ds_4[i][j]=regressor.predict([[ds_4[i][0], ds_4[i][1], ds_4[i][2]]]);\n",
    "        if(j < 3):\n",
    "            ds_4[i][j]=ds_4[i-1][j+1];"
   ]
  },
  {
   "cell_type": "code",
   "execution_count": null,
   "id": "b2f922f3",
   "metadata": {
    "scrolled": true
   },
   "outputs": [],
   "source": [
    "print(ds_4)"
   ]
  },
  {
   "cell_type": "code",
   "execution_count": null,
   "id": "2f493e29",
   "metadata": {},
   "outputs": [],
   "source": [
    "regressor.predict([[484, 509, 560]])"
   ]
  },
  {
   "cell_type": "code",
   "execution_count": null,
   "id": "0a3e0f2b",
   "metadata": {},
   "outputs": [],
   "source": []
  },
  {
   "cell_type": "code",
   "execution_count": null,
   "id": "034d8118",
   "metadata": {},
   "outputs": [],
   "source": []
  },
  {
   "cell_type": "code",
   "execution_count": null,
   "id": "4e223d3c",
   "metadata": {},
   "outputs": [],
   "source": []
  },
  {
   "cell_type": "code",
   "execution_count": null,
   "id": "1ba64d4e",
   "metadata": {},
   "outputs": [],
   "source": []
  },
  {
   "cell_type": "code",
   "execution_count": null,
   "id": "27d004e7",
   "metadata": {},
   "outputs": [],
   "source": []
  },
  {
   "cell_type": "code",
   "execution_count": null,
   "id": "b1df793d",
   "metadata": {},
   "outputs": [],
   "source": []
  },
  {
   "cell_type": "code",
   "execution_count": null,
   "id": "a197a2a5",
   "metadata": {},
   "outputs": [],
   "source": []
  },
  {
   "cell_type": "code",
   "execution_count": null,
   "id": "6b65198f",
   "metadata": {},
   "outputs": [],
   "source": []
  }
 ],
 "metadata": {
  "kernelspec": {
   "display_name": "Python 3",
   "language": "python",
   "name": "python3"
  },
  "language_info": {
   "codemirror_mode": {
    "name": "ipython",
    "version": 3
   },
   "file_extension": ".py",
   "mimetype": "text/x-python",
   "name": "python",
   "nbconvert_exporter": "python",
   "pygments_lexer": "ipython3",
   "version": "3.8.8"
  }
 },
 "nbformat": 4,
 "nbformat_minor": 5
}
