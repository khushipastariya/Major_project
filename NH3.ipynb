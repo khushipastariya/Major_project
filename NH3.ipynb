{
 "cells": [
  {
   "cell_type": "markdown",
   "id": "9a0e55b5",
   "metadata": {},
   "source": [
    "# Importing Libraries\n"
   ]
  },
  {
   "cell_type": "code",
   "execution_count": 3,
   "id": "6dc4e438",
   "metadata": {},
   "outputs": [
    {
     "name": "stdout",
     "output_type": "stream",
     "text": [
      "Collecting cufflinks\n",
      "  Using cached cufflinks-0.17.3.tar.gz (81 kB)\n",
      "Requirement already satisfied: numpy>=1.9.2 in c:\\programdata\\anaconda3\\lib\\site-packages (from cufflinks) (1.20.1)\n",
      "Requirement already satisfied: pandas>=0.19.2 in c:\\programdata\\anaconda3\\lib\\site-packages (from cufflinks) (1.2.4)\n",
      "Requirement already satisfied: plotly>=4.1.1 in c:\\programdata\\anaconda3\\lib\\site-packages (from cufflinks) (5.5.0)\n",
      "Requirement already satisfied: six>=1.9.0 in c:\\programdata\\anaconda3\\lib\\site-packages (from cufflinks) (1.15.0)\n",
      "Collecting colorlover>=0.2.1\n",
      "  Using cached colorlover-0.3.0-py3-none-any.whl (8.9 kB)\n",
      "Requirement already satisfied: setuptools>=34.4.1 in c:\\programdata\\anaconda3\\lib\\site-packages (from cufflinks) (52.0.0.post20210125)\n",
      "Requirement already satisfied: ipython>=5.3.0 in c:\\programdata\\anaconda3\\lib\\site-packages (from cufflinks) (7.22.0)\n",
      "Requirement already satisfied: ipywidgets>=7.0.0 in c:\\programdata\\anaconda3\\lib\\site-packages (from cufflinks) (7.6.3)\n",
      "Requirement already satisfied: prompt-toolkit!=3.0.0,!=3.0.1,<3.1.0,>=2.0.0 in c:\\programdata\\anaconda3\\lib\\site-packages (from ipython>=5.3.0->cufflinks) (3.0.17)\n",
      "Requirement already satisfied: decorator in c:\\programdata\\anaconda3\\lib\\site-packages (from ipython>=5.3.0->cufflinks) (5.0.6)\n",
      "Requirement already satisfied: traitlets>=4.2 in c:\\programdata\\anaconda3\\lib\\site-packages (from ipython>=5.3.0->cufflinks) (5.0.5)\n",
      "Requirement already satisfied: jedi>=0.16 in c:\\programdata\\anaconda3\\lib\\site-packages (from ipython>=5.3.0->cufflinks) (0.17.2)\n",
      "Requirement already satisfied: backcall in c:\\programdata\\anaconda3\\lib\\site-packages (from ipython>=5.3.0->cufflinks) (0.2.0)\n",
      "Requirement already satisfied: colorama in c:\\programdata\\anaconda3\\lib\\site-packages (from ipython>=5.3.0->cufflinks) (0.4.4)\n",
      "Requirement already satisfied: pickleshare in c:\\programdata\\anaconda3\\lib\\site-packages (from ipython>=5.3.0->cufflinks) (0.7.5)\n",
      "Requirement already satisfied: pygments in c:\\programdata\\anaconda3\\lib\\site-packages (from ipython>=5.3.0->cufflinks) (2.8.1)\n",
      "Requirement already satisfied: ipykernel>=4.5.1 in c:\\programdata\\anaconda3\\lib\\site-packages (from ipywidgets>=7.0.0->cufflinks) (5.3.4)\n",
      "Requirement already satisfied: nbformat>=4.2.0 in c:\\programdata\\anaconda3\\lib\\site-packages (from ipywidgets>=7.0.0->cufflinks) (5.1.3)\n",
      "Requirement already satisfied: jupyterlab-widgets>=1.0.0 in c:\\programdata\\anaconda3\\lib\\site-packages (from ipywidgets>=7.0.0->cufflinks) (1.0.0)\n",
      "Requirement already satisfied: widgetsnbextension~=3.5.0 in c:\\programdata\\anaconda3\\lib\\site-packages (from ipywidgets>=7.0.0->cufflinks) (3.5.1)\n",
      "Requirement already satisfied: tornado>=4.2 in c:\\programdata\\anaconda3\\lib\\site-packages (from ipykernel>=4.5.1->ipywidgets>=7.0.0->cufflinks) (6.1)\n",
      "Requirement already satisfied: jupyter-client in c:\\programdata\\anaconda3\\lib\\site-packages (from ipykernel>=4.5.1->ipywidgets>=7.0.0->cufflinks) (6.1.12)\n",
      "Requirement already satisfied: parso<0.8.0,>=0.7.0 in c:\\programdata\\anaconda3\\lib\\site-packages (from jedi>=0.16->ipython>=5.3.0->cufflinks) (0.7.0)\n",
      "Requirement already satisfied: ipython-genutils in c:\\programdata\\anaconda3\\lib\\site-packages (from nbformat>=4.2.0->ipywidgets>=7.0.0->cufflinks) (0.2.0)\n",
      "Requirement already satisfied: jupyter-core in c:\\programdata\\anaconda3\\lib\\site-packages (from nbformat>=4.2.0->ipywidgets>=7.0.0->cufflinks) (4.7.1)\n",
      "Requirement already satisfied: jsonschema!=2.5.0,>=2.4 in c:\\programdata\\anaconda3\\lib\\site-packages (from nbformat>=4.2.0->ipywidgets>=7.0.0->cufflinks) (3.2.0)\n",
      "Requirement already satisfied: pyrsistent>=0.14.0 in c:\\programdata\\anaconda3\\lib\\site-packages (from jsonschema!=2.5.0,>=2.4->nbformat>=4.2.0->ipywidgets>=7.0.0->cufflinks) (0.17.3)\n",
      "Requirement already satisfied: attrs>=17.4.0 in c:\\programdata\\anaconda3\\lib\\site-packages (from jsonschema!=2.5.0,>=2.4->nbformat>=4.2.0->ipywidgets>=7.0.0->cufflinks) (20.3.0)\n",
      "Requirement already satisfied: pytz>=2017.3 in c:\\programdata\\anaconda3\\lib\\site-packages (from pandas>=0.19.2->cufflinks) (2021.1)\n",
      "Requirement already satisfied: python-dateutil>=2.7.3 in c:\\programdata\\anaconda3\\lib\\site-packages (from pandas>=0.19.2->cufflinks) (2.8.1)\n",
      "Requirement already satisfied: tenacity>=6.2.0 in c:\\programdata\\anaconda3\\lib\\site-packages (from plotly>=4.1.1->cufflinks) (8.0.1)\n",
      "Requirement already satisfied: wcwidth in c:\\programdata\\anaconda3\\lib\\site-packages (from prompt-toolkit!=3.0.0,!=3.0.1,<3.1.0,>=2.0.0->ipython>=5.3.0->cufflinks) (0.2.5)\n",
      "Requirement already satisfied: notebook>=4.4.1 in c:\\programdata\\anaconda3\\lib\\site-packages (from widgetsnbextension~=3.5.0->ipywidgets>=7.0.0->cufflinks) (6.3.0)\n",
      "Requirement already satisfied: terminado>=0.8.3 in c:\\programdata\\anaconda3\\lib\\site-packages (from notebook>=4.4.1->widgetsnbextension~=3.5.0->ipywidgets>=7.0.0->cufflinks) (0.9.4)\n",
      "Requirement already satisfied: Send2Trash>=1.5.0 in c:\\programdata\\anaconda3\\lib\\site-packages (from notebook>=4.4.1->widgetsnbextension~=3.5.0->ipywidgets>=7.0.0->cufflinks) (1.5.0)\n",
      "Requirement already satisfied: prometheus-client in c:\\programdata\\anaconda3\\lib\\site-packages (from notebook>=4.4.1->widgetsnbextension~=3.5.0->ipywidgets>=7.0.0->cufflinks) (0.10.1)\n",
      "Requirement already satisfied: pyzmq>=17 in c:\\programdata\\anaconda3\\lib\\site-packages (from notebook>=4.4.1->widgetsnbextension~=3.5.0->ipywidgets>=7.0.0->cufflinks) (20.0.0)\n",
      "Requirement already satisfied: argon2-cffi in c:\\programdata\\anaconda3\\lib\\site-packages (from notebook>=4.4.1->widgetsnbextension~=3.5.0->ipywidgets>=7.0.0->cufflinks) (20.1.0)\n",
      "Requirement already satisfied: jinja2 in c:\\programdata\\anaconda3\\lib\\site-packages (from notebook>=4.4.1->widgetsnbextension~=3.5.0->ipywidgets>=7.0.0->cufflinks) (2.11.3)\n",
      "Requirement already satisfied: nbconvert in c:\\programdata\\anaconda3\\lib\\site-packages (from notebook>=4.4.1->widgetsnbextension~=3.5.0->ipywidgets>=7.0.0->cufflinks) (6.0.7)\n",
      "Requirement already satisfied: pywin32>=1.0 in c:\\programdata\\anaconda3\\lib\\site-packages (from jupyter-core->nbformat>=4.2.0->ipywidgets>=7.0.0->cufflinks) (227)\n",
      "Requirement already satisfied: pywinpty>=0.5 in c:\\programdata\\anaconda3\\lib\\site-packages (from terminado>=0.8.3->notebook>=4.4.1->widgetsnbextension~=3.5.0->ipywidgets>=7.0.0->cufflinks) (0.5.7)\n",
      "Note: you may need to restart the kernel to use updated packages.\n",
      "Requirement already satisfied: cffi>=1.0.0 in c:\\programdata\\anaconda3\\lib\\site-packages (from argon2-cffi->notebook>=4.4.1->widgetsnbextension~=3.5.0->ipywidgets>=7.0.0->cufflinks) (1.14.5)\n",
      "Requirement already satisfied: pycparser in c:\\programdata\\anaconda3\\lib\\site-packages (from cffi>=1.0.0->argon2-cffi->notebook>=4.4.1->widgetsnbextension~=3.5.0->ipywidgets>=7.0.0->cufflinks) (2.20)\n",
      "Requirement already satisfied: MarkupSafe>=0.23 in c:\\programdata\\anaconda3\\lib\\site-packages (from jinja2->notebook>=4.4.1->widgetsnbextension~=3.5.0->ipywidgets>=7.0.0->cufflinks) (1.1.1)\n",
      "Requirement already satisfied: mistune<2,>=0.8.1 in c:\\programdata\\anaconda3\\lib\\site-packages (from nbconvert->notebook>=4.4.1->widgetsnbextension~=3.5.0->ipywidgets>=7.0.0->cufflinks) (0.8.4)\n",
      "Requirement already satisfied: pandocfilters>=1.4.1 in c:\\programdata\\anaconda3\\lib\\site-packages (from nbconvert->notebook>=4.4.1->widgetsnbextension~=3.5.0->ipywidgets>=7.0.0->cufflinks) (1.4.3)\n",
      "Requirement already satisfied: defusedxml in c:\\programdata\\anaconda3\\lib\\site-packages (from nbconvert->notebook>=4.4.1->widgetsnbextension~=3.5.0->ipywidgets>=7.0.0->cufflinks) (0.7.1)\n",
      "Requirement already satisfied: bleach in c:\\programdata\\anaconda3\\lib\\site-packages (from nbconvert->notebook>=4.4.1->widgetsnbextension~=3.5.0->ipywidgets>=7.0.0->cufflinks) (3.3.0)\n",
      "Requirement already satisfied: testpath in c:\\programdata\\anaconda3\\lib\\site-packages (from nbconvert->notebook>=4.4.1->widgetsnbextension~=3.5.0->ipywidgets>=7.0.0->cufflinks) (0.4.4)\n",
      "Requirement already satisfied: entrypoints>=0.2.2 in c:\\programdata\\anaconda3\\lib\\site-packages (from nbconvert->notebook>=4.4.1->widgetsnbextension~=3.5.0->ipywidgets>=7.0.0->cufflinks) (0.3)\n",
      "Requirement already satisfied: nbclient<0.6.0,>=0.5.0 in c:\\programdata\\anaconda3\\lib\\site-packages (from nbconvert->notebook>=4.4.1->widgetsnbextension~=3.5.0->ipywidgets>=7.0.0->cufflinks) (0.5.3)\n",
      "Requirement already satisfied: jupyterlab-pygments in c:\\programdata\\anaconda3\\lib\\site-packages (from nbconvert->notebook>=4.4.1->widgetsnbextension~=3.5.0->ipywidgets>=7.0.0->cufflinks) (0.1.2)\n",
      "Requirement already satisfied: async-generator in c:\\programdata\\anaconda3\\lib\\site-packages (from nbclient<0.6.0,>=0.5.0->nbconvert->notebook>=4.4.1->widgetsnbextension~=3.5.0->ipywidgets>=7.0.0->cufflinks) (1.10)\n",
      "Requirement already satisfied: nest-asyncio in c:\\programdata\\anaconda3\\lib\\site-packages (from nbclient<0.6.0,>=0.5.0->nbconvert->notebook>=4.4.1->widgetsnbextension~=3.5.0->ipywidgets>=7.0.0->cufflinks) (1.5.1)\n",
      "Requirement already satisfied: packaging in c:\\programdata\\anaconda3\\lib\\site-packages (from bleach->nbconvert->notebook>=4.4.1->widgetsnbextension~=3.5.0->ipywidgets>=7.0.0->cufflinks) (20.9)\n",
      "Requirement already satisfied: webencodings in c:\\programdata\\anaconda3\\lib\\site-packages (from bleach->nbconvert->notebook>=4.4.1->widgetsnbextension~=3.5.0->ipywidgets>=7.0.0->cufflinks) (0.5.1)\n",
      "Requirement already satisfied: pyparsing>=2.0.2 in c:\\programdata\\anaconda3\\lib\\site-packages (from packaging->bleach->nbconvert->notebook>=4.4.1->widgetsnbextension~=3.5.0->ipywidgets>=7.0.0->cufflinks) (2.4.7)\n",
      "Building wheels for collected packages: cufflinks\n",
      "  Building wheel for cufflinks (setup.py): started\n",
      "  Building wheel for cufflinks (setup.py): finished with status 'done'\n",
      "  Created wheel for cufflinks: filename=cufflinks-0.17.3-py3-none-any.whl size=68724 sha256=227e1b0974b1db5ea9802bc42473a2fd2cf2d4f87d84d5f9f7d9afd60b4e1f64\n",
      "  Stored in directory: c:\\users\\payus\\appdata\\local\\pip\\cache\\wheels\\6b\\76\\62\\6da97734911ffcbdd559fd1a3f28526321f0ae699182a23866\n",
      "Successfully built cufflinks\n",
      "Installing collected packages: colorlover, cufflinks\n",
      "Successfully installed colorlover-0.3.0 cufflinks-0.17.3\n"
     ]
    }
   ],
   "source": [
    "pip install cufflinks\n"
   ]
  },
  {
   "cell_type": "code",
   "execution_count": 2,
   "id": "e2ffc324",
   "metadata": {},
   "outputs": [
    {
     "data": {
      "text/html": [
       "        <script type=\"text/javascript\">\n",
       "        window.PlotlyConfig = {MathJaxConfig: 'local'};\n",
       "        if (window.MathJax) {MathJax.Hub.Config({SVG: {font: \"STIX-Web\"}});}\n",
       "        if (typeof require !== 'undefined') {\n",
       "        require.undef(\"plotly\");\n",
       "        requirejs.config({\n",
       "            paths: {\n",
       "                'plotly': ['https://cdn.plot.ly/plotly-2.8.3.min']\n",
       "            }\n",
       "        });\n",
       "        require(['plotly'], function(Plotly) {\n",
       "            window._Plotly = Plotly;\n",
       "        });\n",
       "        }\n",
       "        </script>\n",
       "        "
      ]
     },
     "metadata": {},
     "output_type": "display_data"
    },
    {
     "data": {
      "text/html": [
       "        <script type=\"text/javascript\">\n",
       "        window.PlotlyConfig = {MathJaxConfig: 'local'};\n",
       "        if (window.MathJax) {MathJax.Hub.Config({SVG: {font: \"STIX-Web\"}});}\n",
       "        if (typeof require !== 'undefined') {\n",
       "        require.undef(\"plotly\");\n",
       "        requirejs.config({\n",
       "            paths: {\n",
       "                'plotly': ['https://cdn.plot.ly/plotly-2.8.3.min']\n",
       "            }\n",
       "        });\n",
       "        require(['plotly'], function(Plotly) {\n",
       "            window._Plotly = Plotly;\n",
       "        });\n",
       "        }\n",
       "        </script>\n",
       "        "
      ]
     },
     "metadata": {},
     "output_type": "display_data"
    }
   ],
   "source": [
    "import pandas as pd \n",
    "import numpy as np\n",
    "import matplotlib.pyplot as plt\n",
    "import chart_studio.plotly as py\n",
    "import cufflinks as cf\n",
    "import seaborn as sns\n",
    "import plotly.express as px\n",
    "import plotly.graph_objects as go\n",
    "%matplotlib inline\n",
    "\n",
    "from plotly.offline import download_plotlyjs, init_notebook_mode,plot,iplot\n",
    "init_notebook_mode(connected=True)\n",
    "cf.go_offline()"
   ]
  },
  {
   "cell_type": "markdown",
   "id": "773c1019",
   "metadata": {},
   "source": [
    "## Dataset Cleaning"
   ]
  },
  {
   "cell_type": "code",
   "execution_count": 3,
   "id": "c6b92fbc",
   "metadata": {},
   "outputs": [],
   "source": [
    "ds_1=pd.read_csv('city_day.csv');"
   ]
  },
  {
   "cell_type": "code",
   "execution_count": 4,
   "id": "0c545559",
   "metadata": {},
   "outputs": [],
   "source": [
    "new_df = pd.concat([ds_1.iloc[:,0:2],ds_1.iloc[:,7:]],axis = 1)\n",
    "\n",
    "new_df = new_df[new_df['City'] == 'Delhi']"
   ]
  },
  {
   "cell_type": "code",
   "execution_count": 5,
   "id": "aaca6696",
   "metadata": {},
   "outputs": [],
   "source": [
    "new_df['Date'] = pd.to_datetime(new_df['Date'])"
   ]
  },
  {
   "cell_type": "code",
   "execution_count": 6,
   "id": "076e0258",
   "metadata": {},
   "outputs": [],
   "source": [
    "new_df['Year'] = new_df['Date'].dt.year"
   ]
  },
  {
   "cell_type": "code",
   "execution_count": 7,
   "id": "4515ede1",
   "metadata": {},
   "outputs": [],
   "source": [
    "new_df = new_df.set_index(['Year'])"
   ]
  },
  {
   "cell_type": "markdown",
   "id": "15b9436b",
   "metadata": {},
   "source": [
    "## Making dataframes"
   ]
  },
  {
   "cell_type": "code",
   "execution_count": 8,
   "id": "f1a17707",
   "metadata": {},
   "outputs": [],
   "source": [
    "ds_delhi_15=new_df.loc['2015'];\n",
    "ds_delhi_16=new_df.loc['2016'];\n",
    "ds_delhi_17=new_df.loc['2017'];\n",
    "ds_delhi_18=new_df.loc['2018'];\n",
    "ds_delhi_19=new_df.loc['2019'];\n",
    "ds_delhi_20=new_df.loc['2020'];"
   ]
  },
  {
   "cell_type": "code",
   "execution_count": 9,
   "id": "504db864",
   "metadata": {},
   "outputs": [
    {
     "data": {
      "text/html": [
       "<div>\n",
       "<style scoped>\n",
       "    .dataframe tbody tr th:only-of-type {\n",
       "        vertical-align: middle;\n",
       "    }\n",
       "\n",
       "    .dataframe tbody tr th {\n",
       "        vertical-align: top;\n",
       "    }\n",
       "\n",
       "    .dataframe thead th {\n",
       "        text-align: right;\n",
       "    }\n",
       "</style>\n",
       "<table border=\"1\" class=\"dataframe\">\n",
       "  <thead>\n",
       "    <tr style=\"text-align: right;\">\n",
       "      <th></th>\n",
       "      <th>City</th>\n",
       "      <th>Date</th>\n",
       "      <th>NH3</th>\n",
       "      <th>CO</th>\n",
       "      <th>SO2</th>\n",
       "      <th>O3</th>\n",
       "      <th>Benzene</th>\n",
       "      <th>Toluene</th>\n",
       "      <th>Xylene</th>\n",
       "      <th>AQI</th>\n",
       "      <th>AQI_Bucket</th>\n",
       "    </tr>\n",
       "    <tr>\n",
       "      <th>Year</th>\n",
       "      <th></th>\n",
       "      <th></th>\n",
       "      <th></th>\n",
       "      <th></th>\n",
       "      <th></th>\n",
       "      <th></th>\n",
       "      <th></th>\n",
       "      <th></th>\n",
       "      <th></th>\n",
       "      <th></th>\n",
       "      <th></th>\n",
       "    </tr>\n",
       "  </thead>\n",
       "  <tbody>\n",
       "    <tr>\n",
       "      <th>2016</th>\n",
       "      <td>Delhi</td>\n",
       "      <td>2016-01-01</td>\n",
       "      <td>79.87</td>\n",
       "      <td>2.42</td>\n",
       "      <td>23.57</td>\n",
       "      <td>108.14</td>\n",
       "      <td>5.81</td>\n",
       "      <td>16.30</td>\n",
       "      <td>0.0</td>\n",
       "      <td>463.0</td>\n",
       "      <td>Severe</td>\n",
       "    </tr>\n",
       "    <tr>\n",
       "      <th>2016</th>\n",
       "      <td>Delhi</td>\n",
       "      <td>2016-01-02</td>\n",
       "      <td>65.11</td>\n",
       "      <td>2.15</td>\n",
       "      <td>23.33</td>\n",
       "      <td>90.45</td>\n",
       "      <td>5.79</td>\n",
       "      <td>17.65</td>\n",
       "      <td>NaN</td>\n",
       "      <td>465.0</td>\n",
       "      <td>Severe</td>\n",
       "    </tr>\n",
       "    <tr>\n",
       "      <th>2016</th>\n",
       "      <td>Delhi</td>\n",
       "      <td>2016-01-03</td>\n",
       "      <td>66.40</td>\n",
       "      <td>2.39</td>\n",
       "      <td>19.94</td>\n",
       "      <td>97.03</td>\n",
       "      <td>5.33</td>\n",
       "      <td>10.78</td>\n",
       "      <td>NaN</td>\n",
       "      <td>426.0</td>\n",
       "      <td>Severe</td>\n",
       "    </tr>\n",
       "    <tr>\n",
       "      <th>2016</th>\n",
       "      <td>Delhi</td>\n",
       "      <td>2016-01-04</td>\n",
       "      <td>73.73</td>\n",
       "      <td>2.97</td>\n",
       "      <td>27.90</td>\n",
       "      <td>91.20</td>\n",
       "      <td>7.12</td>\n",
       "      <td>19.01</td>\n",
       "      <td>NaN</td>\n",
       "      <td>496.0</td>\n",
       "      <td>Severe</td>\n",
       "    </tr>\n",
       "    <tr>\n",
       "      <th>2016</th>\n",
       "      <td>Delhi</td>\n",
       "      <td>2016-01-05</td>\n",
       "      <td>78.22</td>\n",
       "      <td>2.85</td>\n",
       "      <td>30.24</td>\n",
       "      <td>131.40</td>\n",
       "      <td>6.45</td>\n",
       "      <td>21.32</td>\n",
       "      <td>NaN</td>\n",
       "      <td>528.0</td>\n",
       "      <td>Severe</td>\n",
       "    </tr>\n",
       "    <tr>\n",
       "      <th>...</th>\n",
       "      <td>...</td>\n",
       "      <td>...</td>\n",
       "      <td>...</td>\n",
       "      <td>...</td>\n",
       "      <td>...</td>\n",
       "      <td>...</td>\n",
       "      <td>...</td>\n",
       "      <td>...</td>\n",
       "      <td>...</td>\n",
       "      <td>...</td>\n",
       "      <td>...</td>\n",
       "    </tr>\n",
       "    <tr>\n",
       "      <th>2016</th>\n",
       "      <td>Delhi</td>\n",
       "      <td>2016-12-27</td>\n",
       "      <td>47.88</td>\n",
       "      <td>0.94</td>\n",
       "      <td>24.51</td>\n",
       "      <td>36.90</td>\n",
       "      <td>6.13</td>\n",
       "      <td>11.06</td>\n",
       "      <td>NaN</td>\n",
       "      <td>319.0</td>\n",
       "      <td>Very Poor</td>\n",
       "    </tr>\n",
       "    <tr>\n",
       "      <th>2016</th>\n",
       "      <td>Delhi</td>\n",
       "      <td>2016-12-28</td>\n",
       "      <td>60.40</td>\n",
       "      <td>1.61</td>\n",
       "      <td>26.10</td>\n",
       "      <td>40.19</td>\n",
       "      <td>7.04</td>\n",
       "      <td>16.43</td>\n",
       "      <td>NaN</td>\n",
       "      <td>455.0</td>\n",
       "      <td>Severe</td>\n",
       "    </tr>\n",
       "    <tr>\n",
       "      <th>2016</th>\n",
       "      <td>Delhi</td>\n",
       "      <td>2016-12-29</td>\n",
       "      <td>88.44</td>\n",
       "      <td>1.30</td>\n",
       "      <td>21.60</td>\n",
       "      <td>55.09</td>\n",
       "      <td>7.29</td>\n",
       "      <td>18.01</td>\n",
       "      <td>NaN</td>\n",
       "      <td>524.0</td>\n",
       "      <td>Severe</td>\n",
       "    </tr>\n",
       "    <tr>\n",
       "      <th>2016</th>\n",
       "      <td>Delhi</td>\n",
       "      <td>2016-12-30</td>\n",
       "      <td>54.58</td>\n",
       "      <td>0.96</td>\n",
       "      <td>23.47</td>\n",
       "      <td>43.97</td>\n",
       "      <td>6.93</td>\n",
       "      <td>12.43</td>\n",
       "      <td>NaN</td>\n",
       "      <td>381.0</td>\n",
       "      <td>Very Poor</td>\n",
       "    </tr>\n",
       "    <tr>\n",
       "      <th>2016</th>\n",
       "      <td>Delhi</td>\n",
       "      <td>2016-12-31</td>\n",
       "      <td>52.53</td>\n",
       "      <td>1.14</td>\n",
       "      <td>23.82</td>\n",
       "      <td>42.84</td>\n",
       "      <td>8.03</td>\n",
       "      <td>17.16</td>\n",
       "      <td>NaN</td>\n",
       "      <td>338.0</td>\n",
       "      <td>Very Poor</td>\n",
       "    </tr>\n",
       "  </tbody>\n",
       "</table>\n",
       "<p>366 rows × 11 columns</p>\n",
       "</div>"
      ],
      "text/plain": [
       "       City       Date    NH3    CO    SO2      O3  Benzene  Toluene  Xylene  \\\n",
       "Year                                                                           \n",
       "2016  Delhi 2016-01-01  79.87  2.42  23.57  108.14     5.81    16.30     0.0   \n",
       "2016  Delhi 2016-01-02  65.11  2.15  23.33   90.45     5.79    17.65     NaN   \n",
       "2016  Delhi 2016-01-03  66.40  2.39  19.94   97.03     5.33    10.78     NaN   \n",
       "2016  Delhi 2016-01-04  73.73  2.97  27.90   91.20     7.12    19.01     NaN   \n",
       "2016  Delhi 2016-01-05  78.22  2.85  30.24  131.40     6.45    21.32     NaN   \n",
       "...     ...        ...    ...   ...    ...     ...      ...      ...     ...   \n",
       "2016  Delhi 2016-12-27  47.88  0.94  24.51   36.90     6.13    11.06     NaN   \n",
       "2016  Delhi 2016-12-28  60.40  1.61  26.10   40.19     7.04    16.43     NaN   \n",
       "2016  Delhi 2016-12-29  88.44  1.30  21.60   55.09     7.29    18.01     NaN   \n",
       "2016  Delhi 2016-12-30  54.58  0.96  23.47   43.97     6.93    12.43     NaN   \n",
       "2016  Delhi 2016-12-31  52.53  1.14  23.82   42.84     8.03    17.16     NaN   \n",
       "\n",
       "        AQI AQI_Bucket  \n",
       "Year                    \n",
       "2016  463.0     Severe  \n",
       "2016  465.0     Severe  \n",
       "2016  426.0     Severe  \n",
       "2016  496.0     Severe  \n",
       "2016  528.0     Severe  \n",
       "...     ...        ...  \n",
       "2016  319.0  Very Poor  \n",
       "2016  455.0     Severe  \n",
       "2016  524.0     Severe  \n",
       "2016  381.0  Very Poor  \n",
       "2016  338.0  Very Poor  \n",
       "\n",
       "[366 rows x 11 columns]"
      ]
     },
     "execution_count": 9,
     "metadata": {},
     "output_type": "execute_result"
    }
   ],
   "source": [
    "ds_delhi_16"
   ]
  },
  {
   "cell_type": "markdown",
   "id": "07aab877",
   "metadata": {},
   "source": [
    "# AQI DATAFRAMES"
   ]
  },
  {
   "cell_type": "code",
   "execution_count": 10,
   "id": "292c2857",
   "metadata": {},
   "outputs": [],
   "source": [
    "aqi_15 = ds_delhi_15.iloc[:,2].values;\n",
    "aqi_16 = ds_delhi_16.iloc[:,2].values;\n",
    "aqi_17 = ds_delhi_17.iloc[:,2].values;\n",
    "aqi_18 = ds_delhi_18.iloc[:,2].values;\n",
    "aqi_19 = ds_delhi_19.iloc[:,2].values;\n",
    "aqi_20 = ds_delhi_20.iloc[:,2].values;"
   ]
  },
  {
   "cell_type": "markdown",
   "id": "dec0c136",
   "metadata": {},
   "source": [
    "# Visualization Of The Data"
   ]
  },
  {
   "cell_type": "code",
   "execution_count": 11,
   "id": "fb301626",
   "metadata": {},
   "outputs": [],
   "source": [
    "aqi_level_15 = new_df.loc['2015']\n",
    "aqi_level_16 = new_df.loc['2016']\n",
    "aqi_level_17 = new_df.loc['2017']\n",
    "aqi_level_18 = new_df.loc['2018']\n",
    "aqi_level_19 = new_df.loc['2019']\n",
    "aqi_level_20 = new_df.loc['2020']"
   ]
  },
  {
   "cell_type": "code",
   "execution_count": 12,
   "id": "9eebdf75",
   "metadata": {
    "scrolled": true
   },
   "outputs": [
    {
     "data": {
      "text/html": [
       "<div>\n",
       "<style scoped>\n",
       "    .dataframe tbody tr th:only-of-type {\n",
       "        vertical-align: middle;\n",
       "    }\n",
       "\n",
       "    .dataframe tbody tr th {\n",
       "        vertical-align: top;\n",
       "    }\n",
       "\n",
       "    .dataframe thead th {\n",
       "        text-align: right;\n",
       "    }\n",
       "</style>\n",
       "<table border=\"1\" class=\"dataframe\">\n",
       "  <thead>\n",
       "    <tr style=\"text-align: right;\">\n",
       "      <th></th>\n",
       "      <th>City</th>\n",
       "      <th>Date</th>\n",
       "      <th>NH3</th>\n",
       "      <th>CO</th>\n",
       "      <th>SO2</th>\n",
       "      <th>O3</th>\n",
       "      <th>Benzene</th>\n",
       "      <th>Toluene</th>\n",
       "      <th>Xylene</th>\n",
       "      <th>AQI</th>\n",
       "      <th>AQI_Bucket</th>\n",
       "    </tr>\n",
       "    <tr>\n",
       "      <th>Year</th>\n",
       "      <th></th>\n",
       "      <th></th>\n",
       "      <th></th>\n",
       "      <th></th>\n",
       "      <th></th>\n",
       "      <th></th>\n",
       "      <th></th>\n",
       "      <th></th>\n",
       "      <th></th>\n",
       "      <th></th>\n",
       "      <th></th>\n",
       "    </tr>\n",
       "  </thead>\n",
       "  <tbody>\n",
       "    <tr>\n",
       "      <th>2017</th>\n",
       "      <td>Delhi</td>\n",
       "      <td>2017-01-01</td>\n",
       "      <td>55.92</td>\n",
       "      <td>1.31</td>\n",
       "      <td>25.13</td>\n",
       "      <td>50.03</td>\n",
       "      <td>8.39</td>\n",
       "      <td>19.94</td>\n",
       "      <td>NaN</td>\n",
       "      <td>332.0</td>\n",
       "      <td>Very Poor</td>\n",
       "    </tr>\n",
       "    <tr>\n",
       "      <th>2017</th>\n",
       "      <td>Delhi</td>\n",
       "      <td>2017-01-02</td>\n",
       "      <td>66.57</td>\n",
       "      <td>1.47</td>\n",
       "      <td>22.29</td>\n",
       "      <td>47.86</td>\n",
       "      <td>8.96</td>\n",
       "      <td>18.92</td>\n",
       "      <td>NaN</td>\n",
       "      <td>384.0</td>\n",
       "      <td>Very Poor</td>\n",
       "    </tr>\n",
       "    <tr>\n",
       "      <th>2017</th>\n",
       "      <td>Delhi</td>\n",
       "      <td>2017-01-03</td>\n",
       "      <td>58.97</td>\n",
       "      <td>1.28</td>\n",
       "      <td>25.33</td>\n",
       "      <td>42.90</td>\n",
       "      <td>7.65</td>\n",
       "      <td>13.96</td>\n",
       "      <td>NaN</td>\n",
       "      <td>373.0</td>\n",
       "      <td>Very Poor</td>\n",
       "    </tr>\n",
       "    <tr>\n",
       "      <th>2017</th>\n",
       "      <td>Delhi</td>\n",
       "      <td>2017-01-04</td>\n",
       "      <td>68.53</td>\n",
       "      <td>1.55</td>\n",
       "      <td>23.11</td>\n",
       "      <td>41.13</td>\n",
       "      <td>7.26</td>\n",
       "      <td>16.51</td>\n",
       "      <td>NaN</td>\n",
       "      <td>439.0</td>\n",
       "      <td>Severe</td>\n",
       "    </tr>\n",
       "    <tr>\n",
       "      <th>2017</th>\n",
       "      <td>Delhi</td>\n",
       "      <td>2017-01-05</td>\n",
       "      <td>61.04</td>\n",
       "      <td>1.24</td>\n",
       "      <td>25.15</td>\n",
       "      <td>41.95</td>\n",
       "      <td>5.73</td>\n",
       "      <td>12.89</td>\n",
       "      <td>NaN</td>\n",
       "      <td>318.0</td>\n",
       "      <td>Very Poor</td>\n",
       "    </tr>\n",
       "    <tr>\n",
       "      <th>...</th>\n",
       "      <td>...</td>\n",
       "      <td>...</td>\n",
       "      <td>...</td>\n",
       "      <td>...</td>\n",
       "      <td>...</td>\n",
       "      <td>...</td>\n",
       "      <td>...</td>\n",
       "      <td>...</td>\n",
       "      <td>...</td>\n",
       "      <td>...</td>\n",
       "      <td>...</td>\n",
       "    </tr>\n",
       "    <tr>\n",
       "      <th>2017</th>\n",
       "      <td>Delhi</td>\n",
       "      <td>2017-12-27</td>\n",
       "      <td>71.71</td>\n",
       "      <td>1.69</td>\n",
       "      <td>23.17</td>\n",
       "      <td>58.98</td>\n",
       "      <td>5.95</td>\n",
       "      <td>18.27</td>\n",
       "      <td>0.03</td>\n",
       "      <td>379.0</td>\n",
       "      <td>Very Poor</td>\n",
       "    </tr>\n",
       "    <tr>\n",
       "      <th>2017</th>\n",
       "      <td>Delhi</td>\n",
       "      <td>2017-12-28</td>\n",
       "      <td>79.07</td>\n",
       "      <td>1.86</td>\n",
       "      <td>25.51</td>\n",
       "      <td>66.00</td>\n",
       "      <td>6.36</td>\n",
       "      <td>23.66</td>\n",
       "      <td>0.00</td>\n",
       "      <td>398.0</td>\n",
       "      <td>Very Poor</td>\n",
       "    </tr>\n",
       "    <tr>\n",
       "      <th>2017</th>\n",
       "      <td>Delhi</td>\n",
       "      <td>2017-12-29</td>\n",
       "      <td>68.22</td>\n",
       "      <td>1.70</td>\n",
       "      <td>25.54</td>\n",
       "      <td>61.36</td>\n",
       "      <td>5.35</td>\n",
       "      <td>19.38</td>\n",
       "      <td>0.77</td>\n",
       "      <td>399.0</td>\n",
       "      <td>Very Poor</td>\n",
       "    </tr>\n",
       "    <tr>\n",
       "      <th>2017</th>\n",
       "      <td>Delhi</td>\n",
       "      <td>2017-12-30</td>\n",
       "      <td>75.04</td>\n",
       "      <td>1.96</td>\n",
       "      <td>21.01</td>\n",
       "      <td>61.73</td>\n",
       "      <td>6.96</td>\n",
       "      <td>25.19</td>\n",
       "      <td>1.18</td>\n",
       "      <td>421.0</td>\n",
       "      <td>Severe</td>\n",
       "    </tr>\n",
       "    <tr>\n",
       "      <th>2017</th>\n",
       "      <td>Delhi</td>\n",
       "      <td>2017-12-31</td>\n",
       "      <td>83.55</td>\n",
       "      <td>1.95</td>\n",
       "      <td>17.97</td>\n",
       "      <td>76.45</td>\n",
       "      <td>7.01</td>\n",
       "      <td>21.12</td>\n",
       "      <td>0.35</td>\n",
       "      <td>451.0</td>\n",
       "      <td>Severe</td>\n",
       "    </tr>\n",
       "  </tbody>\n",
       "</table>\n",
       "<p>365 rows × 11 columns</p>\n",
       "</div>"
      ],
      "text/plain": [
       "       City       Date    NH3    CO    SO2     O3  Benzene  Toluene  Xylene  \\\n",
       "Year                                                                          \n",
       "2017  Delhi 2017-01-01  55.92  1.31  25.13  50.03     8.39    19.94     NaN   \n",
       "2017  Delhi 2017-01-02  66.57  1.47  22.29  47.86     8.96    18.92     NaN   \n",
       "2017  Delhi 2017-01-03  58.97  1.28  25.33  42.90     7.65    13.96     NaN   \n",
       "2017  Delhi 2017-01-04  68.53  1.55  23.11  41.13     7.26    16.51     NaN   \n",
       "2017  Delhi 2017-01-05  61.04  1.24  25.15  41.95     5.73    12.89     NaN   \n",
       "...     ...        ...    ...   ...    ...    ...      ...      ...     ...   \n",
       "2017  Delhi 2017-12-27  71.71  1.69  23.17  58.98     5.95    18.27    0.03   \n",
       "2017  Delhi 2017-12-28  79.07  1.86  25.51  66.00     6.36    23.66    0.00   \n",
       "2017  Delhi 2017-12-29  68.22  1.70  25.54  61.36     5.35    19.38    0.77   \n",
       "2017  Delhi 2017-12-30  75.04  1.96  21.01  61.73     6.96    25.19    1.18   \n",
       "2017  Delhi 2017-12-31  83.55  1.95  17.97  76.45     7.01    21.12    0.35   \n",
       "\n",
       "        AQI AQI_Bucket  \n",
       "Year                    \n",
       "2017  332.0  Very Poor  \n",
       "2017  384.0  Very Poor  \n",
       "2017  373.0  Very Poor  \n",
       "2017  439.0     Severe  \n",
       "2017  318.0  Very Poor  \n",
       "...     ...        ...  \n",
       "2017  379.0  Very Poor  \n",
       "2017  398.0  Very Poor  \n",
       "2017  399.0  Very Poor  \n",
       "2017  421.0     Severe  \n",
       "2017  451.0     Severe  \n",
       "\n",
       "[365 rows x 11 columns]"
      ]
     },
     "execution_count": 12,
     "metadata": {},
     "output_type": "execute_result"
    }
   ],
   "source": [
    "aqi_level_17"
   ]
  },
  {
   "cell_type": "code",
   "execution_count": 13,
   "id": "1b31d52a",
   "metadata": {},
   "outputs": [
    {
     "data": {
      "text/plain": [
       "(Year\n",
       " 2017    55.92\n",
       " 2017    66.57\n",
       " 2017    58.97\n",
       " 2017    68.53\n",
       " 2017    61.04\n",
       "         ...  \n",
       " 2017    71.71\n",
       " 2017    79.07\n",
       " 2017    68.22\n",
       " 2017    75.04\n",
       " 2017    83.55\n",
       " Name: NH3, Length: 365, dtype: float64,)"
      ]
     },
     "execution_count": 13,
     "metadata": {},
     "output_type": "execute_result"
    }
   ],
   "source": [
    "aqi_level_17.iloc[:,2],"
   ]
  },
  {
   "cell_type": "code",
   "execution_count": 14,
   "id": "2da13868",
   "metadata": {},
   "outputs": [
    {
     "data": {
      "application/vnd.plotly.v1+json": {
       "config": {
        "plotlyServerURL": "https://plot.ly"
       },
       "data": [
        {
         "mode": "lines+markers",
         "type": "scatter",
         "x": [
          "2017-01-01T00:00:00",
          "2017-01-02T00:00:00",
          "2017-01-03T00:00:00",
          "2017-01-04T00:00:00",
          "2017-01-05T00:00:00",
          "2017-01-06T00:00:00",
          "2017-01-07T00:00:00",
          "2017-01-08T00:00:00",
          "2017-01-09T00:00:00",
          "2017-01-10T00:00:00",
          "2017-01-11T00:00:00",
          "2017-01-12T00:00:00",
          "2017-01-13T00:00:00",
          "2017-01-14T00:00:00",
          "2017-01-15T00:00:00",
          "2017-01-16T00:00:00",
          "2017-01-17T00:00:00",
          "2017-01-18T00:00:00",
          "2017-01-19T00:00:00",
          "2017-01-20T00:00:00",
          "2017-01-21T00:00:00",
          "2017-01-22T00:00:00",
          "2017-01-23T00:00:00",
          "2017-01-24T00:00:00",
          "2017-01-25T00:00:00",
          "2017-01-26T00:00:00",
          "2017-01-27T00:00:00",
          "2017-01-28T00:00:00",
          "2017-01-29T00:00:00",
          "2017-01-30T00:00:00",
          "2017-01-31T00:00:00",
          "2017-02-01T00:00:00",
          "2017-02-02T00:00:00",
          "2017-02-03T00:00:00",
          "2017-02-04T00:00:00",
          "2017-02-05T00:00:00",
          "2017-02-06T00:00:00",
          "2017-02-07T00:00:00",
          "2017-02-08T00:00:00",
          "2017-02-09T00:00:00",
          "2017-02-10T00:00:00",
          "2017-02-11T00:00:00",
          "2017-02-12T00:00:00",
          "2017-02-13T00:00:00",
          "2017-02-14T00:00:00",
          "2017-02-15T00:00:00",
          "2017-02-16T00:00:00",
          "2017-02-17T00:00:00",
          "2017-02-18T00:00:00",
          "2017-02-19T00:00:00",
          "2017-02-20T00:00:00",
          "2017-02-21T00:00:00",
          "2017-02-22T00:00:00",
          "2017-02-23T00:00:00",
          "2017-02-24T00:00:00",
          "2017-02-25T00:00:00",
          "2017-02-26T00:00:00",
          "2017-02-27T00:00:00",
          "2017-02-28T00:00:00",
          "2017-03-01T00:00:00",
          "2017-03-02T00:00:00",
          "2017-03-03T00:00:00",
          "2017-03-04T00:00:00",
          "2017-03-05T00:00:00",
          "2017-03-06T00:00:00",
          "2017-03-07T00:00:00",
          "2017-03-08T00:00:00",
          "2017-03-09T00:00:00",
          "2017-03-10T00:00:00",
          "2017-03-11T00:00:00",
          "2017-03-12T00:00:00",
          "2017-03-13T00:00:00",
          "2017-03-14T00:00:00",
          "2017-03-15T00:00:00",
          "2017-03-16T00:00:00",
          "2017-03-17T00:00:00",
          "2017-03-18T00:00:00",
          "2017-03-19T00:00:00",
          "2017-03-20T00:00:00",
          "2017-03-21T00:00:00",
          "2017-03-22T00:00:00",
          "2017-03-23T00:00:00",
          "2017-03-24T00:00:00",
          "2017-03-25T00:00:00",
          "2017-03-26T00:00:00",
          "2017-03-27T00:00:00",
          "2017-03-28T00:00:00",
          "2017-03-29T00:00:00",
          "2017-03-30T00:00:00",
          "2017-03-31T00:00:00",
          "2017-04-01T00:00:00",
          "2017-04-02T00:00:00",
          "2017-04-03T00:00:00",
          "2017-04-04T00:00:00",
          "2017-04-05T00:00:00",
          "2017-04-06T00:00:00",
          "2017-04-07T00:00:00",
          "2017-04-08T00:00:00",
          "2017-04-09T00:00:00",
          "2017-04-10T00:00:00",
          "2017-04-11T00:00:00",
          "2017-04-12T00:00:00",
          "2017-04-13T00:00:00",
          "2017-04-14T00:00:00",
          "2017-04-15T00:00:00",
          "2017-04-16T00:00:00",
          "2017-04-17T00:00:00",
          "2017-04-18T00:00:00",
          "2017-04-19T00:00:00",
          "2017-04-20T00:00:00",
          "2017-04-21T00:00:00",
          "2017-04-22T00:00:00",
          "2017-04-23T00:00:00",
          "2017-04-24T00:00:00",
          "2017-04-25T00:00:00",
          "2017-04-26T00:00:00",
          "2017-04-27T00:00:00",
          "2017-04-28T00:00:00",
          "2017-04-29T00:00:00",
          "2017-04-30T00:00:00",
          "2017-05-01T00:00:00",
          "2017-05-02T00:00:00",
          "2017-05-03T00:00:00",
          "2017-05-04T00:00:00",
          "2017-05-05T00:00:00",
          "2017-05-06T00:00:00",
          "2017-05-07T00:00:00",
          "2017-05-08T00:00:00",
          "2017-05-09T00:00:00",
          "2017-05-10T00:00:00",
          "2017-05-11T00:00:00",
          "2017-05-12T00:00:00",
          "2017-05-13T00:00:00",
          "2017-05-14T00:00:00",
          "2017-05-15T00:00:00",
          "2017-05-16T00:00:00",
          "2017-05-17T00:00:00",
          "2017-05-18T00:00:00",
          "2017-05-19T00:00:00",
          "2017-05-20T00:00:00",
          "2017-05-21T00:00:00",
          "2017-05-22T00:00:00",
          "2017-05-23T00:00:00",
          "2017-05-24T00:00:00",
          "2017-05-25T00:00:00",
          "2017-05-26T00:00:00",
          "2017-05-27T00:00:00",
          "2017-05-28T00:00:00",
          "2017-05-29T00:00:00",
          "2017-05-30T00:00:00",
          "2017-05-31T00:00:00",
          "2017-06-01T00:00:00",
          "2017-06-02T00:00:00",
          "2017-06-03T00:00:00",
          "2017-06-04T00:00:00",
          "2017-06-05T00:00:00",
          "2017-06-06T00:00:00",
          "2017-06-07T00:00:00",
          "2017-06-08T00:00:00",
          "2017-06-09T00:00:00",
          "2017-06-10T00:00:00",
          "2017-06-11T00:00:00",
          "2017-06-12T00:00:00",
          "2017-06-13T00:00:00",
          "2017-06-14T00:00:00",
          "2017-06-15T00:00:00",
          "2017-06-16T00:00:00",
          "2017-06-17T00:00:00",
          "2017-06-18T00:00:00",
          "2017-06-19T00:00:00",
          "2017-06-20T00:00:00",
          "2017-06-21T00:00:00",
          "2017-06-22T00:00:00",
          "2017-06-23T00:00:00",
          "2017-06-24T00:00:00",
          "2017-06-25T00:00:00",
          "2017-06-26T00:00:00",
          "2017-06-27T00:00:00",
          "2017-06-28T00:00:00",
          "2017-06-29T00:00:00",
          "2017-06-30T00:00:00",
          "2017-07-01T00:00:00",
          "2017-07-02T00:00:00",
          "2017-07-03T00:00:00",
          "2017-07-04T00:00:00",
          "2017-07-05T00:00:00",
          "2017-07-06T00:00:00",
          "2017-07-07T00:00:00",
          "2017-07-08T00:00:00",
          "2017-07-09T00:00:00",
          "2017-07-10T00:00:00",
          "2017-07-11T00:00:00",
          "2017-07-12T00:00:00",
          "2017-07-13T00:00:00",
          "2017-07-14T00:00:00",
          "2017-07-15T00:00:00",
          "2017-07-16T00:00:00",
          "2017-07-17T00:00:00",
          "2017-07-18T00:00:00",
          "2017-07-19T00:00:00",
          "2017-07-20T00:00:00",
          "2017-07-21T00:00:00",
          "2017-07-22T00:00:00",
          "2017-07-23T00:00:00",
          "2017-07-24T00:00:00",
          "2017-07-25T00:00:00",
          "2017-07-26T00:00:00",
          "2017-07-27T00:00:00",
          "2017-07-28T00:00:00",
          "2017-07-29T00:00:00",
          "2017-07-30T00:00:00",
          "2017-07-31T00:00:00",
          "2017-08-01T00:00:00",
          "2017-08-02T00:00:00",
          "2017-08-03T00:00:00",
          "2017-08-04T00:00:00",
          "2017-08-05T00:00:00",
          "2017-08-06T00:00:00",
          "2017-08-07T00:00:00",
          "2017-08-08T00:00:00",
          "2017-08-09T00:00:00",
          "2017-08-10T00:00:00",
          "2017-08-11T00:00:00",
          "2017-08-12T00:00:00",
          "2017-08-13T00:00:00",
          "2017-08-14T00:00:00",
          "2017-08-15T00:00:00",
          "2017-08-16T00:00:00",
          "2017-08-17T00:00:00",
          "2017-08-18T00:00:00",
          "2017-08-19T00:00:00",
          "2017-08-20T00:00:00",
          "2017-08-21T00:00:00",
          "2017-08-22T00:00:00",
          "2017-08-23T00:00:00",
          "2017-08-24T00:00:00",
          "2017-08-25T00:00:00",
          "2017-08-26T00:00:00",
          "2017-08-27T00:00:00",
          "2017-08-28T00:00:00",
          "2017-08-29T00:00:00",
          "2017-08-30T00:00:00",
          "2017-08-31T00:00:00",
          "2017-09-01T00:00:00",
          "2017-09-02T00:00:00",
          "2017-09-03T00:00:00",
          "2017-09-04T00:00:00",
          "2017-09-05T00:00:00",
          "2017-09-06T00:00:00",
          "2017-09-07T00:00:00",
          "2017-09-08T00:00:00",
          "2017-09-09T00:00:00",
          "2017-09-10T00:00:00",
          "2017-09-11T00:00:00",
          "2017-09-12T00:00:00",
          "2017-09-13T00:00:00",
          "2017-09-14T00:00:00",
          "2017-09-15T00:00:00",
          "2017-09-16T00:00:00",
          "2017-09-17T00:00:00",
          "2017-09-18T00:00:00",
          "2017-09-19T00:00:00",
          "2017-09-20T00:00:00",
          "2017-09-21T00:00:00",
          "2017-09-22T00:00:00",
          "2017-09-23T00:00:00",
          "2017-09-24T00:00:00",
          "2017-09-25T00:00:00",
          "2017-09-26T00:00:00",
          "2017-09-27T00:00:00",
          "2017-09-28T00:00:00",
          "2017-09-29T00:00:00",
          "2017-09-30T00:00:00",
          "2017-10-01T00:00:00",
          "2017-10-02T00:00:00",
          "2017-10-03T00:00:00",
          "2017-10-04T00:00:00",
          "2017-10-05T00:00:00",
          "2017-10-06T00:00:00",
          "2017-10-07T00:00:00",
          "2017-10-08T00:00:00",
          "2017-10-09T00:00:00",
          "2017-10-10T00:00:00",
          "2017-10-11T00:00:00",
          "2017-10-12T00:00:00",
          "2017-10-13T00:00:00",
          "2017-10-14T00:00:00",
          "2017-10-15T00:00:00",
          "2017-10-16T00:00:00",
          "2017-10-17T00:00:00",
          "2017-10-18T00:00:00",
          "2017-10-19T00:00:00",
          "2017-10-20T00:00:00",
          "2017-10-21T00:00:00",
          "2017-10-22T00:00:00",
          "2017-10-23T00:00:00",
          "2017-10-24T00:00:00",
          "2017-10-25T00:00:00",
          "2017-10-26T00:00:00",
          "2017-10-27T00:00:00",
          "2017-10-28T00:00:00",
          "2017-10-29T00:00:00",
          "2017-10-30T00:00:00",
          "2017-10-31T00:00:00",
          "2017-11-01T00:00:00",
          "2017-11-02T00:00:00",
          "2017-11-03T00:00:00",
          "2017-11-04T00:00:00",
          "2017-11-05T00:00:00",
          "2017-11-06T00:00:00",
          "2017-11-07T00:00:00",
          "2017-11-08T00:00:00",
          "2017-11-09T00:00:00",
          "2017-11-10T00:00:00",
          "2017-11-11T00:00:00",
          "2017-11-12T00:00:00",
          "2017-11-13T00:00:00",
          "2017-11-14T00:00:00",
          "2017-11-15T00:00:00",
          "2017-11-16T00:00:00",
          "2017-11-17T00:00:00",
          "2017-11-18T00:00:00",
          "2017-11-19T00:00:00",
          "2017-11-20T00:00:00",
          "2017-11-21T00:00:00",
          "2017-11-22T00:00:00",
          "2017-11-23T00:00:00",
          "2017-11-24T00:00:00",
          "2017-11-25T00:00:00",
          "2017-11-26T00:00:00",
          "2017-11-27T00:00:00",
          "2017-11-28T00:00:00",
          "2017-11-29T00:00:00",
          "2017-11-30T00:00:00",
          "2017-12-01T00:00:00",
          "2017-12-02T00:00:00",
          "2017-12-03T00:00:00",
          "2017-12-04T00:00:00",
          "2017-12-05T00:00:00",
          "2017-12-06T00:00:00",
          "2017-12-07T00:00:00",
          "2017-12-08T00:00:00",
          "2017-12-09T00:00:00",
          "2017-12-10T00:00:00",
          "2017-12-11T00:00:00",
          "2017-12-12T00:00:00",
          "2017-12-13T00:00:00",
          "2017-12-14T00:00:00",
          "2017-12-15T00:00:00",
          "2017-12-16T00:00:00",
          "2017-12-17T00:00:00",
          "2017-12-18T00:00:00",
          "2017-12-19T00:00:00",
          "2017-12-20T00:00:00",
          "2017-12-21T00:00:00",
          "2017-12-22T00:00:00",
          "2017-12-23T00:00:00",
          "2017-12-24T00:00:00",
          "2017-12-25T00:00:00",
          "2017-12-26T00:00:00",
          "2017-12-27T00:00:00",
          "2017-12-28T00:00:00",
          "2017-12-29T00:00:00",
          "2017-12-30T00:00:00",
          "2017-12-31T00:00:00"
         ],
         "y": [
          55.92,
          66.57,
          58.97,
          68.53,
          61.04,
          58.18,
          36.9,
          29.21,
          36.32,
          28.52,
          31.36,
          43.41,
          45.76,
          36.49,
          24.33,
          39.47,
          33.13,
          31.97,
          25.48,
          31.55,
          19.27,
          24.1,
          33.51,
          56.08,
          69.27,
          48.42,
          31.84,
          28.3,
          28.3,
          40.53,
          54.92,
          46.63,
          60.67,
          62.33,
          57.26,
          40.73,
          46.21,
          28.73,
          31.42,
          39.7,
          47.34,
          55.54,
          95.27,
          51.62,
          50.31,
          54.38,
          55.87,
          53.4,
          62.34,
          75.4,
          83.01,
          66.01,
          58.5,
          38.51,
          29.63,
          34.4,
          40.72,
          43.29,
          76.09,
          73.27,
          62.98,
          41.85,
          39.3,
          34.4,
          33.66,
          43.71,
          36.04,
          32.12,
          25.51,
          24.61,
          24.24,
          21.02,
          22.58,
          37.36,
          43.07,
          29.62,
          33.5,
          43.17,
          34.32,
          33.99,
          49.03,
          73.23,
          76.02,
          59.37,
          53.05,
          52.56,
          61.73,
          58.95,
          57.35,
          67.36,
          68.33,
          59.67,
          58.96,
          63.38,
          66.8,
          59.04,
          51.4,
          55.26,
          38.77,
          37.48,
          40.69,
          43.01,
          54.53,
          67.47,
          63.27,
          38.41,
          42.18,
          41.14,
          50.75,
          64.48,
          54.57,
          39.46,
          40.33,
          34.43,
          31,
          34.01,
          37.41,
          33.57,
          42.48,
          34.42,
          40.22,
          44.95,
          44.27,
          34.41,
          32.24,
          37.01,
          41.82,
          50.62,
          36.69,
          34.59,
          30.7,
          35.38,
          42.62,
          32.57,
          37.08,
          20.17,
          12.09,
          13.57,
          27.59,
          25.31,
          13.02,
          39.38,
          56.89,
          42.37,
          33.07,
          49.97,
          39.95,
          37.97,
          41.24,
          47.68,
          53.68,
          57.81,
          60.86,
          62.41,
          55.02,
          41.28,
          43.51,
          48.84,
          40.3,
          41.19,
          41.51,
          38.68,
          50.52,
          58.1,
          52.51,
          54.71,
          51.3,
          48.94,
          48.14,
          46.71,
          59.54,
          50.91,
          69.13,
          52.73,
          58.3,
          45.21,
          38.93,
          37.64,
          41.14,
          33.87,
          41.27,
          44.12,
          32.97,
          32.02,
          28.8,
          25.81,
          24.82,
          30.98,
          28.82,
          41.79,
          27.22,
          26.19,
          27.31,
          28.03,
          29.06,
          37.26,
          35.52,
          43.34,
          49.2,
          58.22,
          44.64,
          26.97,
          23.32,
          26.79,
          28.58,
          28.73,
          27.09,
          26.74,
          25.11,
          22.45,
          22.24,
          32,
          33.36,
          38.35,
          34.14,
          33.24,
          36.4,
          43.5,
          33.07,
          36.53,
          42.64,
          31.22,
          17.92,
          null,
          null,
          34.8,
          18.69,
          23.94,
          26.78,
          24.79,
          24.34,
          17.65,
          12.14,
          15.5,
          22.33,
          23.83,
          18.75,
          23.26,
          29.19,
          15.6,
          27.77,
          38.09,
          25.08,
          17.6,
          33.97,
          25.9,
          86.67,
          30.21,
          31.07,
          36.46,
          27.05,
          31.1,
          49.74,
          48,
          null,
          null,
          43.06,
          31.02,
          40.92,
          31.89,
          33.88,
          45,
          56.47,
          31.36,
          17.63,
          17.47,
          19.11,
          19.81,
          34.54,
          50.34,
          54.37,
          41.19,
          44.1,
          50.15,
          39.12,
          31.36,
          39.43,
          37.22,
          31.48,
          35.37,
          41.02,
          50.93,
          56.42,
          64.21,
          44.32,
          45.28,
          55.52,
          44.61,
          51.88,
          42.92,
          44.57,
          50.7,
          48.79,
          50.8,
          45.72,
          48.44,
          53.82,
          55.14,
          61.45,
          48.68,
          51.2,
          50.6,
          52.67,
          64.28,
          47.36,
          49.88,
          53.2,
          52.75,
          61.8,
          65.81,
          91.87,
          82.96,
          74.84,
          84.1,
          90.64,
          73.63,
          73.85,
          55.71,
          48.83,
          50.06,
          45.56,
          38.55,
          34.83,
          36.28,
          40.58,
          40.37,
          40.03,
          44.62,
          47.81,
          63.81,
          52.5,
          60.94,
          83.31,
          77.53,
          65.47,
          92.4,
          85.25,
          90.28,
          71.16,
          45.92,
          36.04,
          41.49,
          57.73,
          77.11,
          86.87,
          50.54,
          48.27,
          46.26,
          42.56,
          39.74,
          35.36,
          45.71,
          56.27,
          78.25,
          72.97,
          55.36,
          51.89,
          73.83,
          68.61,
          62.83,
          71.71,
          79.07,
          68.22,
          75.04,
          83.55
         ]
        }
       ],
       "layout": {
        "template": {
         "data": {
          "bar": [
           {
            "error_x": {
             "color": "#2a3f5f"
            },
            "error_y": {
             "color": "#2a3f5f"
            },
            "marker": {
             "line": {
              "color": "#E5ECF6",
              "width": 0.5
             },
             "pattern": {
              "fillmode": "overlay",
              "size": 10,
              "solidity": 0.2
             }
            },
            "type": "bar"
           }
          ],
          "barpolar": [
           {
            "marker": {
             "line": {
              "color": "#E5ECF6",
              "width": 0.5
             },
             "pattern": {
              "fillmode": "overlay",
              "size": 10,
              "solidity": 0.2
             }
            },
            "type": "barpolar"
           }
          ],
          "carpet": [
           {
            "aaxis": {
             "endlinecolor": "#2a3f5f",
             "gridcolor": "white",
             "linecolor": "white",
             "minorgridcolor": "white",
             "startlinecolor": "#2a3f5f"
            },
            "baxis": {
             "endlinecolor": "#2a3f5f",
             "gridcolor": "white",
             "linecolor": "white",
             "minorgridcolor": "white",
             "startlinecolor": "#2a3f5f"
            },
            "type": "carpet"
           }
          ],
          "choropleth": [
           {
            "colorbar": {
             "outlinewidth": 0,
             "ticks": ""
            },
            "type": "choropleth"
           }
          ],
          "contour": [
           {
            "colorbar": {
             "outlinewidth": 0,
             "ticks": ""
            },
            "colorscale": [
             [
              0,
              "#0d0887"
             ],
             [
              0.1111111111111111,
              "#46039f"
             ],
             [
              0.2222222222222222,
              "#7201a8"
             ],
             [
              0.3333333333333333,
              "#9c179e"
             ],
             [
              0.4444444444444444,
              "#bd3786"
             ],
             [
              0.5555555555555556,
              "#d8576b"
             ],
             [
              0.6666666666666666,
              "#ed7953"
             ],
             [
              0.7777777777777778,
              "#fb9f3a"
             ],
             [
              0.8888888888888888,
              "#fdca26"
             ],
             [
              1,
              "#f0f921"
             ]
            ],
            "type": "contour"
           }
          ],
          "contourcarpet": [
           {
            "colorbar": {
             "outlinewidth": 0,
             "ticks": ""
            },
            "type": "contourcarpet"
           }
          ],
          "heatmap": [
           {
            "colorbar": {
             "outlinewidth": 0,
             "ticks": ""
            },
            "colorscale": [
             [
              0,
              "#0d0887"
             ],
             [
              0.1111111111111111,
              "#46039f"
             ],
             [
              0.2222222222222222,
              "#7201a8"
             ],
             [
              0.3333333333333333,
              "#9c179e"
             ],
             [
              0.4444444444444444,
              "#bd3786"
             ],
             [
              0.5555555555555556,
              "#d8576b"
             ],
             [
              0.6666666666666666,
              "#ed7953"
             ],
             [
              0.7777777777777778,
              "#fb9f3a"
             ],
             [
              0.8888888888888888,
              "#fdca26"
             ],
             [
              1,
              "#f0f921"
             ]
            ],
            "type": "heatmap"
           }
          ],
          "heatmapgl": [
           {
            "colorbar": {
             "outlinewidth": 0,
             "ticks": ""
            },
            "colorscale": [
             [
              0,
              "#0d0887"
             ],
             [
              0.1111111111111111,
              "#46039f"
             ],
             [
              0.2222222222222222,
              "#7201a8"
             ],
             [
              0.3333333333333333,
              "#9c179e"
             ],
             [
              0.4444444444444444,
              "#bd3786"
             ],
             [
              0.5555555555555556,
              "#d8576b"
             ],
             [
              0.6666666666666666,
              "#ed7953"
             ],
             [
              0.7777777777777778,
              "#fb9f3a"
             ],
             [
              0.8888888888888888,
              "#fdca26"
             ],
             [
              1,
              "#f0f921"
             ]
            ],
            "type": "heatmapgl"
           }
          ],
          "histogram": [
           {
            "marker": {
             "pattern": {
              "fillmode": "overlay",
              "size": 10,
              "solidity": 0.2
             }
            },
            "type": "histogram"
           }
          ],
          "histogram2d": [
           {
            "colorbar": {
             "outlinewidth": 0,
             "ticks": ""
            },
            "colorscale": [
             [
              0,
              "#0d0887"
             ],
             [
              0.1111111111111111,
              "#46039f"
             ],
             [
              0.2222222222222222,
              "#7201a8"
             ],
             [
              0.3333333333333333,
              "#9c179e"
             ],
             [
              0.4444444444444444,
              "#bd3786"
             ],
             [
              0.5555555555555556,
              "#d8576b"
             ],
             [
              0.6666666666666666,
              "#ed7953"
             ],
             [
              0.7777777777777778,
              "#fb9f3a"
             ],
             [
              0.8888888888888888,
              "#fdca26"
             ],
             [
              1,
              "#f0f921"
             ]
            ],
            "type": "histogram2d"
           }
          ],
          "histogram2dcontour": [
           {
            "colorbar": {
             "outlinewidth": 0,
             "ticks": ""
            },
            "colorscale": [
             [
              0,
              "#0d0887"
             ],
             [
              0.1111111111111111,
              "#46039f"
             ],
             [
              0.2222222222222222,
              "#7201a8"
             ],
             [
              0.3333333333333333,
              "#9c179e"
             ],
             [
              0.4444444444444444,
              "#bd3786"
             ],
             [
              0.5555555555555556,
              "#d8576b"
             ],
             [
              0.6666666666666666,
              "#ed7953"
             ],
             [
              0.7777777777777778,
              "#fb9f3a"
             ],
             [
              0.8888888888888888,
              "#fdca26"
             ],
             [
              1,
              "#f0f921"
             ]
            ],
            "type": "histogram2dcontour"
           }
          ],
          "mesh3d": [
           {
            "colorbar": {
             "outlinewidth": 0,
             "ticks": ""
            },
            "type": "mesh3d"
           }
          ],
          "parcoords": [
           {
            "line": {
             "colorbar": {
              "outlinewidth": 0,
              "ticks": ""
             }
            },
            "type": "parcoords"
           }
          ],
          "pie": [
           {
            "automargin": true,
            "type": "pie"
           }
          ],
          "scatter": [
           {
            "marker": {
             "colorbar": {
              "outlinewidth": 0,
              "ticks": ""
             }
            },
            "type": "scatter"
           }
          ],
          "scatter3d": [
           {
            "line": {
             "colorbar": {
              "outlinewidth": 0,
              "ticks": ""
             }
            },
            "marker": {
             "colorbar": {
              "outlinewidth": 0,
              "ticks": ""
             }
            },
            "type": "scatter3d"
           }
          ],
          "scattercarpet": [
           {
            "marker": {
             "colorbar": {
              "outlinewidth": 0,
              "ticks": ""
             }
            },
            "type": "scattercarpet"
           }
          ],
          "scattergeo": [
           {
            "marker": {
             "colorbar": {
              "outlinewidth": 0,
              "ticks": ""
             }
            },
            "type": "scattergeo"
           }
          ],
          "scattergl": [
           {
            "marker": {
             "colorbar": {
              "outlinewidth": 0,
              "ticks": ""
             }
            },
            "type": "scattergl"
           }
          ],
          "scattermapbox": [
           {
            "marker": {
             "colorbar": {
              "outlinewidth": 0,
              "ticks": ""
             }
            },
            "type": "scattermapbox"
           }
          ],
          "scatterpolar": [
           {
            "marker": {
             "colorbar": {
              "outlinewidth": 0,
              "ticks": ""
             }
            },
            "type": "scatterpolar"
           }
          ],
          "scatterpolargl": [
           {
            "marker": {
             "colorbar": {
              "outlinewidth": 0,
              "ticks": ""
             }
            },
            "type": "scatterpolargl"
           }
          ],
          "scatterternary": [
           {
            "marker": {
             "colorbar": {
              "outlinewidth": 0,
              "ticks": ""
             }
            },
            "type": "scatterternary"
           }
          ],
          "surface": [
           {
            "colorbar": {
             "outlinewidth": 0,
             "ticks": ""
            },
            "colorscale": [
             [
              0,
              "#0d0887"
             ],
             [
              0.1111111111111111,
              "#46039f"
             ],
             [
              0.2222222222222222,
              "#7201a8"
             ],
             [
              0.3333333333333333,
              "#9c179e"
             ],
             [
              0.4444444444444444,
              "#bd3786"
             ],
             [
              0.5555555555555556,
              "#d8576b"
             ],
             [
              0.6666666666666666,
              "#ed7953"
             ],
             [
              0.7777777777777778,
              "#fb9f3a"
             ],
             [
              0.8888888888888888,
              "#fdca26"
             ],
             [
              1,
              "#f0f921"
             ]
            ],
            "type": "surface"
           }
          ],
          "table": [
           {
            "cells": {
             "fill": {
              "color": "#EBF0F8"
             },
             "line": {
              "color": "white"
             }
            },
            "header": {
             "fill": {
              "color": "#C8D4E3"
             },
             "line": {
              "color": "white"
             }
            },
            "type": "table"
           }
          ]
         },
         "layout": {
          "annotationdefaults": {
           "arrowcolor": "#2a3f5f",
           "arrowhead": 0,
           "arrowwidth": 1
          },
          "autotypenumbers": "strict",
          "coloraxis": {
           "colorbar": {
            "outlinewidth": 0,
            "ticks": ""
           }
          },
          "colorscale": {
           "diverging": [
            [
             0,
             "#8e0152"
            ],
            [
             0.1,
             "#c51b7d"
            ],
            [
             0.2,
             "#de77ae"
            ],
            [
             0.3,
             "#f1b6da"
            ],
            [
             0.4,
             "#fde0ef"
            ],
            [
             0.5,
             "#f7f7f7"
            ],
            [
             0.6,
             "#e6f5d0"
            ],
            [
             0.7,
             "#b8e186"
            ],
            [
             0.8,
             "#7fbc41"
            ],
            [
             0.9,
             "#4d9221"
            ],
            [
             1,
             "#276419"
            ]
           ],
           "sequential": [
            [
             0,
             "#0d0887"
            ],
            [
             0.1111111111111111,
             "#46039f"
            ],
            [
             0.2222222222222222,
             "#7201a8"
            ],
            [
             0.3333333333333333,
             "#9c179e"
            ],
            [
             0.4444444444444444,
             "#bd3786"
            ],
            [
             0.5555555555555556,
             "#d8576b"
            ],
            [
             0.6666666666666666,
             "#ed7953"
            ],
            [
             0.7777777777777778,
             "#fb9f3a"
            ],
            [
             0.8888888888888888,
             "#fdca26"
            ],
            [
             1,
             "#f0f921"
            ]
           ],
           "sequentialminus": [
            [
             0,
             "#0d0887"
            ],
            [
             0.1111111111111111,
             "#46039f"
            ],
            [
             0.2222222222222222,
             "#7201a8"
            ],
            [
             0.3333333333333333,
             "#9c179e"
            ],
            [
             0.4444444444444444,
             "#bd3786"
            ],
            [
             0.5555555555555556,
             "#d8576b"
            ],
            [
             0.6666666666666666,
             "#ed7953"
            ],
            [
             0.7777777777777778,
             "#fb9f3a"
            ],
            [
             0.8888888888888888,
             "#fdca26"
            ],
            [
             1,
             "#f0f921"
            ]
           ]
          },
          "colorway": [
           "#636efa",
           "#EF553B",
           "#00cc96",
           "#ab63fa",
           "#FFA15A",
           "#19d3f3",
           "#FF6692",
           "#B6E880",
           "#FF97FF",
           "#FECB52"
          ],
          "font": {
           "color": "#2a3f5f"
          },
          "geo": {
           "bgcolor": "white",
           "lakecolor": "white",
           "landcolor": "#E5ECF6",
           "showlakes": true,
           "showland": true,
           "subunitcolor": "white"
          },
          "hoverlabel": {
           "align": "left"
          },
          "hovermode": "closest",
          "mapbox": {
           "style": "light"
          },
          "paper_bgcolor": "white",
          "plot_bgcolor": "#E5ECF6",
          "polar": {
           "angularaxis": {
            "gridcolor": "white",
            "linecolor": "white",
            "ticks": ""
           },
           "bgcolor": "#E5ECF6",
           "radialaxis": {
            "gridcolor": "white",
            "linecolor": "white",
            "ticks": ""
           }
          },
          "scene": {
           "xaxis": {
            "backgroundcolor": "#E5ECF6",
            "gridcolor": "white",
            "gridwidth": 2,
            "linecolor": "white",
            "showbackground": true,
            "ticks": "",
            "zerolinecolor": "white"
           },
           "yaxis": {
            "backgroundcolor": "#E5ECF6",
            "gridcolor": "white",
            "gridwidth": 2,
            "linecolor": "white",
            "showbackground": true,
            "ticks": "",
            "zerolinecolor": "white"
           },
           "zaxis": {
            "backgroundcolor": "#E5ECF6",
            "gridcolor": "white",
            "gridwidth": 2,
            "linecolor": "white",
            "showbackground": true,
            "ticks": "",
            "zerolinecolor": "white"
           }
          },
          "shapedefaults": {
           "line": {
            "color": "#2a3f5f"
           }
          },
          "ternary": {
           "aaxis": {
            "gridcolor": "white",
            "linecolor": "white",
            "ticks": ""
           },
           "baxis": {
            "gridcolor": "white",
            "linecolor": "white",
            "ticks": ""
           },
           "bgcolor": "#E5ECF6",
           "caxis": {
            "gridcolor": "white",
            "linecolor": "white",
            "ticks": ""
           }
          },
          "title": {
           "x": 0.05
          },
          "xaxis": {
           "automargin": true,
           "gridcolor": "white",
           "linecolor": "white",
           "ticks": "",
           "title": {
            "standoff": 15
           },
           "zerolinecolor": "white",
           "zerolinewidth": 2
          },
          "yaxis": {
           "automargin": true,
           "gridcolor": "white",
           "linecolor": "white",
           "ticks": "",
           "title": {
            "standoff": 15
           },
           "zerolinecolor": "white",
           "zerolinewidth": 2
          }
         }
        },
        "title": {
         "text": "NH3 2017"
        },
        "xaxis": {
         "tickangle": 90,
         "title": {
          "font": {
           "size": 20
          },
          "standoff": 25,
          "text": "Month"
         }
        },
        "yaxis": {
         "title": {
          "standoff": 25,
          "text": "NH3"
         }
        }
       }
      },
      "text/html": [
       "<div>                            <div id=\"899e3558-a513-4052-a669-569cb8e93a55\" class=\"plotly-graph-div\" style=\"height:525px; width:100%;\"></div>            <script type=\"text/javascript\">                require([\"plotly\"], function(Plotly) {                    window.PLOTLYENV=window.PLOTLYENV || {};                                    if (document.getElementById(\"899e3558-a513-4052-a669-569cb8e93a55\")) {                    Plotly.newPlot(                        \"899e3558-a513-4052-a669-569cb8e93a55\",                        [{\"mode\":\"lines+markers\",\"x\":[\"2017-01-01T00:00:00\",\"2017-01-02T00:00:00\",\"2017-01-03T00:00:00\",\"2017-01-04T00:00:00\",\"2017-01-05T00:00:00\",\"2017-01-06T00:00:00\",\"2017-01-07T00:00:00\",\"2017-01-08T00:00:00\",\"2017-01-09T00:00:00\",\"2017-01-10T00:00:00\",\"2017-01-11T00:00:00\",\"2017-01-12T00:00:00\",\"2017-01-13T00:00:00\",\"2017-01-14T00:00:00\",\"2017-01-15T00:00:00\",\"2017-01-16T00:00:00\",\"2017-01-17T00:00:00\",\"2017-01-18T00:00:00\",\"2017-01-19T00:00:00\",\"2017-01-20T00:00:00\",\"2017-01-21T00:00:00\",\"2017-01-22T00:00:00\",\"2017-01-23T00:00:00\",\"2017-01-24T00:00:00\",\"2017-01-25T00:00:00\",\"2017-01-26T00:00:00\",\"2017-01-27T00:00:00\",\"2017-01-28T00:00:00\",\"2017-01-29T00:00:00\",\"2017-01-30T00:00:00\",\"2017-01-31T00:00:00\",\"2017-02-01T00:00:00\",\"2017-02-02T00:00:00\",\"2017-02-03T00:00:00\",\"2017-02-04T00:00:00\",\"2017-02-05T00:00:00\",\"2017-02-06T00:00:00\",\"2017-02-07T00:00:00\",\"2017-02-08T00:00:00\",\"2017-02-09T00:00:00\",\"2017-02-10T00:00:00\",\"2017-02-11T00:00:00\",\"2017-02-12T00:00:00\",\"2017-02-13T00:00:00\",\"2017-02-14T00:00:00\",\"2017-02-15T00:00:00\",\"2017-02-16T00:00:00\",\"2017-02-17T00:00:00\",\"2017-02-18T00:00:00\",\"2017-02-19T00:00:00\",\"2017-02-20T00:00:00\",\"2017-02-21T00:00:00\",\"2017-02-22T00:00:00\",\"2017-02-23T00:00:00\",\"2017-02-24T00:00:00\",\"2017-02-25T00:00:00\",\"2017-02-26T00:00:00\",\"2017-02-27T00:00:00\",\"2017-02-28T00:00:00\",\"2017-03-01T00:00:00\",\"2017-03-02T00:00:00\",\"2017-03-03T00:00:00\",\"2017-03-04T00:00:00\",\"2017-03-05T00:00:00\",\"2017-03-06T00:00:00\",\"2017-03-07T00:00:00\",\"2017-03-08T00:00:00\",\"2017-03-09T00:00:00\",\"2017-03-10T00:00:00\",\"2017-03-11T00:00:00\",\"2017-03-12T00:00:00\",\"2017-03-13T00:00:00\",\"2017-03-14T00:00:00\",\"2017-03-15T00:00:00\",\"2017-03-16T00:00:00\",\"2017-03-17T00:00:00\",\"2017-03-18T00:00:00\",\"2017-03-19T00:00:00\",\"2017-03-20T00:00:00\",\"2017-03-21T00:00:00\",\"2017-03-22T00:00:00\",\"2017-03-23T00:00:00\",\"2017-03-24T00:00:00\",\"2017-03-25T00:00:00\",\"2017-03-26T00:00:00\",\"2017-03-27T00:00:00\",\"2017-03-28T00:00:00\",\"2017-03-29T00:00:00\",\"2017-03-30T00:00:00\",\"2017-03-31T00:00:00\",\"2017-04-01T00:00:00\",\"2017-04-02T00:00:00\",\"2017-04-03T00:00:00\",\"2017-04-04T00:00:00\",\"2017-04-05T00:00:00\",\"2017-04-06T00:00:00\",\"2017-04-07T00:00:00\",\"2017-04-08T00:00:00\",\"2017-04-09T00:00:00\",\"2017-04-10T00:00:00\",\"2017-04-11T00:00:00\",\"2017-04-12T00:00:00\",\"2017-04-13T00:00:00\",\"2017-04-14T00:00:00\",\"2017-04-15T00:00:00\",\"2017-04-16T00:00:00\",\"2017-04-17T00:00:00\",\"2017-04-18T00:00:00\",\"2017-04-19T00:00:00\",\"2017-04-20T00:00:00\",\"2017-04-21T00:00:00\",\"2017-04-22T00:00:00\",\"2017-04-23T00:00:00\",\"2017-04-24T00:00:00\",\"2017-04-25T00:00:00\",\"2017-04-26T00:00:00\",\"2017-04-27T00:00:00\",\"2017-04-28T00:00:00\",\"2017-04-29T00:00:00\",\"2017-04-30T00:00:00\",\"2017-05-01T00:00:00\",\"2017-05-02T00:00:00\",\"2017-05-03T00:00:00\",\"2017-05-04T00:00:00\",\"2017-05-05T00:00:00\",\"2017-05-06T00:00:00\",\"2017-05-07T00:00:00\",\"2017-05-08T00:00:00\",\"2017-05-09T00:00:00\",\"2017-05-10T00:00:00\",\"2017-05-11T00:00:00\",\"2017-05-12T00:00:00\",\"2017-05-13T00:00:00\",\"2017-05-14T00:00:00\",\"2017-05-15T00:00:00\",\"2017-05-16T00:00:00\",\"2017-05-17T00:00:00\",\"2017-05-18T00:00:00\",\"2017-05-19T00:00:00\",\"2017-05-20T00:00:00\",\"2017-05-21T00:00:00\",\"2017-05-22T00:00:00\",\"2017-05-23T00:00:00\",\"2017-05-24T00:00:00\",\"2017-05-25T00:00:00\",\"2017-05-26T00:00:00\",\"2017-05-27T00:00:00\",\"2017-05-28T00:00:00\",\"2017-05-29T00:00:00\",\"2017-05-30T00:00:00\",\"2017-05-31T00:00:00\",\"2017-06-01T00:00:00\",\"2017-06-02T00:00:00\",\"2017-06-03T00:00:00\",\"2017-06-04T00:00:00\",\"2017-06-05T00:00:00\",\"2017-06-06T00:00:00\",\"2017-06-07T00:00:00\",\"2017-06-08T00:00:00\",\"2017-06-09T00:00:00\",\"2017-06-10T00:00:00\",\"2017-06-11T00:00:00\",\"2017-06-12T00:00:00\",\"2017-06-13T00:00:00\",\"2017-06-14T00:00:00\",\"2017-06-15T00:00:00\",\"2017-06-16T00:00:00\",\"2017-06-17T00:00:00\",\"2017-06-18T00:00:00\",\"2017-06-19T00:00:00\",\"2017-06-20T00:00:00\",\"2017-06-21T00:00:00\",\"2017-06-22T00:00:00\",\"2017-06-23T00:00:00\",\"2017-06-24T00:00:00\",\"2017-06-25T00:00:00\",\"2017-06-26T00:00:00\",\"2017-06-27T00:00:00\",\"2017-06-28T00:00:00\",\"2017-06-29T00:00:00\",\"2017-06-30T00:00:00\",\"2017-07-01T00:00:00\",\"2017-07-02T00:00:00\",\"2017-07-03T00:00:00\",\"2017-07-04T00:00:00\",\"2017-07-05T00:00:00\",\"2017-07-06T00:00:00\",\"2017-07-07T00:00:00\",\"2017-07-08T00:00:00\",\"2017-07-09T00:00:00\",\"2017-07-10T00:00:00\",\"2017-07-11T00:00:00\",\"2017-07-12T00:00:00\",\"2017-07-13T00:00:00\",\"2017-07-14T00:00:00\",\"2017-07-15T00:00:00\",\"2017-07-16T00:00:00\",\"2017-07-17T00:00:00\",\"2017-07-18T00:00:00\",\"2017-07-19T00:00:00\",\"2017-07-20T00:00:00\",\"2017-07-21T00:00:00\",\"2017-07-22T00:00:00\",\"2017-07-23T00:00:00\",\"2017-07-24T00:00:00\",\"2017-07-25T00:00:00\",\"2017-07-26T00:00:00\",\"2017-07-27T00:00:00\",\"2017-07-28T00:00:00\",\"2017-07-29T00:00:00\",\"2017-07-30T00:00:00\",\"2017-07-31T00:00:00\",\"2017-08-01T00:00:00\",\"2017-08-02T00:00:00\",\"2017-08-03T00:00:00\",\"2017-08-04T00:00:00\",\"2017-08-05T00:00:00\",\"2017-08-06T00:00:00\",\"2017-08-07T00:00:00\",\"2017-08-08T00:00:00\",\"2017-08-09T00:00:00\",\"2017-08-10T00:00:00\",\"2017-08-11T00:00:00\",\"2017-08-12T00:00:00\",\"2017-08-13T00:00:00\",\"2017-08-14T00:00:00\",\"2017-08-15T00:00:00\",\"2017-08-16T00:00:00\",\"2017-08-17T00:00:00\",\"2017-08-18T00:00:00\",\"2017-08-19T00:00:00\",\"2017-08-20T00:00:00\",\"2017-08-21T00:00:00\",\"2017-08-22T00:00:00\",\"2017-08-23T00:00:00\",\"2017-08-24T00:00:00\",\"2017-08-25T00:00:00\",\"2017-08-26T00:00:00\",\"2017-08-27T00:00:00\",\"2017-08-28T00:00:00\",\"2017-08-29T00:00:00\",\"2017-08-30T00:00:00\",\"2017-08-31T00:00:00\",\"2017-09-01T00:00:00\",\"2017-09-02T00:00:00\",\"2017-09-03T00:00:00\",\"2017-09-04T00:00:00\",\"2017-09-05T00:00:00\",\"2017-09-06T00:00:00\",\"2017-09-07T00:00:00\",\"2017-09-08T00:00:00\",\"2017-09-09T00:00:00\",\"2017-09-10T00:00:00\",\"2017-09-11T00:00:00\",\"2017-09-12T00:00:00\",\"2017-09-13T00:00:00\",\"2017-09-14T00:00:00\",\"2017-09-15T00:00:00\",\"2017-09-16T00:00:00\",\"2017-09-17T00:00:00\",\"2017-09-18T00:00:00\",\"2017-09-19T00:00:00\",\"2017-09-20T00:00:00\",\"2017-09-21T00:00:00\",\"2017-09-22T00:00:00\",\"2017-09-23T00:00:00\",\"2017-09-24T00:00:00\",\"2017-09-25T00:00:00\",\"2017-09-26T00:00:00\",\"2017-09-27T00:00:00\",\"2017-09-28T00:00:00\",\"2017-09-29T00:00:00\",\"2017-09-30T00:00:00\",\"2017-10-01T00:00:00\",\"2017-10-02T00:00:00\",\"2017-10-03T00:00:00\",\"2017-10-04T00:00:00\",\"2017-10-05T00:00:00\",\"2017-10-06T00:00:00\",\"2017-10-07T00:00:00\",\"2017-10-08T00:00:00\",\"2017-10-09T00:00:00\",\"2017-10-10T00:00:00\",\"2017-10-11T00:00:00\",\"2017-10-12T00:00:00\",\"2017-10-13T00:00:00\",\"2017-10-14T00:00:00\",\"2017-10-15T00:00:00\",\"2017-10-16T00:00:00\",\"2017-10-17T00:00:00\",\"2017-10-18T00:00:00\",\"2017-10-19T00:00:00\",\"2017-10-20T00:00:00\",\"2017-10-21T00:00:00\",\"2017-10-22T00:00:00\",\"2017-10-23T00:00:00\",\"2017-10-24T00:00:00\",\"2017-10-25T00:00:00\",\"2017-10-26T00:00:00\",\"2017-10-27T00:00:00\",\"2017-10-28T00:00:00\",\"2017-10-29T00:00:00\",\"2017-10-30T00:00:00\",\"2017-10-31T00:00:00\",\"2017-11-01T00:00:00\",\"2017-11-02T00:00:00\",\"2017-11-03T00:00:00\",\"2017-11-04T00:00:00\",\"2017-11-05T00:00:00\",\"2017-11-06T00:00:00\",\"2017-11-07T00:00:00\",\"2017-11-08T00:00:00\",\"2017-11-09T00:00:00\",\"2017-11-10T00:00:00\",\"2017-11-11T00:00:00\",\"2017-11-12T00:00:00\",\"2017-11-13T00:00:00\",\"2017-11-14T00:00:00\",\"2017-11-15T00:00:00\",\"2017-11-16T00:00:00\",\"2017-11-17T00:00:00\",\"2017-11-18T00:00:00\",\"2017-11-19T00:00:00\",\"2017-11-20T00:00:00\",\"2017-11-21T00:00:00\",\"2017-11-22T00:00:00\",\"2017-11-23T00:00:00\",\"2017-11-24T00:00:00\",\"2017-11-25T00:00:00\",\"2017-11-26T00:00:00\",\"2017-11-27T00:00:00\",\"2017-11-28T00:00:00\",\"2017-11-29T00:00:00\",\"2017-11-30T00:00:00\",\"2017-12-01T00:00:00\",\"2017-12-02T00:00:00\",\"2017-12-03T00:00:00\",\"2017-12-04T00:00:00\",\"2017-12-05T00:00:00\",\"2017-12-06T00:00:00\",\"2017-12-07T00:00:00\",\"2017-12-08T00:00:00\",\"2017-12-09T00:00:00\",\"2017-12-10T00:00:00\",\"2017-12-11T00:00:00\",\"2017-12-12T00:00:00\",\"2017-12-13T00:00:00\",\"2017-12-14T00:00:00\",\"2017-12-15T00:00:00\",\"2017-12-16T00:00:00\",\"2017-12-17T00:00:00\",\"2017-12-18T00:00:00\",\"2017-12-19T00:00:00\",\"2017-12-20T00:00:00\",\"2017-12-21T00:00:00\",\"2017-12-22T00:00:00\",\"2017-12-23T00:00:00\",\"2017-12-24T00:00:00\",\"2017-12-25T00:00:00\",\"2017-12-26T00:00:00\",\"2017-12-27T00:00:00\",\"2017-12-28T00:00:00\",\"2017-12-29T00:00:00\",\"2017-12-30T00:00:00\",\"2017-12-31T00:00:00\"],\"y\":[55.92,66.57,58.97,68.53,61.04,58.18,36.9,29.21,36.32,28.52,31.36,43.41,45.76,36.49,24.33,39.47,33.13,31.97,25.48,31.55,19.27,24.1,33.51,56.08,69.27,48.42,31.84,28.3,28.3,40.53,54.92,46.63,60.67,62.33,57.26,40.73,46.21,28.73,31.42,39.7,47.34,55.54,95.27,51.62,50.31,54.38,55.87,53.4,62.34,75.4,83.01,66.01,58.5,38.51,29.63,34.4,40.72,43.29,76.09,73.27,62.98,41.85,39.3,34.4,33.66,43.71,36.04,32.12,25.51,24.61,24.24,21.02,22.58,37.36,43.07,29.62,33.5,43.17,34.32,33.99,49.03,73.23,76.02,59.37,53.05,52.56,61.73,58.95,57.35,67.36,68.33,59.67,58.96,63.38,66.8,59.04,51.4,55.26,38.77,37.48,40.69,43.01,54.53,67.47,63.27,38.41,42.18,41.14,50.75,64.48,54.57,39.46,40.33,34.43,31.0,34.01,37.41,33.57,42.48,34.42,40.22,44.95,44.27,34.41,32.24,37.01,41.82,50.62,36.69,34.59,30.7,35.38,42.62,32.57,37.08,20.17,12.09,13.57,27.59,25.31,13.02,39.38,56.89,42.37,33.07,49.97,39.95,37.97,41.24,47.68,53.68,57.81,60.86,62.41,55.02,41.28,43.51,48.84,40.3,41.19,41.51,38.68,50.52,58.1,52.51,54.71,51.3,48.94,48.14,46.71,59.54,50.91,69.13,52.73,58.3,45.21,38.93,37.64,41.14,33.87,41.27,44.12,32.97,32.02,28.8,25.81,24.82,30.98,28.82,41.79,27.22,26.19,27.31,28.03,29.06,37.26,35.52,43.34,49.2,58.22,44.64,26.97,23.32,26.79,28.58,28.73,27.09,26.74,25.11,22.45,22.24,32.0,33.36,38.35,34.14,33.24,36.4,43.5,33.07,36.53,42.64,31.22,17.92,null,null,34.8,18.69,23.94,26.78,24.79,24.34,17.65,12.14,15.5,22.33,23.83,18.75,23.26,29.19,15.6,27.77,38.09,25.08,17.6,33.97,25.9,86.67,30.21,31.07,36.46,27.05,31.1,49.74,48.0,null,null,43.06,31.02,40.92,31.89,33.88,45.0,56.47,31.36,17.63,17.47,19.11,19.81,34.54,50.34,54.37,41.19,44.1,50.15,39.12,31.36,39.43,37.22,31.48,35.37,41.02,50.93,56.42,64.21,44.32,45.28,55.52,44.61,51.88,42.92,44.57,50.7,48.79,50.8,45.72,48.44,53.82,55.14,61.45,48.68,51.2,50.6,52.67,64.28,47.36,49.88,53.2,52.75,61.8,65.81,91.87,82.96,74.84,84.1,90.64,73.63,73.85,55.71,48.83,50.06,45.56,38.55,34.83,36.28,40.58,40.37,40.03,44.62,47.81,63.81,52.5,60.94,83.31,77.53,65.47,92.4,85.25,90.28,71.16,45.92,36.04,41.49,57.73,77.11,86.87,50.54,48.27,46.26,42.56,39.74,35.36,45.71,56.27,78.25,72.97,55.36,51.89,73.83,68.61,62.83,71.71,79.07,68.22,75.04,83.55],\"type\":\"scatter\"}],                        {\"template\":{\"data\":{\"bar\":[{\"error_x\":{\"color\":\"#2a3f5f\"},\"error_y\":{\"color\":\"#2a3f5f\"},\"marker\":{\"line\":{\"color\":\"#E5ECF6\",\"width\":0.5},\"pattern\":{\"fillmode\":\"overlay\",\"size\":10,\"solidity\":0.2}},\"type\":\"bar\"}],\"barpolar\":[{\"marker\":{\"line\":{\"color\":\"#E5ECF6\",\"width\":0.5},\"pattern\":{\"fillmode\":\"overlay\",\"size\":10,\"solidity\":0.2}},\"type\":\"barpolar\"}],\"carpet\":[{\"aaxis\":{\"endlinecolor\":\"#2a3f5f\",\"gridcolor\":\"white\",\"linecolor\":\"white\",\"minorgridcolor\":\"white\",\"startlinecolor\":\"#2a3f5f\"},\"baxis\":{\"endlinecolor\":\"#2a3f5f\",\"gridcolor\":\"white\",\"linecolor\":\"white\",\"minorgridcolor\":\"white\",\"startlinecolor\":\"#2a3f5f\"},\"type\":\"carpet\"}],\"choropleth\":[{\"colorbar\":{\"outlinewidth\":0,\"ticks\":\"\"},\"type\":\"choropleth\"}],\"contour\":[{\"colorbar\":{\"outlinewidth\":0,\"ticks\":\"\"},\"colorscale\":[[0.0,\"#0d0887\"],[0.1111111111111111,\"#46039f\"],[0.2222222222222222,\"#7201a8\"],[0.3333333333333333,\"#9c179e\"],[0.4444444444444444,\"#bd3786\"],[0.5555555555555556,\"#d8576b\"],[0.6666666666666666,\"#ed7953\"],[0.7777777777777778,\"#fb9f3a\"],[0.8888888888888888,\"#fdca26\"],[1.0,\"#f0f921\"]],\"type\":\"contour\"}],\"contourcarpet\":[{\"colorbar\":{\"outlinewidth\":0,\"ticks\":\"\"},\"type\":\"contourcarpet\"}],\"heatmap\":[{\"colorbar\":{\"outlinewidth\":0,\"ticks\":\"\"},\"colorscale\":[[0.0,\"#0d0887\"],[0.1111111111111111,\"#46039f\"],[0.2222222222222222,\"#7201a8\"],[0.3333333333333333,\"#9c179e\"],[0.4444444444444444,\"#bd3786\"],[0.5555555555555556,\"#d8576b\"],[0.6666666666666666,\"#ed7953\"],[0.7777777777777778,\"#fb9f3a\"],[0.8888888888888888,\"#fdca26\"],[1.0,\"#f0f921\"]],\"type\":\"heatmap\"}],\"heatmapgl\":[{\"colorbar\":{\"outlinewidth\":0,\"ticks\":\"\"},\"colorscale\":[[0.0,\"#0d0887\"],[0.1111111111111111,\"#46039f\"],[0.2222222222222222,\"#7201a8\"],[0.3333333333333333,\"#9c179e\"],[0.4444444444444444,\"#bd3786\"],[0.5555555555555556,\"#d8576b\"],[0.6666666666666666,\"#ed7953\"],[0.7777777777777778,\"#fb9f3a\"],[0.8888888888888888,\"#fdca26\"],[1.0,\"#f0f921\"]],\"type\":\"heatmapgl\"}],\"histogram\":[{\"marker\":{\"pattern\":{\"fillmode\":\"overlay\",\"size\":10,\"solidity\":0.2}},\"type\":\"histogram\"}],\"histogram2d\":[{\"colorbar\":{\"outlinewidth\":0,\"ticks\":\"\"},\"colorscale\":[[0.0,\"#0d0887\"],[0.1111111111111111,\"#46039f\"],[0.2222222222222222,\"#7201a8\"],[0.3333333333333333,\"#9c179e\"],[0.4444444444444444,\"#bd3786\"],[0.5555555555555556,\"#d8576b\"],[0.6666666666666666,\"#ed7953\"],[0.7777777777777778,\"#fb9f3a\"],[0.8888888888888888,\"#fdca26\"],[1.0,\"#f0f921\"]],\"type\":\"histogram2d\"}],\"histogram2dcontour\":[{\"colorbar\":{\"outlinewidth\":0,\"ticks\":\"\"},\"colorscale\":[[0.0,\"#0d0887\"],[0.1111111111111111,\"#46039f\"],[0.2222222222222222,\"#7201a8\"],[0.3333333333333333,\"#9c179e\"],[0.4444444444444444,\"#bd3786\"],[0.5555555555555556,\"#d8576b\"],[0.6666666666666666,\"#ed7953\"],[0.7777777777777778,\"#fb9f3a\"],[0.8888888888888888,\"#fdca26\"],[1.0,\"#f0f921\"]],\"type\":\"histogram2dcontour\"}],\"mesh3d\":[{\"colorbar\":{\"outlinewidth\":0,\"ticks\":\"\"},\"type\":\"mesh3d\"}],\"parcoords\":[{\"line\":{\"colorbar\":{\"outlinewidth\":0,\"ticks\":\"\"}},\"type\":\"parcoords\"}],\"pie\":[{\"automargin\":true,\"type\":\"pie\"}],\"scatter\":[{\"marker\":{\"colorbar\":{\"outlinewidth\":0,\"ticks\":\"\"}},\"type\":\"scatter\"}],\"scatter3d\":[{\"line\":{\"colorbar\":{\"outlinewidth\":0,\"ticks\":\"\"}},\"marker\":{\"colorbar\":{\"outlinewidth\":0,\"ticks\":\"\"}},\"type\":\"scatter3d\"}],\"scattercarpet\":[{\"marker\":{\"colorbar\":{\"outlinewidth\":0,\"ticks\":\"\"}},\"type\":\"scattercarpet\"}],\"scattergeo\":[{\"marker\":{\"colorbar\":{\"outlinewidth\":0,\"ticks\":\"\"}},\"type\":\"scattergeo\"}],\"scattergl\":[{\"marker\":{\"colorbar\":{\"outlinewidth\":0,\"ticks\":\"\"}},\"type\":\"scattergl\"}],\"scattermapbox\":[{\"marker\":{\"colorbar\":{\"outlinewidth\":0,\"ticks\":\"\"}},\"type\":\"scattermapbox\"}],\"scatterpolar\":[{\"marker\":{\"colorbar\":{\"outlinewidth\":0,\"ticks\":\"\"}},\"type\":\"scatterpolar\"}],\"scatterpolargl\":[{\"marker\":{\"colorbar\":{\"outlinewidth\":0,\"ticks\":\"\"}},\"type\":\"scatterpolargl\"}],\"scatterternary\":[{\"marker\":{\"colorbar\":{\"outlinewidth\":0,\"ticks\":\"\"}},\"type\":\"scatterternary\"}],\"surface\":[{\"colorbar\":{\"outlinewidth\":0,\"ticks\":\"\"},\"colorscale\":[[0.0,\"#0d0887\"],[0.1111111111111111,\"#46039f\"],[0.2222222222222222,\"#7201a8\"],[0.3333333333333333,\"#9c179e\"],[0.4444444444444444,\"#bd3786\"],[0.5555555555555556,\"#d8576b\"],[0.6666666666666666,\"#ed7953\"],[0.7777777777777778,\"#fb9f3a\"],[0.8888888888888888,\"#fdca26\"],[1.0,\"#f0f921\"]],\"type\":\"surface\"}],\"table\":[{\"cells\":{\"fill\":{\"color\":\"#EBF0F8\"},\"line\":{\"color\":\"white\"}},\"header\":{\"fill\":{\"color\":\"#C8D4E3\"},\"line\":{\"color\":\"white\"}},\"type\":\"table\"}]},\"layout\":{\"annotationdefaults\":{\"arrowcolor\":\"#2a3f5f\",\"arrowhead\":0,\"arrowwidth\":1},\"autotypenumbers\":\"strict\",\"coloraxis\":{\"colorbar\":{\"outlinewidth\":0,\"ticks\":\"\"}},\"colorscale\":{\"diverging\":[[0,\"#8e0152\"],[0.1,\"#c51b7d\"],[0.2,\"#de77ae\"],[0.3,\"#f1b6da\"],[0.4,\"#fde0ef\"],[0.5,\"#f7f7f7\"],[0.6,\"#e6f5d0\"],[0.7,\"#b8e186\"],[0.8,\"#7fbc41\"],[0.9,\"#4d9221\"],[1,\"#276419\"]],\"sequential\":[[0.0,\"#0d0887\"],[0.1111111111111111,\"#46039f\"],[0.2222222222222222,\"#7201a8\"],[0.3333333333333333,\"#9c179e\"],[0.4444444444444444,\"#bd3786\"],[0.5555555555555556,\"#d8576b\"],[0.6666666666666666,\"#ed7953\"],[0.7777777777777778,\"#fb9f3a\"],[0.8888888888888888,\"#fdca26\"],[1.0,\"#f0f921\"]],\"sequentialminus\":[[0.0,\"#0d0887\"],[0.1111111111111111,\"#46039f\"],[0.2222222222222222,\"#7201a8\"],[0.3333333333333333,\"#9c179e\"],[0.4444444444444444,\"#bd3786\"],[0.5555555555555556,\"#d8576b\"],[0.6666666666666666,\"#ed7953\"],[0.7777777777777778,\"#fb9f3a\"],[0.8888888888888888,\"#fdca26\"],[1.0,\"#f0f921\"]]},\"colorway\":[\"#636efa\",\"#EF553B\",\"#00cc96\",\"#ab63fa\",\"#FFA15A\",\"#19d3f3\",\"#FF6692\",\"#B6E880\",\"#FF97FF\",\"#FECB52\"],\"font\":{\"color\":\"#2a3f5f\"},\"geo\":{\"bgcolor\":\"white\",\"lakecolor\":\"white\",\"landcolor\":\"#E5ECF6\",\"showlakes\":true,\"showland\":true,\"subunitcolor\":\"white\"},\"hoverlabel\":{\"align\":\"left\"},\"hovermode\":\"closest\",\"mapbox\":{\"style\":\"light\"},\"paper_bgcolor\":\"white\",\"plot_bgcolor\":\"#E5ECF6\",\"polar\":{\"angularaxis\":{\"gridcolor\":\"white\",\"linecolor\":\"white\",\"ticks\":\"\"},\"bgcolor\":\"#E5ECF6\",\"radialaxis\":{\"gridcolor\":\"white\",\"linecolor\":\"white\",\"ticks\":\"\"}},\"scene\":{\"xaxis\":{\"backgroundcolor\":\"#E5ECF6\",\"gridcolor\":\"white\",\"gridwidth\":2,\"linecolor\":\"white\",\"showbackground\":true,\"ticks\":\"\",\"zerolinecolor\":\"white\"},\"yaxis\":{\"backgroundcolor\":\"#E5ECF6\",\"gridcolor\":\"white\",\"gridwidth\":2,\"linecolor\":\"white\",\"showbackground\":true,\"ticks\":\"\",\"zerolinecolor\":\"white\"},\"zaxis\":{\"backgroundcolor\":\"#E5ECF6\",\"gridcolor\":\"white\",\"gridwidth\":2,\"linecolor\":\"white\",\"showbackground\":true,\"ticks\":\"\",\"zerolinecolor\":\"white\"}},\"shapedefaults\":{\"line\":{\"color\":\"#2a3f5f\"}},\"ternary\":{\"aaxis\":{\"gridcolor\":\"white\",\"linecolor\":\"white\",\"ticks\":\"\"},\"baxis\":{\"gridcolor\":\"white\",\"linecolor\":\"white\",\"ticks\":\"\"},\"bgcolor\":\"#E5ECF6\",\"caxis\":{\"gridcolor\":\"white\",\"linecolor\":\"white\",\"ticks\":\"\"}},\"title\":{\"x\":0.05},\"xaxis\":{\"automargin\":true,\"gridcolor\":\"white\",\"linecolor\":\"white\",\"ticks\":\"\",\"title\":{\"standoff\":15},\"zerolinecolor\":\"white\",\"zerolinewidth\":2},\"yaxis\":{\"automargin\":true,\"gridcolor\":\"white\",\"linecolor\":\"white\",\"ticks\":\"\",\"title\":{\"standoff\":15},\"zerolinecolor\":\"white\",\"zerolinewidth\":2}}},\"xaxis\":{\"title\":{\"font\":{\"size\":20},\"text\":\"Month\",\"standoff\":25},\"tickangle\":90},\"yaxis\":{\"title\":{\"text\":\"NH3\",\"standoff\":25}},\"title\":{\"text\":\"NH3 2017\"}},                        {\"responsive\": true}                    ).then(function(){\n",
       "                            \n",
       "var gd = document.getElementById('899e3558-a513-4052-a669-569cb8e93a55');\n",
       "var x = new MutationObserver(function (mutations, observer) {{\n",
       "        var display = window.getComputedStyle(gd).display;\n",
       "        if (!display || display === 'none') {{\n",
       "            console.log([gd, 'removed!']);\n",
       "            Plotly.purge(gd);\n",
       "            observer.disconnect();\n",
       "        }}\n",
       "}});\n",
       "\n",
       "// Listen for the removal of the full notebook cells\n",
       "var notebookContainer = gd.closest('#notebook-container');\n",
       "if (notebookContainer) {{\n",
       "    x.observe(notebookContainer, {childList: true});\n",
       "}}\n",
       "\n",
       "// Listen for the clearing of the current output cell\n",
       "var outputEl = gd.closest('.output');\n",
       "if (outputEl) {{\n",
       "    x.observe(outputEl, {childList: true});\n",
       "}}\n",
       "\n",
       "                        })                };                });            </script>        </div>"
      ]
     },
     "metadata": {},
     "output_type": "display_data"
    }
   ],
   "source": [
    "#2017\n",
    "fig = go.Figure(go.Scatter(\n",
    "    mode = \"lines+markers\",\n",
    "    y = aqi_level_17.iloc[:,2],\n",
    "    x = aqi_level_17.iloc[:,1]))\n",
    "fig.update_xaxes(\n",
    "        tickangle = 90,\n",
    "        title_text = \"Month\",\n",
    "        title_font = {\"size\": 20},\n",
    "        title_standoff = 25)\n",
    "\n",
    "fig.update_yaxes(\n",
    "        title_text = \"NH3\",\n",
    "        title_standoff = 25)\n",
    "fig.update_layout(title_text=\"NH3 2017\")\n",
    "\n",
    "fig.show()"
   ]
  },
  {
   "cell_type": "code",
   "execution_count": 15,
   "id": "3426136d",
   "metadata": {},
   "outputs": [
    {
     "data": {
      "application/vnd.plotly.v1+json": {
       "config": {
        "plotlyServerURL": "https://plot.ly"
       },
       "data": [
        {
         "mode": "lines+markers",
         "type": "scatter",
         "x": [
          "2018-01-01T00:00:00",
          "2018-01-02T00:00:00",
          "2018-01-03T00:00:00",
          "2018-01-04T00:00:00",
          "2018-01-05T00:00:00",
          "2018-01-06T00:00:00",
          "2018-01-07T00:00:00",
          "2018-01-08T00:00:00",
          "2018-01-09T00:00:00",
          "2018-01-10T00:00:00",
          "2018-01-11T00:00:00",
          "2018-01-12T00:00:00",
          "2018-01-13T00:00:00",
          "2018-01-14T00:00:00",
          "2018-01-15T00:00:00",
          "2018-01-16T00:00:00",
          "2018-01-17T00:00:00",
          "2018-01-18T00:00:00",
          "2018-01-19T00:00:00",
          "2018-01-20T00:00:00",
          "2018-01-21T00:00:00",
          "2018-01-22T00:00:00",
          "2018-01-23T00:00:00",
          "2018-01-24T00:00:00",
          "2018-01-25T00:00:00",
          "2018-01-26T00:00:00",
          "2018-01-27T00:00:00",
          "2018-01-28T00:00:00",
          "2018-01-29T00:00:00",
          "2018-01-30T00:00:00",
          "2018-01-31T00:00:00",
          "2018-02-01T00:00:00",
          "2018-02-02T00:00:00",
          "2018-02-03T00:00:00",
          "2018-02-04T00:00:00",
          "2018-02-05T00:00:00",
          "2018-02-06T00:00:00",
          "2018-02-07T00:00:00",
          "2018-02-08T00:00:00",
          "2018-02-09T00:00:00",
          "2018-02-10T00:00:00",
          "2018-02-11T00:00:00",
          "2018-02-12T00:00:00",
          "2018-02-13T00:00:00",
          "2018-02-14T00:00:00",
          "2018-02-15T00:00:00",
          "2018-02-16T00:00:00",
          "2018-02-17T00:00:00",
          "2018-02-18T00:00:00",
          "2018-02-19T00:00:00",
          "2018-02-20T00:00:00",
          "2018-02-21T00:00:00",
          "2018-02-22T00:00:00",
          "2018-02-23T00:00:00",
          "2018-02-24T00:00:00",
          "2018-02-25T00:00:00",
          "2018-02-26T00:00:00",
          "2018-02-27T00:00:00",
          "2018-02-28T00:00:00",
          "2018-03-01T00:00:00",
          "2018-03-02T00:00:00",
          "2018-03-03T00:00:00",
          "2018-03-04T00:00:00",
          "2018-03-05T00:00:00",
          "2018-03-06T00:00:00",
          "2018-03-07T00:00:00",
          "2018-03-08T00:00:00",
          "2018-03-09T00:00:00",
          "2018-03-10T00:00:00",
          "2018-03-11T00:00:00",
          "2018-03-12T00:00:00",
          "2018-03-13T00:00:00",
          "2018-03-14T00:00:00",
          "2018-03-15T00:00:00",
          "2018-03-16T00:00:00",
          "2018-03-17T00:00:00",
          "2018-03-18T00:00:00",
          "2018-03-19T00:00:00",
          "2018-03-20T00:00:00",
          "2018-03-21T00:00:00",
          "2018-03-22T00:00:00",
          "2018-03-23T00:00:00",
          "2018-03-24T00:00:00",
          "2018-03-25T00:00:00",
          "2018-03-26T00:00:00",
          "2018-03-27T00:00:00",
          "2018-03-28T00:00:00",
          "2018-03-29T00:00:00",
          "2018-03-30T00:00:00",
          "2018-03-31T00:00:00",
          "2018-04-01T00:00:00",
          "2018-04-02T00:00:00",
          "2018-04-03T00:00:00",
          "2018-04-04T00:00:00",
          "2018-04-05T00:00:00",
          "2018-04-06T00:00:00",
          "2018-04-07T00:00:00",
          "2018-04-08T00:00:00",
          "2018-04-09T00:00:00",
          "2018-04-10T00:00:00",
          "2018-04-11T00:00:00",
          "2018-04-12T00:00:00",
          "2018-04-13T00:00:00",
          "2018-04-14T00:00:00",
          "2018-04-15T00:00:00",
          "2018-04-16T00:00:00",
          "2018-04-17T00:00:00",
          "2018-04-18T00:00:00",
          "2018-04-19T00:00:00",
          "2018-04-20T00:00:00",
          "2018-04-21T00:00:00",
          "2018-04-22T00:00:00",
          "2018-04-23T00:00:00",
          "2018-04-24T00:00:00",
          "2018-04-25T00:00:00",
          "2018-04-26T00:00:00",
          "2018-04-27T00:00:00",
          "2018-04-28T00:00:00",
          "2018-04-29T00:00:00",
          "2018-04-30T00:00:00",
          "2018-05-01T00:00:00",
          "2018-05-02T00:00:00",
          "2018-05-03T00:00:00",
          "2018-05-04T00:00:00",
          "2018-05-05T00:00:00",
          "2018-05-06T00:00:00",
          "2018-05-07T00:00:00",
          "2018-05-08T00:00:00",
          "2018-05-09T00:00:00",
          "2018-05-10T00:00:00",
          "2018-05-11T00:00:00",
          "2018-05-12T00:00:00",
          "2018-05-13T00:00:00",
          "2018-05-14T00:00:00",
          "2018-05-15T00:00:00",
          "2018-05-16T00:00:00",
          "2018-05-17T00:00:00",
          "2018-05-18T00:00:00",
          "2018-05-19T00:00:00",
          "2018-05-20T00:00:00",
          "2018-05-21T00:00:00",
          "2018-05-22T00:00:00",
          "2018-05-23T00:00:00",
          "2018-05-24T00:00:00",
          "2018-05-25T00:00:00",
          "2018-05-26T00:00:00",
          "2018-05-27T00:00:00",
          "2018-05-28T00:00:00",
          "2018-05-29T00:00:00",
          "2018-05-30T00:00:00",
          "2018-05-31T00:00:00",
          "2018-06-01T00:00:00",
          "2018-06-02T00:00:00",
          "2018-06-03T00:00:00",
          "2018-06-04T00:00:00",
          "2018-06-05T00:00:00",
          "2018-06-06T00:00:00",
          "2018-06-07T00:00:00",
          "2018-06-08T00:00:00",
          "2018-06-09T00:00:00",
          "2018-06-10T00:00:00",
          "2018-06-11T00:00:00",
          "2018-06-12T00:00:00",
          "2018-06-13T00:00:00",
          "2018-06-14T00:00:00",
          "2018-06-15T00:00:00",
          "2018-06-16T00:00:00",
          "2018-06-17T00:00:00",
          "2018-06-18T00:00:00",
          "2018-06-19T00:00:00",
          "2018-06-20T00:00:00",
          "2018-06-21T00:00:00",
          "2018-06-22T00:00:00",
          "2018-06-23T00:00:00",
          "2018-06-24T00:00:00",
          "2018-06-25T00:00:00",
          "2018-06-26T00:00:00",
          "2018-06-27T00:00:00",
          "2018-06-28T00:00:00",
          "2018-06-29T00:00:00",
          "2018-06-30T00:00:00",
          "2018-07-01T00:00:00",
          "2018-07-02T00:00:00",
          "2018-07-03T00:00:00",
          "2018-07-04T00:00:00",
          "2018-07-05T00:00:00",
          "2018-07-06T00:00:00",
          "2018-07-07T00:00:00",
          "2018-07-08T00:00:00",
          "2018-07-09T00:00:00",
          "2018-07-10T00:00:00",
          "2018-07-11T00:00:00",
          "2018-07-12T00:00:00",
          "2018-07-13T00:00:00",
          "2018-07-14T00:00:00",
          "2018-07-15T00:00:00",
          "2018-07-16T00:00:00",
          "2018-07-17T00:00:00",
          "2018-07-18T00:00:00",
          "2018-07-19T00:00:00",
          "2018-07-20T00:00:00",
          "2018-07-21T00:00:00",
          "2018-07-22T00:00:00",
          "2018-07-23T00:00:00",
          "2018-07-24T00:00:00",
          "2018-07-25T00:00:00",
          "2018-07-26T00:00:00",
          "2018-07-27T00:00:00",
          "2018-07-28T00:00:00",
          "2018-07-29T00:00:00",
          "2018-07-30T00:00:00",
          "2018-07-31T00:00:00",
          "2018-08-01T00:00:00",
          "2018-08-02T00:00:00",
          "2018-08-03T00:00:00",
          "2018-08-04T00:00:00",
          "2018-08-05T00:00:00",
          "2018-08-06T00:00:00",
          "2018-08-07T00:00:00",
          "2018-08-08T00:00:00",
          "2018-08-09T00:00:00",
          "2018-08-10T00:00:00",
          "2018-08-11T00:00:00",
          "2018-08-12T00:00:00",
          "2018-08-13T00:00:00",
          "2018-08-14T00:00:00",
          "2018-08-15T00:00:00",
          "2018-08-16T00:00:00",
          "2018-08-17T00:00:00",
          "2018-08-18T00:00:00",
          "2018-08-19T00:00:00",
          "2018-08-20T00:00:00",
          "2018-08-21T00:00:00",
          "2018-08-22T00:00:00",
          "2018-08-23T00:00:00",
          "2018-08-24T00:00:00",
          "2018-08-25T00:00:00",
          "2018-08-26T00:00:00",
          "2018-08-27T00:00:00",
          "2018-08-28T00:00:00",
          "2018-08-29T00:00:00",
          "2018-08-30T00:00:00",
          "2018-08-31T00:00:00",
          "2018-09-01T00:00:00",
          "2018-09-02T00:00:00",
          "2018-09-03T00:00:00",
          "2018-09-04T00:00:00",
          "2018-09-05T00:00:00",
          "2018-09-06T00:00:00",
          "2018-09-07T00:00:00",
          "2018-09-08T00:00:00",
          "2018-09-09T00:00:00",
          "2018-09-10T00:00:00",
          "2018-09-11T00:00:00",
          "2018-09-12T00:00:00",
          "2018-09-13T00:00:00",
          "2018-09-14T00:00:00",
          "2018-09-15T00:00:00",
          "2018-09-16T00:00:00",
          "2018-09-17T00:00:00",
          "2018-09-18T00:00:00",
          "2018-09-19T00:00:00",
          "2018-09-20T00:00:00",
          "2018-09-21T00:00:00",
          "2018-09-22T00:00:00",
          "2018-09-23T00:00:00",
          "2018-09-24T00:00:00",
          "2018-09-25T00:00:00",
          "2018-09-26T00:00:00",
          "2018-09-27T00:00:00",
          "2018-09-28T00:00:00",
          "2018-09-29T00:00:00",
          "2018-09-30T00:00:00",
          "2018-10-01T00:00:00",
          "2018-10-02T00:00:00",
          "2018-10-03T00:00:00",
          "2018-10-04T00:00:00",
          "2018-10-05T00:00:00",
          "2018-10-06T00:00:00",
          "2018-10-07T00:00:00",
          "2018-10-08T00:00:00",
          "2018-10-09T00:00:00",
          "2018-10-10T00:00:00",
          "2018-10-11T00:00:00",
          "2018-10-12T00:00:00",
          "2018-10-13T00:00:00",
          "2018-10-14T00:00:00",
          "2018-10-15T00:00:00",
          "2018-10-16T00:00:00",
          "2018-10-17T00:00:00",
          "2018-10-18T00:00:00",
          "2018-10-19T00:00:00",
          "2018-10-20T00:00:00",
          "2018-10-21T00:00:00",
          "2018-10-22T00:00:00",
          "2018-10-23T00:00:00",
          "2018-10-24T00:00:00",
          "2018-10-25T00:00:00",
          "2018-10-26T00:00:00",
          "2018-10-27T00:00:00",
          "2018-10-28T00:00:00",
          "2018-10-29T00:00:00",
          "2018-10-30T00:00:00",
          "2018-10-31T00:00:00",
          "2018-11-01T00:00:00",
          "2018-11-02T00:00:00",
          "2018-11-03T00:00:00",
          "2018-11-04T00:00:00",
          "2018-11-05T00:00:00",
          "2018-11-06T00:00:00",
          "2018-11-07T00:00:00",
          "2018-11-08T00:00:00",
          "2018-11-09T00:00:00",
          "2018-11-10T00:00:00",
          "2018-11-11T00:00:00",
          "2018-11-12T00:00:00",
          "2018-11-13T00:00:00",
          "2018-11-14T00:00:00",
          "2018-11-15T00:00:00",
          "2018-11-16T00:00:00",
          "2018-11-17T00:00:00",
          "2018-11-18T00:00:00",
          "2018-11-19T00:00:00",
          "2018-11-20T00:00:00",
          "2018-11-21T00:00:00",
          "2018-11-22T00:00:00",
          "2018-11-23T00:00:00",
          "2018-11-24T00:00:00",
          "2018-11-25T00:00:00",
          "2018-11-26T00:00:00",
          "2018-11-27T00:00:00",
          "2018-11-28T00:00:00",
          "2018-11-29T00:00:00",
          "2018-11-30T00:00:00",
          "2018-12-01T00:00:00",
          "2018-12-02T00:00:00",
          "2018-12-03T00:00:00",
          "2018-12-04T00:00:00",
          "2018-12-05T00:00:00",
          "2018-12-06T00:00:00",
          "2018-12-07T00:00:00",
          "2018-12-08T00:00:00",
          "2018-12-09T00:00:00",
          "2018-12-10T00:00:00",
          "2018-12-11T00:00:00",
          "2018-12-12T00:00:00",
          "2018-12-13T00:00:00",
          "2018-12-14T00:00:00",
          "2018-12-15T00:00:00",
          "2018-12-16T00:00:00",
          "2018-12-17T00:00:00",
          "2018-12-18T00:00:00",
          "2018-12-19T00:00:00",
          "2018-12-20T00:00:00",
          "2018-12-21T00:00:00",
          "2018-12-22T00:00:00",
          "2018-12-23T00:00:00",
          "2018-12-24T00:00:00",
          "2018-12-25T00:00:00",
          "2018-12-26T00:00:00",
          "2018-12-27T00:00:00",
          "2018-12-28T00:00:00",
          "2018-12-29T00:00:00",
          "2018-12-30T00:00:00",
          "2018-12-31T00:00:00"
         ],
         "y": [
          73.16,
          55.61,
          50.81,
          55.17,
          51.36,
          63.78,
          50.09,
          47.52,
          58.65,
          48.38,
          47.42,
          55.07,
          75.88,
          55.35,
          54.6,
          43.23,
          52.37,
          59.73,
          63.31,
          66.51,
          63.25,
          63.15,
          51.07,
          43.08,
          40.74,
          44.28,
          46.22,
          45.66,
          44.78,
          38.68,
          39.32,
          46.95,
          52.36,
          46.26,
          45.13,
          45.41,
          44.96,
          43.31,
          47.89,
          49.6,
          47.52,
          51.43,
          46.64,
          50.89,
          40.88,
          44.48,
          49.81,
          49.73,
          45.32,
          46.22,
          49.25,
          49.47,
          55.72,
          59.64,
          62.61,
          50.57,
          41.83,
          43.85,
          53.64,
          49.29,
          48.86,
          44.26,
          39.35,
          38.32,
          34.56,
          36.46,
          43.35,
          46.02,
          39.35,
          39.62,
          42.8,
          42.23,
          40.47,
          43.23,
          42.2,
          33.72,
          30.32,
          37.7,
          44.26,
          49.85,
          42.95,
          34.91,
          35.84,
          37.35,
          36.49,
          37.92,
          37.48,
          37.18,
          37.57,
          42.4,
          37.86,
          43.29,
          45.56,
          50.48,
          49.53,
          43.35,
          42.48,
          44.48,
          44.12,
          52.07,
          39.88,
          33.55,
          36.1,
          39.49,
          40.66,
          46.53,
          39.2,
          33.33,
          35.35,
          36.14,
          31.94,
          29.3,
          27.09,
          32.19,
          31.94,
          41.32,
          51.03,
          44.78,
          47.69,
          49.72,
          44.37,
          37.69,
          38.01,
          38.61,
          44.85,
          44.57,
          45.99,
          27.14,
          43.68,
          53.84,
          51.67,
          65.63,
          59.34,
          46.61,
          49.62,
          43.11,
          45.08,
          54.12,
          55.99,
          45.4,
          41.07,
          40.31,
          46.95,
          51.03,
          36.45,
          37.33,
          35.05,
          48.36,
          51.9,
          54.38,
          50.49,
          48.38,
          41.24,
          43.82,
          49.08,
          43.21,
          39.58,
          40.17,
          46.72,
          40.4,
          49.24,
          48.15,
          40.05,
          32.58,
          27.3,
          26.27,
          28.12,
          27.53,
          33.27,
          31.25,
          36.03,
          38.44,
          44.46,
          44.27,
          34.64,
          32.64,
          35.67,
          44.57,
          44.84,
          42.44,
          40.71,
          44.47,
          36.17,
          38.7,
          37,
          38.45,
          48.7,
          51.84,
          57.11,
          55.38,
          47.18,
          39.31,
          35.01,
          33.49,
          34.11,
          32.08,
          36.19,
          41.85,
          46.23,
          41.74,
          38.54,
          43.54,
          37.26,
          39.3,
          40.08,
          39.46,
          38.33,
          33.02,
          29.08,
          36.7,
          42.39,
          41.94,
          38.58,
          36.33,
          34.43,
          33.4,
          33.84,
          45.36,
          40.11,
          38.57,
          38.58,
          40.95,
          36.5,
          30.55,
          34.65,
          39.38,
          37.96,
          40.19,
          37.68,
          32.83,
          31.46,
          38.4,
          32.36,
          28.58,
          32.42,
          28.45,
          25.87,
          24.13,
          26.04,
          27.99,
          29.36,
          29.82,
          28.79,
          31.04,
          31.34,
          30.05,
          32.41,
          29.56,
          30.78,
          32.06,
          28.17,
          24.71,
          24.26,
          23.37,
          22.38,
          20.34,
          19.9,
          22.31,
          24.13,
          25.37,
          24.13,
          26.44,
          29.96,
          28.6,
          23.58,
          22.73,
          22.73,
          22.28,
          24.2,
          30.7,
          35.57,
          37.78,
          31.15,
          31.58,
          35.08,
          31.83,
          37.79,
          42.52,
          36.24,
          35.47,
          36.86,
          37.85,
          39.4,
          33.16,
          25.13,
          33.8,
          30.33,
          33.54,
          43.63,
          42.22,
          48.05,
          41.31,
          37.9,
          38.07,
          36.59,
          35,
          44.37,
          45.37,
          48.25,
          52.18,
          47.85,
          48.43,
          52.74,
          55.85,
          58.01,
          51.21,
          48.63,
          36.62,
          44.82,
          31.18,
          30.5,
          44.2,
          49.84,
          55.35,
          55.03,
          58.85,
          62.24,
          53,
          49.76,
          41.19,
          40.93,
          44.39,
          48.41,
          54.51,
          46.84,
          42.27,
          45.84,
          36.97,
          39.78,
          47.15,
          53.89,
          53.87,
          51.41,
          46.35,
          42.49,
          45.3,
          47.02,
          51.21,
          49.26,
          52.53,
          49.16,
          49.42,
          50.23,
          55.63,
          58.67,
          51.27,
          40.31,
          42.01,
          41.97,
          45.92,
          50.27,
          51.04,
          48.82,
          54.66,
          57.91,
          60.21,
          67.29,
          65.75,
          57.34,
          50.38,
          56.6,
          55.46,
          51.53,
          57.55,
          56
         ]
        }
       ],
       "layout": {
        "template": {
         "data": {
          "bar": [
           {
            "error_x": {
             "color": "#2a3f5f"
            },
            "error_y": {
             "color": "#2a3f5f"
            },
            "marker": {
             "line": {
              "color": "#E5ECF6",
              "width": 0.5
             },
             "pattern": {
              "fillmode": "overlay",
              "size": 10,
              "solidity": 0.2
             }
            },
            "type": "bar"
           }
          ],
          "barpolar": [
           {
            "marker": {
             "line": {
              "color": "#E5ECF6",
              "width": 0.5
             },
             "pattern": {
              "fillmode": "overlay",
              "size": 10,
              "solidity": 0.2
             }
            },
            "type": "barpolar"
           }
          ],
          "carpet": [
           {
            "aaxis": {
             "endlinecolor": "#2a3f5f",
             "gridcolor": "white",
             "linecolor": "white",
             "minorgridcolor": "white",
             "startlinecolor": "#2a3f5f"
            },
            "baxis": {
             "endlinecolor": "#2a3f5f",
             "gridcolor": "white",
             "linecolor": "white",
             "minorgridcolor": "white",
             "startlinecolor": "#2a3f5f"
            },
            "type": "carpet"
           }
          ],
          "choropleth": [
           {
            "colorbar": {
             "outlinewidth": 0,
             "ticks": ""
            },
            "type": "choropleth"
           }
          ],
          "contour": [
           {
            "colorbar": {
             "outlinewidth": 0,
             "ticks": ""
            },
            "colorscale": [
             [
              0,
              "#0d0887"
             ],
             [
              0.1111111111111111,
              "#46039f"
             ],
             [
              0.2222222222222222,
              "#7201a8"
             ],
             [
              0.3333333333333333,
              "#9c179e"
             ],
             [
              0.4444444444444444,
              "#bd3786"
             ],
             [
              0.5555555555555556,
              "#d8576b"
             ],
             [
              0.6666666666666666,
              "#ed7953"
             ],
             [
              0.7777777777777778,
              "#fb9f3a"
             ],
             [
              0.8888888888888888,
              "#fdca26"
             ],
             [
              1,
              "#f0f921"
             ]
            ],
            "type": "contour"
           }
          ],
          "contourcarpet": [
           {
            "colorbar": {
             "outlinewidth": 0,
             "ticks": ""
            },
            "type": "contourcarpet"
           }
          ],
          "heatmap": [
           {
            "colorbar": {
             "outlinewidth": 0,
             "ticks": ""
            },
            "colorscale": [
             [
              0,
              "#0d0887"
             ],
             [
              0.1111111111111111,
              "#46039f"
             ],
             [
              0.2222222222222222,
              "#7201a8"
             ],
             [
              0.3333333333333333,
              "#9c179e"
             ],
             [
              0.4444444444444444,
              "#bd3786"
             ],
             [
              0.5555555555555556,
              "#d8576b"
             ],
             [
              0.6666666666666666,
              "#ed7953"
             ],
             [
              0.7777777777777778,
              "#fb9f3a"
             ],
             [
              0.8888888888888888,
              "#fdca26"
             ],
             [
              1,
              "#f0f921"
             ]
            ],
            "type": "heatmap"
           }
          ],
          "heatmapgl": [
           {
            "colorbar": {
             "outlinewidth": 0,
             "ticks": ""
            },
            "colorscale": [
             [
              0,
              "#0d0887"
             ],
             [
              0.1111111111111111,
              "#46039f"
             ],
             [
              0.2222222222222222,
              "#7201a8"
             ],
             [
              0.3333333333333333,
              "#9c179e"
             ],
             [
              0.4444444444444444,
              "#bd3786"
             ],
             [
              0.5555555555555556,
              "#d8576b"
             ],
             [
              0.6666666666666666,
              "#ed7953"
             ],
             [
              0.7777777777777778,
              "#fb9f3a"
             ],
             [
              0.8888888888888888,
              "#fdca26"
             ],
             [
              1,
              "#f0f921"
             ]
            ],
            "type": "heatmapgl"
           }
          ],
          "histogram": [
           {
            "marker": {
             "pattern": {
              "fillmode": "overlay",
              "size": 10,
              "solidity": 0.2
             }
            },
            "type": "histogram"
           }
          ],
          "histogram2d": [
           {
            "colorbar": {
             "outlinewidth": 0,
             "ticks": ""
            },
            "colorscale": [
             [
              0,
              "#0d0887"
             ],
             [
              0.1111111111111111,
              "#46039f"
             ],
             [
              0.2222222222222222,
              "#7201a8"
             ],
             [
              0.3333333333333333,
              "#9c179e"
             ],
             [
              0.4444444444444444,
              "#bd3786"
             ],
             [
              0.5555555555555556,
              "#d8576b"
             ],
             [
              0.6666666666666666,
              "#ed7953"
             ],
             [
              0.7777777777777778,
              "#fb9f3a"
             ],
             [
              0.8888888888888888,
              "#fdca26"
             ],
             [
              1,
              "#f0f921"
             ]
            ],
            "type": "histogram2d"
           }
          ],
          "histogram2dcontour": [
           {
            "colorbar": {
             "outlinewidth": 0,
             "ticks": ""
            },
            "colorscale": [
             [
              0,
              "#0d0887"
             ],
             [
              0.1111111111111111,
              "#46039f"
             ],
             [
              0.2222222222222222,
              "#7201a8"
             ],
             [
              0.3333333333333333,
              "#9c179e"
             ],
             [
              0.4444444444444444,
              "#bd3786"
             ],
             [
              0.5555555555555556,
              "#d8576b"
             ],
             [
              0.6666666666666666,
              "#ed7953"
             ],
             [
              0.7777777777777778,
              "#fb9f3a"
             ],
             [
              0.8888888888888888,
              "#fdca26"
             ],
             [
              1,
              "#f0f921"
             ]
            ],
            "type": "histogram2dcontour"
           }
          ],
          "mesh3d": [
           {
            "colorbar": {
             "outlinewidth": 0,
             "ticks": ""
            },
            "type": "mesh3d"
           }
          ],
          "parcoords": [
           {
            "line": {
             "colorbar": {
              "outlinewidth": 0,
              "ticks": ""
             }
            },
            "type": "parcoords"
           }
          ],
          "pie": [
           {
            "automargin": true,
            "type": "pie"
           }
          ],
          "scatter": [
           {
            "marker": {
             "colorbar": {
              "outlinewidth": 0,
              "ticks": ""
             }
            },
            "type": "scatter"
           }
          ],
          "scatter3d": [
           {
            "line": {
             "colorbar": {
              "outlinewidth": 0,
              "ticks": ""
             }
            },
            "marker": {
             "colorbar": {
              "outlinewidth": 0,
              "ticks": ""
             }
            },
            "type": "scatter3d"
           }
          ],
          "scattercarpet": [
           {
            "marker": {
             "colorbar": {
              "outlinewidth": 0,
              "ticks": ""
             }
            },
            "type": "scattercarpet"
           }
          ],
          "scattergeo": [
           {
            "marker": {
             "colorbar": {
              "outlinewidth": 0,
              "ticks": ""
             }
            },
            "type": "scattergeo"
           }
          ],
          "scattergl": [
           {
            "marker": {
             "colorbar": {
              "outlinewidth": 0,
              "ticks": ""
             }
            },
            "type": "scattergl"
           }
          ],
          "scattermapbox": [
           {
            "marker": {
             "colorbar": {
              "outlinewidth": 0,
              "ticks": ""
             }
            },
            "type": "scattermapbox"
           }
          ],
          "scatterpolar": [
           {
            "marker": {
             "colorbar": {
              "outlinewidth": 0,
              "ticks": ""
             }
            },
            "type": "scatterpolar"
           }
          ],
          "scatterpolargl": [
           {
            "marker": {
             "colorbar": {
              "outlinewidth": 0,
              "ticks": ""
             }
            },
            "type": "scatterpolargl"
           }
          ],
          "scatterternary": [
           {
            "marker": {
             "colorbar": {
              "outlinewidth": 0,
              "ticks": ""
             }
            },
            "type": "scatterternary"
           }
          ],
          "surface": [
           {
            "colorbar": {
             "outlinewidth": 0,
             "ticks": ""
            },
            "colorscale": [
             [
              0,
              "#0d0887"
             ],
             [
              0.1111111111111111,
              "#46039f"
             ],
             [
              0.2222222222222222,
              "#7201a8"
             ],
             [
              0.3333333333333333,
              "#9c179e"
             ],
             [
              0.4444444444444444,
              "#bd3786"
             ],
             [
              0.5555555555555556,
              "#d8576b"
             ],
             [
              0.6666666666666666,
              "#ed7953"
             ],
             [
              0.7777777777777778,
              "#fb9f3a"
             ],
             [
              0.8888888888888888,
              "#fdca26"
             ],
             [
              1,
              "#f0f921"
             ]
            ],
            "type": "surface"
           }
          ],
          "table": [
           {
            "cells": {
             "fill": {
              "color": "#EBF0F8"
             },
             "line": {
              "color": "white"
             }
            },
            "header": {
             "fill": {
              "color": "#C8D4E3"
             },
             "line": {
              "color": "white"
             }
            },
            "type": "table"
           }
          ]
         },
         "layout": {
          "annotationdefaults": {
           "arrowcolor": "#2a3f5f",
           "arrowhead": 0,
           "arrowwidth": 1
          },
          "autotypenumbers": "strict",
          "coloraxis": {
           "colorbar": {
            "outlinewidth": 0,
            "ticks": ""
           }
          },
          "colorscale": {
           "diverging": [
            [
             0,
             "#8e0152"
            ],
            [
             0.1,
             "#c51b7d"
            ],
            [
             0.2,
             "#de77ae"
            ],
            [
             0.3,
             "#f1b6da"
            ],
            [
             0.4,
             "#fde0ef"
            ],
            [
             0.5,
             "#f7f7f7"
            ],
            [
             0.6,
             "#e6f5d0"
            ],
            [
             0.7,
             "#b8e186"
            ],
            [
             0.8,
             "#7fbc41"
            ],
            [
             0.9,
             "#4d9221"
            ],
            [
             1,
             "#276419"
            ]
           ],
           "sequential": [
            [
             0,
             "#0d0887"
            ],
            [
             0.1111111111111111,
             "#46039f"
            ],
            [
             0.2222222222222222,
             "#7201a8"
            ],
            [
             0.3333333333333333,
             "#9c179e"
            ],
            [
             0.4444444444444444,
             "#bd3786"
            ],
            [
             0.5555555555555556,
             "#d8576b"
            ],
            [
             0.6666666666666666,
             "#ed7953"
            ],
            [
             0.7777777777777778,
             "#fb9f3a"
            ],
            [
             0.8888888888888888,
             "#fdca26"
            ],
            [
             1,
             "#f0f921"
            ]
           ],
           "sequentialminus": [
            [
             0,
             "#0d0887"
            ],
            [
             0.1111111111111111,
             "#46039f"
            ],
            [
             0.2222222222222222,
             "#7201a8"
            ],
            [
             0.3333333333333333,
             "#9c179e"
            ],
            [
             0.4444444444444444,
             "#bd3786"
            ],
            [
             0.5555555555555556,
             "#d8576b"
            ],
            [
             0.6666666666666666,
             "#ed7953"
            ],
            [
             0.7777777777777778,
             "#fb9f3a"
            ],
            [
             0.8888888888888888,
             "#fdca26"
            ],
            [
             1,
             "#f0f921"
            ]
           ]
          },
          "colorway": [
           "#636efa",
           "#EF553B",
           "#00cc96",
           "#ab63fa",
           "#FFA15A",
           "#19d3f3",
           "#FF6692",
           "#B6E880",
           "#FF97FF",
           "#FECB52"
          ],
          "font": {
           "color": "#2a3f5f"
          },
          "geo": {
           "bgcolor": "white",
           "lakecolor": "white",
           "landcolor": "#E5ECF6",
           "showlakes": true,
           "showland": true,
           "subunitcolor": "white"
          },
          "hoverlabel": {
           "align": "left"
          },
          "hovermode": "closest",
          "mapbox": {
           "style": "light"
          },
          "paper_bgcolor": "white",
          "plot_bgcolor": "#E5ECF6",
          "polar": {
           "angularaxis": {
            "gridcolor": "white",
            "linecolor": "white",
            "ticks": ""
           },
           "bgcolor": "#E5ECF6",
           "radialaxis": {
            "gridcolor": "white",
            "linecolor": "white",
            "ticks": ""
           }
          },
          "scene": {
           "xaxis": {
            "backgroundcolor": "#E5ECF6",
            "gridcolor": "white",
            "gridwidth": 2,
            "linecolor": "white",
            "showbackground": true,
            "ticks": "",
            "zerolinecolor": "white"
           },
           "yaxis": {
            "backgroundcolor": "#E5ECF6",
            "gridcolor": "white",
            "gridwidth": 2,
            "linecolor": "white",
            "showbackground": true,
            "ticks": "",
            "zerolinecolor": "white"
           },
           "zaxis": {
            "backgroundcolor": "#E5ECF6",
            "gridcolor": "white",
            "gridwidth": 2,
            "linecolor": "white",
            "showbackground": true,
            "ticks": "",
            "zerolinecolor": "white"
           }
          },
          "shapedefaults": {
           "line": {
            "color": "#2a3f5f"
           }
          },
          "ternary": {
           "aaxis": {
            "gridcolor": "white",
            "linecolor": "white",
            "ticks": ""
           },
           "baxis": {
            "gridcolor": "white",
            "linecolor": "white",
            "ticks": ""
           },
           "bgcolor": "#E5ECF6",
           "caxis": {
            "gridcolor": "white",
            "linecolor": "white",
            "ticks": ""
           }
          },
          "title": {
           "x": 0.05
          },
          "xaxis": {
           "automargin": true,
           "gridcolor": "white",
           "linecolor": "white",
           "ticks": "",
           "title": {
            "standoff": 15
           },
           "zerolinecolor": "white",
           "zerolinewidth": 2
          },
          "yaxis": {
           "automargin": true,
           "gridcolor": "white",
           "linecolor": "white",
           "ticks": "",
           "title": {
            "standoff": 15
           },
           "zerolinecolor": "white",
           "zerolinewidth": 2
          }
         }
        },
        "title": {
         "text": "NH3 2018"
        },
        "xaxis": {
         "tickangle": 90,
         "title": {
          "font": {
           "size": 20
          },
          "standoff": 25,
          "text": "Month"
         }
        },
        "yaxis": {
         "title": {
          "standoff": 25,
          "text": "NH3"
         }
        }
       }
      },
      "text/html": [
       "<div>                            <div id=\"5dc9de5d-d1c8-4ef6-a384-02c9a523c201\" class=\"plotly-graph-div\" style=\"height:525px; width:100%;\"></div>            <script type=\"text/javascript\">                require([\"plotly\"], function(Plotly) {                    window.PLOTLYENV=window.PLOTLYENV || {};                                    if (document.getElementById(\"5dc9de5d-d1c8-4ef6-a384-02c9a523c201\")) {                    Plotly.newPlot(                        \"5dc9de5d-d1c8-4ef6-a384-02c9a523c201\",                        [{\"mode\":\"lines+markers\",\"x\":[\"2018-01-01T00:00:00\",\"2018-01-02T00:00:00\",\"2018-01-03T00:00:00\",\"2018-01-04T00:00:00\",\"2018-01-05T00:00:00\",\"2018-01-06T00:00:00\",\"2018-01-07T00:00:00\",\"2018-01-08T00:00:00\",\"2018-01-09T00:00:00\",\"2018-01-10T00:00:00\",\"2018-01-11T00:00:00\",\"2018-01-12T00:00:00\",\"2018-01-13T00:00:00\",\"2018-01-14T00:00:00\",\"2018-01-15T00:00:00\",\"2018-01-16T00:00:00\",\"2018-01-17T00:00:00\",\"2018-01-18T00:00:00\",\"2018-01-19T00:00:00\",\"2018-01-20T00:00:00\",\"2018-01-21T00:00:00\",\"2018-01-22T00:00:00\",\"2018-01-23T00:00:00\",\"2018-01-24T00:00:00\",\"2018-01-25T00:00:00\",\"2018-01-26T00:00:00\",\"2018-01-27T00:00:00\",\"2018-01-28T00:00:00\",\"2018-01-29T00:00:00\",\"2018-01-30T00:00:00\",\"2018-01-31T00:00:00\",\"2018-02-01T00:00:00\",\"2018-02-02T00:00:00\",\"2018-02-03T00:00:00\",\"2018-02-04T00:00:00\",\"2018-02-05T00:00:00\",\"2018-02-06T00:00:00\",\"2018-02-07T00:00:00\",\"2018-02-08T00:00:00\",\"2018-02-09T00:00:00\",\"2018-02-10T00:00:00\",\"2018-02-11T00:00:00\",\"2018-02-12T00:00:00\",\"2018-02-13T00:00:00\",\"2018-02-14T00:00:00\",\"2018-02-15T00:00:00\",\"2018-02-16T00:00:00\",\"2018-02-17T00:00:00\",\"2018-02-18T00:00:00\",\"2018-02-19T00:00:00\",\"2018-02-20T00:00:00\",\"2018-02-21T00:00:00\",\"2018-02-22T00:00:00\",\"2018-02-23T00:00:00\",\"2018-02-24T00:00:00\",\"2018-02-25T00:00:00\",\"2018-02-26T00:00:00\",\"2018-02-27T00:00:00\",\"2018-02-28T00:00:00\",\"2018-03-01T00:00:00\",\"2018-03-02T00:00:00\",\"2018-03-03T00:00:00\",\"2018-03-04T00:00:00\",\"2018-03-05T00:00:00\",\"2018-03-06T00:00:00\",\"2018-03-07T00:00:00\",\"2018-03-08T00:00:00\",\"2018-03-09T00:00:00\",\"2018-03-10T00:00:00\",\"2018-03-11T00:00:00\",\"2018-03-12T00:00:00\",\"2018-03-13T00:00:00\",\"2018-03-14T00:00:00\",\"2018-03-15T00:00:00\",\"2018-03-16T00:00:00\",\"2018-03-17T00:00:00\",\"2018-03-18T00:00:00\",\"2018-03-19T00:00:00\",\"2018-03-20T00:00:00\",\"2018-03-21T00:00:00\",\"2018-03-22T00:00:00\",\"2018-03-23T00:00:00\",\"2018-03-24T00:00:00\",\"2018-03-25T00:00:00\",\"2018-03-26T00:00:00\",\"2018-03-27T00:00:00\",\"2018-03-28T00:00:00\",\"2018-03-29T00:00:00\",\"2018-03-30T00:00:00\",\"2018-03-31T00:00:00\",\"2018-04-01T00:00:00\",\"2018-04-02T00:00:00\",\"2018-04-03T00:00:00\",\"2018-04-04T00:00:00\",\"2018-04-05T00:00:00\",\"2018-04-06T00:00:00\",\"2018-04-07T00:00:00\",\"2018-04-08T00:00:00\",\"2018-04-09T00:00:00\",\"2018-04-10T00:00:00\",\"2018-04-11T00:00:00\",\"2018-04-12T00:00:00\",\"2018-04-13T00:00:00\",\"2018-04-14T00:00:00\",\"2018-04-15T00:00:00\",\"2018-04-16T00:00:00\",\"2018-04-17T00:00:00\",\"2018-04-18T00:00:00\",\"2018-04-19T00:00:00\",\"2018-04-20T00:00:00\",\"2018-04-21T00:00:00\",\"2018-04-22T00:00:00\",\"2018-04-23T00:00:00\",\"2018-04-24T00:00:00\",\"2018-04-25T00:00:00\",\"2018-04-26T00:00:00\",\"2018-04-27T00:00:00\",\"2018-04-28T00:00:00\",\"2018-04-29T00:00:00\",\"2018-04-30T00:00:00\",\"2018-05-01T00:00:00\",\"2018-05-02T00:00:00\",\"2018-05-03T00:00:00\",\"2018-05-04T00:00:00\",\"2018-05-05T00:00:00\",\"2018-05-06T00:00:00\",\"2018-05-07T00:00:00\",\"2018-05-08T00:00:00\",\"2018-05-09T00:00:00\",\"2018-05-10T00:00:00\",\"2018-05-11T00:00:00\",\"2018-05-12T00:00:00\",\"2018-05-13T00:00:00\",\"2018-05-14T00:00:00\",\"2018-05-15T00:00:00\",\"2018-05-16T00:00:00\",\"2018-05-17T00:00:00\",\"2018-05-18T00:00:00\",\"2018-05-19T00:00:00\",\"2018-05-20T00:00:00\",\"2018-05-21T00:00:00\",\"2018-05-22T00:00:00\",\"2018-05-23T00:00:00\",\"2018-05-24T00:00:00\",\"2018-05-25T00:00:00\",\"2018-05-26T00:00:00\",\"2018-05-27T00:00:00\",\"2018-05-28T00:00:00\",\"2018-05-29T00:00:00\",\"2018-05-30T00:00:00\",\"2018-05-31T00:00:00\",\"2018-06-01T00:00:00\",\"2018-06-02T00:00:00\",\"2018-06-03T00:00:00\",\"2018-06-04T00:00:00\",\"2018-06-05T00:00:00\",\"2018-06-06T00:00:00\",\"2018-06-07T00:00:00\",\"2018-06-08T00:00:00\",\"2018-06-09T00:00:00\",\"2018-06-10T00:00:00\",\"2018-06-11T00:00:00\",\"2018-06-12T00:00:00\",\"2018-06-13T00:00:00\",\"2018-06-14T00:00:00\",\"2018-06-15T00:00:00\",\"2018-06-16T00:00:00\",\"2018-06-17T00:00:00\",\"2018-06-18T00:00:00\",\"2018-06-19T00:00:00\",\"2018-06-20T00:00:00\",\"2018-06-21T00:00:00\",\"2018-06-22T00:00:00\",\"2018-06-23T00:00:00\",\"2018-06-24T00:00:00\",\"2018-06-25T00:00:00\",\"2018-06-26T00:00:00\",\"2018-06-27T00:00:00\",\"2018-06-28T00:00:00\",\"2018-06-29T00:00:00\",\"2018-06-30T00:00:00\",\"2018-07-01T00:00:00\",\"2018-07-02T00:00:00\",\"2018-07-03T00:00:00\",\"2018-07-04T00:00:00\",\"2018-07-05T00:00:00\",\"2018-07-06T00:00:00\",\"2018-07-07T00:00:00\",\"2018-07-08T00:00:00\",\"2018-07-09T00:00:00\",\"2018-07-10T00:00:00\",\"2018-07-11T00:00:00\",\"2018-07-12T00:00:00\",\"2018-07-13T00:00:00\",\"2018-07-14T00:00:00\",\"2018-07-15T00:00:00\",\"2018-07-16T00:00:00\",\"2018-07-17T00:00:00\",\"2018-07-18T00:00:00\",\"2018-07-19T00:00:00\",\"2018-07-20T00:00:00\",\"2018-07-21T00:00:00\",\"2018-07-22T00:00:00\",\"2018-07-23T00:00:00\",\"2018-07-24T00:00:00\",\"2018-07-25T00:00:00\",\"2018-07-26T00:00:00\",\"2018-07-27T00:00:00\",\"2018-07-28T00:00:00\",\"2018-07-29T00:00:00\",\"2018-07-30T00:00:00\",\"2018-07-31T00:00:00\",\"2018-08-01T00:00:00\",\"2018-08-02T00:00:00\",\"2018-08-03T00:00:00\",\"2018-08-04T00:00:00\",\"2018-08-05T00:00:00\",\"2018-08-06T00:00:00\",\"2018-08-07T00:00:00\",\"2018-08-08T00:00:00\",\"2018-08-09T00:00:00\",\"2018-08-10T00:00:00\",\"2018-08-11T00:00:00\",\"2018-08-12T00:00:00\",\"2018-08-13T00:00:00\",\"2018-08-14T00:00:00\",\"2018-08-15T00:00:00\",\"2018-08-16T00:00:00\",\"2018-08-17T00:00:00\",\"2018-08-18T00:00:00\",\"2018-08-19T00:00:00\",\"2018-08-20T00:00:00\",\"2018-08-21T00:00:00\",\"2018-08-22T00:00:00\",\"2018-08-23T00:00:00\",\"2018-08-24T00:00:00\",\"2018-08-25T00:00:00\",\"2018-08-26T00:00:00\",\"2018-08-27T00:00:00\",\"2018-08-28T00:00:00\",\"2018-08-29T00:00:00\",\"2018-08-30T00:00:00\",\"2018-08-31T00:00:00\",\"2018-09-01T00:00:00\",\"2018-09-02T00:00:00\",\"2018-09-03T00:00:00\",\"2018-09-04T00:00:00\",\"2018-09-05T00:00:00\",\"2018-09-06T00:00:00\",\"2018-09-07T00:00:00\",\"2018-09-08T00:00:00\",\"2018-09-09T00:00:00\",\"2018-09-10T00:00:00\",\"2018-09-11T00:00:00\",\"2018-09-12T00:00:00\",\"2018-09-13T00:00:00\",\"2018-09-14T00:00:00\",\"2018-09-15T00:00:00\",\"2018-09-16T00:00:00\",\"2018-09-17T00:00:00\",\"2018-09-18T00:00:00\",\"2018-09-19T00:00:00\",\"2018-09-20T00:00:00\",\"2018-09-21T00:00:00\",\"2018-09-22T00:00:00\",\"2018-09-23T00:00:00\",\"2018-09-24T00:00:00\",\"2018-09-25T00:00:00\",\"2018-09-26T00:00:00\",\"2018-09-27T00:00:00\",\"2018-09-28T00:00:00\",\"2018-09-29T00:00:00\",\"2018-09-30T00:00:00\",\"2018-10-01T00:00:00\",\"2018-10-02T00:00:00\",\"2018-10-03T00:00:00\",\"2018-10-04T00:00:00\",\"2018-10-05T00:00:00\",\"2018-10-06T00:00:00\",\"2018-10-07T00:00:00\",\"2018-10-08T00:00:00\",\"2018-10-09T00:00:00\",\"2018-10-10T00:00:00\",\"2018-10-11T00:00:00\",\"2018-10-12T00:00:00\",\"2018-10-13T00:00:00\",\"2018-10-14T00:00:00\",\"2018-10-15T00:00:00\",\"2018-10-16T00:00:00\",\"2018-10-17T00:00:00\",\"2018-10-18T00:00:00\",\"2018-10-19T00:00:00\",\"2018-10-20T00:00:00\",\"2018-10-21T00:00:00\",\"2018-10-22T00:00:00\",\"2018-10-23T00:00:00\",\"2018-10-24T00:00:00\",\"2018-10-25T00:00:00\",\"2018-10-26T00:00:00\",\"2018-10-27T00:00:00\",\"2018-10-28T00:00:00\",\"2018-10-29T00:00:00\",\"2018-10-30T00:00:00\",\"2018-10-31T00:00:00\",\"2018-11-01T00:00:00\",\"2018-11-02T00:00:00\",\"2018-11-03T00:00:00\",\"2018-11-04T00:00:00\",\"2018-11-05T00:00:00\",\"2018-11-06T00:00:00\",\"2018-11-07T00:00:00\",\"2018-11-08T00:00:00\",\"2018-11-09T00:00:00\",\"2018-11-10T00:00:00\",\"2018-11-11T00:00:00\",\"2018-11-12T00:00:00\",\"2018-11-13T00:00:00\",\"2018-11-14T00:00:00\",\"2018-11-15T00:00:00\",\"2018-11-16T00:00:00\",\"2018-11-17T00:00:00\",\"2018-11-18T00:00:00\",\"2018-11-19T00:00:00\",\"2018-11-20T00:00:00\",\"2018-11-21T00:00:00\",\"2018-11-22T00:00:00\",\"2018-11-23T00:00:00\",\"2018-11-24T00:00:00\",\"2018-11-25T00:00:00\",\"2018-11-26T00:00:00\",\"2018-11-27T00:00:00\",\"2018-11-28T00:00:00\",\"2018-11-29T00:00:00\",\"2018-11-30T00:00:00\",\"2018-12-01T00:00:00\",\"2018-12-02T00:00:00\",\"2018-12-03T00:00:00\",\"2018-12-04T00:00:00\",\"2018-12-05T00:00:00\",\"2018-12-06T00:00:00\",\"2018-12-07T00:00:00\",\"2018-12-08T00:00:00\",\"2018-12-09T00:00:00\",\"2018-12-10T00:00:00\",\"2018-12-11T00:00:00\",\"2018-12-12T00:00:00\",\"2018-12-13T00:00:00\",\"2018-12-14T00:00:00\",\"2018-12-15T00:00:00\",\"2018-12-16T00:00:00\",\"2018-12-17T00:00:00\",\"2018-12-18T00:00:00\",\"2018-12-19T00:00:00\",\"2018-12-20T00:00:00\",\"2018-12-21T00:00:00\",\"2018-12-22T00:00:00\",\"2018-12-23T00:00:00\",\"2018-12-24T00:00:00\",\"2018-12-25T00:00:00\",\"2018-12-26T00:00:00\",\"2018-12-27T00:00:00\",\"2018-12-28T00:00:00\",\"2018-12-29T00:00:00\",\"2018-12-30T00:00:00\",\"2018-12-31T00:00:00\"],\"y\":[73.16,55.61,50.81,55.17,51.36,63.78,50.09,47.52,58.65,48.38,47.42,55.07,75.88,55.35,54.6,43.23,52.37,59.73,63.31,66.51,63.25,63.15,51.07,43.08,40.74,44.28,46.22,45.66,44.78,38.68,39.32,46.95,52.36,46.26,45.13,45.41,44.96,43.31,47.89,49.6,47.52,51.43,46.64,50.89,40.88,44.48,49.81,49.73,45.32,46.22,49.25,49.47,55.72,59.64,62.61,50.57,41.83,43.85,53.64,49.29,48.86,44.26,39.35,38.32,34.56,36.46,43.35,46.02,39.35,39.62,42.8,42.23,40.47,43.23,42.2,33.72,30.32,37.7,44.26,49.85,42.95,34.91,35.84,37.35,36.49,37.92,37.48,37.18,37.57,42.4,37.86,43.29,45.56,50.48,49.53,43.35,42.48,44.48,44.12,52.07,39.88,33.55,36.1,39.49,40.66,46.53,39.2,33.33,35.35,36.14,31.94,29.3,27.09,32.19,31.94,41.32,51.03,44.78,47.69,49.72,44.37,37.69,38.01,38.61,44.85,44.57,45.99,27.14,43.68,53.84,51.67,65.63,59.34,46.61,49.62,43.11,45.08,54.12,55.99,45.4,41.07,40.31,46.95,51.03,36.45,37.33,35.05,48.36,51.9,54.38,50.49,48.38,41.24,43.82,49.08,43.21,39.58,40.17,46.72,40.4,49.24,48.15,40.05,32.58,27.3,26.27,28.12,27.53,33.27,31.25,36.03,38.44,44.46,44.27,34.64,32.64,35.67,44.57,44.84,42.44,40.71,44.47,36.17,38.7,37.0,38.45,48.7,51.84,57.11,55.38,47.18,39.31,35.01,33.49,34.11,32.08,36.19,41.85,46.23,41.74,38.54,43.54,37.26,39.3,40.08,39.46,38.33,33.02,29.08,36.7,42.39,41.94,38.58,36.33,34.43,33.4,33.84,45.36,40.11,38.57,38.58,40.95,36.5,30.55,34.65,39.38,37.96,40.19,37.68,32.83,31.46,38.4,32.36,28.58,32.42,28.45,25.87,24.13,26.04,27.99,29.36,29.82,28.79,31.04,31.34,30.05,32.41,29.56,30.78,32.06,28.17,24.71,24.26,23.37,22.38,20.34,19.9,22.31,24.13,25.37,24.13,26.44,29.96,28.6,23.58,22.73,22.73,22.28,24.2,30.7,35.57,37.78,31.15,31.58,35.08,31.83,37.79,42.52,36.24,35.47,36.86,37.85,39.4,33.16,25.13,33.8,30.33,33.54,43.63,42.22,48.05,41.31,37.9,38.07,36.59,35.0,44.37,45.37,48.25,52.18,47.85,48.43,52.74,55.85,58.01,51.21,48.63,36.62,44.82,31.18,30.5,44.2,49.84,55.35,55.03,58.85,62.24,53.0,49.76,41.19,40.93,44.39,48.41,54.51,46.84,42.27,45.84,36.97,39.78,47.15,53.89,53.87,51.41,46.35,42.49,45.3,47.02,51.21,49.26,52.53,49.16,49.42,50.23,55.63,58.67,51.27,40.31,42.01,41.97,45.92,50.27,51.04,48.82,54.66,57.91,60.21,67.29,65.75,57.34,50.38,56.6,55.46,51.53,57.55,56.0],\"type\":\"scatter\"}],                        {\"template\":{\"data\":{\"bar\":[{\"error_x\":{\"color\":\"#2a3f5f\"},\"error_y\":{\"color\":\"#2a3f5f\"},\"marker\":{\"line\":{\"color\":\"#E5ECF6\",\"width\":0.5},\"pattern\":{\"fillmode\":\"overlay\",\"size\":10,\"solidity\":0.2}},\"type\":\"bar\"}],\"barpolar\":[{\"marker\":{\"line\":{\"color\":\"#E5ECF6\",\"width\":0.5},\"pattern\":{\"fillmode\":\"overlay\",\"size\":10,\"solidity\":0.2}},\"type\":\"barpolar\"}],\"carpet\":[{\"aaxis\":{\"endlinecolor\":\"#2a3f5f\",\"gridcolor\":\"white\",\"linecolor\":\"white\",\"minorgridcolor\":\"white\",\"startlinecolor\":\"#2a3f5f\"},\"baxis\":{\"endlinecolor\":\"#2a3f5f\",\"gridcolor\":\"white\",\"linecolor\":\"white\",\"minorgridcolor\":\"white\",\"startlinecolor\":\"#2a3f5f\"},\"type\":\"carpet\"}],\"choropleth\":[{\"colorbar\":{\"outlinewidth\":0,\"ticks\":\"\"},\"type\":\"choropleth\"}],\"contour\":[{\"colorbar\":{\"outlinewidth\":0,\"ticks\":\"\"},\"colorscale\":[[0.0,\"#0d0887\"],[0.1111111111111111,\"#46039f\"],[0.2222222222222222,\"#7201a8\"],[0.3333333333333333,\"#9c179e\"],[0.4444444444444444,\"#bd3786\"],[0.5555555555555556,\"#d8576b\"],[0.6666666666666666,\"#ed7953\"],[0.7777777777777778,\"#fb9f3a\"],[0.8888888888888888,\"#fdca26\"],[1.0,\"#f0f921\"]],\"type\":\"contour\"}],\"contourcarpet\":[{\"colorbar\":{\"outlinewidth\":0,\"ticks\":\"\"},\"type\":\"contourcarpet\"}],\"heatmap\":[{\"colorbar\":{\"outlinewidth\":0,\"ticks\":\"\"},\"colorscale\":[[0.0,\"#0d0887\"],[0.1111111111111111,\"#46039f\"],[0.2222222222222222,\"#7201a8\"],[0.3333333333333333,\"#9c179e\"],[0.4444444444444444,\"#bd3786\"],[0.5555555555555556,\"#d8576b\"],[0.6666666666666666,\"#ed7953\"],[0.7777777777777778,\"#fb9f3a\"],[0.8888888888888888,\"#fdca26\"],[1.0,\"#f0f921\"]],\"type\":\"heatmap\"}],\"heatmapgl\":[{\"colorbar\":{\"outlinewidth\":0,\"ticks\":\"\"},\"colorscale\":[[0.0,\"#0d0887\"],[0.1111111111111111,\"#46039f\"],[0.2222222222222222,\"#7201a8\"],[0.3333333333333333,\"#9c179e\"],[0.4444444444444444,\"#bd3786\"],[0.5555555555555556,\"#d8576b\"],[0.6666666666666666,\"#ed7953\"],[0.7777777777777778,\"#fb9f3a\"],[0.8888888888888888,\"#fdca26\"],[1.0,\"#f0f921\"]],\"type\":\"heatmapgl\"}],\"histogram\":[{\"marker\":{\"pattern\":{\"fillmode\":\"overlay\",\"size\":10,\"solidity\":0.2}},\"type\":\"histogram\"}],\"histogram2d\":[{\"colorbar\":{\"outlinewidth\":0,\"ticks\":\"\"},\"colorscale\":[[0.0,\"#0d0887\"],[0.1111111111111111,\"#46039f\"],[0.2222222222222222,\"#7201a8\"],[0.3333333333333333,\"#9c179e\"],[0.4444444444444444,\"#bd3786\"],[0.5555555555555556,\"#d8576b\"],[0.6666666666666666,\"#ed7953\"],[0.7777777777777778,\"#fb9f3a\"],[0.8888888888888888,\"#fdca26\"],[1.0,\"#f0f921\"]],\"type\":\"histogram2d\"}],\"histogram2dcontour\":[{\"colorbar\":{\"outlinewidth\":0,\"ticks\":\"\"},\"colorscale\":[[0.0,\"#0d0887\"],[0.1111111111111111,\"#46039f\"],[0.2222222222222222,\"#7201a8\"],[0.3333333333333333,\"#9c179e\"],[0.4444444444444444,\"#bd3786\"],[0.5555555555555556,\"#d8576b\"],[0.6666666666666666,\"#ed7953\"],[0.7777777777777778,\"#fb9f3a\"],[0.8888888888888888,\"#fdca26\"],[1.0,\"#f0f921\"]],\"type\":\"histogram2dcontour\"}],\"mesh3d\":[{\"colorbar\":{\"outlinewidth\":0,\"ticks\":\"\"},\"type\":\"mesh3d\"}],\"parcoords\":[{\"line\":{\"colorbar\":{\"outlinewidth\":0,\"ticks\":\"\"}},\"type\":\"parcoords\"}],\"pie\":[{\"automargin\":true,\"type\":\"pie\"}],\"scatter\":[{\"marker\":{\"colorbar\":{\"outlinewidth\":0,\"ticks\":\"\"}},\"type\":\"scatter\"}],\"scatter3d\":[{\"line\":{\"colorbar\":{\"outlinewidth\":0,\"ticks\":\"\"}},\"marker\":{\"colorbar\":{\"outlinewidth\":0,\"ticks\":\"\"}},\"type\":\"scatter3d\"}],\"scattercarpet\":[{\"marker\":{\"colorbar\":{\"outlinewidth\":0,\"ticks\":\"\"}},\"type\":\"scattercarpet\"}],\"scattergeo\":[{\"marker\":{\"colorbar\":{\"outlinewidth\":0,\"ticks\":\"\"}},\"type\":\"scattergeo\"}],\"scattergl\":[{\"marker\":{\"colorbar\":{\"outlinewidth\":0,\"ticks\":\"\"}},\"type\":\"scattergl\"}],\"scattermapbox\":[{\"marker\":{\"colorbar\":{\"outlinewidth\":0,\"ticks\":\"\"}},\"type\":\"scattermapbox\"}],\"scatterpolar\":[{\"marker\":{\"colorbar\":{\"outlinewidth\":0,\"ticks\":\"\"}},\"type\":\"scatterpolar\"}],\"scatterpolargl\":[{\"marker\":{\"colorbar\":{\"outlinewidth\":0,\"ticks\":\"\"}},\"type\":\"scatterpolargl\"}],\"scatterternary\":[{\"marker\":{\"colorbar\":{\"outlinewidth\":0,\"ticks\":\"\"}},\"type\":\"scatterternary\"}],\"surface\":[{\"colorbar\":{\"outlinewidth\":0,\"ticks\":\"\"},\"colorscale\":[[0.0,\"#0d0887\"],[0.1111111111111111,\"#46039f\"],[0.2222222222222222,\"#7201a8\"],[0.3333333333333333,\"#9c179e\"],[0.4444444444444444,\"#bd3786\"],[0.5555555555555556,\"#d8576b\"],[0.6666666666666666,\"#ed7953\"],[0.7777777777777778,\"#fb9f3a\"],[0.8888888888888888,\"#fdca26\"],[1.0,\"#f0f921\"]],\"type\":\"surface\"}],\"table\":[{\"cells\":{\"fill\":{\"color\":\"#EBF0F8\"},\"line\":{\"color\":\"white\"}},\"header\":{\"fill\":{\"color\":\"#C8D4E3\"},\"line\":{\"color\":\"white\"}},\"type\":\"table\"}]},\"layout\":{\"annotationdefaults\":{\"arrowcolor\":\"#2a3f5f\",\"arrowhead\":0,\"arrowwidth\":1},\"autotypenumbers\":\"strict\",\"coloraxis\":{\"colorbar\":{\"outlinewidth\":0,\"ticks\":\"\"}},\"colorscale\":{\"diverging\":[[0,\"#8e0152\"],[0.1,\"#c51b7d\"],[0.2,\"#de77ae\"],[0.3,\"#f1b6da\"],[0.4,\"#fde0ef\"],[0.5,\"#f7f7f7\"],[0.6,\"#e6f5d0\"],[0.7,\"#b8e186\"],[0.8,\"#7fbc41\"],[0.9,\"#4d9221\"],[1,\"#276419\"]],\"sequential\":[[0.0,\"#0d0887\"],[0.1111111111111111,\"#46039f\"],[0.2222222222222222,\"#7201a8\"],[0.3333333333333333,\"#9c179e\"],[0.4444444444444444,\"#bd3786\"],[0.5555555555555556,\"#d8576b\"],[0.6666666666666666,\"#ed7953\"],[0.7777777777777778,\"#fb9f3a\"],[0.8888888888888888,\"#fdca26\"],[1.0,\"#f0f921\"]],\"sequentialminus\":[[0.0,\"#0d0887\"],[0.1111111111111111,\"#46039f\"],[0.2222222222222222,\"#7201a8\"],[0.3333333333333333,\"#9c179e\"],[0.4444444444444444,\"#bd3786\"],[0.5555555555555556,\"#d8576b\"],[0.6666666666666666,\"#ed7953\"],[0.7777777777777778,\"#fb9f3a\"],[0.8888888888888888,\"#fdca26\"],[1.0,\"#f0f921\"]]},\"colorway\":[\"#636efa\",\"#EF553B\",\"#00cc96\",\"#ab63fa\",\"#FFA15A\",\"#19d3f3\",\"#FF6692\",\"#B6E880\",\"#FF97FF\",\"#FECB52\"],\"font\":{\"color\":\"#2a3f5f\"},\"geo\":{\"bgcolor\":\"white\",\"lakecolor\":\"white\",\"landcolor\":\"#E5ECF6\",\"showlakes\":true,\"showland\":true,\"subunitcolor\":\"white\"},\"hoverlabel\":{\"align\":\"left\"},\"hovermode\":\"closest\",\"mapbox\":{\"style\":\"light\"},\"paper_bgcolor\":\"white\",\"plot_bgcolor\":\"#E5ECF6\",\"polar\":{\"angularaxis\":{\"gridcolor\":\"white\",\"linecolor\":\"white\",\"ticks\":\"\"},\"bgcolor\":\"#E5ECF6\",\"radialaxis\":{\"gridcolor\":\"white\",\"linecolor\":\"white\",\"ticks\":\"\"}},\"scene\":{\"xaxis\":{\"backgroundcolor\":\"#E5ECF6\",\"gridcolor\":\"white\",\"gridwidth\":2,\"linecolor\":\"white\",\"showbackground\":true,\"ticks\":\"\",\"zerolinecolor\":\"white\"},\"yaxis\":{\"backgroundcolor\":\"#E5ECF6\",\"gridcolor\":\"white\",\"gridwidth\":2,\"linecolor\":\"white\",\"showbackground\":true,\"ticks\":\"\",\"zerolinecolor\":\"white\"},\"zaxis\":{\"backgroundcolor\":\"#E5ECF6\",\"gridcolor\":\"white\",\"gridwidth\":2,\"linecolor\":\"white\",\"showbackground\":true,\"ticks\":\"\",\"zerolinecolor\":\"white\"}},\"shapedefaults\":{\"line\":{\"color\":\"#2a3f5f\"}},\"ternary\":{\"aaxis\":{\"gridcolor\":\"white\",\"linecolor\":\"white\",\"ticks\":\"\"},\"baxis\":{\"gridcolor\":\"white\",\"linecolor\":\"white\",\"ticks\":\"\"},\"bgcolor\":\"#E5ECF6\",\"caxis\":{\"gridcolor\":\"white\",\"linecolor\":\"white\",\"ticks\":\"\"}},\"title\":{\"x\":0.05},\"xaxis\":{\"automargin\":true,\"gridcolor\":\"white\",\"linecolor\":\"white\",\"ticks\":\"\",\"title\":{\"standoff\":15},\"zerolinecolor\":\"white\",\"zerolinewidth\":2},\"yaxis\":{\"automargin\":true,\"gridcolor\":\"white\",\"linecolor\":\"white\",\"ticks\":\"\",\"title\":{\"standoff\":15},\"zerolinecolor\":\"white\",\"zerolinewidth\":2}}},\"xaxis\":{\"title\":{\"font\":{\"size\":20},\"text\":\"Month\",\"standoff\":25},\"tickangle\":90},\"yaxis\":{\"title\":{\"text\":\"NH3\",\"standoff\":25}},\"title\":{\"text\":\"NH3 2018\"}},                        {\"responsive\": true}                    ).then(function(){\n",
       "                            \n",
       "var gd = document.getElementById('5dc9de5d-d1c8-4ef6-a384-02c9a523c201');\n",
       "var x = new MutationObserver(function (mutations, observer) {{\n",
       "        var display = window.getComputedStyle(gd).display;\n",
       "        if (!display || display === 'none') {{\n",
       "            console.log([gd, 'removed!']);\n",
       "            Plotly.purge(gd);\n",
       "            observer.disconnect();\n",
       "        }}\n",
       "}});\n",
       "\n",
       "// Listen for the removal of the full notebook cells\n",
       "var notebookContainer = gd.closest('#notebook-container');\n",
       "if (notebookContainer) {{\n",
       "    x.observe(notebookContainer, {childList: true});\n",
       "}}\n",
       "\n",
       "// Listen for the clearing of the current output cell\n",
       "var outputEl = gd.closest('.output');\n",
       "if (outputEl) {{\n",
       "    x.observe(outputEl, {childList: true});\n",
       "}}\n",
       "\n",
       "                        })                };                });            </script>        </div>"
      ]
     },
     "metadata": {},
     "output_type": "display_data"
    }
   ],
   "source": [
    "#2018\n",
    "fig = go.Figure(go.Scatter(\n",
    "    mode = \"lines+markers\",\n",
    "    y = aqi_level_18.iloc[:,2],\n",
    "    x = aqi_level_18.iloc[:,1]))\n",
    "fig.update_xaxes(\n",
    "        tickangle = 90,\n",
    "        title_text = \"Month\",\n",
    "        title_font = {\"size\": 20},\n",
    "        title_standoff = 25)\n",
    "\n",
    "fig.update_yaxes(\n",
    "        title_text = \"NH3\",\n",
    "        title_standoff = 25)\n",
    "fig.update_layout(title_text=\"NH3 2018\")\n",
    "\n",
    "fig.show()"
   ]
  },
  {
   "cell_type": "code",
   "execution_count": 17,
   "id": "bb975ca8",
   "metadata": {},
   "outputs": [
    {
     "data": {
      "application/vnd.plotly.v1+json": {
       "config": {
        "plotlyServerURL": "https://plot.ly"
       },
       "data": [
        {
         "mode": "lines+markers",
         "type": "scatter",
         "x": [
          "2019-01-01T00:00:00",
          "2019-01-02T00:00:00",
          "2019-01-03T00:00:00",
          "2019-01-04T00:00:00",
          "2019-01-05T00:00:00",
          "2019-01-06T00:00:00",
          "2019-01-07T00:00:00",
          "2019-01-08T00:00:00",
          "2019-01-09T00:00:00",
          "2019-01-10T00:00:00",
          "2019-01-11T00:00:00",
          "2019-01-12T00:00:00",
          "2019-01-13T00:00:00",
          "2019-01-14T00:00:00",
          "2019-01-15T00:00:00",
          "2019-01-16T00:00:00",
          "2019-01-17T00:00:00",
          "2019-01-18T00:00:00",
          "2019-01-19T00:00:00",
          "2019-01-20T00:00:00",
          "2019-01-21T00:00:00",
          "2019-01-22T00:00:00",
          "2019-01-23T00:00:00",
          "2019-01-24T00:00:00",
          "2019-01-25T00:00:00",
          "2019-01-26T00:00:00",
          "2019-01-27T00:00:00",
          "2019-01-28T00:00:00",
          "2019-01-29T00:00:00",
          "2019-01-30T00:00:00",
          "2019-01-31T00:00:00",
          "2019-02-01T00:00:00",
          "2019-02-02T00:00:00",
          "2019-02-03T00:00:00",
          "2019-02-04T00:00:00",
          "2019-02-05T00:00:00",
          "2019-02-06T00:00:00",
          "2019-02-07T00:00:00",
          "2019-02-08T00:00:00",
          "2019-02-09T00:00:00",
          "2019-02-10T00:00:00",
          "2019-02-11T00:00:00",
          "2019-02-12T00:00:00",
          "2019-02-13T00:00:00",
          "2019-02-14T00:00:00",
          "2019-02-15T00:00:00",
          "2019-02-16T00:00:00",
          "2019-02-17T00:00:00",
          "2019-02-18T00:00:00",
          "2019-02-19T00:00:00",
          "2019-02-20T00:00:00",
          "2019-02-21T00:00:00",
          "2019-02-22T00:00:00",
          "2019-02-23T00:00:00",
          "2019-02-24T00:00:00",
          "2019-02-25T00:00:00",
          "2019-02-26T00:00:00",
          "2019-02-27T00:00:00",
          "2019-02-28T00:00:00",
          "2019-03-01T00:00:00",
          "2019-03-02T00:00:00",
          "2019-03-03T00:00:00",
          "2019-03-04T00:00:00",
          "2019-03-05T00:00:00",
          "2019-03-06T00:00:00",
          "2019-03-07T00:00:00",
          "2019-03-08T00:00:00",
          "2019-03-09T00:00:00",
          "2019-03-10T00:00:00",
          "2019-03-11T00:00:00",
          "2019-03-12T00:00:00",
          "2019-03-13T00:00:00",
          "2019-03-14T00:00:00",
          "2019-03-15T00:00:00",
          "2019-03-16T00:00:00",
          "2019-03-17T00:00:00",
          "2019-03-18T00:00:00",
          "2019-03-19T00:00:00",
          "2019-03-20T00:00:00",
          "2019-03-21T00:00:00",
          "2019-03-22T00:00:00",
          "2019-03-23T00:00:00",
          "2019-03-24T00:00:00",
          "2019-03-25T00:00:00",
          "2019-03-26T00:00:00",
          "2019-03-27T00:00:00",
          "2019-03-28T00:00:00",
          "2019-03-29T00:00:00",
          "2019-03-30T00:00:00",
          "2019-03-31T00:00:00",
          "2019-04-01T00:00:00",
          "2019-04-02T00:00:00",
          "2019-04-03T00:00:00",
          "2019-04-04T00:00:00",
          "2019-04-05T00:00:00",
          "2019-04-06T00:00:00",
          "2019-04-07T00:00:00",
          "2019-04-08T00:00:00",
          "2019-04-09T00:00:00",
          "2019-04-10T00:00:00",
          "2019-04-11T00:00:00",
          "2019-04-12T00:00:00",
          "2019-04-13T00:00:00",
          "2019-04-14T00:00:00",
          "2019-04-15T00:00:00",
          "2019-04-16T00:00:00",
          "2019-04-17T00:00:00",
          "2019-04-18T00:00:00",
          "2019-04-19T00:00:00",
          "2019-04-20T00:00:00",
          "2019-04-21T00:00:00",
          "2019-04-22T00:00:00",
          "2019-04-23T00:00:00",
          "2019-04-24T00:00:00",
          "2019-04-25T00:00:00",
          "2019-04-26T00:00:00",
          "2019-04-27T00:00:00",
          "2019-04-28T00:00:00",
          "2019-04-29T00:00:00",
          "2019-04-30T00:00:00",
          "2019-05-01T00:00:00",
          "2019-05-02T00:00:00",
          "2019-05-03T00:00:00",
          "2019-05-04T00:00:00",
          "2019-05-05T00:00:00",
          "2019-05-06T00:00:00",
          "2019-05-07T00:00:00",
          "2019-05-08T00:00:00",
          "2019-05-09T00:00:00",
          "2019-05-10T00:00:00",
          "2019-05-11T00:00:00",
          "2019-05-12T00:00:00",
          "2019-05-13T00:00:00",
          "2019-05-14T00:00:00",
          "2019-05-15T00:00:00",
          "2019-05-16T00:00:00",
          "2019-05-17T00:00:00",
          "2019-05-18T00:00:00",
          "2019-05-19T00:00:00",
          "2019-05-20T00:00:00",
          "2019-05-21T00:00:00",
          "2019-05-22T00:00:00",
          "2019-05-23T00:00:00",
          "2019-05-24T00:00:00",
          "2019-05-25T00:00:00",
          "2019-05-26T00:00:00",
          "2019-05-27T00:00:00",
          "2019-05-28T00:00:00",
          "2019-05-29T00:00:00",
          "2019-05-30T00:00:00",
          "2019-05-31T00:00:00",
          "2019-06-01T00:00:00",
          "2019-06-02T00:00:00",
          "2019-06-03T00:00:00",
          "2019-06-04T00:00:00",
          "2019-06-05T00:00:00",
          "2019-06-06T00:00:00",
          "2019-06-07T00:00:00",
          "2019-06-08T00:00:00",
          "2019-06-09T00:00:00",
          "2019-06-10T00:00:00",
          "2019-06-11T00:00:00",
          "2019-06-12T00:00:00",
          "2019-06-13T00:00:00",
          "2019-06-14T00:00:00",
          "2019-06-15T00:00:00",
          "2019-06-16T00:00:00",
          "2019-06-17T00:00:00",
          "2019-06-18T00:00:00",
          "2019-06-19T00:00:00",
          "2019-06-20T00:00:00",
          "2019-06-21T00:00:00",
          "2019-06-22T00:00:00",
          "2019-06-23T00:00:00",
          "2019-06-24T00:00:00",
          "2019-06-25T00:00:00",
          "2019-06-26T00:00:00",
          "2019-06-27T00:00:00",
          "2019-06-28T00:00:00",
          "2019-06-29T00:00:00",
          "2019-06-30T00:00:00",
          "2019-07-01T00:00:00",
          "2019-07-02T00:00:00",
          "2019-07-03T00:00:00",
          "2019-07-04T00:00:00",
          "2019-07-05T00:00:00",
          "2019-07-06T00:00:00",
          "2019-07-07T00:00:00",
          "2019-07-08T00:00:00",
          "2019-07-09T00:00:00",
          "2019-07-10T00:00:00",
          "2019-07-11T00:00:00",
          "2019-07-12T00:00:00",
          "2019-07-13T00:00:00",
          "2019-07-14T00:00:00",
          "2019-07-15T00:00:00",
          "2019-07-16T00:00:00",
          "2019-07-17T00:00:00",
          "2019-07-18T00:00:00",
          "2019-07-19T00:00:00",
          "2019-07-20T00:00:00",
          "2019-07-21T00:00:00",
          "2019-07-22T00:00:00",
          "2019-07-23T00:00:00",
          "2019-07-24T00:00:00",
          "2019-07-25T00:00:00",
          "2019-07-26T00:00:00",
          "2019-07-27T00:00:00",
          "2019-07-28T00:00:00",
          "2019-07-29T00:00:00",
          "2019-07-30T00:00:00",
          "2019-07-31T00:00:00",
          "2019-08-01T00:00:00",
          "2019-08-02T00:00:00",
          "2019-08-03T00:00:00",
          "2019-08-04T00:00:00",
          "2019-08-05T00:00:00",
          "2019-08-06T00:00:00",
          "2019-08-07T00:00:00",
          "2019-08-08T00:00:00",
          "2019-08-09T00:00:00",
          "2019-08-10T00:00:00",
          "2019-08-11T00:00:00",
          "2019-08-12T00:00:00",
          "2019-08-13T00:00:00",
          "2019-08-14T00:00:00",
          "2019-08-15T00:00:00",
          "2019-08-16T00:00:00",
          "2019-08-17T00:00:00",
          "2019-08-18T00:00:00",
          "2019-08-19T00:00:00",
          "2019-08-20T00:00:00",
          "2019-08-21T00:00:00",
          "2019-08-22T00:00:00",
          "2019-08-23T00:00:00",
          "2019-08-24T00:00:00",
          "2019-08-25T00:00:00",
          "2019-08-26T00:00:00",
          "2019-08-27T00:00:00",
          "2019-08-28T00:00:00",
          "2019-08-29T00:00:00",
          "2019-08-30T00:00:00",
          "2019-08-31T00:00:00",
          "2019-09-01T00:00:00",
          "2019-09-02T00:00:00",
          "2019-09-03T00:00:00",
          "2019-09-04T00:00:00",
          "2019-09-05T00:00:00",
          "2019-09-06T00:00:00",
          "2019-09-07T00:00:00",
          "2019-09-08T00:00:00",
          "2019-09-09T00:00:00",
          "2019-09-10T00:00:00",
          "2019-09-11T00:00:00",
          "2019-09-12T00:00:00",
          "2019-09-13T00:00:00",
          "2019-09-14T00:00:00",
          "2019-09-15T00:00:00",
          "2019-09-16T00:00:00",
          "2019-09-17T00:00:00",
          "2019-09-18T00:00:00",
          "2019-09-19T00:00:00",
          "2019-09-20T00:00:00",
          "2019-09-21T00:00:00",
          "2019-09-22T00:00:00",
          "2019-09-23T00:00:00",
          "2019-09-24T00:00:00",
          "2019-09-25T00:00:00",
          "2019-09-26T00:00:00",
          "2019-09-27T00:00:00",
          "2019-09-28T00:00:00",
          "2019-09-29T00:00:00",
          "2019-09-30T00:00:00",
          "2019-10-01T00:00:00",
          "2019-10-02T00:00:00",
          "2019-10-03T00:00:00",
          "2019-10-04T00:00:00",
          "2019-10-05T00:00:00",
          "2019-10-06T00:00:00",
          "2019-10-07T00:00:00",
          "2019-10-08T00:00:00",
          "2019-10-09T00:00:00",
          "2019-10-10T00:00:00",
          "2019-10-11T00:00:00",
          "2019-10-12T00:00:00",
          "2019-10-13T00:00:00",
          "2019-10-14T00:00:00",
          "2019-10-15T00:00:00",
          "2019-10-16T00:00:00",
          "2019-10-17T00:00:00",
          "2019-10-18T00:00:00",
          "2019-10-19T00:00:00",
          "2019-10-20T00:00:00",
          "2019-10-21T00:00:00",
          "2019-10-22T00:00:00",
          "2019-10-23T00:00:00",
          "2019-10-24T00:00:00",
          "2019-10-25T00:00:00",
          "2019-10-26T00:00:00",
          "2019-10-27T00:00:00",
          "2019-10-28T00:00:00",
          "2019-10-29T00:00:00",
          "2019-10-30T00:00:00",
          "2019-10-31T00:00:00",
          "2019-11-01T00:00:00",
          "2019-11-02T00:00:00",
          "2019-11-03T00:00:00",
          "2019-11-04T00:00:00",
          "2019-11-05T00:00:00",
          "2019-11-06T00:00:00",
          "2019-11-07T00:00:00",
          "2019-11-08T00:00:00",
          "2019-11-09T00:00:00",
          "2019-11-10T00:00:00",
          "2019-11-11T00:00:00",
          "2019-11-12T00:00:00",
          "2019-11-13T00:00:00",
          "2019-11-14T00:00:00",
          "2019-11-15T00:00:00",
          "2019-11-16T00:00:00",
          "2019-11-17T00:00:00",
          "2019-11-18T00:00:00",
          "2019-11-19T00:00:00",
          "2019-11-20T00:00:00",
          "2019-11-21T00:00:00",
          "2019-11-22T00:00:00",
          "2019-11-23T00:00:00",
          "2019-11-24T00:00:00",
          "2019-11-25T00:00:00",
          "2019-11-26T00:00:00",
          "2019-11-27T00:00:00",
          "2019-11-28T00:00:00",
          "2019-11-29T00:00:00",
          "2019-11-30T00:00:00",
          "2019-12-01T00:00:00",
          "2019-12-02T00:00:00",
          "2019-12-03T00:00:00",
          "2019-12-04T00:00:00",
          "2019-12-05T00:00:00",
          "2019-12-06T00:00:00",
          "2019-12-07T00:00:00",
          "2019-12-08T00:00:00",
          "2019-12-09T00:00:00",
          "2019-12-10T00:00:00",
          "2019-12-11T00:00:00",
          "2019-12-12T00:00:00",
          "2019-12-13T00:00:00",
          "2019-12-14T00:00:00",
          "2019-12-15T00:00:00",
          "2019-12-16T00:00:00",
          "2019-12-17T00:00:00",
          "2019-12-18T00:00:00",
          "2019-12-19T00:00:00",
          "2019-12-20T00:00:00",
          "2019-12-21T00:00:00",
          "2019-12-22T00:00:00",
          "2019-12-23T00:00:00",
          "2019-12-24T00:00:00",
          "2019-12-25T00:00:00",
          "2019-12-26T00:00:00",
          "2019-12-27T00:00:00",
          "2019-12-28T00:00:00",
          "2019-12-29T00:00:00",
          "2019-12-30T00:00:00",
          "2019-12-31T00:00:00"
         ],
         "y": [
          56.66,
          63.63,
          61.02,
          53.09,
          56.49,
          55.71,
          56.06,
          49.69,
          43.53,
          44.67,
          56.53,
          63.46,
          63.66,
          40.52,
          39.74,
          55.19,
          60.95,
          48.6,
          50.3,
          62.37,
          57.52,
          39.73,
          42.37,
          41.06,
          34.17,
          33.64,
          35.34,
          34.49,
          36.19,
          42.99,
          49.6,
          49.42,
          43.55,
          40.43,
          39.88,
          53.81,
          53.76,
          37.84,
          29.11,
          28.42,
          33.83,
          39.17,
          46.24,
          47.95,
          45.64,
          39.19,
          35.16,
          31.82,
          33.82,
          41.33,
          41.41,
          38.24,
          39.11,
          26.26,
          29.95,
          34.51,
          32.19,
          26.57,
          31.23,
          30.2,
          36.48,
          30.98,
          37.26,
          28.71,
          29.05,
          32.79,
          32.86,
          30.68,
          27.17,
          30.69,
          29.97,
          32.39,
          39.07,
          32.74,
          27.95,
          30.56,
          32.06,
          33.86,
          36.5,
          39.26,
          27.85,
          26.54,
          27.52,
          30.32,
          29.95,
          29.54,
          34.47,
          40.53,
          41.4,
          32.06,
          27.21,
          29.3,
          30.85,
          37.04,
          41.23,
          37.35,
          52.01,
          41,
          38.26,
          40.97,
          34.96,
          34.06,
          33.66,
          29.84,
          29.21,
          30.98,
          26.7,
          26.28,
          29.85,
          29.35,
          31.53,
          36.99,
          38.2,
          37.64,
          40.86,
          32.2,
          28.15,
          25.63,
          27.82,
          31.91,
          36.73,
          36.44,
          32.34,
          30.39,
          22.41,
          31.51,
          35.25,
          35.57,
          30.33,
          25.68,
          30.12,
          29.53,
          36.48,
          33.9,
          43.8,
          44.72,
          41.4,
          39.74,
          35.4,
          35.13,
          32.12,
          32.83,
          36.98,
          45.86,
          33.81,
          27.2,
          28.45,
          29.84,
          29.53,
          33.5,
          34.26,
          40.73,
          48.12,
          43.32,
          34.34,
          35.7,
          35.27,
          32.37,
          38.84,
          35.74,
          36.64,
          32.16,
          34.98,
          30,
          23.77,
          23.84,
          24.86,
          26.8,
          25.6,
          35.53,
          29.5,
          32.14,
          32.1,
          31.36,
          28.84,
          28.87,
          30.64,
          29.35,
          27.53,
          23.72,
          25.87,
          26.07,
          27.24,
          33.05,
          28.65,
          37.63,
          36.77,
          32.3,
          33.43,
          32.19,
          33.73,
          32.06,
          33.13,
          28.61,
          26.67,
          25.07,
          26.39,
          25.91,
          26.54,
          30.83,
          34.1,
          37.02,
          43.72,
          45.51,
          44.36,
          37.17,
          36.06,
          30.26,
          28.65,
          31.27,
          33.49,
          33.79,
          33.55,
          32.66,
          35.33,
          34.25,
          37.17,
          42.32,
          33.65,
          30.9,
          28.01,
          24.4,
          25.93,
          24.89,
          29.25,
          29.08,
          31.29,
          27.58,
          25.82,
          23.25,
          25.62,
          33.03,
          34.19,
          34.28,
          36.4,
          41.36,
          34.91,
          29.89,
          31.99,
          34.95,
          32.6,
          33.69,
          38.62,
          41.15,
          36.31,
          36.34,
          37.13,
          33.31,
          34.35,
          30.75,
          32.14,
          30.37,
          29.2,
          31.57,
          30.72,
          28.56,
          25.04,
          24.48,
          26.11,
          27.51,
          25.54,
          22.6,
          24.91,
          24.45,
          26.2,
          25.37,
          25.61,
          24.88,
          24.04,
          22.32,
          21.94,
          21.99,
          22.01,
          23.99,
          24.63,
          27.17,
          26.21,
          23.56,
          26.89,
          26.98,
          23.12,
          25.59,
          29.71,
          31.79,
          33.54,
          34.93,
          34.7,
          36.03,
          38.12,
          35.08,
          33.94,
          33.65,
          33.32,
          31.9,
          29.84,
          34.38,
          41.69,
          37.02,
          40.14,
          40.04,
          40.16,
          49,
          52.82,
          55.54,
          58.29,
          49.38,
          56.52,
          39.67,
          33.01,
          31.99,
          37.3,
          38.97,
          35.4,
          32.4,
          37.01,
          40.72,
          43.4,
          50.55,
          50.12,
          35.82,
          29.55,
          29.79,
          33.12,
          40.19,
          44.56,
          42.17,
          34.6,
          34.33,
          35.67,
          37.04,
          34.32,
          30.25,
          31.59,
          36.65,
          36.51,
          38.4,
          38.81,
          43.21,
          55.2,
          57.17,
          55.32,
          58.01,
          56.75,
          59.1,
          68.66,
          70.65,
          50.03,
          38.62,
          38.46,
          39.25,
          46.78,
          51.81,
          57.3,
          58.04,
          62.14,
          57.51,
          53.04,
          53.3,
          48.52,
          51.83,
          52.64,
          50.47,
          49.61,
          50.75,
          48.22
         ]
        }
       ],
       "layout": {
        "template": {
         "data": {
          "bar": [
           {
            "error_x": {
             "color": "#2a3f5f"
            },
            "error_y": {
             "color": "#2a3f5f"
            },
            "marker": {
             "line": {
              "color": "#E5ECF6",
              "width": 0.5
             },
             "pattern": {
              "fillmode": "overlay",
              "size": 10,
              "solidity": 0.2
             }
            },
            "type": "bar"
           }
          ],
          "barpolar": [
           {
            "marker": {
             "line": {
              "color": "#E5ECF6",
              "width": 0.5
             },
             "pattern": {
              "fillmode": "overlay",
              "size": 10,
              "solidity": 0.2
             }
            },
            "type": "barpolar"
           }
          ],
          "carpet": [
           {
            "aaxis": {
             "endlinecolor": "#2a3f5f",
             "gridcolor": "white",
             "linecolor": "white",
             "minorgridcolor": "white",
             "startlinecolor": "#2a3f5f"
            },
            "baxis": {
             "endlinecolor": "#2a3f5f",
             "gridcolor": "white",
             "linecolor": "white",
             "minorgridcolor": "white",
             "startlinecolor": "#2a3f5f"
            },
            "type": "carpet"
           }
          ],
          "choropleth": [
           {
            "colorbar": {
             "outlinewidth": 0,
             "ticks": ""
            },
            "type": "choropleth"
           }
          ],
          "contour": [
           {
            "colorbar": {
             "outlinewidth": 0,
             "ticks": ""
            },
            "colorscale": [
             [
              0,
              "#0d0887"
             ],
             [
              0.1111111111111111,
              "#46039f"
             ],
             [
              0.2222222222222222,
              "#7201a8"
             ],
             [
              0.3333333333333333,
              "#9c179e"
             ],
             [
              0.4444444444444444,
              "#bd3786"
             ],
             [
              0.5555555555555556,
              "#d8576b"
             ],
             [
              0.6666666666666666,
              "#ed7953"
             ],
             [
              0.7777777777777778,
              "#fb9f3a"
             ],
             [
              0.8888888888888888,
              "#fdca26"
             ],
             [
              1,
              "#f0f921"
             ]
            ],
            "type": "contour"
           }
          ],
          "contourcarpet": [
           {
            "colorbar": {
             "outlinewidth": 0,
             "ticks": ""
            },
            "type": "contourcarpet"
           }
          ],
          "heatmap": [
           {
            "colorbar": {
             "outlinewidth": 0,
             "ticks": ""
            },
            "colorscale": [
             [
              0,
              "#0d0887"
             ],
             [
              0.1111111111111111,
              "#46039f"
             ],
             [
              0.2222222222222222,
              "#7201a8"
             ],
             [
              0.3333333333333333,
              "#9c179e"
             ],
             [
              0.4444444444444444,
              "#bd3786"
             ],
             [
              0.5555555555555556,
              "#d8576b"
             ],
             [
              0.6666666666666666,
              "#ed7953"
             ],
             [
              0.7777777777777778,
              "#fb9f3a"
             ],
             [
              0.8888888888888888,
              "#fdca26"
             ],
             [
              1,
              "#f0f921"
             ]
            ],
            "type": "heatmap"
           }
          ],
          "heatmapgl": [
           {
            "colorbar": {
             "outlinewidth": 0,
             "ticks": ""
            },
            "colorscale": [
             [
              0,
              "#0d0887"
             ],
             [
              0.1111111111111111,
              "#46039f"
             ],
             [
              0.2222222222222222,
              "#7201a8"
             ],
             [
              0.3333333333333333,
              "#9c179e"
             ],
             [
              0.4444444444444444,
              "#bd3786"
             ],
             [
              0.5555555555555556,
              "#d8576b"
             ],
             [
              0.6666666666666666,
              "#ed7953"
             ],
             [
              0.7777777777777778,
              "#fb9f3a"
             ],
             [
              0.8888888888888888,
              "#fdca26"
             ],
             [
              1,
              "#f0f921"
             ]
            ],
            "type": "heatmapgl"
           }
          ],
          "histogram": [
           {
            "marker": {
             "pattern": {
              "fillmode": "overlay",
              "size": 10,
              "solidity": 0.2
             }
            },
            "type": "histogram"
           }
          ],
          "histogram2d": [
           {
            "colorbar": {
             "outlinewidth": 0,
             "ticks": ""
            },
            "colorscale": [
             [
              0,
              "#0d0887"
             ],
             [
              0.1111111111111111,
              "#46039f"
             ],
             [
              0.2222222222222222,
              "#7201a8"
             ],
             [
              0.3333333333333333,
              "#9c179e"
             ],
             [
              0.4444444444444444,
              "#bd3786"
             ],
             [
              0.5555555555555556,
              "#d8576b"
             ],
             [
              0.6666666666666666,
              "#ed7953"
             ],
             [
              0.7777777777777778,
              "#fb9f3a"
             ],
             [
              0.8888888888888888,
              "#fdca26"
             ],
             [
              1,
              "#f0f921"
             ]
            ],
            "type": "histogram2d"
           }
          ],
          "histogram2dcontour": [
           {
            "colorbar": {
             "outlinewidth": 0,
             "ticks": ""
            },
            "colorscale": [
             [
              0,
              "#0d0887"
             ],
             [
              0.1111111111111111,
              "#46039f"
             ],
             [
              0.2222222222222222,
              "#7201a8"
             ],
             [
              0.3333333333333333,
              "#9c179e"
             ],
             [
              0.4444444444444444,
              "#bd3786"
             ],
             [
              0.5555555555555556,
              "#d8576b"
             ],
             [
              0.6666666666666666,
              "#ed7953"
             ],
             [
              0.7777777777777778,
              "#fb9f3a"
             ],
             [
              0.8888888888888888,
              "#fdca26"
             ],
             [
              1,
              "#f0f921"
             ]
            ],
            "type": "histogram2dcontour"
           }
          ],
          "mesh3d": [
           {
            "colorbar": {
             "outlinewidth": 0,
             "ticks": ""
            },
            "type": "mesh3d"
           }
          ],
          "parcoords": [
           {
            "line": {
             "colorbar": {
              "outlinewidth": 0,
              "ticks": ""
             }
            },
            "type": "parcoords"
           }
          ],
          "pie": [
           {
            "automargin": true,
            "type": "pie"
           }
          ],
          "scatter": [
           {
            "marker": {
             "colorbar": {
              "outlinewidth": 0,
              "ticks": ""
             }
            },
            "type": "scatter"
           }
          ],
          "scatter3d": [
           {
            "line": {
             "colorbar": {
              "outlinewidth": 0,
              "ticks": ""
             }
            },
            "marker": {
             "colorbar": {
              "outlinewidth": 0,
              "ticks": ""
             }
            },
            "type": "scatter3d"
           }
          ],
          "scattercarpet": [
           {
            "marker": {
             "colorbar": {
              "outlinewidth": 0,
              "ticks": ""
             }
            },
            "type": "scattercarpet"
           }
          ],
          "scattergeo": [
           {
            "marker": {
             "colorbar": {
              "outlinewidth": 0,
              "ticks": ""
             }
            },
            "type": "scattergeo"
           }
          ],
          "scattergl": [
           {
            "marker": {
             "colorbar": {
              "outlinewidth": 0,
              "ticks": ""
             }
            },
            "type": "scattergl"
           }
          ],
          "scattermapbox": [
           {
            "marker": {
             "colorbar": {
              "outlinewidth": 0,
              "ticks": ""
             }
            },
            "type": "scattermapbox"
           }
          ],
          "scatterpolar": [
           {
            "marker": {
             "colorbar": {
              "outlinewidth": 0,
              "ticks": ""
             }
            },
            "type": "scatterpolar"
           }
          ],
          "scatterpolargl": [
           {
            "marker": {
             "colorbar": {
              "outlinewidth": 0,
              "ticks": ""
             }
            },
            "type": "scatterpolargl"
           }
          ],
          "scatterternary": [
           {
            "marker": {
             "colorbar": {
              "outlinewidth": 0,
              "ticks": ""
             }
            },
            "type": "scatterternary"
           }
          ],
          "surface": [
           {
            "colorbar": {
             "outlinewidth": 0,
             "ticks": ""
            },
            "colorscale": [
             [
              0,
              "#0d0887"
             ],
             [
              0.1111111111111111,
              "#46039f"
             ],
             [
              0.2222222222222222,
              "#7201a8"
             ],
             [
              0.3333333333333333,
              "#9c179e"
             ],
             [
              0.4444444444444444,
              "#bd3786"
             ],
             [
              0.5555555555555556,
              "#d8576b"
             ],
             [
              0.6666666666666666,
              "#ed7953"
             ],
             [
              0.7777777777777778,
              "#fb9f3a"
             ],
             [
              0.8888888888888888,
              "#fdca26"
             ],
             [
              1,
              "#f0f921"
             ]
            ],
            "type": "surface"
           }
          ],
          "table": [
           {
            "cells": {
             "fill": {
              "color": "#EBF0F8"
             },
             "line": {
              "color": "white"
             }
            },
            "header": {
             "fill": {
              "color": "#C8D4E3"
             },
             "line": {
              "color": "white"
             }
            },
            "type": "table"
           }
          ]
         },
         "layout": {
          "annotationdefaults": {
           "arrowcolor": "#2a3f5f",
           "arrowhead": 0,
           "arrowwidth": 1
          },
          "autotypenumbers": "strict",
          "coloraxis": {
           "colorbar": {
            "outlinewidth": 0,
            "ticks": ""
           }
          },
          "colorscale": {
           "diverging": [
            [
             0,
             "#8e0152"
            ],
            [
             0.1,
             "#c51b7d"
            ],
            [
             0.2,
             "#de77ae"
            ],
            [
             0.3,
             "#f1b6da"
            ],
            [
             0.4,
             "#fde0ef"
            ],
            [
             0.5,
             "#f7f7f7"
            ],
            [
             0.6,
             "#e6f5d0"
            ],
            [
             0.7,
             "#b8e186"
            ],
            [
             0.8,
             "#7fbc41"
            ],
            [
             0.9,
             "#4d9221"
            ],
            [
             1,
             "#276419"
            ]
           ],
           "sequential": [
            [
             0,
             "#0d0887"
            ],
            [
             0.1111111111111111,
             "#46039f"
            ],
            [
             0.2222222222222222,
             "#7201a8"
            ],
            [
             0.3333333333333333,
             "#9c179e"
            ],
            [
             0.4444444444444444,
             "#bd3786"
            ],
            [
             0.5555555555555556,
             "#d8576b"
            ],
            [
             0.6666666666666666,
             "#ed7953"
            ],
            [
             0.7777777777777778,
             "#fb9f3a"
            ],
            [
             0.8888888888888888,
             "#fdca26"
            ],
            [
             1,
             "#f0f921"
            ]
           ],
           "sequentialminus": [
            [
             0,
             "#0d0887"
            ],
            [
             0.1111111111111111,
             "#46039f"
            ],
            [
             0.2222222222222222,
             "#7201a8"
            ],
            [
             0.3333333333333333,
             "#9c179e"
            ],
            [
             0.4444444444444444,
             "#bd3786"
            ],
            [
             0.5555555555555556,
             "#d8576b"
            ],
            [
             0.6666666666666666,
             "#ed7953"
            ],
            [
             0.7777777777777778,
             "#fb9f3a"
            ],
            [
             0.8888888888888888,
             "#fdca26"
            ],
            [
             1,
             "#f0f921"
            ]
           ]
          },
          "colorway": [
           "#636efa",
           "#EF553B",
           "#00cc96",
           "#ab63fa",
           "#FFA15A",
           "#19d3f3",
           "#FF6692",
           "#B6E880",
           "#FF97FF",
           "#FECB52"
          ],
          "font": {
           "color": "#2a3f5f"
          },
          "geo": {
           "bgcolor": "white",
           "lakecolor": "white",
           "landcolor": "#E5ECF6",
           "showlakes": true,
           "showland": true,
           "subunitcolor": "white"
          },
          "hoverlabel": {
           "align": "left"
          },
          "hovermode": "closest",
          "mapbox": {
           "style": "light"
          },
          "paper_bgcolor": "white",
          "plot_bgcolor": "#E5ECF6",
          "polar": {
           "angularaxis": {
            "gridcolor": "white",
            "linecolor": "white",
            "ticks": ""
           },
           "bgcolor": "#E5ECF6",
           "radialaxis": {
            "gridcolor": "white",
            "linecolor": "white",
            "ticks": ""
           }
          },
          "scene": {
           "xaxis": {
            "backgroundcolor": "#E5ECF6",
            "gridcolor": "white",
            "gridwidth": 2,
            "linecolor": "white",
            "showbackground": true,
            "ticks": "",
            "zerolinecolor": "white"
           },
           "yaxis": {
            "backgroundcolor": "#E5ECF6",
            "gridcolor": "white",
            "gridwidth": 2,
            "linecolor": "white",
            "showbackground": true,
            "ticks": "",
            "zerolinecolor": "white"
           },
           "zaxis": {
            "backgroundcolor": "#E5ECF6",
            "gridcolor": "white",
            "gridwidth": 2,
            "linecolor": "white",
            "showbackground": true,
            "ticks": "",
            "zerolinecolor": "white"
           }
          },
          "shapedefaults": {
           "line": {
            "color": "#2a3f5f"
           }
          },
          "ternary": {
           "aaxis": {
            "gridcolor": "white",
            "linecolor": "white",
            "ticks": ""
           },
           "baxis": {
            "gridcolor": "white",
            "linecolor": "white",
            "ticks": ""
           },
           "bgcolor": "#E5ECF6",
           "caxis": {
            "gridcolor": "white",
            "linecolor": "white",
            "ticks": ""
           }
          },
          "title": {
           "x": 0.05
          },
          "xaxis": {
           "automargin": true,
           "gridcolor": "white",
           "linecolor": "white",
           "ticks": "",
           "title": {
            "standoff": 15
           },
           "zerolinecolor": "white",
           "zerolinewidth": 2
          },
          "yaxis": {
           "automargin": true,
           "gridcolor": "white",
           "linecolor": "white",
           "ticks": "",
           "title": {
            "standoff": 15
           },
           "zerolinecolor": "white",
           "zerolinewidth": 2
          }
         }
        },
        "title": {
         "text": "NH3 2019"
        },
        "xaxis": {
         "tickangle": 90,
         "title": {
          "font": {
           "size": 20
          },
          "standoff": 25,
          "text": "Month"
         }
        },
        "yaxis": {
         "title": {
          "standoff": 25,
          "text": "NH3"
         }
        }
       }
      },
      "text/html": [
       "<div>                            <div id=\"208df4c1-5575-4c47-b377-6f65c04c78d1\" class=\"plotly-graph-div\" style=\"height:525px; width:100%;\"></div>            <script type=\"text/javascript\">                require([\"plotly\"], function(Plotly) {                    window.PLOTLYENV=window.PLOTLYENV || {};                                    if (document.getElementById(\"208df4c1-5575-4c47-b377-6f65c04c78d1\")) {                    Plotly.newPlot(                        \"208df4c1-5575-4c47-b377-6f65c04c78d1\",                        [{\"mode\":\"lines+markers\",\"x\":[\"2019-01-01T00:00:00\",\"2019-01-02T00:00:00\",\"2019-01-03T00:00:00\",\"2019-01-04T00:00:00\",\"2019-01-05T00:00:00\",\"2019-01-06T00:00:00\",\"2019-01-07T00:00:00\",\"2019-01-08T00:00:00\",\"2019-01-09T00:00:00\",\"2019-01-10T00:00:00\",\"2019-01-11T00:00:00\",\"2019-01-12T00:00:00\",\"2019-01-13T00:00:00\",\"2019-01-14T00:00:00\",\"2019-01-15T00:00:00\",\"2019-01-16T00:00:00\",\"2019-01-17T00:00:00\",\"2019-01-18T00:00:00\",\"2019-01-19T00:00:00\",\"2019-01-20T00:00:00\",\"2019-01-21T00:00:00\",\"2019-01-22T00:00:00\",\"2019-01-23T00:00:00\",\"2019-01-24T00:00:00\",\"2019-01-25T00:00:00\",\"2019-01-26T00:00:00\",\"2019-01-27T00:00:00\",\"2019-01-28T00:00:00\",\"2019-01-29T00:00:00\",\"2019-01-30T00:00:00\",\"2019-01-31T00:00:00\",\"2019-02-01T00:00:00\",\"2019-02-02T00:00:00\",\"2019-02-03T00:00:00\",\"2019-02-04T00:00:00\",\"2019-02-05T00:00:00\",\"2019-02-06T00:00:00\",\"2019-02-07T00:00:00\",\"2019-02-08T00:00:00\",\"2019-02-09T00:00:00\",\"2019-02-10T00:00:00\",\"2019-02-11T00:00:00\",\"2019-02-12T00:00:00\",\"2019-02-13T00:00:00\",\"2019-02-14T00:00:00\",\"2019-02-15T00:00:00\",\"2019-02-16T00:00:00\",\"2019-02-17T00:00:00\",\"2019-02-18T00:00:00\",\"2019-02-19T00:00:00\",\"2019-02-20T00:00:00\",\"2019-02-21T00:00:00\",\"2019-02-22T00:00:00\",\"2019-02-23T00:00:00\",\"2019-02-24T00:00:00\",\"2019-02-25T00:00:00\",\"2019-02-26T00:00:00\",\"2019-02-27T00:00:00\",\"2019-02-28T00:00:00\",\"2019-03-01T00:00:00\",\"2019-03-02T00:00:00\",\"2019-03-03T00:00:00\",\"2019-03-04T00:00:00\",\"2019-03-05T00:00:00\",\"2019-03-06T00:00:00\",\"2019-03-07T00:00:00\",\"2019-03-08T00:00:00\",\"2019-03-09T00:00:00\",\"2019-03-10T00:00:00\",\"2019-03-11T00:00:00\",\"2019-03-12T00:00:00\",\"2019-03-13T00:00:00\",\"2019-03-14T00:00:00\",\"2019-03-15T00:00:00\",\"2019-03-16T00:00:00\",\"2019-03-17T00:00:00\",\"2019-03-18T00:00:00\",\"2019-03-19T00:00:00\",\"2019-03-20T00:00:00\",\"2019-03-21T00:00:00\",\"2019-03-22T00:00:00\",\"2019-03-23T00:00:00\",\"2019-03-24T00:00:00\",\"2019-03-25T00:00:00\",\"2019-03-26T00:00:00\",\"2019-03-27T00:00:00\",\"2019-03-28T00:00:00\",\"2019-03-29T00:00:00\",\"2019-03-30T00:00:00\",\"2019-03-31T00:00:00\",\"2019-04-01T00:00:00\",\"2019-04-02T00:00:00\",\"2019-04-03T00:00:00\",\"2019-04-04T00:00:00\",\"2019-04-05T00:00:00\",\"2019-04-06T00:00:00\",\"2019-04-07T00:00:00\",\"2019-04-08T00:00:00\",\"2019-04-09T00:00:00\",\"2019-04-10T00:00:00\",\"2019-04-11T00:00:00\",\"2019-04-12T00:00:00\",\"2019-04-13T00:00:00\",\"2019-04-14T00:00:00\",\"2019-04-15T00:00:00\",\"2019-04-16T00:00:00\",\"2019-04-17T00:00:00\",\"2019-04-18T00:00:00\",\"2019-04-19T00:00:00\",\"2019-04-20T00:00:00\",\"2019-04-21T00:00:00\",\"2019-04-22T00:00:00\",\"2019-04-23T00:00:00\",\"2019-04-24T00:00:00\",\"2019-04-25T00:00:00\",\"2019-04-26T00:00:00\",\"2019-04-27T00:00:00\",\"2019-04-28T00:00:00\",\"2019-04-29T00:00:00\",\"2019-04-30T00:00:00\",\"2019-05-01T00:00:00\",\"2019-05-02T00:00:00\",\"2019-05-03T00:00:00\",\"2019-05-04T00:00:00\",\"2019-05-05T00:00:00\",\"2019-05-06T00:00:00\",\"2019-05-07T00:00:00\",\"2019-05-08T00:00:00\",\"2019-05-09T00:00:00\",\"2019-05-10T00:00:00\",\"2019-05-11T00:00:00\",\"2019-05-12T00:00:00\",\"2019-05-13T00:00:00\",\"2019-05-14T00:00:00\",\"2019-05-15T00:00:00\",\"2019-05-16T00:00:00\",\"2019-05-17T00:00:00\",\"2019-05-18T00:00:00\",\"2019-05-19T00:00:00\",\"2019-05-20T00:00:00\",\"2019-05-21T00:00:00\",\"2019-05-22T00:00:00\",\"2019-05-23T00:00:00\",\"2019-05-24T00:00:00\",\"2019-05-25T00:00:00\",\"2019-05-26T00:00:00\",\"2019-05-27T00:00:00\",\"2019-05-28T00:00:00\",\"2019-05-29T00:00:00\",\"2019-05-30T00:00:00\",\"2019-05-31T00:00:00\",\"2019-06-01T00:00:00\",\"2019-06-02T00:00:00\",\"2019-06-03T00:00:00\",\"2019-06-04T00:00:00\",\"2019-06-05T00:00:00\",\"2019-06-06T00:00:00\",\"2019-06-07T00:00:00\",\"2019-06-08T00:00:00\",\"2019-06-09T00:00:00\",\"2019-06-10T00:00:00\",\"2019-06-11T00:00:00\",\"2019-06-12T00:00:00\",\"2019-06-13T00:00:00\",\"2019-06-14T00:00:00\",\"2019-06-15T00:00:00\",\"2019-06-16T00:00:00\",\"2019-06-17T00:00:00\",\"2019-06-18T00:00:00\",\"2019-06-19T00:00:00\",\"2019-06-20T00:00:00\",\"2019-06-21T00:00:00\",\"2019-06-22T00:00:00\",\"2019-06-23T00:00:00\",\"2019-06-24T00:00:00\",\"2019-06-25T00:00:00\",\"2019-06-26T00:00:00\",\"2019-06-27T00:00:00\",\"2019-06-28T00:00:00\",\"2019-06-29T00:00:00\",\"2019-06-30T00:00:00\",\"2019-07-01T00:00:00\",\"2019-07-02T00:00:00\",\"2019-07-03T00:00:00\",\"2019-07-04T00:00:00\",\"2019-07-05T00:00:00\",\"2019-07-06T00:00:00\",\"2019-07-07T00:00:00\",\"2019-07-08T00:00:00\",\"2019-07-09T00:00:00\",\"2019-07-10T00:00:00\",\"2019-07-11T00:00:00\",\"2019-07-12T00:00:00\",\"2019-07-13T00:00:00\",\"2019-07-14T00:00:00\",\"2019-07-15T00:00:00\",\"2019-07-16T00:00:00\",\"2019-07-17T00:00:00\",\"2019-07-18T00:00:00\",\"2019-07-19T00:00:00\",\"2019-07-20T00:00:00\",\"2019-07-21T00:00:00\",\"2019-07-22T00:00:00\",\"2019-07-23T00:00:00\",\"2019-07-24T00:00:00\",\"2019-07-25T00:00:00\",\"2019-07-26T00:00:00\",\"2019-07-27T00:00:00\",\"2019-07-28T00:00:00\",\"2019-07-29T00:00:00\",\"2019-07-30T00:00:00\",\"2019-07-31T00:00:00\",\"2019-08-01T00:00:00\",\"2019-08-02T00:00:00\",\"2019-08-03T00:00:00\",\"2019-08-04T00:00:00\",\"2019-08-05T00:00:00\",\"2019-08-06T00:00:00\",\"2019-08-07T00:00:00\",\"2019-08-08T00:00:00\",\"2019-08-09T00:00:00\",\"2019-08-10T00:00:00\",\"2019-08-11T00:00:00\",\"2019-08-12T00:00:00\",\"2019-08-13T00:00:00\",\"2019-08-14T00:00:00\",\"2019-08-15T00:00:00\",\"2019-08-16T00:00:00\",\"2019-08-17T00:00:00\",\"2019-08-18T00:00:00\",\"2019-08-19T00:00:00\",\"2019-08-20T00:00:00\",\"2019-08-21T00:00:00\",\"2019-08-22T00:00:00\",\"2019-08-23T00:00:00\",\"2019-08-24T00:00:00\",\"2019-08-25T00:00:00\",\"2019-08-26T00:00:00\",\"2019-08-27T00:00:00\",\"2019-08-28T00:00:00\",\"2019-08-29T00:00:00\",\"2019-08-30T00:00:00\",\"2019-08-31T00:00:00\",\"2019-09-01T00:00:00\",\"2019-09-02T00:00:00\",\"2019-09-03T00:00:00\",\"2019-09-04T00:00:00\",\"2019-09-05T00:00:00\",\"2019-09-06T00:00:00\",\"2019-09-07T00:00:00\",\"2019-09-08T00:00:00\",\"2019-09-09T00:00:00\",\"2019-09-10T00:00:00\",\"2019-09-11T00:00:00\",\"2019-09-12T00:00:00\",\"2019-09-13T00:00:00\",\"2019-09-14T00:00:00\",\"2019-09-15T00:00:00\",\"2019-09-16T00:00:00\",\"2019-09-17T00:00:00\",\"2019-09-18T00:00:00\",\"2019-09-19T00:00:00\",\"2019-09-20T00:00:00\",\"2019-09-21T00:00:00\",\"2019-09-22T00:00:00\",\"2019-09-23T00:00:00\",\"2019-09-24T00:00:00\",\"2019-09-25T00:00:00\",\"2019-09-26T00:00:00\",\"2019-09-27T00:00:00\",\"2019-09-28T00:00:00\",\"2019-09-29T00:00:00\",\"2019-09-30T00:00:00\",\"2019-10-01T00:00:00\",\"2019-10-02T00:00:00\",\"2019-10-03T00:00:00\",\"2019-10-04T00:00:00\",\"2019-10-05T00:00:00\",\"2019-10-06T00:00:00\",\"2019-10-07T00:00:00\",\"2019-10-08T00:00:00\",\"2019-10-09T00:00:00\",\"2019-10-10T00:00:00\",\"2019-10-11T00:00:00\",\"2019-10-12T00:00:00\",\"2019-10-13T00:00:00\",\"2019-10-14T00:00:00\",\"2019-10-15T00:00:00\",\"2019-10-16T00:00:00\",\"2019-10-17T00:00:00\",\"2019-10-18T00:00:00\",\"2019-10-19T00:00:00\",\"2019-10-20T00:00:00\",\"2019-10-21T00:00:00\",\"2019-10-22T00:00:00\",\"2019-10-23T00:00:00\",\"2019-10-24T00:00:00\",\"2019-10-25T00:00:00\",\"2019-10-26T00:00:00\",\"2019-10-27T00:00:00\",\"2019-10-28T00:00:00\",\"2019-10-29T00:00:00\",\"2019-10-30T00:00:00\",\"2019-10-31T00:00:00\",\"2019-11-01T00:00:00\",\"2019-11-02T00:00:00\",\"2019-11-03T00:00:00\",\"2019-11-04T00:00:00\",\"2019-11-05T00:00:00\",\"2019-11-06T00:00:00\",\"2019-11-07T00:00:00\",\"2019-11-08T00:00:00\",\"2019-11-09T00:00:00\",\"2019-11-10T00:00:00\",\"2019-11-11T00:00:00\",\"2019-11-12T00:00:00\",\"2019-11-13T00:00:00\",\"2019-11-14T00:00:00\",\"2019-11-15T00:00:00\",\"2019-11-16T00:00:00\",\"2019-11-17T00:00:00\",\"2019-11-18T00:00:00\",\"2019-11-19T00:00:00\",\"2019-11-20T00:00:00\",\"2019-11-21T00:00:00\",\"2019-11-22T00:00:00\",\"2019-11-23T00:00:00\",\"2019-11-24T00:00:00\",\"2019-11-25T00:00:00\",\"2019-11-26T00:00:00\",\"2019-11-27T00:00:00\",\"2019-11-28T00:00:00\",\"2019-11-29T00:00:00\",\"2019-11-30T00:00:00\",\"2019-12-01T00:00:00\",\"2019-12-02T00:00:00\",\"2019-12-03T00:00:00\",\"2019-12-04T00:00:00\",\"2019-12-05T00:00:00\",\"2019-12-06T00:00:00\",\"2019-12-07T00:00:00\",\"2019-12-08T00:00:00\",\"2019-12-09T00:00:00\",\"2019-12-10T00:00:00\",\"2019-12-11T00:00:00\",\"2019-12-12T00:00:00\",\"2019-12-13T00:00:00\",\"2019-12-14T00:00:00\",\"2019-12-15T00:00:00\",\"2019-12-16T00:00:00\",\"2019-12-17T00:00:00\",\"2019-12-18T00:00:00\",\"2019-12-19T00:00:00\",\"2019-12-20T00:00:00\",\"2019-12-21T00:00:00\",\"2019-12-22T00:00:00\",\"2019-12-23T00:00:00\",\"2019-12-24T00:00:00\",\"2019-12-25T00:00:00\",\"2019-12-26T00:00:00\",\"2019-12-27T00:00:00\",\"2019-12-28T00:00:00\",\"2019-12-29T00:00:00\",\"2019-12-30T00:00:00\",\"2019-12-31T00:00:00\"],\"y\":[56.66,63.63,61.02,53.09,56.49,55.71,56.06,49.69,43.53,44.67,56.53,63.46,63.66,40.52,39.74,55.19,60.95,48.6,50.3,62.37,57.52,39.73,42.37,41.06,34.17,33.64,35.34,34.49,36.19,42.99,49.6,49.42,43.55,40.43,39.88,53.81,53.76,37.84,29.11,28.42,33.83,39.17,46.24,47.95,45.64,39.19,35.16,31.82,33.82,41.33,41.41,38.24,39.11,26.26,29.95,34.51,32.19,26.57,31.23,30.2,36.48,30.98,37.26,28.71,29.05,32.79,32.86,30.68,27.17,30.69,29.97,32.39,39.07,32.74,27.95,30.56,32.06,33.86,36.5,39.26,27.85,26.54,27.52,30.32,29.95,29.54,34.47,40.53,41.4,32.06,27.21,29.3,30.85,37.04,41.23,37.35,52.01,41.0,38.26,40.97,34.96,34.06,33.66,29.84,29.21,30.98,26.7,26.28,29.85,29.35,31.53,36.99,38.2,37.64,40.86,32.2,28.15,25.63,27.82,31.91,36.73,36.44,32.34,30.39,22.41,31.51,35.25,35.57,30.33,25.68,30.12,29.53,36.48,33.9,43.8,44.72,41.4,39.74,35.4,35.13,32.12,32.83,36.98,45.86,33.81,27.2,28.45,29.84,29.53,33.5,34.26,40.73,48.12,43.32,34.34,35.7,35.27,32.37,38.84,35.74,36.64,32.16,34.98,30.0,23.77,23.84,24.86,26.8,25.6,35.53,29.5,32.14,32.1,31.36,28.84,28.87,30.64,29.35,27.53,23.72,25.87,26.07,27.24,33.05,28.65,37.63,36.77,32.3,33.43,32.19,33.73,32.06,33.13,28.61,26.67,25.07,26.39,25.91,26.54,30.83,34.1,37.02,43.72,45.51,44.36,37.17,36.06,30.26,28.65,31.27,33.49,33.79,33.55,32.66,35.33,34.25,37.17,42.32,33.65,30.9,28.01,24.4,25.93,24.89,29.25,29.08,31.29,27.58,25.82,23.25,25.62,33.03,34.19,34.28,36.4,41.36,34.91,29.89,31.99,34.95,32.6,33.69,38.62,41.15,36.31,36.34,37.13,33.31,34.35,30.75,32.14,30.37,29.2,31.57,30.72,28.56,25.04,24.48,26.11,27.51,25.54,22.6,24.91,24.45,26.2,25.37,25.61,24.88,24.04,22.32,21.94,21.99,22.01,23.99,24.63,27.17,26.21,23.56,26.89,26.98,23.12,25.59,29.71,31.79,33.54,34.93,34.7,36.03,38.12,35.08,33.94,33.65,33.32,31.9,29.84,34.38,41.69,37.02,40.14,40.04,40.16,49.0,52.82,55.54,58.29,49.38,56.52,39.67,33.01,31.99,37.3,38.97,35.4,32.4,37.01,40.72,43.4,50.55,50.12,35.82,29.55,29.79,33.12,40.19,44.56,42.17,34.6,34.33,35.67,37.04,34.32,30.25,31.59,36.65,36.51,38.4,38.81,43.21,55.2,57.17,55.32,58.01,56.75,59.1,68.66,70.65,50.03,38.62,38.46,39.25,46.78,51.81,57.3,58.04,62.14,57.51,53.04,53.3,48.52,51.83,52.64,50.47,49.61,50.75,48.22],\"type\":\"scatter\"}],                        {\"template\":{\"data\":{\"bar\":[{\"error_x\":{\"color\":\"#2a3f5f\"},\"error_y\":{\"color\":\"#2a3f5f\"},\"marker\":{\"line\":{\"color\":\"#E5ECF6\",\"width\":0.5},\"pattern\":{\"fillmode\":\"overlay\",\"size\":10,\"solidity\":0.2}},\"type\":\"bar\"}],\"barpolar\":[{\"marker\":{\"line\":{\"color\":\"#E5ECF6\",\"width\":0.5},\"pattern\":{\"fillmode\":\"overlay\",\"size\":10,\"solidity\":0.2}},\"type\":\"barpolar\"}],\"carpet\":[{\"aaxis\":{\"endlinecolor\":\"#2a3f5f\",\"gridcolor\":\"white\",\"linecolor\":\"white\",\"minorgridcolor\":\"white\",\"startlinecolor\":\"#2a3f5f\"},\"baxis\":{\"endlinecolor\":\"#2a3f5f\",\"gridcolor\":\"white\",\"linecolor\":\"white\",\"minorgridcolor\":\"white\",\"startlinecolor\":\"#2a3f5f\"},\"type\":\"carpet\"}],\"choropleth\":[{\"colorbar\":{\"outlinewidth\":0,\"ticks\":\"\"},\"type\":\"choropleth\"}],\"contour\":[{\"colorbar\":{\"outlinewidth\":0,\"ticks\":\"\"},\"colorscale\":[[0.0,\"#0d0887\"],[0.1111111111111111,\"#46039f\"],[0.2222222222222222,\"#7201a8\"],[0.3333333333333333,\"#9c179e\"],[0.4444444444444444,\"#bd3786\"],[0.5555555555555556,\"#d8576b\"],[0.6666666666666666,\"#ed7953\"],[0.7777777777777778,\"#fb9f3a\"],[0.8888888888888888,\"#fdca26\"],[1.0,\"#f0f921\"]],\"type\":\"contour\"}],\"contourcarpet\":[{\"colorbar\":{\"outlinewidth\":0,\"ticks\":\"\"},\"type\":\"contourcarpet\"}],\"heatmap\":[{\"colorbar\":{\"outlinewidth\":0,\"ticks\":\"\"},\"colorscale\":[[0.0,\"#0d0887\"],[0.1111111111111111,\"#46039f\"],[0.2222222222222222,\"#7201a8\"],[0.3333333333333333,\"#9c179e\"],[0.4444444444444444,\"#bd3786\"],[0.5555555555555556,\"#d8576b\"],[0.6666666666666666,\"#ed7953\"],[0.7777777777777778,\"#fb9f3a\"],[0.8888888888888888,\"#fdca26\"],[1.0,\"#f0f921\"]],\"type\":\"heatmap\"}],\"heatmapgl\":[{\"colorbar\":{\"outlinewidth\":0,\"ticks\":\"\"},\"colorscale\":[[0.0,\"#0d0887\"],[0.1111111111111111,\"#46039f\"],[0.2222222222222222,\"#7201a8\"],[0.3333333333333333,\"#9c179e\"],[0.4444444444444444,\"#bd3786\"],[0.5555555555555556,\"#d8576b\"],[0.6666666666666666,\"#ed7953\"],[0.7777777777777778,\"#fb9f3a\"],[0.8888888888888888,\"#fdca26\"],[1.0,\"#f0f921\"]],\"type\":\"heatmapgl\"}],\"histogram\":[{\"marker\":{\"pattern\":{\"fillmode\":\"overlay\",\"size\":10,\"solidity\":0.2}},\"type\":\"histogram\"}],\"histogram2d\":[{\"colorbar\":{\"outlinewidth\":0,\"ticks\":\"\"},\"colorscale\":[[0.0,\"#0d0887\"],[0.1111111111111111,\"#46039f\"],[0.2222222222222222,\"#7201a8\"],[0.3333333333333333,\"#9c179e\"],[0.4444444444444444,\"#bd3786\"],[0.5555555555555556,\"#d8576b\"],[0.6666666666666666,\"#ed7953\"],[0.7777777777777778,\"#fb9f3a\"],[0.8888888888888888,\"#fdca26\"],[1.0,\"#f0f921\"]],\"type\":\"histogram2d\"}],\"histogram2dcontour\":[{\"colorbar\":{\"outlinewidth\":0,\"ticks\":\"\"},\"colorscale\":[[0.0,\"#0d0887\"],[0.1111111111111111,\"#46039f\"],[0.2222222222222222,\"#7201a8\"],[0.3333333333333333,\"#9c179e\"],[0.4444444444444444,\"#bd3786\"],[0.5555555555555556,\"#d8576b\"],[0.6666666666666666,\"#ed7953\"],[0.7777777777777778,\"#fb9f3a\"],[0.8888888888888888,\"#fdca26\"],[1.0,\"#f0f921\"]],\"type\":\"histogram2dcontour\"}],\"mesh3d\":[{\"colorbar\":{\"outlinewidth\":0,\"ticks\":\"\"},\"type\":\"mesh3d\"}],\"parcoords\":[{\"line\":{\"colorbar\":{\"outlinewidth\":0,\"ticks\":\"\"}},\"type\":\"parcoords\"}],\"pie\":[{\"automargin\":true,\"type\":\"pie\"}],\"scatter\":[{\"marker\":{\"colorbar\":{\"outlinewidth\":0,\"ticks\":\"\"}},\"type\":\"scatter\"}],\"scatter3d\":[{\"line\":{\"colorbar\":{\"outlinewidth\":0,\"ticks\":\"\"}},\"marker\":{\"colorbar\":{\"outlinewidth\":0,\"ticks\":\"\"}},\"type\":\"scatter3d\"}],\"scattercarpet\":[{\"marker\":{\"colorbar\":{\"outlinewidth\":0,\"ticks\":\"\"}},\"type\":\"scattercarpet\"}],\"scattergeo\":[{\"marker\":{\"colorbar\":{\"outlinewidth\":0,\"ticks\":\"\"}},\"type\":\"scattergeo\"}],\"scattergl\":[{\"marker\":{\"colorbar\":{\"outlinewidth\":0,\"ticks\":\"\"}},\"type\":\"scattergl\"}],\"scattermapbox\":[{\"marker\":{\"colorbar\":{\"outlinewidth\":0,\"ticks\":\"\"}},\"type\":\"scattermapbox\"}],\"scatterpolar\":[{\"marker\":{\"colorbar\":{\"outlinewidth\":0,\"ticks\":\"\"}},\"type\":\"scatterpolar\"}],\"scatterpolargl\":[{\"marker\":{\"colorbar\":{\"outlinewidth\":0,\"ticks\":\"\"}},\"type\":\"scatterpolargl\"}],\"scatterternary\":[{\"marker\":{\"colorbar\":{\"outlinewidth\":0,\"ticks\":\"\"}},\"type\":\"scatterternary\"}],\"surface\":[{\"colorbar\":{\"outlinewidth\":0,\"ticks\":\"\"},\"colorscale\":[[0.0,\"#0d0887\"],[0.1111111111111111,\"#46039f\"],[0.2222222222222222,\"#7201a8\"],[0.3333333333333333,\"#9c179e\"],[0.4444444444444444,\"#bd3786\"],[0.5555555555555556,\"#d8576b\"],[0.6666666666666666,\"#ed7953\"],[0.7777777777777778,\"#fb9f3a\"],[0.8888888888888888,\"#fdca26\"],[1.0,\"#f0f921\"]],\"type\":\"surface\"}],\"table\":[{\"cells\":{\"fill\":{\"color\":\"#EBF0F8\"},\"line\":{\"color\":\"white\"}},\"header\":{\"fill\":{\"color\":\"#C8D4E3\"},\"line\":{\"color\":\"white\"}},\"type\":\"table\"}]},\"layout\":{\"annotationdefaults\":{\"arrowcolor\":\"#2a3f5f\",\"arrowhead\":0,\"arrowwidth\":1},\"autotypenumbers\":\"strict\",\"coloraxis\":{\"colorbar\":{\"outlinewidth\":0,\"ticks\":\"\"}},\"colorscale\":{\"diverging\":[[0,\"#8e0152\"],[0.1,\"#c51b7d\"],[0.2,\"#de77ae\"],[0.3,\"#f1b6da\"],[0.4,\"#fde0ef\"],[0.5,\"#f7f7f7\"],[0.6,\"#e6f5d0\"],[0.7,\"#b8e186\"],[0.8,\"#7fbc41\"],[0.9,\"#4d9221\"],[1,\"#276419\"]],\"sequential\":[[0.0,\"#0d0887\"],[0.1111111111111111,\"#46039f\"],[0.2222222222222222,\"#7201a8\"],[0.3333333333333333,\"#9c179e\"],[0.4444444444444444,\"#bd3786\"],[0.5555555555555556,\"#d8576b\"],[0.6666666666666666,\"#ed7953\"],[0.7777777777777778,\"#fb9f3a\"],[0.8888888888888888,\"#fdca26\"],[1.0,\"#f0f921\"]],\"sequentialminus\":[[0.0,\"#0d0887\"],[0.1111111111111111,\"#46039f\"],[0.2222222222222222,\"#7201a8\"],[0.3333333333333333,\"#9c179e\"],[0.4444444444444444,\"#bd3786\"],[0.5555555555555556,\"#d8576b\"],[0.6666666666666666,\"#ed7953\"],[0.7777777777777778,\"#fb9f3a\"],[0.8888888888888888,\"#fdca26\"],[1.0,\"#f0f921\"]]},\"colorway\":[\"#636efa\",\"#EF553B\",\"#00cc96\",\"#ab63fa\",\"#FFA15A\",\"#19d3f3\",\"#FF6692\",\"#B6E880\",\"#FF97FF\",\"#FECB52\"],\"font\":{\"color\":\"#2a3f5f\"},\"geo\":{\"bgcolor\":\"white\",\"lakecolor\":\"white\",\"landcolor\":\"#E5ECF6\",\"showlakes\":true,\"showland\":true,\"subunitcolor\":\"white\"},\"hoverlabel\":{\"align\":\"left\"},\"hovermode\":\"closest\",\"mapbox\":{\"style\":\"light\"},\"paper_bgcolor\":\"white\",\"plot_bgcolor\":\"#E5ECF6\",\"polar\":{\"angularaxis\":{\"gridcolor\":\"white\",\"linecolor\":\"white\",\"ticks\":\"\"},\"bgcolor\":\"#E5ECF6\",\"radialaxis\":{\"gridcolor\":\"white\",\"linecolor\":\"white\",\"ticks\":\"\"}},\"scene\":{\"xaxis\":{\"backgroundcolor\":\"#E5ECF6\",\"gridcolor\":\"white\",\"gridwidth\":2,\"linecolor\":\"white\",\"showbackground\":true,\"ticks\":\"\",\"zerolinecolor\":\"white\"},\"yaxis\":{\"backgroundcolor\":\"#E5ECF6\",\"gridcolor\":\"white\",\"gridwidth\":2,\"linecolor\":\"white\",\"showbackground\":true,\"ticks\":\"\",\"zerolinecolor\":\"white\"},\"zaxis\":{\"backgroundcolor\":\"#E5ECF6\",\"gridcolor\":\"white\",\"gridwidth\":2,\"linecolor\":\"white\",\"showbackground\":true,\"ticks\":\"\",\"zerolinecolor\":\"white\"}},\"shapedefaults\":{\"line\":{\"color\":\"#2a3f5f\"}},\"ternary\":{\"aaxis\":{\"gridcolor\":\"white\",\"linecolor\":\"white\",\"ticks\":\"\"},\"baxis\":{\"gridcolor\":\"white\",\"linecolor\":\"white\",\"ticks\":\"\"},\"bgcolor\":\"#E5ECF6\",\"caxis\":{\"gridcolor\":\"white\",\"linecolor\":\"white\",\"ticks\":\"\"}},\"title\":{\"x\":0.05},\"xaxis\":{\"automargin\":true,\"gridcolor\":\"white\",\"linecolor\":\"white\",\"ticks\":\"\",\"title\":{\"standoff\":15},\"zerolinecolor\":\"white\",\"zerolinewidth\":2},\"yaxis\":{\"automargin\":true,\"gridcolor\":\"white\",\"linecolor\":\"white\",\"ticks\":\"\",\"title\":{\"standoff\":15},\"zerolinecolor\":\"white\",\"zerolinewidth\":2}}},\"xaxis\":{\"title\":{\"font\":{\"size\":20},\"text\":\"Month\",\"standoff\":25},\"tickangle\":90},\"yaxis\":{\"title\":{\"text\":\"NH3\",\"standoff\":25}},\"title\":{\"text\":\"NH3 2019\"}},                        {\"responsive\": true}                    ).then(function(){\n",
       "                            \n",
       "var gd = document.getElementById('208df4c1-5575-4c47-b377-6f65c04c78d1');\n",
       "var x = new MutationObserver(function (mutations, observer) {{\n",
       "        var display = window.getComputedStyle(gd).display;\n",
       "        if (!display || display === 'none') {{\n",
       "            console.log([gd, 'removed!']);\n",
       "            Plotly.purge(gd);\n",
       "            observer.disconnect();\n",
       "        }}\n",
       "}});\n",
       "\n",
       "// Listen for the removal of the full notebook cells\n",
       "var notebookContainer = gd.closest('#notebook-container');\n",
       "if (notebookContainer) {{\n",
       "    x.observe(notebookContainer, {childList: true});\n",
       "}}\n",
       "\n",
       "// Listen for the clearing of the current output cell\n",
       "var outputEl = gd.closest('.output');\n",
       "if (outputEl) {{\n",
       "    x.observe(outputEl, {childList: true});\n",
       "}}\n",
       "\n",
       "                        })                };                });            </script>        </div>"
      ]
     },
     "metadata": {},
     "output_type": "display_data"
    }
   ],
   "source": [
    "#2019\n",
    "fig = go.Figure(go.Scatter(\n",
    "    mode = \"lines+markers\",\n",
    "    y = aqi_level_19.iloc[:,2],\n",
    "    x = aqi_level_19.iloc[:,1]))\n",
    "fig.update_xaxes(\n",
    "        tickangle = 90,\n",
    "        title_text = \"Month\",\n",
    "        title_font = {\"size\": 20},\n",
    "        title_standoff = 25)\n",
    "\n",
    "fig.update_yaxes(\n",
    "        title_text = \"NH3\",\n",
    "        title_standoff = 25)\n",
    "fig.update_layout(title_text=\"NH3 2019\")\n",
    "\n",
    "fig.show()"
   ]
  },
  {
   "cell_type": "code",
   "execution_count": 18,
   "id": "887e8fc5",
   "metadata": {
    "scrolled": false
   },
   "outputs": [
    {
     "data": {
      "application/vnd.plotly.v1+json": {
       "config": {
        "plotlyServerURL": "https://plot.ly"
       },
       "data": [
        {
         "mode": "lines+markers",
         "name": "2016",
         "type": "scatter",
         "x": [
          "2016-01-01T00:00:00",
          "2016-01-02T00:00:00",
          "2016-01-03T00:00:00",
          "2016-01-04T00:00:00",
          "2016-01-05T00:00:00",
          "2016-01-06T00:00:00",
          "2016-01-07T00:00:00",
          "2016-01-08T00:00:00",
          "2016-01-09T00:00:00",
          "2016-01-10T00:00:00",
          "2016-01-11T00:00:00",
          "2016-01-12T00:00:00",
          "2016-01-13T00:00:00",
          "2016-01-14T00:00:00",
          "2016-01-15T00:00:00",
          "2016-01-16T00:00:00",
          "2016-01-17T00:00:00",
          "2016-01-18T00:00:00",
          "2016-01-19T00:00:00",
          "2016-01-20T00:00:00",
          "2016-01-21T00:00:00",
          "2016-01-22T00:00:00",
          "2016-01-23T00:00:00",
          "2016-01-24T00:00:00",
          "2016-01-25T00:00:00",
          "2016-01-26T00:00:00",
          "2016-01-27T00:00:00",
          "2016-01-28T00:00:00",
          "2016-01-29T00:00:00",
          "2016-01-30T00:00:00",
          "2016-01-31T00:00:00",
          "2016-02-01T00:00:00",
          "2016-02-02T00:00:00",
          "2016-02-03T00:00:00",
          "2016-02-04T00:00:00",
          "2016-02-05T00:00:00",
          "2016-02-06T00:00:00",
          "2016-02-07T00:00:00",
          "2016-02-08T00:00:00",
          "2016-02-09T00:00:00",
          "2016-02-10T00:00:00",
          "2016-02-11T00:00:00",
          "2016-02-12T00:00:00",
          "2016-02-13T00:00:00",
          "2016-02-14T00:00:00",
          "2016-02-15T00:00:00",
          "2016-02-16T00:00:00",
          "2016-02-17T00:00:00",
          "2016-02-18T00:00:00",
          "2016-02-19T00:00:00",
          "2016-02-20T00:00:00",
          "2016-02-21T00:00:00",
          "2016-02-22T00:00:00",
          "2016-02-23T00:00:00",
          "2016-02-24T00:00:00",
          "2016-02-25T00:00:00",
          "2016-02-26T00:00:00",
          "2016-02-27T00:00:00",
          "2016-02-28T00:00:00",
          "2016-02-29T00:00:00",
          "2016-03-01T00:00:00",
          "2016-03-02T00:00:00",
          "2016-03-03T00:00:00",
          "2016-03-04T00:00:00",
          "2016-03-05T00:00:00",
          "2016-03-06T00:00:00",
          "2016-03-07T00:00:00",
          "2016-03-08T00:00:00",
          "2016-03-09T00:00:00",
          "2016-03-10T00:00:00",
          "2016-03-11T00:00:00",
          "2016-03-12T00:00:00",
          "2016-03-13T00:00:00",
          "2016-03-14T00:00:00",
          "2016-03-15T00:00:00",
          "2016-03-16T00:00:00",
          "2016-03-17T00:00:00",
          "2016-03-18T00:00:00",
          "2016-03-19T00:00:00",
          "2016-03-20T00:00:00",
          "2016-03-21T00:00:00",
          "2016-03-22T00:00:00",
          "2016-03-23T00:00:00",
          "2016-03-24T00:00:00",
          "2016-03-25T00:00:00",
          "2016-03-26T00:00:00",
          "2016-03-27T00:00:00",
          "2016-03-28T00:00:00",
          "2016-03-29T00:00:00",
          "2016-03-30T00:00:00",
          "2016-03-31T00:00:00",
          "2016-04-01T00:00:00",
          "2016-04-02T00:00:00",
          "2016-04-03T00:00:00",
          "2016-04-04T00:00:00",
          "2016-04-05T00:00:00",
          "2016-04-06T00:00:00",
          "2016-04-07T00:00:00",
          "2016-04-08T00:00:00",
          "2016-04-09T00:00:00",
          "2016-04-10T00:00:00",
          "2016-04-11T00:00:00",
          "2016-04-12T00:00:00",
          "2016-04-13T00:00:00",
          "2016-04-14T00:00:00",
          "2016-04-15T00:00:00",
          "2016-04-16T00:00:00",
          "2016-04-17T00:00:00",
          "2016-04-18T00:00:00",
          "2016-04-19T00:00:00",
          "2016-04-20T00:00:00",
          "2016-04-21T00:00:00",
          "2016-04-22T00:00:00",
          "2016-04-23T00:00:00",
          "2016-04-24T00:00:00",
          "2016-04-25T00:00:00",
          "2016-04-26T00:00:00",
          "2016-04-27T00:00:00",
          "2016-04-28T00:00:00",
          "2016-04-29T00:00:00",
          "2016-04-30T00:00:00",
          "2016-05-01T00:00:00",
          "2016-05-02T00:00:00",
          "2016-05-03T00:00:00",
          "2016-05-04T00:00:00",
          "2016-05-05T00:00:00",
          "2016-05-06T00:00:00",
          "2016-05-07T00:00:00",
          "2016-05-08T00:00:00",
          "2016-05-09T00:00:00",
          "2016-05-10T00:00:00",
          "2016-05-11T00:00:00",
          "2016-05-12T00:00:00",
          "2016-05-13T00:00:00",
          "2016-05-14T00:00:00",
          "2016-05-15T00:00:00",
          "2016-05-16T00:00:00",
          "2016-05-17T00:00:00",
          "2016-05-18T00:00:00",
          "2016-05-19T00:00:00",
          "2016-05-20T00:00:00",
          "2016-05-21T00:00:00",
          "2016-05-22T00:00:00",
          "2016-05-23T00:00:00",
          "2016-05-24T00:00:00",
          "2016-05-25T00:00:00",
          "2016-05-26T00:00:00",
          "2016-05-27T00:00:00",
          "2016-05-28T00:00:00",
          "2016-05-29T00:00:00",
          "2016-05-30T00:00:00",
          "2016-05-31T00:00:00",
          "2016-06-01T00:00:00",
          "2016-06-02T00:00:00",
          "2016-06-03T00:00:00",
          "2016-06-04T00:00:00",
          "2016-06-05T00:00:00",
          "2016-06-06T00:00:00",
          "2016-06-07T00:00:00",
          "2016-06-08T00:00:00",
          "2016-06-09T00:00:00",
          "2016-06-10T00:00:00",
          "2016-06-11T00:00:00",
          "2016-06-12T00:00:00",
          "2016-06-13T00:00:00",
          "2016-06-14T00:00:00",
          "2016-06-15T00:00:00",
          "2016-06-16T00:00:00",
          "2016-06-17T00:00:00",
          "2016-06-18T00:00:00",
          "2016-06-19T00:00:00",
          "2016-06-20T00:00:00",
          "2016-06-21T00:00:00",
          "2016-06-22T00:00:00",
          "2016-06-23T00:00:00",
          "2016-06-24T00:00:00",
          "2016-06-25T00:00:00",
          "2016-06-26T00:00:00",
          "2016-06-27T00:00:00",
          "2016-06-28T00:00:00",
          "2016-06-29T00:00:00",
          "2016-06-30T00:00:00",
          "2016-07-01T00:00:00",
          "2016-07-02T00:00:00",
          "2016-07-03T00:00:00",
          "2016-07-04T00:00:00",
          "2016-07-05T00:00:00",
          "2016-07-06T00:00:00",
          "2016-07-07T00:00:00",
          "2016-07-08T00:00:00",
          "2016-07-09T00:00:00",
          "2016-07-10T00:00:00",
          "2016-07-11T00:00:00",
          "2016-07-12T00:00:00",
          "2016-07-13T00:00:00",
          "2016-07-14T00:00:00",
          "2016-07-15T00:00:00",
          "2016-07-16T00:00:00",
          "2016-07-17T00:00:00",
          "2016-07-18T00:00:00",
          "2016-07-19T00:00:00",
          "2016-07-20T00:00:00",
          "2016-07-21T00:00:00",
          "2016-07-22T00:00:00",
          "2016-07-23T00:00:00",
          "2016-07-24T00:00:00",
          "2016-07-25T00:00:00",
          "2016-07-26T00:00:00",
          "2016-07-27T00:00:00",
          "2016-07-28T00:00:00",
          "2016-07-29T00:00:00",
          "2016-07-30T00:00:00",
          "2016-07-31T00:00:00",
          "2016-08-01T00:00:00",
          "2016-08-02T00:00:00",
          "2016-08-03T00:00:00",
          "2016-08-04T00:00:00",
          "2016-08-05T00:00:00",
          "2016-08-06T00:00:00",
          "2016-08-07T00:00:00",
          "2016-08-08T00:00:00",
          "2016-08-09T00:00:00",
          "2016-08-10T00:00:00",
          "2016-08-11T00:00:00",
          "2016-08-12T00:00:00",
          "2016-08-13T00:00:00",
          "2016-08-14T00:00:00",
          "2016-08-15T00:00:00",
          "2016-08-16T00:00:00",
          "2016-08-17T00:00:00",
          "2016-08-18T00:00:00",
          "2016-08-19T00:00:00",
          "2016-08-20T00:00:00",
          "2016-08-21T00:00:00",
          "2016-08-22T00:00:00",
          "2016-08-23T00:00:00",
          "2016-08-24T00:00:00",
          "2016-08-25T00:00:00",
          "2016-08-26T00:00:00",
          "2016-08-27T00:00:00",
          "2016-08-28T00:00:00",
          "2016-08-29T00:00:00",
          "2016-08-30T00:00:00",
          "2016-08-31T00:00:00",
          "2016-09-01T00:00:00",
          "2016-09-02T00:00:00",
          "2016-09-03T00:00:00",
          "2016-09-04T00:00:00",
          "2016-09-05T00:00:00",
          "2016-09-06T00:00:00",
          "2016-09-07T00:00:00",
          "2016-09-08T00:00:00",
          "2016-09-09T00:00:00",
          "2016-09-10T00:00:00",
          "2016-09-11T00:00:00",
          "2016-09-12T00:00:00",
          "2016-09-13T00:00:00",
          "2016-09-14T00:00:00",
          "2016-09-15T00:00:00",
          "2016-09-16T00:00:00",
          "2016-09-17T00:00:00",
          "2016-09-18T00:00:00",
          "2016-09-19T00:00:00",
          "2016-09-20T00:00:00",
          "2016-09-21T00:00:00",
          "2016-09-22T00:00:00",
          "2016-09-23T00:00:00",
          "2016-09-24T00:00:00",
          "2016-09-25T00:00:00",
          "2016-09-26T00:00:00",
          "2016-09-27T00:00:00",
          "2016-09-28T00:00:00",
          "2016-09-29T00:00:00",
          "2016-09-30T00:00:00",
          "2016-10-01T00:00:00",
          "2016-10-02T00:00:00",
          "2016-10-03T00:00:00",
          "2016-10-04T00:00:00",
          "2016-10-05T00:00:00",
          "2016-10-06T00:00:00",
          "2016-10-07T00:00:00",
          "2016-10-08T00:00:00",
          "2016-10-09T00:00:00",
          "2016-10-10T00:00:00",
          "2016-10-11T00:00:00",
          "2016-10-12T00:00:00",
          "2016-10-13T00:00:00",
          "2016-10-14T00:00:00",
          "2016-10-15T00:00:00",
          "2016-10-16T00:00:00",
          "2016-10-17T00:00:00",
          "2016-10-18T00:00:00",
          "2016-10-19T00:00:00",
          "2016-10-20T00:00:00",
          "2016-10-21T00:00:00",
          "2016-10-22T00:00:00",
          "2016-10-23T00:00:00",
          "2016-10-24T00:00:00",
          "2016-10-25T00:00:00",
          "2016-10-26T00:00:00",
          "2016-10-27T00:00:00",
          "2016-10-28T00:00:00",
          "2016-10-29T00:00:00",
          "2016-10-30T00:00:00",
          "2016-10-31T00:00:00",
          "2016-11-01T00:00:00",
          "2016-11-02T00:00:00",
          "2016-11-03T00:00:00",
          "2016-11-04T00:00:00",
          "2016-11-05T00:00:00",
          "2016-11-06T00:00:00",
          "2016-11-07T00:00:00",
          "2016-11-08T00:00:00",
          "2016-11-09T00:00:00",
          "2016-11-10T00:00:00",
          "2016-11-11T00:00:00",
          "2016-11-12T00:00:00",
          "2016-11-13T00:00:00",
          "2016-11-14T00:00:00",
          "2016-11-15T00:00:00",
          "2016-11-16T00:00:00",
          "2016-11-17T00:00:00",
          "2016-11-18T00:00:00",
          "2016-11-19T00:00:00",
          "2016-11-20T00:00:00",
          "2016-11-21T00:00:00",
          "2016-11-22T00:00:00",
          "2016-11-23T00:00:00",
          "2016-11-24T00:00:00",
          "2016-11-25T00:00:00",
          "2016-11-26T00:00:00",
          "2016-11-27T00:00:00",
          "2016-11-28T00:00:00",
          "2016-11-29T00:00:00",
          "2016-11-30T00:00:00",
          "2016-12-01T00:00:00",
          "2016-12-02T00:00:00",
          "2016-12-03T00:00:00",
          "2016-12-04T00:00:00",
          "2016-12-05T00:00:00",
          "2016-12-06T00:00:00",
          "2016-12-07T00:00:00",
          "2016-12-08T00:00:00",
          "2016-12-09T00:00:00",
          "2016-12-10T00:00:00",
          "2016-12-11T00:00:00",
          "2016-12-12T00:00:00",
          "2016-12-13T00:00:00",
          "2016-12-14T00:00:00",
          "2016-12-15T00:00:00",
          "2016-12-16T00:00:00",
          "2016-12-17T00:00:00",
          "2016-12-18T00:00:00",
          "2016-12-19T00:00:00",
          "2016-12-20T00:00:00",
          "2016-12-21T00:00:00",
          "2016-12-22T00:00:00",
          "2016-12-23T00:00:00",
          "2016-12-24T00:00:00",
          "2016-12-25T00:00:00",
          "2016-12-26T00:00:00",
          "2016-12-27T00:00:00",
          "2016-12-28T00:00:00",
          "2016-12-29T00:00:00",
          "2016-12-30T00:00:00",
          "2016-12-31T00:00:00"
         ],
         "xaxis": "x2",
         "y": [
          79.87,
          65.11,
          66.4,
          73.73,
          78.22,
          83.7,
          105.21,
          98.29,
          60.24,
          62.87,
          68.11,
          64.5,
          68.5,
          59.65,
          47.42,
          35.05,
          35.01,
          45.72,
          43.49,
          40.44,
          37.76,
          48.9,
          67.05,
          56.64,
          44.74,
          58.38,
          63.16,
          68.84,
          74.39,
          78.01,
          53.86,
          37.51,
          32.1,
          30.46,
          31.31,
          38.98,
          41.58,
          46.76,
          45.57,
          44.85,
          48.24,
          41.33,
          35.09,
          33.55,
          35.13,
          35.02,
          32.58,
          35.79,
          54.55,
          67.61,
          79.34,
          47.95,
          30.92,
          28.75,
          35.85,
          36.07,
          27.19,
          36.93,
          41.99,
          49.77,
          51.11,
          41.75,
          48.37,
          39.42,
          31.6,
          44.64,
          54.88,
          40.96,
          35.16,
          37.73,
          28.85,
          null,
          null,
          23.58,
          26,
          29.89,
          31.57,
          30.43,
          38.99,
          52.94,
          33.75,
          21.64,
          27,
          39.36,
          44.01,
          37.72,
          28.36,
          27.83,
          29.91,
          27.39,
          34.59,
          null,
          null,
          62.22,
          59.55,
          24.26,
          32.31,
          48.67,
          31.01,
          35.12,
          33.72,
          31.62,
          23.32,
          22.7,
          22.82,
          34.25,
          17.79,
          21.22,
          28.33,
          28.32,
          25.14,
          20.52,
          20,
          20.6,
          22,
          23.14,
          29.38,
          39.52,
          37.83,
          32.04,
          16.95,
          17.35,
          13.81,
          31.89,
          49.53,
          44.78,
          35.93,
          39.63,
          45.99,
          51.11,
          43.66,
          53.04,
          66.64,
          56.26,
          52.87,
          46.77,
          31,
          29.12,
          26.39,
          43.64,
          57.83,
          55.28,
          46.09,
          40.22,
          36.69,
          48.53,
          42.29,
          43.19,
          29.71,
          30.46,
          39.34,
          47.17,
          37.91,
          37.86,
          44.94,
          47.59,
          51.64,
          35.52,
          33.33,
          32.67,
          35.28,
          30.18,
          37.83,
          33.33,
          34.24,
          38.65,
          42.47,
          34.5,
          32.53,
          33.32,
          34.93,
          34.93,
          35.69,
          31.53,
          28.31,
          33.1,
          43.4,
          39.05,
          39.39,
          35.05,
          33.03,
          31.42,
          42.08,
          36.91,
          35.43,
          35.38,
          42.46,
          52.72,
          37.18,
          40.9,
          40.31,
          37.92,
          38.15,
          33.66,
          43.92,
          61.03,
          38.79,
          40.89,
          33.83,
          51.53,
          55.76,
          31.06,
          32.92,
          37.84,
          35.77,
          38.44,
          45.77,
          48.6,
          42.48,
          40.28,
          41.18,
          36.4,
          37.62,
          35.28,
          34.99,
          32.14,
          32.45,
          32.81,
          32.22,
          28.89,
          29.3,
          27.23,
          29.55,
          24.79,
          23.83,
          31.35,
          32.09,
          27.89,
          26.6,
          25.64,
          30.91,
          28.14,
          26.51,
          23.44,
          23.44,
          26.3,
          22.95,
          30.36,
          39.87,
          null,
          31.55,
          29.89,
          29.36,
          28.42,
          23.08,
          26.32,
          23.2,
          22.02,
          19.68,
          19.05,
          18.99,
          20.58,
          21.51,
          21.07,
          20.4,
          21.52,
          25.79,
          23.03,
          28.2,
          27.03,
          29.48,
          29.26,
          34.17,
          28.66,
          29.75,
          27.78,
          29.48,
          30.1,
          27.69,
          32.26,
          29.98,
          40.17,
          37.22,
          32.18,
          40.08,
          35.58,
          43.92,
          50.14,
          46.47,
          54.59,
          47.26,
          42.99,
          43.55,
          39.72,
          36.52,
          31.55,
          27.85,
          29.54,
          34.74,
          34.88,
          37.11,
          39.9,
          39.26,
          44.98,
          46.41,
          47.03,
          44.08,
          37.79,
          38.89,
          48.82,
          58.75,
          64.34,
          79.24,
          89.56,
          95.27,
          91.77,
          111.69,
          104.84,
          88.02,
          89.1,
          96.22,
          72.81,
          55.65,
          58.89,
          73.93,
          88.96,
          81.99,
          67.76,
          49.95,
          59.24,
          53.33,
          41.1,
          43.06,
          55.83,
          80.15,
          81.94,
          63.32,
          48.28,
          55.54,
          28.84,
          25.22,
          26.73,
          28.3,
          64.54,
          84.51,
          79.35,
          77.5,
          51.11,
          68.69,
          27.41,
          56.8,
          49.99,
          36.31,
          40.93,
          34.4,
          29.59,
          50.66,
          40.75,
          39.57,
          32.77,
          42.38,
          52.64,
          61.3,
          61.04,
          45.61,
          40.01,
          50.67,
          90.37,
          99.22,
          61.98,
          51.87,
          47.88,
          60.4,
          88.44,
          54.58,
          52.53
         ],
         "yaxis": "y2"
        },
        {
         "mode": "lines+markers",
         "name": "2017",
         "type": "scatter",
         "x": [
          "2017-01-01T00:00:00",
          "2017-01-02T00:00:00",
          "2017-01-03T00:00:00",
          "2017-01-04T00:00:00",
          "2017-01-05T00:00:00",
          "2017-01-06T00:00:00",
          "2017-01-07T00:00:00",
          "2017-01-08T00:00:00",
          "2017-01-09T00:00:00",
          "2017-01-10T00:00:00",
          "2017-01-11T00:00:00",
          "2017-01-12T00:00:00",
          "2017-01-13T00:00:00",
          "2017-01-14T00:00:00",
          "2017-01-15T00:00:00",
          "2017-01-16T00:00:00",
          "2017-01-17T00:00:00",
          "2017-01-18T00:00:00",
          "2017-01-19T00:00:00",
          "2017-01-20T00:00:00",
          "2017-01-21T00:00:00",
          "2017-01-22T00:00:00",
          "2017-01-23T00:00:00",
          "2017-01-24T00:00:00",
          "2017-01-25T00:00:00",
          "2017-01-26T00:00:00",
          "2017-01-27T00:00:00",
          "2017-01-28T00:00:00",
          "2017-01-29T00:00:00",
          "2017-01-30T00:00:00",
          "2017-01-31T00:00:00",
          "2017-02-01T00:00:00",
          "2017-02-02T00:00:00",
          "2017-02-03T00:00:00",
          "2017-02-04T00:00:00",
          "2017-02-05T00:00:00",
          "2017-02-06T00:00:00",
          "2017-02-07T00:00:00",
          "2017-02-08T00:00:00",
          "2017-02-09T00:00:00",
          "2017-02-10T00:00:00",
          "2017-02-11T00:00:00",
          "2017-02-12T00:00:00",
          "2017-02-13T00:00:00",
          "2017-02-14T00:00:00",
          "2017-02-15T00:00:00",
          "2017-02-16T00:00:00",
          "2017-02-17T00:00:00",
          "2017-02-18T00:00:00",
          "2017-02-19T00:00:00",
          "2017-02-20T00:00:00",
          "2017-02-21T00:00:00",
          "2017-02-22T00:00:00",
          "2017-02-23T00:00:00",
          "2017-02-24T00:00:00",
          "2017-02-25T00:00:00",
          "2017-02-26T00:00:00",
          "2017-02-27T00:00:00",
          "2017-02-28T00:00:00",
          "2017-03-01T00:00:00",
          "2017-03-02T00:00:00",
          "2017-03-03T00:00:00",
          "2017-03-04T00:00:00",
          "2017-03-05T00:00:00",
          "2017-03-06T00:00:00",
          "2017-03-07T00:00:00",
          "2017-03-08T00:00:00",
          "2017-03-09T00:00:00",
          "2017-03-10T00:00:00",
          "2017-03-11T00:00:00",
          "2017-03-12T00:00:00",
          "2017-03-13T00:00:00",
          "2017-03-14T00:00:00",
          "2017-03-15T00:00:00",
          "2017-03-16T00:00:00",
          "2017-03-17T00:00:00",
          "2017-03-18T00:00:00",
          "2017-03-19T00:00:00",
          "2017-03-20T00:00:00",
          "2017-03-21T00:00:00",
          "2017-03-22T00:00:00",
          "2017-03-23T00:00:00",
          "2017-03-24T00:00:00",
          "2017-03-25T00:00:00",
          "2017-03-26T00:00:00",
          "2017-03-27T00:00:00",
          "2017-03-28T00:00:00",
          "2017-03-29T00:00:00",
          "2017-03-30T00:00:00",
          "2017-03-31T00:00:00",
          "2017-04-01T00:00:00",
          "2017-04-02T00:00:00",
          "2017-04-03T00:00:00",
          "2017-04-04T00:00:00",
          "2017-04-05T00:00:00",
          "2017-04-06T00:00:00",
          "2017-04-07T00:00:00",
          "2017-04-08T00:00:00",
          "2017-04-09T00:00:00",
          "2017-04-10T00:00:00",
          "2017-04-11T00:00:00",
          "2017-04-12T00:00:00",
          "2017-04-13T00:00:00",
          "2017-04-14T00:00:00",
          "2017-04-15T00:00:00",
          "2017-04-16T00:00:00",
          "2017-04-17T00:00:00",
          "2017-04-18T00:00:00",
          "2017-04-19T00:00:00",
          "2017-04-20T00:00:00",
          "2017-04-21T00:00:00",
          "2017-04-22T00:00:00",
          "2017-04-23T00:00:00",
          "2017-04-24T00:00:00",
          "2017-04-25T00:00:00",
          "2017-04-26T00:00:00",
          "2017-04-27T00:00:00",
          "2017-04-28T00:00:00",
          "2017-04-29T00:00:00",
          "2017-04-30T00:00:00",
          "2017-05-01T00:00:00",
          "2017-05-02T00:00:00",
          "2017-05-03T00:00:00",
          "2017-05-04T00:00:00",
          "2017-05-05T00:00:00",
          "2017-05-06T00:00:00",
          "2017-05-07T00:00:00",
          "2017-05-08T00:00:00",
          "2017-05-09T00:00:00",
          "2017-05-10T00:00:00",
          "2017-05-11T00:00:00",
          "2017-05-12T00:00:00",
          "2017-05-13T00:00:00",
          "2017-05-14T00:00:00",
          "2017-05-15T00:00:00",
          "2017-05-16T00:00:00",
          "2017-05-17T00:00:00",
          "2017-05-18T00:00:00",
          "2017-05-19T00:00:00",
          "2017-05-20T00:00:00",
          "2017-05-21T00:00:00",
          "2017-05-22T00:00:00",
          "2017-05-23T00:00:00",
          "2017-05-24T00:00:00",
          "2017-05-25T00:00:00",
          "2017-05-26T00:00:00",
          "2017-05-27T00:00:00",
          "2017-05-28T00:00:00",
          "2017-05-29T00:00:00",
          "2017-05-30T00:00:00",
          "2017-05-31T00:00:00",
          "2017-06-01T00:00:00",
          "2017-06-02T00:00:00",
          "2017-06-03T00:00:00",
          "2017-06-04T00:00:00",
          "2017-06-05T00:00:00",
          "2017-06-06T00:00:00",
          "2017-06-07T00:00:00",
          "2017-06-08T00:00:00",
          "2017-06-09T00:00:00",
          "2017-06-10T00:00:00",
          "2017-06-11T00:00:00",
          "2017-06-12T00:00:00",
          "2017-06-13T00:00:00",
          "2017-06-14T00:00:00",
          "2017-06-15T00:00:00",
          "2017-06-16T00:00:00",
          "2017-06-17T00:00:00",
          "2017-06-18T00:00:00",
          "2017-06-19T00:00:00",
          "2017-06-20T00:00:00",
          "2017-06-21T00:00:00",
          "2017-06-22T00:00:00",
          "2017-06-23T00:00:00",
          "2017-06-24T00:00:00",
          "2017-06-25T00:00:00",
          "2017-06-26T00:00:00",
          "2017-06-27T00:00:00",
          "2017-06-28T00:00:00",
          "2017-06-29T00:00:00",
          "2017-06-30T00:00:00",
          "2017-07-01T00:00:00",
          "2017-07-02T00:00:00",
          "2017-07-03T00:00:00",
          "2017-07-04T00:00:00",
          "2017-07-05T00:00:00",
          "2017-07-06T00:00:00",
          "2017-07-07T00:00:00",
          "2017-07-08T00:00:00",
          "2017-07-09T00:00:00",
          "2017-07-10T00:00:00",
          "2017-07-11T00:00:00",
          "2017-07-12T00:00:00",
          "2017-07-13T00:00:00",
          "2017-07-14T00:00:00",
          "2017-07-15T00:00:00",
          "2017-07-16T00:00:00",
          "2017-07-17T00:00:00",
          "2017-07-18T00:00:00",
          "2017-07-19T00:00:00",
          "2017-07-20T00:00:00",
          "2017-07-21T00:00:00",
          "2017-07-22T00:00:00",
          "2017-07-23T00:00:00",
          "2017-07-24T00:00:00",
          "2017-07-25T00:00:00",
          "2017-07-26T00:00:00",
          "2017-07-27T00:00:00",
          "2017-07-28T00:00:00",
          "2017-07-29T00:00:00",
          "2017-07-30T00:00:00",
          "2017-07-31T00:00:00",
          "2017-08-01T00:00:00",
          "2017-08-02T00:00:00",
          "2017-08-03T00:00:00",
          "2017-08-04T00:00:00",
          "2017-08-05T00:00:00",
          "2017-08-06T00:00:00",
          "2017-08-07T00:00:00",
          "2017-08-08T00:00:00",
          "2017-08-09T00:00:00",
          "2017-08-10T00:00:00",
          "2017-08-11T00:00:00",
          "2017-08-12T00:00:00",
          "2017-08-13T00:00:00",
          "2017-08-14T00:00:00",
          "2017-08-15T00:00:00",
          "2017-08-16T00:00:00",
          "2017-08-17T00:00:00",
          "2017-08-18T00:00:00",
          "2017-08-19T00:00:00",
          "2017-08-20T00:00:00",
          "2017-08-21T00:00:00",
          "2017-08-22T00:00:00",
          "2017-08-23T00:00:00",
          "2017-08-24T00:00:00",
          "2017-08-25T00:00:00",
          "2017-08-26T00:00:00",
          "2017-08-27T00:00:00",
          "2017-08-28T00:00:00",
          "2017-08-29T00:00:00",
          "2017-08-30T00:00:00",
          "2017-08-31T00:00:00",
          "2017-09-01T00:00:00",
          "2017-09-02T00:00:00",
          "2017-09-03T00:00:00",
          "2017-09-04T00:00:00",
          "2017-09-05T00:00:00",
          "2017-09-06T00:00:00",
          "2017-09-07T00:00:00",
          "2017-09-08T00:00:00",
          "2017-09-09T00:00:00",
          "2017-09-10T00:00:00",
          "2017-09-11T00:00:00",
          "2017-09-12T00:00:00",
          "2017-09-13T00:00:00",
          "2017-09-14T00:00:00",
          "2017-09-15T00:00:00",
          "2017-09-16T00:00:00",
          "2017-09-17T00:00:00",
          "2017-09-18T00:00:00",
          "2017-09-19T00:00:00",
          "2017-09-20T00:00:00",
          "2017-09-21T00:00:00",
          "2017-09-22T00:00:00",
          "2017-09-23T00:00:00",
          "2017-09-24T00:00:00",
          "2017-09-25T00:00:00",
          "2017-09-26T00:00:00",
          "2017-09-27T00:00:00",
          "2017-09-28T00:00:00",
          "2017-09-29T00:00:00",
          "2017-09-30T00:00:00",
          "2017-10-01T00:00:00",
          "2017-10-02T00:00:00",
          "2017-10-03T00:00:00",
          "2017-10-04T00:00:00",
          "2017-10-05T00:00:00",
          "2017-10-06T00:00:00",
          "2017-10-07T00:00:00",
          "2017-10-08T00:00:00",
          "2017-10-09T00:00:00",
          "2017-10-10T00:00:00",
          "2017-10-11T00:00:00",
          "2017-10-12T00:00:00",
          "2017-10-13T00:00:00",
          "2017-10-14T00:00:00",
          "2017-10-15T00:00:00",
          "2017-10-16T00:00:00",
          "2017-10-17T00:00:00",
          "2017-10-18T00:00:00",
          "2017-10-19T00:00:00",
          "2017-10-20T00:00:00",
          "2017-10-21T00:00:00",
          "2017-10-22T00:00:00",
          "2017-10-23T00:00:00",
          "2017-10-24T00:00:00",
          "2017-10-25T00:00:00",
          "2017-10-26T00:00:00",
          "2017-10-27T00:00:00",
          "2017-10-28T00:00:00",
          "2017-10-29T00:00:00",
          "2017-10-30T00:00:00",
          "2017-10-31T00:00:00",
          "2017-11-01T00:00:00",
          "2017-11-02T00:00:00",
          "2017-11-03T00:00:00",
          "2017-11-04T00:00:00",
          "2017-11-05T00:00:00",
          "2017-11-06T00:00:00",
          "2017-11-07T00:00:00",
          "2017-11-08T00:00:00",
          "2017-11-09T00:00:00",
          "2017-11-10T00:00:00",
          "2017-11-11T00:00:00",
          "2017-11-12T00:00:00",
          "2017-11-13T00:00:00",
          "2017-11-14T00:00:00",
          "2017-11-15T00:00:00",
          "2017-11-16T00:00:00",
          "2017-11-17T00:00:00",
          "2017-11-18T00:00:00",
          "2017-11-19T00:00:00",
          "2017-11-20T00:00:00",
          "2017-11-21T00:00:00",
          "2017-11-22T00:00:00",
          "2017-11-23T00:00:00",
          "2017-11-24T00:00:00",
          "2017-11-25T00:00:00",
          "2017-11-26T00:00:00",
          "2017-11-27T00:00:00",
          "2017-11-28T00:00:00",
          "2017-11-29T00:00:00",
          "2017-11-30T00:00:00",
          "2017-12-01T00:00:00",
          "2017-12-02T00:00:00",
          "2017-12-03T00:00:00",
          "2017-12-04T00:00:00",
          "2017-12-05T00:00:00",
          "2017-12-06T00:00:00",
          "2017-12-07T00:00:00",
          "2017-12-08T00:00:00",
          "2017-12-09T00:00:00",
          "2017-12-10T00:00:00",
          "2017-12-11T00:00:00",
          "2017-12-12T00:00:00",
          "2017-12-13T00:00:00",
          "2017-12-14T00:00:00",
          "2017-12-15T00:00:00",
          "2017-12-16T00:00:00",
          "2017-12-17T00:00:00",
          "2017-12-18T00:00:00",
          "2017-12-19T00:00:00",
          "2017-12-20T00:00:00",
          "2017-12-21T00:00:00",
          "2017-12-22T00:00:00",
          "2017-12-23T00:00:00",
          "2017-12-24T00:00:00",
          "2017-12-25T00:00:00",
          "2017-12-26T00:00:00",
          "2017-12-27T00:00:00",
          "2017-12-28T00:00:00",
          "2017-12-29T00:00:00",
          "2017-12-30T00:00:00",
          "2017-12-31T00:00:00"
         ],
         "xaxis": "x3",
         "y": [
          55.92,
          66.57,
          58.97,
          68.53,
          61.04,
          58.18,
          36.9,
          29.21,
          36.32,
          28.52,
          31.36,
          43.41,
          45.76,
          36.49,
          24.33,
          39.47,
          33.13,
          31.97,
          25.48,
          31.55,
          19.27,
          24.1,
          33.51,
          56.08,
          69.27,
          48.42,
          31.84,
          28.3,
          28.3,
          40.53,
          54.92,
          46.63,
          60.67,
          62.33,
          57.26,
          40.73,
          46.21,
          28.73,
          31.42,
          39.7,
          47.34,
          55.54,
          95.27,
          51.62,
          50.31,
          54.38,
          55.87,
          53.4,
          62.34,
          75.4,
          83.01,
          66.01,
          58.5,
          38.51,
          29.63,
          34.4,
          40.72,
          43.29,
          76.09,
          73.27,
          62.98,
          41.85,
          39.3,
          34.4,
          33.66,
          43.71,
          36.04,
          32.12,
          25.51,
          24.61,
          24.24,
          21.02,
          22.58,
          37.36,
          43.07,
          29.62,
          33.5,
          43.17,
          34.32,
          33.99,
          49.03,
          73.23,
          76.02,
          59.37,
          53.05,
          52.56,
          61.73,
          58.95,
          57.35,
          67.36,
          68.33,
          59.67,
          58.96,
          63.38,
          66.8,
          59.04,
          51.4,
          55.26,
          38.77,
          37.48,
          40.69,
          43.01,
          54.53,
          67.47,
          63.27,
          38.41,
          42.18,
          41.14,
          50.75,
          64.48,
          54.57,
          39.46,
          40.33,
          34.43,
          31,
          34.01,
          37.41,
          33.57,
          42.48,
          34.42,
          40.22,
          44.95,
          44.27,
          34.41,
          32.24,
          37.01,
          41.82,
          50.62,
          36.69,
          34.59,
          30.7,
          35.38,
          42.62,
          32.57,
          37.08,
          20.17,
          12.09,
          13.57,
          27.59,
          25.31,
          13.02,
          39.38,
          56.89,
          42.37,
          33.07,
          49.97,
          39.95,
          37.97,
          41.24,
          47.68,
          53.68,
          57.81,
          60.86,
          62.41,
          55.02,
          41.28,
          43.51,
          48.84,
          40.3,
          41.19,
          41.51,
          38.68,
          50.52,
          58.1,
          52.51,
          54.71,
          51.3,
          48.94,
          48.14,
          46.71,
          59.54,
          50.91,
          69.13,
          52.73,
          58.3,
          45.21,
          38.93,
          37.64,
          41.14,
          33.87,
          41.27,
          44.12,
          32.97,
          32.02,
          28.8,
          25.81,
          24.82,
          30.98,
          28.82,
          41.79,
          27.22,
          26.19,
          27.31,
          28.03,
          29.06,
          37.26,
          35.52,
          43.34,
          49.2,
          58.22,
          44.64,
          26.97,
          23.32,
          26.79,
          28.58,
          28.73,
          27.09,
          26.74,
          25.11,
          22.45,
          22.24,
          32,
          33.36,
          38.35,
          34.14,
          33.24,
          36.4,
          43.5,
          33.07,
          36.53,
          42.64,
          31.22,
          17.92,
          null,
          null,
          34.8,
          18.69,
          23.94,
          26.78,
          24.79,
          24.34,
          17.65,
          12.14,
          15.5,
          22.33,
          23.83,
          18.75,
          23.26,
          29.19,
          15.6,
          27.77,
          38.09,
          25.08,
          17.6,
          33.97,
          25.9,
          86.67,
          30.21,
          31.07,
          36.46,
          27.05,
          31.1,
          49.74,
          48,
          null,
          null,
          43.06,
          31.02,
          40.92,
          31.89,
          33.88,
          45,
          56.47,
          31.36,
          17.63,
          17.47,
          19.11,
          19.81,
          34.54,
          50.34,
          54.37,
          41.19,
          44.1,
          50.15,
          39.12,
          31.36,
          39.43,
          37.22,
          31.48,
          35.37,
          41.02,
          50.93,
          56.42,
          64.21,
          44.32,
          45.28,
          55.52,
          44.61,
          51.88,
          42.92,
          44.57,
          50.7,
          48.79,
          50.8,
          45.72,
          48.44,
          53.82,
          55.14,
          61.45,
          48.68,
          51.2,
          50.6,
          52.67,
          64.28,
          47.36,
          49.88,
          53.2,
          52.75,
          61.8,
          65.81,
          91.87,
          82.96,
          74.84,
          84.1,
          90.64,
          73.63,
          73.85,
          55.71,
          48.83,
          50.06,
          45.56,
          38.55,
          34.83,
          36.28,
          40.58,
          40.37,
          40.03,
          44.62,
          47.81,
          63.81,
          52.5,
          60.94,
          83.31,
          77.53,
          65.47,
          92.4,
          85.25,
          90.28,
          71.16,
          45.92,
          36.04,
          41.49,
          57.73,
          77.11,
          86.87,
          50.54,
          48.27,
          46.26,
          42.56,
          39.74,
          35.36,
          45.71,
          56.27,
          78.25,
          72.97,
          55.36,
          51.89,
          73.83,
          68.61,
          62.83,
          71.71,
          79.07,
          68.22,
          75.04,
          83.55
         ],
         "yaxis": "y3"
        },
        {
         "mode": "lines+markers",
         "name": "2018",
         "type": "scatter",
         "x": [
          "2018-01-01T00:00:00",
          "2018-01-02T00:00:00",
          "2018-01-03T00:00:00",
          "2018-01-04T00:00:00",
          "2018-01-05T00:00:00",
          "2018-01-06T00:00:00",
          "2018-01-07T00:00:00",
          "2018-01-08T00:00:00",
          "2018-01-09T00:00:00",
          "2018-01-10T00:00:00",
          "2018-01-11T00:00:00",
          "2018-01-12T00:00:00",
          "2018-01-13T00:00:00",
          "2018-01-14T00:00:00",
          "2018-01-15T00:00:00",
          "2018-01-16T00:00:00",
          "2018-01-17T00:00:00",
          "2018-01-18T00:00:00",
          "2018-01-19T00:00:00",
          "2018-01-20T00:00:00",
          "2018-01-21T00:00:00",
          "2018-01-22T00:00:00",
          "2018-01-23T00:00:00",
          "2018-01-24T00:00:00",
          "2018-01-25T00:00:00",
          "2018-01-26T00:00:00",
          "2018-01-27T00:00:00",
          "2018-01-28T00:00:00",
          "2018-01-29T00:00:00",
          "2018-01-30T00:00:00",
          "2018-01-31T00:00:00",
          "2018-02-01T00:00:00",
          "2018-02-02T00:00:00",
          "2018-02-03T00:00:00",
          "2018-02-04T00:00:00",
          "2018-02-05T00:00:00",
          "2018-02-06T00:00:00",
          "2018-02-07T00:00:00",
          "2018-02-08T00:00:00",
          "2018-02-09T00:00:00",
          "2018-02-10T00:00:00",
          "2018-02-11T00:00:00",
          "2018-02-12T00:00:00",
          "2018-02-13T00:00:00",
          "2018-02-14T00:00:00",
          "2018-02-15T00:00:00",
          "2018-02-16T00:00:00",
          "2018-02-17T00:00:00",
          "2018-02-18T00:00:00",
          "2018-02-19T00:00:00",
          "2018-02-20T00:00:00",
          "2018-02-21T00:00:00",
          "2018-02-22T00:00:00",
          "2018-02-23T00:00:00",
          "2018-02-24T00:00:00",
          "2018-02-25T00:00:00",
          "2018-02-26T00:00:00",
          "2018-02-27T00:00:00",
          "2018-02-28T00:00:00",
          "2018-03-01T00:00:00",
          "2018-03-02T00:00:00",
          "2018-03-03T00:00:00",
          "2018-03-04T00:00:00",
          "2018-03-05T00:00:00",
          "2018-03-06T00:00:00",
          "2018-03-07T00:00:00",
          "2018-03-08T00:00:00",
          "2018-03-09T00:00:00",
          "2018-03-10T00:00:00",
          "2018-03-11T00:00:00",
          "2018-03-12T00:00:00",
          "2018-03-13T00:00:00",
          "2018-03-14T00:00:00",
          "2018-03-15T00:00:00",
          "2018-03-16T00:00:00",
          "2018-03-17T00:00:00",
          "2018-03-18T00:00:00",
          "2018-03-19T00:00:00",
          "2018-03-20T00:00:00",
          "2018-03-21T00:00:00",
          "2018-03-22T00:00:00",
          "2018-03-23T00:00:00",
          "2018-03-24T00:00:00",
          "2018-03-25T00:00:00",
          "2018-03-26T00:00:00",
          "2018-03-27T00:00:00",
          "2018-03-28T00:00:00",
          "2018-03-29T00:00:00",
          "2018-03-30T00:00:00",
          "2018-03-31T00:00:00",
          "2018-04-01T00:00:00",
          "2018-04-02T00:00:00",
          "2018-04-03T00:00:00",
          "2018-04-04T00:00:00",
          "2018-04-05T00:00:00",
          "2018-04-06T00:00:00",
          "2018-04-07T00:00:00",
          "2018-04-08T00:00:00",
          "2018-04-09T00:00:00",
          "2018-04-10T00:00:00",
          "2018-04-11T00:00:00",
          "2018-04-12T00:00:00",
          "2018-04-13T00:00:00",
          "2018-04-14T00:00:00",
          "2018-04-15T00:00:00",
          "2018-04-16T00:00:00",
          "2018-04-17T00:00:00",
          "2018-04-18T00:00:00",
          "2018-04-19T00:00:00",
          "2018-04-20T00:00:00",
          "2018-04-21T00:00:00",
          "2018-04-22T00:00:00",
          "2018-04-23T00:00:00",
          "2018-04-24T00:00:00",
          "2018-04-25T00:00:00",
          "2018-04-26T00:00:00",
          "2018-04-27T00:00:00",
          "2018-04-28T00:00:00",
          "2018-04-29T00:00:00",
          "2018-04-30T00:00:00",
          "2018-05-01T00:00:00",
          "2018-05-02T00:00:00",
          "2018-05-03T00:00:00",
          "2018-05-04T00:00:00",
          "2018-05-05T00:00:00",
          "2018-05-06T00:00:00",
          "2018-05-07T00:00:00",
          "2018-05-08T00:00:00",
          "2018-05-09T00:00:00",
          "2018-05-10T00:00:00",
          "2018-05-11T00:00:00",
          "2018-05-12T00:00:00",
          "2018-05-13T00:00:00",
          "2018-05-14T00:00:00",
          "2018-05-15T00:00:00",
          "2018-05-16T00:00:00",
          "2018-05-17T00:00:00",
          "2018-05-18T00:00:00",
          "2018-05-19T00:00:00",
          "2018-05-20T00:00:00",
          "2018-05-21T00:00:00",
          "2018-05-22T00:00:00",
          "2018-05-23T00:00:00",
          "2018-05-24T00:00:00",
          "2018-05-25T00:00:00",
          "2018-05-26T00:00:00",
          "2018-05-27T00:00:00",
          "2018-05-28T00:00:00",
          "2018-05-29T00:00:00",
          "2018-05-30T00:00:00",
          "2018-05-31T00:00:00",
          "2018-06-01T00:00:00",
          "2018-06-02T00:00:00",
          "2018-06-03T00:00:00",
          "2018-06-04T00:00:00",
          "2018-06-05T00:00:00",
          "2018-06-06T00:00:00",
          "2018-06-07T00:00:00",
          "2018-06-08T00:00:00",
          "2018-06-09T00:00:00",
          "2018-06-10T00:00:00",
          "2018-06-11T00:00:00",
          "2018-06-12T00:00:00",
          "2018-06-13T00:00:00",
          "2018-06-14T00:00:00",
          "2018-06-15T00:00:00",
          "2018-06-16T00:00:00",
          "2018-06-17T00:00:00",
          "2018-06-18T00:00:00",
          "2018-06-19T00:00:00",
          "2018-06-20T00:00:00",
          "2018-06-21T00:00:00",
          "2018-06-22T00:00:00",
          "2018-06-23T00:00:00",
          "2018-06-24T00:00:00",
          "2018-06-25T00:00:00",
          "2018-06-26T00:00:00",
          "2018-06-27T00:00:00",
          "2018-06-28T00:00:00",
          "2018-06-29T00:00:00",
          "2018-06-30T00:00:00",
          "2018-07-01T00:00:00",
          "2018-07-02T00:00:00",
          "2018-07-03T00:00:00",
          "2018-07-04T00:00:00",
          "2018-07-05T00:00:00",
          "2018-07-06T00:00:00",
          "2018-07-07T00:00:00",
          "2018-07-08T00:00:00",
          "2018-07-09T00:00:00",
          "2018-07-10T00:00:00",
          "2018-07-11T00:00:00",
          "2018-07-12T00:00:00",
          "2018-07-13T00:00:00",
          "2018-07-14T00:00:00",
          "2018-07-15T00:00:00",
          "2018-07-16T00:00:00",
          "2018-07-17T00:00:00",
          "2018-07-18T00:00:00",
          "2018-07-19T00:00:00",
          "2018-07-20T00:00:00",
          "2018-07-21T00:00:00",
          "2018-07-22T00:00:00",
          "2018-07-23T00:00:00",
          "2018-07-24T00:00:00",
          "2018-07-25T00:00:00",
          "2018-07-26T00:00:00",
          "2018-07-27T00:00:00",
          "2018-07-28T00:00:00",
          "2018-07-29T00:00:00",
          "2018-07-30T00:00:00",
          "2018-07-31T00:00:00",
          "2018-08-01T00:00:00",
          "2018-08-02T00:00:00",
          "2018-08-03T00:00:00",
          "2018-08-04T00:00:00",
          "2018-08-05T00:00:00",
          "2018-08-06T00:00:00",
          "2018-08-07T00:00:00",
          "2018-08-08T00:00:00",
          "2018-08-09T00:00:00",
          "2018-08-10T00:00:00",
          "2018-08-11T00:00:00",
          "2018-08-12T00:00:00",
          "2018-08-13T00:00:00",
          "2018-08-14T00:00:00",
          "2018-08-15T00:00:00",
          "2018-08-16T00:00:00",
          "2018-08-17T00:00:00",
          "2018-08-18T00:00:00",
          "2018-08-19T00:00:00",
          "2018-08-20T00:00:00",
          "2018-08-21T00:00:00",
          "2018-08-22T00:00:00",
          "2018-08-23T00:00:00",
          "2018-08-24T00:00:00",
          "2018-08-25T00:00:00",
          "2018-08-26T00:00:00",
          "2018-08-27T00:00:00",
          "2018-08-28T00:00:00",
          "2018-08-29T00:00:00",
          "2018-08-30T00:00:00",
          "2018-08-31T00:00:00",
          "2018-09-01T00:00:00",
          "2018-09-02T00:00:00",
          "2018-09-03T00:00:00",
          "2018-09-04T00:00:00",
          "2018-09-05T00:00:00",
          "2018-09-06T00:00:00",
          "2018-09-07T00:00:00",
          "2018-09-08T00:00:00",
          "2018-09-09T00:00:00",
          "2018-09-10T00:00:00",
          "2018-09-11T00:00:00",
          "2018-09-12T00:00:00",
          "2018-09-13T00:00:00",
          "2018-09-14T00:00:00",
          "2018-09-15T00:00:00",
          "2018-09-16T00:00:00",
          "2018-09-17T00:00:00",
          "2018-09-18T00:00:00",
          "2018-09-19T00:00:00",
          "2018-09-20T00:00:00",
          "2018-09-21T00:00:00",
          "2018-09-22T00:00:00",
          "2018-09-23T00:00:00",
          "2018-09-24T00:00:00",
          "2018-09-25T00:00:00",
          "2018-09-26T00:00:00",
          "2018-09-27T00:00:00",
          "2018-09-28T00:00:00",
          "2018-09-29T00:00:00",
          "2018-09-30T00:00:00",
          "2018-10-01T00:00:00",
          "2018-10-02T00:00:00",
          "2018-10-03T00:00:00",
          "2018-10-04T00:00:00",
          "2018-10-05T00:00:00",
          "2018-10-06T00:00:00",
          "2018-10-07T00:00:00",
          "2018-10-08T00:00:00",
          "2018-10-09T00:00:00",
          "2018-10-10T00:00:00",
          "2018-10-11T00:00:00",
          "2018-10-12T00:00:00",
          "2018-10-13T00:00:00",
          "2018-10-14T00:00:00",
          "2018-10-15T00:00:00",
          "2018-10-16T00:00:00",
          "2018-10-17T00:00:00",
          "2018-10-18T00:00:00",
          "2018-10-19T00:00:00",
          "2018-10-20T00:00:00",
          "2018-10-21T00:00:00",
          "2018-10-22T00:00:00",
          "2018-10-23T00:00:00",
          "2018-10-24T00:00:00",
          "2018-10-25T00:00:00",
          "2018-10-26T00:00:00",
          "2018-10-27T00:00:00",
          "2018-10-28T00:00:00",
          "2018-10-29T00:00:00",
          "2018-10-30T00:00:00",
          "2018-10-31T00:00:00",
          "2018-11-01T00:00:00",
          "2018-11-02T00:00:00",
          "2018-11-03T00:00:00",
          "2018-11-04T00:00:00",
          "2018-11-05T00:00:00",
          "2018-11-06T00:00:00",
          "2018-11-07T00:00:00",
          "2018-11-08T00:00:00",
          "2018-11-09T00:00:00",
          "2018-11-10T00:00:00",
          "2018-11-11T00:00:00",
          "2018-11-12T00:00:00",
          "2018-11-13T00:00:00",
          "2018-11-14T00:00:00",
          "2018-11-15T00:00:00",
          "2018-11-16T00:00:00",
          "2018-11-17T00:00:00",
          "2018-11-18T00:00:00",
          "2018-11-19T00:00:00",
          "2018-11-20T00:00:00",
          "2018-11-21T00:00:00",
          "2018-11-22T00:00:00",
          "2018-11-23T00:00:00",
          "2018-11-24T00:00:00",
          "2018-11-25T00:00:00",
          "2018-11-26T00:00:00",
          "2018-11-27T00:00:00",
          "2018-11-28T00:00:00",
          "2018-11-29T00:00:00",
          "2018-11-30T00:00:00",
          "2018-12-01T00:00:00",
          "2018-12-02T00:00:00",
          "2018-12-03T00:00:00",
          "2018-12-04T00:00:00",
          "2018-12-05T00:00:00",
          "2018-12-06T00:00:00",
          "2018-12-07T00:00:00",
          "2018-12-08T00:00:00",
          "2018-12-09T00:00:00",
          "2018-12-10T00:00:00",
          "2018-12-11T00:00:00",
          "2018-12-12T00:00:00",
          "2018-12-13T00:00:00",
          "2018-12-14T00:00:00",
          "2018-12-15T00:00:00",
          "2018-12-16T00:00:00",
          "2018-12-17T00:00:00",
          "2018-12-18T00:00:00",
          "2018-12-19T00:00:00",
          "2018-12-20T00:00:00",
          "2018-12-21T00:00:00",
          "2018-12-22T00:00:00",
          "2018-12-23T00:00:00",
          "2018-12-24T00:00:00",
          "2018-12-25T00:00:00",
          "2018-12-26T00:00:00",
          "2018-12-27T00:00:00",
          "2018-12-28T00:00:00",
          "2018-12-29T00:00:00",
          "2018-12-30T00:00:00",
          "2018-12-31T00:00:00"
         ],
         "xaxis": "x4",
         "y": [
          73.16,
          55.61,
          50.81,
          55.17,
          51.36,
          63.78,
          50.09,
          47.52,
          58.65,
          48.38,
          47.42,
          55.07,
          75.88,
          55.35,
          54.6,
          43.23,
          52.37,
          59.73,
          63.31,
          66.51,
          63.25,
          63.15,
          51.07,
          43.08,
          40.74,
          44.28,
          46.22,
          45.66,
          44.78,
          38.68,
          39.32,
          46.95,
          52.36,
          46.26,
          45.13,
          45.41,
          44.96,
          43.31,
          47.89,
          49.6,
          47.52,
          51.43,
          46.64,
          50.89,
          40.88,
          44.48,
          49.81,
          49.73,
          45.32,
          46.22,
          49.25,
          49.47,
          55.72,
          59.64,
          62.61,
          50.57,
          41.83,
          43.85,
          53.64,
          49.29,
          48.86,
          44.26,
          39.35,
          38.32,
          34.56,
          36.46,
          43.35,
          46.02,
          39.35,
          39.62,
          42.8,
          42.23,
          40.47,
          43.23,
          42.2,
          33.72,
          30.32,
          37.7,
          44.26,
          49.85,
          42.95,
          34.91,
          35.84,
          37.35,
          36.49,
          37.92,
          37.48,
          37.18,
          37.57,
          42.4,
          37.86,
          43.29,
          45.56,
          50.48,
          49.53,
          43.35,
          42.48,
          44.48,
          44.12,
          52.07,
          39.88,
          33.55,
          36.1,
          39.49,
          40.66,
          46.53,
          39.2,
          33.33,
          35.35,
          36.14,
          31.94,
          29.3,
          27.09,
          32.19,
          31.94,
          41.32,
          51.03,
          44.78,
          47.69,
          49.72,
          44.37,
          37.69,
          38.01,
          38.61,
          44.85,
          44.57,
          45.99,
          27.14,
          43.68,
          53.84,
          51.67,
          65.63,
          59.34,
          46.61,
          49.62,
          43.11,
          45.08,
          54.12,
          55.99,
          45.4,
          41.07,
          40.31,
          46.95,
          51.03,
          36.45,
          37.33,
          35.05,
          48.36,
          51.9,
          54.38,
          50.49,
          48.38,
          41.24,
          43.82,
          49.08,
          43.21,
          39.58,
          40.17,
          46.72,
          40.4,
          49.24,
          48.15,
          40.05,
          32.58,
          27.3,
          26.27,
          28.12,
          27.53,
          33.27,
          31.25,
          36.03,
          38.44,
          44.46,
          44.27,
          34.64,
          32.64,
          35.67,
          44.57,
          44.84,
          42.44,
          40.71,
          44.47,
          36.17,
          38.7,
          37,
          38.45,
          48.7,
          51.84,
          57.11,
          55.38,
          47.18,
          39.31,
          35.01,
          33.49,
          34.11,
          32.08,
          36.19,
          41.85,
          46.23,
          41.74,
          38.54,
          43.54,
          37.26,
          39.3,
          40.08,
          39.46,
          38.33,
          33.02,
          29.08,
          36.7,
          42.39,
          41.94,
          38.58,
          36.33,
          34.43,
          33.4,
          33.84,
          45.36,
          40.11,
          38.57,
          38.58,
          40.95,
          36.5,
          30.55,
          34.65,
          39.38,
          37.96,
          40.19,
          37.68,
          32.83,
          31.46,
          38.4,
          32.36,
          28.58,
          32.42,
          28.45,
          25.87,
          24.13,
          26.04,
          27.99,
          29.36,
          29.82,
          28.79,
          31.04,
          31.34,
          30.05,
          32.41,
          29.56,
          30.78,
          32.06,
          28.17,
          24.71,
          24.26,
          23.37,
          22.38,
          20.34,
          19.9,
          22.31,
          24.13,
          25.37,
          24.13,
          26.44,
          29.96,
          28.6,
          23.58,
          22.73,
          22.73,
          22.28,
          24.2,
          30.7,
          35.57,
          37.78,
          31.15,
          31.58,
          35.08,
          31.83,
          37.79,
          42.52,
          36.24,
          35.47,
          36.86,
          37.85,
          39.4,
          33.16,
          25.13,
          33.8,
          30.33,
          33.54,
          43.63,
          42.22,
          48.05,
          41.31,
          37.9,
          38.07,
          36.59,
          35,
          44.37,
          45.37,
          48.25,
          52.18,
          47.85,
          48.43,
          52.74,
          55.85,
          58.01,
          51.21,
          48.63,
          36.62,
          44.82,
          31.18,
          30.5,
          44.2,
          49.84,
          55.35,
          55.03,
          58.85,
          62.24,
          53,
          49.76,
          41.19,
          40.93,
          44.39,
          48.41,
          54.51,
          46.84,
          42.27,
          45.84,
          36.97,
          39.78,
          47.15,
          53.89,
          53.87,
          51.41,
          46.35,
          42.49,
          45.3,
          47.02,
          51.21,
          49.26,
          52.53,
          49.16,
          49.42,
          50.23,
          55.63,
          58.67,
          51.27,
          40.31,
          42.01,
          41.97,
          45.92,
          50.27,
          51.04,
          48.82,
          54.66,
          57.91,
          60.21,
          67.29,
          65.75,
          57.34,
          50.38,
          56.6,
          55.46,
          51.53,
          57.55,
          56
         ],
         "yaxis": "y4"
        },
        {
         "mode": "lines+markers",
         "name": "2019",
         "type": "scatter",
         "x": [
          "2019-01-01T00:00:00",
          "2019-01-02T00:00:00",
          "2019-01-03T00:00:00",
          "2019-01-04T00:00:00",
          "2019-01-05T00:00:00",
          "2019-01-06T00:00:00",
          "2019-01-07T00:00:00",
          "2019-01-08T00:00:00",
          "2019-01-09T00:00:00",
          "2019-01-10T00:00:00",
          "2019-01-11T00:00:00",
          "2019-01-12T00:00:00",
          "2019-01-13T00:00:00",
          "2019-01-14T00:00:00",
          "2019-01-15T00:00:00",
          "2019-01-16T00:00:00",
          "2019-01-17T00:00:00",
          "2019-01-18T00:00:00",
          "2019-01-19T00:00:00",
          "2019-01-20T00:00:00",
          "2019-01-21T00:00:00",
          "2019-01-22T00:00:00",
          "2019-01-23T00:00:00",
          "2019-01-24T00:00:00",
          "2019-01-25T00:00:00",
          "2019-01-26T00:00:00",
          "2019-01-27T00:00:00",
          "2019-01-28T00:00:00",
          "2019-01-29T00:00:00",
          "2019-01-30T00:00:00",
          "2019-01-31T00:00:00",
          "2019-02-01T00:00:00",
          "2019-02-02T00:00:00",
          "2019-02-03T00:00:00",
          "2019-02-04T00:00:00",
          "2019-02-05T00:00:00",
          "2019-02-06T00:00:00",
          "2019-02-07T00:00:00",
          "2019-02-08T00:00:00",
          "2019-02-09T00:00:00",
          "2019-02-10T00:00:00",
          "2019-02-11T00:00:00",
          "2019-02-12T00:00:00",
          "2019-02-13T00:00:00",
          "2019-02-14T00:00:00",
          "2019-02-15T00:00:00",
          "2019-02-16T00:00:00",
          "2019-02-17T00:00:00",
          "2019-02-18T00:00:00",
          "2019-02-19T00:00:00",
          "2019-02-20T00:00:00",
          "2019-02-21T00:00:00",
          "2019-02-22T00:00:00",
          "2019-02-23T00:00:00",
          "2019-02-24T00:00:00",
          "2019-02-25T00:00:00",
          "2019-02-26T00:00:00",
          "2019-02-27T00:00:00",
          "2019-02-28T00:00:00",
          "2019-03-01T00:00:00",
          "2019-03-02T00:00:00",
          "2019-03-03T00:00:00",
          "2019-03-04T00:00:00",
          "2019-03-05T00:00:00",
          "2019-03-06T00:00:00",
          "2019-03-07T00:00:00",
          "2019-03-08T00:00:00",
          "2019-03-09T00:00:00",
          "2019-03-10T00:00:00",
          "2019-03-11T00:00:00",
          "2019-03-12T00:00:00",
          "2019-03-13T00:00:00",
          "2019-03-14T00:00:00",
          "2019-03-15T00:00:00",
          "2019-03-16T00:00:00",
          "2019-03-17T00:00:00",
          "2019-03-18T00:00:00",
          "2019-03-19T00:00:00",
          "2019-03-20T00:00:00",
          "2019-03-21T00:00:00",
          "2019-03-22T00:00:00",
          "2019-03-23T00:00:00",
          "2019-03-24T00:00:00",
          "2019-03-25T00:00:00",
          "2019-03-26T00:00:00",
          "2019-03-27T00:00:00",
          "2019-03-28T00:00:00",
          "2019-03-29T00:00:00",
          "2019-03-30T00:00:00",
          "2019-03-31T00:00:00",
          "2019-04-01T00:00:00",
          "2019-04-02T00:00:00",
          "2019-04-03T00:00:00",
          "2019-04-04T00:00:00",
          "2019-04-05T00:00:00",
          "2019-04-06T00:00:00",
          "2019-04-07T00:00:00",
          "2019-04-08T00:00:00",
          "2019-04-09T00:00:00",
          "2019-04-10T00:00:00",
          "2019-04-11T00:00:00",
          "2019-04-12T00:00:00",
          "2019-04-13T00:00:00",
          "2019-04-14T00:00:00",
          "2019-04-15T00:00:00",
          "2019-04-16T00:00:00",
          "2019-04-17T00:00:00",
          "2019-04-18T00:00:00",
          "2019-04-19T00:00:00",
          "2019-04-20T00:00:00",
          "2019-04-21T00:00:00",
          "2019-04-22T00:00:00",
          "2019-04-23T00:00:00",
          "2019-04-24T00:00:00",
          "2019-04-25T00:00:00",
          "2019-04-26T00:00:00",
          "2019-04-27T00:00:00",
          "2019-04-28T00:00:00",
          "2019-04-29T00:00:00",
          "2019-04-30T00:00:00",
          "2019-05-01T00:00:00",
          "2019-05-02T00:00:00",
          "2019-05-03T00:00:00",
          "2019-05-04T00:00:00",
          "2019-05-05T00:00:00",
          "2019-05-06T00:00:00",
          "2019-05-07T00:00:00",
          "2019-05-08T00:00:00",
          "2019-05-09T00:00:00",
          "2019-05-10T00:00:00",
          "2019-05-11T00:00:00",
          "2019-05-12T00:00:00",
          "2019-05-13T00:00:00",
          "2019-05-14T00:00:00",
          "2019-05-15T00:00:00",
          "2019-05-16T00:00:00",
          "2019-05-17T00:00:00",
          "2019-05-18T00:00:00",
          "2019-05-19T00:00:00",
          "2019-05-20T00:00:00",
          "2019-05-21T00:00:00",
          "2019-05-22T00:00:00",
          "2019-05-23T00:00:00",
          "2019-05-24T00:00:00",
          "2019-05-25T00:00:00",
          "2019-05-26T00:00:00",
          "2019-05-27T00:00:00",
          "2019-05-28T00:00:00",
          "2019-05-29T00:00:00",
          "2019-05-30T00:00:00",
          "2019-05-31T00:00:00",
          "2019-06-01T00:00:00",
          "2019-06-02T00:00:00",
          "2019-06-03T00:00:00",
          "2019-06-04T00:00:00",
          "2019-06-05T00:00:00",
          "2019-06-06T00:00:00",
          "2019-06-07T00:00:00",
          "2019-06-08T00:00:00",
          "2019-06-09T00:00:00",
          "2019-06-10T00:00:00",
          "2019-06-11T00:00:00",
          "2019-06-12T00:00:00",
          "2019-06-13T00:00:00",
          "2019-06-14T00:00:00",
          "2019-06-15T00:00:00",
          "2019-06-16T00:00:00",
          "2019-06-17T00:00:00",
          "2019-06-18T00:00:00",
          "2019-06-19T00:00:00",
          "2019-06-20T00:00:00",
          "2019-06-21T00:00:00",
          "2019-06-22T00:00:00",
          "2019-06-23T00:00:00",
          "2019-06-24T00:00:00",
          "2019-06-25T00:00:00",
          "2019-06-26T00:00:00",
          "2019-06-27T00:00:00",
          "2019-06-28T00:00:00",
          "2019-06-29T00:00:00",
          "2019-06-30T00:00:00",
          "2019-07-01T00:00:00",
          "2019-07-02T00:00:00",
          "2019-07-03T00:00:00",
          "2019-07-04T00:00:00",
          "2019-07-05T00:00:00",
          "2019-07-06T00:00:00",
          "2019-07-07T00:00:00",
          "2019-07-08T00:00:00",
          "2019-07-09T00:00:00",
          "2019-07-10T00:00:00",
          "2019-07-11T00:00:00",
          "2019-07-12T00:00:00",
          "2019-07-13T00:00:00",
          "2019-07-14T00:00:00",
          "2019-07-15T00:00:00",
          "2019-07-16T00:00:00",
          "2019-07-17T00:00:00",
          "2019-07-18T00:00:00",
          "2019-07-19T00:00:00",
          "2019-07-20T00:00:00",
          "2019-07-21T00:00:00",
          "2019-07-22T00:00:00",
          "2019-07-23T00:00:00",
          "2019-07-24T00:00:00",
          "2019-07-25T00:00:00",
          "2019-07-26T00:00:00",
          "2019-07-27T00:00:00",
          "2019-07-28T00:00:00",
          "2019-07-29T00:00:00",
          "2019-07-30T00:00:00",
          "2019-07-31T00:00:00",
          "2019-08-01T00:00:00",
          "2019-08-02T00:00:00",
          "2019-08-03T00:00:00",
          "2019-08-04T00:00:00",
          "2019-08-05T00:00:00",
          "2019-08-06T00:00:00",
          "2019-08-07T00:00:00",
          "2019-08-08T00:00:00",
          "2019-08-09T00:00:00",
          "2019-08-10T00:00:00",
          "2019-08-11T00:00:00",
          "2019-08-12T00:00:00",
          "2019-08-13T00:00:00",
          "2019-08-14T00:00:00",
          "2019-08-15T00:00:00",
          "2019-08-16T00:00:00",
          "2019-08-17T00:00:00",
          "2019-08-18T00:00:00",
          "2019-08-19T00:00:00",
          "2019-08-20T00:00:00",
          "2019-08-21T00:00:00",
          "2019-08-22T00:00:00",
          "2019-08-23T00:00:00",
          "2019-08-24T00:00:00",
          "2019-08-25T00:00:00",
          "2019-08-26T00:00:00",
          "2019-08-27T00:00:00",
          "2019-08-28T00:00:00",
          "2019-08-29T00:00:00",
          "2019-08-30T00:00:00",
          "2019-08-31T00:00:00",
          "2019-09-01T00:00:00",
          "2019-09-02T00:00:00",
          "2019-09-03T00:00:00",
          "2019-09-04T00:00:00",
          "2019-09-05T00:00:00",
          "2019-09-06T00:00:00",
          "2019-09-07T00:00:00",
          "2019-09-08T00:00:00",
          "2019-09-09T00:00:00",
          "2019-09-10T00:00:00",
          "2019-09-11T00:00:00",
          "2019-09-12T00:00:00",
          "2019-09-13T00:00:00",
          "2019-09-14T00:00:00",
          "2019-09-15T00:00:00",
          "2019-09-16T00:00:00",
          "2019-09-17T00:00:00",
          "2019-09-18T00:00:00",
          "2019-09-19T00:00:00",
          "2019-09-20T00:00:00",
          "2019-09-21T00:00:00",
          "2019-09-22T00:00:00",
          "2019-09-23T00:00:00",
          "2019-09-24T00:00:00",
          "2019-09-25T00:00:00",
          "2019-09-26T00:00:00",
          "2019-09-27T00:00:00",
          "2019-09-28T00:00:00",
          "2019-09-29T00:00:00",
          "2019-09-30T00:00:00",
          "2019-10-01T00:00:00",
          "2019-10-02T00:00:00",
          "2019-10-03T00:00:00",
          "2019-10-04T00:00:00",
          "2019-10-05T00:00:00",
          "2019-10-06T00:00:00",
          "2019-10-07T00:00:00",
          "2019-10-08T00:00:00",
          "2019-10-09T00:00:00",
          "2019-10-10T00:00:00",
          "2019-10-11T00:00:00",
          "2019-10-12T00:00:00",
          "2019-10-13T00:00:00",
          "2019-10-14T00:00:00",
          "2019-10-15T00:00:00",
          "2019-10-16T00:00:00",
          "2019-10-17T00:00:00",
          "2019-10-18T00:00:00",
          "2019-10-19T00:00:00",
          "2019-10-20T00:00:00",
          "2019-10-21T00:00:00",
          "2019-10-22T00:00:00",
          "2019-10-23T00:00:00",
          "2019-10-24T00:00:00",
          "2019-10-25T00:00:00",
          "2019-10-26T00:00:00",
          "2019-10-27T00:00:00",
          "2019-10-28T00:00:00",
          "2019-10-29T00:00:00",
          "2019-10-30T00:00:00",
          "2019-10-31T00:00:00",
          "2019-11-01T00:00:00",
          "2019-11-02T00:00:00",
          "2019-11-03T00:00:00",
          "2019-11-04T00:00:00",
          "2019-11-05T00:00:00",
          "2019-11-06T00:00:00",
          "2019-11-07T00:00:00",
          "2019-11-08T00:00:00",
          "2019-11-09T00:00:00",
          "2019-11-10T00:00:00",
          "2019-11-11T00:00:00",
          "2019-11-12T00:00:00",
          "2019-11-13T00:00:00",
          "2019-11-14T00:00:00",
          "2019-11-15T00:00:00",
          "2019-11-16T00:00:00",
          "2019-11-17T00:00:00",
          "2019-11-18T00:00:00",
          "2019-11-19T00:00:00",
          "2019-11-20T00:00:00",
          "2019-11-21T00:00:00",
          "2019-11-22T00:00:00",
          "2019-11-23T00:00:00",
          "2019-11-24T00:00:00",
          "2019-11-25T00:00:00",
          "2019-11-26T00:00:00",
          "2019-11-27T00:00:00",
          "2019-11-28T00:00:00",
          "2019-11-29T00:00:00",
          "2019-11-30T00:00:00",
          "2019-12-01T00:00:00",
          "2019-12-02T00:00:00",
          "2019-12-03T00:00:00",
          "2019-12-04T00:00:00",
          "2019-12-05T00:00:00",
          "2019-12-06T00:00:00",
          "2019-12-07T00:00:00",
          "2019-12-08T00:00:00",
          "2019-12-09T00:00:00",
          "2019-12-10T00:00:00",
          "2019-12-11T00:00:00",
          "2019-12-12T00:00:00",
          "2019-12-13T00:00:00",
          "2019-12-14T00:00:00",
          "2019-12-15T00:00:00",
          "2019-12-16T00:00:00",
          "2019-12-17T00:00:00",
          "2019-12-18T00:00:00",
          "2019-12-19T00:00:00",
          "2019-12-20T00:00:00",
          "2019-12-21T00:00:00",
          "2019-12-22T00:00:00",
          "2019-12-23T00:00:00",
          "2019-12-24T00:00:00",
          "2019-12-25T00:00:00",
          "2019-12-26T00:00:00",
          "2019-12-27T00:00:00",
          "2019-12-28T00:00:00",
          "2019-12-29T00:00:00",
          "2019-12-30T00:00:00",
          "2019-12-31T00:00:00"
         ],
         "xaxis": "x5",
         "y": [
          56.66,
          63.63,
          61.02,
          53.09,
          56.49,
          55.71,
          56.06,
          49.69,
          43.53,
          44.67,
          56.53,
          63.46,
          63.66,
          40.52,
          39.74,
          55.19,
          60.95,
          48.6,
          50.3,
          62.37,
          57.52,
          39.73,
          42.37,
          41.06,
          34.17,
          33.64,
          35.34,
          34.49,
          36.19,
          42.99,
          49.6,
          49.42,
          43.55,
          40.43,
          39.88,
          53.81,
          53.76,
          37.84,
          29.11,
          28.42,
          33.83,
          39.17,
          46.24,
          47.95,
          45.64,
          39.19,
          35.16,
          31.82,
          33.82,
          41.33,
          41.41,
          38.24,
          39.11,
          26.26,
          29.95,
          34.51,
          32.19,
          26.57,
          31.23,
          30.2,
          36.48,
          30.98,
          37.26,
          28.71,
          29.05,
          32.79,
          32.86,
          30.68,
          27.17,
          30.69,
          29.97,
          32.39,
          39.07,
          32.74,
          27.95,
          30.56,
          32.06,
          33.86,
          36.5,
          39.26,
          27.85,
          26.54,
          27.52,
          30.32,
          29.95,
          29.54,
          34.47,
          40.53,
          41.4,
          32.06,
          27.21,
          29.3,
          30.85,
          37.04,
          41.23,
          37.35,
          52.01,
          41,
          38.26,
          40.97,
          34.96,
          34.06,
          33.66,
          29.84,
          29.21,
          30.98,
          26.7,
          26.28,
          29.85,
          29.35,
          31.53,
          36.99,
          38.2,
          37.64,
          40.86,
          32.2,
          28.15,
          25.63,
          27.82,
          31.91,
          36.73,
          36.44,
          32.34,
          30.39,
          22.41,
          31.51,
          35.25,
          35.57,
          30.33,
          25.68,
          30.12,
          29.53,
          36.48,
          33.9,
          43.8,
          44.72,
          41.4,
          39.74,
          35.4,
          35.13,
          32.12,
          32.83,
          36.98,
          45.86,
          33.81,
          27.2,
          28.45,
          29.84,
          29.53,
          33.5,
          34.26,
          40.73,
          48.12,
          43.32,
          34.34,
          35.7,
          35.27,
          32.37,
          38.84,
          35.74,
          36.64,
          32.16,
          34.98,
          30,
          23.77,
          23.84,
          24.86,
          26.8,
          25.6,
          35.53,
          29.5,
          32.14,
          32.1,
          31.36,
          28.84,
          28.87,
          30.64,
          29.35,
          27.53,
          23.72,
          25.87,
          26.07,
          27.24,
          33.05,
          28.65,
          37.63,
          36.77,
          32.3,
          33.43,
          32.19,
          33.73,
          32.06,
          33.13,
          28.61,
          26.67,
          25.07,
          26.39,
          25.91,
          26.54,
          30.83,
          34.1,
          37.02,
          43.72,
          45.51,
          44.36,
          37.17,
          36.06,
          30.26,
          28.65,
          31.27,
          33.49,
          33.79,
          33.55,
          32.66,
          35.33,
          34.25,
          37.17,
          42.32,
          33.65,
          30.9,
          28.01,
          24.4,
          25.93,
          24.89,
          29.25,
          29.08,
          31.29,
          27.58,
          25.82,
          23.25,
          25.62,
          33.03,
          34.19,
          34.28,
          36.4,
          41.36,
          34.91,
          29.89,
          31.99,
          34.95,
          32.6,
          33.69,
          38.62,
          41.15,
          36.31,
          36.34,
          37.13,
          33.31,
          34.35,
          30.75,
          32.14,
          30.37,
          29.2,
          31.57,
          30.72,
          28.56,
          25.04,
          24.48,
          26.11,
          27.51,
          25.54,
          22.6,
          24.91,
          24.45,
          26.2,
          25.37,
          25.61,
          24.88,
          24.04,
          22.32,
          21.94,
          21.99,
          22.01,
          23.99,
          24.63,
          27.17,
          26.21,
          23.56,
          26.89,
          26.98,
          23.12,
          25.59,
          29.71,
          31.79,
          33.54,
          34.93,
          34.7,
          36.03,
          38.12,
          35.08,
          33.94,
          33.65,
          33.32,
          31.9,
          29.84,
          34.38,
          41.69,
          37.02,
          40.14,
          40.04,
          40.16,
          49,
          52.82,
          55.54,
          58.29,
          49.38,
          56.52,
          39.67,
          33.01,
          31.99,
          37.3,
          38.97,
          35.4,
          32.4,
          37.01,
          40.72,
          43.4,
          50.55,
          50.12,
          35.82,
          29.55,
          29.79,
          33.12,
          40.19,
          44.56,
          42.17,
          34.6,
          34.33,
          35.67,
          37.04,
          34.32,
          30.25,
          31.59,
          36.65,
          36.51,
          38.4,
          38.81,
          43.21,
          55.2,
          57.17,
          55.32,
          58.01,
          56.75,
          59.1,
          68.66,
          70.65,
          50.03,
          38.62,
          38.46,
          39.25,
          46.78,
          51.81,
          57.3,
          58.04,
          62.14,
          57.51,
          53.04,
          53.3,
          48.52,
          51.83,
          52.64,
          50.47,
          49.61,
          50.75,
          48.22
         ],
         "yaxis": "y5"
        },
        {
         "mode": "lines+markers",
         "name": "2015",
         "type": "scatter",
         "x": [
          "2015-01-01T00:00:00",
          "2015-01-02T00:00:00",
          "2015-01-03T00:00:00",
          "2015-01-04T00:00:00",
          "2015-01-05T00:00:00",
          "2015-01-06T00:00:00",
          "2015-01-07T00:00:00",
          "2015-01-08T00:00:00",
          "2015-01-09T00:00:00",
          "2015-01-10T00:00:00",
          "2015-01-11T00:00:00",
          "2015-01-12T00:00:00",
          "2015-01-13T00:00:00",
          "2015-01-14T00:00:00",
          "2015-01-15T00:00:00",
          "2015-01-16T00:00:00",
          "2015-01-17T00:00:00",
          "2015-01-18T00:00:00",
          "2015-01-19T00:00:00",
          "2015-01-20T00:00:00",
          "2015-01-21T00:00:00",
          "2015-01-22T00:00:00",
          "2015-01-23T00:00:00",
          "2015-01-24T00:00:00",
          "2015-01-25T00:00:00",
          "2015-01-26T00:00:00",
          "2015-01-27T00:00:00",
          "2015-01-28T00:00:00",
          "2015-01-29T00:00:00",
          "2015-01-30T00:00:00",
          "2015-01-31T00:00:00",
          "2015-02-01T00:00:00",
          "2015-02-02T00:00:00",
          "2015-02-03T00:00:00",
          "2015-02-04T00:00:00",
          "2015-02-05T00:00:00",
          "2015-02-06T00:00:00",
          "2015-02-07T00:00:00",
          "2015-02-08T00:00:00",
          "2015-02-09T00:00:00",
          "2015-02-10T00:00:00",
          "2015-02-11T00:00:00",
          "2015-02-12T00:00:00",
          "2015-02-13T00:00:00",
          "2015-02-14T00:00:00",
          "2015-02-15T00:00:00",
          "2015-02-16T00:00:00",
          "2015-02-17T00:00:00",
          "2015-02-18T00:00:00",
          "2015-02-19T00:00:00",
          "2015-02-20T00:00:00",
          "2015-02-21T00:00:00",
          "2015-02-22T00:00:00",
          "2015-02-23T00:00:00",
          "2015-02-24T00:00:00",
          "2015-02-25T00:00:00",
          "2015-02-26T00:00:00",
          "2015-02-27T00:00:00",
          "2015-02-28T00:00:00",
          "2015-03-01T00:00:00",
          "2015-03-02T00:00:00",
          "2015-03-03T00:00:00",
          "2015-03-04T00:00:00",
          "2015-03-05T00:00:00",
          "2015-03-06T00:00:00",
          "2015-03-07T00:00:00",
          "2015-03-08T00:00:00",
          "2015-03-09T00:00:00",
          "2015-03-10T00:00:00",
          "2015-03-11T00:00:00",
          "2015-03-12T00:00:00",
          "2015-03-13T00:00:00",
          "2015-03-14T00:00:00",
          "2015-03-15T00:00:00",
          "2015-03-16T00:00:00",
          "2015-03-17T00:00:00",
          "2015-03-18T00:00:00",
          "2015-03-19T00:00:00",
          "2015-03-20T00:00:00",
          "2015-03-21T00:00:00",
          "2015-03-22T00:00:00",
          "2015-03-23T00:00:00",
          "2015-03-24T00:00:00",
          "2015-03-25T00:00:00",
          "2015-03-26T00:00:00",
          "2015-03-27T00:00:00",
          "2015-03-28T00:00:00",
          "2015-03-29T00:00:00",
          "2015-03-30T00:00:00",
          "2015-03-31T00:00:00",
          "2015-04-01T00:00:00",
          "2015-04-02T00:00:00",
          "2015-04-03T00:00:00",
          "2015-04-04T00:00:00",
          "2015-04-05T00:00:00",
          "2015-04-06T00:00:00",
          "2015-04-07T00:00:00",
          "2015-04-08T00:00:00",
          "2015-04-09T00:00:00",
          "2015-04-10T00:00:00",
          "2015-04-11T00:00:00",
          "2015-04-12T00:00:00",
          "2015-04-13T00:00:00",
          "2015-04-14T00:00:00",
          "2015-04-15T00:00:00",
          "2015-04-16T00:00:00",
          "2015-04-17T00:00:00",
          "2015-04-18T00:00:00",
          "2015-04-19T00:00:00",
          "2015-04-20T00:00:00",
          "2015-04-21T00:00:00",
          "2015-04-22T00:00:00",
          "2015-04-23T00:00:00",
          "2015-04-24T00:00:00",
          "2015-04-25T00:00:00",
          "2015-04-26T00:00:00",
          "2015-04-27T00:00:00",
          "2015-04-28T00:00:00",
          "2015-04-29T00:00:00",
          "2015-04-30T00:00:00",
          "2015-05-01T00:00:00",
          "2015-05-02T00:00:00",
          "2015-05-03T00:00:00",
          "2015-05-04T00:00:00",
          "2015-05-05T00:00:00",
          "2015-05-06T00:00:00",
          "2015-05-07T00:00:00",
          "2015-05-08T00:00:00",
          "2015-05-09T00:00:00",
          "2015-05-10T00:00:00",
          "2015-05-11T00:00:00",
          "2015-05-12T00:00:00",
          "2015-05-13T00:00:00",
          "2015-05-14T00:00:00",
          "2015-05-15T00:00:00",
          "2015-05-16T00:00:00",
          "2015-05-17T00:00:00",
          "2015-05-18T00:00:00",
          "2015-05-19T00:00:00",
          "2015-05-20T00:00:00",
          "2015-05-21T00:00:00",
          "2015-05-22T00:00:00",
          "2015-05-23T00:00:00",
          "2015-05-24T00:00:00",
          "2015-05-25T00:00:00",
          "2015-05-26T00:00:00",
          "2015-05-27T00:00:00",
          "2015-05-28T00:00:00",
          "2015-05-29T00:00:00",
          "2015-05-30T00:00:00",
          "2015-05-31T00:00:00",
          "2015-06-01T00:00:00",
          "2015-06-02T00:00:00",
          "2015-06-03T00:00:00",
          "2015-06-04T00:00:00",
          "2015-06-05T00:00:00",
          "2015-06-06T00:00:00",
          "2015-06-07T00:00:00",
          "2015-06-08T00:00:00",
          "2015-06-09T00:00:00",
          "2015-06-10T00:00:00",
          "2015-06-11T00:00:00",
          "2015-06-12T00:00:00",
          "2015-06-13T00:00:00",
          "2015-06-14T00:00:00",
          "2015-06-15T00:00:00",
          "2015-06-16T00:00:00",
          "2015-06-17T00:00:00",
          "2015-06-18T00:00:00",
          "2015-06-19T00:00:00",
          "2015-06-20T00:00:00",
          "2015-06-21T00:00:00",
          "2015-06-22T00:00:00",
          "2015-06-23T00:00:00",
          "2015-06-24T00:00:00",
          "2015-06-25T00:00:00",
          "2015-06-26T00:00:00",
          "2015-06-27T00:00:00",
          "2015-06-28T00:00:00",
          "2015-06-29T00:00:00",
          "2015-06-30T00:00:00",
          "2015-07-01T00:00:00",
          "2015-07-02T00:00:00",
          "2015-07-03T00:00:00",
          "2015-07-04T00:00:00",
          "2015-07-05T00:00:00",
          "2015-07-06T00:00:00",
          "2015-07-07T00:00:00",
          "2015-07-08T00:00:00",
          "2015-07-09T00:00:00",
          "2015-07-10T00:00:00",
          "2015-07-11T00:00:00",
          "2015-07-12T00:00:00",
          "2015-07-13T00:00:00",
          "2015-07-14T00:00:00",
          "2015-07-15T00:00:00",
          "2015-07-16T00:00:00",
          "2015-07-17T00:00:00",
          "2015-07-18T00:00:00",
          "2015-07-19T00:00:00",
          "2015-07-20T00:00:00",
          "2015-07-21T00:00:00",
          "2015-07-22T00:00:00",
          "2015-07-23T00:00:00",
          "2015-07-24T00:00:00",
          "2015-07-25T00:00:00",
          "2015-07-26T00:00:00",
          "2015-07-27T00:00:00",
          "2015-07-28T00:00:00",
          "2015-07-29T00:00:00",
          "2015-07-30T00:00:00",
          "2015-07-31T00:00:00",
          "2015-08-01T00:00:00",
          "2015-08-02T00:00:00",
          "2015-08-03T00:00:00",
          "2015-08-04T00:00:00",
          "2015-08-05T00:00:00",
          "2015-08-06T00:00:00",
          "2015-08-07T00:00:00",
          "2015-08-08T00:00:00",
          "2015-08-09T00:00:00",
          "2015-08-10T00:00:00",
          "2015-08-11T00:00:00",
          "2015-08-12T00:00:00",
          "2015-08-13T00:00:00",
          "2015-08-14T00:00:00",
          "2015-08-15T00:00:00",
          "2015-08-16T00:00:00",
          "2015-08-17T00:00:00",
          "2015-08-18T00:00:00",
          "2015-08-19T00:00:00",
          "2015-08-20T00:00:00",
          "2015-08-21T00:00:00",
          "2015-08-22T00:00:00",
          "2015-08-23T00:00:00",
          "2015-08-24T00:00:00",
          "2015-08-25T00:00:00",
          "2015-08-26T00:00:00",
          "2015-08-27T00:00:00",
          "2015-08-28T00:00:00",
          "2015-08-29T00:00:00",
          "2015-08-30T00:00:00",
          "2015-08-31T00:00:00",
          "2015-09-01T00:00:00",
          "2015-09-02T00:00:00",
          "2015-09-03T00:00:00",
          "2015-09-04T00:00:00",
          "2015-09-05T00:00:00",
          "2015-09-06T00:00:00",
          "2015-09-07T00:00:00",
          "2015-09-08T00:00:00",
          "2015-09-09T00:00:00",
          "2015-09-10T00:00:00",
          "2015-09-11T00:00:00",
          "2015-09-12T00:00:00",
          "2015-09-13T00:00:00",
          "2015-09-14T00:00:00",
          "2015-09-15T00:00:00",
          "2015-09-16T00:00:00",
          "2015-09-17T00:00:00",
          "2015-09-18T00:00:00",
          "2015-09-19T00:00:00",
          "2015-09-20T00:00:00",
          "2015-09-21T00:00:00",
          "2015-09-22T00:00:00",
          "2015-09-23T00:00:00",
          "2015-09-24T00:00:00",
          "2015-09-25T00:00:00",
          "2015-09-26T00:00:00",
          "2015-09-27T00:00:00",
          "2015-09-28T00:00:00",
          "2015-09-29T00:00:00",
          "2015-09-30T00:00:00",
          "2015-10-01T00:00:00",
          "2015-10-02T00:00:00",
          "2015-10-03T00:00:00",
          "2015-10-04T00:00:00",
          "2015-10-05T00:00:00",
          "2015-10-06T00:00:00",
          "2015-10-07T00:00:00",
          "2015-10-08T00:00:00",
          "2015-10-09T00:00:00",
          "2015-10-10T00:00:00",
          "2015-10-11T00:00:00",
          "2015-10-12T00:00:00",
          "2015-10-13T00:00:00",
          "2015-10-14T00:00:00",
          "2015-10-15T00:00:00",
          "2015-10-16T00:00:00",
          "2015-10-17T00:00:00",
          "2015-10-18T00:00:00",
          "2015-10-19T00:00:00",
          "2015-10-20T00:00:00",
          "2015-10-21T00:00:00",
          "2015-10-22T00:00:00",
          "2015-10-23T00:00:00",
          "2015-10-24T00:00:00",
          "2015-10-25T00:00:00",
          "2015-10-26T00:00:00",
          "2015-10-27T00:00:00",
          "2015-10-28T00:00:00",
          "2015-10-29T00:00:00",
          "2015-10-30T00:00:00",
          "2015-10-31T00:00:00",
          "2015-11-01T00:00:00",
          "2015-11-02T00:00:00",
          "2015-11-03T00:00:00",
          "2015-11-04T00:00:00",
          "2015-11-05T00:00:00",
          "2015-11-06T00:00:00",
          "2015-11-07T00:00:00",
          "2015-11-08T00:00:00",
          "2015-11-09T00:00:00",
          "2015-11-10T00:00:00",
          "2015-11-11T00:00:00",
          "2015-11-12T00:00:00",
          "2015-11-13T00:00:00",
          "2015-11-14T00:00:00",
          "2015-11-15T00:00:00",
          "2015-11-16T00:00:00",
          "2015-11-17T00:00:00",
          "2015-11-18T00:00:00",
          "2015-11-19T00:00:00",
          "2015-11-20T00:00:00",
          "2015-11-21T00:00:00",
          "2015-11-22T00:00:00",
          "2015-11-23T00:00:00",
          "2015-11-24T00:00:00",
          "2015-11-25T00:00:00",
          "2015-11-26T00:00:00",
          "2015-11-27T00:00:00",
          "2015-11-28T00:00:00",
          "2015-11-29T00:00:00",
          "2015-11-30T00:00:00",
          "2015-12-01T00:00:00",
          "2015-12-02T00:00:00",
          "2015-12-03T00:00:00",
          "2015-12-04T00:00:00",
          "2015-12-05T00:00:00",
          "2015-12-06T00:00:00",
          "2015-12-07T00:00:00",
          "2015-12-08T00:00:00",
          "2015-12-09T00:00:00",
          "2015-12-10T00:00:00",
          "2015-12-11T00:00:00",
          "2015-12-12T00:00:00",
          "2015-12-13T00:00:00",
          "2015-12-14T00:00:00",
          "2015-12-15T00:00:00",
          "2015-12-16T00:00:00",
          "2015-12-17T00:00:00",
          "2015-12-18T00:00:00",
          "2015-12-19T00:00:00",
          "2015-12-20T00:00:00",
          "2015-12-21T00:00:00",
          "2015-12-22T00:00:00",
          "2015-12-23T00:00:00",
          "2015-12-24T00:00:00",
          "2015-12-25T00:00:00",
          "2015-12-26T00:00:00",
          "2015-12-27T00:00:00",
          "2015-12-28T00:00:00",
          "2015-12-29T00:00:00",
          "2015-12-30T00:00:00",
          "2015-12-31T00:00:00"
         ],
         "xaxis": "x",
         "y": [
          33.85,
          31.83,
          69.55,
          130.36,
          122.88,
          134.97,
          134.82,
          138.13,
          140.6,
          134.06,
          131.1,
          148.51,
          145.48,
          166.7,
          124.64,
          136.4,
          125.49,
          120.45,
          148.49,
          146.31,
          63.23,
          39.65,
          39.98,
          38.77,
          45.62,
          60.96,
          40.96,
          49.71,
          62.03,
          69.78,
          67.66,
          96.69,
          84.49,
          66.38,
          53.28,
          51.24,
          63.45,
          58.15,
          66.72,
          74.29,
          79.54,
          95.13,
          69.47,
          83.96,
          137.27,
          61.89,
          74.74,
          75.66,
          79.83,
          81.44,
          81.04,
          69.59,
          70.25,
          36.38,
          34.14,
          34.91,
          23.22,
          22.36,
          16.49,
          12.44,
          19.11,
          16.04,
          17.44,
          28.86,
          32.04,
          16.83,
          16.12,
          15.2,
          18.88,
          29.48,
          30.72,
          23.31,
          29.21,
          30.59,
          33.16,
          39.8,
          39.16,
          36.77,
          35.07,
          32.01,
          32.52,
          32.13,
          31.79,
          27.92,
          28,
          27.34,
          32.82,
          37.35,
          28.77,
          30.62,
          36.05,
          31.04,
          35.48,
          28.46,
          32.3,
          44.66,
          29.78,
          24.84,
          30.04,
          30.32,
          34.01,
          28.79,
          38.86,
          36.68,
          34.8,
          37.84,
          30.04,
          28.99,
          34.39,
          33.63,
          30.3,
          24.36,
          29.32,
          36.5,
          37,
          32.83,
          32.27,
          29.46,
          29.93,
          29.08,
          26.55,
          26.99,
          35.46,
          31.33,
          35.82,
          39.27,
          35.52,
          30.52,
          34.25,
          31.32,
          36.11,
          52.21,
          56.95,
          47.74,
          44.08,
          41.94,
          43.23,
          40.95,
          40.32,
          42.24,
          56.95,
          45.91,
          36.5,
          37.22,
          40.26,
          33.51,
          29.05,
          35.74,
          41.74,
          40.66,
          36.27,
          35.12,
          46.09,
          54.47,
          57.58,
          75,
          71.88,
          46.57,
          50.63,
          46.56,
          43.33,
          35.31,
          40.11,
          41.36,
          56.02,
          60.68,
          59.1,
          55.88,
          59.55,
          55.65,
          48.06,
          66.21,
          50.28,
          51.94,
          62.47,
          50.86,
          45.56,
          42.36,
          41.99,
          43.97,
          41.11,
          40.5,
          39.09,
          37.32,
          61.61,
          64.99,
          38.68,
          42.09,
          42.84,
          48.61,
          53.64,
          42.6,
          48.01,
          41.83,
          49.32,
          44.18,
          31.83,
          40.17,
          42.26,
          42.68,
          41.37,
          38.36,
          36.49,
          33.95,
          37.38,
          37.05,
          33.05,
          30.92,
          28.99,
          28.56,
          29.31,
          25.17,
          23.1,
          24.2,
          30.76,
          31.77,
          37.94,
          37.79,
          39.64,
          43.18,
          36.5,
          35.68,
          41.69,
          39.85,
          39.16,
          38.58,
          33.42,
          33.29,
          29.73,
          32.71,
          25.85,
          20.57,
          21.67,
          28.2,
          33.25,
          38.16,
          36.07,
          31.88,
          25.74,
          32.56,
          31.16,
          28.16,
          23,
          18.96,
          18.6,
          17.86,
          23.02,
          26.99,
          23.17,
          23.76,
          27.35,
          22.77,
          24.07,
          34.81,
          46.05,
          51.19,
          43.99,
          46.66,
          49.72,
          48.13,
          40.48,
          47.21,
          39.93,
          27.96,
          23.06,
          18.66,
          18.24,
          22.95,
          29.98,
          30.43,
          26.35,
          25.2,
          21.93,
          22.52,
          26.24,
          24.31,
          34.91,
          36.94,
          41.76,
          37.01,
          29.59,
          27.47,
          29.69,
          30.83,
          33.46,
          35.14,
          28.75,
          31.11,
          33.05,
          6.78,
          21.49,
          33.27,
          36.75,
          37.48,
          22.53,
          30.27,
          34.26,
          28.26,
          23.85,
          26.14,
          22.81,
          25.55,
          28.72,
          35.77,
          51.64,
          42.75,
          45.66,
          56.81,
          45.99,
          46.52,
          67.43,
          49.64,
          55.64,
          69.34,
          48.34,
          47.57,
          50.58,
          48.04,
          49.4,
          60.07,
          41.89,
          45.24,
          55.18,
          64.78,
          63.08,
          63.4,
          74.83,
          67.9,
          35.62,
          40.68,
          57.48,
          60.1,
          59.13,
          73.94,
          57.35,
          52.71,
          52.48,
          43.76,
          68.78,
          75.74,
          81.3,
          90.35,
          61.29,
          50.46,
          57.97,
          49.91,
          37.83,
          38.84,
          34.31,
          52.2,
          59.43,
          65.5,
          74.04,
          126.19,
          100.15,
          163.07,
          108.68,
          65.53,
          62.62,
          69.77,
          72.76,
          69.14,
          60.62,
          72.74,
          72.69
         ],
         "yaxis": "y"
        },
        {
         "mode": "lines+markers",
         "name": "2020",
         "type": "scatter",
         "x": [
          "2020-01-01T00:00:00",
          "2020-01-02T00:00:00",
          "2020-01-03T00:00:00",
          "2020-01-04T00:00:00",
          "2020-01-05T00:00:00",
          "2020-01-06T00:00:00",
          "2020-01-07T00:00:00",
          "2020-01-08T00:00:00",
          "2020-01-09T00:00:00",
          "2020-01-10T00:00:00",
          "2020-01-11T00:00:00",
          "2020-01-12T00:00:00",
          "2020-01-13T00:00:00",
          "2020-01-14T00:00:00",
          "2020-01-15T00:00:00",
          "2020-01-16T00:00:00",
          "2020-01-17T00:00:00",
          "2020-01-18T00:00:00",
          "2020-01-19T00:00:00",
          "2020-01-20T00:00:00",
          "2020-01-21T00:00:00",
          "2020-01-22T00:00:00",
          "2020-01-23T00:00:00",
          "2020-01-24T00:00:00",
          "2020-01-25T00:00:00",
          "2020-01-26T00:00:00",
          "2020-01-27T00:00:00",
          "2020-01-28T00:00:00",
          "2020-01-29T00:00:00",
          "2020-01-30T00:00:00",
          "2020-01-31T00:00:00",
          "2020-02-01T00:00:00",
          "2020-02-02T00:00:00",
          "2020-02-03T00:00:00",
          "2020-02-04T00:00:00",
          "2020-02-05T00:00:00",
          "2020-02-06T00:00:00",
          "2020-02-07T00:00:00",
          "2020-02-08T00:00:00",
          "2020-02-09T00:00:00",
          "2020-02-10T00:00:00",
          "2020-02-11T00:00:00",
          "2020-02-12T00:00:00",
          "2020-02-13T00:00:00",
          "2020-02-14T00:00:00",
          "2020-02-15T00:00:00",
          "2020-02-16T00:00:00",
          "2020-02-17T00:00:00",
          "2020-02-18T00:00:00",
          "2020-02-19T00:00:00",
          "2020-02-20T00:00:00",
          "2020-02-21T00:00:00",
          "2020-02-22T00:00:00",
          "2020-02-23T00:00:00",
          "2020-02-24T00:00:00",
          "2020-02-25T00:00:00",
          "2020-02-26T00:00:00",
          "2020-02-27T00:00:00",
          "2020-02-28T00:00:00",
          "2020-02-29T00:00:00",
          "2020-03-01T00:00:00",
          "2020-03-02T00:00:00",
          "2020-03-03T00:00:00",
          "2020-03-04T00:00:00",
          "2020-03-05T00:00:00",
          "2020-03-06T00:00:00",
          "2020-03-07T00:00:00",
          "2020-03-08T00:00:00",
          "2020-03-09T00:00:00",
          "2020-03-10T00:00:00",
          "2020-03-11T00:00:00",
          "2020-03-12T00:00:00",
          "2020-03-13T00:00:00",
          "2020-03-14T00:00:00",
          "2020-03-15T00:00:00",
          "2020-03-16T00:00:00",
          "2020-03-17T00:00:00",
          "2020-03-18T00:00:00",
          "2020-03-19T00:00:00",
          "2020-03-20T00:00:00",
          "2020-03-21T00:00:00",
          "2020-03-22T00:00:00",
          "2020-03-23T00:00:00",
          "2020-03-24T00:00:00",
          "2020-03-25T00:00:00",
          "2020-03-26T00:00:00",
          "2020-03-27T00:00:00",
          "2020-03-28T00:00:00",
          "2020-03-29T00:00:00",
          "2020-03-30T00:00:00",
          "2020-03-31T00:00:00",
          "2020-04-01T00:00:00",
          "2020-04-02T00:00:00",
          "2020-04-03T00:00:00",
          "2020-04-04T00:00:00",
          "2020-04-05T00:00:00",
          "2020-04-06T00:00:00",
          "2020-04-07T00:00:00",
          "2020-04-08T00:00:00",
          "2020-04-09T00:00:00",
          "2020-04-10T00:00:00",
          "2020-04-11T00:00:00",
          "2020-04-12T00:00:00",
          "2020-04-13T00:00:00",
          "2020-04-14T00:00:00",
          "2020-04-15T00:00:00",
          "2020-04-16T00:00:00",
          "2020-04-17T00:00:00",
          "2020-04-18T00:00:00",
          "2020-04-19T00:00:00",
          "2020-04-20T00:00:00",
          "2020-04-21T00:00:00",
          "2020-04-22T00:00:00",
          "2020-04-23T00:00:00",
          "2020-04-24T00:00:00",
          "2020-04-25T00:00:00",
          "2020-04-26T00:00:00",
          "2020-04-27T00:00:00",
          "2020-04-28T00:00:00",
          "2020-04-29T00:00:00",
          "2020-04-30T00:00:00",
          "2020-05-01T00:00:00",
          "2020-05-02T00:00:00",
          "2020-05-03T00:00:00",
          "2020-05-04T00:00:00",
          "2020-05-05T00:00:00",
          "2020-05-06T00:00:00",
          "2020-05-07T00:00:00",
          "2020-05-08T00:00:00",
          "2020-05-09T00:00:00",
          "2020-05-10T00:00:00",
          "2020-05-11T00:00:00",
          "2020-05-12T00:00:00",
          "2020-05-13T00:00:00",
          "2020-05-14T00:00:00",
          "2020-05-15T00:00:00",
          "2020-05-16T00:00:00",
          "2020-05-17T00:00:00",
          "2020-05-18T00:00:00",
          "2020-05-19T00:00:00",
          "2020-05-20T00:00:00",
          "2020-05-21T00:00:00",
          "2020-05-22T00:00:00",
          "2020-05-23T00:00:00",
          "2020-05-24T00:00:00",
          "2020-05-25T00:00:00",
          "2020-05-26T00:00:00",
          "2020-05-27T00:00:00",
          "2020-05-28T00:00:00",
          "2020-05-29T00:00:00",
          "2020-05-30T00:00:00",
          "2020-05-31T00:00:00",
          "2020-06-01T00:00:00",
          "2020-06-02T00:00:00",
          "2020-06-03T00:00:00",
          "2020-06-04T00:00:00",
          "2020-06-05T00:00:00",
          "2020-06-06T00:00:00",
          "2020-06-07T00:00:00",
          "2020-06-08T00:00:00",
          "2020-06-09T00:00:00",
          "2020-06-10T00:00:00",
          "2020-06-11T00:00:00",
          "2020-06-12T00:00:00",
          "2020-06-13T00:00:00",
          "2020-06-14T00:00:00",
          "2020-06-15T00:00:00",
          "2020-06-16T00:00:00",
          "2020-06-17T00:00:00",
          "2020-06-18T00:00:00",
          "2020-06-19T00:00:00",
          "2020-06-20T00:00:00",
          "2020-06-21T00:00:00",
          "2020-06-22T00:00:00",
          "2020-06-23T00:00:00",
          "2020-06-24T00:00:00",
          "2020-06-25T00:00:00",
          "2020-06-26T00:00:00",
          "2020-06-27T00:00:00",
          "2020-06-28T00:00:00",
          "2020-06-29T00:00:00",
          "2020-06-30T00:00:00",
          "2020-07-01T00:00:00"
         ],
         "xaxis": "x6",
         "y": [
          56.85,
          58.26,
          53.02,
          53.46,
          47.94,
          47.01,
          43.53,
          44.73,
          36.87,
          37.73,
          40.97,
          48.65,
          53.64,
          46.34,
          41.76,
          43.54,
          40.15,
          39.56,
          38.38,
          39.27,
          48.02,
          45.17,
          36.32,
          34.23,
          41.37,
          48.8,
          53.66,
          42.76,
          38.01,
          36.77,
          34.03,
          35.95,
          36.46,
          37.5,
          43.09,
          40.07,
          36.16,
          38.38,
          40.72,
          40.04,
          39.99,
          39.73,
          40.92,
          36.91,
          34.06,
          32.48,
          38.77,
          42.77,
          37.01,
          44.11,
          39.61,
          35.81,
          33.46,
          38.33,
          33.19,
          39.61,
          42.7,
          43.64,
          41.44,
          34.88,
          31.4,
          39.78,
          37.02,
          37.32,
          32.27,
          29.56,
          29.01,
          31.51,
          29.29,
          30.99,
          32.88,
          35.31,
          31.36,
          34.29,
          31.09,
          31.07,
          32.31,
          32.99,
          36.15,
          34.3,
          36.61,
          32.61,
          30.31,
          31.91,
          34.43,
          33.68,
          27.4,
          25.22,
          23.98,
          23.21,
          26.5,
          26.73,
          22.22,
          21.54,
          23.06,
          25.14,
          26.41,
          25.53,
          23.41,
          23.84,
          27.71,
          28.33,
          26.99,
          27.95,
          28.76,
          28.36,
          30.36,
          26.06,
          27.18,
          29.94,
          31.57,
          29.75,
          29.39,
          30.02,
          32.62,
          28.65,
          31.61,
          29.94,
          28.6,
          28.86,
          32.99,
          36.43,
          33.93,
          32.48,
          31.35,
          30.86,
          29.53,
          25.51,
          27.98,
          30.14,
          28.71,
          28.13,
          29.43,
          32.29,
          30.82,
          27.39,
          27.62,
          28.76,
          28.97,
          30.58,
          28.73,
          25.55,
          28.56,
          28.82,
          26.54,
          27.22,
          27.06,
          25.79,
          29.02,
          32.19,
          36.19,
          34.91,
          35,
          35.78,
          36.05,
          38.85,
          35.51,
          31.81,
          30.79,
          31.81,
          33.83,
          33.27,
          36.54,
          38.64,
          36.62,
          40,
          35.38,
          32.62,
          29.4,
          28.68,
          27.96,
          26.38,
          28.84,
          34.32,
          33.32,
          31.45,
          30.48,
          32.64,
          31.43,
          29.27,
          27.97,
          28.48,
          29.06
         ],
         "yaxis": "y6"
        }
       ],
       "layout": {
        "annotations": [
         {
          "font": {
           "size": 16
          },
          "showarrow": false,
          "text": "2015",
          "x": 0.14444444444444446,
          "xanchor": "center",
          "xref": "paper",
          "y": 1,
          "yanchor": "bottom",
          "yref": "paper"
         },
         {
          "font": {
           "size": 16
          },
          "showarrow": false,
          "text": "2016",
          "x": 0.5,
          "xanchor": "center",
          "xref": "paper",
          "y": 1,
          "yanchor": "bottom",
          "yref": "paper"
         },
         {
          "font": {
           "size": 16
          },
          "showarrow": false,
          "text": "2017",
          "x": 0.8555555555555556,
          "xanchor": "center",
          "xref": "paper",
          "y": 1,
          "yanchor": "bottom",
          "yref": "paper"
         },
         {
          "font": {
           "size": 16
          },
          "showarrow": false,
          "text": "2018",
          "x": 0.14444444444444446,
          "xanchor": "center",
          "xref": "paper",
          "y": 0.375,
          "yanchor": "bottom",
          "yref": "paper"
         },
         {
          "font": {
           "size": 16
          },
          "showarrow": false,
          "text": "2019",
          "x": 0.5,
          "xanchor": "center",
          "xref": "paper",
          "y": 0.375,
          "yanchor": "bottom",
          "yref": "paper"
         }
        ],
        "height": 700,
        "template": {
         "data": {
          "bar": [
           {
            "error_x": {
             "color": "#2a3f5f"
            },
            "error_y": {
             "color": "#2a3f5f"
            },
            "marker": {
             "line": {
              "color": "#E5ECF6",
              "width": 0.5
             },
             "pattern": {
              "fillmode": "overlay",
              "size": 10,
              "solidity": 0.2
             }
            },
            "type": "bar"
           }
          ],
          "barpolar": [
           {
            "marker": {
             "line": {
              "color": "#E5ECF6",
              "width": 0.5
             },
             "pattern": {
              "fillmode": "overlay",
              "size": 10,
              "solidity": 0.2
             }
            },
            "type": "barpolar"
           }
          ],
          "carpet": [
           {
            "aaxis": {
             "endlinecolor": "#2a3f5f",
             "gridcolor": "white",
             "linecolor": "white",
             "minorgridcolor": "white",
             "startlinecolor": "#2a3f5f"
            },
            "baxis": {
             "endlinecolor": "#2a3f5f",
             "gridcolor": "white",
             "linecolor": "white",
             "minorgridcolor": "white",
             "startlinecolor": "#2a3f5f"
            },
            "type": "carpet"
           }
          ],
          "choropleth": [
           {
            "colorbar": {
             "outlinewidth": 0,
             "ticks": ""
            },
            "type": "choropleth"
           }
          ],
          "contour": [
           {
            "colorbar": {
             "outlinewidth": 0,
             "ticks": ""
            },
            "colorscale": [
             [
              0,
              "#0d0887"
             ],
             [
              0.1111111111111111,
              "#46039f"
             ],
             [
              0.2222222222222222,
              "#7201a8"
             ],
             [
              0.3333333333333333,
              "#9c179e"
             ],
             [
              0.4444444444444444,
              "#bd3786"
             ],
             [
              0.5555555555555556,
              "#d8576b"
             ],
             [
              0.6666666666666666,
              "#ed7953"
             ],
             [
              0.7777777777777778,
              "#fb9f3a"
             ],
             [
              0.8888888888888888,
              "#fdca26"
             ],
             [
              1,
              "#f0f921"
             ]
            ],
            "type": "contour"
           }
          ],
          "contourcarpet": [
           {
            "colorbar": {
             "outlinewidth": 0,
             "ticks": ""
            },
            "type": "contourcarpet"
           }
          ],
          "heatmap": [
           {
            "colorbar": {
             "outlinewidth": 0,
             "ticks": ""
            },
            "colorscale": [
             [
              0,
              "#0d0887"
             ],
             [
              0.1111111111111111,
              "#46039f"
             ],
             [
              0.2222222222222222,
              "#7201a8"
             ],
             [
              0.3333333333333333,
              "#9c179e"
             ],
             [
              0.4444444444444444,
              "#bd3786"
             ],
             [
              0.5555555555555556,
              "#d8576b"
             ],
             [
              0.6666666666666666,
              "#ed7953"
             ],
             [
              0.7777777777777778,
              "#fb9f3a"
             ],
             [
              0.8888888888888888,
              "#fdca26"
             ],
             [
              1,
              "#f0f921"
             ]
            ],
            "type": "heatmap"
           }
          ],
          "heatmapgl": [
           {
            "colorbar": {
             "outlinewidth": 0,
             "ticks": ""
            },
            "colorscale": [
             [
              0,
              "#0d0887"
             ],
             [
              0.1111111111111111,
              "#46039f"
             ],
             [
              0.2222222222222222,
              "#7201a8"
             ],
             [
              0.3333333333333333,
              "#9c179e"
             ],
             [
              0.4444444444444444,
              "#bd3786"
             ],
             [
              0.5555555555555556,
              "#d8576b"
             ],
             [
              0.6666666666666666,
              "#ed7953"
             ],
             [
              0.7777777777777778,
              "#fb9f3a"
             ],
             [
              0.8888888888888888,
              "#fdca26"
             ],
             [
              1,
              "#f0f921"
             ]
            ],
            "type": "heatmapgl"
           }
          ],
          "histogram": [
           {
            "marker": {
             "pattern": {
              "fillmode": "overlay",
              "size": 10,
              "solidity": 0.2
             }
            },
            "type": "histogram"
           }
          ],
          "histogram2d": [
           {
            "colorbar": {
             "outlinewidth": 0,
             "ticks": ""
            },
            "colorscale": [
             [
              0,
              "#0d0887"
             ],
             [
              0.1111111111111111,
              "#46039f"
             ],
             [
              0.2222222222222222,
              "#7201a8"
             ],
             [
              0.3333333333333333,
              "#9c179e"
             ],
             [
              0.4444444444444444,
              "#bd3786"
             ],
             [
              0.5555555555555556,
              "#d8576b"
             ],
             [
              0.6666666666666666,
              "#ed7953"
             ],
             [
              0.7777777777777778,
              "#fb9f3a"
             ],
             [
              0.8888888888888888,
              "#fdca26"
             ],
             [
              1,
              "#f0f921"
             ]
            ],
            "type": "histogram2d"
           }
          ],
          "histogram2dcontour": [
           {
            "colorbar": {
             "outlinewidth": 0,
             "ticks": ""
            },
            "colorscale": [
             [
              0,
              "#0d0887"
             ],
             [
              0.1111111111111111,
              "#46039f"
             ],
             [
              0.2222222222222222,
              "#7201a8"
             ],
             [
              0.3333333333333333,
              "#9c179e"
             ],
             [
              0.4444444444444444,
              "#bd3786"
             ],
             [
              0.5555555555555556,
              "#d8576b"
             ],
             [
              0.6666666666666666,
              "#ed7953"
             ],
             [
              0.7777777777777778,
              "#fb9f3a"
             ],
             [
              0.8888888888888888,
              "#fdca26"
             ],
             [
              1,
              "#f0f921"
             ]
            ],
            "type": "histogram2dcontour"
           }
          ],
          "mesh3d": [
           {
            "colorbar": {
             "outlinewidth": 0,
             "ticks": ""
            },
            "type": "mesh3d"
           }
          ],
          "parcoords": [
           {
            "line": {
             "colorbar": {
              "outlinewidth": 0,
              "ticks": ""
             }
            },
            "type": "parcoords"
           }
          ],
          "pie": [
           {
            "automargin": true,
            "type": "pie"
           }
          ],
          "scatter": [
           {
            "marker": {
             "colorbar": {
              "outlinewidth": 0,
              "ticks": ""
             }
            },
            "type": "scatter"
           }
          ],
          "scatter3d": [
           {
            "line": {
             "colorbar": {
              "outlinewidth": 0,
              "ticks": ""
             }
            },
            "marker": {
             "colorbar": {
              "outlinewidth": 0,
              "ticks": ""
             }
            },
            "type": "scatter3d"
           }
          ],
          "scattercarpet": [
           {
            "marker": {
             "colorbar": {
              "outlinewidth": 0,
              "ticks": ""
             }
            },
            "type": "scattercarpet"
           }
          ],
          "scattergeo": [
           {
            "marker": {
             "colorbar": {
              "outlinewidth": 0,
              "ticks": ""
             }
            },
            "type": "scattergeo"
           }
          ],
          "scattergl": [
           {
            "marker": {
             "colorbar": {
              "outlinewidth": 0,
              "ticks": ""
             }
            },
            "type": "scattergl"
           }
          ],
          "scattermapbox": [
           {
            "marker": {
             "colorbar": {
              "outlinewidth": 0,
              "ticks": ""
             }
            },
            "type": "scattermapbox"
           }
          ],
          "scatterpolar": [
           {
            "marker": {
             "colorbar": {
              "outlinewidth": 0,
              "ticks": ""
             }
            },
            "type": "scatterpolar"
           }
          ],
          "scatterpolargl": [
           {
            "marker": {
             "colorbar": {
              "outlinewidth": 0,
              "ticks": ""
             }
            },
            "type": "scatterpolargl"
           }
          ],
          "scatterternary": [
           {
            "marker": {
             "colorbar": {
              "outlinewidth": 0,
              "ticks": ""
             }
            },
            "type": "scatterternary"
           }
          ],
          "surface": [
           {
            "colorbar": {
             "outlinewidth": 0,
             "ticks": ""
            },
            "colorscale": [
             [
              0,
              "#0d0887"
             ],
             [
              0.1111111111111111,
              "#46039f"
             ],
             [
              0.2222222222222222,
              "#7201a8"
             ],
             [
              0.3333333333333333,
              "#9c179e"
             ],
             [
              0.4444444444444444,
              "#bd3786"
             ],
             [
              0.5555555555555556,
              "#d8576b"
             ],
             [
              0.6666666666666666,
              "#ed7953"
             ],
             [
              0.7777777777777778,
              "#fb9f3a"
             ],
             [
              0.8888888888888888,
              "#fdca26"
             ],
             [
              1,
              "#f0f921"
             ]
            ],
            "type": "surface"
           }
          ],
          "table": [
           {
            "cells": {
             "fill": {
              "color": "#EBF0F8"
             },
             "line": {
              "color": "white"
             }
            },
            "header": {
             "fill": {
              "color": "#C8D4E3"
             },
             "line": {
              "color": "white"
             }
            },
            "type": "table"
           }
          ]
         },
         "layout": {
          "annotationdefaults": {
           "arrowcolor": "#2a3f5f",
           "arrowhead": 0,
           "arrowwidth": 1
          },
          "autotypenumbers": "strict",
          "coloraxis": {
           "colorbar": {
            "outlinewidth": 0,
            "ticks": ""
           }
          },
          "colorscale": {
           "diverging": [
            [
             0,
             "#8e0152"
            ],
            [
             0.1,
             "#c51b7d"
            ],
            [
             0.2,
             "#de77ae"
            ],
            [
             0.3,
             "#f1b6da"
            ],
            [
             0.4,
             "#fde0ef"
            ],
            [
             0.5,
             "#f7f7f7"
            ],
            [
             0.6,
             "#e6f5d0"
            ],
            [
             0.7,
             "#b8e186"
            ],
            [
             0.8,
             "#7fbc41"
            ],
            [
             0.9,
             "#4d9221"
            ],
            [
             1,
             "#276419"
            ]
           ],
           "sequential": [
            [
             0,
             "#0d0887"
            ],
            [
             0.1111111111111111,
             "#46039f"
            ],
            [
             0.2222222222222222,
             "#7201a8"
            ],
            [
             0.3333333333333333,
             "#9c179e"
            ],
            [
             0.4444444444444444,
             "#bd3786"
            ],
            [
             0.5555555555555556,
             "#d8576b"
            ],
            [
             0.6666666666666666,
             "#ed7953"
            ],
            [
             0.7777777777777778,
             "#fb9f3a"
            ],
            [
             0.8888888888888888,
             "#fdca26"
            ],
            [
             1,
             "#f0f921"
            ]
           ],
           "sequentialminus": [
            [
             0,
             "#0d0887"
            ],
            [
             0.1111111111111111,
             "#46039f"
            ],
            [
             0.2222222222222222,
             "#7201a8"
            ],
            [
             0.3333333333333333,
             "#9c179e"
            ],
            [
             0.4444444444444444,
             "#bd3786"
            ],
            [
             0.5555555555555556,
             "#d8576b"
            ],
            [
             0.6666666666666666,
             "#ed7953"
            ],
            [
             0.7777777777777778,
             "#fb9f3a"
            ],
            [
             0.8888888888888888,
             "#fdca26"
            ],
            [
             1,
             "#f0f921"
            ]
           ]
          },
          "colorway": [
           "#636efa",
           "#EF553B",
           "#00cc96",
           "#ab63fa",
           "#FFA15A",
           "#19d3f3",
           "#FF6692",
           "#B6E880",
           "#FF97FF",
           "#FECB52"
          ],
          "font": {
           "color": "#2a3f5f"
          },
          "geo": {
           "bgcolor": "white",
           "lakecolor": "white",
           "landcolor": "#E5ECF6",
           "showlakes": true,
           "showland": true,
           "subunitcolor": "white"
          },
          "hoverlabel": {
           "align": "left"
          },
          "hovermode": "closest",
          "mapbox": {
           "style": "light"
          },
          "paper_bgcolor": "white",
          "plot_bgcolor": "#E5ECF6",
          "polar": {
           "angularaxis": {
            "gridcolor": "white",
            "linecolor": "white",
            "ticks": ""
           },
           "bgcolor": "#E5ECF6",
           "radialaxis": {
            "gridcolor": "white",
            "linecolor": "white",
            "ticks": ""
           }
          },
          "scene": {
           "xaxis": {
            "backgroundcolor": "#E5ECF6",
            "gridcolor": "white",
            "gridwidth": 2,
            "linecolor": "white",
            "showbackground": true,
            "ticks": "",
            "zerolinecolor": "white"
           },
           "yaxis": {
            "backgroundcolor": "#E5ECF6",
            "gridcolor": "white",
            "gridwidth": 2,
            "linecolor": "white",
            "showbackground": true,
            "ticks": "",
            "zerolinecolor": "white"
           },
           "zaxis": {
            "backgroundcolor": "#E5ECF6",
            "gridcolor": "white",
            "gridwidth": 2,
            "linecolor": "white",
            "showbackground": true,
            "ticks": "",
            "zerolinecolor": "white"
           }
          },
          "shapedefaults": {
           "line": {
            "color": "#2a3f5f"
           }
          },
          "ternary": {
           "aaxis": {
            "gridcolor": "white",
            "linecolor": "white",
            "ticks": ""
           },
           "baxis": {
            "gridcolor": "white",
            "linecolor": "white",
            "ticks": ""
           },
           "bgcolor": "#E5ECF6",
           "caxis": {
            "gridcolor": "white",
            "linecolor": "white",
            "ticks": ""
           }
          },
          "title": {
           "x": 0.05
          },
          "xaxis": {
           "automargin": true,
           "gridcolor": "white",
           "linecolor": "white",
           "ticks": "",
           "title": {
            "standoff": 15
           },
           "zerolinecolor": "white",
           "zerolinewidth": 2
          },
          "yaxis": {
           "automargin": true,
           "gridcolor": "white",
           "linecolor": "white",
           "ticks": "",
           "title": {
            "standoff": 15
           },
           "zerolinecolor": "white",
           "zerolinewidth": 2
          }
         }
        },
        "title": {
         "text": "NH3 IN DIFFERENT YEARS"
        },
        "xaxis": {
         "anchor": "y",
         "domain": [
          0,
          0.2888888888888889
         ]
        },
        "xaxis2": {
         "anchor": "y2",
         "domain": [
          0.35555555555555557,
          0.6444444444444445
         ]
        },
        "xaxis3": {
         "anchor": "y3",
         "domain": [
          0.7111111111111111,
          1
         ]
        },
        "xaxis4": {
         "anchor": "y4",
         "domain": [
          0,
          0.2888888888888889
         ]
        },
        "xaxis5": {
         "anchor": "y5",
         "domain": [
          0.35555555555555557,
          0.6444444444444445
         ]
        },
        "xaxis6": {
         "anchor": "y6",
         "domain": [
          0.7111111111111111,
          1
         ]
        },
        "yaxis": {
         "anchor": "x",
         "domain": [
          0.625,
          1
         ]
        },
        "yaxis2": {
         "anchor": "x2",
         "domain": [
          0.625,
          1
         ]
        },
        "yaxis3": {
         "anchor": "x3",
         "domain": [
          0.625,
          1
         ]
        },
        "yaxis4": {
         "anchor": "x4",
         "domain": [
          0,
          0.375
         ]
        },
        "yaxis5": {
         "anchor": "x5",
         "domain": [
          0,
          0.375
         ]
        },
        "yaxis6": {
         "anchor": "x6",
         "domain": [
          0,
          0.375
         ]
        }
       }
      },
      "text/html": [
       "<div>                            <div id=\"2b63fefd-37f9-4c5d-af2d-ec7ef8388fad\" class=\"plotly-graph-div\" style=\"height:700px; width:100%;\"></div>            <script type=\"text/javascript\">                require([\"plotly\"], function(Plotly) {                    window.PLOTLYENV=window.PLOTLYENV || {};                                    if (document.getElementById(\"2b63fefd-37f9-4c5d-af2d-ec7ef8388fad\")) {                    Plotly.newPlot(                        \"2b63fefd-37f9-4c5d-af2d-ec7ef8388fad\",                        [{\"mode\":\"lines+markers\",\"name\":\"2016\",\"x\":[\"2016-01-01T00:00:00\",\"2016-01-02T00:00:00\",\"2016-01-03T00:00:00\",\"2016-01-04T00:00:00\",\"2016-01-05T00:00:00\",\"2016-01-06T00:00:00\",\"2016-01-07T00:00:00\",\"2016-01-08T00:00:00\",\"2016-01-09T00:00:00\",\"2016-01-10T00:00:00\",\"2016-01-11T00:00:00\",\"2016-01-12T00:00:00\",\"2016-01-13T00:00:00\",\"2016-01-14T00:00:00\",\"2016-01-15T00:00:00\",\"2016-01-16T00:00:00\",\"2016-01-17T00:00:00\",\"2016-01-18T00:00:00\",\"2016-01-19T00:00:00\",\"2016-01-20T00:00:00\",\"2016-01-21T00:00:00\",\"2016-01-22T00:00:00\",\"2016-01-23T00:00:00\",\"2016-01-24T00:00:00\",\"2016-01-25T00:00:00\",\"2016-01-26T00:00:00\",\"2016-01-27T00:00:00\",\"2016-01-28T00:00:00\",\"2016-01-29T00:00:00\",\"2016-01-30T00:00:00\",\"2016-01-31T00:00:00\",\"2016-02-01T00:00:00\",\"2016-02-02T00:00:00\",\"2016-02-03T00:00:00\",\"2016-02-04T00:00:00\",\"2016-02-05T00:00:00\",\"2016-02-06T00:00:00\",\"2016-02-07T00:00:00\",\"2016-02-08T00:00:00\",\"2016-02-09T00:00:00\",\"2016-02-10T00:00:00\",\"2016-02-11T00:00:00\",\"2016-02-12T00:00:00\",\"2016-02-13T00:00:00\",\"2016-02-14T00:00:00\",\"2016-02-15T00:00:00\",\"2016-02-16T00:00:00\",\"2016-02-17T00:00:00\",\"2016-02-18T00:00:00\",\"2016-02-19T00:00:00\",\"2016-02-20T00:00:00\",\"2016-02-21T00:00:00\",\"2016-02-22T00:00:00\",\"2016-02-23T00:00:00\",\"2016-02-24T00:00:00\",\"2016-02-25T00:00:00\",\"2016-02-26T00:00:00\",\"2016-02-27T00:00:00\",\"2016-02-28T00:00:00\",\"2016-02-29T00:00:00\",\"2016-03-01T00:00:00\",\"2016-03-02T00:00:00\",\"2016-03-03T00:00:00\",\"2016-03-04T00:00:00\",\"2016-03-05T00:00:00\",\"2016-03-06T00:00:00\",\"2016-03-07T00:00:00\",\"2016-03-08T00:00:00\",\"2016-03-09T00:00:00\",\"2016-03-10T00:00:00\",\"2016-03-11T00:00:00\",\"2016-03-12T00:00:00\",\"2016-03-13T00:00:00\",\"2016-03-14T00:00:00\",\"2016-03-15T00:00:00\",\"2016-03-16T00:00:00\",\"2016-03-17T00:00:00\",\"2016-03-18T00:00:00\",\"2016-03-19T00:00:00\",\"2016-03-20T00:00:00\",\"2016-03-21T00:00:00\",\"2016-03-22T00:00:00\",\"2016-03-23T00:00:00\",\"2016-03-24T00:00:00\",\"2016-03-25T00:00:00\",\"2016-03-26T00:00:00\",\"2016-03-27T00:00:00\",\"2016-03-28T00:00:00\",\"2016-03-29T00:00:00\",\"2016-03-30T00:00:00\",\"2016-03-31T00:00:00\",\"2016-04-01T00:00:00\",\"2016-04-02T00:00:00\",\"2016-04-03T00:00:00\",\"2016-04-04T00:00:00\",\"2016-04-05T00:00:00\",\"2016-04-06T00:00:00\",\"2016-04-07T00:00:00\",\"2016-04-08T00:00:00\",\"2016-04-09T00:00:00\",\"2016-04-10T00:00:00\",\"2016-04-11T00:00:00\",\"2016-04-12T00:00:00\",\"2016-04-13T00:00:00\",\"2016-04-14T00:00:00\",\"2016-04-15T00:00:00\",\"2016-04-16T00:00:00\",\"2016-04-17T00:00:00\",\"2016-04-18T00:00:00\",\"2016-04-19T00:00:00\",\"2016-04-20T00:00:00\",\"2016-04-21T00:00:00\",\"2016-04-22T00:00:00\",\"2016-04-23T00:00:00\",\"2016-04-24T00:00:00\",\"2016-04-25T00:00:00\",\"2016-04-26T00:00:00\",\"2016-04-27T00:00:00\",\"2016-04-28T00:00:00\",\"2016-04-29T00:00:00\",\"2016-04-30T00:00:00\",\"2016-05-01T00:00:00\",\"2016-05-02T00:00:00\",\"2016-05-03T00:00:00\",\"2016-05-04T00:00:00\",\"2016-05-05T00:00:00\",\"2016-05-06T00:00:00\",\"2016-05-07T00:00:00\",\"2016-05-08T00:00:00\",\"2016-05-09T00:00:00\",\"2016-05-10T00:00:00\",\"2016-05-11T00:00:00\",\"2016-05-12T00:00:00\",\"2016-05-13T00:00:00\",\"2016-05-14T00:00:00\",\"2016-05-15T00:00:00\",\"2016-05-16T00:00:00\",\"2016-05-17T00:00:00\",\"2016-05-18T00:00:00\",\"2016-05-19T00:00:00\",\"2016-05-20T00:00:00\",\"2016-05-21T00:00:00\",\"2016-05-22T00:00:00\",\"2016-05-23T00:00:00\",\"2016-05-24T00:00:00\",\"2016-05-25T00:00:00\",\"2016-05-26T00:00:00\",\"2016-05-27T00:00:00\",\"2016-05-28T00:00:00\",\"2016-05-29T00:00:00\",\"2016-05-30T00:00:00\",\"2016-05-31T00:00:00\",\"2016-06-01T00:00:00\",\"2016-06-02T00:00:00\",\"2016-06-03T00:00:00\",\"2016-06-04T00:00:00\",\"2016-06-05T00:00:00\",\"2016-06-06T00:00:00\",\"2016-06-07T00:00:00\",\"2016-06-08T00:00:00\",\"2016-06-09T00:00:00\",\"2016-06-10T00:00:00\",\"2016-06-11T00:00:00\",\"2016-06-12T00:00:00\",\"2016-06-13T00:00:00\",\"2016-06-14T00:00:00\",\"2016-06-15T00:00:00\",\"2016-06-16T00:00:00\",\"2016-06-17T00:00:00\",\"2016-06-18T00:00:00\",\"2016-06-19T00:00:00\",\"2016-06-20T00:00:00\",\"2016-06-21T00:00:00\",\"2016-06-22T00:00:00\",\"2016-06-23T00:00:00\",\"2016-06-24T00:00:00\",\"2016-06-25T00:00:00\",\"2016-06-26T00:00:00\",\"2016-06-27T00:00:00\",\"2016-06-28T00:00:00\",\"2016-06-29T00:00:00\",\"2016-06-30T00:00:00\",\"2016-07-01T00:00:00\",\"2016-07-02T00:00:00\",\"2016-07-03T00:00:00\",\"2016-07-04T00:00:00\",\"2016-07-05T00:00:00\",\"2016-07-06T00:00:00\",\"2016-07-07T00:00:00\",\"2016-07-08T00:00:00\",\"2016-07-09T00:00:00\",\"2016-07-10T00:00:00\",\"2016-07-11T00:00:00\",\"2016-07-12T00:00:00\",\"2016-07-13T00:00:00\",\"2016-07-14T00:00:00\",\"2016-07-15T00:00:00\",\"2016-07-16T00:00:00\",\"2016-07-17T00:00:00\",\"2016-07-18T00:00:00\",\"2016-07-19T00:00:00\",\"2016-07-20T00:00:00\",\"2016-07-21T00:00:00\",\"2016-07-22T00:00:00\",\"2016-07-23T00:00:00\",\"2016-07-24T00:00:00\",\"2016-07-25T00:00:00\",\"2016-07-26T00:00:00\",\"2016-07-27T00:00:00\",\"2016-07-28T00:00:00\",\"2016-07-29T00:00:00\",\"2016-07-30T00:00:00\",\"2016-07-31T00:00:00\",\"2016-08-01T00:00:00\",\"2016-08-02T00:00:00\",\"2016-08-03T00:00:00\",\"2016-08-04T00:00:00\",\"2016-08-05T00:00:00\",\"2016-08-06T00:00:00\",\"2016-08-07T00:00:00\",\"2016-08-08T00:00:00\",\"2016-08-09T00:00:00\",\"2016-08-10T00:00:00\",\"2016-08-11T00:00:00\",\"2016-08-12T00:00:00\",\"2016-08-13T00:00:00\",\"2016-08-14T00:00:00\",\"2016-08-15T00:00:00\",\"2016-08-16T00:00:00\",\"2016-08-17T00:00:00\",\"2016-08-18T00:00:00\",\"2016-08-19T00:00:00\",\"2016-08-20T00:00:00\",\"2016-08-21T00:00:00\",\"2016-08-22T00:00:00\",\"2016-08-23T00:00:00\",\"2016-08-24T00:00:00\",\"2016-08-25T00:00:00\",\"2016-08-26T00:00:00\",\"2016-08-27T00:00:00\",\"2016-08-28T00:00:00\",\"2016-08-29T00:00:00\",\"2016-08-30T00:00:00\",\"2016-08-31T00:00:00\",\"2016-09-01T00:00:00\",\"2016-09-02T00:00:00\",\"2016-09-03T00:00:00\",\"2016-09-04T00:00:00\",\"2016-09-05T00:00:00\",\"2016-09-06T00:00:00\",\"2016-09-07T00:00:00\",\"2016-09-08T00:00:00\",\"2016-09-09T00:00:00\",\"2016-09-10T00:00:00\",\"2016-09-11T00:00:00\",\"2016-09-12T00:00:00\",\"2016-09-13T00:00:00\",\"2016-09-14T00:00:00\",\"2016-09-15T00:00:00\",\"2016-09-16T00:00:00\",\"2016-09-17T00:00:00\",\"2016-09-18T00:00:00\",\"2016-09-19T00:00:00\",\"2016-09-20T00:00:00\",\"2016-09-21T00:00:00\",\"2016-09-22T00:00:00\",\"2016-09-23T00:00:00\",\"2016-09-24T00:00:00\",\"2016-09-25T00:00:00\",\"2016-09-26T00:00:00\",\"2016-09-27T00:00:00\",\"2016-09-28T00:00:00\",\"2016-09-29T00:00:00\",\"2016-09-30T00:00:00\",\"2016-10-01T00:00:00\",\"2016-10-02T00:00:00\",\"2016-10-03T00:00:00\",\"2016-10-04T00:00:00\",\"2016-10-05T00:00:00\",\"2016-10-06T00:00:00\",\"2016-10-07T00:00:00\",\"2016-10-08T00:00:00\",\"2016-10-09T00:00:00\",\"2016-10-10T00:00:00\",\"2016-10-11T00:00:00\",\"2016-10-12T00:00:00\",\"2016-10-13T00:00:00\",\"2016-10-14T00:00:00\",\"2016-10-15T00:00:00\",\"2016-10-16T00:00:00\",\"2016-10-17T00:00:00\",\"2016-10-18T00:00:00\",\"2016-10-19T00:00:00\",\"2016-10-20T00:00:00\",\"2016-10-21T00:00:00\",\"2016-10-22T00:00:00\",\"2016-10-23T00:00:00\",\"2016-10-24T00:00:00\",\"2016-10-25T00:00:00\",\"2016-10-26T00:00:00\",\"2016-10-27T00:00:00\",\"2016-10-28T00:00:00\",\"2016-10-29T00:00:00\",\"2016-10-30T00:00:00\",\"2016-10-31T00:00:00\",\"2016-11-01T00:00:00\",\"2016-11-02T00:00:00\",\"2016-11-03T00:00:00\",\"2016-11-04T00:00:00\",\"2016-11-05T00:00:00\",\"2016-11-06T00:00:00\",\"2016-11-07T00:00:00\",\"2016-11-08T00:00:00\",\"2016-11-09T00:00:00\",\"2016-11-10T00:00:00\",\"2016-11-11T00:00:00\",\"2016-11-12T00:00:00\",\"2016-11-13T00:00:00\",\"2016-11-14T00:00:00\",\"2016-11-15T00:00:00\",\"2016-11-16T00:00:00\",\"2016-11-17T00:00:00\",\"2016-11-18T00:00:00\",\"2016-11-19T00:00:00\",\"2016-11-20T00:00:00\",\"2016-11-21T00:00:00\",\"2016-11-22T00:00:00\",\"2016-11-23T00:00:00\",\"2016-11-24T00:00:00\",\"2016-11-25T00:00:00\",\"2016-11-26T00:00:00\",\"2016-11-27T00:00:00\",\"2016-11-28T00:00:00\",\"2016-11-29T00:00:00\",\"2016-11-30T00:00:00\",\"2016-12-01T00:00:00\",\"2016-12-02T00:00:00\",\"2016-12-03T00:00:00\",\"2016-12-04T00:00:00\",\"2016-12-05T00:00:00\",\"2016-12-06T00:00:00\",\"2016-12-07T00:00:00\",\"2016-12-08T00:00:00\",\"2016-12-09T00:00:00\",\"2016-12-10T00:00:00\",\"2016-12-11T00:00:00\",\"2016-12-12T00:00:00\",\"2016-12-13T00:00:00\",\"2016-12-14T00:00:00\",\"2016-12-15T00:00:00\",\"2016-12-16T00:00:00\",\"2016-12-17T00:00:00\",\"2016-12-18T00:00:00\",\"2016-12-19T00:00:00\",\"2016-12-20T00:00:00\",\"2016-12-21T00:00:00\",\"2016-12-22T00:00:00\",\"2016-12-23T00:00:00\",\"2016-12-24T00:00:00\",\"2016-12-25T00:00:00\",\"2016-12-26T00:00:00\",\"2016-12-27T00:00:00\",\"2016-12-28T00:00:00\",\"2016-12-29T00:00:00\",\"2016-12-30T00:00:00\",\"2016-12-31T00:00:00\"],\"y\":[79.87,65.11,66.4,73.73,78.22,83.7,105.21,98.29,60.24,62.87,68.11,64.5,68.5,59.65,47.42,35.05,35.01,45.72,43.49,40.44,37.76,48.9,67.05,56.64,44.74,58.38,63.16,68.84,74.39,78.01,53.86,37.51,32.1,30.46,31.31,38.98,41.58,46.76,45.57,44.85,48.24,41.33,35.09,33.55,35.13,35.02,32.58,35.79,54.55,67.61,79.34,47.95,30.92,28.75,35.85,36.07,27.19,36.93,41.99,49.77,51.11,41.75,48.37,39.42,31.6,44.64,54.88,40.96,35.16,37.73,28.85,null,null,23.58,26.0,29.89,31.57,30.43,38.99,52.94,33.75,21.64,27.0,39.36,44.01,37.72,28.36,27.83,29.91,27.39,34.59,null,null,62.22,59.55,24.26,32.31,48.67,31.01,35.12,33.72,31.62,23.32,22.7,22.82,34.25,17.79,21.22,28.33,28.32,25.14,20.52,20.0,20.6,22.0,23.14,29.38,39.52,37.83,32.04,16.95,17.35,13.81,31.89,49.53,44.78,35.93,39.63,45.99,51.11,43.66,53.04,66.64,56.26,52.87,46.77,31.0,29.12,26.39,43.64,57.83,55.28,46.09,40.22,36.69,48.53,42.29,43.19,29.71,30.46,39.34,47.17,37.91,37.86,44.94,47.59,51.64,35.52,33.33,32.67,35.28,30.18,37.83,33.33,34.24,38.65,42.47,34.5,32.53,33.32,34.93,34.93,35.69,31.53,28.31,33.1,43.4,39.05,39.39,35.05,33.03,31.42,42.08,36.91,35.43,35.38,42.46,52.72,37.18,40.9,40.31,37.92,38.15,33.66,43.92,61.03,38.79,40.89,33.83,51.53,55.76,31.06,32.92,37.84,35.77,38.44,45.77,48.6,42.48,40.28,41.18,36.4,37.62,35.28,34.99,32.14,32.45,32.81,32.22,28.89,29.3,27.23,29.55,24.79,23.83,31.35,32.09,27.89,26.6,25.64,30.91,28.14,26.51,23.44,23.44,26.3,22.95,30.36,39.87,null,31.55,29.89,29.36,28.42,23.08,26.32,23.2,22.02,19.68,19.05,18.99,20.58,21.51,21.07,20.4,21.52,25.79,23.03,28.2,27.03,29.48,29.26,34.17,28.66,29.75,27.78,29.48,30.1,27.69,32.26,29.98,40.17,37.22,32.18,40.08,35.58,43.92,50.14,46.47,54.59,47.26,42.99,43.55,39.72,36.52,31.55,27.85,29.54,34.74,34.88,37.11,39.9,39.26,44.98,46.41,47.03,44.08,37.79,38.89,48.82,58.75,64.34,79.24,89.56,95.27,91.77,111.69,104.84,88.02,89.1,96.22,72.81,55.65,58.89,73.93,88.96,81.99,67.76,49.95,59.24,53.33,41.1,43.06,55.83,80.15,81.94,63.32,48.28,55.54,28.84,25.22,26.73,28.3,64.54,84.51,79.35,77.5,51.11,68.69,27.41,56.8,49.99,36.31,40.93,34.4,29.59,50.66,40.75,39.57,32.77,42.38,52.64,61.3,61.04,45.61,40.01,50.67,90.37,99.22,61.98,51.87,47.88,60.4,88.44,54.58,52.53],\"type\":\"scatter\",\"xaxis\":\"x2\",\"yaxis\":\"y2\"},{\"mode\":\"lines+markers\",\"name\":\"2017\",\"x\":[\"2017-01-01T00:00:00\",\"2017-01-02T00:00:00\",\"2017-01-03T00:00:00\",\"2017-01-04T00:00:00\",\"2017-01-05T00:00:00\",\"2017-01-06T00:00:00\",\"2017-01-07T00:00:00\",\"2017-01-08T00:00:00\",\"2017-01-09T00:00:00\",\"2017-01-10T00:00:00\",\"2017-01-11T00:00:00\",\"2017-01-12T00:00:00\",\"2017-01-13T00:00:00\",\"2017-01-14T00:00:00\",\"2017-01-15T00:00:00\",\"2017-01-16T00:00:00\",\"2017-01-17T00:00:00\",\"2017-01-18T00:00:00\",\"2017-01-19T00:00:00\",\"2017-01-20T00:00:00\",\"2017-01-21T00:00:00\",\"2017-01-22T00:00:00\",\"2017-01-23T00:00:00\",\"2017-01-24T00:00:00\",\"2017-01-25T00:00:00\",\"2017-01-26T00:00:00\",\"2017-01-27T00:00:00\",\"2017-01-28T00:00:00\",\"2017-01-29T00:00:00\",\"2017-01-30T00:00:00\",\"2017-01-31T00:00:00\",\"2017-02-01T00:00:00\",\"2017-02-02T00:00:00\",\"2017-02-03T00:00:00\",\"2017-02-04T00:00:00\",\"2017-02-05T00:00:00\",\"2017-02-06T00:00:00\",\"2017-02-07T00:00:00\",\"2017-02-08T00:00:00\",\"2017-02-09T00:00:00\",\"2017-02-10T00:00:00\",\"2017-02-11T00:00:00\",\"2017-02-12T00:00:00\",\"2017-02-13T00:00:00\",\"2017-02-14T00:00:00\",\"2017-02-15T00:00:00\",\"2017-02-16T00:00:00\",\"2017-02-17T00:00:00\",\"2017-02-18T00:00:00\",\"2017-02-19T00:00:00\",\"2017-02-20T00:00:00\",\"2017-02-21T00:00:00\",\"2017-02-22T00:00:00\",\"2017-02-23T00:00:00\",\"2017-02-24T00:00:00\",\"2017-02-25T00:00:00\",\"2017-02-26T00:00:00\",\"2017-02-27T00:00:00\",\"2017-02-28T00:00:00\",\"2017-03-01T00:00:00\",\"2017-03-02T00:00:00\",\"2017-03-03T00:00:00\",\"2017-03-04T00:00:00\",\"2017-03-05T00:00:00\",\"2017-03-06T00:00:00\",\"2017-03-07T00:00:00\",\"2017-03-08T00:00:00\",\"2017-03-09T00:00:00\",\"2017-03-10T00:00:00\",\"2017-03-11T00:00:00\",\"2017-03-12T00:00:00\",\"2017-03-13T00:00:00\",\"2017-03-14T00:00:00\",\"2017-03-15T00:00:00\",\"2017-03-16T00:00:00\",\"2017-03-17T00:00:00\",\"2017-03-18T00:00:00\",\"2017-03-19T00:00:00\",\"2017-03-20T00:00:00\",\"2017-03-21T00:00:00\",\"2017-03-22T00:00:00\",\"2017-03-23T00:00:00\",\"2017-03-24T00:00:00\",\"2017-03-25T00:00:00\",\"2017-03-26T00:00:00\",\"2017-03-27T00:00:00\",\"2017-03-28T00:00:00\",\"2017-03-29T00:00:00\",\"2017-03-30T00:00:00\",\"2017-03-31T00:00:00\",\"2017-04-01T00:00:00\",\"2017-04-02T00:00:00\",\"2017-04-03T00:00:00\",\"2017-04-04T00:00:00\",\"2017-04-05T00:00:00\",\"2017-04-06T00:00:00\",\"2017-04-07T00:00:00\",\"2017-04-08T00:00:00\",\"2017-04-09T00:00:00\",\"2017-04-10T00:00:00\",\"2017-04-11T00:00:00\",\"2017-04-12T00:00:00\",\"2017-04-13T00:00:00\",\"2017-04-14T00:00:00\",\"2017-04-15T00:00:00\",\"2017-04-16T00:00:00\",\"2017-04-17T00:00:00\",\"2017-04-18T00:00:00\",\"2017-04-19T00:00:00\",\"2017-04-20T00:00:00\",\"2017-04-21T00:00:00\",\"2017-04-22T00:00:00\",\"2017-04-23T00:00:00\",\"2017-04-24T00:00:00\",\"2017-04-25T00:00:00\",\"2017-04-26T00:00:00\",\"2017-04-27T00:00:00\",\"2017-04-28T00:00:00\",\"2017-04-29T00:00:00\",\"2017-04-30T00:00:00\",\"2017-05-01T00:00:00\",\"2017-05-02T00:00:00\",\"2017-05-03T00:00:00\",\"2017-05-04T00:00:00\",\"2017-05-05T00:00:00\",\"2017-05-06T00:00:00\",\"2017-05-07T00:00:00\",\"2017-05-08T00:00:00\",\"2017-05-09T00:00:00\",\"2017-05-10T00:00:00\",\"2017-05-11T00:00:00\",\"2017-05-12T00:00:00\",\"2017-05-13T00:00:00\",\"2017-05-14T00:00:00\",\"2017-05-15T00:00:00\",\"2017-05-16T00:00:00\",\"2017-05-17T00:00:00\",\"2017-05-18T00:00:00\",\"2017-05-19T00:00:00\",\"2017-05-20T00:00:00\",\"2017-05-21T00:00:00\",\"2017-05-22T00:00:00\",\"2017-05-23T00:00:00\",\"2017-05-24T00:00:00\",\"2017-05-25T00:00:00\",\"2017-05-26T00:00:00\",\"2017-05-27T00:00:00\",\"2017-05-28T00:00:00\",\"2017-05-29T00:00:00\",\"2017-05-30T00:00:00\",\"2017-05-31T00:00:00\",\"2017-06-01T00:00:00\",\"2017-06-02T00:00:00\",\"2017-06-03T00:00:00\",\"2017-06-04T00:00:00\",\"2017-06-05T00:00:00\",\"2017-06-06T00:00:00\",\"2017-06-07T00:00:00\",\"2017-06-08T00:00:00\",\"2017-06-09T00:00:00\",\"2017-06-10T00:00:00\",\"2017-06-11T00:00:00\",\"2017-06-12T00:00:00\",\"2017-06-13T00:00:00\",\"2017-06-14T00:00:00\",\"2017-06-15T00:00:00\",\"2017-06-16T00:00:00\",\"2017-06-17T00:00:00\",\"2017-06-18T00:00:00\",\"2017-06-19T00:00:00\",\"2017-06-20T00:00:00\",\"2017-06-21T00:00:00\",\"2017-06-22T00:00:00\",\"2017-06-23T00:00:00\",\"2017-06-24T00:00:00\",\"2017-06-25T00:00:00\",\"2017-06-26T00:00:00\",\"2017-06-27T00:00:00\",\"2017-06-28T00:00:00\",\"2017-06-29T00:00:00\",\"2017-06-30T00:00:00\",\"2017-07-01T00:00:00\",\"2017-07-02T00:00:00\",\"2017-07-03T00:00:00\",\"2017-07-04T00:00:00\",\"2017-07-05T00:00:00\",\"2017-07-06T00:00:00\",\"2017-07-07T00:00:00\",\"2017-07-08T00:00:00\",\"2017-07-09T00:00:00\",\"2017-07-10T00:00:00\",\"2017-07-11T00:00:00\",\"2017-07-12T00:00:00\",\"2017-07-13T00:00:00\",\"2017-07-14T00:00:00\",\"2017-07-15T00:00:00\",\"2017-07-16T00:00:00\",\"2017-07-17T00:00:00\",\"2017-07-18T00:00:00\",\"2017-07-19T00:00:00\",\"2017-07-20T00:00:00\",\"2017-07-21T00:00:00\",\"2017-07-22T00:00:00\",\"2017-07-23T00:00:00\",\"2017-07-24T00:00:00\",\"2017-07-25T00:00:00\",\"2017-07-26T00:00:00\",\"2017-07-27T00:00:00\",\"2017-07-28T00:00:00\",\"2017-07-29T00:00:00\",\"2017-07-30T00:00:00\",\"2017-07-31T00:00:00\",\"2017-08-01T00:00:00\",\"2017-08-02T00:00:00\",\"2017-08-03T00:00:00\",\"2017-08-04T00:00:00\",\"2017-08-05T00:00:00\",\"2017-08-06T00:00:00\",\"2017-08-07T00:00:00\",\"2017-08-08T00:00:00\",\"2017-08-09T00:00:00\",\"2017-08-10T00:00:00\",\"2017-08-11T00:00:00\",\"2017-08-12T00:00:00\",\"2017-08-13T00:00:00\",\"2017-08-14T00:00:00\",\"2017-08-15T00:00:00\",\"2017-08-16T00:00:00\",\"2017-08-17T00:00:00\",\"2017-08-18T00:00:00\",\"2017-08-19T00:00:00\",\"2017-08-20T00:00:00\",\"2017-08-21T00:00:00\",\"2017-08-22T00:00:00\",\"2017-08-23T00:00:00\",\"2017-08-24T00:00:00\",\"2017-08-25T00:00:00\",\"2017-08-26T00:00:00\",\"2017-08-27T00:00:00\",\"2017-08-28T00:00:00\",\"2017-08-29T00:00:00\",\"2017-08-30T00:00:00\",\"2017-08-31T00:00:00\",\"2017-09-01T00:00:00\",\"2017-09-02T00:00:00\",\"2017-09-03T00:00:00\",\"2017-09-04T00:00:00\",\"2017-09-05T00:00:00\",\"2017-09-06T00:00:00\",\"2017-09-07T00:00:00\",\"2017-09-08T00:00:00\",\"2017-09-09T00:00:00\",\"2017-09-10T00:00:00\",\"2017-09-11T00:00:00\",\"2017-09-12T00:00:00\",\"2017-09-13T00:00:00\",\"2017-09-14T00:00:00\",\"2017-09-15T00:00:00\",\"2017-09-16T00:00:00\",\"2017-09-17T00:00:00\",\"2017-09-18T00:00:00\",\"2017-09-19T00:00:00\",\"2017-09-20T00:00:00\",\"2017-09-21T00:00:00\",\"2017-09-22T00:00:00\",\"2017-09-23T00:00:00\",\"2017-09-24T00:00:00\",\"2017-09-25T00:00:00\",\"2017-09-26T00:00:00\",\"2017-09-27T00:00:00\",\"2017-09-28T00:00:00\",\"2017-09-29T00:00:00\",\"2017-09-30T00:00:00\",\"2017-10-01T00:00:00\",\"2017-10-02T00:00:00\",\"2017-10-03T00:00:00\",\"2017-10-04T00:00:00\",\"2017-10-05T00:00:00\",\"2017-10-06T00:00:00\",\"2017-10-07T00:00:00\",\"2017-10-08T00:00:00\",\"2017-10-09T00:00:00\",\"2017-10-10T00:00:00\",\"2017-10-11T00:00:00\",\"2017-10-12T00:00:00\",\"2017-10-13T00:00:00\",\"2017-10-14T00:00:00\",\"2017-10-15T00:00:00\",\"2017-10-16T00:00:00\",\"2017-10-17T00:00:00\",\"2017-10-18T00:00:00\",\"2017-10-19T00:00:00\",\"2017-10-20T00:00:00\",\"2017-10-21T00:00:00\",\"2017-10-22T00:00:00\",\"2017-10-23T00:00:00\",\"2017-10-24T00:00:00\",\"2017-10-25T00:00:00\",\"2017-10-26T00:00:00\",\"2017-10-27T00:00:00\",\"2017-10-28T00:00:00\",\"2017-10-29T00:00:00\",\"2017-10-30T00:00:00\",\"2017-10-31T00:00:00\",\"2017-11-01T00:00:00\",\"2017-11-02T00:00:00\",\"2017-11-03T00:00:00\",\"2017-11-04T00:00:00\",\"2017-11-05T00:00:00\",\"2017-11-06T00:00:00\",\"2017-11-07T00:00:00\",\"2017-11-08T00:00:00\",\"2017-11-09T00:00:00\",\"2017-11-10T00:00:00\",\"2017-11-11T00:00:00\",\"2017-11-12T00:00:00\",\"2017-11-13T00:00:00\",\"2017-11-14T00:00:00\",\"2017-11-15T00:00:00\",\"2017-11-16T00:00:00\",\"2017-11-17T00:00:00\",\"2017-11-18T00:00:00\",\"2017-11-19T00:00:00\",\"2017-11-20T00:00:00\",\"2017-11-21T00:00:00\",\"2017-11-22T00:00:00\",\"2017-11-23T00:00:00\",\"2017-11-24T00:00:00\",\"2017-11-25T00:00:00\",\"2017-11-26T00:00:00\",\"2017-11-27T00:00:00\",\"2017-11-28T00:00:00\",\"2017-11-29T00:00:00\",\"2017-11-30T00:00:00\",\"2017-12-01T00:00:00\",\"2017-12-02T00:00:00\",\"2017-12-03T00:00:00\",\"2017-12-04T00:00:00\",\"2017-12-05T00:00:00\",\"2017-12-06T00:00:00\",\"2017-12-07T00:00:00\",\"2017-12-08T00:00:00\",\"2017-12-09T00:00:00\",\"2017-12-10T00:00:00\",\"2017-12-11T00:00:00\",\"2017-12-12T00:00:00\",\"2017-12-13T00:00:00\",\"2017-12-14T00:00:00\",\"2017-12-15T00:00:00\",\"2017-12-16T00:00:00\",\"2017-12-17T00:00:00\",\"2017-12-18T00:00:00\",\"2017-12-19T00:00:00\",\"2017-12-20T00:00:00\",\"2017-12-21T00:00:00\",\"2017-12-22T00:00:00\",\"2017-12-23T00:00:00\",\"2017-12-24T00:00:00\",\"2017-12-25T00:00:00\",\"2017-12-26T00:00:00\",\"2017-12-27T00:00:00\",\"2017-12-28T00:00:00\",\"2017-12-29T00:00:00\",\"2017-12-30T00:00:00\",\"2017-12-31T00:00:00\"],\"y\":[55.92,66.57,58.97,68.53,61.04,58.18,36.9,29.21,36.32,28.52,31.36,43.41,45.76,36.49,24.33,39.47,33.13,31.97,25.48,31.55,19.27,24.1,33.51,56.08,69.27,48.42,31.84,28.3,28.3,40.53,54.92,46.63,60.67,62.33,57.26,40.73,46.21,28.73,31.42,39.7,47.34,55.54,95.27,51.62,50.31,54.38,55.87,53.4,62.34,75.4,83.01,66.01,58.5,38.51,29.63,34.4,40.72,43.29,76.09,73.27,62.98,41.85,39.3,34.4,33.66,43.71,36.04,32.12,25.51,24.61,24.24,21.02,22.58,37.36,43.07,29.62,33.5,43.17,34.32,33.99,49.03,73.23,76.02,59.37,53.05,52.56,61.73,58.95,57.35,67.36,68.33,59.67,58.96,63.38,66.8,59.04,51.4,55.26,38.77,37.48,40.69,43.01,54.53,67.47,63.27,38.41,42.18,41.14,50.75,64.48,54.57,39.46,40.33,34.43,31.0,34.01,37.41,33.57,42.48,34.42,40.22,44.95,44.27,34.41,32.24,37.01,41.82,50.62,36.69,34.59,30.7,35.38,42.62,32.57,37.08,20.17,12.09,13.57,27.59,25.31,13.02,39.38,56.89,42.37,33.07,49.97,39.95,37.97,41.24,47.68,53.68,57.81,60.86,62.41,55.02,41.28,43.51,48.84,40.3,41.19,41.51,38.68,50.52,58.1,52.51,54.71,51.3,48.94,48.14,46.71,59.54,50.91,69.13,52.73,58.3,45.21,38.93,37.64,41.14,33.87,41.27,44.12,32.97,32.02,28.8,25.81,24.82,30.98,28.82,41.79,27.22,26.19,27.31,28.03,29.06,37.26,35.52,43.34,49.2,58.22,44.64,26.97,23.32,26.79,28.58,28.73,27.09,26.74,25.11,22.45,22.24,32.0,33.36,38.35,34.14,33.24,36.4,43.5,33.07,36.53,42.64,31.22,17.92,null,null,34.8,18.69,23.94,26.78,24.79,24.34,17.65,12.14,15.5,22.33,23.83,18.75,23.26,29.19,15.6,27.77,38.09,25.08,17.6,33.97,25.9,86.67,30.21,31.07,36.46,27.05,31.1,49.74,48.0,null,null,43.06,31.02,40.92,31.89,33.88,45.0,56.47,31.36,17.63,17.47,19.11,19.81,34.54,50.34,54.37,41.19,44.1,50.15,39.12,31.36,39.43,37.22,31.48,35.37,41.02,50.93,56.42,64.21,44.32,45.28,55.52,44.61,51.88,42.92,44.57,50.7,48.79,50.8,45.72,48.44,53.82,55.14,61.45,48.68,51.2,50.6,52.67,64.28,47.36,49.88,53.2,52.75,61.8,65.81,91.87,82.96,74.84,84.1,90.64,73.63,73.85,55.71,48.83,50.06,45.56,38.55,34.83,36.28,40.58,40.37,40.03,44.62,47.81,63.81,52.5,60.94,83.31,77.53,65.47,92.4,85.25,90.28,71.16,45.92,36.04,41.49,57.73,77.11,86.87,50.54,48.27,46.26,42.56,39.74,35.36,45.71,56.27,78.25,72.97,55.36,51.89,73.83,68.61,62.83,71.71,79.07,68.22,75.04,83.55],\"type\":\"scatter\",\"xaxis\":\"x3\",\"yaxis\":\"y3\"},{\"mode\":\"lines+markers\",\"name\":\"2018\",\"x\":[\"2018-01-01T00:00:00\",\"2018-01-02T00:00:00\",\"2018-01-03T00:00:00\",\"2018-01-04T00:00:00\",\"2018-01-05T00:00:00\",\"2018-01-06T00:00:00\",\"2018-01-07T00:00:00\",\"2018-01-08T00:00:00\",\"2018-01-09T00:00:00\",\"2018-01-10T00:00:00\",\"2018-01-11T00:00:00\",\"2018-01-12T00:00:00\",\"2018-01-13T00:00:00\",\"2018-01-14T00:00:00\",\"2018-01-15T00:00:00\",\"2018-01-16T00:00:00\",\"2018-01-17T00:00:00\",\"2018-01-18T00:00:00\",\"2018-01-19T00:00:00\",\"2018-01-20T00:00:00\",\"2018-01-21T00:00:00\",\"2018-01-22T00:00:00\",\"2018-01-23T00:00:00\",\"2018-01-24T00:00:00\",\"2018-01-25T00:00:00\",\"2018-01-26T00:00:00\",\"2018-01-27T00:00:00\",\"2018-01-28T00:00:00\",\"2018-01-29T00:00:00\",\"2018-01-30T00:00:00\",\"2018-01-31T00:00:00\",\"2018-02-01T00:00:00\",\"2018-02-02T00:00:00\",\"2018-02-03T00:00:00\",\"2018-02-04T00:00:00\",\"2018-02-05T00:00:00\",\"2018-02-06T00:00:00\",\"2018-02-07T00:00:00\",\"2018-02-08T00:00:00\",\"2018-02-09T00:00:00\",\"2018-02-10T00:00:00\",\"2018-02-11T00:00:00\",\"2018-02-12T00:00:00\",\"2018-02-13T00:00:00\",\"2018-02-14T00:00:00\",\"2018-02-15T00:00:00\",\"2018-02-16T00:00:00\",\"2018-02-17T00:00:00\",\"2018-02-18T00:00:00\",\"2018-02-19T00:00:00\",\"2018-02-20T00:00:00\",\"2018-02-21T00:00:00\",\"2018-02-22T00:00:00\",\"2018-02-23T00:00:00\",\"2018-02-24T00:00:00\",\"2018-02-25T00:00:00\",\"2018-02-26T00:00:00\",\"2018-02-27T00:00:00\",\"2018-02-28T00:00:00\",\"2018-03-01T00:00:00\",\"2018-03-02T00:00:00\",\"2018-03-03T00:00:00\",\"2018-03-04T00:00:00\",\"2018-03-05T00:00:00\",\"2018-03-06T00:00:00\",\"2018-03-07T00:00:00\",\"2018-03-08T00:00:00\",\"2018-03-09T00:00:00\",\"2018-03-10T00:00:00\",\"2018-03-11T00:00:00\",\"2018-03-12T00:00:00\",\"2018-03-13T00:00:00\",\"2018-03-14T00:00:00\",\"2018-03-15T00:00:00\",\"2018-03-16T00:00:00\",\"2018-03-17T00:00:00\",\"2018-03-18T00:00:00\",\"2018-03-19T00:00:00\",\"2018-03-20T00:00:00\",\"2018-03-21T00:00:00\",\"2018-03-22T00:00:00\",\"2018-03-23T00:00:00\",\"2018-03-24T00:00:00\",\"2018-03-25T00:00:00\",\"2018-03-26T00:00:00\",\"2018-03-27T00:00:00\",\"2018-03-28T00:00:00\",\"2018-03-29T00:00:00\",\"2018-03-30T00:00:00\",\"2018-03-31T00:00:00\",\"2018-04-01T00:00:00\",\"2018-04-02T00:00:00\",\"2018-04-03T00:00:00\",\"2018-04-04T00:00:00\",\"2018-04-05T00:00:00\",\"2018-04-06T00:00:00\",\"2018-04-07T00:00:00\",\"2018-04-08T00:00:00\",\"2018-04-09T00:00:00\",\"2018-04-10T00:00:00\",\"2018-04-11T00:00:00\",\"2018-04-12T00:00:00\",\"2018-04-13T00:00:00\",\"2018-04-14T00:00:00\",\"2018-04-15T00:00:00\",\"2018-04-16T00:00:00\",\"2018-04-17T00:00:00\",\"2018-04-18T00:00:00\",\"2018-04-19T00:00:00\",\"2018-04-20T00:00:00\",\"2018-04-21T00:00:00\",\"2018-04-22T00:00:00\",\"2018-04-23T00:00:00\",\"2018-04-24T00:00:00\",\"2018-04-25T00:00:00\",\"2018-04-26T00:00:00\",\"2018-04-27T00:00:00\",\"2018-04-28T00:00:00\",\"2018-04-29T00:00:00\",\"2018-04-30T00:00:00\",\"2018-05-01T00:00:00\",\"2018-05-02T00:00:00\",\"2018-05-03T00:00:00\",\"2018-05-04T00:00:00\",\"2018-05-05T00:00:00\",\"2018-05-06T00:00:00\",\"2018-05-07T00:00:00\",\"2018-05-08T00:00:00\",\"2018-05-09T00:00:00\",\"2018-05-10T00:00:00\",\"2018-05-11T00:00:00\",\"2018-05-12T00:00:00\",\"2018-05-13T00:00:00\",\"2018-05-14T00:00:00\",\"2018-05-15T00:00:00\",\"2018-05-16T00:00:00\",\"2018-05-17T00:00:00\",\"2018-05-18T00:00:00\",\"2018-05-19T00:00:00\",\"2018-05-20T00:00:00\",\"2018-05-21T00:00:00\",\"2018-05-22T00:00:00\",\"2018-05-23T00:00:00\",\"2018-05-24T00:00:00\",\"2018-05-25T00:00:00\",\"2018-05-26T00:00:00\",\"2018-05-27T00:00:00\",\"2018-05-28T00:00:00\",\"2018-05-29T00:00:00\",\"2018-05-30T00:00:00\",\"2018-05-31T00:00:00\",\"2018-06-01T00:00:00\",\"2018-06-02T00:00:00\",\"2018-06-03T00:00:00\",\"2018-06-04T00:00:00\",\"2018-06-05T00:00:00\",\"2018-06-06T00:00:00\",\"2018-06-07T00:00:00\",\"2018-06-08T00:00:00\",\"2018-06-09T00:00:00\",\"2018-06-10T00:00:00\",\"2018-06-11T00:00:00\",\"2018-06-12T00:00:00\",\"2018-06-13T00:00:00\",\"2018-06-14T00:00:00\",\"2018-06-15T00:00:00\",\"2018-06-16T00:00:00\",\"2018-06-17T00:00:00\",\"2018-06-18T00:00:00\",\"2018-06-19T00:00:00\",\"2018-06-20T00:00:00\",\"2018-06-21T00:00:00\",\"2018-06-22T00:00:00\",\"2018-06-23T00:00:00\",\"2018-06-24T00:00:00\",\"2018-06-25T00:00:00\",\"2018-06-26T00:00:00\",\"2018-06-27T00:00:00\",\"2018-06-28T00:00:00\",\"2018-06-29T00:00:00\",\"2018-06-30T00:00:00\",\"2018-07-01T00:00:00\",\"2018-07-02T00:00:00\",\"2018-07-03T00:00:00\",\"2018-07-04T00:00:00\",\"2018-07-05T00:00:00\",\"2018-07-06T00:00:00\",\"2018-07-07T00:00:00\",\"2018-07-08T00:00:00\",\"2018-07-09T00:00:00\",\"2018-07-10T00:00:00\",\"2018-07-11T00:00:00\",\"2018-07-12T00:00:00\",\"2018-07-13T00:00:00\",\"2018-07-14T00:00:00\",\"2018-07-15T00:00:00\",\"2018-07-16T00:00:00\",\"2018-07-17T00:00:00\",\"2018-07-18T00:00:00\",\"2018-07-19T00:00:00\",\"2018-07-20T00:00:00\",\"2018-07-21T00:00:00\",\"2018-07-22T00:00:00\",\"2018-07-23T00:00:00\",\"2018-07-24T00:00:00\",\"2018-07-25T00:00:00\",\"2018-07-26T00:00:00\",\"2018-07-27T00:00:00\",\"2018-07-28T00:00:00\",\"2018-07-29T00:00:00\",\"2018-07-30T00:00:00\",\"2018-07-31T00:00:00\",\"2018-08-01T00:00:00\",\"2018-08-02T00:00:00\",\"2018-08-03T00:00:00\",\"2018-08-04T00:00:00\",\"2018-08-05T00:00:00\",\"2018-08-06T00:00:00\",\"2018-08-07T00:00:00\",\"2018-08-08T00:00:00\",\"2018-08-09T00:00:00\",\"2018-08-10T00:00:00\",\"2018-08-11T00:00:00\",\"2018-08-12T00:00:00\",\"2018-08-13T00:00:00\",\"2018-08-14T00:00:00\",\"2018-08-15T00:00:00\",\"2018-08-16T00:00:00\",\"2018-08-17T00:00:00\",\"2018-08-18T00:00:00\",\"2018-08-19T00:00:00\",\"2018-08-20T00:00:00\",\"2018-08-21T00:00:00\",\"2018-08-22T00:00:00\",\"2018-08-23T00:00:00\",\"2018-08-24T00:00:00\",\"2018-08-25T00:00:00\",\"2018-08-26T00:00:00\",\"2018-08-27T00:00:00\",\"2018-08-28T00:00:00\",\"2018-08-29T00:00:00\",\"2018-08-30T00:00:00\",\"2018-08-31T00:00:00\",\"2018-09-01T00:00:00\",\"2018-09-02T00:00:00\",\"2018-09-03T00:00:00\",\"2018-09-04T00:00:00\",\"2018-09-05T00:00:00\",\"2018-09-06T00:00:00\",\"2018-09-07T00:00:00\",\"2018-09-08T00:00:00\",\"2018-09-09T00:00:00\",\"2018-09-10T00:00:00\",\"2018-09-11T00:00:00\",\"2018-09-12T00:00:00\",\"2018-09-13T00:00:00\",\"2018-09-14T00:00:00\",\"2018-09-15T00:00:00\",\"2018-09-16T00:00:00\",\"2018-09-17T00:00:00\",\"2018-09-18T00:00:00\",\"2018-09-19T00:00:00\",\"2018-09-20T00:00:00\",\"2018-09-21T00:00:00\",\"2018-09-22T00:00:00\",\"2018-09-23T00:00:00\",\"2018-09-24T00:00:00\",\"2018-09-25T00:00:00\",\"2018-09-26T00:00:00\",\"2018-09-27T00:00:00\",\"2018-09-28T00:00:00\",\"2018-09-29T00:00:00\",\"2018-09-30T00:00:00\",\"2018-10-01T00:00:00\",\"2018-10-02T00:00:00\",\"2018-10-03T00:00:00\",\"2018-10-04T00:00:00\",\"2018-10-05T00:00:00\",\"2018-10-06T00:00:00\",\"2018-10-07T00:00:00\",\"2018-10-08T00:00:00\",\"2018-10-09T00:00:00\",\"2018-10-10T00:00:00\",\"2018-10-11T00:00:00\",\"2018-10-12T00:00:00\",\"2018-10-13T00:00:00\",\"2018-10-14T00:00:00\",\"2018-10-15T00:00:00\",\"2018-10-16T00:00:00\",\"2018-10-17T00:00:00\",\"2018-10-18T00:00:00\",\"2018-10-19T00:00:00\",\"2018-10-20T00:00:00\",\"2018-10-21T00:00:00\",\"2018-10-22T00:00:00\",\"2018-10-23T00:00:00\",\"2018-10-24T00:00:00\",\"2018-10-25T00:00:00\",\"2018-10-26T00:00:00\",\"2018-10-27T00:00:00\",\"2018-10-28T00:00:00\",\"2018-10-29T00:00:00\",\"2018-10-30T00:00:00\",\"2018-10-31T00:00:00\",\"2018-11-01T00:00:00\",\"2018-11-02T00:00:00\",\"2018-11-03T00:00:00\",\"2018-11-04T00:00:00\",\"2018-11-05T00:00:00\",\"2018-11-06T00:00:00\",\"2018-11-07T00:00:00\",\"2018-11-08T00:00:00\",\"2018-11-09T00:00:00\",\"2018-11-10T00:00:00\",\"2018-11-11T00:00:00\",\"2018-11-12T00:00:00\",\"2018-11-13T00:00:00\",\"2018-11-14T00:00:00\",\"2018-11-15T00:00:00\",\"2018-11-16T00:00:00\",\"2018-11-17T00:00:00\",\"2018-11-18T00:00:00\",\"2018-11-19T00:00:00\",\"2018-11-20T00:00:00\",\"2018-11-21T00:00:00\",\"2018-11-22T00:00:00\",\"2018-11-23T00:00:00\",\"2018-11-24T00:00:00\",\"2018-11-25T00:00:00\",\"2018-11-26T00:00:00\",\"2018-11-27T00:00:00\",\"2018-11-28T00:00:00\",\"2018-11-29T00:00:00\",\"2018-11-30T00:00:00\",\"2018-12-01T00:00:00\",\"2018-12-02T00:00:00\",\"2018-12-03T00:00:00\",\"2018-12-04T00:00:00\",\"2018-12-05T00:00:00\",\"2018-12-06T00:00:00\",\"2018-12-07T00:00:00\",\"2018-12-08T00:00:00\",\"2018-12-09T00:00:00\",\"2018-12-10T00:00:00\",\"2018-12-11T00:00:00\",\"2018-12-12T00:00:00\",\"2018-12-13T00:00:00\",\"2018-12-14T00:00:00\",\"2018-12-15T00:00:00\",\"2018-12-16T00:00:00\",\"2018-12-17T00:00:00\",\"2018-12-18T00:00:00\",\"2018-12-19T00:00:00\",\"2018-12-20T00:00:00\",\"2018-12-21T00:00:00\",\"2018-12-22T00:00:00\",\"2018-12-23T00:00:00\",\"2018-12-24T00:00:00\",\"2018-12-25T00:00:00\",\"2018-12-26T00:00:00\",\"2018-12-27T00:00:00\",\"2018-12-28T00:00:00\",\"2018-12-29T00:00:00\",\"2018-12-30T00:00:00\",\"2018-12-31T00:00:00\"],\"y\":[73.16,55.61,50.81,55.17,51.36,63.78,50.09,47.52,58.65,48.38,47.42,55.07,75.88,55.35,54.6,43.23,52.37,59.73,63.31,66.51,63.25,63.15,51.07,43.08,40.74,44.28,46.22,45.66,44.78,38.68,39.32,46.95,52.36,46.26,45.13,45.41,44.96,43.31,47.89,49.6,47.52,51.43,46.64,50.89,40.88,44.48,49.81,49.73,45.32,46.22,49.25,49.47,55.72,59.64,62.61,50.57,41.83,43.85,53.64,49.29,48.86,44.26,39.35,38.32,34.56,36.46,43.35,46.02,39.35,39.62,42.8,42.23,40.47,43.23,42.2,33.72,30.32,37.7,44.26,49.85,42.95,34.91,35.84,37.35,36.49,37.92,37.48,37.18,37.57,42.4,37.86,43.29,45.56,50.48,49.53,43.35,42.48,44.48,44.12,52.07,39.88,33.55,36.1,39.49,40.66,46.53,39.2,33.33,35.35,36.14,31.94,29.3,27.09,32.19,31.94,41.32,51.03,44.78,47.69,49.72,44.37,37.69,38.01,38.61,44.85,44.57,45.99,27.14,43.68,53.84,51.67,65.63,59.34,46.61,49.62,43.11,45.08,54.12,55.99,45.4,41.07,40.31,46.95,51.03,36.45,37.33,35.05,48.36,51.9,54.38,50.49,48.38,41.24,43.82,49.08,43.21,39.58,40.17,46.72,40.4,49.24,48.15,40.05,32.58,27.3,26.27,28.12,27.53,33.27,31.25,36.03,38.44,44.46,44.27,34.64,32.64,35.67,44.57,44.84,42.44,40.71,44.47,36.17,38.7,37.0,38.45,48.7,51.84,57.11,55.38,47.18,39.31,35.01,33.49,34.11,32.08,36.19,41.85,46.23,41.74,38.54,43.54,37.26,39.3,40.08,39.46,38.33,33.02,29.08,36.7,42.39,41.94,38.58,36.33,34.43,33.4,33.84,45.36,40.11,38.57,38.58,40.95,36.5,30.55,34.65,39.38,37.96,40.19,37.68,32.83,31.46,38.4,32.36,28.58,32.42,28.45,25.87,24.13,26.04,27.99,29.36,29.82,28.79,31.04,31.34,30.05,32.41,29.56,30.78,32.06,28.17,24.71,24.26,23.37,22.38,20.34,19.9,22.31,24.13,25.37,24.13,26.44,29.96,28.6,23.58,22.73,22.73,22.28,24.2,30.7,35.57,37.78,31.15,31.58,35.08,31.83,37.79,42.52,36.24,35.47,36.86,37.85,39.4,33.16,25.13,33.8,30.33,33.54,43.63,42.22,48.05,41.31,37.9,38.07,36.59,35.0,44.37,45.37,48.25,52.18,47.85,48.43,52.74,55.85,58.01,51.21,48.63,36.62,44.82,31.18,30.5,44.2,49.84,55.35,55.03,58.85,62.24,53.0,49.76,41.19,40.93,44.39,48.41,54.51,46.84,42.27,45.84,36.97,39.78,47.15,53.89,53.87,51.41,46.35,42.49,45.3,47.02,51.21,49.26,52.53,49.16,49.42,50.23,55.63,58.67,51.27,40.31,42.01,41.97,45.92,50.27,51.04,48.82,54.66,57.91,60.21,67.29,65.75,57.34,50.38,56.6,55.46,51.53,57.55,56.0],\"type\":\"scatter\",\"xaxis\":\"x4\",\"yaxis\":\"y4\"},{\"mode\":\"lines+markers\",\"name\":\"2019\",\"x\":[\"2019-01-01T00:00:00\",\"2019-01-02T00:00:00\",\"2019-01-03T00:00:00\",\"2019-01-04T00:00:00\",\"2019-01-05T00:00:00\",\"2019-01-06T00:00:00\",\"2019-01-07T00:00:00\",\"2019-01-08T00:00:00\",\"2019-01-09T00:00:00\",\"2019-01-10T00:00:00\",\"2019-01-11T00:00:00\",\"2019-01-12T00:00:00\",\"2019-01-13T00:00:00\",\"2019-01-14T00:00:00\",\"2019-01-15T00:00:00\",\"2019-01-16T00:00:00\",\"2019-01-17T00:00:00\",\"2019-01-18T00:00:00\",\"2019-01-19T00:00:00\",\"2019-01-20T00:00:00\",\"2019-01-21T00:00:00\",\"2019-01-22T00:00:00\",\"2019-01-23T00:00:00\",\"2019-01-24T00:00:00\",\"2019-01-25T00:00:00\",\"2019-01-26T00:00:00\",\"2019-01-27T00:00:00\",\"2019-01-28T00:00:00\",\"2019-01-29T00:00:00\",\"2019-01-30T00:00:00\",\"2019-01-31T00:00:00\",\"2019-02-01T00:00:00\",\"2019-02-02T00:00:00\",\"2019-02-03T00:00:00\",\"2019-02-04T00:00:00\",\"2019-02-05T00:00:00\",\"2019-02-06T00:00:00\",\"2019-02-07T00:00:00\",\"2019-02-08T00:00:00\",\"2019-02-09T00:00:00\",\"2019-02-10T00:00:00\",\"2019-02-11T00:00:00\",\"2019-02-12T00:00:00\",\"2019-02-13T00:00:00\",\"2019-02-14T00:00:00\",\"2019-02-15T00:00:00\",\"2019-02-16T00:00:00\",\"2019-02-17T00:00:00\",\"2019-02-18T00:00:00\",\"2019-02-19T00:00:00\",\"2019-02-20T00:00:00\",\"2019-02-21T00:00:00\",\"2019-02-22T00:00:00\",\"2019-02-23T00:00:00\",\"2019-02-24T00:00:00\",\"2019-02-25T00:00:00\",\"2019-02-26T00:00:00\",\"2019-02-27T00:00:00\",\"2019-02-28T00:00:00\",\"2019-03-01T00:00:00\",\"2019-03-02T00:00:00\",\"2019-03-03T00:00:00\",\"2019-03-04T00:00:00\",\"2019-03-05T00:00:00\",\"2019-03-06T00:00:00\",\"2019-03-07T00:00:00\",\"2019-03-08T00:00:00\",\"2019-03-09T00:00:00\",\"2019-03-10T00:00:00\",\"2019-03-11T00:00:00\",\"2019-03-12T00:00:00\",\"2019-03-13T00:00:00\",\"2019-03-14T00:00:00\",\"2019-03-15T00:00:00\",\"2019-03-16T00:00:00\",\"2019-03-17T00:00:00\",\"2019-03-18T00:00:00\",\"2019-03-19T00:00:00\",\"2019-03-20T00:00:00\",\"2019-03-21T00:00:00\",\"2019-03-22T00:00:00\",\"2019-03-23T00:00:00\",\"2019-03-24T00:00:00\",\"2019-03-25T00:00:00\",\"2019-03-26T00:00:00\",\"2019-03-27T00:00:00\",\"2019-03-28T00:00:00\",\"2019-03-29T00:00:00\",\"2019-03-30T00:00:00\",\"2019-03-31T00:00:00\",\"2019-04-01T00:00:00\",\"2019-04-02T00:00:00\",\"2019-04-03T00:00:00\",\"2019-04-04T00:00:00\",\"2019-04-05T00:00:00\",\"2019-04-06T00:00:00\",\"2019-04-07T00:00:00\",\"2019-04-08T00:00:00\",\"2019-04-09T00:00:00\",\"2019-04-10T00:00:00\",\"2019-04-11T00:00:00\",\"2019-04-12T00:00:00\",\"2019-04-13T00:00:00\",\"2019-04-14T00:00:00\",\"2019-04-15T00:00:00\",\"2019-04-16T00:00:00\",\"2019-04-17T00:00:00\",\"2019-04-18T00:00:00\",\"2019-04-19T00:00:00\",\"2019-04-20T00:00:00\",\"2019-04-21T00:00:00\",\"2019-04-22T00:00:00\",\"2019-04-23T00:00:00\",\"2019-04-24T00:00:00\",\"2019-04-25T00:00:00\",\"2019-04-26T00:00:00\",\"2019-04-27T00:00:00\",\"2019-04-28T00:00:00\",\"2019-04-29T00:00:00\",\"2019-04-30T00:00:00\",\"2019-05-01T00:00:00\",\"2019-05-02T00:00:00\",\"2019-05-03T00:00:00\",\"2019-05-04T00:00:00\",\"2019-05-05T00:00:00\",\"2019-05-06T00:00:00\",\"2019-05-07T00:00:00\",\"2019-05-08T00:00:00\",\"2019-05-09T00:00:00\",\"2019-05-10T00:00:00\",\"2019-05-11T00:00:00\",\"2019-05-12T00:00:00\",\"2019-05-13T00:00:00\",\"2019-05-14T00:00:00\",\"2019-05-15T00:00:00\",\"2019-05-16T00:00:00\",\"2019-05-17T00:00:00\",\"2019-05-18T00:00:00\",\"2019-05-19T00:00:00\",\"2019-05-20T00:00:00\",\"2019-05-21T00:00:00\",\"2019-05-22T00:00:00\",\"2019-05-23T00:00:00\",\"2019-05-24T00:00:00\",\"2019-05-25T00:00:00\",\"2019-05-26T00:00:00\",\"2019-05-27T00:00:00\",\"2019-05-28T00:00:00\",\"2019-05-29T00:00:00\",\"2019-05-30T00:00:00\",\"2019-05-31T00:00:00\",\"2019-06-01T00:00:00\",\"2019-06-02T00:00:00\",\"2019-06-03T00:00:00\",\"2019-06-04T00:00:00\",\"2019-06-05T00:00:00\",\"2019-06-06T00:00:00\",\"2019-06-07T00:00:00\",\"2019-06-08T00:00:00\",\"2019-06-09T00:00:00\",\"2019-06-10T00:00:00\",\"2019-06-11T00:00:00\",\"2019-06-12T00:00:00\",\"2019-06-13T00:00:00\",\"2019-06-14T00:00:00\",\"2019-06-15T00:00:00\",\"2019-06-16T00:00:00\",\"2019-06-17T00:00:00\",\"2019-06-18T00:00:00\",\"2019-06-19T00:00:00\",\"2019-06-20T00:00:00\",\"2019-06-21T00:00:00\",\"2019-06-22T00:00:00\",\"2019-06-23T00:00:00\",\"2019-06-24T00:00:00\",\"2019-06-25T00:00:00\",\"2019-06-26T00:00:00\",\"2019-06-27T00:00:00\",\"2019-06-28T00:00:00\",\"2019-06-29T00:00:00\",\"2019-06-30T00:00:00\",\"2019-07-01T00:00:00\",\"2019-07-02T00:00:00\",\"2019-07-03T00:00:00\",\"2019-07-04T00:00:00\",\"2019-07-05T00:00:00\",\"2019-07-06T00:00:00\",\"2019-07-07T00:00:00\",\"2019-07-08T00:00:00\",\"2019-07-09T00:00:00\",\"2019-07-10T00:00:00\",\"2019-07-11T00:00:00\",\"2019-07-12T00:00:00\",\"2019-07-13T00:00:00\",\"2019-07-14T00:00:00\",\"2019-07-15T00:00:00\",\"2019-07-16T00:00:00\",\"2019-07-17T00:00:00\",\"2019-07-18T00:00:00\",\"2019-07-19T00:00:00\",\"2019-07-20T00:00:00\",\"2019-07-21T00:00:00\",\"2019-07-22T00:00:00\",\"2019-07-23T00:00:00\",\"2019-07-24T00:00:00\",\"2019-07-25T00:00:00\",\"2019-07-26T00:00:00\",\"2019-07-27T00:00:00\",\"2019-07-28T00:00:00\",\"2019-07-29T00:00:00\",\"2019-07-30T00:00:00\",\"2019-07-31T00:00:00\",\"2019-08-01T00:00:00\",\"2019-08-02T00:00:00\",\"2019-08-03T00:00:00\",\"2019-08-04T00:00:00\",\"2019-08-05T00:00:00\",\"2019-08-06T00:00:00\",\"2019-08-07T00:00:00\",\"2019-08-08T00:00:00\",\"2019-08-09T00:00:00\",\"2019-08-10T00:00:00\",\"2019-08-11T00:00:00\",\"2019-08-12T00:00:00\",\"2019-08-13T00:00:00\",\"2019-08-14T00:00:00\",\"2019-08-15T00:00:00\",\"2019-08-16T00:00:00\",\"2019-08-17T00:00:00\",\"2019-08-18T00:00:00\",\"2019-08-19T00:00:00\",\"2019-08-20T00:00:00\",\"2019-08-21T00:00:00\",\"2019-08-22T00:00:00\",\"2019-08-23T00:00:00\",\"2019-08-24T00:00:00\",\"2019-08-25T00:00:00\",\"2019-08-26T00:00:00\",\"2019-08-27T00:00:00\",\"2019-08-28T00:00:00\",\"2019-08-29T00:00:00\",\"2019-08-30T00:00:00\",\"2019-08-31T00:00:00\",\"2019-09-01T00:00:00\",\"2019-09-02T00:00:00\",\"2019-09-03T00:00:00\",\"2019-09-04T00:00:00\",\"2019-09-05T00:00:00\",\"2019-09-06T00:00:00\",\"2019-09-07T00:00:00\",\"2019-09-08T00:00:00\",\"2019-09-09T00:00:00\",\"2019-09-10T00:00:00\",\"2019-09-11T00:00:00\",\"2019-09-12T00:00:00\",\"2019-09-13T00:00:00\",\"2019-09-14T00:00:00\",\"2019-09-15T00:00:00\",\"2019-09-16T00:00:00\",\"2019-09-17T00:00:00\",\"2019-09-18T00:00:00\",\"2019-09-19T00:00:00\",\"2019-09-20T00:00:00\",\"2019-09-21T00:00:00\",\"2019-09-22T00:00:00\",\"2019-09-23T00:00:00\",\"2019-09-24T00:00:00\",\"2019-09-25T00:00:00\",\"2019-09-26T00:00:00\",\"2019-09-27T00:00:00\",\"2019-09-28T00:00:00\",\"2019-09-29T00:00:00\",\"2019-09-30T00:00:00\",\"2019-10-01T00:00:00\",\"2019-10-02T00:00:00\",\"2019-10-03T00:00:00\",\"2019-10-04T00:00:00\",\"2019-10-05T00:00:00\",\"2019-10-06T00:00:00\",\"2019-10-07T00:00:00\",\"2019-10-08T00:00:00\",\"2019-10-09T00:00:00\",\"2019-10-10T00:00:00\",\"2019-10-11T00:00:00\",\"2019-10-12T00:00:00\",\"2019-10-13T00:00:00\",\"2019-10-14T00:00:00\",\"2019-10-15T00:00:00\",\"2019-10-16T00:00:00\",\"2019-10-17T00:00:00\",\"2019-10-18T00:00:00\",\"2019-10-19T00:00:00\",\"2019-10-20T00:00:00\",\"2019-10-21T00:00:00\",\"2019-10-22T00:00:00\",\"2019-10-23T00:00:00\",\"2019-10-24T00:00:00\",\"2019-10-25T00:00:00\",\"2019-10-26T00:00:00\",\"2019-10-27T00:00:00\",\"2019-10-28T00:00:00\",\"2019-10-29T00:00:00\",\"2019-10-30T00:00:00\",\"2019-10-31T00:00:00\",\"2019-11-01T00:00:00\",\"2019-11-02T00:00:00\",\"2019-11-03T00:00:00\",\"2019-11-04T00:00:00\",\"2019-11-05T00:00:00\",\"2019-11-06T00:00:00\",\"2019-11-07T00:00:00\",\"2019-11-08T00:00:00\",\"2019-11-09T00:00:00\",\"2019-11-10T00:00:00\",\"2019-11-11T00:00:00\",\"2019-11-12T00:00:00\",\"2019-11-13T00:00:00\",\"2019-11-14T00:00:00\",\"2019-11-15T00:00:00\",\"2019-11-16T00:00:00\",\"2019-11-17T00:00:00\",\"2019-11-18T00:00:00\",\"2019-11-19T00:00:00\",\"2019-11-20T00:00:00\",\"2019-11-21T00:00:00\",\"2019-11-22T00:00:00\",\"2019-11-23T00:00:00\",\"2019-11-24T00:00:00\",\"2019-11-25T00:00:00\",\"2019-11-26T00:00:00\",\"2019-11-27T00:00:00\",\"2019-11-28T00:00:00\",\"2019-11-29T00:00:00\",\"2019-11-30T00:00:00\",\"2019-12-01T00:00:00\",\"2019-12-02T00:00:00\",\"2019-12-03T00:00:00\",\"2019-12-04T00:00:00\",\"2019-12-05T00:00:00\",\"2019-12-06T00:00:00\",\"2019-12-07T00:00:00\",\"2019-12-08T00:00:00\",\"2019-12-09T00:00:00\",\"2019-12-10T00:00:00\",\"2019-12-11T00:00:00\",\"2019-12-12T00:00:00\",\"2019-12-13T00:00:00\",\"2019-12-14T00:00:00\",\"2019-12-15T00:00:00\",\"2019-12-16T00:00:00\",\"2019-12-17T00:00:00\",\"2019-12-18T00:00:00\",\"2019-12-19T00:00:00\",\"2019-12-20T00:00:00\",\"2019-12-21T00:00:00\",\"2019-12-22T00:00:00\",\"2019-12-23T00:00:00\",\"2019-12-24T00:00:00\",\"2019-12-25T00:00:00\",\"2019-12-26T00:00:00\",\"2019-12-27T00:00:00\",\"2019-12-28T00:00:00\",\"2019-12-29T00:00:00\",\"2019-12-30T00:00:00\",\"2019-12-31T00:00:00\"],\"y\":[56.66,63.63,61.02,53.09,56.49,55.71,56.06,49.69,43.53,44.67,56.53,63.46,63.66,40.52,39.74,55.19,60.95,48.6,50.3,62.37,57.52,39.73,42.37,41.06,34.17,33.64,35.34,34.49,36.19,42.99,49.6,49.42,43.55,40.43,39.88,53.81,53.76,37.84,29.11,28.42,33.83,39.17,46.24,47.95,45.64,39.19,35.16,31.82,33.82,41.33,41.41,38.24,39.11,26.26,29.95,34.51,32.19,26.57,31.23,30.2,36.48,30.98,37.26,28.71,29.05,32.79,32.86,30.68,27.17,30.69,29.97,32.39,39.07,32.74,27.95,30.56,32.06,33.86,36.5,39.26,27.85,26.54,27.52,30.32,29.95,29.54,34.47,40.53,41.4,32.06,27.21,29.3,30.85,37.04,41.23,37.35,52.01,41.0,38.26,40.97,34.96,34.06,33.66,29.84,29.21,30.98,26.7,26.28,29.85,29.35,31.53,36.99,38.2,37.64,40.86,32.2,28.15,25.63,27.82,31.91,36.73,36.44,32.34,30.39,22.41,31.51,35.25,35.57,30.33,25.68,30.12,29.53,36.48,33.9,43.8,44.72,41.4,39.74,35.4,35.13,32.12,32.83,36.98,45.86,33.81,27.2,28.45,29.84,29.53,33.5,34.26,40.73,48.12,43.32,34.34,35.7,35.27,32.37,38.84,35.74,36.64,32.16,34.98,30.0,23.77,23.84,24.86,26.8,25.6,35.53,29.5,32.14,32.1,31.36,28.84,28.87,30.64,29.35,27.53,23.72,25.87,26.07,27.24,33.05,28.65,37.63,36.77,32.3,33.43,32.19,33.73,32.06,33.13,28.61,26.67,25.07,26.39,25.91,26.54,30.83,34.1,37.02,43.72,45.51,44.36,37.17,36.06,30.26,28.65,31.27,33.49,33.79,33.55,32.66,35.33,34.25,37.17,42.32,33.65,30.9,28.01,24.4,25.93,24.89,29.25,29.08,31.29,27.58,25.82,23.25,25.62,33.03,34.19,34.28,36.4,41.36,34.91,29.89,31.99,34.95,32.6,33.69,38.62,41.15,36.31,36.34,37.13,33.31,34.35,30.75,32.14,30.37,29.2,31.57,30.72,28.56,25.04,24.48,26.11,27.51,25.54,22.6,24.91,24.45,26.2,25.37,25.61,24.88,24.04,22.32,21.94,21.99,22.01,23.99,24.63,27.17,26.21,23.56,26.89,26.98,23.12,25.59,29.71,31.79,33.54,34.93,34.7,36.03,38.12,35.08,33.94,33.65,33.32,31.9,29.84,34.38,41.69,37.02,40.14,40.04,40.16,49.0,52.82,55.54,58.29,49.38,56.52,39.67,33.01,31.99,37.3,38.97,35.4,32.4,37.01,40.72,43.4,50.55,50.12,35.82,29.55,29.79,33.12,40.19,44.56,42.17,34.6,34.33,35.67,37.04,34.32,30.25,31.59,36.65,36.51,38.4,38.81,43.21,55.2,57.17,55.32,58.01,56.75,59.1,68.66,70.65,50.03,38.62,38.46,39.25,46.78,51.81,57.3,58.04,62.14,57.51,53.04,53.3,48.52,51.83,52.64,50.47,49.61,50.75,48.22],\"type\":\"scatter\",\"xaxis\":\"x5\",\"yaxis\":\"y5\"},{\"mode\":\"lines+markers\",\"name\":\"2015\",\"x\":[\"2015-01-01T00:00:00\",\"2015-01-02T00:00:00\",\"2015-01-03T00:00:00\",\"2015-01-04T00:00:00\",\"2015-01-05T00:00:00\",\"2015-01-06T00:00:00\",\"2015-01-07T00:00:00\",\"2015-01-08T00:00:00\",\"2015-01-09T00:00:00\",\"2015-01-10T00:00:00\",\"2015-01-11T00:00:00\",\"2015-01-12T00:00:00\",\"2015-01-13T00:00:00\",\"2015-01-14T00:00:00\",\"2015-01-15T00:00:00\",\"2015-01-16T00:00:00\",\"2015-01-17T00:00:00\",\"2015-01-18T00:00:00\",\"2015-01-19T00:00:00\",\"2015-01-20T00:00:00\",\"2015-01-21T00:00:00\",\"2015-01-22T00:00:00\",\"2015-01-23T00:00:00\",\"2015-01-24T00:00:00\",\"2015-01-25T00:00:00\",\"2015-01-26T00:00:00\",\"2015-01-27T00:00:00\",\"2015-01-28T00:00:00\",\"2015-01-29T00:00:00\",\"2015-01-30T00:00:00\",\"2015-01-31T00:00:00\",\"2015-02-01T00:00:00\",\"2015-02-02T00:00:00\",\"2015-02-03T00:00:00\",\"2015-02-04T00:00:00\",\"2015-02-05T00:00:00\",\"2015-02-06T00:00:00\",\"2015-02-07T00:00:00\",\"2015-02-08T00:00:00\",\"2015-02-09T00:00:00\",\"2015-02-10T00:00:00\",\"2015-02-11T00:00:00\",\"2015-02-12T00:00:00\",\"2015-02-13T00:00:00\",\"2015-02-14T00:00:00\",\"2015-02-15T00:00:00\",\"2015-02-16T00:00:00\",\"2015-02-17T00:00:00\",\"2015-02-18T00:00:00\",\"2015-02-19T00:00:00\",\"2015-02-20T00:00:00\",\"2015-02-21T00:00:00\",\"2015-02-22T00:00:00\",\"2015-02-23T00:00:00\",\"2015-02-24T00:00:00\",\"2015-02-25T00:00:00\",\"2015-02-26T00:00:00\",\"2015-02-27T00:00:00\",\"2015-02-28T00:00:00\",\"2015-03-01T00:00:00\",\"2015-03-02T00:00:00\",\"2015-03-03T00:00:00\",\"2015-03-04T00:00:00\",\"2015-03-05T00:00:00\",\"2015-03-06T00:00:00\",\"2015-03-07T00:00:00\",\"2015-03-08T00:00:00\",\"2015-03-09T00:00:00\",\"2015-03-10T00:00:00\",\"2015-03-11T00:00:00\",\"2015-03-12T00:00:00\",\"2015-03-13T00:00:00\",\"2015-03-14T00:00:00\",\"2015-03-15T00:00:00\",\"2015-03-16T00:00:00\",\"2015-03-17T00:00:00\",\"2015-03-18T00:00:00\",\"2015-03-19T00:00:00\",\"2015-03-20T00:00:00\",\"2015-03-21T00:00:00\",\"2015-03-22T00:00:00\",\"2015-03-23T00:00:00\",\"2015-03-24T00:00:00\",\"2015-03-25T00:00:00\",\"2015-03-26T00:00:00\",\"2015-03-27T00:00:00\",\"2015-03-28T00:00:00\",\"2015-03-29T00:00:00\",\"2015-03-30T00:00:00\",\"2015-03-31T00:00:00\",\"2015-04-01T00:00:00\",\"2015-04-02T00:00:00\",\"2015-04-03T00:00:00\",\"2015-04-04T00:00:00\",\"2015-04-05T00:00:00\",\"2015-04-06T00:00:00\",\"2015-04-07T00:00:00\",\"2015-04-08T00:00:00\",\"2015-04-09T00:00:00\",\"2015-04-10T00:00:00\",\"2015-04-11T00:00:00\",\"2015-04-12T00:00:00\",\"2015-04-13T00:00:00\",\"2015-04-14T00:00:00\",\"2015-04-15T00:00:00\",\"2015-04-16T00:00:00\",\"2015-04-17T00:00:00\",\"2015-04-18T00:00:00\",\"2015-04-19T00:00:00\",\"2015-04-20T00:00:00\",\"2015-04-21T00:00:00\",\"2015-04-22T00:00:00\",\"2015-04-23T00:00:00\",\"2015-04-24T00:00:00\",\"2015-04-25T00:00:00\",\"2015-04-26T00:00:00\",\"2015-04-27T00:00:00\",\"2015-04-28T00:00:00\",\"2015-04-29T00:00:00\",\"2015-04-30T00:00:00\",\"2015-05-01T00:00:00\",\"2015-05-02T00:00:00\",\"2015-05-03T00:00:00\",\"2015-05-04T00:00:00\",\"2015-05-05T00:00:00\",\"2015-05-06T00:00:00\",\"2015-05-07T00:00:00\",\"2015-05-08T00:00:00\",\"2015-05-09T00:00:00\",\"2015-05-10T00:00:00\",\"2015-05-11T00:00:00\",\"2015-05-12T00:00:00\",\"2015-05-13T00:00:00\",\"2015-05-14T00:00:00\",\"2015-05-15T00:00:00\",\"2015-05-16T00:00:00\",\"2015-05-17T00:00:00\",\"2015-05-18T00:00:00\",\"2015-05-19T00:00:00\",\"2015-05-20T00:00:00\",\"2015-05-21T00:00:00\",\"2015-05-22T00:00:00\",\"2015-05-23T00:00:00\",\"2015-05-24T00:00:00\",\"2015-05-25T00:00:00\",\"2015-05-26T00:00:00\",\"2015-05-27T00:00:00\",\"2015-05-28T00:00:00\",\"2015-05-29T00:00:00\",\"2015-05-30T00:00:00\",\"2015-05-31T00:00:00\",\"2015-06-01T00:00:00\",\"2015-06-02T00:00:00\",\"2015-06-03T00:00:00\",\"2015-06-04T00:00:00\",\"2015-06-05T00:00:00\",\"2015-06-06T00:00:00\",\"2015-06-07T00:00:00\",\"2015-06-08T00:00:00\",\"2015-06-09T00:00:00\",\"2015-06-10T00:00:00\",\"2015-06-11T00:00:00\",\"2015-06-12T00:00:00\",\"2015-06-13T00:00:00\",\"2015-06-14T00:00:00\",\"2015-06-15T00:00:00\",\"2015-06-16T00:00:00\",\"2015-06-17T00:00:00\",\"2015-06-18T00:00:00\",\"2015-06-19T00:00:00\",\"2015-06-20T00:00:00\",\"2015-06-21T00:00:00\",\"2015-06-22T00:00:00\",\"2015-06-23T00:00:00\",\"2015-06-24T00:00:00\",\"2015-06-25T00:00:00\",\"2015-06-26T00:00:00\",\"2015-06-27T00:00:00\",\"2015-06-28T00:00:00\",\"2015-06-29T00:00:00\",\"2015-06-30T00:00:00\",\"2015-07-01T00:00:00\",\"2015-07-02T00:00:00\",\"2015-07-03T00:00:00\",\"2015-07-04T00:00:00\",\"2015-07-05T00:00:00\",\"2015-07-06T00:00:00\",\"2015-07-07T00:00:00\",\"2015-07-08T00:00:00\",\"2015-07-09T00:00:00\",\"2015-07-10T00:00:00\",\"2015-07-11T00:00:00\",\"2015-07-12T00:00:00\",\"2015-07-13T00:00:00\",\"2015-07-14T00:00:00\",\"2015-07-15T00:00:00\",\"2015-07-16T00:00:00\",\"2015-07-17T00:00:00\",\"2015-07-18T00:00:00\",\"2015-07-19T00:00:00\",\"2015-07-20T00:00:00\",\"2015-07-21T00:00:00\",\"2015-07-22T00:00:00\",\"2015-07-23T00:00:00\",\"2015-07-24T00:00:00\",\"2015-07-25T00:00:00\",\"2015-07-26T00:00:00\",\"2015-07-27T00:00:00\",\"2015-07-28T00:00:00\",\"2015-07-29T00:00:00\",\"2015-07-30T00:00:00\",\"2015-07-31T00:00:00\",\"2015-08-01T00:00:00\",\"2015-08-02T00:00:00\",\"2015-08-03T00:00:00\",\"2015-08-04T00:00:00\",\"2015-08-05T00:00:00\",\"2015-08-06T00:00:00\",\"2015-08-07T00:00:00\",\"2015-08-08T00:00:00\",\"2015-08-09T00:00:00\",\"2015-08-10T00:00:00\",\"2015-08-11T00:00:00\",\"2015-08-12T00:00:00\",\"2015-08-13T00:00:00\",\"2015-08-14T00:00:00\",\"2015-08-15T00:00:00\",\"2015-08-16T00:00:00\",\"2015-08-17T00:00:00\",\"2015-08-18T00:00:00\",\"2015-08-19T00:00:00\",\"2015-08-20T00:00:00\",\"2015-08-21T00:00:00\",\"2015-08-22T00:00:00\",\"2015-08-23T00:00:00\",\"2015-08-24T00:00:00\",\"2015-08-25T00:00:00\",\"2015-08-26T00:00:00\",\"2015-08-27T00:00:00\",\"2015-08-28T00:00:00\",\"2015-08-29T00:00:00\",\"2015-08-30T00:00:00\",\"2015-08-31T00:00:00\",\"2015-09-01T00:00:00\",\"2015-09-02T00:00:00\",\"2015-09-03T00:00:00\",\"2015-09-04T00:00:00\",\"2015-09-05T00:00:00\",\"2015-09-06T00:00:00\",\"2015-09-07T00:00:00\",\"2015-09-08T00:00:00\",\"2015-09-09T00:00:00\",\"2015-09-10T00:00:00\",\"2015-09-11T00:00:00\",\"2015-09-12T00:00:00\",\"2015-09-13T00:00:00\",\"2015-09-14T00:00:00\",\"2015-09-15T00:00:00\",\"2015-09-16T00:00:00\",\"2015-09-17T00:00:00\",\"2015-09-18T00:00:00\",\"2015-09-19T00:00:00\",\"2015-09-20T00:00:00\",\"2015-09-21T00:00:00\",\"2015-09-22T00:00:00\",\"2015-09-23T00:00:00\",\"2015-09-24T00:00:00\",\"2015-09-25T00:00:00\",\"2015-09-26T00:00:00\",\"2015-09-27T00:00:00\",\"2015-09-28T00:00:00\",\"2015-09-29T00:00:00\",\"2015-09-30T00:00:00\",\"2015-10-01T00:00:00\",\"2015-10-02T00:00:00\",\"2015-10-03T00:00:00\",\"2015-10-04T00:00:00\",\"2015-10-05T00:00:00\",\"2015-10-06T00:00:00\",\"2015-10-07T00:00:00\",\"2015-10-08T00:00:00\",\"2015-10-09T00:00:00\",\"2015-10-10T00:00:00\",\"2015-10-11T00:00:00\",\"2015-10-12T00:00:00\",\"2015-10-13T00:00:00\",\"2015-10-14T00:00:00\",\"2015-10-15T00:00:00\",\"2015-10-16T00:00:00\",\"2015-10-17T00:00:00\",\"2015-10-18T00:00:00\",\"2015-10-19T00:00:00\",\"2015-10-20T00:00:00\",\"2015-10-21T00:00:00\",\"2015-10-22T00:00:00\",\"2015-10-23T00:00:00\",\"2015-10-24T00:00:00\",\"2015-10-25T00:00:00\",\"2015-10-26T00:00:00\",\"2015-10-27T00:00:00\",\"2015-10-28T00:00:00\",\"2015-10-29T00:00:00\",\"2015-10-30T00:00:00\",\"2015-10-31T00:00:00\",\"2015-11-01T00:00:00\",\"2015-11-02T00:00:00\",\"2015-11-03T00:00:00\",\"2015-11-04T00:00:00\",\"2015-11-05T00:00:00\",\"2015-11-06T00:00:00\",\"2015-11-07T00:00:00\",\"2015-11-08T00:00:00\",\"2015-11-09T00:00:00\",\"2015-11-10T00:00:00\",\"2015-11-11T00:00:00\",\"2015-11-12T00:00:00\",\"2015-11-13T00:00:00\",\"2015-11-14T00:00:00\",\"2015-11-15T00:00:00\",\"2015-11-16T00:00:00\",\"2015-11-17T00:00:00\",\"2015-11-18T00:00:00\",\"2015-11-19T00:00:00\",\"2015-11-20T00:00:00\",\"2015-11-21T00:00:00\",\"2015-11-22T00:00:00\",\"2015-11-23T00:00:00\",\"2015-11-24T00:00:00\",\"2015-11-25T00:00:00\",\"2015-11-26T00:00:00\",\"2015-11-27T00:00:00\",\"2015-11-28T00:00:00\",\"2015-11-29T00:00:00\",\"2015-11-30T00:00:00\",\"2015-12-01T00:00:00\",\"2015-12-02T00:00:00\",\"2015-12-03T00:00:00\",\"2015-12-04T00:00:00\",\"2015-12-05T00:00:00\",\"2015-12-06T00:00:00\",\"2015-12-07T00:00:00\",\"2015-12-08T00:00:00\",\"2015-12-09T00:00:00\",\"2015-12-10T00:00:00\",\"2015-12-11T00:00:00\",\"2015-12-12T00:00:00\",\"2015-12-13T00:00:00\",\"2015-12-14T00:00:00\",\"2015-12-15T00:00:00\",\"2015-12-16T00:00:00\",\"2015-12-17T00:00:00\",\"2015-12-18T00:00:00\",\"2015-12-19T00:00:00\",\"2015-12-20T00:00:00\",\"2015-12-21T00:00:00\",\"2015-12-22T00:00:00\",\"2015-12-23T00:00:00\",\"2015-12-24T00:00:00\",\"2015-12-25T00:00:00\",\"2015-12-26T00:00:00\",\"2015-12-27T00:00:00\",\"2015-12-28T00:00:00\",\"2015-12-29T00:00:00\",\"2015-12-30T00:00:00\",\"2015-12-31T00:00:00\"],\"y\":[33.85,31.83,69.55,130.36,122.88,134.97,134.82,138.13,140.6,134.06,131.1,148.51,145.48,166.7,124.64,136.4,125.49,120.45,148.49,146.31,63.23,39.65,39.98,38.77,45.62,60.96,40.96,49.71,62.03,69.78,67.66,96.69,84.49,66.38,53.28,51.24,63.45,58.15,66.72,74.29,79.54,95.13,69.47,83.96,137.27,61.89,74.74,75.66,79.83,81.44,81.04,69.59,70.25,36.38,34.14,34.91,23.22,22.36,16.49,12.44,19.11,16.04,17.44,28.86,32.04,16.83,16.12,15.2,18.88,29.48,30.72,23.31,29.21,30.59,33.16,39.8,39.16,36.77,35.07,32.01,32.52,32.13,31.79,27.92,28.0,27.34,32.82,37.35,28.77,30.62,36.05,31.04,35.48,28.46,32.3,44.66,29.78,24.84,30.04,30.32,34.01,28.79,38.86,36.68,34.8,37.84,30.04,28.99,34.39,33.63,30.3,24.36,29.32,36.5,37.0,32.83,32.27,29.46,29.93,29.08,26.55,26.99,35.46,31.33,35.82,39.27,35.52,30.52,34.25,31.32,36.11,52.21,56.95,47.74,44.08,41.94,43.23,40.95,40.32,42.24,56.95,45.91,36.5,37.22,40.26,33.51,29.05,35.74,41.74,40.66,36.27,35.12,46.09,54.47,57.58,75.0,71.88,46.57,50.63,46.56,43.33,35.31,40.11,41.36,56.02,60.68,59.1,55.88,59.55,55.65,48.06,66.21,50.28,51.94,62.47,50.86,45.56,42.36,41.99,43.97,41.11,40.5,39.09,37.32,61.61,64.99,38.68,42.09,42.84,48.61,53.64,42.6,48.01,41.83,49.32,44.18,31.83,40.17,42.26,42.68,41.37,38.36,36.49,33.95,37.38,37.05,33.05,30.92,28.99,28.56,29.31,25.17,23.1,24.2,30.76,31.77,37.94,37.79,39.64,43.18,36.5,35.68,41.69,39.85,39.16,38.58,33.42,33.29,29.73,32.71,25.85,20.57,21.67,28.2,33.25,38.16,36.07,31.88,25.74,32.56,31.16,28.16,23.0,18.96,18.6,17.86,23.02,26.99,23.17,23.76,27.35,22.77,24.07,34.81,46.05,51.19,43.99,46.66,49.72,48.13,40.48,47.21,39.93,27.96,23.06,18.66,18.24,22.95,29.98,30.43,26.35,25.2,21.93,22.52,26.24,24.31,34.91,36.94,41.76,37.01,29.59,27.47,29.69,30.83,33.46,35.14,28.75,31.11,33.05,6.78,21.49,33.27,36.75,37.48,22.53,30.27,34.26,28.26,23.85,26.14,22.81,25.55,28.72,35.77,51.64,42.75,45.66,56.81,45.99,46.52,67.43,49.64,55.64,69.34,48.34,47.57,50.58,48.04,49.4,60.07,41.89,45.24,55.18,64.78,63.08,63.4,74.83,67.9,35.62,40.68,57.48,60.1,59.13,73.94,57.35,52.71,52.48,43.76,68.78,75.74,81.3,90.35,61.29,50.46,57.97,49.91,37.83,38.84,34.31,52.2,59.43,65.5,74.04,126.19,100.15,163.07,108.68,65.53,62.62,69.77,72.76,69.14,60.62,72.74,72.69],\"type\":\"scatter\",\"xaxis\":\"x\",\"yaxis\":\"y\"},{\"mode\":\"lines+markers\",\"name\":\"2020\",\"x\":[\"2020-01-01T00:00:00\",\"2020-01-02T00:00:00\",\"2020-01-03T00:00:00\",\"2020-01-04T00:00:00\",\"2020-01-05T00:00:00\",\"2020-01-06T00:00:00\",\"2020-01-07T00:00:00\",\"2020-01-08T00:00:00\",\"2020-01-09T00:00:00\",\"2020-01-10T00:00:00\",\"2020-01-11T00:00:00\",\"2020-01-12T00:00:00\",\"2020-01-13T00:00:00\",\"2020-01-14T00:00:00\",\"2020-01-15T00:00:00\",\"2020-01-16T00:00:00\",\"2020-01-17T00:00:00\",\"2020-01-18T00:00:00\",\"2020-01-19T00:00:00\",\"2020-01-20T00:00:00\",\"2020-01-21T00:00:00\",\"2020-01-22T00:00:00\",\"2020-01-23T00:00:00\",\"2020-01-24T00:00:00\",\"2020-01-25T00:00:00\",\"2020-01-26T00:00:00\",\"2020-01-27T00:00:00\",\"2020-01-28T00:00:00\",\"2020-01-29T00:00:00\",\"2020-01-30T00:00:00\",\"2020-01-31T00:00:00\",\"2020-02-01T00:00:00\",\"2020-02-02T00:00:00\",\"2020-02-03T00:00:00\",\"2020-02-04T00:00:00\",\"2020-02-05T00:00:00\",\"2020-02-06T00:00:00\",\"2020-02-07T00:00:00\",\"2020-02-08T00:00:00\",\"2020-02-09T00:00:00\",\"2020-02-10T00:00:00\",\"2020-02-11T00:00:00\",\"2020-02-12T00:00:00\",\"2020-02-13T00:00:00\",\"2020-02-14T00:00:00\",\"2020-02-15T00:00:00\",\"2020-02-16T00:00:00\",\"2020-02-17T00:00:00\",\"2020-02-18T00:00:00\",\"2020-02-19T00:00:00\",\"2020-02-20T00:00:00\",\"2020-02-21T00:00:00\",\"2020-02-22T00:00:00\",\"2020-02-23T00:00:00\",\"2020-02-24T00:00:00\",\"2020-02-25T00:00:00\",\"2020-02-26T00:00:00\",\"2020-02-27T00:00:00\",\"2020-02-28T00:00:00\",\"2020-02-29T00:00:00\",\"2020-03-01T00:00:00\",\"2020-03-02T00:00:00\",\"2020-03-03T00:00:00\",\"2020-03-04T00:00:00\",\"2020-03-05T00:00:00\",\"2020-03-06T00:00:00\",\"2020-03-07T00:00:00\",\"2020-03-08T00:00:00\",\"2020-03-09T00:00:00\",\"2020-03-10T00:00:00\",\"2020-03-11T00:00:00\",\"2020-03-12T00:00:00\",\"2020-03-13T00:00:00\",\"2020-03-14T00:00:00\",\"2020-03-15T00:00:00\",\"2020-03-16T00:00:00\",\"2020-03-17T00:00:00\",\"2020-03-18T00:00:00\",\"2020-03-19T00:00:00\",\"2020-03-20T00:00:00\",\"2020-03-21T00:00:00\",\"2020-03-22T00:00:00\",\"2020-03-23T00:00:00\",\"2020-03-24T00:00:00\",\"2020-03-25T00:00:00\",\"2020-03-26T00:00:00\",\"2020-03-27T00:00:00\",\"2020-03-28T00:00:00\",\"2020-03-29T00:00:00\",\"2020-03-30T00:00:00\",\"2020-03-31T00:00:00\",\"2020-04-01T00:00:00\",\"2020-04-02T00:00:00\",\"2020-04-03T00:00:00\",\"2020-04-04T00:00:00\",\"2020-04-05T00:00:00\",\"2020-04-06T00:00:00\",\"2020-04-07T00:00:00\",\"2020-04-08T00:00:00\",\"2020-04-09T00:00:00\",\"2020-04-10T00:00:00\",\"2020-04-11T00:00:00\",\"2020-04-12T00:00:00\",\"2020-04-13T00:00:00\",\"2020-04-14T00:00:00\",\"2020-04-15T00:00:00\",\"2020-04-16T00:00:00\",\"2020-04-17T00:00:00\",\"2020-04-18T00:00:00\",\"2020-04-19T00:00:00\",\"2020-04-20T00:00:00\",\"2020-04-21T00:00:00\",\"2020-04-22T00:00:00\",\"2020-04-23T00:00:00\",\"2020-04-24T00:00:00\",\"2020-04-25T00:00:00\",\"2020-04-26T00:00:00\",\"2020-04-27T00:00:00\",\"2020-04-28T00:00:00\",\"2020-04-29T00:00:00\",\"2020-04-30T00:00:00\",\"2020-05-01T00:00:00\",\"2020-05-02T00:00:00\",\"2020-05-03T00:00:00\",\"2020-05-04T00:00:00\",\"2020-05-05T00:00:00\",\"2020-05-06T00:00:00\",\"2020-05-07T00:00:00\",\"2020-05-08T00:00:00\",\"2020-05-09T00:00:00\",\"2020-05-10T00:00:00\",\"2020-05-11T00:00:00\",\"2020-05-12T00:00:00\",\"2020-05-13T00:00:00\",\"2020-05-14T00:00:00\",\"2020-05-15T00:00:00\",\"2020-05-16T00:00:00\",\"2020-05-17T00:00:00\",\"2020-05-18T00:00:00\",\"2020-05-19T00:00:00\",\"2020-05-20T00:00:00\",\"2020-05-21T00:00:00\",\"2020-05-22T00:00:00\",\"2020-05-23T00:00:00\",\"2020-05-24T00:00:00\",\"2020-05-25T00:00:00\",\"2020-05-26T00:00:00\",\"2020-05-27T00:00:00\",\"2020-05-28T00:00:00\",\"2020-05-29T00:00:00\",\"2020-05-30T00:00:00\",\"2020-05-31T00:00:00\",\"2020-06-01T00:00:00\",\"2020-06-02T00:00:00\",\"2020-06-03T00:00:00\",\"2020-06-04T00:00:00\",\"2020-06-05T00:00:00\",\"2020-06-06T00:00:00\",\"2020-06-07T00:00:00\",\"2020-06-08T00:00:00\",\"2020-06-09T00:00:00\",\"2020-06-10T00:00:00\",\"2020-06-11T00:00:00\",\"2020-06-12T00:00:00\",\"2020-06-13T00:00:00\",\"2020-06-14T00:00:00\",\"2020-06-15T00:00:00\",\"2020-06-16T00:00:00\",\"2020-06-17T00:00:00\",\"2020-06-18T00:00:00\",\"2020-06-19T00:00:00\",\"2020-06-20T00:00:00\",\"2020-06-21T00:00:00\",\"2020-06-22T00:00:00\",\"2020-06-23T00:00:00\",\"2020-06-24T00:00:00\",\"2020-06-25T00:00:00\",\"2020-06-26T00:00:00\",\"2020-06-27T00:00:00\",\"2020-06-28T00:00:00\",\"2020-06-29T00:00:00\",\"2020-06-30T00:00:00\",\"2020-07-01T00:00:00\"],\"y\":[56.85,58.26,53.02,53.46,47.94,47.01,43.53,44.73,36.87,37.73,40.97,48.65,53.64,46.34,41.76,43.54,40.15,39.56,38.38,39.27,48.02,45.17,36.32,34.23,41.37,48.8,53.66,42.76,38.01,36.77,34.03,35.95,36.46,37.5,43.09,40.07,36.16,38.38,40.72,40.04,39.99,39.73,40.92,36.91,34.06,32.48,38.77,42.77,37.01,44.11,39.61,35.81,33.46,38.33,33.19,39.61,42.7,43.64,41.44,34.88,31.4,39.78,37.02,37.32,32.27,29.56,29.01,31.51,29.29,30.99,32.88,35.31,31.36,34.29,31.09,31.07,32.31,32.99,36.15,34.3,36.61,32.61,30.31,31.91,34.43,33.68,27.4,25.22,23.98,23.21,26.5,26.73,22.22,21.54,23.06,25.14,26.41,25.53,23.41,23.84,27.71,28.33,26.99,27.95,28.76,28.36,30.36,26.06,27.18,29.94,31.57,29.75,29.39,30.02,32.62,28.65,31.61,29.94,28.6,28.86,32.99,36.43,33.93,32.48,31.35,30.86,29.53,25.51,27.98,30.14,28.71,28.13,29.43,32.29,30.82,27.39,27.62,28.76,28.97,30.58,28.73,25.55,28.56,28.82,26.54,27.22,27.06,25.79,29.02,32.19,36.19,34.91,35.0,35.78,36.05,38.85,35.51,31.81,30.79,31.81,33.83,33.27,36.54,38.64,36.62,40.0,35.38,32.62,29.4,28.68,27.96,26.38,28.84,34.32,33.32,31.45,30.48,32.64,31.43,29.27,27.97,28.48,29.06],\"type\":\"scatter\",\"xaxis\":\"x6\",\"yaxis\":\"y6\"}],                        {\"template\":{\"data\":{\"bar\":[{\"error_x\":{\"color\":\"#2a3f5f\"},\"error_y\":{\"color\":\"#2a3f5f\"},\"marker\":{\"line\":{\"color\":\"#E5ECF6\",\"width\":0.5},\"pattern\":{\"fillmode\":\"overlay\",\"size\":10,\"solidity\":0.2}},\"type\":\"bar\"}],\"barpolar\":[{\"marker\":{\"line\":{\"color\":\"#E5ECF6\",\"width\":0.5},\"pattern\":{\"fillmode\":\"overlay\",\"size\":10,\"solidity\":0.2}},\"type\":\"barpolar\"}],\"carpet\":[{\"aaxis\":{\"endlinecolor\":\"#2a3f5f\",\"gridcolor\":\"white\",\"linecolor\":\"white\",\"minorgridcolor\":\"white\",\"startlinecolor\":\"#2a3f5f\"},\"baxis\":{\"endlinecolor\":\"#2a3f5f\",\"gridcolor\":\"white\",\"linecolor\":\"white\",\"minorgridcolor\":\"white\",\"startlinecolor\":\"#2a3f5f\"},\"type\":\"carpet\"}],\"choropleth\":[{\"colorbar\":{\"outlinewidth\":0,\"ticks\":\"\"},\"type\":\"choropleth\"}],\"contour\":[{\"colorbar\":{\"outlinewidth\":0,\"ticks\":\"\"},\"colorscale\":[[0.0,\"#0d0887\"],[0.1111111111111111,\"#46039f\"],[0.2222222222222222,\"#7201a8\"],[0.3333333333333333,\"#9c179e\"],[0.4444444444444444,\"#bd3786\"],[0.5555555555555556,\"#d8576b\"],[0.6666666666666666,\"#ed7953\"],[0.7777777777777778,\"#fb9f3a\"],[0.8888888888888888,\"#fdca26\"],[1.0,\"#f0f921\"]],\"type\":\"contour\"}],\"contourcarpet\":[{\"colorbar\":{\"outlinewidth\":0,\"ticks\":\"\"},\"type\":\"contourcarpet\"}],\"heatmap\":[{\"colorbar\":{\"outlinewidth\":0,\"ticks\":\"\"},\"colorscale\":[[0.0,\"#0d0887\"],[0.1111111111111111,\"#46039f\"],[0.2222222222222222,\"#7201a8\"],[0.3333333333333333,\"#9c179e\"],[0.4444444444444444,\"#bd3786\"],[0.5555555555555556,\"#d8576b\"],[0.6666666666666666,\"#ed7953\"],[0.7777777777777778,\"#fb9f3a\"],[0.8888888888888888,\"#fdca26\"],[1.0,\"#f0f921\"]],\"type\":\"heatmap\"}],\"heatmapgl\":[{\"colorbar\":{\"outlinewidth\":0,\"ticks\":\"\"},\"colorscale\":[[0.0,\"#0d0887\"],[0.1111111111111111,\"#46039f\"],[0.2222222222222222,\"#7201a8\"],[0.3333333333333333,\"#9c179e\"],[0.4444444444444444,\"#bd3786\"],[0.5555555555555556,\"#d8576b\"],[0.6666666666666666,\"#ed7953\"],[0.7777777777777778,\"#fb9f3a\"],[0.8888888888888888,\"#fdca26\"],[1.0,\"#f0f921\"]],\"type\":\"heatmapgl\"}],\"histogram\":[{\"marker\":{\"pattern\":{\"fillmode\":\"overlay\",\"size\":10,\"solidity\":0.2}},\"type\":\"histogram\"}],\"histogram2d\":[{\"colorbar\":{\"outlinewidth\":0,\"ticks\":\"\"},\"colorscale\":[[0.0,\"#0d0887\"],[0.1111111111111111,\"#46039f\"],[0.2222222222222222,\"#7201a8\"],[0.3333333333333333,\"#9c179e\"],[0.4444444444444444,\"#bd3786\"],[0.5555555555555556,\"#d8576b\"],[0.6666666666666666,\"#ed7953\"],[0.7777777777777778,\"#fb9f3a\"],[0.8888888888888888,\"#fdca26\"],[1.0,\"#f0f921\"]],\"type\":\"histogram2d\"}],\"histogram2dcontour\":[{\"colorbar\":{\"outlinewidth\":0,\"ticks\":\"\"},\"colorscale\":[[0.0,\"#0d0887\"],[0.1111111111111111,\"#46039f\"],[0.2222222222222222,\"#7201a8\"],[0.3333333333333333,\"#9c179e\"],[0.4444444444444444,\"#bd3786\"],[0.5555555555555556,\"#d8576b\"],[0.6666666666666666,\"#ed7953\"],[0.7777777777777778,\"#fb9f3a\"],[0.8888888888888888,\"#fdca26\"],[1.0,\"#f0f921\"]],\"type\":\"histogram2dcontour\"}],\"mesh3d\":[{\"colorbar\":{\"outlinewidth\":0,\"ticks\":\"\"},\"type\":\"mesh3d\"}],\"parcoords\":[{\"line\":{\"colorbar\":{\"outlinewidth\":0,\"ticks\":\"\"}},\"type\":\"parcoords\"}],\"pie\":[{\"automargin\":true,\"type\":\"pie\"}],\"scatter\":[{\"marker\":{\"colorbar\":{\"outlinewidth\":0,\"ticks\":\"\"}},\"type\":\"scatter\"}],\"scatter3d\":[{\"line\":{\"colorbar\":{\"outlinewidth\":0,\"ticks\":\"\"}},\"marker\":{\"colorbar\":{\"outlinewidth\":0,\"ticks\":\"\"}},\"type\":\"scatter3d\"}],\"scattercarpet\":[{\"marker\":{\"colorbar\":{\"outlinewidth\":0,\"ticks\":\"\"}},\"type\":\"scattercarpet\"}],\"scattergeo\":[{\"marker\":{\"colorbar\":{\"outlinewidth\":0,\"ticks\":\"\"}},\"type\":\"scattergeo\"}],\"scattergl\":[{\"marker\":{\"colorbar\":{\"outlinewidth\":0,\"ticks\":\"\"}},\"type\":\"scattergl\"}],\"scattermapbox\":[{\"marker\":{\"colorbar\":{\"outlinewidth\":0,\"ticks\":\"\"}},\"type\":\"scattermapbox\"}],\"scatterpolar\":[{\"marker\":{\"colorbar\":{\"outlinewidth\":0,\"ticks\":\"\"}},\"type\":\"scatterpolar\"}],\"scatterpolargl\":[{\"marker\":{\"colorbar\":{\"outlinewidth\":0,\"ticks\":\"\"}},\"type\":\"scatterpolargl\"}],\"scatterternary\":[{\"marker\":{\"colorbar\":{\"outlinewidth\":0,\"ticks\":\"\"}},\"type\":\"scatterternary\"}],\"surface\":[{\"colorbar\":{\"outlinewidth\":0,\"ticks\":\"\"},\"colorscale\":[[0.0,\"#0d0887\"],[0.1111111111111111,\"#46039f\"],[0.2222222222222222,\"#7201a8\"],[0.3333333333333333,\"#9c179e\"],[0.4444444444444444,\"#bd3786\"],[0.5555555555555556,\"#d8576b\"],[0.6666666666666666,\"#ed7953\"],[0.7777777777777778,\"#fb9f3a\"],[0.8888888888888888,\"#fdca26\"],[1.0,\"#f0f921\"]],\"type\":\"surface\"}],\"table\":[{\"cells\":{\"fill\":{\"color\":\"#EBF0F8\"},\"line\":{\"color\":\"white\"}},\"header\":{\"fill\":{\"color\":\"#C8D4E3\"},\"line\":{\"color\":\"white\"}},\"type\":\"table\"}]},\"layout\":{\"annotationdefaults\":{\"arrowcolor\":\"#2a3f5f\",\"arrowhead\":0,\"arrowwidth\":1},\"autotypenumbers\":\"strict\",\"coloraxis\":{\"colorbar\":{\"outlinewidth\":0,\"ticks\":\"\"}},\"colorscale\":{\"diverging\":[[0,\"#8e0152\"],[0.1,\"#c51b7d\"],[0.2,\"#de77ae\"],[0.3,\"#f1b6da\"],[0.4,\"#fde0ef\"],[0.5,\"#f7f7f7\"],[0.6,\"#e6f5d0\"],[0.7,\"#b8e186\"],[0.8,\"#7fbc41\"],[0.9,\"#4d9221\"],[1,\"#276419\"]],\"sequential\":[[0.0,\"#0d0887\"],[0.1111111111111111,\"#46039f\"],[0.2222222222222222,\"#7201a8\"],[0.3333333333333333,\"#9c179e\"],[0.4444444444444444,\"#bd3786\"],[0.5555555555555556,\"#d8576b\"],[0.6666666666666666,\"#ed7953\"],[0.7777777777777778,\"#fb9f3a\"],[0.8888888888888888,\"#fdca26\"],[1.0,\"#f0f921\"]],\"sequentialminus\":[[0.0,\"#0d0887\"],[0.1111111111111111,\"#46039f\"],[0.2222222222222222,\"#7201a8\"],[0.3333333333333333,\"#9c179e\"],[0.4444444444444444,\"#bd3786\"],[0.5555555555555556,\"#d8576b\"],[0.6666666666666666,\"#ed7953\"],[0.7777777777777778,\"#fb9f3a\"],[0.8888888888888888,\"#fdca26\"],[1.0,\"#f0f921\"]]},\"colorway\":[\"#636efa\",\"#EF553B\",\"#00cc96\",\"#ab63fa\",\"#FFA15A\",\"#19d3f3\",\"#FF6692\",\"#B6E880\",\"#FF97FF\",\"#FECB52\"],\"font\":{\"color\":\"#2a3f5f\"},\"geo\":{\"bgcolor\":\"white\",\"lakecolor\":\"white\",\"landcolor\":\"#E5ECF6\",\"showlakes\":true,\"showland\":true,\"subunitcolor\":\"white\"},\"hoverlabel\":{\"align\":\"left\"},\"hovermode\":\"closest\",\"mapbox\":{\"style\":\"light\"},\"paper_bgcolor\":\"white\",\"plot_bgcolor\":\"#E5ECF6\",\"polar\":{\"angularaxis\":{\"gridcolor\":\"white\",\"linecolor\":\"white\",\"ticks\":\"\"},\"bgcolor\":\"#E5ECF6\",\"radialaxis\":{\"gridcolor\":\"white\",\"linecolor\":\"white\",\"ticks\":\"\"}},\"scene\":{\"xaxis\":{\"backgroundcolor\":\"#E5ECF6\",\"gridcolor\":\"white\",\"gridwidth\":2,\"linecolor\":\"white\",\"showbackground\":true,\"ticks\":\"\",\"zerolinecolor\":\"white\"},\"yaxis\":{\"backgroundcolor\":\"#E5ECF6\",\"gridcolor\":\"white\",\"gridwidth\":2,\"linecolor\":\"white\",\"showbackground\":true,\"ticks\":\"\",\"zerolinecolor\":\"white\"},\"zaxis\":{\"backgroundcolor\":\"#E5ECF6\",\"gridcolor\":\"white\",\"gridwidth\":2,\"linecolor\":\"white\",\"showbackground\":true,\"ticks\":\"\",\"zerolinecolor\":\"white\"}},\"shapedefaults\":{\"line\":{\"color\":\"#2a3f5f\"}},\"ternary\":{\"aaxis\":{\"gridcolor\":\"white\",\"linecolor\":\"white\",\"ticks\":\"\"},\"baxis\":{\"gridcolor\":\"white\",\"linecolor\":\"white\",\"ticks\":\"\"},\"bgcolor\":\"#E5ECF6\",\"caxis\":{\"gridcolor\":\"white\",\"linecolor\":\"white\",\"ticks\":\"\"}},\"title\":{\"x\":0.05},\"xaxis\":{\"automargin\":true,\"gridcolor\":\"white\",\"linecolor\":\"white\",\"ticks\":\"\",\"title\":{\"standoff\":15},\"zerolinecolor\":\"white\",\"zerolinewidth\":2},\"yaxis\":{\"automargin\":true,\"gridcolor\":\"white\",\"linecolor\":\"white\",\"ticks\":\"\",\"title\":{\"standoff\":15},\"zerolinecolor\":\"white\",\"zerolinewidth\":2}}},\"xaxis\":{\"anchor\":\"y\",\"domain\":[0.0,0.2888888888888889]},\"yaxis\":{\"anchor\":\"x\",\"domain\":[0.625,1.0]},\"xaxis2\":{\"anchor\":\"y2\",\"domain\":[0.35555555555555557,0.6444444444444445]},\"yaxis2\":{\"anchor\":\"x2\",\"domain\":[0.625,1.0]},\"xaxis3\":{\"anchor\":\"y3\",\"domain\":[0.7111111111111111,1.0]},\"yaxis3\":{\"anchor\":\"x3\",\"domain\":[0.625,1.0]},\"xaxis4\":{\"anchor\":\"y4\",\"domain\":[0.0,0.2888888888888889]},\"yaxis4\":{\"anchor\":\"x4\",\"domain\":[0.0,0.375]},\"xaxis5\":{\"anchor\":\"y5\",\"domain\":[0.35555555555555557,0.6444444444444445]},\"yaxis5\":{\"anchor\":\"x5\",\"domain\":[0.0,0.375]},\"xaxis6\":{\"anchor\":\"y6\",\"domain\":[0.7111111111111111,1.0]},\"yaxis6\":{\"anchor\":\"x6\",\"domain\":[0.0,0.375]},\"annotations\":[{\"font\":{\"size\":16},\"showarrow\":false,\"text\":\"2015\",\"x\":0.14444444444444446,\"xanchor\":\"center\",\"xref\":\"paper\",\"y\":1.0,\"yanchor\":\"bottom\",\"yref\":\"paper\"},{\"font\":{\"size\":16},\"showarrow\":false,\"text\":\"2016\",\"x\":0.5,\"xanchor\":\"center\",\"xref\":\"paper\",\"y\":1.0,\"yanchor\":\"bottom\",\"yref\":\"paper\"},{\"font\":{\"size\":16},\"showarrow\":false,\"text\":\"2017\",\"x\":0.8555555555555556,\"xanchor\":\"center\",\"xref\":\"paper\",\"y\":1.0,\"yanchor\":\"bottom\",\"yref\":\"paper\"},{\"font\":{\"size\":16},\"showarrow\":false,\"text\":\"2018\",\"x\":0.14444444444444446,\"xanchor\":\"center\",\"xref\":\"paper\",\"y\":0.375,\"yanchor\":\"bottom\",\"yref\":\"paper\"},{\"font\":{\"size\":16},\"showarrow\":false,\"text\":\"2019\",\"x\":0.5,\"xanchor\":\"center\",\"xref\":\"paper\",\"y\":0.375,\"yanchor\":\"bottom\",\"yref\":\"paper\"}],\"title\":{\"text\":\"NH3 IN DIFFERENT YEARS\"},\"height\":700},                        {\"responsive\": true}                    ).then(function(){\n",
       "                            \n",
       "var gd = document.getElementById('2b63fefd-37f9-4c5d-af2d-ec7ef8388fad');\n",
       "var x = new MutationObserver(function (mutations, observer) {{\n",
       "        var display = window.getComputedStyle(gd).display;\n",
       "        if (!display || display === 'none') {{\n",
       "            console.log([gd, 'removed!']);\n",
       "            Plotly.purge(gd);\n",
       "            observer.disconnect();\n",
       "        }}\n",
       "}});\n",
       "\n",
       "// Listen for the removal of the full notebook cells\n",
       "var notebookContainer = gd.closest('#notebook-container');\n",
       "if (notebookContainer) {{\n",
       "    x.observe(notebookContainer, {childList: true});\n",
       "}}\n",
       "\n",
       "// Listen for the clearing of the current output cell\n",
       "var outputEl = gd.closest('.output');\n",
       "if (outputEl) {{\n",
       "    x.observe(outputEl, {childList: true});\n",
       "}}\n",
       "\n",
       "                        })                };                });            </script>        </div>"
      ]
     },
     "metadata": {},
     "output_type": "display_data"
    }
   ],
   "source": [
    "from plotly.subplots import make_subplots\n",
    "fig = make_subplots(rows=2, cols=3,subplot_titles=(\"2015\",\"2016\", \"2017\", \"2018\",\"2019\"))\n",
    "fig.add_trace(\n",
    "    go.Scatter(\n",
    "    name =\"2016\",\n",
    "    mode = \"lines+markers\",\n",
    "    y = aqi_level_16.iloc[:,2],\n",
    "    x = aqi_level_16.iloc[:,1]),\n",
    "    row = 1 ,col =2)\n",
    "\n",
    "\n",
    "fig.add_trace(go.Scatter(\n",
    "    name =\"2017\",\n",
    "    mode = \"lines+markers\",\n",
    "    y = aqi_level_17.iloc[:,2],\n",
    "    x = aqi_level_17.iloc[:,1]),\n",
    "    row=1, col=3\n",
    ")\n",
    "\n",
    "    \n",
    "    \n",
    "\n",
    "\n",
    "fig.add_trace(go.Scatter(\n",
    "    name =\"2018\",\n",
    "    mode = \"lines+markers\",\n",
    "    y = aqi_level_18.iloc[:,2],\n",
    "    x = aqi_level_18.iloc[:,1]),\n",
    "    row=2, col=1\n",
    ")\n",
    "\n",
    "fig.add_trace(go.Scatter(\n",
    "    name =\"2019\",\n",
    "    mode = \"lines+markers\",\n",
    "    y = aqi_level_19.iloc[:,2],\n",
    "    x = aqi_level_19.iloc[:,1]),\n",
    "    row=2, col=2\n",
    ")\n",
    "\n",
    "fig.add_trace(go.Scatter(\n",
    "    name =\"2015\",\n",
    "    mode = \"lines+markers\",\n",
    "    y = aqi_level_15.iloc[:,2],\n",
    "    x = aqi_level_15.iloc[:,1]),\n",
    "    row=1, col=1\n",
    ")\n",
    "fig.add_trace(go.Scatter(name=\"2020\",\n",
    "                         mode = \"lines+markers\", \n",
    "                         y = aqi_level_20.iloc[:,2],\n",
    "                         x = aqi_level_20.iloc[:,1]),\n",
    "                         row = 2,col = 3)\n",
    "fig.update_layout(title_text=\"NH3 IN DIFFERENT YEARS\", height=700)\n",
    "fig.show()\n"
   ]
  },
  {
   "cell_type": "code",
   "execution_count": 24,
   "id": "a2768218",
   "metadata": {},
   "outputs": [
    {
     "data": {
      "application/vnd.plotly.v1+json": {
       "config": {
        "plotlyServerURL": "https://plot.ly"
       },
       "data": [
        {
         "hovertemplate": "PM10=%{x}<br>Date=%{y}<br>AQI_Bucket=%{z}<extra></extra>",
         "legendgroup": "",
         "marker": {
          "color": "#636efa",
          "symbol": "circle"
         },
         "mode": "markers",
         "name": "",
         "scene": "scene",
         "showlegend": false,
         "type": "scatter3d",
         "x": [
          483.87,
          439.31,
          337.04,
          327.22,
          257.94,
          247.47,
          176.22,
          145.85,
          132.06,
          203.54,
          245.62,
          325.36,
          329.77,
          163.67,
          179.08,
          197.9,
          152.98,
          198.24,
          187.93,
          225.67,
          348.45,
          296.98,
          137.61,
          151.81,
          240.57,
          309.09,
          330.91,
          149.12,
          134.17,
          168.43,
          170.33,
          201.19,
          200.9,
          243.43,
          340.56,
          255.41,
          205.43,
          253.82,
          238.17,
          247.62,
          292.44,
          306.12,
          295.05,
          179.78,
          172.28,
          174.78,
          237.81,
          282.84,
          238.91,
          286.39,
          223.69,
          85.49,
          123.44,
          182.2,
          145.05,
          224.02,
          258.62,
          203.77,
          161.36,
          115.82,
          91.88,
          203.51,
          188.73,
          193.79,
          67.5,
          38.5,
          85.45,
          140.22,
          133.75,
          160.91,
          112.57,
          155.18,
          209.02,
          85.26,
          124.24,
          144.37,
          160.15,
          162.56,
          195.15,
          200.79,
          184.81,
          134.46,
          100.55,
          103.62,
          68.03,
          75.81,
          45.48,
          34.15,
          55.75,
          64.66,
          67.01,
          65.84,
          61.06,
          62.69,
          77.64,
          96.88,
          114.88,
          94.02,
          79.04,
          76.32,
          112.93,
          118.1,
          92.7,
          136.77,
          144.7,
          190.98,
          191.17,
          89.58,
          102.53,
          73.86,
          113.25,
          87.27,
          130.99,
          127.82,
          138.46,
          85.83,
          117.1,
          53.02,
          80.36,
          114.91,
          115.63,
          143.11,
          107.36,
          83.02,
          60.59,
          115.91,
          169.61,
          88.35,
          120.82,
          126.9,
          110.39,
          93.49,
          94.4,
          159.2,
          126.53,
          101.93,
          151.8,
          187.24,
          192.68,
          208.65,
          155.41,
          163.77,
          213.47,
          209.49,
          179.3,
          162.41,
          190.11,
          161.76,
          229.55,
          66.66,
          53.19,
          40.43,
          80.47,
          98.32,
          114.01,
          143.79,
          87.05,
          80.49,
          91.17,
          103.27,
          148.67,
          156.29,
          134.36,
          152.7,
          129.33,
          150.28,
          120.23,
          107.99,
          92.58,
          100.62,
          205.56,
          108.73,
          95.63,
          77.48,
          64.12,
          62.61,
          77.76,
          112.08,
          155.94,
          308.65,
          184.12,
          91.98,
          128.66
         ],
         "y": [
          "2020-01-01T00:00:00",
          "2020-01-02T00:00:00",
          "2020-01-03T00:00:00",
          "2020-01-04T00:00:00",
          "2020-01-05T00:00:00",
          "2020-01-06T00:00:00",
          "2020-01-07T00:00:00",
          "2020-01-08T00:00:00",
          "2020-01-09T00:00:00",
          "2020-01-10T00:00:00",
          "2020-01-11T00:00:00",
          "2020-01-12T00:00:00",
          "2020-01-13T00:00:00",
          "2020-01-14T00:00:00",
          "2020-01-15T00:00:00",
          "2020-01-16T00:00:00",
          "2020-01-17T00:00:00",
          "2020-01-18T00:00:00",
          "2020-01-19T00:00:00",
          "2020-01-20T00:00:00",
          "2020-01-21T00:00:00",
          "2020-01-22T00:00:00",
          "2020-01-23T00:00:00",
          "2020-01-24T00:00:00",
          "2020-01-25T00:00:00",
          "2020-01-26T00:00:00",
          "2020-01-27T00:00:00",
          "2020-01-28T00:00:00",
          "2020-01-29T00:00:00",
          "2020-01-30T00:00:00",
          "2020-01-31T00:00:00",
          "2020-02-01T00:00:00",
          "2020-02-02T00:00:00",
          "2020-02-03T00:00:00",
          "2020-02-04T00:00:00",
          "2020-02-05T00:00:00",
          "2020-02-06T00:00:00",
          "2020-02-07T00:00:00",
          "2020-02-08T00:00:00",
          "2020-02-09T00:00:00",
          "2020-02-10T00:00:00",
          "2020-02-11T00:00:00",
          "2020-02-12T00:00:00",
          "2020-02-13T00:00:00",
          "2020-02-14T00:00:00",
          "2020-02-15T00:00:00",
          "2020-02-16T00:00:00",
          "2020-02-17T00:00:00",
          "2020-02-18T00:00:00",
          "2020-02-19T00:00:00",
          "2020-02-20T00:00:00",
          "2020-02-21T00:00:00",
          "2020-02-22T00:00:00",
          "2020-02-23T00:00:00",
          "2020-02-24T00:00:00",
          "2020-02-25T00:00:00",
          "2020-02-26T00:00:00",
          "2020-02-27T00:00:00",
          "2020-02-28T00:00:00",
          "2020-02-29T00:00:00",
          "2020-03-01T00:00:00",
          "2020-03-02T00:00:00",
          "2020-03-03T00:00:00",
          "2020-03-04T00:00:00",
          "2020-03-05T00:00:00",
          "2020-03-06T00:00:00",
          "2020-03-07T00:00:00",
          "2020-03-08T00:00:00",
          "2020-03-09T00:00:00",
          "2020-03-10T00:00:00",
          "2020-03-11T00:00:00",
          "2020-03-12T00:00:00",
          "2020-03-13T00:00:00",
          "2020-03-14T00:00:00",
          "2020-03-15T00:00:00",
          "2020-03-16T00:00:00",
          "2020-03-17T00:00:00",
          "2020-03-18T00:00:00",
          "2020-03-19T00:00:00",
          "2020-03-20T00:00:00",
          "2020-03-21T00:00:00",
          "2020-03-22T00:00:00",
          "2020-03-23T00:00:00",
          "2020-03-24T00:00:00",
          "2020-03-25T00:00:00",
          "2020-03-26T00:00:00",
          "2020-03-27T00:00:00",
          "2020-03-28T00:00:00",
          "2020-03-29T00:00:00",
          "2020-03-30T00:00:00",
          "2020-03-31T00:00:00",
          "2020-04-01T00:00:00",
          "2020-04-02T00:00:00",
          "2020-04-03T00:00:00",
          "2020-04-04T00:00:00",
          "2020-04-05T00:00:00",
          "2020-04-06T00:00:00",
          "2020-04-07T00:00:00",
          "2020-04-08T00:00:00",
          "2020-04-09T00:00:00",
          "2020-04-10T00:00:00",
          "2020-04-11T00:00:00",
          "2020-04-12T00:00:00",
          "2020-04-13T00:00:00",
          "2020-04-14T00:00:00",
          "2020-04-15T00:00:00",
          "2020-04-16T00:00:00",
          "2020-04-17T00:00:00",
          "2020-04-18T00:00:00",
          "2020-04-19T00:00:00",
          "2020-04-20T00:00:00",
          "2020-04-21T00:00:00",
          "2020-04-22T00:00:00",
          "2020-04-23T00:00:00",
          "2020-04-24T00:00:00",
          "2020-04-25T00:00:00",
          "2020-04-26T00:00:00",
          "2020-04-27T00:00:00",
          "2020-04-28T00:00:00",
          "2020-04-29T00:00:00",
          "2020-04-30T00:00:00",
          "2020-05-01T00:00:00",
          "2020-05-02T00:00:00",
          "2020-05-03T00:00:00",
          "2020-05-04T00:00:00",
          "2020-05-05T00:00:00",
          "2020-05-06T00:00:00",
          "2020-05-07T00:00:00",
          "2020-05-08T00:00:00",
          "2020-05-09T00:00:00",
          "2020-05-10T00:00:00",
          "2020-05-11T00:00:00",
          "2020-05-12T00:00:00",
          "2020-05-13T00:00:00",
          "2020-05-14T00:00:00",
          "2020-05-15T00:00:00",
          "2020-05-16T00:00:00",
          "2020-05-17T00:00:00",
          "2020-05-18T00:00:00",
          "2020-05-19T00:00:00",
          "2020-05-20T00:00:00",
          "2020-05-21T00:00:00",
          "2020-05-22T00:00:00",
          "2020-05-23T00:00:00",
          "2020-05-24T00:00:00",
          "2020-05-25T00:00:00",
          "2020-05-26T00:00:00",
          "2020-05-27T00:00:00",
          "2020-05-28T00:00:00",
          "2020-05-29T00:00:00",
          "2020-05-30T00:00:00",
          "2020-05-31T00:00:00",
          "2020-06-01T00:00:00",
          "2020-06-02T00:00:00",
          "2020-06-03T00:00:00",
          "2020-06-04T00:00:00",
          "2020-06-05T00:00:00",
          "2020-06-06T00:00:00",
          "2020-06-07T00:00:00",
          "2020-06-08T00:00:00",
          "2020-06-09T00:00:00",
          "2020-06-10T00:00:00",
          "2020-06-11T00:00:00",
          "2020-06-12T00:00:00",
          "2020-06-13T00:00:00",
          "2020-06-14T00:00:00",
          "2020-06-15T00:00:00",
          "2020-06-16T00:00:00",
          "2020-06-17T00:00:00",
          "2020-06-18T00:00:00",
          "2020-06-19T00:00:00",
          "2020-06-20T00:00:00",
          "2020-06-21T00:00:00",
          "2020-06-22T00:00:00",
          "2020-06-23T00:00:00",
          "2020-06-24T00:00:00",
          "2020-06-25T00:00:00",
          "2020-06-26T00:00:00",
          "2020-06-27T00:00:00",
          "2020-06-28T00:00:00",
          "2020-06-29T00:00:00",
          "2020-06-30T00:00:00",
          "2020-07-01T00:00:00"
         ],
         "z": [
          "Severe",
          "Severe",
          "Severe",
          "Very Poor",
          "Very Poor",
          "Very Poor",
          "Poor",
          "Poor",
          "Poor",
          "Poor",
          "Very Poor",
          "Very Poor",
          "Very Poor",
          "Very Poor",
          "Poor",
          "Poor",
          "Poor",
          "Poor",
          "Poor",
          "Poor",
          "Very Poor",
          "Very Poor",
          "Poor",
          "Moderate",
          "Poor",
          "Very Poor",
          "Very Poor",
          "Very Poor",
          "Poor",
          "Moderate",
          "Poor",
          "Poor",
          "Poor",
          "Poor",
          "Very Poor",
          "Very Poor",
          "Poor",
          "Very Poor",
          "Very Poor",
          "Very Poor",
          "Very Poor",
          "Very Poor",
          "Very Poor",
          "Poor",
          "Moderate",
          "Moderate",
          "Poor",
          "Very Poor",
          "Poor",
          "Poor",
          "Poor",
          "Moderate",
          "Moderate",
          "Poor",
          "Moderate",
          "Poor",
          "Very Poor",
          "Poor",
          "Poor",
          "Moderate",
          "Moderate",
          "Moderate",
          "Poor",
          "Moderate",
          "Moderate",
          "Satisfactory",
          "Satisfactory",
          "Moderate",
          "Moderate",
          "Moderate",
          "Moderate",
          "Moderate",
          "Moderate",
          "Moderate",
          "Moderate",
          "Moderate",
          "Moderate",
          "Moderate",
          "Moderate",
          "Poor",
          "Poor",
          "Moderate",
          "Moderate",
          "Moderate",
          "Satisfactory",
          "Satisfactory",
          "Satisfactory",
          "Satisfactory",
          "Satisfactory",
          "Satisfactory",
          "Satisfactory",
          "Satisfactory",
          "Satisfactory",
          "Satisfactory",
          "Satisfactory",
          "Moderate",
          "Moderate",
          "Satisfactory",
          "Satisfactory",
          "Satisfactory",
          "Moderate",
          "Moderate",
          "Moderate",
          "Moderate",
          "Moderate",
          "Moderate",
          "Moderate",
          "Moderate",
          "Moderate",
          "Satisfactory",
          "Moderate",
          "Moderate",
          "Moderate",
          "Moderate",
          "Moderate",
          "Moderate",
          "Moderate",
          "Satisfactory",
          "Moderate",
          "Moderate",
          "Moderate",
          "Moderate",
          "Moderate",
          "Moderate",
          "Satisfactory",
          "Moderate",
          "Moderate",
          "Moderate",
          "Moderate",
          "Moderate",
          "Moderate",
          "Moderate",
          "Moderate",
          "Moderate",
          "Moderate",
          "Moderate",
          "Moderate",
          "Poor",
          "Poor",
          "Poor",
          "Moderate",
          "Moderate",
          "Moderate",
          "Poor",
          "Moderate",
          "Moderate",
          "Moderate",
          "Moderate",
          "Moderate",
          "Moderate",
          "Satisfactory",
          "Satisfactory",
          "Satisfactory",
          "Moderate",
          "Moderate",
          "Moderate",
          "Moderate",
          "Moderate",
          "Moderate",
          "Moderate",
          "Moderate",
          "Moderate",
          "Moderate",
          "Moderate",
          "Moderate",
          "Moderate",
          "Moderate",
          "Moderate",
          "Moderate",
          "Moderate",
          "Moderate",
          "Moderate",
          "Moderate",
          "Moderate",
          "Satisfactory",
          "Satisfactory",
          "Satisfactory",
          "Moderate",
          "Moderate",
          "Moderate",
          "Poor",
          "Moderate",
          "Moderate"
         ]
        }
       ],
       "layout": {
        "legend": {
         "tracegroupgap": 0
        },
        "margin": {
         "t": 60
        },
        "scene": {
         "domain": {
          "x": [
           0,
           1
          ],
          "y": [
           0,
           1
          ]
         },
         "xaxis": {
          "title": {
           "text": "PM10"
          }
         },
         "yaxis": {
          "title": {
           "text": "Date"
          }
         },
         "zaxis": {
          "title": {
           "text": "AQI_Bucket"
          }
         }
        },
        "template": {
         "data": {
          "bar": [
           {
            "error_x": {
             "color": "#2a3f5f"
            },
            "error_y": {
             "color": "#2a3f5f"
            },
            "marker": {
             "line": {
              "color": "#E5ECF6",
              "width": 0.5
             },
             "pattern": {
              "fillmode": "overlay",
              "size": 10,
              "solidity": 0.2
             }
            },
            "type": "bar"
           }
          ],
          "barpolar": [
           {
            "marker": {
             "line": {
              "color": "#E5ECF6",
              "width": 0.5
             },
             "pattern": {
              "fillmode": "overlay",
              "size": 10,
              "solidity": 0.2
             }
            },
            "type": "barpolar"
           }
          ],
          "carpet": [
           {
            "aaxis": {
             "endlinecolor": "#2a3f5f",
             "gridcolor": "white",
             "linecolor": "white",
             "minorgridcolor": "white",
             "startlinecolor": "#2a3f5f"
            },
            "baxis": {
             "endlinecolor": "#2a3f5f",
             "gridcolor": "white",
             "linecolor": "white",
             "minorgridcolor": "white",
             "startlinecolor": "#2a3f5f"
            },
            "type": "carpet"
           }
          ],
          "choropleth": [
           {
            "colorbar": {
             "outlinewidth": 0,
             "ticks": ""
            },
            "type": "choropleth"
           }
          ],
          "contour": [
           {
            "colorbar": {
             "outlinewidth": 0,
             "ticks": ""
            },
            "colorscale": [
             [
              0,
              "#0d0887"
             ],
             [
              0.1111111111111111,
              "#46039f"
             ],
             [
              0.2222222222222222,
              "#7201a8"
             ],
             [
              0.3333333333333333,
              "#9c179e"
             ],
             [
              0.4444444444444444,
              "#bd3786"
             ],
             [
              0.5555555555555556,
              "#d8576b"
             ],
             [
              0.6666666666666666,
              "#ed7953"
             ],
             [
              0.7777777777777778,
              "#fb9f3a"
             ],
             [
              0.8888888888888888,
              "#fdca26"
             ],
             [
              1,
              "#f0f921"
             ]
            ],
            "type": "contour"
           }
          ],
          "contourcarpet": [
           {
            "colorbar": {
             "outlinewidth": 0,
             "ticks": ""
            },
            "type": "contourcarpet"
           }
          ],
          "heatmap": [
           {
            "colorbar": {
             "outlinewidth": 0,
             "ticks": ""
            },
            "colorscale": [
             [
              0,
              "#0d0887"
             ],
             [
              0.1111111111111111,
              "#46039f"
             ],
             [
              0.2222222222222222,
              "#7201a8"
             ],
             [
              0.3333333333333333,
              "#9c179e"
             ],
             [
              0.4444444444444444,
              "#bd3786"
             ],
             [
              0.5555555555555556,
              "#d8576b"
             ],
             [
              0.6666666666666666,
              "#ed7953"
             ],
             [
              0.7777777777777778,
              "#fb9f3a"
             ],
             [
              0.8888888888888888,
              "#fdca26"
             ],
             [
              1,
              "#f0f921"
             ]
            ],
            "type": "heatmap"
           }
          ],
          "heatmapgl": [
           {
            "colorbar": {
             "outlinewidth": 0,
             "ticks": ""
            },
            "colorscale": [
             [
              0,
              "#0d0887"
             ],
             [
              0.1111111111111111,
              "#46039f"
             ],
             [
              0.2222222222222222,
              "#7201a8"
             ],
             [
              0.3333333333333333,
              "#9c179e"
             ],
             [
              0.4444444444444444,
              "#bd3786"
             ],
             [
              0.5555555555555556,
              "#d8576b"
             ],
             [
              0.6666666666666666,
              "#ed7953"
             ],
             [
              0.7777777777777778,
              "#fb9f3a"
             ],
             [
              0.8888888888888888,
              "#fdca26"
             ],
             [
              1,
              "#f0f921"
             ]
            ],
            "type": "heatmapgl"
           }
          ],
          "histogram": [
           {
            "marker": {
             "pattern": {
              "fillmode": "overlay",
              "size": 10,
              "solidity": 0.2
             }
            },
            "type": "histogram"
           }
          ],
          "histogram2d": [
           {
            "colorbar": {
             "outlinewidth": 0,
             "ticks": ""
            },
            "colorscale": [
             [
              0,
              "#0d0887"
             ],
             [
              0.1111111111111111,
              "#46039f"
             ],
             [
              0.2222222222222222,
              "#7201a8"
             ],
             [
              0.3333333333333333,
              "#9c179e"
             ],
             [
              0.4444444444444444,
              "#bd3786"
             ],
             [
              0.5555555555555556,
              "#d8576b"
             ],
             [
              0.6666666666666666,
              "#ed7953"
             ],
             [
              0.7777777777777778,
              "#fb9f3a"
             ],
             [
              0.8888888888888888,
              "#fdca26"
             ],
             [
              1,
              "#f0f921"
             ]
            ],
            "type": "histogram2d"
           }
          ],
          "histogram2dcontour": [
           {
            "colorbar": {
             "outlinewidth": 0,
             "ticks": ""
            },
            "colorscale": [
             [
              0,
              "#0d0887"
             ],
             [
              0.1111111111111111,
              "#46039f"
             ],
             [
              0.2222222222222222,
              "#7201a8"
             ],
             [
              0.3333333333333333,
              "#9c179e"
             ],
             [
              0.4444444444444444,
              "#bd3786"
             ],
             [
              0.5555555555555556,
              "#d8576b"
             ],
             [
              0.6666666666666666,
              "#ed7953"
             ],
             [
              0.7777777777777778,
              "#fb9f3a"
             ],
             [
              0.8888888888888888,
              "#fdca26"
             ],
             [
              1,
              "#f0f921"
             ]
            ],
            "type": "histogram2dcontour"
           }
          ],
          "mesh3d": [
           {
            "colorbar": {
             "outlinewidth": 0,
             "ticks": ""
            },
            "type": "mesh3d"
           }
          ],
          "parcoords": [
           {
            "line": {
             "colorbar": {
              "outlinewidth": 0,
              "ticks": ""
             }
            },
            "type": "parcoords"
           }
          ],
          "pie": [
           {
            "automargin": true,
            "type": "pie"
           }
          ],
          "scatter": [
           {
            "marker": {
             "colorbar": {
              "outlinewidth": 0,
              "ticks": ""
             }
            },
            "type": "scatter"
           }
          ],
          "scatter3d": [
           {
            "line": {
             "colorbar": {
              "outlinewidth": 0,
              "ticks": ""
             }
            },
            "marker": {
             "colorbar": {
              "outlinewidth": 0,
              "ticks": ""
             }
            },
            "type": "scatter3d"
           }
          ],
          "scattercarpet": [
           {
            "marker": {
             "colorbar": {
              "outlinewidth": 0,
              "ticks": ""
             }
            },
            "type": "scattercarpet"
           }
          ],
          "scattergeo": [
           {
            "marker": {
             "colorbar": {
              "outlinewidth": 0,
              "ticks": ""
             }
            },
            "type": "scattergeo"
           }
          ],
          "scattergl": [
           {
            "marker": {
             "colorbar": {
              "outlinewidth": 0,
              "ticks": ""
             }
            },
            "type": "scattergl"
           }
          ],
          "scattermapbox": [
           {
            "marker": {
             "colorbar": {
              "outlinewidth": 0,
              "ticks": ""
             }
            },
            "type": "scattermapbox"
           }
          ],
          "scatterpolar": [
           {
            "marker": {
             "colorbar": {
              "outlinewidth": 0,
              "ticks": ""
             }
            },
            "type": "scatterpolar"
           }
          ],
          "scatterpolargl": [
           {
            "marker": {
             "colorbar": {
              "outlinewidth": 0,
              "ticks": ""
             }
            },
            "type": "scatterpolargl"
           }
          ],
          "scatterternary": [
           {
            "marker": {
             "colorbar": {
              "outlinewidth": 0,
              "ticks": ""
             }
            },
            "type": "scatterternary"
           }
          ],
          "surface": [
           {
            "colorbar": {
             "outlinewidth": 0,
             "ticks": ""
            },
            "colorscale": [
             [
              0,
              "#0d0887"
             ],
             [
              0.1111111111111111,
              "#46039f"
             ],
             [
              0.2222222222222222,
              "#7201a8"
             ],
             [
              0.3333333333333333,
              "#9c179e"
             ],
             [
              0.4444444444444444,
              "#bd3786"
             ],
             [
              0.5555555555555556,
              "#d8576b"
             ],
             [
              0.6666666666666666,
              "#ed7953"
             ],
             [
              0.7777777777777778,
              "#fb9f3a"
             ],
             [
              0.8888888888888888,
              "#fdca26"
             ],
             [
              1,
              "#f0f921"
             ]
            ],
            "type": "surface"
           }
          ],
          "table": [
           {
            "cells": {
             "fill": {
              "color": "#EBF0F8"
             },
             "line": {
              "color": "white"
             }
            },
            "header": {
             "fill": {
              "color": "#C8D4E3"
             },
             "line": {
              "color": "white"
             }
            },
            "type": "table"
           }
          ]
         },
         "layout": {
          "annotationdefaults": {
           "arrowcolor": "#2a3f5f",
           "arrowhead": 0,
           "arrowwidth": 1
          },
          "autotypenumbers": "strict",
          "coloraxis": {
           "colorbar": {
            "outlinewidth": 0,
            "ticks": ""
           }
          },
          "colorscale": {
           "diverging": [
            [
             0,
             "#8e0152"
            ],
            [
             0.1,
             "#c51b7d"
            ],
            [
             0.2,
             "#de77ae"
            ],
            [
             0.3,
             "#f1b6da"
            ],
            [
             0.4,
             "#fde0ef"
            ],
            [
             0.5,
             "#f7f7f7"
            ],
            [
             0.6,
             "#e6f5d0"
            ],
            [
             0.7,
             "#b8e186"
            ],
            [
             0.8,
             "#7fbc41"
            ],
            [
             0.9,
             "#4d9221"
            ],
            [
             1,
             "#276419"
            ]
           ],
           "sequential": [
            [
             0,
             "#0d0887"
            ],
            [
             0.1111111111111111,
             "#46039f"
            ],
            [
             0.2222222222222222,
             "#7201a8"
            ],
            [
             0.3333333333333333,
             "#9c179e"
            ],
            [
             0.4444444444444444,
             "#bd3786"
            ],
            [
             0.5555555555555556,
             "#d8576b"
            ],
            [
             0.6666666666666666,
             "#ed7953"
            ],
            [
             0.7777777777777778,
             "#fb9f3a"
            ],
            [
             0.8888888888888888,
             "#fdca26"
            ],
            [
             1,
             "#f0f921"
            ]
           ],
           "sequentialminus": [
            [
             0,
             "#0d0887"
            ],
            [
             0.1111111111111111,
             "#46039f"
            ],
            [
             0.2222222222222222,
             "#7201a8"
            ],
            [
             0.3333333333333333,
             "#9c179e"
            ],
            [
             0.4444444444444444,
             "#bd3786"
            ],
            [
             0.5555555555555556,
             "#d8576b"
            ],
            [
             0.6666666666666666,
             "#ed7953"
            ],
            [
             0.7777777777777778,
             "#fb9f3a"
            ],
            [
             0.8888888888888888,
             "#fdca26"
            ],
            [
             1,
             "#f0f921"
            ]
           ]
          },
          "colorway": [
           "#636efa",
           "#EF553B",
           "#00cc96",
           "#ab63fa",
           "#FFA15A",
           "#19d3f3",
           "#FF6692",
           "#B6E880",
           "#FF97FF",
           "#FECB52"
          ],
          "font": {
           "color": "#2a3f5f"
          },
          "geo": {
           "bgcolor": "white",
           "lakecolor": "white",
           "landcolor": "#E5ECF6",
           "showlakes": true,
           "showland": true,
           "subunitcolor": "white"
          },
          "hoverlabel": {
           "align": "left"
          },
          "hovermode": "closest",
          "mapbox": {
           "style": "light"
          },
          "paper_bgcolor": "white",
          "plot_bgcolor": "#E5ECF6",
          "polar": {
           "angularaxis": {
            "gridcolor": "white",
            "linecolor": "white",
            "ticks": ""
           },
           "bgcolor": "#E5ECF6",
           "radialaxis": {
            "gridcolor": "white",
            "linecolor": "white",
            "ticks": ""
           }
          },
          "scene": {
           "xaxis": {
            "backgroundcolor": "#E5ECF6",
            "gridcolor": "white",
            "gridwidth": 2,
            "linecolor": "white",
            "showbackground": true,
            "ticks": "",
            "zerolinecolor": "white"
           },
           "yaxis": {
            "backgroundcolor": "#E5ECF6",
            "gridcolor": "white",
            "gridwidth": 2,
            "linecolor": "white",
            "showbackground": true,
            "ticks": "",
            "zerolinecolor": "white"
           },
           "zaxis": {
            "backgroundcolor": "#E5ECF6",
            "gridcolor": "white",
            "gridwidth": 2,
            "linecolor": "white",
            "showbackground": true,
            "ticks": "",
            "zerolinecolor": "white"
           }
          },
          "shapedefaults": {
           "line": {
            "color": "#2a3f5f"
           }
          },
          "ternary": {
           "aaxis": {
            "gridcolor": "white",
            "linecolor": "white",
            "ticks": ""
           },
           "baxis": {
            "gridcolor": "white",
            "linecolor": "white",
            "ticks": ""
           },
           "bgcolor": "#E5ECF6",
           "caxis": {
            "gridcolor": "white",
            "linecolor": "white",
            "ticks": ""
           }
          },
          "title": {
           "x": 0.05
          },
          "xaxis": {
           "automargin": true,
           "gridcolor": "white",
           "linecolor": "white",
           "ticks": "",
           "title": {
            "standoff": 15
           },
           "zerolinecolor": "white",
           "zerolinewidth": 2
          },
          "yaxis": {
           "automargin": true,
           "gridcolor": "white",
           "linecolor": "white",
           "ticks": "",
           "title": {
            "standoff": 15
           },
           "zerolinecolor": "white",
           "zerolinewidth": 2
          }
         }
        }
       }
      },
      "text/html": [
       "<div>                            <div id=\"e793ee3e-a547-4e84-9e2f-8f08c38d027b\" class=\"plotly-graph-div\" style=\"height:525px; width:100%;\"></div>            <script type=\"text/javascript\">                require([\"plotly\"], function(Plotly) {                    window.PLOTLYENV=window.PLOTLYENV || {};                                    if (document.getElementById(\"e793ee3e-a547-4e84-9e2f-8f08c38d027b\")) {                    Plotly.newPlot(                        \"e793ee3e-a547-4e84-9e2f-8f08c38d027b\",                        [{\"hovertemplate\":\"PM10=%{x}<br>Date=%{y}<br>AQI_Bucket=%{z}<extra></extra>\",\"legendgroup\":\"\",\"marker\":{\"color\":\"#636efa\",\"symbol\":\"circle\"},\"mode\":\"markers\",\"name\":\"\",\"scene\":\"scene\",\"showlegend\":false,\"x\":[483.87,439.31,337.04,327.22,257.94,247.47,176.22,145.85,132.06,203.54,245.62,325.36,329.77,163.67,179.08,197.9,152.98,198.24,187.93,225.67,348.45,296.98,137.61,151.81,240.57,309.09,330.91,149.12,134.17,168.43,170.33,201.19,200.9,243.43,340.56,255.41,205.43,253.82,238.17,247.62,292.44,306.12,295.05,179.78,172.28,174.78,237.81,282.84,238.91,286.39,223.69,85.49,123.44,182.2,145.05,224.02,258.62,203.77,161.36,115.82,91.88,203.51,188.73,193.79,67.5,38.5,85.45,140.22,133.75,160.91,112.57,155.18,209.02,85.26,124.24,144.37,160.15,162.56,195.15,200.79,184.81,134.46,100.55,103.62,68.03,75.81,45.48,34.15,55.75,64.66,67.01,65.84,61.06,62.69,77.64,96.88,114.88,94.02,79.04,76.32,112.93,118.1,92.7,136.77,144.7,190.98,191.17,89.58,102.53,73.86,113.25,87.27,130.99,127.82,138.46,85.83,117.1,53.02,80.36,114.91,115.63,143.11,107.36,83.02,60.59,115.91,169.61,88.35,120.82,126.9,110.39,93.49,94.4,159.2,126.53,101.93,151.8,187.24,192.68,208.65,155.41,163.77,213.47,209.49,179.3,162.41,190.11,161.76,229.55,66.66,53.19,40.43,80.47,98.32,114.01,143.79,87.05,80.49,91.17,103.27,148.67,156.29,134.36,152.7,129.33,150.28,120.23,107.99,92.58,100.62,205.56,108.73,95.63,77.48,64.12,62.61,77.76,112.08,155.94,308.65,184.12,91.98,128.66],\"y\":[\"2020-01-01T00:00:00\",\"2020-01-02T00:00:00\",\"2020-01-03T00:00:00\",\"2020-01-04T00:00:00\",\"2020-01-05T00:00:00\",\"2020-01-06T00:00:00\",\"2020-01-07T00:00:00\",\"2020-01-08T00:00:00\",\"2020-01-09T00:00:00\",\"2020-01-10T00:00:00\",\"2020-01-11T00:00:00\",\"2020-01-12T00:00:00\",\"2020-01-13T00:00:00\",\"2020-01-14T00:00:00\",\"2020-01-15T00:00:00\",\"2020-01-16T00:00:00\",\"2020-01-17T00:00:00\",\"2020-01-18T00:00:00\",\"2020-01-19T00:00:00\",\"2020-01-20T00:00:00\",\"2020-01-21T00:00:00\",\"2020-01-22T00:00:00\",\"2020-01-23T00:00:00\",\"2020-01-24T00:00:00\",\"2020-01-25T00:00:00\",\"2020-01-26T00:00:00\",\"2020-01-27T00:00:00\",\"2020-01-28T00:00:00\",\"2020-01-29T00:00:00\",\"2020-01-30T00:00:00\",\"2020-01-31T00:00:00\",\"2020-02-01T00:00:00\",\"2020-02-02T00:00:00\",\"2020-02-03T00:00:00\",\"2020-02-04T00:00:00\",\"2020-02-05T00:00:00\",\"2020-02-06T00:00:00\",\"2020-02-07T00:00:00\",\"2020-02-08T00:00:00\",\"2020-02-09T00:00:00\",\"2020-02-10T00:00:00\",\"2020-02-11T00:00:00\",\"2020-02-12T00:00:00\",\"2020-02-13T00:00:00\",\"2020-02-14T00:00:00\",\"2020-02-15T00:00:00\",\"2020-02-16T00:00:00\",\"2020-02-17T00:00:00\",\"2020-02-18T00:00:00\",\"2020-02-19T00:00:00\",\"2020-02-20T00:00:00\",\"2020-02-21T00:00:00\",\"2020-02-22T00:00:00\",\"2020-02-23T00:00:00\",\"2020-02-24T00:00:00\",\"2020-02-25T00:00:00\",\"2020-02-26T00:00:00\",\"2020-02-27T00:00:00\",\"2020-02-28T00:00:00\",\"2020-02-29T00:00:00\",\"2020-03-01T00:00:00\",\"2020-03-02T00:00:00\",\"2020-03-03T00:00:00\",\"2020-03-04T00:00:00\",\"2020-03-05T00:00:00\",\"2020-03-06T00:00:00\",\"2020-03-07T00:00:00\",\"2020-03-08T00:00:00\",\"2020-03-09T00:00:00\",\"2020-03-10T00:00:00\",\"2020-03-11T00:00:00\",\"2020-03-12T00:00:00\",\"2020-03-13T00:00:00\",\"2020-03-14T00:00:00\",\"2020-03-15T00:00:00\",\"2020-03-16T00:00:00\",\"2020-03-17T00:00:00\",\"2020-03-18T00:00:00\",\"2020-03-19T00:00:00\",\"2020-03-20T00:00:00\",\"2020-03-21T00:00:00\",\"2020-03-22T00:00:00\",\"2020-03-23T00:00:00\",\"2020-03-24T00:00:00\",\"2020-03-25T00:00:00\",\"2020-03-26T00:00:00\",\"2020-03-27T00:00:00\",\"2020-03-28T00:00:00\",\"2020-03-29T00:00:00\",\"2020-03-30T00:00:00\",\"2020-03-31T00:00:00\",\"2020-04-01T00:00:00\",\"2020-04-02T00:00:00\",\"2020-04-03T00:00:00\",\"2020-04-04T00:00:00\",\"2020-04-05T00:00:00\",\"2020-04-06T00:00:00\",\"2020-04-07T00:00:00\",\"2020-04-08T00:00:00\",\"2020-04-09T00:00:00\",\"2020-04-10T00:00:00\",\"2020-04-11T00:00:00\",\"2020-04-12T00:00:00\",\"2020-04-13T00:00:00\",\"2020-04-14T00:00:00\",\"2020-04-15T00:00:00\",\"2020-04-16T00:00:00\",\"2020-04-17T00:00:00\",\"2020-04-18T00:00:00\",\"2020-04-19T00:00:00\",\"2020-04-20T00:00:00\",\"2020-04-21T00:00:00\",\"2020-04-22T00:00:00\",\"2020-04-23T00:00:00\",\"2020-04-24T00:00:00\",\"2020-04-25T00:00:00\",\"2020-04-26T00:00:00\",\"2020-04-27T00:00:00\",\"2020-04-28T00:00:00\",\"2020-04-29T00:00:00\",\"2020-04-30T00:00:00\",\"2020-05-01T00:00:00\",\"2020-05-02T00:00:00\",\"2020-05-03T00:00:00\",\"2020-05-04T00:00:00\",\"2020-05-05T00:00:00\",\"2020-05-06T00:00:00\",\"2020-05-07T00:00:00\",\"2020-05-08T00:00:00\",\"2020-05-09T00:00:00\",\"2020-05-10T00:00:00\",\"2020-05-11T00:00:00\",\"2020-05-12T00:00:00\",\"2020-05-13T00:00:00\",\"2020-05-14T00:00:00\",\"2020-05-15T00:00:00\",\"2020-05-16T00:00:00\",\"2020-05-17T00:00:00\",\"2020-05-18T00:00:00\",\"2020-05-19T00:00:00\",\"2020-05-20T00:00:00\",\"2020-05-21T00:00:00\",\"2020-05-22T00:00:00\",\"2020-05-23T00:00:00\",\"2020-05-24T00:00:00\",\"2020-05-25T00:00:00\",\"2020-05-26T00:00:00\",\"2020-05-27T00:00:00\",\"2020-05-28T00:00:00\",\"2020-05-29T00:00:00\",\"2020-05-30T00:00:00\",\"2020-05-31T00:00:00\",\"2020-06-01T00:00:00\",\"2020-06-02T00:00:00\",\"2020-06-03T00:00:00\",\"2020-06-04T00:00:00\",\"2020-06-05T00:00:00\",\"2020-06-06T00:00:00\",\"2020-06-07T00:00:00\",\"2020-06-08T00:00:00\",\"2020-06-09T00:00:00\",\"2020-06-10T00:00:00\",\"2020-06-11T00:00:00\",\"2020-06-12T00:00:00\",\"2020-06-13T00:00:00\",\"2020-06-14T00:00:00\",\"2020-06-15T00:00:00\",\"2020-06-16T00:00:00\",\"2020-06-17T00:00:00\",\"2020-06-18T00:00:00\",\"2020-06-19T00:00:00\",\"2020-06-20T00:00:00\",\"2020-06-21T00:00:00\",\"2020-06-22T00:00:00\",\"2020-06-23T00:00:00\",\"2020-06-24T00:00:00\",\"2020-06-25T00:00:00\",\"2020-06-26T00:00:00\",\"2020-06-27T00:00:00\",\"2020-06-28T00:00:00\",\"2020-06-29T00:00:00\",\"2020-06-30T00:00:00\",\"2020-07-01T00:00:00\"],\"z\":[\"Severe\",\"Severe\",\"Severe\",\"Very Poor\",\"Very Poor\",\"Very Poor\",\"Poor\",\"Poor\",\"Poor\",\"Poor\",\"Very Poor\",\"Very Poor\",\"Very Poor\",\"Very Poor\",\"Poor\",\"Poor\",\"Poor\",\"Poor\",\"Poor\",\"Poor\",\"Very Poor\",\"Very Poor\",\"Poor\",\"Moderate\",\"Poor\",\"Very Poor\",\"Very Poor\",\"Very Poor\",\"Poor\",\"Moderate\",\"Poor\",\"Poor\",\"Poor\",\"Poor\",\"Very Poor\",\"Very Poor\",\"Poor\",\"Very Poor\",\"Very Poor\",\"Very Poor\",\"Very Poor\",\"Very Poor\",\"Very Poor\",\"Poor\",\"Moderate\",\"Moderate\",\"Poor\",\"Very Poor\",\"Poor\",\"Poor\",\"Poor\",\"Moderate\",\"Moderate\",\"Poor\",\"Moderate\",\"Poor\",\"Very Poor\",\"Poor\",\"Poor\",\"Moderate\",\"Moderate\",\"Moderate\",\"Poor\",\"Moderate\",\"Moderate\",\"Satisfactory\",\"Satisfactory\",\"Moderate\",\"Moderate\",\"Moderate\",\"Moderate\",\"Moderate\",\"Moderate\",\"Moderate\",\"Moderate\",\"Moderate\",\"Moderate\",\"Moderate\",\"Moderate\",\"Poor\",\"Poor\",\"Moderate\",\"Moderate\",\"Moderate\",\"Satisfactory\",\"Satisfactory\",\"Satisfactory\",\"Satisfactory\",\"Satisfactory\",\"Satisfactory\",\"Satisfactory\",\"Satisfactory\",\"Satisfactory\",\"Satisfactory\",\"Satisfactory\",\"Moderate\",\"Moderate\",\"Satisfactory\",\"Satisfactory\",\"Satisfactory\",\"Moderate\",\"Moderate\",\"Moderate\",\"Moderate\",\"Moderate\",\"Moderate\",\"Moderate\",\"Moderate\",\"Moderate\",\"Satisfactory\",\"Moderate\",\"Moderate\",\"Moderate\",\"Moderate\",\"Moderate\",\"Moderate\",\"Moderate\",\"Satisfactory\",\"Moderate\",\"Moderate\",\"Moderate\",\"Moderate\",\"Moderate\",\"Moderate\",\"Satisfactory\",\"Moderate\",\"Moderate\",\"Moderate\",\"Moderate\",\"Moderate\",\"Moderate\",\"Moderate\",\"Moderate\",\"Moderate\",\"Moderate\",\"Moderate\",\"Moderate\",\"Poor\",\"Poor\",\"Poor\",\"Moderate\",\"Moderate\",\"Moderate\",\"Poor\",\"Moderate\",\"Moderate\",\"Moderate\",\"Moderate\",\"Moderate\",\"Moderate\",\"Satisfactory\",\"Satisfactory\",\"Satisfactory\",\"Moderate\",\"Moderate\",\"Moderate\",\"Moderate\",\"Moderate\",\"Moderate\",\"Moderate\",\"Moderate\",\"Moderate\",\"Moderate\",\"Moderate\",\"Moderate\",\"Moderate\",\"Moderate\",\"Moderate\",\"Moderate\",\"Moderate\",\"Moderate\",\"Moderate\",\"Moderate\",\"Moderate\",\"Satisfactory\",\"Satisfactory\",\"Satisfactory\",\"Moderate\",\"Moderate\",\"Moderate\",\"Poor\",\"Moderate\",\"Moderate\"],\"type\":\"scatter3d\"}],                        {\"template\":{\"data\":{\"bar\":[{\"error_x\":{\"color\":\"#2a3f5f\"},\"error_y\":{\"color\":\"#2a3f5f\"},\"marker\":{\"line\":{\"color\":\"#E5ECF6\",\"width\":0.5},\"pattern\":{\"fillmode\":\"overlay\",\"size\":10,\"solidity\":0.2}},\"type\":\"bar\"}],\"barpolar\":[{\"marker\":{\"line\":{\"color\":\"#E5ECF6\",\"width\":0.5},\"pattern\":{\"fillmode\":\"overlay\",\"size\":10,\"solidity\":0.2}},\"type\":\"barpolar\"}],\"carpet\":[{\"aaxis\":{\"endlinecolor\":\"#2a3f5f\",\"gridcolor\":\"white\",\"linecolor\":\"white\",\"minorgridcolor\":\"white\",\"startlinecolor\":\"#2a3f5f\"},\"baxis\":{\"endlinecolor\":\"#2a3f5f\",\"gridcolor\":\"white\",\"linecolor\":\"white\",\"minorgridcolor\":\"white\",\"startlinecolor\":\"#2a3f5f\"},\"type\":\"carpet\"}],\"choropleth\":[{\"colorbar\":{\"outlinewidth\":0,\"ticks\":\"\"},\"type\":\"choropleth\"}],\"contour\":[{\"colorbar\":{\"outlinewidth\":0,\"ticks\":\"\"},\"colorscale\":[[0.0,\"#0d0887\"],[0.1111111111111111,\"#46039f\"],[0.2222222222222222,\"#7201a8\"],[0.3333333333333333,\"#9c179e\"],[0.4444444444444444,\"#bd3786\"],[0.5555555555555556,\"#d8576b\"],[0.6666666666666666,\"#ed7953\"],[0.7777777777777778,\"#fb9f3a\"],[0.8888888888888888,\"#fdca26\"],[1.0,\"#f0f921\"]],\"type\":\"contour\"}],\"contourcarpet\":[{\"colorbar\":{\"outlinewidth\":0,\"ticks\":\"\"},\"type\":\"contourcarpet\"}],\"heatmap\":[{\"colorbar\":{\"outlinewidth\":0,\"ticks\":\"\"},\"colorscale\":[[0.0,\"#0d0887\"],[0.1111111111111111,\"#46039f\"],[0.2222222222222222,\"#7201a8\"],[0.3333333333333333,\"#9c179e\"],[0.4444444444444444,\"#bd3786\"],[0.5555555555555556,\"#d8576b\"],[0.6666666666666666,\"#ed7953\"],[0.7777777777777778,\"#fb9f3a\"],[0.8888888888888888,\"#fdca26\"],[1.0,\"#f0f921\"]],\"type\":\"heatmap\"}],\"heatmapgl\":[{\"colorbar\":{\"outlinewidth\":0,\"ticks\":\"\"},\"colorscale\":[[0.0,\"#0d0887\"],[0.1111111111111111,\"#46039f\"],[0.2222222222222222,\"#7201a8\"],[0.3333333333333333,\"#9c179e\"],[0.4444444444444444,\"#bd3786\"],[0.5555555555555556,\"#d8576b\"],[0.6666666666666666,\"#ed7953\"],[0.7777777777777778,\"#fb9f3a\"],[0.8888888888888888,\"#fdca26\"],[1.0,\"#f0f921\"]],\"type\":\"heatmapgl\"}],\"histogram\":[{\"marker\":{\"pattern\":{\"fillmode\":\"overlay\",\"size\":10,\"solidity\":0.2}},\"type\":\"histogram\"}],\"histogram2d\":[{\"colorbar\":{\"outlinewidth\":0,\"ticks\":\"\"},\"colorscale\":[[0.0,\"#0d0887\"],[0.1111111111111111,\"#46039f\"],[0.2222222222222222,\"#7201a8\"],[0.3333333333333333,\"#9c179e\"],[0.4444444444444444,\"#bd3786\"],[0.5555555555555556,\"#d8576b\"],[0.6666666666666666,\"#ed7953\"],[0.7777777777777778,\"#fb9f3a\"],[0.8888888888888888,\"#fdca26\"],[1.0,\"#f0f921\"]],\"type\":\"histogram2d\"}],\"histogram2dcontour\":[{\"colorbar\":{\"outlinewidth\":0,\"ticks\":\"\"},\"colorscale\":[[0.0,\"#0d0887\"],[0.1111111111111111,\"#46039f\"],[0.2222222222222222,\"#7201a8\"],[0.3333333333333333,\"#9c179e\"],[0.4444444444444444,\"#bd3786\"],[0.5555555555555556,\"#d8576b\"],[0.6666666666666666,\"#ed7953\"],[0.7777777777777778,\"#fb9f3a\"],[0.8888888888888888,\"#fdca26\"],[1.0,\"#f0f921\"]],\"type\":\"histogram2dcontour\"}],\"mesh3d\":[{\"colorbar\":{\"outlinewidth\":0,\"ticks\":\"\"},\"type\":\"mesh3d\"}],\"parcoords\":[{\"line\":{\"colorbar\":{\"outlinewidth\":0,\"ticks\":\"\"}},\"type\":\"parcoords\"}],\"pie\":[{\"automargin\":true,\"type\":\"pie\"}],\"scatter\":[{\"marker\":{\"colorbar\":{\"outlinewidth\":0,\"ticks\":\"\"}},\"type\":\"scatter\"}],\"scatter3d\":[{\"line\":{\"colorbar\":{\"outlinewidth\":0,\"ticks\":\"\"}},\"marker\":{\"colorbar\":{\"outlinewidth\":0,\"ticks\":\"\"}},\"type\":\"scatter3d\"}],\"scattercarpet\":[{\"marker\":{\"colorbar\":{\"outlinewidth\":0,\"ticks\":\"\"}},\"type\":\"scattercarpet\"}],\"scattergeo\":[{\"marker\":{\"colorbar\":{\"outlinewidth\":0,\"ticks\":\"\"}},\"type\":\"scattergeo\"}],\"scattergl\":[{\"marker\":{\"colorbar\":{\"outlinewidth\":0,\"ticks\":\"\"}},\"type\":\"scattergl\"}],\"scattermapbox\":[{\"marker\":{\"colorbar\":{\"outlinewidth\":0,\"ticks\":\"\"}},\"type\":\"scattermapbox\"}],\"scatterpolar\":[{\"marker\":{\"colorbar\":{\"outlinewidth\":0,\"ticks\":\"\"}},\"type\":\"scatterpolar\"}],\"scatterpolargl\":[{\"marker\":{\"colorbar\":{\"outlinewidth\":0,\"ticks\":\"\"}},\"type\":\"scatterpolargl\"}],\"scatterternary\":[{\"marker\":{\"colorbar\":{\"outlinewidth\":0,\"ticks\":\"\"}},\"type\":\"scatterternary\"}],\"surface\":[{\"colorbar\":{\"outlinewidth\":0,\"ticks\":\"\"},\"colorscale\":[[0.0,\"#0d0887\"],[0.1111111111111111,\"#46039f\"],[0.2222222222222222,\"#7201a8\"],[0.3333333333333333,\"#9c179e\"],[0.4444444444444444,\"#bd3786\"],[0.5555555555555556,\"#d8576b\"],[0.6666666666666666,\"#ed7953\"],[0.7777777777777778,\"#fb9f3a\"],[0.8888888888888888,\"#fdca26\"],[1.0,\"#f0f921\"]],\"type\":\"surface\"}],\"table\":[{\"cells\":{\"fill\":{\"color\":\"#EBF0F8\"},\"line\":{\"color\":\"white\"}},\"header\":{\"fill\":{\"color\":\"#C8D4E3\"},\"line\":{\"color\":\"white\"}},\"type\":\"table\"}]},\"layout\":{\"annotationdefaults\":{\"arrowcolor\":\"#2a3f5f\",\"arrowhead\":0,\"arrowwidth\":1},\"autotypenumbers\":\"strict\",\"coloraxis\":{\"colorbar\":{\"outlinewidth\":0,\"ticks\":\"\"}},\"colorscale\":{\"diverging\":[[0,\"#8e0152\"],[0.1,\"#c51b7d\"],[0.2,\"#de77ae\"],[0.3,\"#f1b6da\"],[0.4,\"#fde0ef\"],[0.5,\"#f7f7f7\"],[0.6,\"#e6f5d0\"],[0.7,\"#b8e186\"],[0.8,\"#7fbc41\"],[0.9,\"#4d9221\"],[1,\"#276419\"]],\"sequential\":[[0.0,\"#0d0887\"],[0.1111111111111111,\"#46039f\"],[0.2222222222222222,\"#7201a8\"],[0.3333333333333333,\"#9c179e\"],[0.4444444444444444,\"#bd3786\"],[0.5555555555555556,\"#d8576b\"],[0.6666666666666666,\"#ed7953\"],[0.7777777777777778,\"#fb9f3a\"],[0.8888888888888888,\"#fdca26\"],[1.0,\"#f0f921\"]],\"sequentialminus\":[[0.0,\"#0d0887\"],[0.1111111111111111,\"#46039f\"],[0.2222222222222222,\"#7201a8\"],[0.3333333333333333,\"#9c179e\"],[0.4444444444444444,\"#bd3786\"],[0.5555555555555556,\"#d8576b\"],[0.6666666666666666,\"#ed7953\"],[0.7777777777777778,\"#fb9f3a\"],[0.8888888888888888,\"#fdca26\"],[1.0,\"#f0f921\"]]},\"colorway\":[\"#636efa\",\"#EF553B\",\"#00cc96\",\"#ab63fa\",\"#FFA15A\",\"#19d3f3\",\"#FF6692\",\"#B6E880\",\"#FF97FF\",\"#FECB52\"],\"font\":{\"color\":\"#2a3f5f\"},\"geo\":{\"bgcolor\":\"white\",\"lakecolor\":\"white\",\"landcolor\":\"#E5ECF6\",\"showlakes\":true,\"showland\":true,\"subunitcolor\":\"white\"},\"hoverlabel\":{\"align\":\"left\"},\"hovermode\":\"closest\",\"mapbox\":{\"style\":\"light\"},\"paper_bgcolor\":\"white\",\"plot_bgcolor\":\"#E5ECF6\",\"polar\":{\"angularaxis\":{\"gridcolor\":\"white\",\"linecolor\":\"white\",\"ticks\":\"\"},\"bgcolor\":\"#E5ECF6\",\"radialaxis\":{\"gridcolor\":\"white\",\"linecolor\":\"white\",\"ticks\":\"\"}},\"scene\":{\"xaxis\":{\"backgroundcolor\":\"#E5ECF6\",\"gridcolor\":\"white\",\"gridwidth\":2,\"linecolor\":\"white\",\"showbackground\":true,\"ticks\":\"\",\"zerolinecolor\":\"white\"},\"yaxis\":{\"backgroundcolor\":\"#E5ECF6\",\"gridcolor\":\"white\",\"gridwidth\":2,\"linecolor\":\"white\",\"showbackground\":true,\"ticks\":\"\",\"zerolinecolor\":\"white\"},\"zaxis\":{\"backgroundcolor\":\"#E5ECF6\",\"gridcolor\":\"white\",\"gridwidth\":2,\"linecolor\":\"white\",\"showbackground\":true,\"ticks\":\"\",\"zerolinecolor\":\"white\"}},\"shapedefaults\":{\"line\":{\"color\":\"#2a3f5f\"}},\"ternary\":{\"aaxis\":{\"gridcolor\":\"white\",\"linecolor\":\"white\",\"ticks\":\"\"},\"baxis\":{\"gridcolor\":\"white\",\"linecolor\":\"white\",\"ticks\":\"\"},\"bgcolor\":\"#E5ECF6\",\"caxis\":{\"gridcolor\":\"white\",\"linecolor\":\"white\",\"ticks\":\"\"}},\"title\":{\"x\":0.05},\"xaxis\":{\"automargin\":true,\"gridcolor\":\"white\",\"linecolor\":\"white\",\"ticks\":\"\",\"title\":{\"standoff\":15},\"zerolinecolor\":\"white\",\"zerolinewidth\":2},\"yaxis\":{\"automargin\":true,\"gridcolor\":\"white\",\"linecolor\":\"white\",\"ticks\":\"\",\"title\":{\"standoff\":15},\"zerolinecolor\":\"white\",\"zerolinewidth\":2}}},\"scene\":{\"domain\":{\"x\":[0.0,1.0],\"y\":[0.0,1.0]},\"xaxis\":{\"title\":{\"text\":\"PM10\"}},\"yaxis\":{\"title\":{\"text\":\"Date\"}},\"zaxis\":{\"title\":{\"text\":\"AQI_Bucket\"}}},\"legend\":{\"tracegroupgap\":0},\"margin\":{\"t\":60}},                        {\"responsive\": true}                    ).then(function(){\n",
       "                            \n",
       "var gd = document.getElementById('e793ee3e-a547-4e84-9e2f-8f08c38d027b');\n",
       "var x = new MutationObserver(function (mutations, observer) {{\n",
       "        var display = window.getComputedStyle(gd).display;\n",
       "        if (!display || display === 'none') {{\n",
       "            console.log([gd, 'removed!']);\n",
       "            Plotly.purge(gd);\n",
       "            observer.disconnect();\n",
       "        }}\n",
       "}});\n",
       "\n",
       "// Listen for the removal of the full notebook cells\n",
       "var notebookContainer = gd.closest('#notebook-container');\n",
       "if (notebookContainer) {{\n",
       "    x.observe(notebookContainer, {childList: true});\n",
       "}}\n",
       "\n",
       "// Listen for the clearing of the current output cell\n",
       "var outputEl = gd.closest('.output');\n",
       "if (outputEl) {{\n",
       "    x.observe(outputEl, {childList: true});\n",
       "}}\n",
       "\n",
       "                        })                };                });            </script>        </div>"
      ]
     },
     "metadata": {},
     "output_type": "display_data"
    }
   ],
   "source": [
    "fig = px.scatter_3d(aqi_level_20, x= \"PM10\", y=\"Date\", z=\"AQI_Bucket\")\n",
    "fig.show()"
   ]
  },
  {
   "cell_type": "code",
   "execution_count": 19,
   "id": "2cf1e98a",
   "metadata": {},
   "outputs": [
    {
     "data": {
      "text/plain": [
       "(365,)"
      ]
     },
     "execution_count": 19,
     "metadata": {},
     "output_type": "execute_result"
    }
   ],
   "source": [
    "aqi_15.shape"
   ]
  },
  {
   "cell_type": "markdown",
   "id": "d721d61b",
   "metadata": {},
   "source": [
    "# Making arrays for last 5 days and present data"
   ]
  },
  {
   "cell_type": "code",
   "execution_count": 20,
   "id": "71e28b4c",
   "metadata": {},
   "outputs": [],
   "source": [
    "x_15=np.zeros((359,6));\n",
    "point=0;\n",
    "count=0;\n",
    "for i in range(0,359,1):\n",
    "    for j in range(0,6,1):\n",
    "        x_15[i][j]= aqi_15[point];\n",
    "        point += 1;\n",
    "    count += 1;\n",
    "    point = count;\n",
    "    if (count == 359):\n",
    "        break;"
   ]
  },
  {
   "cell_type": "code",
   "execution_count": 21,
   "id": "396dd4dd",
   "metadata": {},
   "outputs": [],
   "source": [
    "x_17=np.zeros((359,6));\n",
    "point=0;\n",
    "count=0;\n",
    "for i in range(0,359,1):\n",
    "    for j in range(0,6,1):\n",
    "        x_17[i][j]= aqi_17[point];\n",
    "        point += 1;\n",
    "    count += 1;\n",
    "    point = count;\n",
    "    if (count == 359):\n",
    "        break;"
   ]
  },
  {
   "cell_type": "code",
   "execution_count": 22,
   "id": "a09c736f",
   "metadata": {},
   "outputs": [],
   "source": [
    "x_16=np.zeros((359,6));\n",
    "point=0;\n",
    "count=0;\n",
    "for i in range(0,359,1):\n",
    "    for j in range(0,6,1):\n",
    "        x_16[i][j]= aqi_16[point];\n",
    "        point += 1;\n",
    "    count += 1;\n",
    "    point = count;\n",
    "    if (count == 359):\n",
    "        break;"
   ]
  },
  {
   "cell_type": "code",
   "execution_count": 23,
   "id": "5d2a6ded",
   "metadata": {},
   "outputs": [],
   "source": [
    "x_18=np.zeros((359,6));\n",
    "point=0;\n",
    "count=0;\n",
    "for i in range(0,359,1):\n",
    "    for j in range(0,6,1):\n",
    "        x_18[i][j]= aqi_18[point];\n",
    "        point += 1;\n",
    "    count += 1;\n",
    "    point = count;\n",
    "    if (count == 359):\n",
    "        break;"
   ]
  },
  {
   "cell_type": "code",
   "execution_count": 24,
   "id": "accfbf89",
   "metadata": {},
   "outputs": [
    {
     "data": {
      "text/plain": [
       "array([[73.16, 55.61, 50.81, 55.17, 51.36, 63.78],\n",
       "       [55.61, 50.81, 55.17, 51.36, 63.78, 50.09],\n",
       "       [50.81, 55.17, 51.36, 63.78, 50.09, 47.52],\n",
       "       ...,\n",
       "       [67.29, 65.75, 57.34, 50.38, 56.6 , 55.46],\n",
       "       [65.75, 57.34, 50.38, 56.6 , 55.46, 51.53],\n",
       "       [57.34, 50.38, 56.6 , 55.46, 51.53, 57.55]])"
      ]
     },
     "execution_count": 24,
     "metadata": {},
     "output_type": "execute_result"
    }
   ],
   "source": [
    "x_18"
   ]
  },
  {
   "cell_type": "code",
   "execution_count": 25,
   "id": "e5ac0440",
   "metadata": {},
   "outputs": [],
   "source": [
    "x_19=np.zeros((359,6));\n",
    "point=0;\n",
    "count=0;\n",
    "for i in range(0,359,1):\n",
    "    for j in range(0,6,1):\n",
    "        x_19[i][j]= aqi_19[point];\n",
    "        point += 1;\n",
    "    count += 1;\n",
    "    point = count;\n",
    "    if (count == 362):\n",
    "        break;"
   ]
  },
  {
   "cell_type": "code",
   "execution_count": 26,
   "id": "e88d09b2",
   "metadata": {},
   "outputs": [
    {
     "data": {
      "text/plain": [
       "(359, 6)"
      ]
     },
     "execution_count": 26,
     "metadata": {},
     "output_type": "execute_result"
    }
   ],
   "source": [
    "x_16.shape"
   ]
  },
  {
   "cell_type": "code",
   "execution_count": 27,
   "id": "cc0c09df",
   "metadata": {},
   "outputs": [
    {
     "data": {
      "text/plain": [
       "(359, 6)"
      ]
     },
     "execution_count": 27,
     "metadata": {},
     "output_type": "execute_result"
    }
   ],
   "source": [
    "x_17.shape"
   ]
  },
  {
   "cell_type": "markdown",
   "id": "840a3717",
   "metadata": {},
   "source": [
    "# Making a single dataframe of above arrays\n"
   ]
  },
  {
   "cell_type": "markdown",
   "id": "cd42a957",
   "metadata": {},
   "source": [
    "Gathering All the data in one dataframe."
   ]
  },
  {
   "cell_type": "code",
   "execution_count": 28,
   "id": "6161fb73",
   "metadata": {
    "scrolled": true
   },
   "outputs": [],
   "source": [
    "ds_5=np.concatenate((x_15,x_16,x_17,x_18,x_19),axis=0);"
   ]
  },
  {
   "cell_type": "code",
   "execution_count": 29,
   "id": "1f3bc534",
   "metadata": {},
   "outputs": [
    {
     "data": {
      "text/plain": [
       "(1795, 6)"
      ]
     },
     "execution_count": 29,
     "metadata": {},
     "output_type": "execute_result"
    }
   ],
   "source": [
    "ds_5.shape"
   ]
  },
  {
   "cell_type": "code",
   "execution_count": 30,
   "id": "23447c9d",
   "metadata": {},
   "outputs": [],
   "source": [
    "ds_5= pd.DataFrame(ds_5, columns = ['last 5th','last 4th','last 3rd','last 2nd','last 1st','present'])"
   ]
  },
  {
   "cell_type": "code",
   "execution_count": 31,
   "id": "6830e1d9",
   "metadata": {},
   "outputs": [
    {
     "data": {
      "text/html": [
       "<div>\n",
       "<style scoped>\n",
       "    .dataframe tbody tr th:only-of-type {\n",
       "        vertical-align: middle;\n",
       "    }\n",
       "\n",
       "    .dataframe tbody tr th {\n",
       "        vertical-align: top;\n",
       "    }\n",
       "\n",
       "    .dataframe thead th {\n",
       "        text-align: right;\n",
       "    }\n",
       "</style>\n",
       "<table border=\"1\" class=\"dataframe\">\n",
       "  <thead>\n",
       "    <tr style=\"text-align: right;\">\n",
       "      <th></th>\n",
       "      <th>last 5th</th>\n",
       "      <th>last 4th</th>\n",
       "      <th>last 3rd</th>\n",
       "      <th>last 2nd</th>\n",
       "      <th>last 1st</th>\n",
       "      <th>present</th>\n",
       "    </tr>\n",
       "  </thead>\n",
       "  <tbody>\n",
       "    <tr>\n",
       "      <th>0</th>\n",
       "      <td>33.85</td>\n",
       "      <td>31.83</td>\n",
       "      <td>69.55</td>\n",
       "      <td>130.36</td>\n",
       "      <td>122.88</td>\n",
       "      <td>134.97</td>\n",
       "    </tr>\n",
       "    <tr>\n",
       "      <th>1</th>\n",
       "      <td>31.83</td>\n",
       "      <td>69.55</td>\n",
       "      <td>130.36</td>\n",
       "      <td>122.88</td>\n",
       "      <td>134.97</td>\n",
       "      <td>134.82</td>\n",
       "    </tr>\n",
       "    <tr>\n",
       "      <th>2</th>\n",
       "      <td>69.55</td>\n",
       "      <td>130.36</td>\n",
       "      <td>122.88</td>\n",
       "      <td>134.97</td>\n",
       "      <td>134.82</td>\n",
       "      <td>138.13</td>\n",
       "    </tr>\n",
       "    <tr>\n",
       "      <th>3</th>\n",
       "      <td>130.36</td>\n",
       "      <td>122.88</td>\n",
       "      <td>134.97</td>\n",
       "      <td>134.82</td>\n",
       "      <td>138.13</td>\n",
       "      <td>140.60</td>\n",
       "    </tr>\n",
       "    <tr>\n",
       "      <th>4</th>\n",
       "      <td>122.88</td>\n",
       "      <td>134.97</td>\n",
       "      <td>134.82</td>\n",
       "      <td>138.13</td>\n",
       "      <td>140.60</td>\n",
       "      <td>134.06</td>\n",
       "    </tr>\n",
       "    <tr>\n",
       "      <th>...</th>\n",
       "      <td>...</td>\n",
       "      <td>...</td>\n",
       "      <td>...</td>\n",
       "      <td>...</td>\n",
       "      <td>...</td>\n",
       "      <td>...</td>\n",
       "    </tr>\n",
       "    <tr>\n",
       "      <th>1790</th>\n",
       "      <td>62.14</td>\n",
       "      <td>57.51</td>\n",
       "      <td>53.04</td>\n",
       "      <td>53.30</td>\n",
       "      <td>48.52</td>\n",
       "      <td>51.83</td>\n",
       "    </tr>\n",
       "    <tr>\n",
       "      <th>1791</th>\n",
       "      <td>57.51</td>\n",
       "      <td>53.04</td>\n",
       "      <td>53.30</td>\n",
       "      <td>48.52</td>\n",
       "      <td>51.83</td>\n",
       "      <td>52.64</td>\n",
       "    </tr>\n",
       "    <tr>\n",
       "      <th>1792</th>\n",
       "      <td>53.04</td>\n",
       "      <td>53.30</td>\n",
       "      <td>48.52</td>\n",
       "      <td>51.83</td>\n",
       "      <td>52.64</td>\n",
       "      <td>50.47</td>\n",
       "    </tr>\n",
       "    <tr>\n",
       "      <th>1793</th>\n",
       "      <td>53.30</td>\n",
       "      <td>48.52</td>\n",
       "      <td>51.83</td>\n",
       "      <td>52.64</td>\n",
       "      <td>50.47</td>\n",
       "      <td>49.61</td>\n",
       "    </tr>\n",
       "    <tr>\n",
       "      <th>1794</th>\n",
       "      <td>48.52</td>\n",
       "      <td>51.83</td>\n",
       "      <td>52.64</td>\n",
       "      <td>50.47</td>\n",
       "      <td>49.61</td>\n",
       "      <td>50.75</td>\n",
       "    </tr>\n",
       "  </tbody>\n",
       "</table>\n",
       "<p>1795 rows × 6 columns</p>\n",
       "</div>"
      ],
      "text/plain": [
       "      last 5th  last 4th  last 3rd  last 2nd  last 1st  present\n",
       "0        33.85     31.83     69.55    130.36    122.88   134.97\n",
       "1        31.83     69.55    130.36    122.88    134.97   134.82\n",
       "2        69.55    130.36    122.88    134.97    134.82   138.13\n",
       "3       130.36    122.88    134.97    134.82    138.13   140.60\n",
       "4       122.88    134.97    134.82    138.13    140.60   134.06\n",
       "...        ...       ...       ...       ...       ...      ...\n",
       "1790     62.14     57.51     53.04     53.30     48.52    51.83\n",
       "1791     57.51     53.04     53.30     48.52     51.83    52.64\n",
       "1792     53.04     53.30     48.52     51.83     52.64    50.47\n",
       "1793     53.30     48.52     51.83     52.64     50.47    49.61\n",
       "1794     48.52     51.83     52.64     50.47     49.61    50.75\n",
       "\n",
       "[1795 rows x 6 columns]"
      ]
     },
     "execution_count": 31,
     "metadata": {},
     "output_type": "execute_result"
    }
   ],
   "source": [
    "ds_5"
   ]
  },
  {
   "cell_type": "markdown",
   "id": "6f7d7274",
   "metadata": {},
   "source": [
    "# Model Training\n"
   ]
  },
  {
   "cell_type": "markdown",
   "id": "589bdf01",
   "metadata": {},
   "source": [
    "### Step 1: Now we start the process of model training by making independent and dependent   variables\n",
    "\n"
   ]
  },
  {
   "cell_type": "code",
   "execution_count": 32,
   "id": "d691e047",
   "metadata": {},
   "outputs": [],
   "source": [
    "svr_X=ds_5.iloc[:,[0,1,2,3,4]].values;\n",
    "svr_Y=ds_5.iloc[:,[-1]].values;"
   ]
  },
  {
   "cell_type": "code",
   "execution_count": 33,
   "id": "44d7d2b3",
   "metadata": {},
   "outputs": [
    {
     "data": {
      "text/plain": [
       "array([[ 33.85,  31.83,  69.55, 130.36, 122.88],\n",
       "       [ 31.83,  69.55, 130.36, 122.88, 134.97],\n",
       "       [ 69.55, 130.36, 122.88, 134.97, 134.82],\n",
       "       ...,\n",
       "       [ 53.04,  53.3 ,  48.52,  51.83,  52.64],\n",
       "       [ 53.3 ,  48.52,  51.83,  52.64,  50.47],\n",
       "       [ 48.52,  51.83,  52.64,  50.47,  49.61]])"
      ]
     },
     "execution_count": 33,
     "metadata": {},
     "output_type": "execute_result"
    }
   ],
   "source": [
    "svr_X"
   ]
  },
  {
   "cell_type": "markdown",
   "id": "0f41dd2b",
   "metadata": {},
   "source": [
    "### Step 2 :Removing the null values "
   ]
  },
  {
   "cell_type": "code",
   "execution_count": 34,
   "id": "693d5ed5",
   "metadata": {},
   "outputs": [],
   "source": [
    "from sklearn.impute import SimpleImputer;\n",
    "ds_imputer=SimpleImputer(missing_values=np.nan,strategy='mean');\n",
    "ds_imputer.fit(svr_X);\n",
    "svr_X=ds_imputer.transform(svr_X);"
   ]
  },
  {
   "cell_type": "code",
   "execution_count": 35,
   "id": "574efdd2",
   "metadata": {},
   "outputs": [],
   "source": [
    "# from sklearn.impute import SimpleImputer;\n",
    "# ds_imputer=SimpleImputer(missing_values=np.nan,strategy='mean');\n",
    "ds_imputer.fit(svr_Y);\n",
    "svr_Y=ds_imputer.transform(svr_Y);"
   ]
  },
  {
   "cell_type": "code",
   "execution_count": 36,
   "id": "d28eb95d",
   "metadata": {},
   "outputs": [
    {
     "data": {
      "text/plain": [
       "array([[ 33.85,  31.83,  69.55, 130.36, 122.88],\n",
       "       [ 31.83,  69.55, 130.36, 122.88, 134.97],\n",
       "       [ 69.55, 130.36, 122.88, 134.97, 134.82],\n",
       "       ...,\n",
       "       [ 53.04,  53.3 ,  48.52,  51.83,  52.64],\n",
       "       [ 53.3 ,  48.52,  51.83,  52.64,  50.47],\n",
       "       [ 48.52,  51.83,  52.64,  50.47,  49.61]])"
      ]
     },
     "execution_count": 36,
     "metadata": {},
     "output_type": "execute_result"
    }
   ],
   "source": [
    "svr_X"
   ]
  },
  {
   "cell_type": "code",
   "execution_count": 37,
   "id": "f6406b72",
   "metadata": {},
   "outputs": [
    {
     "data": {
      "text/plain": [
       "array([[134.97],\n",
       "       [134.82],\n",
       "       [138.13],\n",
       "       ...,\n",
       "       [ 50.47],\n",
       "       [ 49.61],\n",
       "       [ 50.75]])"
      ]
     },
     "execution_count": 37,
     "metadata": {},
     "output_type": "execute_result"
    }
   ],
   "source": [
    "svr_Y"
   ]
  },
  {
   "cell_type": "markdown",
   "id": "7b320e22",
   "metadata": {},
   "source": [
    "### Step 3: Test - Train - Split"
   ]
  },
  {
   "cell_type": "code",
   "execution_count": 38,
   "id": "cb557ff4",
   "metadata": {},
   "outputs": [],
   "source": [
    "from sklearn.model_selection import train_test_split;\n",
    "svr_x_train,svr_x_test,svr_y_train,svr_y_test=train_test_split(svr_X,svr_Y,test_size=0.2,random_state=1);"
   ]
  },
  {
   "cell_type": "markdown",
   "id": "615240c4",
   "metadata": {},
   "source": [
    "### Step 4 : Using Regression Model : Support Vector Regression"
   ]
  },
  {
   "cell_type": "code",
   "execution_count": 39,
   "id": "7f3ae31c",
   "metadata": {},
   "outputs": [
    {
     "name": "stderr",
     "output_type": "stream",
     "text": [
      "C:\\ProgramData\\Anaconda3\\lib\\site-packages\\sklearn\\utils\\validation.py:63: DataConversionWarning:\n",
      "\n",
      "A column-vector y was passed when a 1d array was expected. Please change the shape of y to (n_samples, ), for example using ravel().\n",
      "\n"
     ]
    }
   ],
   "source": [
    "from sklearn.svm import SVR\n",
    "regressor = SVR(kernel = 'linear')\n",
    "regressor.fit(svr_x_train, svr_y_train);"
   ]
  },
  {
   "cell_type": "code",
   "execution_count": 40,
   "id": "4629b959",
   "metadata": {},
   "outputs": [],
   "source": [
    "svr_y_pred=regressor.predict(svr_x_test); #prediction of testing data"
   ]
  },
  {
   "cell_type": "code",
   "execution_count": 41,
   "id": "2cc41aed",
   "metadata": {},
   "outputs": [
    {
     "data": {
      "text/plain": [
       "(359,)"
      ]
     },
     "execution_count": 41,
     "metadata": {},
     "output_type": "execute_result"
    }
   ],
   "source": [
    "svr_y_pred.shape\n"
   ]
  },
  {
   "cell_type": "code",
   "execution_count": 42,
   "id": "722564db",
   "metadata": {},
   "outputs": [
    {
     "data": {
      "text/plain": [
       "(359, 1)"
      ]
     },
     "execution_count": 42,
     "metadata": {},
     "output_type": "execute_result"
    }
   ],
   "source": [
    "svr_y_test.shape"
   ]
  },
  {
   "cell_type": "code",
   "execution_count": 43,
   "id": "de52e6e8",
   "metadata": {},
   "outputs": [],
   "source": [
    "df_y =pd.DataFrame(np.concatenate((svr_y_pred.reshape(359,1),svr_y_test),axis =1),columns = [\"Predicted\",\"Actual\"])"
   ]
  },
  {
   "cell_type": "markdown",
   "id": "372b55c4",
   "metadata": {},
   "source": [
    "## Comparision Of Predicted AQI and Actual AQI"
   ]
  },
  {
   "cell_type": "code",
   "execution_count": 44,
   "id": "d81b43f3",
   "metadata": {},
   "outputs": [
    {
     "data": {
      "application/vnd.plotly.v1+json": {
       "config": {
        "plotlyServerURL": "https://plot.ly"
       },
       "data": [
        {
         "marker": {
          "color": "rgb(34,163,192)"
         },
         "name": "Actual",
         "type": "scatter",
         "y": [
          50.47,
          23.85,
          47.15,
          39.17,
          39.63,
          34.01,
          30.32,
          84.1,
          30.05,
          39.09,
          88.96,
          32,
          73.85,
          30.7,
          35.77,
          25.14,
          73.27,
          43.55,
          32.1,
          26.32,
          22.52,
          32.14,
          32.26,
          70.25,
          40.53,
          50.06,
          24.45,
          52.71,
          58.85,
          64.21,
          30.43,
          42.27,
          67.43,
          48.82,
          40.93,
          58.65,
          36.38,
          29.59,
          39.27,
          28.75,
          26.54,
          32.27,
          41.1,
          38.57,
          58.18,
          21.67,
          28.99,
          31.35,
          28.26,
          49.47,
          27.85,
          52.5,
          42.6,
          23.44,
          29.73,
          52.48,
          32.92,
          41.36,
          50.15,
          46.78,
          53.33,
          26.21,
          39.2,
          30.39,
          38.68,
          57.34,
          32.34,
          29.84,
          51.53,
          37.51,
          40.73,
          36.06,
          35.4,
          43.71,
          36.5,
          31.97,
          53.82,
          111.69,
          43.55,
          59.1,
          39.35,
          37.86,
          21.64,
          27.09,
          37.36,
          40.96,
          50.14,
          46.53,
          55.07,
          38.45,
          39.88,
          108.68,
          67.29,
          48.36,
          45.37,
          37.84,
          43.85,
          69.47,
          55.19,
          41.85,
          33.55,
          59.34,
          41.23,
          28.89,
          20.4,
          32.19,
          40.73,
          29.35,
          39.12,
          27.41,
          42.41061590145577,
          40.43,
          44.12,
          35.12,
          31.11,
          34.14,
          38.68,
          25.87,
          31.18,
          50.8,
          42.49,
          37.26,
          32.57,
          36.91,
          42.68,
          32.52,
          24.13,
          46.26,
          32.06,
          33.33,
          16.83,
          50.55,
          60.94,
          98.29,
          31.51,
          24.71,
          27.96,
          29.2,
          44.18,
          52.21,
          59.04,
          56.81,
          36.31,
          36.68,
          44.95,
          61.45,
          40.11,
          32.06,
          49.69,
          38.98,
          63.31,
          37.96,
          36.7,
          37.64,
          45.99,
          50.75,
          50.27,
          33.27,
          31.53,
          26.78,
          37.35,
          68.5,
          23.94,
          60.67,
          40.08,
          26,
          34.96,
          38.84,
          37.02,
          49.29,
          55.71,
          40.72,
          49.26,
          38.61,
          19.27,
          90.35,
          36.52,
          43.23,
          47.52,
          40.32,
          51.9,
          39.78,
          44.78,
          29.78,
          21.49,
          28.15,
          37.78,
          41.02,
          21.93,
          30.92,
          46.64,
          19.68,
          16.49,
          34.91,
          39.38,
          48.34,
          43.35,
          48.9,
          35.08,
          43.41,
          52.82,
          50.66,
          29.32,
          23.83,
          30.72,
          23.02,
          50.48,
          43.49,
          31.53,
          50.28,
          46.52,
          35.25,
          34.81,
          35.85,
          31.46,
          27.69,
          166.7,
          33.1,
          36.07,
          38.99,
          41.74,
          44.08,
          28.72,
          43.17,
          48.68,
          140.6,
          36.51,
          81.94,
          50.7,
          27.85,
          34.88,
          26.39,
          25.81,
          32.86,
          54.37,
          73.83,
          29.91,
          49.53,
          39.19,
          44.84,
          37.83,
          40.95,
          52.67,
          25.82,
          34.93,
          54.51,
          30.12,
          54.53,
          69.13,
          43.29,
          43.21,
          53.68,
          33.81,
          58.75,
          28.03,
          24.48,
          62.24,
          74.39,
          55.32,
          37.48,
          91.77,
          33.51,
          25.11,
          76.09,
          42.01,
          32.58,
          48.86,
          43.53,
          40.69,
          31.25,
          42.32,
          62.34,
          33.03,
          33.8,
          42.2,
          37.17,
          134.97,
          96.22,
          50.34,
          65.47,
          28.17,
          26.55,
          15.6,
          33.05,
          51.24,
          40.72,
          39.31,
          28.65,
          33.33,
          29.82,
          39.62,
          45.66,
          34.43,
          26.2,
          39.05,
          41.4,
          32.41,
          43.23,
          50.54,
          137.27,
          36.98,
          60.21,
          45.4,
          27.34,
          41.36,
          30.04,
          39.46,
          33.75,
          41.79,
          30.25,
          41.31,
          35.67,
          35.16,
          21.07,
          32.64,
          66.8,
          40.14,
          19.11,
          37.01,
          81.3,
          48.38,
          126.19,
          36.64,
          39.88,
          24.13,
          33.05,
          45.99,
          33.49,
          28.33,
          61.89,
          41.15,
          28.86,
          34.47,
          40.48,
          42.41061590145577,
          30.92,
          47.42,
          33.66,
          42.41061590145577,
          35.34,
          26.98,
          63.25,
          35.82,
          28.85,
          53.81,
          66.01,
          67.61,
          37.92,
          56.06,
          62.47,
          31.06,
          34.38,
          34.91,
          24.79,
          24.31,
          32.6,
          29.21,
          29.79,
          49.73
         ]
        },
        {
         "name": "Predicted",
         "type": "scatter",
         "xaxis": "x",
         "y": [
          51.28721285279654,
          29.160384647712377,
          40.899442422569805,
          35.914737860417986,
          34.32580092167929,
          33.21672559237278,
          33.9789600309273,
          71.24638786584775,
          31.626789339174607,
          40.54812602306312,
          73.48460887396006,
          23.904540783007647,
          69.76167221112202,
          25.462045058548497,
          38.558885086986734,
          29.298213555287944,
          72.86548524331239,
          43.23297066589704,
          39.40509893919308,
          24.400087089296463,
          23.424181697726922,
          28.790280689805982,
          28.448285959124874,
          66.44423744619645,
          31.746175512984806,
          51.125373457338824,
          26.34088609689526,
          53.52279434470121,
          51.75685501276031,
          53.36922124695276,
          30.572707905483654,
          44.79721637677768,
          46.385989709259334,
          39.65965199706308,
          41.27499345929256,
          47.9956174442582,
          68.90218628950835,
          35.54926093619771,
          36.160338569198316,
          34.88389065623643,
          26.92285478677924,
          32.397436462872534,
          52.704948553126556,
          38.5209791840539,
          57.46272039951374,
          22.761842885582624,
          30.377172097180406,
          25.53922359066793,
          34.37070258154428,
          48.51106721031694,
          38.71922987857444,
          61.55128698517957,
          51.54127268249478,
          27.541884423776096,
          34.336463389596716,
          52.74354943566733,
          30.242377089984544,
          41.42291344739944,
          43.88172772553709,
          41.189517449078735,
          60.97076962950315,
          27.92815839186234,
          45.50160678301337,
          32.21050870939554,
          41.12602869463673,
          62.31080914600399,
          35.64594098670797,
          32.48408753249397,
          33.51615098129379,
          50.92196765248674,
          34.022461288996524,
          36.62774209844112,
          38.83392086650794,
          36.200651528638005,
          31.02670807841288,
          32.821846370380186,
          48.29742863051662,
          85.14545570520433,
          47.288935142311416,
          56.846926008677215,
          43.179691475574614,
          36.321773808666435,
          31.699176356982676,
          30.23772933609554,
          24.307063818444036,
          53.24037442312557,
          44.16578474535028,
          40.414345128142045,
          47.511796662066004,
          36.84241706102013,
          51.13428711556527,
          154.5500537247813,
          57.989005415644456,
          35.48927990937456,
          44.31279377222428,
          51.11175825779948,
          42.29358917524452,
          89.32339024165641,
          41.761580234668614,
          36.74444280791114,
          38.37838262324887,
          62.32733682690788,
          37.33238524801028,
          32.81413534418836,
          22.23775003875427,
          34.98088987455641,
          55.35484282864719,
          30.69768072393937,
          49.275861678208926,
          70.16521468244038,
          20.016762788533484,
          42.187257561834954,
          41.95750846405146,
          31.429534690918913,
          28.938087234630544,
          37.84736372091949,
          60.243880179874864,
          29.27785805392206,
          46.46792225952824,
          47.72956182935788,
          45.35191513043584,
          43.46552239304812,
          42.195723116331024,
          42.59065757738655,
          41.91962480831218,
          32.76513157843557,
          27.339663115375984,
          49.773703901892546,
          34.519727439034355,
          34.22646946678152,
          31.415055664864227,
          42.59809329147039,
          48.71781368340136,
          98.93555877675182,
          23.9018733041744,
          28.863187473364192,
          39.272985178610284,
          30.86055160089974,
          49.85447092691767,
          36.90279706824778,
          64.70225533236818,
          44.91289867763636,
          40.49571742606578,
          39.443230508896264,
          40.98553011236301,
          53.403554781316885,
          45.16685456206916,
          31.574835782179903,
          55.12016797668049,
          33.48084891235932,
          57.654321900596656,
          39.48789340212217,
          30.412147923460466,
          41.16021886631144,
          43.250519014638954,
          41.84729456783545,
          46.09068596223052,
          28.56412854424572,
          35.75668234018714,
          27.413236619026534,
          33.71266293951932,
          64.30104776979216,
          18.972422301102156,
          43.5013879015719,
          32.568871484760635,
          24.31077372225856,
          40.545810023024856,
          33.3855956362536,
          33.99015162897605,
          53.63937406468041,
          71.98224531793905,
          37.28011991576797,
          50.191699035595335,
          38.88413353995976,
          33.473308629695126,
          76.62919710006328,
          40.14299254145455,
          54.13709257074744,
          47.19649341421838,
          40.86351580163547,
          49.11625703384426,
          37.182172528823244,
          44.80678768867848,
          43.95927851212993,
          8.791036552644544,
          32.01699374246938,
          35.06156163399238,
          35.85180705503127,
          26.14143244934759,
          33.41331344993752,
          50.26934528152789,
          23.873342928868183,
          25.08016575289959,
          40.865169132381666,
          14.253967968473733,
          65.7309960641419,
          47.50422112987373,
          37.39046086759892,
          37.90770706848572,
          33.09776229881801,
          48.08260958349139,
          31.687418836669636,
          25.341023909508763,
          24.086839430617616,
          30.07303088401433,
          20.053401077392223,
          44.22221485042839,
          46.79631471085351,
          29.93940499900647,
          65.16038371360857,
          44.29651269133548,
          33.55558443215206,
          25.5423334279035,
          31.994366197783634,
          33.418338844282076,
          30.555175487796546,
          135.33808469307635,
          29.456501162007513,
          37.292178685297145,
          30.4574815920828,
          44.96592677915261,
          45.932165505475965,
          27.2125047160812,
          34.18607159097384,
          59.11247244459129,
          130.1619380791913,
          37.096508273144096,
          76.63742495184535,
          45.57855232316298,
          32.4501924554702,
          35.448663882855286,
          26.4183977542839,
          29.86642955525214,
          33.18383982346906,
          47.84731097488522,
          51.38553236397139,
          29.667875269319225,
          34.288844270209225,
          44.05795586168871,
          44.67990230642546,
          50.47354601702183,
          38.110405339932655,
          49.39420279207708,
          27.757629496049518,
          33.325144755223405,
          47.89000014780187,
          26.879265660198612,
          43.532989298399585,
          48.28809058927119,
          37.19796541380721,
          38.16749924217994,
          47.48099938820498,
          45.13319275452206,
          48.54850823799872,
          28.030780169400273,
          26.110603914803974,
          56.6365404230569,
          66.17387037634991,
          54.041697358854904,
          37.91789346380985,
          88.5108302831127,
          41.28494725267821,
          27.6849662956579,
          42.608412075244374,
          40.19209268081478,
          35.58736252143946,
          47.67229063322749,
          48.34100729802459,
          39.784678641632595,
          33.83870239868567,
          37.36824472103082,
          51.83319079508739,
          34.58965230044352,
          26.553376073589348,
          42.868774554392544,
          43.090909777471566,
          107.2197986341803,
          85.8396762107791,
          35.01547176812029,
          72.03655017349458,
          32.377126318963306,
          29.883278256375448,
          29.62768875896883,
          36.962324079113856,
          52.29758815657489,
          37.582436460190834,
          45.97659641550355,
          33.27750460113613,
          37.94056117403899,
          29.892249915993048,
          38.31574021817552,
          39.75195277411741,
          36.40440297548095,
          25.528210077066902,
          43.09131937242684,
          39.93376187384321,
          30.589382519072856,
          40.12567371733759,
          79.77528124084212,
          82.50543324346155,
          33.93282186286753,
          55.74337519403208,
          53.90907090504017,
          29.29377956411237,
          35.97254237522658,
          37.50703189728894,
          51.03563923824778,
          50.9942400168061,
          29.043290361767973,
          34.343748234774935,
          46.84777522370361,
          33.712222388593105,
          38.61491132470702,
          22.713888999060615,
          34.250299267074766,
          61.84221052011573,
          36.07262567504087,
          21.01834071229179,
          32.728528143498366,
          70.35877630416373,
          47.97401677081008,
          69.00748175331184,
          35.24982745269564,
          40.367948221416114,
          23.83701892247747,
          32.19130855928462,
          54.4696852994971,
          32.39709203712893,
          24.035416374541924,
          128.8886700497483,
          38.44513006785429,
          19.467964826316816,
          30.048903784020254,
          47.3144557204255,
          41.371975651431526,
          43.08337624451316,
          57.01115533808708,
          38.172607287337556,
          39.01882713595343,
          34.64259580869704,
          28.023736620018568,
          62.87421700114511,
          30.9374939737486,
          38.371494883506344,
          40.35173192478807,
          77.81556393211078,
          53.40072881900461,
          36.94792239538812,
          54.41276379791317,
          52.43533907143002,
          52.52999268228133,
          30.64192267155387,
          40.89880221598516,
          28.415463649319022,
          27.429302121734068,
          35.70793164377075,
          36.45901010626632,
          31.243105097690673,
          48.706133203130335
         ],
         "yaxis": "y2"
        }
       ],
       "layout": {
        "height": 600,
        "template": {
         "data": {
          "bar": [
           {
            "error_x": {
             "color": "#2a3f5f"
            },
            "error_y": {
             "color": "#2a3f5f"
            },
            "marker": {
             "line": {
              "color": "#E5ECF6",
              "width": 0.5
             },
             "pattern": {
              "fillmode": "overlay",
              "size": 10,
              "solidity": 0.2
             }
            },
            "type": "bar"
           }
          ],
          "barpolar": [
           {
            "marker": {
             "line": {
              "color": "#E5ECF6",
              "width": 0.5
             },
             "pattern": {
              "fillmode": "overlay",
              "size": 10,
              "solidity": 0.2
             }
            },
            "type": "barpolar"
           }
          ],
          "carpet": [
           {
            "aaxis": {
             "endlinecolor": "#2a3f5f",
             "gridcolor": "white",
             "linecolor": "white",
             "minorgridcolor": "white",
             "startlinecolor": "#2a3f5f"
            },
            "baxis": {
             "endlinecolor": "#2a3f5f",
             "gridcolor": "white",
             "linecolor": "white",
             "minorgridcolor": "white",
             "startlinecolor": "#2a3f5f"
            },
            "type": "carpet"
           }
          ],
          "choropleth": [
           {
            "colorbar": {
             "outlinewidth": 0,
             "ticks": ""
            },
            "type": "choropleth"
           }
          ],
          "contour": [
           {
            "colorbar": {
             "outlinewidth": 0,
             "ticks": ""
            },
            "colorscale": [
             [
              0,
              "#0d0887"
             ],
             [
              0.1111111111111111,
              "#46039f"
             ],
             [
              0.2222222222222222,
              "#7201a8"
             ],
             [
              0.3333333333333333,
              "#9c179e"
             ],
             [
              0.4444444444444444,
              "#bd3786"
             ],
             [
              0.5555555555555556,
              "#d8576b"
             ],
             [
              0.6666666666666666,
              "#ed7953"
             ],
             [
              0.7777777777777778,
              "#fb9f3a"
             ],
             [
              0.8888888888888888,
              "#fdca26"
             ],
             [
              1,
              "#f0f921"
             ]
            ],
            "type": "contour"
           }
          ],
          "contourcarpet": [
           {
            "colorbar": {
             "outlinewidth": 0,
             "ticks": ""
            },
            "type": "contourcarpet"
           }
          ],
          "heatmap": [
           {
            "colorbar": {
             "outlinewidth": 0,
             "ticks": ""
            },
            "colorscale": [
             [
              0,
              "#0d0887"
             ],
             [
              0.1111111111111111,
              "#46039f"
             ],
             [
              0.2222222222222222,
              "#7201a8"
             ],
             [
              0.3333333333333333,
              "#9c179e"
             ],
             [
              0.4444444444444444,
              "#bd3786"
             ],
             [
              0.5555555555555556,
              "#d8576b"
             ],
             [
              0.6666666666666666,
              "#ed7953"
             ],
             [
              0.7777777777777778,
              "#fb9f3a"
             ],
             [
              0.8888888888888888,
              "#fdca26"
             ],
             [
              1,
              "#f0f921"
             ]
            ],
            "type": "heatmap"
           }
          ],
          "heatmapgl": [
           {
            "colorbar": {
             "outlinewidth": 0,
             "ticks": ""
            },
            "colorscale": [
             [
              0,
              "#0d0887"
             ],
             [
              0.1111111111111111,
              "#46039f"
             ],
             [
              0.2222222222222222,
              "#7201a8"
             ],
             [
              0.3333333333333333,
              "#9c179e"
             ],
             [
              0.4444444444444444,
              "#bd3786"
             ],
             [
              0.5555555555555556,
              "#d8576b"
             ],
             [
              0.6666666666666666,
              "#ed7953"
             ],
             [
              0.7777777777777778,
              "#fb9f3a"
             ],
             [
              0.8888888888888888,
              "#fdca26"
             ],
             [
              1,
              "#f0f921"
             ]
            ],
            "type": "heatmapgl"
           }
          ],
          "histogram": [
           {
            "marker": {
             "pattern": {
              "fillmode": "overlay",
              "size": 10,
              "solidity": 0.2
             }
            },
            "type": "histogram"
           }
          ],
          "histogram2d": [
           {
            "colorbar": {
             "outlinewidth": 0,
             "ticks": ""
            },
            "colorscale": [
             [
              0,
              "#0d0887"
             ],
             [
              0.1111111111111111,
              "#46039f"
             ],
             [
              0.2222222222222222,
              "#7201a8"
             ],
             [
              0.3333333333333333,
              "#9c179e"
             ],
             [
              0.4444444444444444,
              "#bd3786"
             ],
             [
              0.5555555555555556,
              "#d8576b"
             ],
             [
              0.6666666666666666,
              "#ed7953"
             ],
             [
              0.7777777777777778,
              "#fb9f3a"
             ],
             [
              0.8888888888888888,
              "#fdca26"
             ],
             [
              1,
              "#f0f921"
             ]
            ],
            "type": "histogram2d"
           }
          ],
          "histogram2dcontour": [
           {
            "colorbar": {
             "outlinewidth": 0,
             "ticks": ""
            },
            "colorscale": [
             [
              0,
              "#0d0887"
             ],
             [
              0.1111111111111111,
              "#46039f"
             ],
             [
              0.2222222222222222,
              "#7201a8"
             ],
             [
              0.3333333333333333,
              "#9c179e"
             ],
             [
              0.4444444444444444,
              "#bd3786"
             ],
             [
              0.5555555555555556,
              "#d8576b"
             ],
             [
              0.6666666666666666,
              "#ed7953"
             ],
             [
              0.7777777777777778,
              "#fb9f3a"
             ],
             [
              0.8888888888888888,
              "#fdca26"
             ],
             [
              1,
              "#f0f921"
             ]
            ],
            "type": "histogram2dcontour"
           }
          ],
          "mesh3d": [
           {
            "colorbar": {
             "outlinewidth": 0,
             "ticks": ""
            },
            "type": "mesh3d"
           }
          ],
          "parcoords": [
           {
            "line": {
             "colorbar": {
              "outlinewidth": 0,
              "ticks": ""
             }
            },
            "type": "parcoords"
           }
          ],
          "pie": [
           {
            "automargin": true,
            "type": "pie"
           }
          ],
          "scatter": [
           {
            "marker": {
             "colorbar": {
              "outlinewidth": 0,
              "ticks": ""
             }
            },
            "type": "scatter"
           }
          ],
          "scatter3d": [
           {
            "line": {
             "colorbar": {
              "outlinewidth": 0,
              "ticks": ""
             }
            },
            "marker": {
             "colorbar": {
              "outlinewidth": 0,
              "ticks": ""
             }
            },
            "type": "scatter3d"
           }
          ],
          "scattercarpet": [
           {
            "marker": {
             "colorbar": {
              "outlinewidth": 0,
              "ticks": ""
             }
            },
            "type": "scattercarpet"
           }
          ],
          "scattergeo": [
           {
            "marker": {
             "colorbar": {
              "outlinewidth": 0,
              "ticks": ""
             }
            },
            "type": "scattergeo"
           }
          ],
          "scattergl": [
           {
            "marker": {
             "colorbar": {
              "outlinewidth": 0,
              "ticks": ""
             }
            },
            "type": "scattergl"
           }
          ],
          "scattermapbox": [
           {
            "marker": {
             "colorbar": {
              "outlinewidth": 0,
              "ticks": ""
             }
            },
            "type": "scattermapbox"
           }
          ],
          "scatterpolar": [
           {
            "marker": {
             "colorbar": {
              "outlinewidth": 0,
              "ticks": ""
             }
            },
            "type": "scatterpolar"
           }
          ],
          "scatterpolargl": [
           {
            "marker": {
             "colorbar": {
              "outlinewidth": 0,
              "ticks": ""
             }
            },
            "type": "scatterpolargl"
           }
          ],
          "scatterternary": [
           {
            "marker": {
             "colorbar": {
              "outlinewidth": 0,
              "ticks": ""
             }
            },
            "type": "scatterternary"
           }
          ],
          "surface": [
           {
            "colorbar": {
             "outlinewidth": 0,
             "ticks": ""
            },
            "colorscale": [
             [
              0,
              "#0d0887"
             ],
             [
              0.1111111111111111,
              "#46039f"
             ],
             [
              0.2222222222222222,
              "#7201a8"
             ],
             [
              0.3333333333333333,
              "#9c179e"
             ],
             [
              0.4444444444444444,
              "#bd3786"
             ],
             [
              0.5555555555555556,
              "#d8576b"
             ],
             [
              0.6666666666666666,
              "#ed7953"
             ],
             [
              0.7777777777777778,
              "#fb9f3a"
             ],
             [
              0.8888888888888888,
              "#fdca26"
             ],
             [
              1,
              "#f0f921"
             ]
            ],
            "type": "surface"
           }
          ],
          "table": [
           {
            "cells": {
             "fill": {
              "color": "#EBF0F8"
             },
             "line": {
              "color": "white"
             }
            },
            "header": {
             "fill": {
              "color": "#C8D4E3"
             },
             "line": {
              "color": "white"
             }
            },
            "type": "table"
           }
          ]
         },
         "layout": {
          "annotationdefaults": {
           "arrowcolor": "#2a3f5f",
           "arrowhead": 0,
           "arrowwidth": 1
          },
          "autotypenumbers": "strict",
          "coloraxis": {
           "colorbar": {
            "outlinewidth": 0,
            "ticks": ""
           }
          },
          "colorscale": {
           "diverging": [
            [
             0,
             "#8e0152"
            ],
            [
             0.1,
             "#c51b7d"
            ],
            [
             0.2,
             "#de77ae"
            ],
            [
             0.3,
             "#f1b6da"
            ],
            [
             0.4,
             "#fde0ef"
            ],
            [
             0.5,
             "#f7f7f7"
            ],
            [
             0.6,
             "#e6f5d0"
            ],
            [
             0.7,
             "#b8e186"
            ],
            [
             0.8,
             "#7fbc41"
            ],
            [
             0.9,
             "#4d9221"
            ],
            [
             1,
             "#276419"
            ]
           ],
           "sequential": [
            [
             0,
             "#0d0887"
            ],
            [
             0.1111111111111111,
             "#46039f"
            ],
            [
             0.2222222222222222,
             "#7201a8"
            ],
            [
             0.3333333333333333,
             "#9c179e"
            ],
            [
             0.4444444444444444,
             "#bd3786"
            ],
            [
             0.5555555555555556,
             "#d8576b"
            ],
            [
             0.6666666666666666,
             "#ed7953"
            ],
            [
             0.7777777777777778,
             "#fb9f3a"
            ],
            [
             0.8888888888888888,
             "#fdca26"
            ],
            [
             1,
             "#f0f921"
            ]
           ],
           "sequentialminus": [
            [
             0,
             "#0d0887"
            ],
            [
             0.1111111111111111,
             "#46039f"
            ],
            [
             0.2222222222222222,
             "#7201a8"
            ],
            [
             0.3333333333333333,
             "#9c179e"
            ],
            [
             0.4444444444444444,
             "#bd3786"
            ],
            [
             0.5555555555555556,
             "#d8576b"
            ],
            [
             0.6666666666666666,
             "#ed7953"
            ],
            [
             0.7777777777777778,
             "#fb9f3a"
            ],
            [
             0.8888888888888888,
             "#fdca26"
            ],
            [
             1,
             "#f0f921"
            ]
           ]
          },
          "colorway": [
           "#636efa",
           "#EF553B",
           "#00cc96",
           "#ab63fa",
           "#FFA15A",
           "#19d3f3",
           "#FF6692",
           "#B6E880",
           "#FF97FF",
           "#FECB52"
          ],
          "font": {
           "color": "#2a3f5f"
          },
          "geo": {
           "bgcolor": "white",
           "lakecolor": "white",
           "landcolor": "#E5ECF6",
           "showlakes": true,
           "showland": true,
           "subunitcolor": "white"
          },
          "hoverlabel": {
           "align": "left"
          },
          "hovermode": "closest",
          "mapbox": {
           "style": "light"
          },
          "paper_bgcolor": "white",
          "plot_bgcolor": "#E5ECF6",
          "polar": {
           "angularaxis": {
            "gridcolor": "white",
            "linecolor": "white",
            "ticks": ""
           },
           "bgcolor": "#E5ECF6",
           "radialaxis": {
            "gridcolor": "white",
            "linecolor": "white",
            "ticks": ""
           }
          },
          "scene": {
           "xaxis": {
            "backgroundcolor": "#E5ECF6",
            "gridcolor": "white",
            "gridwidth": 2,
            "linecolor": "white",
            "showbackground": true,
            "ticks": "",
            "zerolinecolor": "white"
           },
           "yaxis": {
            "backgroundcolor": "#E5ECF6",
            "gridcolor": "white",
            "gridwidth": 2,
            "linecolor": "white",
            "showbackground": true,
            "ticks": "",
            "zerolinecolor": "white"
           },
           "zaxis": {
            "backgroundcolor": "#E5ECF6",
            "gridcolor": "white",
            "gridwidth": 2,
            "linecolor": "white",
            "showbackground": true,
            "ticks": "",
            "zerolinecolor": "white"
           }
          },
          "shapedefaults": {
           "line": {
            "color": "#2a3f5f"
           }
          },
          "ternary": {
           "aaxis": {
            "gridcolor": "white",
            "linecolor": "white",
            "ticks": ""
           },
           "baxis": {
            "gridcolor": "white",
            "linecolor": "white",
            "ticks": ""
           },
           "bgcolor": "#E5ECF6",
           "caxis": {
            "gridcolor": "white",
            "linecolor": "white",
            "ticks": ""
           }
          },
          "title": {
           "x": 0.05
          },
          "xaxis": {
           "automargin": true,
           "gridcolor": "white",
           "linecolor": "white",
           "ticks": "",
           "title": {
            "standoff": 15
           },
           "zerolinecolor": "white",
           "zerolinewidth": 2
          },
          "yaxis": {
           "automargin": true,
           "gridcolor": "white",
           "linecolor": "white",
           "ticks": "",
           "title": {
            "standoff": 15
           },
           "zerolinecolor": "white",
           "zerolinewidth": 2
          }
         }
        },
        "title": {
         "text": "SVR Comparision On Testing Data "
        },
        "width": 800,
        "xaxis": {
         "anchor": "y",
         "domain": [
          0,
          0.94
         ],
         "tickangle": -90
        },
        "yaxis": {
         "anchor": "x",
         "domain": [
          0,
          1
         ]
        },
        "yaxis2": {
         "anchor": "x",
         "overlaying": "y",
         "side": "right"
        }
       }
      },
      "text/html": [
       "<div>                            <div id=\"cbc67ac2-68ae-4200-b69c-3f2a4681269d\" class=\"plotly-graph-div\" style=\"height:600px; width:800px;\"></div>            <script type=\"text/javascript\">                require([\"plotly\"], function(Plotly) {                    window.PLOTLYENV=window.PLOTLYENV || {};                                    if (document.getElementById(\"cbc67ac2-68ae-4200-b69c-3f2a4681269d\")) {                    Plotly.newPlot(                        \"cbc67ac2-68ae-4200-b69c-3f2a4681269d\",                        [{\"marker\":{\"color\":\"rgb(34,163,192)\"},\"name\":\"Actual\",\"y\":[50.47,23.85,47.15,39.17,39.63,34.01,30.32,84.1,30.05,39.09,88.96,32.0,73.85,30.7,35.77,25.14,73.27,43.55,32.1,26.32,22.52,32.14,32.26,70.25,40.53,50.06,24.45,52.71,58.85,64.21,30.43,42.27,67.43,48.82,40.93,58.65,36.38,29.59,39.27,28.75,26.54,32.27,41.1,38.57,58.18,21.67,28.99,31.35,28.26,49.47,27.85,52.5,42.6,23.44,29.73,52.48,32.92,41.36,50.15,46.78,53.33,26.21,39.2,30.39,38.68,57.34,32.34,29.84,51.53,37.51,40.73,36.06,35.4,43.71,36.5,31.97,53.82,111.69,43.55,59.1,39.35,37.86,21.64,27.09,37.36,40.96,50.14,46.53,55.07,38.45,39.88,108.68,67.29,48.36,45.37,37.84,43.85,69.47,55.19,41.85,33.55,59.34,41.23,28.89,20.4,32.19,40.73,29.35,39.12,27.41,42.41061590145577,40.43,44.12,35.12,31.11,34.14,38.68,25.87,31.18,50.8,42.49,37.26,32.57,36.91,42.68,32.52,24.13,46.26,32.06,33.33,16.83,50.55,60.94,98.29,31.51,24.71,27.96,29.2,44.18,52.21,59.04,56.81,36.31,36.68,44.95,61.45,40.11,32.06,49.69,38.98,63.31,37.96,36.7,37.64,45.99,50.75,50.27,33.27,31.53,26.78,37.35,68.5,23.94,60.67,40.08,26.0,34.96,38.84,37.02,49.29,55.71,40.72,49.26,38.61,19.27,90.35,36.52,43.23,47.52,40.32,51.9,39.78,44.78,29.78,21.49,28.15,37.78,41.02,21.93,30.92,46.64,19.68,16.49,34.91,39.38,48.34,43.35,48.9,35.08,43.41,52.82,50.66,29.32,23.83,30.72,23.02,50.48,43.49,31.53,50.28,46.52,35.25,34.81,35.85,31.46,27.69,166.7,33.1,36.07,38.99,41.74,44.08,28.72,43.17,48.68,140.6,36.51,81.94,50.7,27.85,34.88,26.39,25.81,32.86,54.37,73.83,29.91,49.53,39.19,44.84,37.83,40.95,52.67,25.82,34.93,54.51,30.12,54.53,69.13,43.29,43.21,53.68,33.81,58.75,28.03,24.48,62.24,74.39,55.32,37.48,91.77,33.51,25.11,76.09,42.01,32.58,48.86,43.53,40.69,31.25,42.32,62.34,33.03,33.8,42.2,37.17,134.97,96.22,50.34,65.47,28.17,26.55,15.6,33.05,51.24,40.72,39.31,28.65,33.33,29.82,39.62,45.66,34.43,26.2,39.05,41.4,32.41,43.23,50.54,137.27,36.98,60.21,45.4,27.34,41.36,30.04,39.46,33.75,41.79,30.25,41.31,35.67,35.16,21.07,32.64,66.8,40.14,19.11,37.01,81.3,48.38,126.19,36.64,39.88,24.13,33.05,45.99,33.49,28.33,61.89,41.15,28.86,34.47,40.48,42.41061590145577,30.92,47.42,33.66,42.41061590145577,35.34,26.98,63.25,35.82,28.85,53.81,66.01,67.61,37.92,56.06,62.47,31.06,34.38,34.91,24.79,24.31,32.6,29.21,29.79,49.73],\"type\":\"scatter\"},{\"name\":\"Predicted\",\"y\":[51.28721285279654,29.160384647712377,40.899442422569805,35.914737860417986,34.32580092167929,33.21672559237278,33.9789600309273,71.24638786584775,31.626789339174607,40.54812602306312,73.48460887396006,23.904540783007647,69.76167221112202,25.462045058548497,38.558885086986734,29.298213555287944,72.86548524331239,43.23297066589704,39.40509893919308,24.400087089296463,23.424181697726922,28.790280689805982,28.448285959124874,66.44423744619645,31.746175512984806,51.125373457338824,26.34088609689526,53.52279434470121,51.75685501276031,53.36922124695276,30.572707905483654,44.79721637677768,46.385989709259334,39.65965199706308,41.27499345929256,47.9956174442582,68.90218628950835,35.54926093619771,36.160338569198316,34.88389065623643,26.92285478677924,32.397436462872534,52.704948553126556,38.5209791840539,57.46272039951374,22.761842885582624,30.377172097180406,25.53922359066793,34.37070258154428,48.51106721031694,38.71922987857444,61.55128698517957,51.54127268249478,27.541884423776096,34.336463389596716,52.74354943566733,30.242377089984544,41.42291344739944,43.88172772553709,41.189517449078735,60.97076962950315,27.92815839186234,45.50160678301337,32.21050870939554,41.12602869463673,62.31080914600399,35.64594098670797,32.48408753249397,33.51615098129379,50.92196765248674,34.022461288996524,36.62774209844112,38.83392086650794,36.200651528638005,31.02670807841288,32.821846370380186,48.29742863051662,85.14545570520433,47.288935142311416,56.846926008677215,43.179691475574614,36.321773808666435,31.699176356982676,30.23772933609554,24.307063818444036,53.24037442312557,44.16578474535028,40.414345128142045,47.511796662066004,36.84241706102013,51.13428711556527,154.5500537247813,57.989005415644456,35.48927990937456,44.31279377222428,51.11175825779948,42.29358917524452,89.32339024165641,41.761580234668614,36.74444280791114,38.37838262324887,62.32733682690788,37.33238524801028,32.81413534418836,22.23775003875427,34.98088987455641,55.35484282864719,30.69768072393937,49.275861678208926,70.16521468244038,20.016762788533484,42.187257561834954,41.95750846405146,31.429534690918913,28.938087234630544,37.84736372091949,60.243880179874864,29.27785805392206,46.46792225952824,47.72956182935788,45.35191513043584,43.46552239304812,42.195723116331024,42.59065757738655,41.91962480831218,32.76513157843557,27.339663115375984,49.773703901892546,34.519727439034355,34.22646946678152,31.415055664864227,42.59809329147039,48.71781368340136,98.93555877675182,23.9018733041744,28.863187473364192,39.272985178610284,30.86055160089974,49.85447092691767,36.90279706824778,64.70225533236818,44.91289867763636,40.49571742606578,39.443230508896264,40.98553011236301,53.403554781316885,45.16685456206916,31.574835782179903,55.12016797668049,33.48084891235932,57.654321900596656,39.48789340212217,30.412147923460466,41.16021886631144,43.250519014638954,41.84729456783545,46.09068596223052,28.56412854424572,35.75668234018714,27.413236619026534,33.71266293951932,64.30104776979216,18.972422301102156,43.5013879015719,32.568871484760635,24.31077372225856,40.545810023024856,33.3855956362536,33.99015162897605,53.63937406468041,71.98224531793905,37.28011991576797,50.191699035595335,38.88413353995976,33.473308629695126,76.62919710006328,40.14299254145455,54.13709257074744,47.19649341421838,40.86351580163547,49.11625703384426,37.182172528823244,44.80678768867848,43.95927851212993,8.791036552644544,32.01699374246938,35.06156163399238,35.85180705503127,26.14143244934759,33.41331344993752,50.26934528152789,23.873342928868183,25.08016575289959,40.865169132381666,14.253967968473733,65.7309960641419,47.50422112987373,37.39046086759892,37.90770706848572,33.09776229881801,48.08260958349139,31.687418836669636,25.341023909508763,24.086839430617616,30.07303088401433,20.053401077392223,44.22221485042839,46.79631471085351,29.93940499900647,65.16038371360857,44.29651269133548,33.55558443215206,25.5423334279035,31.994366197783634,33.418338844282076,30.555175487796546,135.33808469307635,29.456501162007513,37.292178685297145,30.4574815920828,44.96592677915261,45.932165505475965,27.2125047160812,34.18607159097384,59.11247244459129,130.1619380791913,37.096508273144096,76.63742495184535,45.57855232316298,32.4501924554702,35.448663882855286,26.4183977542839,29.86642955525214,33.18383982346906,47.84731097488522,51.38553236397139,29.667875269319225,34.288844270209225,44.05795586168871,44.67990230642546,50.47354601702183,38.110405339932655,49.39420279207708,27.757629496049518,33.325144755223405,47.89000014780187,26.879265660198612,43.532989298399585,48.28809058927119,37.19796541380721,38.16749924217994,47.48099938820498,45.13319275452206,48.54850823799872,28.030780169400273,26.110603914803974,56.6365404230569,66.17387037634991,54.041697358854904,37.91789346380985,88.5108302831127,41.28494725267821,27.6849662956579,42.608412075244374,40.19209268081478,35.58736252143946,47.67229063322749,48.34100729802459,39.784678641632595,33.83870239868567,37.36824472103082,51.83319079508739,34.58965230044352,26.553376073589348,42.868774554392544,43.090909777471566,107.2197986341803,85.8396762107791,35.01547176812029,72.03655017349458,32.377126318963306,29.883278256375448,29.62768875896883,36.962324079113856,52.29758815657489,37.582436460190834,45.97659641550355,33.27750460113613,37.94056117403899,29.892249915993048,38.31574021817552,39.75195277411741,36.40440297548095,25.528210077066902,43.09131937242684,39.93376187384321,30.589382519072856,40.12567371733759,79.77528124084212,82.50543324346155,33.93282186286753,55.74337519403208,53.90907090504017,29.29377956411237,35.97254237522658,37.50703189728894,51.03563923824778,50.9942400168061,29.043290361767973,34.343748234774935,46.84777522370361,33.712222388593105,38.61491132470702,22.713888999060615,34.250299267074766,61.84221052011573,36.07262567504087,21.01834071229179,32.728528143498366,70.35877630416373,47.97401677081008,69.00748175331184,35.24982745269564,40.367948221416114,23.83701892247747,32.19130855928462,54.4696852994971,32.39709203712893,24.035416374541924,128.8886700497483,38.44513006785429,19.467964826316816,30.048903784020254,47.3144557204255,41.371975651431526,43.08337624451316,57.01115533808708,38.172607287337556,39.01882713595343,34.64259580869704,28.023736620018568,62.87421700114511,30.9374939737486,38.371494883506344,40.35173192478807,77.81556393211078,53.40072881900461,36.94792239538812,54.41276379791317,52.43533907143002,52.52999268228133,30.64192267155387,40.89880221598516,28.415463649319022,27.429302121734068,35.70793164377075,36.45901010626632,31.243105097690673,48.706133203130335],\"yaxis\":\"y2\",\"type\":\"scatter\",\"xaxis\":\"x\"}],                        {\"template\":{\"data\":{\"bar\":[{\"error_x\":{\"color\":\"#2a3f5f\"},\"error_y\":{\"color\":\"#2a3f5f\"},\"marker\":{\"line\":{\"color\":\"#E5ECF6\",\"width\":0.5},\"pattern\":{\"fillmode\":\"overlay\",\"size\":10,\"solidity\":0.2}},\"type\":\"bar\"}],\"barpolar\":[{\"marker\":{\"line\":{\"color\":\"#E5ECF6\",\"width\":0.5},\"pattern\":{\"fillmode\":\"overlay\",\"size\":10,\"solidity\":0.2}},\"type\":\"barpolar\"}],\"carpet\":[{\"aaxis\":{\"endlinecolor\":\"#2a3f5f\",\"gridcolor\":\"white\",\"linecolor\":\"white\",\"minorgridcolor\":\"white\",\"startlinecolor\":\"#2a3f5f\"},\"baxis\":{\"endlinecolor\":\"#2a3f5f\",\"gridcolor\":\"white\",\"linecolor\":\"white\",\"minorgridcolor\":\"white\",\"startlinecolor\":\"#2a3f5f\"},\"type\":\"carpet\"}],\"choropleth\":[{\"colorbar\":{\"outlinewidth\":0,\"ticks\":\"\"},\"type\":\"choropleth\"}],\"contour\":[{\"colorbar\":{\"outlinewidth\":0,\"ticks\":\"\"},\"colorscale\":[[0.0,\"#0d0887\"],[0.1111111111111111,\"#46039f\"],[0.2222222222222222,\"#7201a8\"],[0.3333333333333333,\"#9c179e\"],[0.4444444444444444,\"#bd3786\"],[0.5555555555555556,\"#d8576b\"],[0.6666666666666666,\"#ed7953\"],[0.7777777777777778,\"#fb9f3a\"],[0.8888888888888888,\"#fdca26\"],[1.0,\"#f0f921\"]],\"type\":\"contour\"}],\"contourcarpet\":[{\"colorbar\":{\"outlinewidth\":0,\"ticks\":\"\"},\"type\":\"contourcarpet\"}],\"heatmap\":[{\"colorbar\":{\"outlinewidth\":0,\"ticks\":\"\"},\"colorscale\":[[0.0,\"#0d0887\"],[0.1111111111111111,\"#46039f\"],[0.2222222222222222,\"#7201a8\"],[0.3333333333333333,\"#9c179e\"],[0.4444444444444444,\"#bd3786\"],[0.5555555555555556,\"#d8576b\"],[0.6666666666666666,\"#ed7953\"],[0.7777777777777778,\"#fb9f3a\"],[0.8888888888888888,\"#fdca26\"],[1.0,\"#f0f921\"]],\"type\":\"heatmap\"}],\"heatmapgl\":[{\"colorbar\":{\"outlinewidth\":0,\"ticks\":\"\"},\"colorscale\":[[0.0,\"#0d0887\"],[0.1111111111111111,\"#46039f\"],[0.2222222222222222,\"#7201a8\"],[0.3333333333333333,\"#9c179e\"],[0.4444444444444444,\"#bd3786\"],[0.5555555555555556,\"#d8576b\"],[0.6666666666666666,\"#ed7953\"],[0.7777777777777778,\"#fb9f3a\"],[0.8888888888888888,\"#fdca26\"],[1.0,\"#f0f921\"]],\"type\":\"heatmapgl\"}],\"histogram\":[{\"marker\":{\"pattern\":{\"fillmode\":\"overlay\",\"size\":10,\"solidity\":0.2}},\"type\":\"histogram\"}],\"histogram2d\":[{\"colorbar\":{\"outlinewidth\":0,\"ticks\":\"\"},\"colorscale\":[[0.0,\"#0d0887\"],[0.1111111111111111,\"#46039f\"],[0.2222222222222222,\"#7201a8\"],[0.3333333333333333,\"#9c179e\"],[0.4444444444444444,\"#bd3786\"],[0.5555555555555556,\"#d8576b\"],[0.6666666666666666,\"#ed7953\"],[0.7777777777777778,\"#fb9f3a\"],[0.8888888888888888,\"#fdca26\"],[1.0,\"#f0f921\"]],\"type\":\"histogram2d\"}],\"histogram2dcontour\":[{\"colorbar\":{\"outlinewidth\":0,\"ticks\":\"\"},\"colorscale\":[[0.0,\"#0d0887\"],[0.1111111111111111,\"#46039f\"],[0.2222222222222222,\"#7201a8\"],[0.3333333333333333,\"#9c179e\"],[0.4444444444444444,\"#bd3786\"],[0.5555555555555556,\"#d8576b\"],[0.6666666666666666,\"#ed7953\"],[0.7777777777777778,\"#fb9f3a\"],[0.8888888888888888,\"#fdca26\"],[1.0,\"#f0f921\"]],\"type\":\"histogram2dcontour\"}],\"mesh3d\":[{\"colorbar\":{\"outlinewidth\":0,\"ticks\":\"\"},\"type\":\"mesh3d\"}],\"parcoords\":[{\"line\":{\"colorbar\":{\"outlinewidth\":0,\"ticks\":\"\"}},\"type\":\"parcoords\"}],\"pie\":[{\"automargin\":true,\"type\":\"pie\"}],\"scatter\":[{\"marker\":{\"colorbar\":{\"outlinewidth\":0,\"ticks\":\"\"}},\"type\":\"scatter\"}],\"scatter3d\":[{\"line\":{\"colorbar\":{\"outlinewidth\":0,\"ticks\":\"\"}},\"marker\":{\"colorbar\":{\"outlinewidth\":0,\"ticks\":\"\"}},\"type\":\"scatter3d\"}],\"scattercarpet\":[{\"marker\":{\"colorbar\":{\"outlinewidth\":0,\"ticks\":\"\"}},\"type\":\"scattercarpet\"}],\"scattergeo\":[{\"marker\":{\"colorbar\":{\"outlinewidth\":0,\"ticks\":\"\"}},\"type\":\"scattergeo\"}],\"scattergl\":[{\"marker\":{\"colorbar\":{\"outlinewidth\":0,\"ticks\":\"\"}},\"type\":\"scattergl\"}],\"scattermapbox\":[{\"marker\":{\"colorbar\":{\"outlinewidth\":0,\"ticks\":\"\"}},\"type\":\"scattermapbox\"}],\"scatterpolar\":[{\"marker\":{\"colorbar\":{\"outlinewidth\":0,\"ticks\":\"\"}},\"type\":\"scatterpolar\"}],\"scatterpolargl\":[{\"marker\":{\"colorbar\":{\"outlinewidth\":0,\"ticks\":\"\"}},\"type\":\"scatterpolargl\"}],\"scatterternary\":[{\"marker\":{\"colorbar\":{\"outlinewidth\":0,\"ticks\":\"\"}},\"type\":\"scatterternary\"}],\"surface\":[{\"colorbar\":{\"outlinewidth\":0,\"ticks\":\"\"},\"colorscale\":[[0.0,\"#0d0887\"],[0.1111111111111111,\"#46039f\"],[0.2222222222222222,\"#7201a8\"],[0.3333333333333333,\"#9c179e\"],[0.4444444444444444,\"#bd3786\"],[0.5555555555555556,\"#d8576b\"],[0.6666666666666666,\"#ed7953\"],[0.7777777777777778,\"#fb9f3a\"],[0.8888888888888888,\"#fdca26\"],[1.0,\"#f0f921\"]],\"type\":\"surface\"}],\"table\":[{\"cells\":{\"fill\":{\"color\":\"#EBF0F8\"},\"line\":{\"color\":\"white\"}},\"header\":{\"fill\":{\"color\":\"#C8D4E3\"},\"line\":{\"color\":\"white\"}},\"type\":\"table\"}]},\"layout\":{\"annotationdefaults\":{\"arrowcolor\":\"#2a3f5f\",\"arrowhead\":0,\"arrowwidth\":1},\"autotypenumbers\":\"strict\",\"coloraxis\":{\"colorbar\":{\"outlinewidth\":0,\"ticks\":\"\"}},\"colorscale\":{\"diverging\":[[0,\"#8e0152\"],[0.1,\"#c51b7d\"],[0.2,\"#de77ae\"],[0.3,\"#f1b6da\"],[0.4,\"#fde0ef\"],[0.5,\"#f7f7f7\"],[0.6,\"#e6f5d0\"],[0.7,\"#b8e186\"],[0.8,\"#7fbc41\"],[0.9,\"#4d9221\"],[1,\"#276419\"]],\"sequential\":[[0.0,\"#0d0887\"],[0.1111111111111111,\"#46039f\"],[0.2222222222222222,\"#7201a8\"],[0.3333333333333333,\"#9c179e\"],[0.4444444444444444,\"#bd3786\"],[0.5555555555555556,\"#d8576b\"],[0.6666666666666666,\"#ed7953\"],[0.7777777777777778,\"#fb9f3a\"],[0.8888888888888888,\"#fdca26\"],[1.0,\"#f0f921\"]],\"sequentialminus\":[[0.0,\"#0d0887\"],[0.1111111111111111,\"#46039f\"],[0.2222222222222222,\"#7201a8\"],[0.3333333333333333,\"#9c179e\"],[0.4444444444444444,\"#bd3786\"],[0.5555555555555556,\"#d8576b\"],[0.6666666666666666,\"#ed7953\"],[0.7777777777777778,\"#fb9f3a\"],[0.8888888888888888,\"#fdca26\"],[1.0,\"#f0f921\"]]},\"colorway\":[\"#636efa\",\"#EF553B\",\"#00cc96\",\"#ab63fa\",\"#FFA15A\",\"#19d3f3\",\"#FF6692\",\"#B6E880\",\"#FF97FF\",\"#FECB52\"],\"font\":{\"color\":\"#2a3f5f\"},\"geo\":{\"bgcolor\":\"white\",\"lakecolor\":\"white\",\"landcolor\":\"#E5ECF6\",\"showlakes\":true,\"showland\":true,\"subunitcolor\":\"white\"},\"hoverlabel\":{\"align\":\"left\"},\"hovermode\":\"closest\",\"mapbox\":{\"style\":\"light\"},\"paper_bgcolor\":\"white\",\"plot_bgcolor\":\"#E5ECF6\",\"polar\":{\"angularaxis\":{\"gridcolor\":\"white\",\"linecolor\":\"white\",\"ticks\":\"\"},\"bgcolor\":\"#E5ECF6\",\"radialaxis\":{\"gridcolor\":\"white\",\"linecolor\":\"white\",\"ticks\":\"\"}},\"scene\":{\"xaxis\":{\"backgroundcolor\":\"#E5ECF6\",\"gridcolor\":\"white\",\"gridwidth\":2,\"linecolor\":\"white\",\"showbackground\":true,\"ticks\":\"\",\"zerolinecolor\":\"white\"},\"yaxis\":{\"backgroundcolor\":\"#E5ECF6\",\"gridcolor\":\"white\",\"gridwidth\":2,\"linecolor\":\"white\",\"showbackground\":true,\"ticks\":\"\",\"zerolinecolor\":\"white\"},\"zaxis\":{\"backgroundcolor\":\"#E5ECF6\",\"gridcolor\":\"white\",\"gridwidth\":2,\"linecolor\":\"white\",\"showbackground\":true,\"ticks\":\"\",\"zerolinecolor\":\"white\"}},\"shapedefaults\":{\"line\":{\"color\":\"#2a3f5f\"}},\"ternary\":{\"aaxis\":{\"gridcolor\":\"white\",\"linecolor\":\"white\",\"ticks\":\"\"},\"baxis\":{\"gridcolor\":\"white\",\"linecolor\":\"white\",\"ticks\":\"\"},\"bgcolor\":\"#E5ECF6\",\"caxis\":{\"gridcolor\":\"white\",\"linecolor\":\"white\",\"ticks\":\"\"}},\"title\":{\"x\":0.05},\"xaxis\":{\"automargin\":true,\"gridcolor\":\"white\",\"linecolor\":\"white\",\"ticks\":\"\",\"title\":{\"standoff\":15},\"zerolinecolor\":\"white\",\"zerolinewidth\":2},\"yaxis\":{\"automargin\":true,\"gridcolor\":\"white\",\"linecolor\":\"white\",\"ticks\":\"\",\"title\":{\"standoff\":15},\"zerolinecolor\":\"white\",\"zerolinewidth\":2}}},\"xaxis\":{\"anchor\":\"y\",\"domain\":[0.0,0.94],\"tickangle\":-90},\"yaxis\":{\"anchor\":\"x\",\"domain\":[0.0,1.0]},\"yaxis2\":{\"anchor\":\"x\",\"overlaying\":\"y\",\"side\":\"right\"},\"height\":600,\"width\":800,\"title\":{\"text\":\"SVR Comparision On Testing Data \"}},                        {\"responsive\": true}                    ).then(function(){\n",
       "                            \n",
       "var gd = document.getElementById('cbc67ac2-68ae-4200-b69c-3f2a4681269d');\n",
       "var x = new MutationObserver(function (mutations, observer) {{\n",
       "        var display = window.getComputedStyle(gd).display;\n",
       "        if (!display || display === 'none') {{\n",
       "            console.log([gd, 'removed!']);\n",
       "            Plotly.purge(gd);\n",
       "            observer.disconnect();\n",
       "        }}\n",
       "}});\n",
       "\n",
       "// Listen for the removal of the full notebook cells\n",
       "var notebookContainer = gd.closest('#notebook-container');\n",
       "if (notebookContainer) {{\n",
       "    x.observe(notebookContainer, {childList: true});\n",
       "}}\n",
       "\n",
       "// Listen for the clearing of the current output cell\n",
       "var outputEl = gd.closest('.output');\n",
       "if (outputEl) {{\n",
       "    x.observe(outputEl, {childList: true});\n",
       "}}\n",
       "\n",
       "                        })                };                });            </script>        </div>"
      ]
     },
     "metadata": {},
     "output_type": "display_data"
    }
   ],
   "source": [
    "import plotly.graph_objects as go\n",
    "from plotly.subplots import make_subplots\n",
    "\n",
    "trace1 = go.Scatter(\n",
    "   \n",
    "    y=df_y.iloc[:,-1],\n",
    "    name=\"Actual\",\n",
    "    marker=dict(\n",
    "        color='rgb(34,163,192)'\n",
    "               )\n",
    ")\n",
    "trace2 = go.Scatter(\n",
    "    y=df_y.iloc[:,0],\n",
    "    \n",
    "    name='Predicted',\n",
    "    yaxis='y2'\n",
    "\n",
    ")\n",
    "fig = make_subplots(specs=[[{\"secondary_y\": True}]])\n",
    "fig.add_trace(trace1)\n",
    "fig.add_trace(trace2,secondary_y=True)\n",
    "fig['layout'].update(height = 600, width = 800, title = \"SVR Comparision On Testing Data \",xaxis=dict(\n",
    "      tickangle=-90\n",
    "    ))\n",
    "fig.show()"
   ]
  },
  {
   "cell_type": "markdown",
   "id": "26b148b7",
   "metadata": {},
   "source": [
    "### Step 5 : Checking accuracy using built-in functions"
   ]
  },
  {
   "cell_type": "code",
   "execution_count": 45,
   "id": "d87c66c4",
   "metadata": {},
   "outputs": [
    {
     "data": {
      "text/plain": [
       "0.6934415751380505"
      ]
     },
     "execution_count": 45,
     "metadata": {},
     "output_type": "execute_result"
    }
   ],
   "source": [
    "from sklearn.metrics import r2_score\n",
    "r2_score(svr_y_test,svr_y_pred)"
   ]
  },
  {
   "cell_type": "code",
   "execution_count": 46,
   "id": "5176af2e",
   "metadata": {
    "scrolled": true
   },
   "outputs": [
    {
     "data": {
      "text/plain": [
       "0.6938274207748725"
      ]
     },
     "execution_count": 46,
     "metadata": {},
     "output_type": "execute_result"
    }
   ],
   "source": [
    "from sklearn.metrics import explained_variance_score\n",
    "explained_variance_score(svr_y_test, svr_y_pred)"
   ]
  },
  {
   "cell_type": "code",
   "execution_count": 47,
   "id": "8863f7e0",
   "metadata": {},
   "outputs": [
    {
     "data": {
      "text/plain": [
       "0.15249795838514013"
      ]
     },
     "execution_count": 47,
     "metadata": {},
     "output_type": "execute_result"
    }
   ],
   "source": [
    "from sklearn.metrics import mean_absolute_percentage_error\n",
    "mean_absolute_percentage_error(svr_y_test,svr_y_pred)"
   ]
  },
  {
   "cell_type": "markdown",
   "id": "eb568a31",
   "metadata": {},
   "source": [
    "## Using Different Model For Comparision"
   ]
  },
  {
   "cell_type": "markdown",
   "id": "9aa8da0f",
   "metadata": {},
   "source": [
    "### 1.) XGBOOST Model"
   ]
  },
  {
   "cell_type": "code",
   "execution_count": 48,
   "id": "d1c8ed92",
   "metadata": {},
   "outputs": [
    {
     "name": "stderr",
     "output_type": "stream",
     "text": [
      "<ipython-input-48-b3af51a578ec>:2: FutureWarning:\n",
      "\n",
      "Using a non-tuple sequence for multidimensional indexing is deprecated; use `arr[tuple(seq)]` instead of `arr[seq]`. In the future this will be interpreted as an array index, `arr[np.array(seq)]`, which will result either in an error or a different result.\n",
      "\n"
     ]
    }
   ],
   "source": [
    "xg_X = np.concatenate((aqi_15.reshape(365,1),\n",
    "                     aqi_16[[range(0,365)]].reshape(365,1),\n",
    "                     aqi_17.reshape(365,1),\n",
    "                     aqi_18.reshape(365,1),\n",
    "                     aqi_19.reshape(365,1)),axis=1)\n",
    "xg_Y = aqi_19.reshape(365,1);"
   ]
  },
  {
   "cell_type": "code",
   "execution_count": 49,
   "id": "f45fae23",
   "metadata": {},
   "outputs": [
    {
     "data": {
      "text/plain": [
       "(365, 5)"
      ]
     },
     "execution_count": 49,
     "metadata": {},
     "output_type": "execute_result"
    }
   ],
   "source": [
    "xg_X.shape"
   ]
  },
  {
   "cell_type": "code",
   "execution_count": 50,
   "id": "3de45b99",
   "metadata": {},
   "outputs": [
    {
     "data": {
      "text/plain": [
       "array([37.05, 38.44, 28.73, 39.46, 37.17])"
      ]
     },
     "execution_count": 50,
     "metadata": {},
     "output_type": "execute_result"
    }
   ],
   "source": [
    "xg_X[205,:]"
   ]
  },
  {
   "cell_type": "code",
   "execution_count": 51,
   "id": "9a7e3b06",
   "metadata": {},
   "outputs": [],
   "source": [
    "from sklearn.impute import SimpleImputer;\n",
    "ds_imputer=SimpleImputer(missing_values=np.nan,strategy='mean');\n",
    "ds_imputer.fit(xg_X);\n",
    "xg_X=ds_imputer.transform(xg_X);\n",
    "ds_imputer.fit(xg_Y);\n",
    "xg_Y=ds_imputer.transform(xg_Y);"
   ]
  },
  {
   "cell_type": "code",
   "execution_count": 52,
   "id": "15c82370",
   "metadata": {},
   "outputs": [],
   "source": [
    "xg_x_train,xg_x_test,xg_y_train,xg_y_test=train_test_split(xg_X,xg_Y,test_size=0.2,random_state=1);"
   ]
  },
  {
   "cell_type": "code",
   "execution_count": 53,
   "id": "27d004e7",
   "metadata": {},
   "outputs": [],
   "source": [
    "from xgboost import XGBRegressor;\n",
    "xg_regressor=XGBRegressor();\n",
    "xg_regressor.fit(svr_x_train, svr_y_train);#training ke liye 5 days ka data upr svr wale se"
   ]
  },
  {
   "cell_type": "code",
   "execution_count": 54,
   "id": "99f80a56",
   "metadata": {},
   "outputs": [],
   "source": [
    "xg_pred=xg_regressor.predict(xg_X )#ismai jo data dalna hai vo 5 saal wala dalna hai\n",
    "#orr ye 2020 ki values hai"
   ]
  },
  {
   "cell_type": "code",
   "execution_count": 55,
   "id": "88bc0552",
   "metadata": {},
   "outputs": [
    {
     "data": {
      "text/plain": [
       "array([[38.01, 38.61, 44.85, 44.57, 45.99],\n",
       "       [41.49, 57.73, 77.11, 86.87, 50.54],\n",
       "       [28.42, 33.83, 39.17, 46.24, 47.95],\n",
       "       ...,\n",
       "       [66.51, 63.25, 63.15, 51.07, 43.08],\n",
       "       [38.16, 36.07, 31.88, 25.74, 32.56],\n",
       "       [77.11, 86.87, 50.54, 48.27, 46.26]])"
      ]
     },
     "execution_count": 55,
     "metadata": {},
     "output_type": "execute_result"
    }
   ],
   "source": [
    "svr_x_train"
   ]
  },
  {
   "cell_type": "code",
   "execution_count": 56,
   "id": "89e09165",
   "metadata": {},
   "outputs": [
    {
     "name": "stdout",
     "output_type": "stream",
     "text": [
      "(73, 5)\n"
     ]
    }
   ],
   "source": [
    "print(xg_x_test.shape)"
   ]
  },
  {
   "cell_type": "markdown",
   "id": "d1358b0a",
   "metadata": {},
   "source": [
    "### Error in XgBoost Model"
   ]
  },
  {
   "cell_type": "code",
   "execution_count": 57,
   "id": "895fa7cb",
   "metadata": {},
   "outputs": [],
   "source": [
    "xg_real_pred = xg_regressor.predict(svr_x_test)"
   ]
  },
  {
   "cell_type": "code",
   "execution_count": 58,
   "id": "0097f86d",
   "metadata": {},
   "outputs": [
    {
     "data": {
      "text/plain": [
       "0.16794992941612572"
      ]
     },
     "execution_count": 58,
     "metadata": {},
     "output_type": "execute_result"
    }
   ],
   "source": [
    "from sklearn.metrics import mean_absolute_percentage_error\n",
    "mean_absolute_percentage_error(xg_real_pred,svr_y_test)"
   ]
  },
  {
   "cell_type": "code",
   "execution_count": 59,
   "id": "910ba7b4",
   "metadata": {},
   "outputs": [
    {
     "data": {
      "text/plain": [
       "(365,)"
      ]
     },
     "execution_count": 59,
     "metadata": {},
     "output_type": "execute_result"
    }
   ],
   "source": [
    "xg_pred.shape"
   ]
  },
  {
   "cell_type": "code",
   "execution_count": 60,
   "id": "fa5dae82",
   "metadata": {},
   "outputs": [
    {
     "data": {
      "text/plain": [
       "0.5274427773056203"
      ]
     },
     "execution_count": 60,
     "metadata": {},
     "output_type": "execute_result"
    }
   ],
   "source": [
    "from sklearn.metrics import r2_score\n",
    "r2_score(xg_real_pred, svr_y_test)"
   ]
  },
  {
   "cell_type": "markdown",
   "id": "651f35c7",
   "metadata": {},
   "source": [
    "### Visualization in XgBoost "
   ]
  },
  {
   "cell_type": "code",
   "execution_count": 61,
   "id": "34741c7b",
   "metadata": {},
   "outputs": [],
   "source": [
    "df_xg =pd.DataFrame(np.concatenate((xg_pred[range(0,183)].reshape(183,1),\n",
    "                                    aqi_20.reshape(183,1)),\n",
    "                                   axis = 1 ),\n",
    "                                columns = [\"Predicted\",\"Actual\"])"
   ]
  },
  {
   "cell_type": "code",
   "execution_count": 62,
   "id": "0bf399bc",
   "metadata": {},
   "outputs": [
    {
     "data": {
      "text/html": [
       "<div>\n",
       "<style scoped>\n",
       "    .dataframe tbody tr th:only-of-type {\n",
       "        vertical-align: middle;\n",
       "    }\n",
       "\n",
       "    .dataframe tbody tr th {\n",
       "        vertical-align: top;\n",
       "    }\n",
       "\n",
       "    .dataframe thead th {\n",
       "        text-align: right;\n",
       "    }\n",
       "</style>\n",
       "<table border=\"1\" class=\"dataframe\">\n",
       "  <thead>\n",
       "    <tr style=\"text-align: right;\">\n",
       "      <th></th>\n",
       "      <th>Predicted</th>\n",
       "      <th>Actual</th>\n",
       "    </tr>\n",
       "  </thead>\n",
       "  <tbody>\n",
       "    <tr>\n",
       "      <th>0</th>\n",
       "      <td>46.113007</td>\n",
       "      <td>56.85</td>\n",
       "    </tr>\n",
       "    <tr>\n",
       "      <th>1</th>\n",
       "      <td>58.813351</td>\n",
       "      <td>58.26</td>\n",
       "    </tr>\n",
       "    <tr>\n",
       "      <th>2</th>\n",
       "      <td>56.823601</td>\n",
       "      <td>53.02</td>\n",
       "    </tr>\n",
       "    <tr>\n",
       "      <th>3</th>\n",
       "      <td>63.402969</td>\n",
       "      <td>53.46</td>\n",
       "    </tr>\n",
       "    <tr>\n",
       "      <th>4</th>\n",
       "      <td>63.394272</td>\n",
       "      <td>47.94</td>\n",
       "    </tr>\n",
       "    <tr>\n",
       "      <th>...</th>\n",
       "      <td>...</td>\n",
       "      <td>...</td>\n",
       "    </tr>\n",
       "    <tr>\n",
       "      <th>178</th>\n",
       "      <td>30.979170</td>\n",
       "      <td>31.43</td>\n",
       "    </tr>\n",
       "    <tr>\n",
       "      <th>179</th>\n",
       "      <td>28.365988</td>\n",
       "      <td>29.27</td>\n",
       "    </tr>\n",
       "    <tr>\n",
       "      <th>180</th>\n",
       "      <td>25.427597</td>\n",
       "      <td>27.97</td>\n",
       "    </tr>\n",
       "    <tr>\n",
       "      <th>181</th>\n",
       "      <td>24.125937</td>\n",
       "      <td>28.48</td>\n",
       "    </tr>\n",
       "    <tr>\n",
       "      <th>182</th>\n",
       "      <td>31.146536</td>\n",
       "      <td>29.06</td>\n",
       "    </tr>\n",
       "  </tbody>\n",
       "</table>\n",
       "<p>183 rows × 2 columns</p>\n",
       "</div>"
      ],
      "text/plain": [
       "     Predicted  Actual\n",
       "0    46.113007   56.85\n",
       "1    58.813351   58.26\n",
       "2    56.823601   53.02\n",
       "3    63.402969   53.46\n",
       "4    63.394272   47.94\n",
       "..         ...     ...\n",
       "178  30.979170   31.43\n",
       "179  28.365988   29.27\n",
       "180  25.427597   27.97\n",
       "181  24.125937   28.48\n",
       "182  31.146536   29.06\n",
       "\n",
       "[183 rows x 2 columns]"
      ]
     },
     "execution_count": 62,
     "metadata": {},
     "output_type": "execute_result"
    }
   ],
   "source": [
    "df_xg"
   ]
  },
  {
   "cell_type": "code",
   "execution_count": 63,
   "id": "f3836041",
   "metadata": {},
   "outputs": [
    {
     "data": {
      "application/vnd.plotly.v1+json": {
       "config": {
        "plotlyServerURL": "https://plot.ly"
       },
       "data": [
        {
         "marker": {
          "color": "rgb(34,163,192)"
         },
         "name": "Actual",
         "type": "scatter",
         "y": [
          56.85,
          58.26,
          53.02,
          53.46,
          47.94,
          47.01,
          43.53,
          44.73,
          36.87,
          37.73,
          40.97,
          48.65,
          53.64,
          46.34,
          41.76,
          43.54,
          40.15,
          39.56,
          38.38,
          39.27,
          48.02,
          45.17,
          36.32,
          34.23,
          41.37,
          48.8,
          53.66,
          42.76,
          38.01,
          36.77,
          34.03,
          35.95,
          36.46,
          37.5,
          43.09,
          40.07,
          36.16,
          38.38,
          40.72,
          40.04,
          39.99,
          39.73,
          40.92,
          36.91,
          34.06,
          32.48,
          38.77,
          42.77,
          37.01,
          44.11,
          39.61,
          35.81,
          33.46,
          38.33,
          33.19,
          39.61,
          42.7,
          43.64,
          41.44,
          34.88,
          31.4,
          39.78,
          37.02,
          37.32,
          32.27,
          29.56,
          29.01,
          31.51,
          29.29,
          30.99,
          32.88,
          35.31,
          31.36,
          34.29,
          31.09,
          31.07,
          32.31,
          32.99,
          36.15,
          34.3,
          36.61,
          32.61,
          30.31,
          31.91,
          34.43,
          33.68,
          27.4,
          25.22,
          23.98,
          23.21,
          26.5,
          26.73,
          22.22,
          21.54,
          23.06,
          25.14,
          26.41,
          25.53,
          23.41,
          23.84,
          27.71,
          28.33,
          26.99,
          27.95,
          28.76,
          28.36,
          30.36,
          26.06,
          27.18,
          29.94,
          31.57,
          29.75,
          29.39,
          30.02,
          32.62,
          28.65,
          31.61,
          29.94,
          28.6,
          28.86,
          32.99,
          36.43,
          33.93,
          32.48,
          31.35,
          30.86,
          29.53,
          25.51,
          27.98,
          30.14,
          28.71,
          28.13,
          29.43,
          32.29,
          30.82,
          27.39,
          27.62,
          28.76,
          28.97,
          30.58,
          28.73,
          25.55,
          28.56,
          28.82,
          26.54,
          27.22,
          27.06,
          25.79,
          29.02,
          32.19,
          36.19,
          34.91,
          35,
          35.78,
          36.05,
          38.85,
          35.51,
          31.81,
          30.79,
          31.81,
          33.83,
          33.27,
          36.54,
          38.64,
          36.62,
          40,
          35.38,
          32.62,
          29.4,
          28.68,
          27.96,
          26.38,
          28.84,
          34.32,
          33.32,
          31.45,
          30.48,
          32.64,
          31.43,
          29.27,
          27.97,
          28.48,
          29.06
         ]
        },
        {
         "name": "Predicted",
         "type": "scatter",
         "xaxis": "x",
         "y": [
          46.113006591796875,
          58.813350677490234,
          56.82360076904297,
          63.40296936035156,
          63.39427185058594,
          54.95058822631836,
          60.6854362487793,
          55.40679931640625,
          43.23808288574219,
          38.537841796875,
          53.76982116699219,
          67.54464721679688,
          61.74954605102539,
          36.49156951904297,
          36.27674865722656,
          59.688140869140625,
          55.14380645751953,
          42.91873550415039,
          39.54076385498047,
          55.13838195800781,
          40.23991394042969,
          34.017662048339844,
          32.384033203125,
          46.95361328125,
          37.09575271606445,
          34.40823745727539,
          37.02227020263672,
          26.531644821166992,
          25.31544303894043,
          42.77006530761719,
          62.44754409790039,
          49.31246566772461,
          45.50282287597656,
          39.741188049316406,
          36.47198486328125,
          54.0760383605957,
          65.9638671875,
          37.08674240112305,
          30.000621795654297,
          31.576276779174805,
          32.459991455078125,
          39.583248138427734,
          47.1855583190918,
          51.418643951416016,
          48.45134735107422,
          38.25175476074219,
          29.27340316772461,
          30.730358123779297,
          35.663841247558594,
          40.90342330932617,
          43.96352767944336,
          46.35157012939453,
          37.33021545410156,
          35.408199310302734,
          19.08401870727539,
          31.742124557495117,
          32.97468948364258,
          25.57169532775879,
          28.548479080200195,
          41.73088455200195,
          37.96220016479492,
          33.385711669921875,
          36.60231399536133,
          29.236743927001953,
          33.816192626953125,
          36.767459869384766,
          33.92143249511719,
          41.85719299316406,
          25.0373477935791,
          29.848445892333984,
          31.765398025512695,
          37.05029296875,
          31.343576431274414,
          32.03062057495117,
          29.969722747802734,
          33.036277770996094,
          31.789085388183594,
          37.69024658203125,
          35.968021392822266,
          36.78435516357422,
          27.70424461364746,
          31.651086807250977,
          30.945783615112305,
          37.222084045410156,
          32.31957244873047,
          30.68697166442871,
          39.668006896972656,
          43.545589447021484,
          42.03480529785156,
          39.797019958496094,
          37.35514831542969,
          35.50801467895508,
          27.9395809173584,
          34.655677795410156,
          46.64501953125,
          34.30247497558594,
          50.474273681640625,
          42.89963150024414,
          35.545494079589844,
          41.25430679321289,
          32.799774169921875,
          40.53022003173828,
          31.944965362548828,
          35.809139251708984,
          26.092891693115234,
          26.973115921020508,
          27.30773162841797,
          28.90355110168457,
          30.540159225463867,
          36.44053649902344,
          35.18523025512695,
          31.21571159362793,
          39.4001579284668,
          35.3216667175293,
          36.53480529785156,
          26.34119987487793,
          27.697031021118164,
          29.119333267211914,
          31.498870849609375,
          29.118640899658203,
          33.125423431396484,
          21.55927276611328,
          19.325292587280273,
          26.82984733581543,
          27.865673065185547,
          34.0549201965332,
          27.87095832824707,
          39.91557312011719,
          30.838773727416992,
          36.13568878173828,
          32.85149002075195,
          38.09269714355469,
          30.14608383178711,
          37.55687713623047,
          48.56957244873047,
          39.84721374511719,
          35.20301818847656,
          34.71923828125,
          34.42822265625,
          34.17386245727539,
          40.640403747558594,
          33.990238189697266,
          40.591957092285156,
          37.137760162353516,
          32.31557846069336,
          30.941478729248047,
          29.516040802001953,
          29.5803279876709,
          28.767236709594727,
          31.39335060119629,
          30.727622985839844,
          39.91577911376953,
          48.79534149169922,
          47.763404846191406,
          34.7539176940918,
          32.681427001953125,
          36.001853942871094,
          30.01900863647461,
          33.916255950927734,
          33.37845230102539,
          35.065589904785156,
          26.720928192138672,
          34.18138122558594,
          36.14289474487305,
          29.579710006713867,
          28.480112075805664,
          31.230274200439453,
          32.382545471191406,
          28.663484573364258,
          37.48427963256836,
          34.53374099731445,
          34.37326431274414,
          37.59116744995117,
          30.378856658935547,
          44.12239456176758,
          36.17387008666992,
          34.357608795166016,
          31.970258712768555,
          30.979169845581055,
          28.36598777770996,
          25.427597045898438,
          24.12593650817871,
          31.146535873413086
         ],
         "yaxis": "y2"
        }
       ],
       "layout": {
        "height": 600,
        "template": {
         "data": {
          "bar": [
           {
            "error_x": {
             "color": "#2a3f5f"
            },
            "error_y": {
             "color": "#2a3f5f"
            },
            "marker": {
             "line": {
              "color": "#E5ECF6",
              "width": 0.5
             },
             "pattern": {
              "fillmode": "overlay",
              "size": 10,
              "solidity": 0.2
             }
            },
            "type": "bar"
           }
          ],
          "barpolar": [
           {
            "marker": {
             "line": {
              "color": "#E5ECF6",
              "width": 0.5
             },
             "pattern": {
              "fillmode": "overlay",
              "size": 10,
              "solidity": 0.2
             }
            },
            "type": "barpolar"
           }
          ],
          "carpet": [
           {
            "aaxis": {
             "endlinecolor": "#2a3f5f",
             "gridcolor": "white",
             "linecolor": "white",
             "minorgridcolor": "white",
             "startlinecolor": "#2a3f5f"
            },
            "baxis": {
             "endlinecolor": "#2a3f5f",
             "gridcolor": "white",
             "linecolor": "white",
             "minorgridcolor": "white",
             "startlinecolor": "#2a3f5f"
            },
            "type": "carpet"
           }
          ],
          "choropleth": [
           {
            "colorbar": {
             "outlinewidth": 0,
             "ticks": ""
            },
            "type": "choropleth"
           }
          ],
          "contour": [
           {
            "colorbar": {
             "outlinewidth": 0,
             "ticks": ""
            },
            "colorscale": [
             [
              0,
              "#0d0887"
             ],
             [
              0.1111111111111111,
              "#46039f"
             ],
             [
              0.2222222222222222,
              "#7201a8"
             ],
             [
              0.3333333333333333,
              "#9c179e"
             ],
             [
              0.4444444444444444,
              "#bd3786"
             ],
             [
              0.5555555555555556,
              "#d8576b"
             ],
             [
              0.6666666666666666,
              "#ed7953"
             ],
             [
              0.7777777777777778,
              "#fb9f3a"
             ],
             [
              0.8888888888888888,
              "#fdca26"
             ],
             [
              1,
              "#f0f921"
             ]
            ],
            "type": "contour"
           }
          ],
          "contourcarpet": [
           {
            "colorbar": {
             "outlinewidth": 0,
             "ticks": ""
            },
            "type": "contourcarpet"
           }
          ],
          "heatmap": [
           {
            "colorbar": {
             "outlinewidth": 0,
             "ticks": ""
            },
            "colorscale": [
             [
              0,
              "#0d0887"
             ],
             [
              0.1111111111111111,
              "#46039f"
             ],
             [
              0.2222222222222222,
              "#7201a8"
             ],
             [
              0.3333333333333333,
              "#9c179e"
             ],
             [
              0.4444444444444444,
              "#bd3786"
             ],
             [
              0.5555555555555556,
              "#d8576b"
             ],
             [
              0.6666666666666666,
              "#ed7953"
             ],
             [
              0.7777777777777778,
              "#fb9f3a"
             ],
             [
              0.8888888888888888,
              "#fdca26"
             ],
             [
              1,
              "#f0f921"
             ]
            ],
            "type": "heatmap"
           }
          ],
          "heatmapgl": [
           {
            "colorbar": {
             "outlinewidth": 0,
             "ticks": ""
            },
            "colorscale": [
             [
              0,
              "#0d0887"
             ],
             [
              0.1111111111111111,
              "#46039f"
             ],
             [
              0.2222222222222222,
              "#7201a8"
             ],
             [
              0.3333333333333333,
              "#9c179e"
             ],
             [
              0.4444444444444444,
              "#bd3786"
             ],
             [
              0.5555555555555556,
              "#d8576b"
             ],
             [
              0.6666666666666666,
              "#ed7953"
             ],
             [
              0.7777777777777778,
              "#fb9f3a"
             ],
             [
              0.8888888888888888,
              "#fdca26"
             ],
             [
              1,
              "#f0f921"
             ]
            ],
            "type": "heatmapgl"
           }
          ],
          "histogram": [
           {
            "marker": {
             "pattern": {
              "fillmode": "overlay",
              "size": 10,
              "solidity": 0.2
             }
            },
            "type": "histogram"
           }
          ],
          "histogram2d": [
           {
            "colorbar": {
             "outlinewidth": 0,
             "ticks": ""
            },
            "colorscale": [
             [
              0,
              "#0d0887"
             ],
             [
              0.1111111111111111,
              "#46039f"
             ],
             [
              0.2222222222222222,
              "#7201a8"
             ],
             [
              0.3333333333333333,
              "#9c179e"
             ],
             [
              0.4444444444444444,
              "#bd3786"
             ],
             [
              0.5555555555555556,
              "#d8576b"
             ],
             [
              0.6666666666666666,
              "#ed7953"
             ],
             [
              0.7777777777777778,
              "#fb9f3a"
             ],
             [
              0.8888888888888888,
              "#fdca26"
             ],
             [
              1,
              "#f0f921"
             ]
            ],
            "type": "histogram2d"
           }
          ],
          "histogram2dcontour": [
           {
            "colorbar": {
             "outlinewidth": 0,
             "ticks": ""
            },
            "colorscale": [
             [
              0,
              "#0d0887"
             ],
             [
              0.1111111111111111,
              "#46039f"
             ],
             [
              0.2222222222222222,
              "#7201a8"
             ],
             [
              0.3333333333333333,
              "#9c179e"
             ],
             [
              0.4444444444444444,
              "#bd3786"
             ],
             [
              0.5555555555555556,
              "#d8576b"
             ],
             [
              0.6666666666666666,
              "#ed7953"
             ],
             [
              0.7777777777777778,
              "#fb9f3a"
             ],
             [
              0.8888888888888888,
              "#fdca26"
             ],
             [
              1,
              "#f0f921"
             ]
            ],
            "type": "histogram2dcontour"
           }
          ],
          "mesh3d": [
           {
            "colorbar": {
             "outlinewidth": 0,
             "ticks": ""
            },
            "type": "mesh3d"
           }
          ],
          "parcoords": [
           {
            "line": {
             "colorbar": {
              "outlinewidth": 0,
              "ticks": ""
             }
            },
            "type": "parcoords"
           }
          ],
          "pie": [
           {
            "automargin": true,
            "type": "pie"
           }
          ],
          "scatter": [
           {
            "marker": {
             "colorbar": {
              "outlinewidth": 0,
              "ticks": ""
             }
            },
            "type": "scatter"
           }
          ],
          "scatter3d": [
           {
            "line": {
             "colorbar": {
              "outlinewidth": 0,
              "ticks": ""
             }
            },
            "marker": {
             "colorbar": {
              "outlinewidth": 0,
              "ticks": ""
             }
            },
            "type": "scatter3d"
           }
          ],
          "scattercarpet": [
           {
            "marker": {
             "colorbar": {
              "outlinewidth": 0,
              "ticks": ""
             }
            },
            "type": "scattercarpet"
           }
          ],
          "scattergeo": [
           {
            "marker": {
             "colorbar": {
              "outlinewidth": 0,
              "ticks": ""
             }
            },
            "type": "scattergeo"
           }
          ],
          "scattergl": [
           {
            "marker": {
             "colorbar": {
              "outlinewidth": 0,
              "ticks": ""
             }
            },
            "type": "scattergl"
           }
          ],
          "scattermapbox": [
           {
            "marker": {
             "colorbar": {
              "outlinewidth": 0,
              "ticks": ""
             }
            },
            "type": "scattermapbox"
           }
          ],
          "scatterpolar": [
           {
            "marker": {
             "colorbar": {
              "outlinewidth": 0,
              "ticks": ""
             }
            },
            "type": "scatterpolar"
           }
          ],
          "scatterpolargl": [
           {
            "marker": {
             "colorbar": {
              "outlinewidth": 0,
              "ticks": ""
             }
            },
            "type": "scatterpolargl"
           }
          ],
          "scatterternary": [
           {
            "marker": {
             "colorbar": {
              "outlinewidth": 0,
              "ticks": ""
             }
            },
            "type": "scatterternary"
           }
          ],
          "surface": [
           {
            "colorbar": {
             "outlinewidth": 0,
             "ticks": ""
            },
            "colorscale": [
             [
              0,
              "#0d0887"
             ],
             [
              0.1111111111111111,
              "#46039f"
             ],
             [
              0.2222222222222222,
              "#7201a8"
             ],
             [
              0.3333333333333333,
              "#9c179e"
             ],
             [
              0.4444444444444444,
              "#bd3786"
             ],
             [
              0.5555555555555556,
              "#d8576b"
             ],
             [
              0.6666666666666666,
              "#ed7953"
             ],
             [
              0.7777777777777778,
              "#fb9f3a"
             ],
             [
              0.8888888888888888,
              "#fdca26"
             ],
             [
              1,
              "#f0f921"
             ]
            ],
            "type": "surface"
           }
          ],
          "table": [
           {
            "cells": {
             "fill": {
              "color": "#EBF0F8"
             },
             "line": {
              "color": "white"
             }
            },
            "header": {
             "fill": {
              "color": "#C8D4E3"
             },
             "line": {
              "color": "white"
             }
            },
            "type": "table"
           }
          ]
         },
         "layout": {
          "annotationdefaults": {
           "arrowcolor": "#2a3f5f",
           "arrowhead": 0,
           "arrowwidth": 1
          },
          "autotypenumbers": "strict",
          "coloraxis": {
           "colorbar": {
            "outlinewidth": 0,
            "ticks": ""
           }
          },
          "colorscale": {
           "diverging": [
            [
             0,
             "#8e0152"
            ],
            [
             0.1,
             "#c51b7d"
            ],
            [
             0.2,
             "#de77ae"
            ],
            [
             0.3,
             "#f1b6da"
            ],
            [
             0.4,
             "#fde0ef"
            ],
            [
             0.5,
             "#f7f7f7"
            ],
            [
             0.6,
             "#e6f5d0"
            ],
            [
             0.7,
             "#b8e186"
            ],
            [
             0.8,
             "#7fbc41"
            ],
            [
             0.9,
             "#4d9221"
            ],
            [
             1,
             "#276419"
            ]
           ],
           "sequential": [
            [
             0,
             "#0d0887"
            ],
            [
             0.1111111111111111,
             "#46039f"
            ],
            [
             0.2222222222222222,
             "#7201a8"
            ],
            [
             0.3333333333333333,
             "#9c179e"
            ],
            [
             0.4444444444444444,
             "#bd3786"
            ],
            [
             0.5555555555555556,
             "#d8576b"
            ],
            [
             0.6666666666666666,
             "#ed7953"
            ],
            [
             0.7777777777777778,
             "#fb9f3a"
            ],
            [
             0.8888888888888888,
             "#fdca26"
            ],
            [
             1,
             "#f0f921"
            ]
           ],
           "sequentialminus": [
            [
             0,
             "#0d0887"
            ],
            [
             0.1111111111111111,
             "#46039f"
            ],
            [
             0.2222222222222222,
             "#7201a8"
            ],
            [
             0.3333333333333333,
             "#9c179e"
            ],
            [
             0.4444444444444444,
             "#bd3786"
            ],
            [
             0.5555555555555556,
             "#d8576b"
            ],
            [
             0.6666666666666666,
             "#ed7953"
            ],
            [
             0.7777777777777778,
             "#fb9f3a"
            ],
            [
             0.8888888888888888,
             "#fdca26"
            ],
            [
             1,
             "#f0f921"
            ]
           ]
          },
          "colorway": [
           "#636efa",
           "#EF553B",
           "#00cc96",
           "#ab63fa",
           "#FFA15A",
           "#19d3f3",
           "#FF6692",
           "#B6E880",
           "#FF97FF",
           "#FECB52"
          ],
          "font": {
           "color": "#2a3f5f"
          },
          "geo": {
           "bgcolor": "white",
           "lakecolor": "white",
           "landcolor": "#E5ECF6",
           "showlakes": true,
           "showland": true,
           "subunitcolor": "white"
          },
          "hoverlabel": {
           "align": "left"
          },
          "hovermode": "closest",
          "mapbox": {
           "style": "light"
          },
          "paper_bgcolor": "white",
          "plot_bgcolor": "#E5ECF6",
          "polar": {
           "angularaxis": {
            "gridcolor": "white",
            "linecolor": "white",
            "ticks": ""
           },
           "bgcolor": "#E5ECF6",
           "radialaxis": {
            "gridcolor": "white",
            "linecolor": "white",
            "ticks": ""
           }
          },
          "scene": {
           "xaxis": {
            "backgroundcolor": "#E5ECF6",
            "gridcolor": "white",
            "gridwidth": 2,
            "linecolor": "white",
            "showbackground": true,
            "ticks": "",
            "zerolinecolor": "white"
           },
           "yaxis": {
            "backgroundcolor": "#E5ECF6",
            "gridcolor": "white",
            "gridwidth": 2,
            "linecolor": "white",
            "showbackground": true,
            "ticks": "",
            "zerolinecolor": "white"
           },
           "zaxis": {
            "backgroundcolor": "#E5ECF6",
            "gridcolor": "white",
            "gridwidth": 2,
            "linecolor": "white",
            "showbackground": true,
            "ticks": "",
            "zerolinecolor": "white"
           }
          },
          "shapedefaults": {
           "line": {
            "color": "#2a3f5f"
           }
          },
          "ternary": {
           "aaxis": {
            "gridcolor": "white",
            "linecolor": "white",
            "ticks": ""
           },
           "baxis": {
            "gridcolor": "white",
            "linecolor": "white",
            "ticks": ""
           },
           "bgcolor": "#E5ECF6",
           "caxis": {
            "gridcolor": "white",
            "linecolor": "white",
            "ticks": ""
           }
          },
          "title": {
           "x": 0.05
          },
          "xaxis": {
           "automargin": true,
           "gridcolor": "white",
           "linecolor": "white",
           "ticks": "",
           "title": {
            "standoff": 15
           },
           "zerolinecolor": "white",
           "zerolinewidth": 2
          },
          "yaxis": {
           "automargin": true,
           "gridcolor": "white",
           "linecolor": "white",
           "ticks": "",
           "title": {
            "standoff": 15
           },
           "zerolinecolor": "white",
           "zerolinewidth": 2
          }
         }
        },
        "title": {
         "text": "2020 NH3 Prediction Using XgBoost"
        },
        "width": 800,
        "xaxis": {
         "anchor": "y",
         "domain": [
          0,
          0.94
         ],
         "tickangle": -90
        },
        "yaxis": {
         "anchor": "x",
         "domain": [
          0,
          1
         ]
        },
        "yaxis2": {
         "anchor": "x",
         "overlaying": "y",
         "side": "right"
        }
       }
      },
      "text/html": [
       "<div>                            <div id=\"b8556f8d-bac7-4ef4-94c1-db35540fa03f\" class=\"plotly-graph-div\" style=\"height:600px; width:800px;\"></div>            <script type=\"text/javascript\">                require([\"plotly\"], function(Plotly) {                    window.PLOTLYENV=window.PLOTLYENV || {};                                    if (document.getElementById(\"b8556f8d-bac7-4ef4-94c1-db35540fa03f\")) {                    Plotly.newPlot(                        \"b8556f8d-bac7-4ef4-94c1-db35540fa03f\",                        [{\"marker\":{\"color\":\"rgb(34,163,192)\"},\"name\":\"Actual\",\"y\":[56.85,58.26,53.02,53.46,47.94,47.01,43.53,44.73,36.87,37.73,40.97,48.65,53.64,46.34,41.76,43.54,40.15,39.56,38.38,39.27,48.02,45.17,36.32,34.23,41.37,48.8,53.66,42.76,38.01,36.77,34.03,35.95,36.46,37.5,43.09,40.07,36.16,38.38,40.72,40.04,39.99,39.73,40.92,36.91,34.06,32.48,38.77,42.77,37.01,44.11,39.61,35.81,33.46,38.33,33.19,39.61,42.7,43.64,41.44,34.88,31.4,39.78,37.02,37.32,32.27,29.56,29.01,31.51,29.29,30.99,32.88,35.31,31.36,34.29,31.09,31.07,32.31,32.99,36.15,34.3,36.61,32.61,30.31,31.91,34.43,33.68,27.4,25.22,23.98,23.21,26.5,26.73,22.22,21.54,23.06,25.14,26.41,25.53,23.41,23.84,27.71,28.33,26.99,27.95,28.76,28.36,30.36,26.06,27.18,29.94,31.57,29.75,29.39,30.02,32.62,28.65,31.61,29.94,28.6,28.86,32.99,36.43,33.93,32.48,31.35,30.86,29.53,25.51,27.98,30.14,28.71,28.13,29.43,32.29,30.82,27.39,27.62,28.76,28.97,30.58,28.73,25.55,28.56,28.82,26.54,27.22,27.06,25.79,29.02,32.19,36.19,34.91,35.0,35.78,36.05,38.85,35.51,31.81,30.79,31.81,33.83,33.27,36.54,38.64,36.62,40.0,35.38,32.62,29.4,28.68,27.96,26.38,28.84,34.32,33.32,31.45,30.48,32.64,31.43,29.27,27.97,28.48,29.06],\"type\":\"scatter\"},{\"name\":\"Predicted\",\"y\":[46.113006591796875,58.813350677490234,56.82360076904297,63.40296936035156,63.39427185058594,54.95058822631836,60.6854362487793,55.40679931640625,43.23808288574219,38.537841796875,53.76982116699219,67.54464721679688,61.74954605102539,36.49156951904297,36.27674865722656,59.688140869140625,55.14380645751953,42.91873550415039,39.54076385498047,55.13838195800781,40.23991394042969,34.017662048339844,32.384033203125,46.95361328125,37.09575271606445,34.40823745727539,37.02227020263672,26.531644821166992,25.31544303894043,42.77006530761719,62.44754409790039,49.31246566772461,45.50282287597656,39.741188049316406,36.47198486328125,54.0760383605957,65.9638671875,37.08674240112305,30.000621795654297,31.576276779174805,32.459991455078125,39.583248138427734,47.1855583190918,51.418643951416016,48.45134735107422,38.25175476074219,29.27340316772461,30.730358123779297,35.663841247558594,40.90342330932617,43.96352767944336,46.35157012939453,37.33021545410156,35.408199310302734,19.08401870727539,31.742124557495117,32.97468948364258,25.57169532775879,28.548479080200195,41.73088455200195,37.96220016479492,33.385711669921875,36.60231399536133,29.236743927001953,33.816192626953125,36.767459869384766,33.92143249511719,41.85719299316406,25.0373477935791,29.848445892333984,31.765398025512695,37.05029296875,31.343576431274414,32.03062057495117,29.969722747802734,33.036277770996094,31.789085388183594,37.69024658203125,35.968021392822266,36.78435516357422,27.70424461364746,31.651086807250977,30.945783615112305,37.222084045410156,32.31957244873047,30.68697166442871,39.668006896972656,43.545589447021484,42.03480529785156,39.797019958496094,37.35514831542969,35.50801467895508,27.9395809173584,34.655677795410156,46.64501953125,34.30247497558594,50.474273681640625,42.89963150024414,35.545494079589844,41.25430679321289,32.799774169921875,40.53022003173828,31.944965362548828,35.809139251708984,26.092891693115234,26.973115921020508,27.30773162841797,28.90355110168457,30.540159225463867,36.44053649902344,35.18523025512695,31.21571159362793,39.4001579284668,35.3216667175293,36.53480529785156,26.34119987487793,27.697031021118164,29.119333267211914,31.498870849609375,29.118640899658203,33.125423431396484,21.55927276611328,19.325292587280273,26.82984733581543,27.865673065185547,34.0549201965332,27.87095832824707,39.91557312011719,30.838773727416992,36.13568878173828,32.85149002075195,38.09269714355469,30.14608383178711,37.55687713623047,48.56957244873047,39.84721374511719,35.20301818847656,34.71923828125,34.42822265625,34.17386245727539,40.640403747558594,33.990238189697266,40.591957092285156,37.137760162353516,32.31557846069336,30.941478729248047,29.516040802001953,29.5803279876709,28.767236709594727,31.39335060119629,30.727622985839844,39.91577911376953,48.79534149169922,47.763404846191406,34.7539176940918,32.681427001953125,36.001853942871094,30.01900863647461,33.916255950927734,33.37845230102539,35.065589904785156,26.720928192138672,34.18138122558594,36.14289474487305,29.579710006713867,28.480112075805664,31.230274200439453,32.382545471191406,28.663484573364258,37.48427963256836,34.53374099731445,34.37326431274414,37.59116744995117,30.378856658935547,44.12239456176758,36.17387008666992,34.357608795166016,31.970258712768555,30.979169845581055,28.36598777770996,25.427597045898438,24.12593650817871,31.146535873413086],\"yaxis\":\"y2\",\"type\":\"scatter\",\"xaxis\":\"x\"}],                        {\"template\":{\"data\":{\"bar\":[{\"error_x\":{\"color\":\"#2a3f5f\"},\"error_y\":{\"color\":\"#2a3f5f\"},\"marker\":{\"line\":{\"color\":\"#E5ECF6\",\"width\":0.5},\"pattern\":{\"fillmode\":\"overlay\",\"size\":10,\"solidity\":0.2}},\"type\":\"bar\"}],\"barpolar\":[{\"marker\":{\"line\":{\"color\":\"#E5ECF6\",\"width\":0.5},\"pattern\":{\"fillmode\":\"overlay\",\"size\":10,\"solidity\":0.2}},\"type\":\"barpolar\"}],\"carpet\":[{\"aaxis\":{\"endlinecolor\":\"#2a3f5f\",\"gridcolor\":\"white\",\"linecolor\":\"white\",\"minorgridcolor\":\"white\",\"startlinecolor\":\"#2a3f5f\"},\"baxis\":{\"endlinecolor\":\"#2a3f5f\",\"gridcolor\":\"white\",\"linecolor\":\"white\",\"minorgridcolor\":\"white\",\"startlinecolor\":\"#2a3f5f\"},\"type\":\"carpet\"}],\"choropleth\":[{\"colorbar\":{\"outlinewidth\":0,\"ticks\":\"\"},\"type\":\"choropleth\"}],\"contour\":[{\"colorbar\":{\"outlinewidth\":0,\"ticks\":\"\"},\"colorscale\":[[0.0,\"#0d0887\"],[0.1111111111111111,\"#46039f\"],[0.2222222222222222,\"#7201a8\"],[0.3333333333333333,\"#9c179e\"],[0.4444444444444444,\"#bd3786\"],[0.5555555555555556,\"#d8576b\"],[0.6666666666666666,\"#ed7953\"],[0.7777777777777778,\"#fb9f3a\"],[0.8888888888888888,\"#fdca26\"],[1.0,\"#f0f921\"]],\"type\":\"contour\"}],\"contourcarpet\":[{\"colorbar\":{\"outlinewidth\":0,\"ticks\":\"\"},\"type\":\"contourcarpet\"}],\"heatmap\":[{\"colorbar\":{\"outlinewidth\":0,\"ticks\":\"\"},\"colorscale\":[[0.0,\"#0d0887\"],[0.1111111111111111,\"#46039f\"],[0.2222222222222222,\"#7201a8\"],[0.3333333333333333,\"#9c179e\"],[0.4444444444444444,\"#bd3786\"],[0.5555555555555556,\"#d8576b\"],[0.6666666666666666,\"#ed7953\"],[0.7777777777777778,\"#fb9f3a\"],[0.8888888888888888,\"#fdca26\"],[1.0,\"#f0f921\"]],\"type\":\"heatmap\"}],\"heatmapgl\":[{\"colorbar\":{\"outlinewidth\":0,\"ticks\":\"\"},\"colorscale\":[[0.0,\"#0d0887\"],[0.1111111111111111,\"#46039f\"],[0.2222222222222222,\"#7201a8\"],[0.3333333333333333,\"#9c179e\"],[0.4444444444444444,\"#bd3786\"],[0.5555555555555556,\"#d8576b\"],[0.6666666666666666,\"#ed7953\"],[0.7777777777777778,\"#fb9f3a\"],[0.8888888888888888,\"#fdca26\"],[1.0,\"#f0f921\"]],\"type\":\"heatmapgl\"}],\"histogram\":[{\"marker\":{\"pattern\":{\"fillmode\":\"overlay\",\"size\":10,\"solidity\":0.2}},\"type\":\"histogram\"}],\"histogram2d\":[{\"colorbar\":{\"outlinewidth\":0,\"ticks\":\"\"},\"colorscale\":[[0.0,\"#0d0887\"],[0.1111111111111111,\"#46039f\"],[0.2222222222222222,\"#7201a8\"],[0.3333333333333333,\"#9c179e\"],[0.4444444444444444,\"#bd3786\"],[0.5555555555555556,\"#d8576b\"],[0.6666666666666666,\"#ed7953\"],[0.7777777777777778,\"#fb9f3a\"],[0.8888888888888888,\"#fdca26\"],[1.0,\"#f0f921\"]],\"type\":\"histogram2d\"}],\"histogram2dcontour\":[{\"colorbar\":{\"outlinewidth\":0,\"ticks\":\"\"},\"colorscale\":[[0.0,\"#0d0887\"],[0.1111111111111111,\"#46039f\"],[0.2222222222222222,\"#7201a8\"],[0.3333333333333333,\"#9c179e\"],[0.4444444444444444,\"#bd3786\"],[0.5555555555555556,\"#d8576b\"],[0.6666666666666666,\"#ed7953\"],[0.7777777777777778,\"#fb9f3a\"],[0.8888888888888888,\"#fdca26\"],[1.0,\"#f0f921\"]],\"type\":\"histogram2dcontour\"}],\"mesh3d\":[{\"colorbar\":{\"outlinewidth\":0,\"ticks\":\"\"},\"type\":\"mesh3d\"}],\"parcoords\":[{\"line\":{\"colorbar\":{\"outlinewidth\":0,\"ticks\":\"\"}},\"type\":\"parcoords\"}],\"pie\":[{\"automargin\":true,\"type\":\"pie\"}],\"scatter\":[{\"marker\":{\"colorbar\":{\"outlinewidth\":0,\"ticks\":\"\"}},\"type\":\"scatter\"}],\"scatter3d\":[{\"line\":{\"colorbar\":{\"outlinewidth\":0,\"ticks\":\"\"}},\"marker\":{\"colorbar\":{\"outlinewidth\":0,\"ticks\":\"\"}},\"type\":\"scatter3d\"}],\"scattercarpet\":[{\"marker\":{\"colorbar\":{\"outlinewidth\":0,\"ticks\":\"\"}},\"type\":\"scattercarpet\"}],\"scattergeo\":[{\"marker\":{\"colorbar\":{\"outlinewidth\":0,\"ticks\":\"\"}},\"type\":\"scattergeo\"}],\"scattergl\":[{\"marker\":{\"colorbar\":{\"outlinewidth\":0,\"ticks\":\"\"}},\"type\":\"scattergl\"}],\"scattermapbox\":[{\"marker\":{\"colorbar\":{\"outlinewidth\":0,\"ticks\":\"\"}},\"type\":\"scattermapbox\"}],\"scatterpolar\":[{\"marker\":{\"colorbar\":{\"outlinewidth\":0,\"ticks\":\"\"}},\"type\":\"scatterpolar\"}],\"scatterpolargl\":[{\"marker\":{\"colorbar\":{\"outlinewidth\":0,\"ticks\":\"\"}},\"type\":\"scatterpolargl\"}],\"scatterternary\":[{\"marker\":{\"colorbar\":{\"outlinewidth\":0,\"ticks\":\"\"}},\"type\":\"scatterternary\"}],\"surface\":[{\"colorbar\":{\"outlinewidth\":0,\"ticks\":\"\"},\"colorscale\":[[0.0,\"#0d0887\"],[0.1111111111111111,\"#46039f\"],[0.2222222222222222,\"#7201a8\"],[0.3333333333333333,\"#9c179e\"],[0.4444444444444444,\"#bd3786\"],[0.5555555555555556,\"#d8576b\"],[0.6666666666666666,\"#ed7953\"],[0.7777777777777778,\"#fb9f3a\"],[0.8888888888888888,\"#fdca26\"],[1.0,\"#f0f921\"]],\"type\":\"surface\"}],\"table\":[{\"cells\":{\"fill\":{\"color\":\"#EBF0F8\"},\"line\":{\"color\":\"white\"}},\"header\":{\"fill\":{\"color\":\"#C8D4E3\"},\"line\":{\"color\":\"white\"}},\"type\":\"table\"}]},\"layout\":{\"annotationdefaults\":{\"arrowcolor\":\"#2a3f5f\",\"arrowhead\":0,\"arrowwidth\":1},\"autotypenumbers\":\"strict\",\"coloraxis\":{\"colorbar\":{\"outlinewidth\":0,\"ticks\":\"\"}},\"colorscale\":{\"diverging\":[[0,\"#8e0152\"],[0.1,\"#c51b7d\"],[0.2,\"#de77ae\"],[0.3,\"#f1b6da\"],[0.4,\"#fde0ef\"],[0.5,\"#f7f7f7\"],[0.6,\"#e6f5d0\"],[0.7,\"#b8e186\"],[0.8,\"#7fbc41\"],[0.9,\"#4d9221\"],[1,\"#276419\"]],\"sequential\":[[0.0,\"#0d0887\"],[0.1111111111111111,\"#46039f\"],[0.2222222222222222,\"#7201a8\"],[0.3333333333333333,\"#9c179e\"],[0.4444444444444444,\"#bd3786\"],[0.5555555555555556,\"#d8576b\"],[0.6666666666666666,\"#ed7953\"],[0.7777777777777778,\"#fb9f3a\"],[0.8888888888888888,\"#fdca26\"],[1.0,\"#f0f921\"]],\"sequentialminus\":[[0.0,\"#0d0887\"],[0.1111111111111111,\"#46039f\"],[0.2222222222222222,\"#7201a8\"],[0.3333333333333333,\"#9c179e\"],[0.4444444444444444,\"#bd3786\"],[0.5555555555555556,\"#d8576b\"],[0.6666666666666666,\"#ed7953\"],[0.7777777777777778,\"#fb9f3a\"],[0.8888888888888888,\"#fdca26\"],[1.0,\"#f0f921\"]]},\"colorway\":[\"#636efa\",\"#EF553B\",\"#00cc96\",\"#ab63fa\",\"#FFA15A\",\"#19d3f3\",\"#FF6692\",\"#B6E880\",\"#FF97FF\",\"#FECB52\"],\"font\":{\"color\":\"#2a3f5f\"},\"geo\":{\"bgcolor\":\"white\",\"lakecolor\":\"white\",\"landcolor\":\"#E5ECF6\",\"showlakes\":true,\"showland\":true,\"subunitcolor\":\"white\"},\"hoverlabel\":{\"align\":\"left\"},\"hovermode\":\"closest\",\"mapbox\":{\"style\":\"light\"},\"paper_bgcolor\":\"white\",\"plot_bgcolor\":\"#E5ECF6\",\"polar\":{\"angularaxis\":{\"gridcolor\":\"white\",\"linecolor\":\"white\",\"ticks\":\"\"},\"bgcolor\":\"#E5ECF6\",\"radialaxis\":{\"gridcolor\":\"white\",\"linecolor\":\"white\",\"ticks\":\"\"}},\"scene\":{\"xaxis\":{\"backgroundcolor\":\"#E5ECF6\",\"gridcolor\":\"white\",\"gridwidth\":2,\"linecolor\":\"white\",\"showbackground\":true,\"ticks\":\"\",\"zerolinecolor\":\"white\"},\"yaxis\":{\"backgroundcolor\":\"#E5ECF6\",\"gridcolor\":\"white\",\"gridwidth\":2,\"linecolor\":\"white\",\"showbackground\":true,\"ticks\":\"\",\"zerolinecolor\":\"white\"},\"zaxis\":{\"backgroundcolor\":\"#E5ECF6\",\"gridcolor\":\"white\",\"gridwidth\":2,\"linecolor\":\"white\",\"showbackground\":true,\"ticks\":\"\",\"zerolinecolor\":\"white\"}},\"shapedefaults\":{\"line\":{\"color\":\"#2a3f5f\"}},\"ternary\":{\"aaxis\":{\"gridcolor\":\"white\",\"linecolor\":\"white\",\"ticks\":\"\"},\"baxis\":{\"gridcolor\":\"white\",\"linecolor\":\"white\",\"ticks\":\"\"},\"bgcolor\":\"#E5ECF6\",\"caxis\":{\"gridcolor\":\"white\",\"linecolor\":\"white\",\"ticks\":\"\"}},\"title\":{\"x\":0.05},\"xaxis\":{\"automargin\":true,\"gridcolor\":\"white\",\"linecolor\":\"white\",\"ticks\":\"\",\"title\":{\"standoff\":15},\"zerolinecolor\":\"white\",\"zerolinewidth\":2},\"yaxis\":{\"automargin\":true,\"gridcolor\":\"white\",\"linecolor\":\"white\",\"ticks\":\"\",\"title\":{\"standoff\":15},\"zerolinecolor\":\"white\",\"zerolinewidth\":2}}},\"xaxis\":{\"anchor\":\"y\",\"domain\":[0.0,0.94],\"tickangle\":-90},\"yaxis\":{\"anchor\":\"x\",\"domain\":[0.0,1.0]},\"yaxis2\":{\"anchor\":\"x\",\"overlaying\":\"y\",\"side\":\"right\"},\"height\":600,\"width\":800,\"title\":{\"text\":\"2020 NH3 Prediction Using XgBoost\"}},                        {\"responsive\": true}                    ).then(function(){\n",
       "                            \n",
       "var gd = document.getElementById('b8556f8d-bac7-4ef4-94c1-db35540fa03f');\n",
       "var x = new MutationObserver(function (mutations, observer) {{\n",
       "        var display = window.getComputedStyle(gd).display;\n",
       "        if (!display || display === 'none') {{\n",
       "            console.log([gd, 'removed!']);\n",
       "            Plotly.purge(gd);\n",
       "            observer.disconnect();\n",
       "        }}\n",
       "}});\n",
       "\n",
       "// Listen for the removal of the full notebook cells\n",
       "var notebookContainer = gd.closest('#notebook-container');\n",
       "if (notebookContainer) {{\n",
       "    x.observe(notebookContainer, {childList: true});\n",
       "}}\n",
       "\n",
       "// Listen for the clearing of the current output cell\n",
       "var outputEl = gd.closest('.output');\n",
       "if (outputEl) {{\n",
       "    x.observe(outputEl, {childList: true});\n",
       "}}\n",
       "\n",
       "                        })                };                });            </script>        </div>"
      ]
     },
     "metadata": {},
     "output_type": "display_data"
    }
   ],
   "source": [
    "import plotly.graph_objects as go\n",
    "from plotly.subplots import make_subplots\n",
    "\n",
    "trace1 = go.Scatter(\n",
    "   \n",
    "    y=df_xg.iloc[:,-1],\n",
    "    name=\"Actual\",\n",
    "    marker=dict(\n",
    "        color='rgb(34,163,192)'\n",
    "               )\n",
    ")\n",
    "trace2 = go.Scatter(\n",
    "    y=df_xg.iloc[:,0],\n",
    "    \n",
    "    name='Predicted',\n",
    "    yaxis='y2'\n",
    "\n",
    ")\n",
    "fig = make_subplots(specs=[[{\"secondary_y\": True}]])\n",
    "fig.add_trace(trace1)\n",
    "fig.add_trace(trace2,secondary_y=True)\n",
    "fig['layout'].update(height = 600, width = 800, title = \"2020 NH3 Prediction Using XgBoost\",xaxis=dict(\n",
    "      tickangle=-90\n",
    "    ))\n",
    "fig.show()"
   ]
  },
  {
   "cell_type": "code",
   "execution_count": 64,
   "id": "d282c008",
   "metadata": {},
   "outputs": [],
   "source": [
    "x=df_xg.iloc[85:,0]-df_xg.iloc[85:,-1]"
   ]
  },
  {
   "cell_type": "code",
   "execution_count": 65,
   "id": "946f149c",
   "metadata": {},
   "outputs": [],
   "source": [
    "x=df_xg.iloc[85:,0]-x"
   ]
  },
  {
   "cell_type": "code",
   "execution_count": 66,
   "id": "09fe1bc4",
   "metadata": {},
   "outputs": [
    {
     "data": {
      "text/plain": [
       "29.869183673469383"
      ]
     },
     "execution_count": 66,
     "metadata": {},
     "output_type": "execute_result"
    }
   ],
   "source": [
    "np.mean(x)"
   ]
  },
  {
   "cell_type": "code",
   "execution_count": 67,
   "id": "8425219e",
   "metadata": {},
   "outputs": [],
   "source": [
    "a=np.mean(df_xg.iloc[85:,0])  #predicted"
   ]
  },
  {
   "cell_type": "code",
   "execution_count": 68,
   "id": "ff0c47c0",
   "metadata": {},
   "outputs": [],
   "source": [
    "b=np.mean(df_xg.iloc[85:,-1]) #actual"
   ]
  },
  {
   "cell_type": "code",
   "execution_count": 69,
   "id": "8f93c480",
   "metadata": {},
   "outputs": [],
   "source": [
    "t=(a-b)/a"
   ]
  },
  {
   "cell_type": "code",
   "execution_count": 70,
   "id": "df259bbb",
   "metadata": {},
   "outputs": [
    {
     "data": {
      "text/plain": [
       "0.12109932267156423"
      ]
     },
     "execution_count": 70,
     "metadata": {},
     "output_type": "execute_result"
    }
   ],
   "source": [
    "t"
   ]
  },
  {
   "cell_type": "markdown",
   "id": "74e5351e",
   "metadata": {},
   "source": [
    "### 2.) Decision Tree Model"
   ]
  },
  {
   "cell_type": "code",
   "execution_count": 89,
   "id": "6b65198f",
   "metadata": {},
   "outputs": [
    {
     "ename": "NameError",
     "evalue": "name 'x_train' is not defined",
     "output_type": "error",
     "traceback": [
      "\u001b[1;31m---------------------------------------------------------------------------\u001b[0m",
      "\u001b[1;31mNameError\u001b[0m                                 Traceback (most recent call last)",
      "\u001b[1;32m<ipython-input-89-97a28e188814>\u001b[0m in \u001b[0;36m<module>\u001b[1;34m\u001b[0m\n\u001b[0;32m      1\u001b[0m \u001b[1;32mfrom\u001b[0m \u001b[0msklearn\u001b[0m\u001b[1;33m.\u001b[0m\u001b[0mtree\u001b[0m \u001b[1;32mimport\u001b[0m \u001b[0mDecisionTreeRegressor\u001b[0m\u001b[1;33m;\u001b[0m\u001b[1;33m\u001b[0m\u001b[1;33m\u001b[0m\u001b[0m\n\u001b[0;32m      2\u001b[0m \u001b[0mdtr_regressor\u001b[0m\u001b[1;33m=\u001b[0m\u001b[0mDecisionTreeRegressor\u001b[0m\u001b[1;33m(\u001b[0m\u001b[0mrandom_state\u001b[0m\u001b[1;33m=\u001b[0m\u001b[1;36m0\u001b[0m\u001b[1;33m)\u001b[0m\u001b[1;33m;\u001b[0m\u001b[1;33m\u001b[0m\u001b[1;33m\u001b[0m\u001b[0m\n\u001b[1;32m----> 3\u001b[1;33m \u001b[0mdtr_regressor\u001b[0m\u001b[1;33m.\u001b[0m\u001b[0mfit\u001b[0m\u001b[1;33m(\u001b[0m\u001b[0mx_train\u001b[0m\u001b[1;33m,\u001b[0m\u001b[0my_train\u001b[0m\u001b[1;33m)\u001b[0m\u001b[1;33m;\u001b[0m\u001b[1;33m\u001b[0m\u001b[1;33m\u001b[0m\u001b[0m\n\u001b[0m",
      "\u001b[1;31mNameError\u001b[0m: name 'x_train' is not defined"
     ]
    }
   ],
   "source": [
    "from sklearn.tree import DecisionTreeRegressor;\n",
    "dtr_regressor=DecisionTreeRegressor(random_state=0);\n",
    "dtr_regressor.fit(x_train,y_train);"
   ]
  },
  {
   "cell_type": "markdown",
   "id": "33a87679",
   "metadata": {},
   "source": [
    "### Error In Decision Tree Model"
   ]
  },
  {
   "cell_type": "code",
   "execution_count": 90,
   "id": "de87df8a",
   "metadata": {},
   "outputs": [
    {
     "ename": "NameError",
     "evalue": "name 'x_test' is not defined",
     "output_type": "error",
     "traceback": [
      "\u001b[1;31m---------------------------------------------------------------------------\u001b[0m",
      "\u001b[1;31mNameError\u001b[0m                                 Traceback (most recent call last)",
      "\u001b[1;32m<ipython-input-90-0ba87949613f>\u001b[0m in \u001b[0;36m<module>\u001b[1;34m\u001b[0m\n\u001b[1;32m----> 1\u001b[1;33m \u001b[0mdtr_pred\u001b[0m\u001b[1;33m=\u001b[0m\u001b[0mdtr_regressor\u001b[0m\u001b[1;33m.\u001b[0m\u001b[0mpredict\u001b[0m\u001b[1;33m(\u001b[0m\u001b[0mx_test\u001b[0m\u001b[1;33m)\u001b[0m\u001b[1;33m\u001b[0m\u001b[1;33m\u001b[0m\u001b[0m\n\u001b[0m\u001b[0;32m      2\u001b[0m \u001b[1;32mfrom\u001b[0m \u001b[0msklearn\u001b[0m\u001b[1;33m.\u001b[0m\u001b[0mmetrics\u001b[0m \u001b[1;32mimport\u001b[0m \u001b[0mmean_absolute_percentage_error\u001b[0m\u001b[1;33m\u001b[0m\u001b[1;33m\u001b[0m\u001b[0m\n\u001b[0;32m      3\u001b[0m \u001b[0mmean_absolute_percentage_error\u001b[0m\u001b[1;33m(\u001b[0m\u001b[0my_test\u001b[0m\u001b[1;33m,\u001b[0m\u001b[0mdtr_pred\u001b[0m\u001b[1;33m)\u001b[0m\u001b[1;33m\u001b[0m\u001b[1;33m\u001b[0m\u001b[0m\n",
      "\u001b[1;31mNameError\u001b[0m: name 'x_test' is not defined"
     ]
    }
   ],
   "source": [
    "dtr_pred=dtr_regressor.predict(x_test)\n",
    "from sklearn.metrics import mean_absolute_percentage_error\n",
    "mean_absolute_percentage_error(y_test,dtr_pred)"
   ]
  },
  {
   "cell_type": "markdown",
   "id": "1f8e3369",
   "metadata": {},
   "source": [
    "### 3.) Random Forest Classification"
   ]
  },
  {
   "cell_type": "code",
   "execution_count": 91,
   "id": "e8cfa752",
   "metadata": {},
   "outputs": [
    {
     "ename": "NameError",
     "evalue": "name 'x_train' is not defined",
     "output_type": "error",
     "traceback": [
      "\u001b[1;31m---------------------------------------------------------------------------\u001b[0m",
      "\u001b[1;31mNameError\u001b[0m                                 Traceback (most recent call last)",
      "\u001b[1;32m<ipython-input-91-e9ecde74243b>\u001b[0m in \u001b[0;36m<module>\u001b[1;34m\u001b[0m\n\u001b[0;32m      1\u001b[0m \u001b[1;32mfrom\u001b[0m \u001b[0msklearn\u001b[0m\u001b[1;33m.\u001b[0m\u001b[0mensemble\u001b[0m \u001b[1;32mimport\u001b[0m \u001b[0mRandomForestRegressor\u001b[0m\u001b[1;33m;\u001b[0m\u001b[1;33m\u001b[0m\u001b[1;33m\u001b[0m\u001b[0m\n\u001b[0;32m      2\u001b[0m \u001b[0mrfr_regressor\u001b[0m\u001b[1;33m=\u001b[0m\u001b[0mRandomForestRegressor\u001b[0m\u001b[1;33m(\u001b[0m\u001b[0mn_estimators\u001b[0m\u001b[1;33m=\u001b[0m\u001b[1;36m10\u001b[0m\u001b[1;33m,\u001b[0m\u001b[0mrandom_state\u001b[0m\u001b[1;33m=\u001b[0m\u001b[1;36m0\u001b[0m\u001b[1;33m)\u001b[0m\u001b[1;33m;\u001b[0m\u001b[1;33m\u001b[0m\u001b[1;33m\u001b[0m\u001b[0m\n\u001b[1;32m----> 3\u001b[1;33m \u001b[0mrfr_regressor\u001b[0m\u001b[1;33m.\u001b[0m\u001b[0mfit\u001b[0m\u001b[1;33m(\u001b[0m\u001b[0mx_train\u001b[0m\u001b[1;33m,\u001b[0m\u001b[0my_train\u001b[0m\u001b[1;33m)\u001b[0m\u001b[1;33m;\u001b[0m\u001b[1;33m\u001b[0m\u001b[1;33m\u001b[0m\u001b[0m\n\u001b[0m",
      "\u001b[1;31mNameError\u001b[0m: name 'x_train' is not defined"
     ]
    }
   ],
   "source": [
    "from sklearn.ensemble import RandomForestRegressor;\n",
    "rfr_regressor=RandomForestRegressor(n_estimators=10,random_state=0);\n",
    "rfr_regressor.fit(x_train,y_train);"
   ]
  },
  {
   "cell_type": "code",
   "execution_count": 92,
   "id": "c9e4551c",
   "metadata": {},
   "outputs": [
    {
     "ename": "NameError",
     "evalue": "name 'x_test' is not defined",
     "output_type": "error",
     "traceback": [
      "\u001b[1;31m---------------------------------------------------------------------------\u001b[0m",
      "\u001b[1;31mNameError\u001b[0m                                 Traceback (most recent call last)",
      "\u001b[1;32m<ipython-input-92-46785ef7fed8>\u001b[0m in \u001b[0;36m<module>\u001b[1;34m\u001b[0m\n\u001b[1;32m----> 1\u001b[1;33m \u001b[0mrfr_pred\u001b[0m\u001b[1;33m=\u001b[0m\u001b[0mrfr_regressor\u001b[0m\u001b[1;33m.\u001b[0m\u001b[0mpredict\u001b[0m\u001b[1;33m(\u001b[0m\u001b[0mx_test\u001b[0m\u001b[1;33m)\u001b[0m\u001b[1;33m\u001b[0m\u001b[1;33m\u001b[0m\u001b[0m\n\u001b[0m\u001b[0;32m      2\u001b[0m \u001b[1;32mfrom\u001b[0m \u001b[0msklearn\u001b[0m\u001b[1;33m.\u001b[0m\u001b[0mmetrics\u001b[0m \u001b[1;32mimport\u001b[0m \u001b[0mmean_absolute_percentage_error\u001b[0m\u001b[1;33m\u001b[0m\u001b[1;33m\u001b[0m\u001b[0m\n\u001b[0;32m      3\u001b[0m \u001b[0mmean_absolute_percentage_error\u001b[0m\u001b[1;33m(\u001b[0m\u001b[0my_test\u001b[0m\u001b[1;33m,\u001b[0m\u001b[0mrfr_pred\u001b[0m\u001b[1;33m)\u001b[0m\u001b[1;33m\u001b[0m\u001b[1;33m\u001b[0m\u001b[0m\n",
      "\u001b[1;31mNameError\u001b[0m: name 'x_test' is not defined"
     ]
    }
   ],
   "source": [
    "rfr_pred=rfr_regressor.predict(x_test)\n",
    "from sklearn.metrics import mean_absolute_percentage_error\n",
    "mean_absolute_percentage_error(y_test,rfr_pred)"
   ]
  },
  {
   "cell_type": "code",
   "execution_count": 93,
   "id": "57df5a98",
   "metadata": {},
   "outputs": [
    {
     "data": {
      "text/plain": [
       "(366,)"
      ]
     },
     "execution_count": 93,
     "metadata": {},
     "output_type": "execute_result"
    }
   ],
   "source": [
    "aqi_16.shape"
   ]
  },
  {
   "cell_type": "code",
   "execution_count": null,
   "id": "9a8caaae",
   "metadata": {},
   "outputs": [],
   "source": [
    "aqis=np.concatenate((aqi_15.reshape(365,1),aqi_16[[range(0,365)]].reshape(365,1),aqi_17.reshape(365,1),aqi_18.reshape(365,1),aqi_19.reshape(365,1)),axis=1)\n",
    "aqis"
   ]
  },
  {
   "cell_type": "code",
   "execution_count": null,
   "id": "6253bdc0",
   "metadata": {},
   "outputs": [],
   "source": []
  },
  {
   "cell_type": "code",
   "execution_count": null,
   "id": "4e98ad58",
   "metadata": {},
   "outputs": [],
   "source": [
    "xg_test=np.zeros((365,6));\n",
    "for i in range(0,365,1):\n",
    "    for j in range(0,5,1):\n",
    "        xg_test[i][j]=aqis[i][j];"
   ]
  },
  {
   "cell_type": "code",
   "execution_count": null,
   "id": "87b658dd",
   "metadata": {},
   "outputs": [],
   "source": [
    "xg_pred_2020=xg_regressor.predict(aqis)"
   ]
  },
  {
   "cell_type": "code",
   "execution_count": null,
   "id": "3b96fe93",
   "metadata": {},
   "outputs": [],
   "source": [
    "xg_pred"
   ]
  },
  {
   "cell_type": "code",
   "execution_count": null,
   "id": "5812bf33",
   "metadata": {},
   "outputs": [],
   "source": [
    "aqis_2021=np.concatenate((aqi_16[[range(0,365)]].reshape(365,1),aqi_17.reshape(365,1),aqi_18.reshape(365,1),aqi_19.reshape(365,1),xg_pred_2020.reshape(365,1)),axis=1)"
   ]
  },
  {
   "cell_type": "code",
   "execution_count": null,
   "id": "44c3ba39",
   "metadata": {},
   "outputs": [],
   "source": [
    "xg_regressor.fit(x_train, np.ravel(y_train));"
   ]
  },
  {
   "cell_type": "code",
   "execution_count": null,
   "id": "4eb9e507",
   "metadata": {},
   "outputs": [],
   "source": [
    "fig1=plt.figure()\n",
    "plt.plot(xg_pred_2020[range(0,183)])\n",
    "plt.plot(aqi_20)\n",
    "plt.legend(['prediction 2020','true 2020'])"
   ]
  },
  {
   "cell_type": "code",
   "execution_count": null,
   "id": "4a54d369",
   "metadata": {},
   "outputs": [],
   "source": [
    "from sklearn.impute import SimpleImputer;\n",
    "ds_imputer=SimpleImputer(missing_values=np.nan,strategy='mean');\n",
    "ds_imputer.fit(aqis);\n",
    "aqis=ds_imputer.transform(aqis);"
   ]
  },
  {
   "cell_type": "code",
   "execution_count": null,
   "id": "803d5fa8",
   "metadata": {},
   "outputs": [],
   "source": [
    "plt.plot(xg_regressor.predict(aqis_2021))\n",
    "# plt.plot(dtr_regressor.predict(aqis))\n",
    "plt.plot(regressor.predict(aqis[:,[1,2,3,4]]))\n",
    "plt.legend(['prediction xg','prediction dtr','prediction svr'])"
   ]
  },
  {
   "cell_type": "code",
   "execution_count": null,
   "id": "6cc7a900",
   "metadata": {},
   "outputs": [],
   "source": []
  }
 ],
 "metadata": {
  "kernelspec": {
   "display_name": "Python 3",
   "language": "python",
   "name": "python3"
  },
  "language_info": {
   "codemirror_mode": {
    "name": "ipython",
    "version": 3
   },
   "file_extension": ".py",
   "mimetype": "text/x-python",
   "name": "python",
   "nbconvert_exporter": "python",
   "pygments_lexer": "ipython3",
   "version": "3.8.8"
  }
 },
 "nbformat": 4,
 "nbformat_minor": 5
}
